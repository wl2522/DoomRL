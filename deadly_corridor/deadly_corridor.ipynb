{
 "cells": [
  {
   "cell_type": "code",
   "execution_count": 1,
   "metadata": {
    "ExecuteTime": {
     "end_time": "2018-01-19T03:58:19.109975Z",
     "start_time": "2018-01-19T03:58:17.792193Z"
    },
    "run_control": {
     "frozen": false,
     "read_only": false
    }
   },
   "outputs": [],
   "source": [
    "import importlib.util\n",
    "import scipy.misc\n",
    "import time\n",
    "\n",
    "import tensorflow as tf\n",
    "import numpy as np\n",
    "\n",
    "from tqdm import trange\n",
    "from IPython.display import HTML\n",
    "\n",
    "#Import the vizdoom package as \"vd\" since it can't be installed normally on Windows\n",
    "\n",
    "vd_location = 'C:/Anaconda3/envs/doom/Lib/site-packages/vizdoom/vizdoom.pyd'\n",
    "vizdoom = importlib.util.spec_from_file_location('vizdoom',\n",
    "                                                 vd_location)\n",
    "vd = importlib.util.module_from_spec(vizdoom)\n",
    "vizdoom.loader.exec_module(vd)\n"
   ]
  },
  {
   "cell_type": "code",
   "execution_count": 38,
   "metadata": {
    "ExecuteTime": {
     "end_time": "2018-01-19T03:13:22.137343Z",
     "start_time": "2018-01-19T03:13:21.990701Z"
    },
    "run_control": {
     "frozen": false,
     "read_only": false
    }
   },
   "outputs": [],
   "source": [
    "#Specify the game scenario and the screen format/resolution\n",
    "\n",
    "game = vd.DoomGame()\n",
    "game.set_screen_format(vd.ScreenFormat.BGR24)\n",
    "game.set_depth_buffer_enabled(True)\n",
    "game.set_screen_resolution(vd.ScreenResolution.RES_160X120)\n",
    "game.load_config('deadly_corridor.cfg')\n",
    "\n",
    "down_sample_ratio = 0.5\n",
    "width = int(game.get_screen_width()*down_sample_ratio)\n",
    "height = int(game.get_screen_height()*down_sample_ratio)\n",
    "channels = game.get_screen_channels() + 1\n",
    "\n",
    "#Specify the available actions in the scenario\n",
    "\n",
    "available_actions = game.get_available_buttons()\n",
    "actions = [list(ohe) for ohe in list(np.identity(len(available_actions)))]\n",
    "num_actions = len(available_actions)\n",
    "\n",
    "#Specify the Q-network learning parameters\n",
    "\n",
    "frame_delay = 12\n",
    "buffer_size = 50000\n",
    "epochs = 40\n",
    "steps_per_epoch = 2000\n",
    "discount_factor = 0.99\n",
    "learning_rate = 0.001\n",
    "start_epsilon = 1.0\n",
    "end_epsilon = 0.1\n",
    "batch_size = 100\n",
    "load_model = True\n",
    "save_model = True\n",
    "model_dir = './checkpoints/deadly_corridor.ckpt'\n"
   ]
  },
  {
   "cell_type": "code",
   "execution_count": 41,
   "metadata": {
    "ExecuteTime": {
     "end_time": "2018-01-19T03:19:30.850653Z",
     "start_time": "2018-01-19T03:19:30.557370Z"
    },
    "run_control": {
     "frozen": false,
     "read_only": false
    }
   },
   "outputs": [],
   "source": [
    "#Create a buffer object that holds a set of training experiences (state-action-reward tuples)\n",
    "\n",
    "class Buffer():\n",
    "    def __init__(self, size=1000):\n",
    "        self.buffer = list()\n",
    "        self.length = len(self.buffer)\n",
    "        self.size = size\n",
    "        \n",
    "#Add a new experience to the buffer (remove the oldest experience if the buffer is already full)\n",
    "        \n",
    "    def add_experience(self, experience):\n",
    "        if self.length + 1 >= self.size:\n",
    "            self.buffer[0:(self.length + 1) - self.size] = []\n",
    "        \n",
    "        self.buffer.append(experience)\n",
    "        self.length = len(self.buffer)\n",
    "            \n",
    "#Return a batch of experience arrays randomly sampled from the buffer\n",
    "            \n",
    "    def sample_buffer(self, sample_size):\n",
    "        sample = np.random.randint(self.length, size=sample_size)\n",
    "        s1 = np.concatenate([self.buffer[idx][0] for idx in sample], axis=0)\n",
    "        a = np.array([self.buffer[idx][1] for idx in sample])\n",
    "        r = np.array([self.buffer[idx][2] for idx in sample])\n",
    "        s2 = np.concatenate([self.buffer[idx][3] for idx in sample], axis=0)\n",
    "        terminal = np.array([self.buffer[idx][4] for idx in sample], dtype=np.int32)\n",
    "        \n",
    "        return s1, a, r, s2, terminal\n",
    "\n",
    "#Downsample and normalize an image array representing the game state at a given time stamp\n",
    "\n",
    "def preprocess(image, down_sample_ratio=1):\n",
    "    if down_sample_ratio != 1:\n",
    "        image = scipy.misc.imresize(image, down_sample_ratio)\n",
    "    image = image.astype(np.float32)\n",
    "    image /= 255.0\n",
    "    image = np.expand_dims(image, axis=0)\n",
    "    \n",
    "    return image\n",
    "\n",
    "#Test the agent using a currently training or previously trained model\n",
    "\n",
    "def test_agent(num_episodes, load_model, training=True, session=None, model_dir=None):\n",
    "    if load_model == True:\n",
    "        sess = tf.Session()\n",
    "        print('Loading model from', model_dir)\n",
    "        tf.train.Saver().restore(sess, model_dir)\n",
    "        \n",
    "    elif load_model == False:\n",
    "        sess = session\n",
    "\n",
    "    game.set_sound_enabled(True)\n",
    "    episode_rewards = list()\n",
    "    \n",
    "    if training == False:\n",
    "        game.init()\n",
    "\n",
    "    for i in range(num_episodes):\n",
    "        game.new_episode()\n",
    "    \n",
    "        while not game.is_episode_finished():\n",
    "            state = game.get_state()\n",
    "            buffer = np.concatenate((state.screen_buffer,\n",
    "                                     np.expand_dims(state.depth_buffer,\n",
    "                                                    axis=2)),\n",
    "                                    axis=2)\n",
    "            state1 = preprocess(buffer, down_sample_ratio)\n",
    "            action = choose_action(sess, state1)[0]\n",
    "            reward = game.make_action(actions[action])\n",
    "            time.sleep(0.02)\n",
    "        \n",
    "        episode_rewards.append(game.get_total_reward())\n",
    "        print('Test Episode {} Reward: {}'.format(i + 1, game.get_total_reward()))\n",
    "        time.sleep(1)\n",
    "    \n",
    "    if training == False:\n",
    "        game.close()\n",
    "    \n",
    "    return ('Average Test Reward:', np.mean(episode_rewards))\n"
   ]
  },
  {
   "cell_type": "code",
   "execution_count": 42,
   "metadata": {
    "ExecuteTime": {
     "end_time": "2018-01-19T03:19:54.493499Z",
     "start_time": "2018-01-19T03:19:54.030552Z"
    },
    "run_control": {
     "frozen": false,
     "read_only": false
    }
   },
   "outputs": [],
   "source": [
    "#Create a Q-network to estimate values and choose actions for a given state\n",
    "\n",
    "tf.reset_default_graph()\n",
    "\n",
    "s_t = tf.placeholder(tf.float32, shape=[None, height, width, channels], name='state')\n",
    "a_t = tf.placeholder(tf.int32, shape=[None], name='action')\n",
    "Q_target = tf.placeholder(tf.float32, shape=[None, num_actions], name='Q_target')\n",
    "\n",
    "input_layer = tf.reshape(s_t, [-1, height, width, channels], name='input_layer')\n",
    "conv1 = tf.layers.conv2d(inputs=input_layer,\n",
    "                         filters=32,\n",
    "                         kernel_size=[8, 8],\n",
    "                         strides=[4, 4],\n",
    "                         padding='valid',\n",
    "                         activation=tf.nn.relu,\n",
    "                         name='conv1_layer')\n",
    "conv2 = tf.layers.conv2d(inputs=conv1,\n",
    "                         filters=64,\n",
    "                         kernel_size=[4, 4],\n",
    "                         strides=[2, 2],\n",
    "                         padding='valid',\n",
    "                         activation=tf.nn.relu,\n",
    "                         name='conv2_layer')\n",
    "flatten = tf.reshape(conv2, [-1, 6*8*64], name='flatten')\n",
    "dense1 = tf.layers.dense(inputs=flatten,\n",
    "                         units=512,\n",
    "                         activation=tf.nn.relu,\n",
    "                         name='dense1_layer')\n",
    "Q_values = tf.layers.dense(inputs=dense1,\n",
    "                           units=len(actions),\n",
    "                           activation=None,\n",
    "                           name='output_layer')        \n",
    "    \n",
    "best_action = tf.argmax(Q_values, 1)\n",
    "loss = tf.losses.mean_squared_error(Q_values, Q_target)\n",
    "adam = tf.train.AdamOptimizer(learning_rate=learning_rate, name='adam').minimize(loss)\n",
    "\n",
    "def calculate_loss(session, s, q):\n",
    "    L, _ = session.run([loss, adam], feed_dict={s_t: s, Q_target: q})\n",
    "    \n",
    "    return L\n",
    "\n",
    "#Return the array of Q-values and the best action associated with a given state\n",
    "\n",
    "def get_Q_values(session, s):\n",
    "    Q = session.run(Q_values, feed_dict={s_t: s})\n",
    "\n",
    "    return Q\n",
    "    \n",
    "def choose_action(session, s):\n",
    "    a = session.run(best_action, feed_dict={s_t: s})\n",
    "    \n",
    "    return a\n"
   ]
  },
  {
   "cell_type": "code",
   "execution_count": 43,
   "metadata": {
    "ExecuteTime": {
     "end_time": "2018-01-19T03:55:07.660225Z",
     "start_time": "2018-01-19T03:19:58.633500Z"
    },
    "run_control": {
     "frozen": false,
     "read_only": false
    },
    "scrolled": true
   },
   "outputs": [
    {
     "name": "stdout",
     "output_type": "stream",
     "text": [
      "Loading model from ./checkpoints/deadly_corridor.ckpt\n",
      "INFO:tensorflow:Restoring parameters from ./checkpoints/deadly_corridor.ckpt\n"
     ]
    },
    {
     "name": "stderr",
     "output_type": "stream",
     "text": [
      "100%|██████████| 200/200 [00:29<00:00,  6.74it/s]\n"
     ]
    },
    {
     "name": "stdout",
     "output_type": "stream",
     "text": [
      "Epoch 1 Mean Reward: 124.19927780151367\n",
      "Epoch 1 Model saved to ./checkpoints/deadly_corridor.ckpt\n",
      "Loading model from ./checkpoints/deadly_corridor.ckpt\n",
      "INFO:tensorflow:Restoring parameters from ./checkpoints/deadly_corridor.ckpt\n",
      "Test Episode 1 Reward: 84.17875671386719\n",
      "Test Episode 2 Reward: 84.0882568359375\n",
      "Test Episode 3 Reward: 84.04368591308594\n",
      "Test Episode 4 Reward: 84.17875671386719\n",
      "Test Episode 5 Reward: 84.17875671386719\n",
      "Test Episode 6 Reward: 84.02003479003906\n",
      "Test Episode 7 Reward: 84.11338806152344\n",
      "Test Episode 8 Reward: 84.17875671386719\n",
      "Test Episode 9 Reward: 84.02165222167969\n",
      "Test Episode 10 Reward: 84.08804321289062\n"
     ]
    },
    {
     "name": "stderr",
     "output_type": "stream",
     "text": [
      "100%|██████████| 200/200 [00:27<00:00,  7.18it/s]\n"
     ]
    },
    {
     "name": "stdout",
     "output_type": "stream",
     "text": [
      "Epoch 2 Mean Reward: 123.75431213378906\n",
      "Epoch 2 Model saved to ./checkpoints/deadly_corridor.ckpt\n"
     ]
    },
    {
     "name": "stderr",
     "output_type": "stream",
     "text": [
      "100%|██████████| 200/200 [00:26<00:00,  7.43it/s]\n"
     ]
    },
    {
     "name": "stdout",
     "output_type": "stream",
     "text": [
      "Epoch 3 Mean Reward: 130.18446998596193\n",
      "Epoch 3 Model saved to ./checkpoints/deadly_corridor.ckpt\n"
     ]
    },
    {
     "name": "stderr",
     "output_type": "stream",
     "text": [
      "100%|██████████| 200/200 [00:27<00:00,  7.27it/s]\n"
     ]
    },
    {
     "name": "stdout",
     "output_type": "stream",
     "text": [
      "Epoch 4 Mean Reward: 131.7388217163086\n",
      "Epoch 4 Model saved to ./checkpoints/deadly_corridor.ckpt\n"
     ]
    },
    {
     "name": "stderr",
     "output_type": "stream",
     "text": [
      "100%|██████████| 200/200 [00:31<00:00,  6.31it/s]\n"
     ]
    },
    {
     "name": "stdout",
     "output_type": "stream",
     "text": [
      "Epoch 5 Mean Reward: 135.2420574951172\n",
      "Epoch 5 Model saved to ./checkpoints/deadly_corridor.ckpt\n"
     ]
    },
    {
     "name": "stderr",
     "output_type": "stream",
     "text": [
      "100%|██████████| 200/200 [00:30<00:00,  6.64it/s]\n"
     ]
    },
    {
     "name": "stdout",
     "output_type": "stream",
     "text": [
      "Epoch 6 Mean Reward: 140.85665336608886\n",
      "Epoch 6 Model saved to ./checkpoints/deadly_corridor.ckpt\n"
     ]
    },
    {
     "name": "stderr",
     "output_type": "stream",
     "text": [
      "100%|██████████| 200/200 [00:31<00:00,  6.43it/s]\n"
     ]
    },
    {
     "name": "stdout",
     "output_type": "stream",
     "text": [
      "Epoch 7 Mean Reward: 131.1745918273926\n",
      "Epoch 7 Model saved to ./checkpoints/deadly_corridor.ckpt\n"
     ]
    },
    {
     "name": "stderr",
     "output_type": "stream",
     "text": [
      "100%|██████████| 200/200 [00:29<00:00,  6.77it/s]\n"
     ]
    },
    {
     "name": "stdout",
     "output_type": "stream",
     "text": [
      "Epoch 8 Mean Reward: 136.09171058654786\n",
      "Epoch 8 Model saved to ./checkpoints/deadly_corridor.ckpt\n"
     ]
    },
    {
     "name": "stderr",
     "output_type": "stream",
     "text": [
      "100%|██████████| 200/200 [00:29<00:00,  6.88it/s]\n"
     ]
    },
    {
     "name": "stdout",
     "output_type": "stream",
     "text": [
      "Epoch 9 Mean Reward: 133.3774912261963\n",
      "Epoch 9 Model saved to ./checkpoints/deadly_corridor.ckpt\n"
     ]
    },
    {
     "name": "stderr",
     "output_type": "stream",
     "text": [
      "100%|██████████| 200/200 [00:33<00:00,  5.97it/s]\n"
     ]
    },
    {
     "name": "stdout",
     "output_type": "stream",
     "text": [
      "Epoch 10 Mean Reward: 137.90078353881836\n",
      "Epoch 10 Model saved to ./checkpoints/deadly_corridor.ckpt\n"
     ]
    },
    {
     "name": "stderr",
     "output_type": "stream",
     "text": [
      "100%|██████████| 200/200 [00:44<00:00,  4.50it/s]\n"
     ]
    },
    {
     "name": "stdout",
     "output_type": "stream",
     "text": [
      "Epoch 11 Mean Reward: 136.7114636993408\n",
      "Epoch 11 Model saved to ./checkpoints/deadly_corridor.ckpt\n",
      "Loading model from ./checkpoints/deadly_corridor.ckpt\n",
      "INFO:tensorflow:Restoring parameters from ./checkpoints/deadly_corridor.ckpt\n",
      "Test Episode 1 Reward: 84.17875671386719\n",
      "Test Episode 2 Reward: 84.02400207519531\n",
      "Test Episode 3 Reward: 84.17875671386719\n",
      "Test Episode 4 Reward: 84.17875671386719\n",
      "Test Episode 5 Reward: 84.04461669921875\n",
      "Test Episode 6 Reward: 84.06651306152344\n",
      "Test Episode 7 Reward: 84.02003479003906\n",
      "Test Episode 8 Reward: 84.04368591308594\n",
      "Test Episode 9 Reward: 84.17875671386719\n",
      "Test Episode 10 Reward: 84.13008117675781\n"
     ]
    },
    {
     "name": "stderr",
     "output_type": "stream",
     "text": [
      "100%|██████████| 200/200 [00:39<00:00,  5.02it/s]\n"
     ]
    },
    {
     "name": "stdout",
     "output_type": "stream",
     "text": [
      "Epoch 12 Mean Reward: 134.58923225402833\n",
      "Epoch 12 Model saved to ./checkpoints/deadly_corridor.ckpt\n"
     ]
    },
    {
     "name": "stderr",
     "output_type": "stream",
     "text": [
      "100%|██████████| 200/200 [00:56<00:00,  3.51it/s]\n"
     ]
    },
    {
     "name": "stdout",
     "output_type": "stream",
     "text": [
      "Epoch 13 Mean Reward: 130.9185460662842\n",
      "Epoch 13 Model saved to ./checkpoints/deadly_corridor.ckpt\n"
     ]
    },
    {
     "name": "stderr",
     "output_type": "stream",
     "text": [
      "100%|██████████| 200/200 [01:00<00:00,  3.31it/s]\n"
     ]
    },
    {
     "name": "stdout",
     "output_type": "stream",
     "text": [
      "Epoch 14 Mean Reward: 138.94172439575195\n",
      "Epoch 14 Model saved to ./checkpoints/deadly_corridor.ckpt\n"
     ]
    },
    {
     "name": "stderr",
     "output_type": "stream",
     "text": [
      "100%|██████████| 200/200 [00:51<00:00,  3.90it/s]\n"
     ]
    },
    {
     "name": "stdout",
     "output_type": "stream",
     "text": [
      "Epoch 15 Mean Reward: 124.83926788330078\n",
      "Epoch 15 Model saved to ./checkpoints/deadly_corridor.ckpt\n"
     ]
    },
    {
     "name": "stderr",
     "output_type": "stream",
     "text": [
      "100%|██████████| 200/200 [01:24<00:00,  2.38it/s]\n"
     ]
    },
    {
     "name": "stdout",
     "output_type": "stream",
     "text": [
      "Epoch 16 Mean Reward: 141.11394065856933\n",
      "Epoch 16 Model saved to ./checkpoints/deadly_corridor.ckpt\n"
     ]
    },
    {
     "name": "stderr",
     "output_type": "stream",
     "text": [
      "100%|██████████| 200/200 [01:32<00:00,  2.16it/s]\n"
     ]
    },
    {
     "name": "stdout",
     "output_type": "stream",
     "text": [
      "Epoch 17 Mean Reward: 142.12135818481445\n",
      "Epoch 17 Model saved to ./checkpoints/deadly_corridor.ckpt\n"
     ]
    },
    {
     "name": "stderr",
     "output_type": "stream",
     "text": [
      "100%|██████████| 200/200 [01:53<00:00,  1.77it/s]\n"
     ]
    },
    {
     "name": "stdout",
     "output_type": "stream",
     "text": [
      "Epoch 18 Mean Reward: 123.14656517028808\n",
      "Epoch 18 Model saved to ./checkpoints/deadly_corridor.ckpt\n"
     ]
    },
    {
     "name": "stderr",
     "output_type": "stream",
     "text": [
      "100%|██████████| 200/200 [01:46<00:00,  1.88it/s]\n"
     ]
    },
    {
     "name": "stdout",
     "output_type": "stream",
     "text": [
      "Epoch 19 Mean Reward: 140.68948944091798\n",
      "Epoch 19 Model saved to ./checkpoints/deadly_corridor.ckpt\n"
     ]
    },
    {
     "name": "stderr",
     "output_type": "stream",
     "text": [
      "100%|██████████| 200/200 [02:01<00:00,  1.64it/s]\n"
     ]
    },
    {
     "name": "stdout",
     "output_type": "stream",
     "text": [
      "Epoch 20 Mean Reward: 116.32652534484863\n",
      "Epoch 20 Model saved to ./checkpoints/deadly_corridor.ckpt\n"
     ]
    },
    {
     "name": "stderr",
     "output_type": "stream",
     "text": [
      "100%|██████████| 200/200 [02:23<00:00,  1.39it/s]\n"
     ]
    },
    {
     "name": "stdout",
     "output_type": "stream",
     "text": [
      "Epoch 21 Mean Reward: 104.45860725402832\n",
      "Epoch 21 Model saved to ./checkpoints/deadly_corridor.ckpt\n",
      "Loading model from ./checkpoints/deadly_corridor.ckpt\n",
      "INFO:tensorflow:Restoring parameters from ./checkpoints/deadly_corridor.ckpt\n",
      "Test Episode 1 Reward: 84.06651306152344\n",
      "Test Episode 2 Reward: 84.17875671386719\n",
      "Test Episode 3 Reward: 84.021484375\n",
      "Test Episode 4 Reward: 84.11024475097656\n",
      "Test Episode 5 Reward: 84.06504821777344\n",
      "Test Episode 6 Reward: 84.17875671386719\n",
      "Test Episode 7 Reward: 84.13105773925781\n",
      "Test Episode 8 Reward: 84.17875671386719\n",
      "Test Episode 9 Reward: 84.02398681640625\n",
      "Test Episode 10 Reward: 84.17875671386719\n"
     ]
    },
    {
     "name": "stderr",
     "output_type": "stream",
     "text": [
      "100%|██████████| 200/200 [02:02<00:00,  1.64it/s]\n"
     ]
    },
    {
     "name": "stdout",
     "output_type": "stream",
     "text": [
      "Epoch 22 Mean Reward: 199.75455345153807\n",
      "Epoch 22 Model saved to ./checkpoints/deadly_corridor.ckpt\n"
     ]
    },
    {
     "name": "stderr",
     "output_type": "stream",
     "text": [
      "100%|██████████| 200/200 [01:50<00:00,  1.82it/s]\n"
     ]
    },
    {
     "name": "stdout",
     "output_type": "stream",
     "text": [
      "Epoch 23 Mean Reward: 113.43198715209961\n",
      "Epoch 23 Model saved to ./checkpoints/deadly_corridor.ckpt\n"
     ]
    },
    {
     "name": "stderr",
     "output_type": "stream",
     "text": [
      "100%|██████████| 200/200 [01:30<00:00,  2.20it/s]\n"
     ]
    },
    {
     "name": "stdout",
     "output_type": "stream",
     "text": [
      "Epoch 24 Mean Reward: 127.56523567199707\n",
      "Epoch 24 Model saved to ./checkpoints/deadly_corridor.ckpt\n"
     ]
    },
    {
     "name": "stderr",
     "output_type": "stream",
     "text": [
      "100%|██████████| 200/200 [01:33<00:00,  2.14it/s]\n"
     ]
    },
    {
     "name": "stdout",
     "output_type": "stream",
     "text": [
      "Epoch 25 Mean Reward: 147.83740425109863\n",
      "Epoch 25 Model saved to ./checkpoints/deadly_corridor.ckpt\n"
     ]
    },
    {
     "name": "stderr",
     "output_type": "stream",
     "text": [
      "100%|██████████| 200/200 [00:53<00:00,  3.72it/s]\n"
     ]
    },
    {
     "name": "stdout",
     "output_type": "stream",
     "text": [
      "Epoch 26 Mean Reward: 186.9592300415039\n",
      "Epoch 26 Model saved to ./checkpoints/deadly_corridor.ckpt\n"
     ]
    },
    {
     "name": "stderr",
     "output_type": "stream",
     "text": [
      "100%|██████████| 200/200 [00:50<00:00,  3.96it/s]\n"
     ]
    },
    {
     "name": "stdout",
     "output_type": "stream",
     "text": [
      "Epoch 27 Mean Reward: 180.36884506225587\n",
      "Epoch 27 Model saved to ./checkpoints/deadly_corridor.ckpt\n"
     ]
    },
    {
     "name": "stderr",
     "output_type": "stream",
     "text": [
      "100%|██████████| 200/200 [01:11<00:00,  2.78it/s]\n"
     ]
    },
    {
     "name": "stdout",
     "output_type": "stream",
     "text": [
      "Epoch 28 Mean Reward: 153.12448875427245\n",
      "Epoch 28 Model saved to ./checkpoints/deadly_corridor.ckpt\n"
     ]
    },
    {
     "name": "stderr",
     "output_type": "stream",
     "text": [
      "100%|██████████| 200/200 [01:22<00:00,  2.41it/s]\n"
     ]
    },
    {
     "name": "stdout",
     "output_type": "stream",
     "text": [
      "Epoch 29 Mean Reward: 168.1335831451416\n",
      "Epoch 29 Model saved to ./checkpoints/deadly_corridor.ckpt\n"
     ]
    },
    {
     "name": "stderr",
     "output_type": "stream",
     "text": [
      "100%|██████████| 200/200 [01:16<00:00,  2.62it/s]\n"
     ]
    },
    {
     "name": "stdout",
     "output_type": "stream",
     "text": [
      "Epoch 30 Mean Reward: 114.92005027770996\n",
      "Epoch 30 Model saved to ./checkpoints/deadly_corridor.ckpt\n",
      "163454 time steps experienced during training\n"
     ]
    }
   ],
   "source": [
    "#For each time step, collect the following data:\n",
    "#The current game state\n",
    "#The action that was taken taken\n",
    "#The reward obtained from the chosen action\n",
    "#The next game state (store the first game state if the previous action ends the episode)\n",
    "#A variable indicating whether the episode is over yet\n",
    "\n",
    "\n",
    "exp_buffer = Buffer(size=buffer_size)\n",
    "session = tf.Session()\n",
    "saver = tf.train.Saver()\n",
    "\n",
    "if load_model == True:\n",
    "    print('Loading model from', model_dir)\n",
    "    tf.train.Saver().restore(session, model_dir)\n",
    "    \n",
    "elif load_model == False:\n",
    "    session.run(tf.global_variables_initializer())\n",
    "\n",
    "game.set_sound_enabled(False)\n",
    "game.init()\n",
    "t = 0\n",
    "\n",
    "#Accumulate experiences in the buffer using an epsilon-greedy strategy with three training phases\n",
    "\n",
    "for epoch in range(epochs):\n",
    "    epoch_rewards = list()\n",
    "    \n",
    "    for step in trange(steps_per_epoch, leave=True):\n",
    "        experience = list()\n",
    "        game.new_episode()\n",
    "        \n",
    "        while not game.is_episode_finished():\n",
    "            state = game.get_state()\n",
    "            state1 = preprocess(np.concatenate((state.screen_buffer,\n",
    "                                                np.expand_dims(state.depth_buffer, axis=2)),\n",
    "                                                axis=2),\n",
    "                                               down_sample_ratio)\n",
    "            \n",
    "#Explore the environment by choosing random actions with 100% probability for the first phase of training\n",
    "\n",
    "            if epoch < 0.3*epochs:\n",
    "                action = np.random.randint(num_actions)\n",
    "            \n",
    "#Increase the probability of greedily choosing an action by a constant amount at each epoch in the second phase\n",
    "            \n",
    "            elif epoch < 0.9*epochs:\n",
    "                epsilon = start_epsilon - (epoch + 1 - 0.2*epochs)*(start_epsilon-end_epsilon)/(0.7*epochs)\n",
    "            \n",
    "                if np.random.uniform(0, 1) <= epsilon:\n",
    "                    action = np.random.randint(num_actions)\n",
    "                \n",
    "                else:\n",
    "                    action = choose_action(session, state1)[0]\n",
    "\n",
    "#Select a random action with 10% probability in the final phase of training\n",
    "                \n",
    "            else:\n",
    "                if np.random.uniform(0, 1) <= end_epsilon:\n",
    "                    action = np.random.randint(num_actions)\n",
    "                    \n",
    "                else:\n",
    "                    action = choose_action(session, state1)[0]\n",
    "\n",
    "            reward = game.make_action(actions[action], frame_delay)\n",
    "            done = game.is_episode_finished()\n",
    "            \n",
    "            if done == False:\n",
    "                state = game.get_state()\n",
    "                state2 = preprocess(np.concatenate((state.screen_buffer,\n",
    "                                                    np.expand_dims(state.depth_buffer, axis=2)),\n",
    "                                                    axis=2),\n",
    "                                                    down_sample_ratio)\n",
    "        \n",
    "            elif done == True:\n",
    "                state2 = state1\n",
    "        \n",
    "#Add the experience obtained from each time step to the buffer\n",
    "\n",
    "            t += 1\n",
    "            exp_buffer.add_experience((state1, action, reward, state2, done))\n",
    "        \n",
    "#Sample a minibatch from the buffer if there are enough experiences in the buffer\n",
    "\n",
    "        if exp_buffer.length > batch_size:\n",
    "            s1, a, r, s2, terminal = exp_buffer.sample_buffer(batch_size)\n",
    "            \n",
    "#Train the Q-network by using the minibatch to update the action-value function Q\n",
    "            \n",
    "            Q2 = np.max(get_Q_values(session, s2), axis=1)\n",
    "            target_Q = get_Q_values(session, s1)\n",
    "            target_Q[np.arange(batch_size), a] = r + discount_factor*(1 - terminal)*Q2\n",
    "            calculate_loss(session, s1, target_Q)\n",
    "            \n",
    "        epoch_rewards.append(game.get_total_reward())\n",
    "        \n",
    "    print('Epoch {} Mean Reward: {}'.format(epoch + 1, np.mean(epoch_rewards)))\n",
    "    \n",
    "    if (epoch + 1) % 10 == 0 and epoch > 0:\n",
    "        print('Epoch {} test:'.format(epoch + 1))\n",
    "        test_agent(num_episodes=10, load_model=True, model_dir=model_dir)\n",
    "        \n",
    "        if save_model == True:\n",
    "            print('Epoch {} Model saved to {}'.format(epoch + 1, model_dir))\n",
    "            saver.save(session, model_dir, global_step=epoch + 1)\n",
    "        \n",
    "print('{} time steps experienced during training'.format(t))\n",
    "game.close()\n",
    "    "
   ]
  },
  {
   "cell_type": "code",
   "execution_count": 37,
   "metadata": {
    "ExecuteTime": {
     "end_time": "2018-01-19T03:11:42.054630Z",
     "start_time": "2018-01-19T03:11:10.052707Z"
    },
    "run_control": {
     "frozen": false,
     "read_only": false
    }
   },
   "outputs": [
    {
     "name": "stdout",
     "output_type": "stream",
     "text": [
      "Test Episode 1 Reward: 84.00428771972656\n",
      "Test Episode 2 Reward: 84.17875671386719\n",
      "Test Episode 3 Reward: 84.17875671386719\n",
      "Test Episode 4 Reward: 84.02398681640625\n",
      "Test Episode 5 Reward: 84.0443115234375\n",
      "Test Episode 6 Reward: 84.02200317382812\n",
      "Test Episode 7 Reward: 84.0416259765625\n",
      "Test Episode 8 Reward: 84.17875671386719\n",
      "Test Episode 9 Reward: 84.02398681640625\n",
      "Test Episode 10 Reward: 84.17875671386719\n"
     ]
    }
   ],
   "source": [
    "epoch = 50\n",
    "if epoch % 10 == 0:\n",
    "        test_agent(10, training=False, load_model=False, session=session, model_dir=model_dir)"
   ]
  },
  {
   "cell_type": "code",
   "execution_count": 27,
   "metadata": {
    "ExecuteTime": {
     "end_time": "2018-01-19T03:02:03.827672Z",
     "start_time": "2018-01-19T03:01:37.870089Z"
    },
    "run_control": {
     "frozen": false,
     "read_only": false
    }
   },
   "outputs": [
    {
     "name": "stdout",
     "output_type": "stream",
     "text": [
      "Loading model from ./checkpoints/deadly_corridor.ckpt\n",
      "INFO:tensorflow:Restoring parameters from ./checkpoints/deadly_corridor.ckpt\n",
      "Test Episode 1 Reward: 84.03608703613281\n",
      "Test Episode 2 Reward: 84.17875671386719\n",
      "Test Episode 3 Reward: 84.02197265625\n",
      "Test Episode 4 Reward: 84.17875671386719\n",
      "Test Episode 5 Reward: 84.17875671386719\n",
      "Average Test Reward: 84.1188659668\n"
     ]
    }
   ],
   "source": [
    "#Test the fully trained model by only choosing actions with a greedy strategy\n",
    "\n",
    "#tf.reset_default_graph()\n",
    "session = tf.Session()\n",
    "\n",
    "if load_model == True:\n",
    "    #saver = tf.train.import_meta_graph(model_dir + '.meta')\n",
    "    #session.run(tf.global_variables_initializer())\n",
    "    print('Loading model from', model_dir)\n",
    "    #saver.restore(session, model_dir)\n",
    "    tf.train.Saver().restore(session, model_dir)\n",
    "\n",
    "game.set_sound_enabled(True)\n",
    "game.init()\n",
    "episode_rewards = list()\n",
    "\n",
    "for i in range(5):\n",
    "    game.new_episode()\n",
    "    \n",
    "    while not game.is_episode_finished():\n",
    "        state = game.get_state()\n",
    "        state1 = preprocess(np.concatenate((state.screen_buffer,\n",
    "                                            np.expand_dims(state.depth_buffer, axis=2)),\n",
    "                                            axis=2),\n",
    "                            down_sample_ratio)\n",
    "        action = choose_action(session, state1)[0]\n",
    "        reward = game.make_action(actions[action])\n",
    "        time.sleep(0.02)\n",
    "        \n",
    "    episode_rewards.append(game.get_total_reward())\n",
    "    print('Test Episode {} Reward: {}'.format(i + 1, game.get_total_reward()))\n",
    "    time.sleep(1)\n",
    "    \n",
    "game.close()\n",
    "print('Average Test Reward:', np.mean(episode_rewards))\n"
   ]
  },
  {
   "cell_type": "code",
   "execution_count": 36,
   "metadata": {
    "ExecuteTime": {
     "end_time": "2018-01-19T03:11:02.761162Z",
     "start_time": "2018-01-19T03:11:02.574481Z"
    },
    "run_control": {
     "frozen": false,
     "read_only": false
    }
   },
   "outputs": [],
   "source": [
    "game.close()"
   ]
  },
  {
   "cell_type": "code",
   "execution_count": null,
   "metadata": {
    "run_control": {
     "frozen": false,
     "read_only": false
    }
   },
   "outputs": [],
   "source": []
  }
 ],
 "metadata": {
  "kernelspec": {
   "display_name": "Python 3 (Spyder)",
   "language": "python3",
   "name": "python3"
  },
  "language_info": {
   "codemirror_mode": {
    "name": "ipython",
    "version": 3
   },
   "file_extension": ".py",
   "mimetype": "text/x-python",
   "name": "python",
   "nbconvert_exporter": "python",
   "pygments_lexer": "ipython3",
   "version": "3.6.3"
  }
 },
 "nbformat": 4,
 "nbformat_minor": 2
}
