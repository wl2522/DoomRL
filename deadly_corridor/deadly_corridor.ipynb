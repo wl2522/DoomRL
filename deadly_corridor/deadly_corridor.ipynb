{
 "cells": [
  {
   "cell_type": "code",
   "execution_count": 1,
   "metadata": {
    "ExecuteTime": {
     "end_time": "2018-02-14T12:40:03.151216Z",
     "start_time": "2018-02-14T12:40:01.055192Z"
    },
    "run_control": {
     "frozen": false,
     "read_only": false
    }
   },
   "outputs": [],
   "source": [
    "import time\n",
    "\n",
    "import tensorflow as tf\n",
    "import numpy as np\n",
    "import vizdoom as vd\n",
    "\n",
    "from skimage.transform import rescale\n",
    "from tqdm import trange\n",
    "from IPython.display import HTML\n"
   ]
  },
  {
   "cell_type": "code",
   "execution_count": 2,
   "metadata": {
    "ExecuteTime": {
     "end_time": "2018-02-14T12:40:03.295355Z",
     "start_time": "2018-02-14T12:40:03.152217Z"
    },
    "run_control": {
     "frozen": false,
     "read_only": false
    }
   },
   "outputs": [],
   "source": [
    "#Specify the game scenario and the screen format/resolution\n",
    "\n",
    "game = vd.DoomGame()\n",
    "game.set_screen_format(vd.ScreenFormat.GRAY8)\n",
    "game.set_depth_buffer_enabled(True)\n",
    "game.set_screen_resolution(vd.ScreenResolution.RES_160X120)\n",
    "game.load_config('deadly_corridor.cfg')\n",
    "\n",
    "down_sample_ratio = 1\n",
    "width = int(game.get_screen_width()*down_sample_ratio)\n",
    "height = int(game.get_screen_height()*down_sample_ratio)\n",
    "channels = game.get_screen_channels() + int(game.is_depth_buffer_enabled())\n",
    "\n",
    "#Specify the available actions in the scenario\n",
    "\n",
    "available_actions = game.get_available_buttons()\n",
    "actions = [list(ohe) for ohe in list(np.identity(len(available_actions)))]\n",
    "num_actions = len(available_actions)\n",
    "\n",
    "#Specify the Q-network learning parameters\n",
    "\n",
    "frame_delay = 12\n",
    "buffer_size = 75000\n",
    "epochs = 400\n",
    "steps_per_epoch = 2000\n",
    "learning_rate = 0.0025\n",
    "gamma = 0\n",
    "start_epsilon = 1.0\n",
    "end_epsilon = 0.1\n",
    "batch_size = 100\n",
    "load_model = False\n",
    "save_model = True\n",
    "model_dir = './checkpoints/deadly_corridor.ckpt'\n",
    "num_ckpts = 20\n"
   ]
  },
  {
   "cell_type": "code",
   "execution_count": 3,
   "metadata": {
    "ExecuteTime": {
     "end_time": "2018-02-09T03:23:37.780659Z",
     "start_time": "2018-02-09T03:23:37.420489Z"
    },
    "run_control": {
     "frozen": false,
     "read_only": false
    }
   },
   "outputs": [],
   "source": [
    "#Create a buffer object that holds a set of training experiences (state-action-reward tuples)\n",
    "\n",
    "class Buffer():\n",
    "    def __init__(self, size=1000):\n",
    "        self.buffer = list()\n",
    "        self.length = len(self.buffer)\n",
    "        self.size = size\n",
    "        \n",
    "#Add a new experience to the buffer (remove the oldest experience if the buffer is already full)\n",
    "        \n",
    "    def add_experience(self, experience):\n",
    "        if self.length + 1 >= self.size:\n",
    "            self.buffer[0:(self.length + 1) - self.size] = []\n",
    "        \n",
    "        self.buffer.append(experience)\n",
    "        self.length = len(self.buffer)\n",
    "            \n",
    "#Return a batch of experience arrays randomly sampled from the buffer\n",
    "            \n",
    "    def sample_buffer(self, sample_size):\n",
    "        sample = np.random.randint(self.length, size=sample_size)\n",
    "        s1 = np.concatenate([self.buffer[idx][0] for idx in sample], axis=0)\n",
    "        a = np.array([self.buffer[idx][1] for idx in sample])\n",
    "        r = np.array([self.buffer[idx][2] for idx in sample])\n",
    "        s2 = np.concatenate([self.buffer[idx][3] for idx in sample], axis=0)\n",
    "        terminal = np.array([self.buffer[idx][4] for idx in sample], dtype=np.int32)\n",
    "        \n",
    "        return s1, a, r, s2, terminal\n",
    "\n",
    "#Downsample and normalize an image array representing the game state at a given time stamp\n",
    "\n",
    "def preprocess(image, down_sample_ratio=1):\n",
    "    if float(down_sample_ratio) != 1.0:\n",
    "        image = rescale(image=image, scale=down_sample_ratio, mode='reflect')\n",
    "    image = image.astype(np.float32)\n",
    "    image = np.expand_dims(image, axis=0)\n",
    "\n",
    "    return image\n",
    "\n",
    "#Test the agent using a currently training or previously trained model\n",
    "\n",
    "def test_agent(model, num_episodes, load_model, depth, training=True, session=None, model_dir=None):\n",
    "    if load_model == True:\n",
    "        sess = tf.Session()\n",
    "        print('Loading model from', model_dir)\n",
    "        tf.train.Saver().restore(sess, model_dir)\n",
    "        \n",
    "#Require an existing session if a pretrained model isn't provided\n",
    "        \n",
    "    elif load_model == False:\n",
    "        sess = session\n",
    "\n",
    "    game.set_sound_enabled(True)\n",
    "    episode_rewards = list()\n",
    "    \n",
    "#Avoid reinitializing the game if this was already done by the training process\n",
    "    \n",
    "    if training == False:\n",
    "        game.init()\n",
    "\n",
    "    for i in range(num_episodes):\n",
    "        game.new_episode()\n",
    "    \n",
    "        while not game.is_episode_finished():\n",
    "            state = game.get_state()\n",
    "            \n",
    "            if depth == False:\n",
    "                depth_buffer = np.zeros(state.screen_buffer.shape)\n",
    "            elif depth == True:\n",
    "                depth_buffer = state.depth_buffer\n",
    "                \n",
    "            state_buffer = np.stack((state.screen_buffer,\n",
    "                                     depth_buffer), axis=-1)\n",
    "            state1 = preprocess(state_buffer, down_sample_ratio)\n",
    "            action = model.choose_action(sess, state1)[0]\n",
    "            reward = game.make_action(actions[action])\n",
    "            \n",
    "#Add a delay between each time step so that the episodes occur at normal speed\n",
    "\n",
    "            time.sleep(0.02)\n",
    "        \n",
    "        episode_rewards.append(game.get_total_reward())\n",
    "        print('Test Episode {} Reward: {}'.format(i + 1, game.get_total_reward()))\n",
    "        time.sleep(1)\n",
    "    \n",
    "#Avoid ending the game so that the training process can continue\n",
    "    \n",
    "    if training == False:\n",
    "        game.close()\n",
    "    \n",
    "    return np.mean(episode_rewards)\n"
   ]
  },
  {
   "cell_type": "code",
   "execution_count": 4,
   "metadata": {
    "ExecuteTime": {
     "end_time": "2018-02-09T03:23:38.091960Z",
     "start_time": "2018-02-09T03:23:37.781660Z"
    },
    "run_control": {
     "frozen": false,
     "read_only": false
    }
   },
   "outputs": [],
   "source": [
    "#Create a Q-network to estimate values and choose actions for a given state\n",
    "\n",
    "class Q_network():\n",
    "    def __init__(self, network_name, height, width, channels, learning_rate=0.001):\n",
    "        self.learning_rate = learning_rate\n",
    "        self.s_t = tf.placeholder(tf.float32,\n",
    "                                  shape=[None, height, width, channels],\n",
    "                                  name=network_name + '_state'\n",
    "                                 )\n",
    "        self.a_t = tf.placeholder(tf.int32,\n",
    "                                  shape=[None],\n",
    "                                  name=network_name + '_action'\n",
    "                                 )\n",
    "        self.Q_target = tf.placeholder(tf.float32,\n",
    "                                       shape=[None, num_actions],\n",
    "                                       name=network_name + '_Q_target'\n",
    "                                      )\n",
    "\n",
    "        self.input_layer = tf.reshape(self.s_t,\n",
    "                                      [-1, height, width, channels],\n",
    "                                      name=network_name + '_input_layer'\n",
    "                                     )\n",
    "        self.conv1 = tf.layers.conv2d(inputs=self.input_layer,\n",
    "                                      filters=32,\n",
    "                                      kernel_size=[8, 8],\n",
    "                                      strides=[4, 4],\n",
    "                                      padding='valid',\n",
    "                                      activation=tf.nn.relu,\n",
    "                                      name=network_name + '_conv1_layer'\n",
    "                                     )\n",
    "        self.conv2 = tf.layers.conv2d(inputs=self.conv1,\n",
    "                                      filters=64,\n",
    "                                      kernel_size=[4, 4],\n",
    "                                      strides=[2, 2],\n",
    "                                      padding='valid',\n",
    "                                      activation=tf.nn.relu,\n",
    "                                      name=network_name + '_conv2_layer'\n",
    "                                     )\n",
    "        self.flatten = tf.layers.flatten(self.conv2,\n",
    "                                         name=network_name + '_flatten'\n",
    "                                        )\n",
    "        self.dense = tf.layers.dense(inputs=self.flatten,\n",
    "                                      units=512,\n",
    "                                      activation=tf.nn.relu,\n",
    "                                      name=network_name + '_dense1_layer'\n",
    "                                    )\n",
    "        self.Q_values = tf.layers.dense(inputs=self.dense,\n",
    "                                        units=len(actions),\n",
    "                                        activation=None,\n",
    "                                        name=network_name + '_output_layer'\n",
    "                                       )        \n",
    "    \n",
    "        self.best_action = tf.argmax(self.Q_values, 1)\n",
    "        self.loss = tf.losses.mean_squared_error(self.Q_values,\n",
    "                                                 self.Q_target)\n",
    "        self.adam = tf.train.AdamOptimizer(learning_rate=self.learning_rate,\n",
    "                                           name=network_name + '_adam'\n",
    "                                          )\n",
    "        self.train = self.adam.minimize(self.loss)\n",
    "        \n",
    "    def update_lr(self):\n",
    "        self.learning_rate = 0.98*self.learning_rate\n",
    "        \n",
    "        return self.learning_rate\n",
    "\n",
    "    def calculate_loss(self, session, s, q):\n",
    "        L, _ = session.run([self.loss, self.train],\n",
    "                           feed_dict={self.s_t: s,\n",
    "                                      self.Q_target: q})\n",
    "    \n",
    "        return L\n",
    "\n",
    "#Return the array of Q-values and the best action associated with a given state\n",
    "\n",
    "    def get_Q_values(self, session, s):\n",
    "        Q = session.run(self.Q_values,\n",
    "                        feed_dict={self.s_t: s})\n",
    "\n",
    "        return Q\n",
    "    \n",
    "    def choose_action(self, session, s):\n",
    "        a = session.run(self.best_action,\n",
    "                        feed_dict={self.s_t: s})\n",
    "    \n",
    "        return a\n",
    "    \n",
    "#Create a list of variable update operations\n",
    "\n",
    "def update_graph(variables):\n",
    "    update_ops = list()\n",
    "    \n",
    "#Assign weight values from the network created first to the one created second\n",
    "    \n",
    "    for idx, variable in enumerate(variables[:len(variables)//2]):\n",
    "        op = variable.assign(variables[idx + len(variables)//2].value())\n",
    "        update_ops.append(op)\n",
    "    \n",
    "    return update_ops\n",
    "\n",
    "#Update the target network parameters to match those of the online network\n",
    "\n",
    "def update_target(ops, session):\n",
    "    for op in update_ops:\n",
    "        session.run(op)\n"
   ]
  },
  {
   "cell_type": "code",
   "execution_count": 5,
   "metadata": {
    "ExecuteTime": {
     "end_time": "2018-02-09T03:25:57.611409Z",
     "start_time": "2018-02-09T03:23:38.092961Z"
    },
    "run_control": {
     "frozen": false,
     "read_only": false
    },
    "scrolled": true
   },
   "outputs": [
    {
     "name": "stderr",
     "output_type": "stream",
     "text": [
      "100%|██████████| 20/20 [00:01<00:00, 17.94it/s]\n"
     ]
    },
    {
     "name": "stdout",
     "output_type": "stream",
     "text": [
      "Epoch 1 Mean Reward: -115.8688461303711\n"
     ]
    },
    {
     "name": "stderr",
     "output_type": "stream",
     "text": [
      "100%|██████████| 20/20 [00:00<00:00, 20.24it/s]\n"
     ]
    },
    {
     "name": "stdout",
     "output_type": "stream",
     "text": [
      "Epoch 2 Mean Reward: -162.96730346679686\n"
     ]
    },
    {
     "name": "stderr",
     "output_type": "stream",
     "text": [
      "100%|██████████| 20/20 [00:00<00:00, 22.91it/s]\n"
     ]
    },
    {
     "name": "stdout",
     "output_type": "stream",
     "text": [
      "Epoch 3 Mean Reward: -111.74994430541992\n"
     ]
    },
    {
     "name": "stderr",
     "output_type": "stream",
     "text": [
      "100%|██████████| 20/20 [00:00<00:00, 22.32it/s]\n"
     ]
    },
    {
     "name": "stdout",
     "output_type": "stream",
     "text": [
      "Epoch 4 Mean Reward: -111.20945510864257\n"
     ]
    },
    {
     "name": "stderr",
     "output_type": "stream",
     "text": [
      "100%|██████████| 20/20 [00:00<00:00, 20.94it/s]\n"
     ]
    },
    {
     "name": "stdout",
     "output_type": "stream",
     "text": [
      "Epoch 5 Mean Reward: -113.91146774291992\n"
     ]
    },
    {
     "name": "stderr",
     "output_type": "stream",
     "text": [
      "100%|██████████| 20/20 [00:00<00:00, 22.32it/s]\n"
     ]
    },
    {
     "name": "stdout",
     "output_type": "stream",
     "text": [
      "Epoch 6 Mean Reward: -106.62509002685547\n"
     ]
    },
    {
     "name": "stderr",
     "output_type": "stream",
     "text": [
      "100%|██████████| 20/20 [00:00<00:00, 22.10it/s]\n"
     ]
    },
    {
     "name": "stdout",
     "output_type": "stream",
     "text": [
      "Epoch 7 Mean Reward: -112.74064559936524\n"
     ]
    },
    {
     "name": "stderr",
     "output_type": "stream",
     "text": [
      "100%|██████████| 20/20 [00:00<00:00, 22.03it/s]\n"
     ]
    },
    {
     "name": "stdout",
     "output_type": "stream",
     "text": [
      "Epoch 8 Mean Reward: -119.45542526245117\n"
     ]
    },
    {
     "name": "stderr",
     "output_type": "stream",
     "text": [
      "100%|██████████| 20/20 [00:00<00:00, 22.76it/s]\n"
     ]
    },
    {
     "name": "stdout",
     "output_type": "stream",
     "text": [
      "Epoch 9 Mean Reward: -130.21662979125978\n"
     ]
    },
    {
     "name": "stderr",
     "output_type": "stream",
     "text": [
      "100%|██████████| 20/20 [00:00<00:00, 23.07it/s]\n"
     ]
    },
    {
     "name": "stdout",
     "output_type": "stream",
     "text": [
      "Epoch 10 Mean Reward: -119.3642478942871\n"
     ]
    },
    {
     "name": "stderr",
     "output_type": "stream",
     "text": [
      "100%|██████████| 20/20 [00:00<00:00, 21.98it/s]\n"
     ]
    },
    {
     "name": "stdout",
     "output_type": "stream",
     "text": [
      "Epoch 11 Mean Reward: -129.7413429260254\n"
     ]
    },
    {
     "name": "stderr",
     "output_type": "stream",
     "text": [
      "100%|██████████| 20/20 [00:00<00:00, 21.93it/s]\n"
     ]
    },
    {
     "name": "stdout",
     "output_type": "stream",
     "text": [
      "Epoch 12 Mean Reward: -131.37269973754883\n"
     ]
    },
    {
     "name": "stderr",
     "output_type": "stream",
     "text": [
      "100%|██████████| 20/20 [00:00<00:00, 22.58it/s]\n"
     ]
    },
    {
     "name": "stdout",
     "output_type": "stream",
     "text": [
      "Epoch 13 Mean Reward: -107.18828048706055\n"
     ]
    },
    {
     "name": "stderr",
     "output_type": "stream",
     "text": [
      "100%|██████████| 20/20 [00:00<00:00, 22.65it/s]\n"
     ]
    },
    {
     "name": "stdout",
     "output_type": "stream",
     "text": [
      "Epoch 14 Mean Reward: -110.67011260986328\n"
     ]
    },
    {
     "name": "stderr",
     "output_type": "stream",
     "text": [
      "100%|██████████| 20/20 [00:00<00:00, 22.91it/s]\n"
     ]
    },
    {
     "name": "stdout",
     "output_type": "stream",
     "text": [
      "Epoch 15 Mean Reward: -112.51537780761718\n"
     ]
    },
    {
     "name": "stderr",
     "output_type": "stream",
     "text": [
      "100%|██████████| 20/20 [00:00<00:00, 22.23it/s]\n"
     ]
    },
    {
     "name": "stdout",
     "output_type": "stream",
     "text": [
      "Epoch 16 Mean Reward: -124.59357376098633\n"
     ]
    },
    {
     "name": "stderr",
     "output_type": "stream",
     "text": [
      "100%|██████████| 20/20 [00:00<00:00, 22.05it/s]\n"
     ]
    },
    {
     "name": "stdout",
     "output_type": "stream",
     "text": [
      "Epoch 17 Mean Reward: -136.93814086914062\n"
     ]
    },
    {
     "name": "stderr",
     "output_type": "stream",
     "text": [
      "100%|██████████| 20/20 [00:00<00:00, 23.51it/s]\n"
     ]
    },
    {
     "name": "stdout",
     "output_type": "stream",
     "text": [
      "Epoch 18 Mean Reward: -107.95939254760742\n"
     ]
    },
    {
     "name": "stderr",
     "output_type": "stream",
     "text": [
      "100%|██████████| 20/20 [00:00<00:00, 23.23it/s]\n"
     ]
    },
    {
     "name": "stdout",
     "output_type": "stream",
     "text": [
      "Epoch 19 Mean Reward: -137.6632453918457\n"
     ]
    },
    {
     "name": "stderr",
     "output_type": "stream",
     "text": [
      "100%|██████████| 20/20 [00:00<00:00, 22.97it/s]\n"
     ]
    },
    {
     "name": "stdout",
     "output_type": "stream",
     "text": [
      "Epoch 20 Mean Reward: -112.9978042602539\n",
      "Epoch 20 Model saved to ./checkpoints/deadly_corridor.ckpt\n",
      "Epoch 20 test with depth buffer:\n",
      "Test Episode 1 Reward: 29.750885009765625\n",
      "Test Episode 2 Reward: -55.11354064941406\n",
      "Test Episode 3 Reward: 50.974395751953125\n",
      "Test Episode 4 Reward: 87.59513854980469\n",
      "Test Episode 5 Reward: -55.11354064941406\n",
      "Test Episode 6 Reward: -55.11354064941406\n",
      "Test Episode 7 Reward: -26.135101318359375\n",
      "Test Episode 8 Reward: -7.7891845703125\n",
      "Test Episode 9 Reward: -55.11354064941406\n",
      "Test Episode 10 Reward: -55.11354064941406\n",
      "Average Test Reward (with depth buffer:) -14.117156982421875\n",
      "Epoch 20 test without depth buffer:\n",
      "Test Episode 1 Reward: -33.991455078125\n",
      "Test Episode 2 Reward: -4.046722412109375\n",
      "Test Episode 3 Reward: -33.991455078125\n",
      "Test Episode 4 Reward: 231.55325317382812\n",
      "Test Episode 5 Reward: -6.5436859130859375\n",
      "Test Episode 6 Reward: 1.31524658203125\n",
      "Test Episode 7 Reward: -33.991455078125\n",
      "Test Episode 8 Reward: -33.991455078125\n",
      "Test Episode 9 Reward: -33.991455078125\n",
      "Test Episode 10 Reward: 107.36309814453125\n",
      "Average Test Reward (without depth buffer): 15.968391418457031\n"
     ]
    },
    {
     "name": "stderr",
     "output_type": "stream",
     "text": [
      "100%|██████████| 20/20 [00:00<00:00, 22.81it/s]\n"
     ]
    },
    {
     "name": "stdout",
     "output_type": "stream",
     "text": [
      "Epoch 21 Mean Reward: -112.3263168334961\n"
     ]
    },
    {
     "name": "stderr",
     "output_type": "stream",
     "text": [
      "100%|██████████| 20/20 [00:00<00:00, 21.05it/s]\n"
     ]
    },
    {
     "name": "stdout",
     "output_type": "stream",
     "text": [
      "Epoch 22 Mean Reward: -135.7662010192871\n"
     ]
    },
    {
     "name": "stderr",
     "output_type": "stream",
     "text": [
      "100%|██████████| 20/20 [00:00<00:00, 21.55it/s]\n"
     ]
    },
    {
     "name": "stdout",
     "output_type": "stream",
     "text": [
      "Epoch 23 Mean Reward: -138.814453125\n"
     ]
    },
    {
     "name": "stderr",
     "output_type": "stream",
     "text": [
      "100%|██████████| 20/20 [00:00<00:00, 22.53it/s]\n"
     ]
    },
    {
     "name": "stdout",
     "output_type": "stream",
     "text": [
      "Epoch 24 Mean Reward: -121.00699462890626\n"
     ]
    },
    {
     "name": "stderr",
     "output_type": "stream",
     "text": [
      "100%|██████████| 20/20 [00:00<00:00, 23.26it/s]\n"
     ]
    },
    {
     "name": "stdout",
     "output_type": "stream",
     "text": [
      "Epoch 25 Mean Reward: -89.40615386962891\n"
     ]
    },
    {
     "name": "stderr",
     "output_type": "stream",
     "text": [
      "100%|██████████| 20/20 [00:00<00:00, 22.30it/s]\n"
     ]
    },
    {
     "name": "stdout",
     "output_type": "stream",
     "text": [
      "Epoch 26 Mean Reward: -115.16704940795898\n"
     ]
    },
    {
     "name": "stderr",
     "output_type": "stream",
     "text": [
      "100%|██████████| 20/20 [00:00<00:00, 20.58it/s]\n"
     ]
    },
    {
     "name": "stdout",
     "output_type": "stream",
     "text": [
      "Epoch 27 Mean Reward: -141.7420738220215\n"
     ]
    },
    {
     "name": "stderr",
     "output_type": "stream",
     "text": [
      "100%|██████████| 20/20 [00:00<00:00, 22.94it/s]\n"
     ]
    },
    {
     "name": "stdout",
     "output_type": "stream",
     "text": [
      "Epoch 28 Mean Reward: -105.96530685424804\n"
     ]
    },
    {
     "name": "stderr",
     "output_type": "stream",
     "text": [
      "100%|██████████| 20/20 [00:00<00:00, 21.62it/s]\n"
     ]
    },
    {
     "name": "stdout",
     "output_type": "stream",
     "text": [
      "Epoch 29 Mean Reward: -99.82018127441407\n"
     ]
    },
    {
     "name": "stderr",
     "output_type": "stream",
     "text": [
      "100%|██████████| 20/20 [00:00<00:00, 22.01it/s]\n"
     ]
    },
    {
     "name": "stdout",
     "output_type": "stream",
     "text": [
      "Epoch 30 Mean Reward: -144.70491714477538\n"
     ]
    },
    {
     "name": "stderr",
     "output_type": "stream",
     "text": [
      "100%|██████████| 20/20 [00:00<00:00, 22.60it/s]\n"
     ]
    },
    {
     "name": "stdout",
     "output_type": "stream",
     "text": [
      "Epoch 31 Mean Reward: -138.31188888549804\n"
     ]
    },
    {
     "name": "stderr",
     "output_type": "stream",
     "text": [
      "100%|██████████| 20/20 [00:00<00:00, 22.76it/s]\n"
     ]
    },
    {
     "name": "stdout",
     "output_type": "stream",
     "text": [
      "Epoch 32 Mean Reward: -130.3790199279785\n"
     ]
    },
    {
     "name": "stderr",
     "output_type": "stream",
     "text": [
      "100%|██████████| 20/20 [00:00<00:00, 22.55it/s]\n"
     ]
    },
    {
     "name": "stdout",
     "output_type": "stream",
     "text": [
      "Epoch 33 Mean Reward: -102.0355339050293\n"
     ]
    },
    {
     "name": "stderr",
     "output_type": "stream",
     "text": [
      "100%|██████████| 20/20 [00:00<00:00, 21.30it/s]\n"
     ]
    },
    {
     "name": "stdout",
     "output_type": "stream",
     "text": [
      "Epoch 34 Mean Reward: -120.07113952636719\n"
     ]
    },
    {
     "name": "stderr",
     "output_type": "stream",
     "text": [
      "100%|██████████| 20/20 [00:00<00:00, 23.37it/s]\n"
     ]
    },
    {
     "name": "stdout",
     "output_type": "stream",
     "text": [
      "Epoch 35 Mean Reward: -117.18290939331055\n"
     ]
    },
    {
     "name": "stderr",
     "output_type": "stream",
     "text": [
      "100%|██████████| 20/20 [00:00<00:00, 21.96it/s]\n"
     ]
    },
    {
     "name": "stdout",
     "output_type": "stream",
     "text": [
      "Epoch 36 Mean Reward: -122.88888473510742\n"
     ]
    },
    {
     "name": "stderr",
     "output_type": "stream",
     "text": [
      "100%|██████████| 20/20 [00:00<00:00, 23.02it/s]\n"
     ]
    },
    {
     "name": "stdout",
     "output_type": "stream",
     "text": [
      "Epoch 37 Mean Reward: -110.58304061889649\n"
     ]
    },
    {
     "name": "stderr",
     "output_type": "stream",
     "text": [
      "100%|██████████| 20/20 [00:00<00:00, 21.81it/s]\n"
     ]
    },
    {
     "name": "stdout",
     "output_type": "stream",
     "text": [
      "Epoch 38 Mean Reward: -123.37104873657226\n"
     ]
    },
    {
     "name": "stderr",
     "output_type": "stream",
     "text": [
      "100%|██████████| 20/20 [00:00<00:00, 22.45it/s]\n"
     ]
    },
    {
     "name": "stdout",
     "output_type": "stream",
     "text": [
      "Epoch 39 Mean Reward: -119.15693817138671\n"
     ]
    },
    {
     "name": "stderr",
     "output_type": "stream",
     "text": [
      "100%|██████████| 20/20 [00:00<00:00, 21.60it/s]\n"
     ]
    },
    {
     "name": "stdout",
     "output_type": "stream",
     "text": [
      "Epoch 40 Mean Reward: -139.55963134765625\n",
      "Epoch 40 Model saved to ./checkpoints/deadly_corridor.ckpt\n",
      "Epoch 40 test with depth buffer:\n",
      "Test Episode 1 Reward: 96.34083557128906\n",
      "Test Episode 2 Reward: 306.88807678222656\n",
      "Test Episode 3 Reward: 77.02017211914062\n",
      "Test Episode 4 Reward: 37.828521728515625\n"
     ]
    },
    {
     "ename": "KeyboardInterrupt",
     "evalue": "",
     "output_type": "error",
     "traceback": [
      "Traceback \u001b[1;36m(most recent call last)\u001b[0m:\n",
      "  File \u001b[0;32m\"<ipython-input-5-772e7d83ac90>\"\u001b[0m, line \u001b[0;32m166\u001b[0m, in \u001b[0;35m<module>\u001b[0m\n    model_dir=model_dir)\n",
      "\u001b[1;36m  File \u001b[1;32m\"<ipython-input-3-5eb4047a9766>\"\u001b[1;36m, line \u001b[1;32m80\u001b[1;36m, in \u001b[1;35mtest_agent\u001b[1;36m\u001b[0m\n\u001b[1;33m    time.sleep(0.02)\u001b[0m\n",
      "\u001b[1;31mKeyboardInterrupt\u001b[0m\n"
     ]
    }
   ],
   "source": [
    "#For each time step, collect the following data:\n",
    "#The current game state\n",
    "#The action that was taken taken\n",
    "#The reward obtained from the chosen action\n",
    "#The next game state (store the first game state if the previous action ends the episode)\n",
    "#A variable indicating whether the episode is over yet\n",
    "\n",
    "\n",
    "tf.reset_default_graph()\n",
    "\n",
    "#Instantiate the target network before the online network so that it's updated correctly\n",
    "\n",
    "target_net = Q_network(network_name='target',\n",
    "                       learning_rate=learning_rate,\n",
    "                       height=height,\n",
    "                       width=width,\n",
    "                       channels=channels)\n",
    "DQN = Q_network(network_name='online',\n",
    "                learning_rate=learning_rate,\n",
    "                height=height,\n",
    "                width=width,\n",
    "                channels=channels)\n",
    "\n",
    "exp_buffer = Buffer(size=buffer_size)\n",
    "session = tf.Session()\n",
    "saver = tf.train.Saver(max_to_keep=num_ckpts, reshape=True)\n",
    "weights = tf.trainable_variables()\n",
    "\n",
    "update_ops = update_graph(weights)\n",
    "\n",
    "if load_model == True:\n",
    "    print('Loading model from', model_dir)\n",
    "    tf.train.Saver().restore(session, model_dir)\n",
    "    \n",
    "elif load_model == False:\n",
    "    session.run(tf.global_variables_initializer())\n",
    "\n",
    "game.set_sound_enabled(False)\n",
    "game.init()\n",
    "\n",
    "t = 0\n",
    "epoch_rank = list()\n",
    "epoch_rank_depth = list()\n",
    "\n",
    "#Accumulate experiences in the buffer using an epsilon-greedy strategy with three training phases\n",
    "\n",
    "for epoch in range(epochs):\n",
    "    epoch_rewards = list()\n",
    "    \n",
    "    for step in trange(steps_per_epoch, leave=True):\n",
    "        experience = list()\n",
    "        game.new_episode()\n",
    "        \n",
    "        while not game.is_episode_finished():\n",
    "            state = game.get_state()\n",
    "            \n",
    "#Substitute an array of zeros for the depth buffer if that setting is disabled\n",
    "\n",
    "            if game.is_depth_buffer_enabled() == False:\n",
    "                depth_buffer = np.zeros(state.screen_buffer.shape)\n",
    "            else:\n",
    "                depth_buffer = state.depth_buffer\n",
    "            \n",
    "            state1_buffer = np.stack((state.screen_buffer, depth_buffer), axis=-1)\n",
    "            state1 = preprocess(state1_buffer, down_sample_ratio)\n",
    "            \n",
    "#Explore the environment by choosing random actions with 100% probability for the first phase of training\n",
    "\n",
    "            if epoch < 0.3*epochs:\n",
    "                action = np.random.randint(num_actions)\n",
    "            \n",
    "#Increase the probability of greedily choosing an action by a constant amount at each epoch in the second phase\n",
    "            \n",
    "            elif epoch < 0.9*epochs:\n",
    "                epsilon = start_epsilon - (epoch + 1 - 0.2*epochs)*(start_epsilon-end_epsilon)/(0.7*epochs)\n",
    "            \n",
    "                if np.random.uniform(0, 1) <= epsilon:\n",
    "                    action = np.random.randint(num_actions)\n",
    "                else:\n",
    "                    action = DQN.choose_action(session, state1)[0]\n",
    "\n",
    "#Select a random action with 10% probability in the final phase of training\n",
    "                \n",
    "            else:\n",
    "                if np.random.uniform(0, 1) <= end_epsilon:\n",
    "                    action = np.random.randint(num_actions)\n",
    "                else:\n",
    "                    action = DQN.choose_action(session, state1)[0]\n",
    "\n",
    "            reward = game.make_action(actions[action], frame_delay)\n",
    "            done = game.is_episode_finished()\n",
    "            \n",
    "            if done == False:\n",
    "                state = game.get_state()\n",
    "                \n",
    "                if game.is_depth_buffer_enabled() == False:\n",
    "                    depth_buffer = np.zeros(state.screen_buffer.shape)\n",
    "                else:\n",
    "                    depth_buffer = state.depth_buffer\n",
    "\n",
    "                state2_buffer = np.stack((state.screen_buffer, depth_buffer), axis=-1)\n",
    "                state2 = preprocess(state2_buffer, down_sample_ratio)\n",
    "                \n",
    "            elif done == True:\n",
    "                state2 = state1\n",
    "        \n",
    "#Add the experience obtained from each time step to the buffer\n",
    "\n",
    "            t += 1\n",
    "            exp_buffer.add_experience((state1, action, reward, state2, done))\n",
    "        \n",
    "#Sample a minibatch from the buffer if there are enough experiences in the buffer\n",
    "\n",
    "        if exp_buffer.length > batch_size:\n",
    "            s1, a, r, s2, terminal = exp_buffer.sample_buffer(batch_size)\n",
    "            \n",
    "#Get the target values from the target Q-network\n",
    "            \n",
    "            target_Q = np.max(target_net.get_Q_values(session, s2), axis=1)\n",
    "            \n",
    "#Train the online Q-network by using a minibatch to update the action-value function\n",
    "            \n",
    "            Q2 = DQN.get_Q_values(session, s1)\n",
    "            Q2[np.arange(batch_size), a] = r + gamma*(1 - terminal)*target_Q\n",
    "            DQN.calculate_loss(session, s1, Q2)\n",
    "            \n",
    "        epoch_rewards.append(game.get_total_reward())\n",
    "        \n",
    "#Increase the discount factor at each epoch until it reaches 0.99\n",
    "    \n",
    "    if gamma < 0.99:\n",
    "        gamma = 1-.98*(1-gamma)\n",
    "    elif gamma >= 0.99:\n",
    "        gamma = 0.99\n",
    "        \n",
    "#Decrease the learning rate at each epoch\n",
    "\n",
    "    DQN.update_lr()\n",
    "    target_net.update_lr()\n",
    "    \n",
    "    print('Epoch {} Mean Reward: {}'.format(epoch + 1, np.mean(epoch_rewards)))\n",
    "    \n",
    "#Update the target network every 10 epochs\n",
    "    \n",
    "    if (epoch + 1) % 10 == 0 and epoch > 0:\n",
    "        update_target(update_ops, session)\n",
    "        \n",
    "#Save the model and test the agent for 10 episodes every 20 epochs\n",
    "    \n",
    "    if (epoch + 1) % 20 == 0 and epoch > 0:\n",
    "        if save_model == True:\n",
    "            checkpoint = model_dir + '-' + str(epoch + 1)\n",
    "            print('Epoch {} Model saved to {}'.format(epoch + 1, model_dir))\n",
    "            saver.save(session, model_dir, global_step=epoch + 1)\n",
    "            \n",
    "        update_target(update_ops, session)\n",
    "\n",
    "#Test the agent both with and without the depth buffer given\n",
    "        \n",
    "        print('Epoch {} test with depth buffer:'.format(epoch + 1))\n",
    "        test_reward_depth = test_agent(DQN, num_episodes=10,\n",
    "                                       training=True,\n",
    "                                       load_model=False,\n",
    "                                       depth=True,\n",
    "                                       session=session,\n",
    "                                       model_dir=model_dir)\n",
    "        print('Average Test Reward (with depth buffer):', test_reward_depth)\n",
    "        \n",
    "        print('Epoch {} test without depth buffer:'.format(epoch + 1))\n",
    "        test_reward = test_agent(DQN, num_episodes=10,\n",
    "                                 training=True,\n",
    "                                 load_model=False,\n",
    "                                 depth=False,\n",
    "                                 session=session,\n",
    "                                 model_dir=model_dir)\n",
    "        print('Average Test Reward (without depth buffer):', test_reward)\n",
    "        \n",
    "        epoch_rank_depth.append((test_reward_depth, epoch + 1))\n",
    "        epoch_rank.append((test_reward, epoch + 1))\n",
    "        \n",
    "#Return a sorted list of epoch checkpoints based on average test episode reward\n",
    "        \n",
    "print(sorted(epoch_rank, reverse=True))\n",
    "print('{} time steps experienced during training'.format(t))\n",
    "game.close()\n",
    "    "
   ]
  },
  {
   "cell_type": "code",
   "execution_count": null,
   "metadata": {
    "ExecuteTime": {
     "end_time": "2018-02-09T03:25:57.611409Z",
     "start_time": "2018-02-09T03:23:35.649Z"
    },
    "run_control": {
     "frozen": false,
     "read_only": false
    },
    "scrolled": true
   },
   "outputs": [],
   "source": [
    "#Get a list of checkpoints saved during training\n",
    "\n",
    "ckpts = tf.train.get_checkpoint_state('checkpoints').all_model_checkpoint_paths\n",
    "\n",
    "#Test the trained model from a certain checkpoint by only choosing actions with a greedy strategy\n",
    "\n",
    "for i in range(len(ckpts)):\n",
    "    test_reward = test_agent(DQN, num_episodes=20,\n",
    "                             training=False,\n",
    "                             load_model=True,\n",
    "                             depth=True,\n",
    "                             model_dir=ckpts[i])\n",
    "    print('Average Test Reward (with depth buffer):', test_reward)\n",
    "\n",
    "    test_reward = test_agent(DQN, num_episodes=20,\n",
    "                             training=False,\n",
    "                             load_model=True,\n",
    "                             depth=False,\n",
    "                             model_dir=ckpts[i])\n",
    "    print('Average Test Reward (without depth buffer):', test_reward)\n"
   ]
  }
 ],
 "metadata": {
  "kernelspec": {
   "display_name": "Python 3 (Spyder)",
   "language": "python3",
   "name": "python3"
  },
  "language_info": {
   "codemirror_mode": {
    "name": "ipython",
    "version": 3
   },
   "file_extension": ".py",
   "mimetype": "text/x-python",
   "name": "python",
   "nbconvert_exporter": "python",
   "pygments_lexer": "ipython3",
   "version": "3.6.3"
  },
  "notify_time": "30"
 },
 "nbformat": 4,
 "nbformat_minor": 2
}
