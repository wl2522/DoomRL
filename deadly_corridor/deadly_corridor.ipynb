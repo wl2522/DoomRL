{
 "cells": [
  {
   "cell_type": "code",
   "execution_count": 1,
   "metadata": {
    "ExecuteTime": {
     "end_time": "2018-01-30T07:18:49.396407Z",
     "start_time": "2018-01-30T07:18:47.923550Z"
    },
    "run_control": {
     "frozen": false,
     "read_only": false
    }
   },
   "outputs": [],
   "source": [
    "import importlib.util\n",
    "import time\n",
    "\n",
    "import tensorflow as tf\n",
    "import numpy as np\n",
    "\n",
    "from skimage.transform import rescale\n",
    "from tqdm import trange\n",
    "from IPython.display import HTML\n",
    "\n",
    "#Import the vizdoom package as \"vd\" since it can't be installed normally on Windows\n",
    "\n",
    "vd_location = 'C:/Anaconda3/envs/doom/Lib/site-packages/vizdoom/vizdoom.pyd'\n",
    "vizdoom = importlib.util.spec_from_file_location('vizdoom',\n",
    "                                                 vd_location)\n",
    "vd = importlib.util.module_from_spec(vizdoom)\n",
    "vizdoom.loader.exec_module(vd)\n"
   ]
  },
  {
   "cell_type": "code",
   "execution_count": 2,
   "metadata": {
    "ExecuteTime": {
     "end_time": "2018-01-30T07:18:49.545544Z",
     "start_time": "2018-01-30T07:18:49.397408Z"
    },
    "run_control": {
     "frozen": false,
     "read_only": false
    }
   },
   "outputs": [],
   "source": [
    "#Specify the game scenario and the screen format/resolution\n",
    "\n",
    "game = vd.DoomGame()\n",
    "game.set_screen_format(vd.ScreenFormat.GRAY8)\n",
    "game.set_depth_buffer_enabled(True)\n",
    "game.set_screen_resolution(vd.ScreenResolution.RES_160X120)\n",
    "game.load_config('deadly_corridor.cfg')\n",
    "\n",
    "down_sample_ratio = 1\n",
    "width = int(game.get_screen_width()*down_sample_ratio)\n",
    "height = int(game.get_screen_height()*down_sample_ratio)\n",
    "channels = game.get_screen_channels() + int(game.is_depth_buffer_enabled())\n",
    "\n",
    "#Specify the available actions in the scenario\n",
    "\n",
    "available_actions = game.get_available_buttons()\n",
    "actions = [list(ohe) for ohe in list(np.identity(len(available_actions)))]\n",
    "num_actions = len(available_actions)\n",
    "\n",
    "#Specify the Q-network learning parameters\n",
    "\n",
    "frame_delay = 12\n",
    "buffer_size = 75000\n",
    "epochs = 400\n",
    "steps_per_epoch = 2000\n",
    "learning_rate = 0.0025\n",
    "gamma = 0\n",
    "start_epsilon = 1.0\n",
    "end_epsilon = 0.1\n",
    "batch_size = 100\n",
    "load_model = False\n",
    "save_model = True\n",
    "model_dir = './checkpoints/deadly_corridor.ckpt'\n"
   ]
  },
  {
   "cell_type": "code",
   "execution_count": 3,
   "metadata": {
    "ExecuteTime": {
     "end_time": "2018-01-30T07:18:49.898870Z",
     "start_time": "2018-01-30T07:18:49.547046Z"
    },
    "run_control": {
     "frozen": false,
     "read_only": false
    }
   },
   "outputs": [],
   "source": [
    "#Create a buffer object that holds a set of training experiences (state-action-reward tuples)\n",
    "\n",
    "class Buffer():\n",
    "    def __init__(self, size=1000):\n",
    "        self.buffer = list()\n",
    "        self.length = len(self.buffer)\n",
    "        self.size = size\n",
    "        \n",
    "#Add a new experience to the buffer (remove the oldest experience if the buffer is already full)\n",
    "        \n",
    "    def add_experience(self, experience):\n",
    "        if self.length + 1 >= self.size:\n",
    "            self.buffer[0:(self.length + 1) - self.size] = []\n",
    "        \n",
    "        self.buffer.append(experience)\n",
    "        self.length = len(self.buffer)\n",
    "            \n",
    "#Return a batch of experience arrays randomly sampled from the buffer\n",
    "            \n",
    "    def sample_buffer(self, sample_size):\n",
    "        sample = np.random.randint(self.length, size=sample_size)\n",
    "        s1 = np.concatenate([self.buffer[idx][0] for idx in sample], axis=0)\n",
    "        a = np.array([self.buffer[idx][1] for idx in sample])\n",
    "        r = np.array([self.buffer[idx][2] for idx in sample])\n",
    "        s2 = np.concatenate([self.buffer[idx][3] for idx in sample], axis=0)\n",
    "        terminal = np.array([self.buffer[idx][4] for idx in sample], dtype=np.int32)\n",
    "        \n",
    "        return s1, a, r, s2, terminal\n",
    "\n",
    "#Downsample and normalize an image array representing the game state at a given time stamp\n",
    "\n",
    "def preprocess(image, down_sample_ratio=1):\n",
    "    if float(down_sample_ratio) != 1.0:\n",
    "        image = rescale(image=image, scale=down_sample_ratio, mode='reflect')\n",
    "    image = image.astype(np.float32)\n",
    "    image = np.expand_dims(image, axis=0)\n",
    "\n",
    "    return image\n",
    "\n",
    "#Test the agent using a currently training or previously trained model\n",
    "\n",
    "def test_agent(model, num_episodes, load_model, depth, training=True, session=None, model_dir=None):\n",
    "    if load_model == True:\n",
    "        sess = tf.Session()\n",
    "        print('Loading model from', model_dir)\n",
    "        tf.train.Saver().restore(sess, model_dir)\n",
    "        \n",
    "#Require an existing session if a pretrained model isn't provided\n",
    "        \n",
    "    elif load_model == False:\n",
    "        sess = session\n",
    "\n",
    "    game.set_sound_enabled(True)\n",
    "    episode_rewards = list()\n",
    "    \n",
    "#Avoid reinitializing the game if this was already done by the training process\n",
    "    \n",
    "    if training == False:\n",
    "        game.init()\n",
    "\n",
    "    for i in range(num_episodes):\n",
    "        game.new_episode()\n",
    "    \n",
    "        while not game.is_episode_finished():\n",
    "            state = game.get_state()\n",
    "            \n",
    "            if depth == False:\n",
    "                depth_buffer = np.zeros(state.screen_buffer.shape)\n",
    "            else:\n",
    "                depth_buffer = np.expand_dims(state.depth_buffer, axis=2)\n",
    "                \n",
    "            state_buffer = np.stack((state.screen_buffer,\n",
    "                                     state.depth_buffer), axis=-1)\n",
    "            state1 = preprocess(state_buffer, down_sample_ratio)\n",
    "            action = model.choose_action(sess, state1)[0]\n",
    "            reward = game.make_action(actions[action])\n",
    "            \n",
    "#Add a delay between each time step so that the episodes occur at normal speed\n",
    "\n",
    "            time.sleep(0.02)\n",
    "        \n",
    "        episode_rewards.append(game.get_total_reward())\n",
    "        print('Test Episode {} Reward: {}'.format(i + 1, game.get_total_reward()))\n",
    "        time.sleep(1)\n",
    "    \n",
    "#Avoid ending the game so that the training process can continue\n",
    "    \n",
    "    if training == False:\n",
    "        game.close()\n",
    "    \n",
    "    return np.mean(episode_rewards)\n"
   ]
  },
  {
   "cell_type": "code",
   "execution_count": 4,
   "metadata": {
    "ExecuteTime": {
     "end_time": "2018-01-30T07:18:50.211157Z",
     "start_time": "2018-01-30T07:18:49.900372Z"
    },
    "run_control": {
     "frozen": false,
     "read_only": false
    }
   },
   "outputs": [],
   "source": [
    "#Create a Q-network to estimate values and choose actions for a given state\n",
    "\n",
    "class Q_network():\n",
    "    def __init__(self, network_name, height, width, channels, learning_rate=0.001):\n",
    "        self.learning_rate = learning_rate\n",
    "        self.s_t = tf.placeholder(tf.float32,\n",
    "                                  shape=[None, height, width, channels],\n",
    "                                  name=network_name + '_state'\n",
    "                                 )\n",
    "        self.a_t = tf.placeholder(tf.int32,\n",
    "                                  shape=[None],\n",
    "                                  name=network_name + '_action'\n",
    "                                 )\n",
    "        self.Q_target = tf.placeholder(tf.float32,\n",
    "                                       shape=[None, num_actions],\n",
    "                                       name=network_name + '_Q_target'\n",
    "                                      )\n",
    "\n",
    "        self.input_layer = tf.reshape(self.s_t,\n",
    "                                      [-1, height, width, channels],\n",
    "                                      name=network_name + '_input_layer'\n",
    "                                     )\n",
    "        self.conv1 = tf.layers.conv2d(inputs=self.input_layer,\n",
    "                                      filters=32,\n",
    "                                      kernel_size=[8, 8],\n",
    "                                      strides=[4, 4],\n",
    "                                      padding='valid',\n",
    "                                      activation=tf.nn.relu,\n",
    "                                      name=network_name + '_conv1_layer'\n",
    "                                     )\n",
    "        self.conv2 = tf.layers.conv2d(inputs=self.conv1,\n",
    "                                      filters=64,\n",
    "                                      kernel_size=[4, 4],\n",
    "                                      strides=[2, 2],\n",
    "                                      padding='valid',\n",
    "                                      activation=tf.nn.relu,\n",
    "                                      name=network_name + '_conv2_layer'\n",
    "                                     )\n",
    "        self.flatten = tf.layers.flatten(self.conv2,\n",
    "                                         name=network_name + '_flatten'\n",
    "                                        )\n",
    "        self.dense = tf.layers.dense(inputs=self.flatten,\n",
    "                                      units=512,\n",
    "                                      activation=tf.nn.relu,\n",
    "                                      name=network_name + '_dense1_layer'\n",
    "                                    )\n",
    "        self.Q_values = tf.layers.dense(inputs=self.dense,\n",
    "                                        units=len(actions),\n",
    "                                        activation=None,\n",
    "                                        name=network_name + '_output_layer'\n",
    "                                       )        \n",
    "    \n",
    "        self.best_action = tf.argmax(self.Q_values, 1)\n",
    "        self.loss = tf.losses.mean_squared_error(self.Q_values,\n",
    "                                                 self.Q_target)\n",
    "        self.adam = tf.train.AdamOptimizer(learning_rate=self.learning_rate,\n",
    "                                           name=network_name + '_adam'\n",
    "                                          )\n",
    "        self.train = self.adam.minimize(self.loss)\n",
    "        \n",
    "    def update_lr(self):\n",
    "        self.learning_rate = 0.98*self.learning_rate\n",
    "        \n",
    "        return self.learning_rate\n",
    "\n",
    "    def calculate_loss(self, session, s, q):\n",
    "        L, _ = session.run([self.loss, self.train],\n",
    "                           feed_dict={self.s_t: s,\n",
    "                                      self.Q_target: q})\n",
    "    \n",
    "        return L\n",
    "\n",
    "#Return the array of Q-values and the best action associated with a given state\n",
    "\n",
    "    def get_Q_values(self, session, s):\n",
    "        Q = session.run(self.Q_values,\n",
    "                        feed_dict={self.s_t: s})\n",
    "\n",
    "        return Q\n",
    "    \n",
    "    def choose_action(self, session, s):\n",
    "        a = session.run(self.best_action,\n",
    "                        feed_dict={self.s_t: s})\n",
    "    \n",
    "        return a\n",
    "    \n",
    "#Create a list of variable update operations\n",
    "\n",
    "def update_graph(variables):\n",
    "    update_ops = list()\n",
    "    \n",
    "#Assign weight values from the network created first to the one created second\n",
    "    \n",
    "    for idx, variable in enumerate(variables[:len(variables)//2]):\n",
    "        op = variable.assign(variables[idx + len(variables)//2].value())\n",
    "        update_ops.append(op)\n",
    "    \n",
    "    return update_ops\n",
    "\n",
    "#Update the target network parameters to match those of the online network\n",
    "\n",
    "def update_target(ops, session):\n",
    "    for op in update_ops:\n",
    "        session.run(op)\n"
   ]
  },
  {
   "cell_type": "code",
   "execution_count": 5,
   "metadata": {
    "ExecuteTime": {
     "end_time": "2018-01-31T03:24:51.161710Z",
     "start_time": "2018-01-30T07:18:50.212159Z"
    },
    "run_control": {
     "frozen": false,
     "read_only": false
    },
    "scrolled": true
   },
   "outputs": [
    {
     "name": "stderr",
     "output_type": "stream",
     "text": [
      "100%|██████████| 2000/2000 [01:41<00:00, 19.64it/s]\n"
     ]
    },
    {
     "name": "stdout",
     "output_type": "stream",
     "text": [
      "Epoch 1 Mean Reward: -70.34874752044678\n"
     ]
    },
    {
     "name": "stderr",
     "output_type": "stream",
     "text": [
      "100%|██████████| 2000/2000 [01:43<00:00, 19.25it/s]\n"
     ]
    },
    {
     "name": "stdout",
     "output_type": "stream",
     "text": [
      "Epoch 2 Mean Reward: -67.4187717590332\n"
     ]
    },
    {
     "name": "stderr",
     "output_type": "stream",
     "text": [
      "100%|██████████| 2000/2000 [01:29<00:00, 22.37it/s]\n"
     ]
    },
    {
     "name": "stdout",
     "output_type": "stream",
     "text": [
      "Epoch 3 Mean Reward: -69.43725765228271\n"
     ]
    },
    {
     "name": "stderr",
     "output_type": "stream",
     "text": [
      "100%|██████████| 2000/2000 [01:30<00:00, 21.98it/s]\n"
     ]
    },
    {
     "name": "stdout",
     "output_type": "stream",
     "text": [
      "Epoch 4 Mean Reward: -66.14991775512695\n"
     ]
    },
    {
     "name": "stderr",
     "output_type": "stream",
     "text": [
      "100%|██████████| 2000/2000 [01:33<00:00, 21.29it/s]\n"
     ]
    },
    {
     "name": "stdout",
     "output_type": "stream",
     "text": [
      "Epoch 5 Mean Reward: -67.90185329437256\n"
     ]
    },
    {
     "name": "stderr",
     "output_type": "stream",
     "text": [
      "100%|██████████| 2000/2000 [01:34<00:00, 21.09it/s]\n"
     ]
    },
    {
     "name": "stdout",
     "output_type": "stream",
     "text": [
      "Epoch 6 Mean Reward: -68.64238536834716\n"
     ]
    },
    {
     "name": "stderr",
     "output_type": "stream",
     "text": [
      "100%|██████████| 2000/2000 [01:31<00:00, 21.83it/s]\n"
     ]
    },
    {
     "name": "stdout",
     "output_type": "stream",
     "text": [
      "Epoch 7 Mean Reward: -70.16232398223877\n"
     ]
    },
    {
     "name": "stderr",
     "output_type": "stream",
     "text": [
      "100%|██████████| 2000/2000 [01:31<00:00, 21.82it/s]\n"
     ]
    },
    {
     "name": "stdout",
     "output_type": "stream",
     "text": [
      "Epoch 8 Mean Reward: -68.70191046905518\n"
     ]
    },
    {
     "name": "stderr",
     "output_type": "stream",
     "text": [
      "100%|██████████| 2000/2000 [01:30<00:00, 22.02it/s]\n"
     ]
    },
    {
     "name": "stdout",
     "output_type": "stream",
     "text": [
      "Epoch 9 Mean Reward: -67.38696146392822\n"
     ]
    },
    {
     "name": "stderr",
     "output_type": "stream",
     "text": [
      "100%|██████████| 2000/2000 [01:30<00:00, 22.11it/s]\n"
     ]
    },
    {
     "name": "stdout",
     "output_type": "stream",
     "text": [
      "Epoch 10 Mean Reward: -69.65390396118164\n"
     ]
    },
    {
     "name": "stderr",
     "output_type": "stream",
     "text": [
      "100%|██████████| 2000/2000 [01:31<00:00, 21.89it/s]\n"
     ]
    },
    {
     "name": "stdout",
     "output_type": "stream",
     "text": [
      "Epoch 11 Mean Reward: -67.4368422012329\n"
     ]
    },
    {
     "name": "stderr",
     "output_type": "stream",
     "text": [
      "100%|██████████| 2000/2000 [01:30<00:00, 22.02it/s]\n"
     ]
    },
    {
     "name": "stdout",
     "output_type": "stream",
     "text": [
      "Epoch 12 Mean Reward: -69.12417576599121\n"
     ]
    },
    {
     "name": "stderr",
     "output_type": "stream",
     "text": [
      "100%|██████████| 2000/2000 [01:30<00:00, 22.00it/s]\n"
     ]
    },
    {
     "name": "stdout",
     "output_type": "stream",
     "text": [
      "Epoch 13 Mean Reward: -67.70249571228027\n"
     ]
    },
    {
     "name": "stderr",
     "output_type": "stream",
     "text": [
      "100%|██████████| 2000/2000 [01:32<00:00, 21.53it/s]\n"
     ]
    },
    {
     "name": "stdout",
     "output_type": "stream",
     "text": [
      "Epoch 14 Mean Reward: -68.53885604095458\n"
     ]
    },
    {
     "name": "stderr",
     "output_type": "stream",
     "text": [
      "100%|██████████| 2000/2000 [01:32<00:00, 21.73it/s]\n"
     ]
    },
    {
     "name": "stdout",
     "output_type": "stream",
     "text": [
      "Epoch 15 Mean Reward: -67.73534006500245\n"
     ]
    },
    {
     "name": "stderr",
     "output_type": "stream",
     "text": [
      "100%|██████████| 2000/2000 [01:31<00:00, 21.89it/s]\n"
     ]
    },
    {
     "name": "stdout",
     "output_type": "stream",
     "text": [
      "Epoch 16 Mean Reward: -68.61665476989747\n"
     ]
    },
    {
     "name": "stderr",
     "output_type": "stream",
     "text": [
      "100%|██████████| 2000/2000 [01:31<00:00, 21.83it/s]\n"
     ]
    },
    {
     "name": "stdout",
     "output_type": "stream",
     "text": [
      "Epoch 17 Mean Reward: -69.7095958480835\n"
     ]
    },
    {
     "name": "stderr",
     "output_type": "stream",
     "text": [
      "100%|██████████| 2000/2000 [01:30<00:00, 22.03it/s]\n"
     ]
    },
    {
     "name": "stdout",
     "output_type": "stream",
     "text": [
      "Epoch 18 Mean Reward: -71.72577774047852\n"
     ]
    },
    {
     "name": "stderr",
     "output_type": "stream",
     "text": [
      "100%|██████████| 2000/2000 [01:32<00:00, 21.54it/s]\n"
     ]
    },
    {
     "name": "stdout",
     "output_type": "stream",
     "text": [
      "Epoch 19 Mean Reward: -70.91366878509521\n"
     ]
    },
    {
     "name": "stderr",
     "output_type": "stream",
     "text": [
      "100%|██████████| 2000/2000 [01:31<00:00, 21.77it/s]\n"
     ]
    },
    {
     "name": "stdout",
     "output_type": "stream",
     "text": [
      "Epoch 20 Mean Reward: -67.24080211639404\n",
      "Epoch 20 Model saved to ./checkpoints/deadly_corridor.ckpt\n",
      "Epoch 20 test with depth buffer:\n",
      "Test Episode 1 Reward: 56.37648010253906\n",
      "Test Episode 2 Reward: 340.6106719970703\n",
      "Test Episode 3 Reward: 431.45721435546875\n",
      "Test Episode 4 Reward: 56.37648010253906\n",
      "Test Episode 5 Reward: 56.37648010253906\n",
      "Test Episode 6 Reward: 56.37648010253906\n",
      "Test Episode 7 Reward: 219.1642608642578\n",
      "Test Episode 8 Reward: 340.0702667236328\n",
      "Test Episode 9 Reward: 56.37648010253906\n",
      "Test Episode 10 Reward: 56.37648010253906\n",
      "Average Test Reward (with depth buffer:) 166.9561294555664\n",
      "Epoch 20 test without depth buffer:\n",
      "Test Episode 1 Reward: 320.401611328125\n",
      "Test Episode 2 Reward: 11.590087890625\n",
      "Test Episode 3 Reward: 354.45166015625\n",
      "Test Episode 4 Reward: 56.37648010253906\n",
      "Test Episode 5 Reward: 56.37648010253906\n",
      "Test Episode 6 Reward: 56.37648010253906\n",
      "Test Episode 7 Reward: 69.28022766113281\n",
      "Test Episode 8 Reward: 56.37648010253906\n",
      "Test Episode 9 Reward: 93.97186279296875\n",
      "Test Episode 10 Reward: 107.71990966796875\n",
      "Average Test Reward (without depth buffer): 118.29212799072266\n"
     ]
    },
    {
     "name": "stderr",
     "output_type": "stream",
     "text": [
      "100%|██████████| 2000/2000 [01:31<00:00, 21.78it/s]\n"
     ]
    },
    {
     "name": "stdout",
     "output_type": "stream",
     "text": [
      "Epoch 21 Mean Reward: -67.79414495849609\n"
     ]
    },
    {
     "name": "stderr",
     "output_type": "stream",
     "text": [
      "100%|██████████| 2000/2000 [01:31<00:00, 21.97it/s]\n"
     ]
    },
    {
     "name": "stdout",
     "output_type": "stream",
     "text": [
      "Epoch 22 Mean Reward: -66.51500511169434\n"
     ]
    },
    {
     "name": "stderr",
     "output_type": "stream",
     "text": [
      "100%|██████████| 2000/2000 [01:32<00:00, 21.55it/s]\n"
     ]
    },
    {
     "name": "stdout",
     "output_type": "stream",
     "text": [
      "Epoch 23 Mean Reward: -69.05826104736329\n"
     ]
    },
    {
     "name": "stderr",
     "output_type": "stream",
     "text": [
      "100%|██████████| 2000/2000 [01:31<00:00, 21.90it/s]\n"
     ]
    },
    {
     "name": "stdout",
     "output_type": "stream",
     "text": [
      "Epoch 24 Mean Reward: -69.51912084197998\n"
     ]
    },
    {
     "name": "stderr",
     "output_type": "stream",
     "text": [
      "100%|██████████| 2000/2000 [01:31<00:00, 21.80it/s]\n"
     ]
    },
    {
     "name": "stdout",
     "output_type": "stream",
     "text": [
      "Epoch 25 Mean Reward: -67.95758199310303\n"
     ]
    },
    {
     "name": "stderr",
     "output_type": "stream",
     "text": [
      "100%|██████████| 2000/2000 [01:35<00:00, 20.90it/s]\n"
     ]
    },
    {
     "name": "stdout",
     "output_type": "stream",
     "text": [
      "Epoch 26 Mean Reward: -68.66849095153809\n"
     ]
    },
    {
     "name": "stderr",
     "output_type": "stream",
     "text": [
      "100%|██████████| 2000/2000 [01:32<00:00, 21.72it/s]\n"
     ]
    },
    {
     "name": "stdout",
     "output_type": "stream",
     "text": [
      "Epoch 27 Mean Reward: -70.78637317657471\n"
     ]
    },
    {
     "name": "stderr",
     "output_type": "stream",
     "text": [
      "100%|██████████| 2000/2000 [01:32<00:00, 21.64it/s]\n"
     ]
    },
    {
     "name": "stdout",
     "output_type": "stream",
     "text": [
      "Epoch 28 Mean Reward: -70.54002215576172\n"
     ]
    },
    {
     "name": "stderr",
     "output_type": "stream",
     "text": [
      "100%|██████████| 2000/2000 [01:32<00:00, 21.66it/s]\n"
     ]
    },
    {
     "name": "stdout",
     "output_type": "stream",
     "text": [
      "Epoch 29 Mean Reward: -68.11146450042725\n"
     ]
    },
    {
     "name": "stderr",
     "output_type": "stream",
     "text": [
      "100%|██████████| 2000/2000 [01:32<00:00, 21.55it/s]\n"
     ]
    },
    {
     "name": "stdout",
     "output_type": "stream",
     "text": [
      "Epoch 30 Mean Reward: -66.8806706161499\n"
     ]
    },
    {
     "name": "stderr",
     "output_type": "stream",
     "text": [
      "100%|██████████| 2000/2000 [01:32<00:00, 21.68it/s]\n"
     ]
    },
    {
     "name": "stdout",
     "output_type": "stream",
     "text": [
      "Epoch 31 Mean Reward: -67.82415312194824\n"
     ]
    },
    {
     "name": "stderr",
     "output_type": "stream",
     "text": [
      "100%|██████████| 2000/2000 [01:32<00:00, 21.60it/s]\n"
     ]
    },
    {
     "name": "stdout",
     "output_type": "stream",
     "text": [
      "Epoch 32 Mean Reward: -67.41665068054199\n"
     ]
    },
    {
     "name": "stderr",
     "output_type": "stream",
     "text": [
      "100%|██████████| 2000/2000 [01:33<00:00, 21.30it/s]\n"
     ]
    },
    {
     "name": "stdout",
     "output_type": "stream",
     "text": [
      "Epoch 33 Mean Reward: -69.93697465515137\n"
     ]
    },
    {
     "name": "stderr",
     "output_type": "stream",
     "text": [
      "100%|██████████| 2000/2000 [01:33<00:00, 21.49it/s]\n"
     ]
    },
    {
     "name": "stdout",
     "output_type": "stream",
     "text": [
      "Epoch 34 Mean Reward: -68.32547748565673\n"
     ]
    },
    {
     "name": "stderr",
     "output_type": "stream",
     "text": [
      "100%|██████████| 2000/2000 [01:32<00:00, 21.53it/s]\n"
     ]
    },
    {
     "name": "stdout",
     "output_type": "stream",
     "text": [
      "Epoch 35 Mean Reward: -67.24427024078369\n"
     ]
    },
    {
     "name": "stderr",
     "output_type": "stream",
     "text": [
      "100%|██████████| 2000/2000 [01:34<00:00, 21.21it/s]\n"
     ]
    },
    {
     "name": "stdout",
     "output_type": "stream",
     "text": [
      "Epoch 36 Mean Reward: -69.8491867904663\n"
     ]
    },
    {
     "name": "stderr",
     "output_type": "stream",
     "text": [
      "100%|██████████| 2000/2000 [01:32<00:00, 21.61it/s]\n"
     ]
    },
    {
     "name": "stdout",
     "output_type": "stream",
     "text": [
      "Epoch 37 Mean Reward: -68.25079510498047\n"
     ]
    },
    {
     "name": "stderr",
     "output_type": "stream",
     "text": [
      "100%|██████████| 2000/2000 [01:32<00:00, 21.63it/s]\n"
     ]
    },
    {
     "name": "stdout",
     "output_type": "stream",
     "text": [
      "Epoch 38 Mean Reward: -66.13093434143066\n"
     ]
    },
    {
     "name": "stderr",
     "output_type": "stream",
     "text": [
      "100%|██████████| 2000/2000 [01:32<00:00, 21.53it/s]\n"
     ]
    },
    {
     "name": "stdout",
     "output_type": "stream",
     "text": [
      "Epoch 39 Mean Reward: -69.37560523986816\n"
     ]
    },
    {
     "name": "stderr",
     "output_type": "stream",
     "text": [
      "100%|██████████| 2000/2000 [01:32<00:00, 21.57it/s]\n"
     ]
    },
    {
     "name": "stdout",
     "output_type": "stream",
     "text": [
      "Epoch 40 Mean Reward: -68.68682375335693\n",
      "Epoch 40 Model saved to ./checkpoints/deadly_corridor.ckpt\n",
      "Epoch 40 test with depth buffer:\n",
      "Test Episode 1 Reward: 58.35874938964844\n",
      "Test Episode 2 Reward: 212.0392303466797\n",
      "Test Episode 3 Reward: 58.35874938964844\n",
      "Test Episode 4 Reward: 254.87594604492188\n",
      "Test Episode 5 Reward: 58.35874938964844\n",
      "Test Episode 6 Reward: 58.35874938964844\n",
      "Test Episode 7 Reward: 58.35874938964844\n",
      "Test Episode 8 Reward: 90.97235107421875\n",
      "Test Episode 9 Reward: 58.35874938964844\n",
      "Test Episode 10 Reward: 58.35874938964844\n",
      "Average Test Reward (with depth buffer:) 96.63987731933594\n",
      "Epoch 40 test without depth buffer:\n",
      "Test Episode 1 Reward: 49.74522399902344\n",
      "Test Episode 2 Reward: 58.35874938964844\n",
      "Test Episode 3 Reward: 58.04679870605469\n",
      "Test Episode 4 Reward: 58.35874938964844\n",
      "Test Episode 5 Reward: 88.34764099121094\n",
      "Test Episode 6 Reward: 58.35874938964844\n",
      "Test Episode 7 Reward: 58.35874938964844\n",
      "Test Episode 8 Reward: 120.12472534179688\n",
      "Test Episode 9 Reward: 58.35874938964844\n",
      "Test Episode 10 Reward: 69.64576721191406\n",
      "Average Test Reward (without depth buffer): 67.77039031982422\n"
     ]
    },
    {
     "name": "stderr",
     "output_type": "stream",
     "text": [
      "100%|██████████| 2000/2000 [01:33<00:00, 21.43it/s]\n"
     ]
    },
    {
     "name": "stdout",
     "output_type": "stream",
     "text": [
      "Epoch 41 Mean Reward: -65.83411849212646\n"
     ]
    },
    {
     "name": "stderr",
     "output_type": "stream",
     "text": [
      "100%|██████████| 2000/2000 [01:33<00:00, 21.39it/s]\n"
     ]
    },
    {
     "name": "stdout",
     "output_type": "stream",
     "text": [
      "Epoch 42 Mean Reward: -67.99034001159669\n"
     ]
    },
    {
     "name": "stderr",
     "output_type": "stream",
     "text": [
      "100%|██████████| 2000/2000 [01:32<00:00, 21.54it/s]\n"
     ]
    },
    {
     "name": "stdout",
     "output_type": "stream",
     "text": [
      "Epoch 43 Mean Reward: -68.6001408920288\n"
     ]
    },
    {
     "name": "stderr",
     "output_type": "stream",
     "text": [
      "100%|██████████| 2000/2000 [01:33<00:00, 21.50it/s]\n"
     ]
    },
    {
     "name": "stdout",
     "output_type": "stream",
     "text": [
      "Epoch 44 Mean Reward: -67.80897841644287\n"
     ]
    },
    {
     "name": "stderr",
     "output_type": "stream",
     "text": [
      "100%|██████████| 2000/2000 [01:32<00:00, 21.58it/s]\n"
     ]
    },
    {
     "name": "stdout",
     "output_type": "stream",
     "text": [
      "Epoch 45 Mean Reward: -69.38006540679932\n"
     ]
    },
    {
     "name": "stderr",
     "output_type": "stream",
     "text": [
      "100%|██████████| 2000/2000 [01:34<00:00, 21.06it/s]\n"
     ]
    },
    {
     "name": "stdout",
     "output_type": "stream",
     "text": [
      "Epoch 46 Mean Reward: -69.9004210281372\n"
     ]
    },
    {
     "name": "stderr",
     "output_type": "stream",
     "text": [
      "100%|██████████| 2000/2000 [01:33<00:00, 21.36it/s]\n"
     ]
    },
    {
     "name": "stdout",
     "output_type": "stream",
     "text": [
      "Epoch 47 Mean Reward: -68.13990602111816\n"
     ]
    },
    {
     "name": "stderr",
     "output_type": "stream",
     "text": [
      "100%|██████████| 2000/2000 [01:32<00:00, 21.53it/s]\n"
     ]
    },
    {
     "name": "stdout",
     "output_type": "stream",
     "text": [
      "Epoch 48 Mean Reward: -66.44766372680664\n"
     ]
    },
    {
     "name": "stderr",
     "output_type": "stream",
     "text": [
      "100%|██████████| 2000/2000 [01:33<00:00, 21.50it/s]\n"
     ]
    },
    {
     "name": "stdout",
     "output_type": "stream",
     "text": [
      "Epoch 49 Mean Reward: -70.1572696685791\n"
     ]
    },
    {
     "name": "stderr",
     "output_type": "stream",
     "text": [
      "100%|██████████| 2000/2000 [01:33<00:00, 21.45it/s]\n"
     ]
    },
    {
     "name": "stdout",
     "output_type": "stream",
     "text": [
      "Epoch 50 Mean Reward: -68.68098606872559\n"
     ]
    },
    {
     "name": "stderr",
     "output_type": "stream",
     "text": [
      "100%|██████████| 2000/2000 [01:32<00:00, 21.58it/s]\n"
     ]
    },
    {
     "name": "stdout",
     "output_type": "stream",
     "text": [
      "Epoch 51 Mean Reward: -69.32613759613037\n"
     ]
    },
    {
     "name": "stderr",
     "output_type": "stream",
     "text": [
      "100%|██████████| 2000/2000 [01:33<00:00, 21.46it/s]\n"
     ]
    },
    {
     "name": "stdout",
     "output_type": "stream",
     "text": [
      "Epoch 52 Mean Reward: -67.49723764801026\n"
     ]
    },
    {
     "name": "stderr",
     "output_type": "stream",
     "text": [
      "100%|██████████| 2000/2000 [01:33<00:00, 21.36it/s]\n"
     ]
    },
    {
     "name": "stdout",
     "output_type": "stream",
     "text": [
      "Epoch 53 Mean Reward: -71.39681579589843\n"
     ]
    },
    {
     "name": "stderr",
     "output_type": "stream",
     "text": [
      "100%|██████████| 2000/2000 [01:33<00:00, 21.43it/s]\n"
     ]
    },
    {
     "name": "stdout",
     "output_type": "stream",
     "text": [
      "Epoch 54 Mean Reward: -69.94489008331298\n"
     ]
    },
    {
     "name": "stderr",
     "output_type": "stream",
     "text": [
      "100%|██████████| 2000/2000 [01:34<00:00, 21.27it/s]\n"
     ]
    },
    {
     "name": "stdout",
     "output_type": "stream",
     "text": [
      "Epoch 55 Mean Reward: -68.29179901885986\n"
     ]
    },
    {
     "name": "stderr",
     "output_type": "stream",
     "text": [
      "100%|██████████| 2000/2000 [01:33<00:00, 21.39it/s]\n"
     ]
    },
    {
     "name": "stdout",
     "output_type": "stream",
     "text": [
      "Epoch 56 Mean Reward: -71.25022718048096\n"
     ]
    },
    {
     "name": "stderr",
     "output_type": "stream",
     "text": [
      "100%|██████████| 2000/2000 [01:33<00:00, 21.43it/s]\n"
     ]
    },
    {
     "name": "stdout",
     "output_type": "stream",
     "text": [
      "Epoch 57 Mean Reward: -68.58976413726806\n"
     ]
    },
    {
     "name": "stderr",
     "output_type": "stream",
     "text": [
      "100%|██████████| 2000/2000 [01:33<00:00, 21.30it/s]\n"
     ]
    },
    {
     "name": "stdout",
     "output_type": "stream",
     "text": [
      "Epoch 58 Mean Reward: -67.19042333984375\n"
     ]
    },
    {
     "name": "stderr",
     "output_type": "stream",
     "text": [
      "100%|██████████| 2000/2000 [01:33<00:00, 21.43it/s]\n"
     ]
    },
    {
     "name": "stdout",
     "output_type": "stream",
     "text": [
      "Epoch 59 Mean Reward: -68.54463328552247\n"
     ]
    },
    {
     "name": "stderr",
     "output_type": "stream",
     "text": [
      "100%|██████████| 2000/2000 [01:32<00:00, 21.59it/s]\n"
     ]
    },
    {
     "name": "stdout",
     "output_type": "stream",
     "text": [
      "Epoch 60 Mean Reward: -69.82765422821045\n",
      "Epoch 60 Model saved to ./checkpoints/deadly_corridor.ckpt\n",
      "Epoch 60 test with depth buffer:\n",
      "Test Episode 1 Reward: 88.91380310058594\n",
      "Test Episode 2 Reward: 130.90528869628906\n",
      "Test Episode 3 Reward: 93.87403869628906\n",
      "Test Episode 4 Reward: 88.91380310058594\n",
      "Test Episode 5 Reward: 88.91380310058594\n",
      "Test Episode 6 Reward: 88.91380310058594\n",
      "Test Episode 7 Reward: 393.7066192626953\n",
      "Test Episode 8 Reward: 88.91380310058594\n",
      "Test Episode 9 Reward: 88.91380310058594\n",
      "Test Episode 10 Reward: 88.91380310058594\n",
      "Average Test Reward (with depth buffer:) 124.0882568359375\n",
      "Epoch 60 test without depth buffer:\n",
      "Test Episode 1 Reward: 88.91380310058594\n",
      "Test Episode 2 Reward: 88.91380310058594\n",
      "Test Episode 3 Reward: 88.91380310058594\n",
      "Test Episode 4 Reward: 73.68702697753906\n",
      "Test Episode 5 Reward: -65.12493896484375\n",
      "Test Episode 6 Reward: 85.22138977050781\n",
      "Test Episode 7 Reward: 48.193267822265625\n",
      "Test Episode 8 Reward: 88.91380310058594\n",
      "Test Episode 9 Reward: 300.8233184814453\n",
      "Test Episode 10 Reward: 78.83128356933594\n",
      "Average Test Reward (without depth buffer): 87.72865600585938\n"
     ]
    },
    {
     "name": "stderr",
     "output_type": "stream",
     "text": [
      "100%|██████████| 2000/2000 [01:34<00:00, 21.10it/s]\n"
     ]
    },
    {
     "name": "stdout",
     "output_type": "stream",
     "text": [
      "Epoch 61 Mean Reward: -68.12740185546875\n"
     ]
    },
    {
     "name": "stderr",
     "output_type": "stream",
     "text": [
      "100%|██████████| 2000/2000 [01:34<00:00, 21.25it/s]\n"
     ]
    },
    {
     "name": "stdout",
     "output_type": "stream",
     "text": [
      "Epoch 62 Mean Reward: -69.20437313842774\n"
     ]
    },
    {
     "name": "stderr",
     "output_type": "stream",
     "text": [
      "100%|██████████| 2000/2000 [01:33<00:00, 21.50it/s]\n"
     ]
    },
    {
     "name": "stdout",
     "output_type": "stream",
     "text": [
      "Epoch 63 Mean Reward: -69.57416462707519\n"
     ]
    },
    {
     "name": "stderr",
     "output_type": "stream",
     "text": [
      "100%|██████████| 2000/2000 [01:33<00:00, 21.43it/s]\n"
     ]
    },
    {
     "name": "stdout",
     "output_type": "stream",
     "text": [
      "Epoch 64 Mean Reward: -68.48863570404053\n"
     ]
    },
    {
     "name": "stderr",
     "output_type": "stream",
     "text": [
      "100%|██████████| 2000/2000 [01:34<00:00, 21.23it/s]\n"
     ]
    },
    {
     "name": "stdout",
     "output_type": "stream",
     "text": [
      "Epoch 65 Mean Reward: -69.33805627441406\n"
     ]
    },
    {
     "name": "stderr",
     "output_type": "stream",
     "text": [
      "100%|██████████| 2000/2000 [01:35<00:00, 20.98it/s]\n"
     ]
    },
    {
     "name": "stdout",
     "output_type": "stream",
     "text": [
      "Epoch 66 Mean Reward: -69.34291608428956\n"
     ]
    },
    {
     "name": "stderr",
     "output_type": "stream",
     "text": [
      "100%|██████████| 2000/2000 [01:34<00:00, 21.27it/s]\n"
     ]
    },
    {
     "name": "stdout",
     "output_type": "stream",
     "text": [
      "Epoch 67 Mean Reward: -68.92253354644775\n"
     ]
    },
    {
     "name": "stderr",
     "output_type": "stream",
     "text": [
      "100%|██████████| 2000/2000 [01:33<00:00, 21.42it/s]\n"
     ]
    },
    {
     "name": "stdout",
     "output_type": "stream",
     "text": [
      "Epoch 68 Mean Reward: -68.71460629272461\n"
     ]
    },
    {
     "name": "stderr",
     "output_type": "stream",
     "text": [
      "100%|██████████| 2000/2000 [01:33<00:00, 21.33it/s]\n"
     ]
    },
    {
     "name": "stdout",
     "output_type": "stream",
     "text": [
      "Epoch 69 Mean Reward: -68.7995673828125\n"
     ]
    },
    {
     "name": "stderr",
     "output_type": "stream",
     "text": [
      "100%|██████████| 2000/2000 [01:34<00:00, 21.26it/s]\n"
     ]
    },
    {
     "name": "stdout",
     "output_type": "stream",
     "text": [
      "Epoch 70 Mean Reward: -68.92998101043702\n"
     ]
    },
    {
     "name": "stderr",
     "output_type": "stream",
     "text": [
      "100%|██████████| 2000/2000 [01:32<00:00, 21.56it/s]\n"
     ]
    },
    {
     "name": "stdout",
     "output_type": "stream",
     "text": [
      "Epoch 71 Mean Reward: -69.80855863952637\n"
     ]
    },
    {
     "name": "stderr",
     "output_type": "stream",
     "text": [
      "100%|██████████| 2000/2000 [01:33<00:00, 21.44it/s]\n"
     ]
    },
    {
     "name": "stdout",
     "output_type": "stream",
     "text": [
      "Epoch 72 Mean Reward: -68.66602241516114\n"
     ]
    },
    {
     "name": "stderr",
     "output_type": "stream",
     "text": [
      "100%|██████████| 2000/2000 [01:33<00:00, 21.49it/s]\n"
     ]
    },
    {
     "name": "stdout",
     "output_type": "stream",
     "text": [
      "Epoch 73 Mean Reward: -66.9089952545166\n"
     ]
    },
    {
     "name": "stderr",
     "output_type": "stream",
     "text": [
      "100%|██████████| 2000/2000 [01:34<00:00, 21.26it/s]\n"
     ]
    },
    {
     "name": "stdout",
     "output_type": "stream",
     "text": [
      "Epoch 74 Mean Reward: -66.82508786010742\n"
     ]
    },
    {
     "name": "stderr",
     "output_type": "stream",
     "text": [
      "100%|██████████| 2000/2000 [01:33<00:00, 21.45it/s]\n"
     ]
    },
    {
     "name": "stdout",
     "output_type": "stream",
     "text": [
      "Epoch 75 Mean Reward: -67.54893774414063\n"
     ]
    },
    {
     "name": "stderr",
     "output_type": "stream",
     "text": [
      "100%|██████████| 2000/2000 [01:33<00:00, 21.42it/s]\n"
     ]
    },
    {
     "name": "stdout",
     "output_type": "stream",
     "text": [
      "Epoch 76 Mean Reward: -67.03399741363525\n"
     ]
    },
    {
     "name": "stderr",
     "output_type": "stream",
     "text": [
      "100%|██████████| 2000/2000 [01:33<00:00, 21.43it/s]\n"
     ]
    },
    {
     "name": "stdout",
     "output_type": "stream",
     "text": [
      "Epoch 77 Mean Reward: -68.66481011199951\n"
     ]
    },
    {
     "name": "stderr",
     "output_type": "stream",
     "text": [
      "100%|██████████| 2000/2000 [01:32<00:00, 21.60it/s]\n"
     ]
    },
    {
     "name": "stdout",
     "output_type": "stream",
     "text": [
      "Epoch 78 Mean Reward: -67.97682423400879\n"
     ]
    },
    {
     "name": "stderr",
     "output_type": "stream",
     "text": [
      "100%|██████████| 2000/2000 [01:33<00:00, 21.35it/s]\n"
     ]
    },
    {
     "name": "stdout",
     "output_type": "stream",
     "text": [
      "Epoch 79 Mean Reward: -66.23069107818604\n"
     ]
    },
    {
     "name": "stderr",
     "output_type": "stream",
     "text": [
      "100%|██████████| 2000/2000 [01:32<00:00, 21.53it/s]\n"
     ]
    },
    {
     "name": "stdout",
     "output_type": "stream",
     "text": [
      "Epoch 80 Mean Reward: -67.81382174682618\n",
      "Epoch 80 Model saved to ./checkpoints/deadly_corridor.ckpt\n",
      "Epoch 80 test with depth buffer:\n",
      "Test Episode 1 Reward: 217.7736053466797\n",
      "Test Episode 2 Reward: 217.7736053466797\n",
      "Test Episode 3 Reward: 97.01417541503906\n",
      "Test Episode 4 Reward: 217.7736053466797\n",
      "Test Episode 5 Reward: 248.4740753173828\n",
      "Test Episode 6 Reward: 217.7736053466797\n",
      "Test Episode 7 Reward: 217.7736053466797\n",
      "Test Episode 8 Reward: 296.5083770751953\n",
      "Test Episode 9 Reward: 28.148269653320312\n",
      "Test Episode 10 Reward: 47.87763977050781\n",
      "Average Test Reward (with depth buffer:) 180.68905639648438\n",
      "Epoch 80 test without depth buffer:\n",
      "Test Episode 1 Reward: 87.19203186035156\n",
      "Test Episode 2 Reward: 56.976898193359375\n",
      "Test Episode 3 Reward: 217.7736053466797\n",
      "Test Episode 4 Reward: 95.91175842285156\n",
      "Test Episode 5 Reward: 217.7736053466797\n",
      "Test Episode 6 Reward: 36.10255432128906\n",
      "Test Episode 7 Reward: 217.7736053466797\n",
      "Test Episode 8 Reward: 581.033203125\n",
      "Test Episode 9 Reward: -106.76234436035156\n",
      "Test Episode 10 Reward: 217.7736053466797\n",
      "Average Test Reward (without depth buffer): 162.15485229492188\n"
     ]
    },
    {
     "name": "stderr",
     "output_type": "stream",
     "text": [
      "100%|██████████| 2000/2000 [01:33<00:00, 21.42it/s]\n"
     ]
    },
    {
     "name": "stdout",
     "output_type": "stream",
     "text": [
      "Epoch 81 Mean Reward: -68.97850661468506\n"
     ]
    },
    {
     "name": "stderr",
     "output_type": "stream",
     "text": [
      "100%|██████████| 2000/2000 [01:33<00:00, 21.48it/s]\n"
     ]
    },
    {
     "name": "stdout",
     "output_type": "stream",
     "text": [
      "Epoch 82 Mean Reward: -67.9606916809082\n"
     ]
    },
    {
     "name": "stderr",
     "output_type": "stream",
     "text": [
      "100%|██████████| 2000/2000 [01:32<00:00, 21.58it/s]\n"
     ]
    },
    {
     "name": "stdout",
     "output_type": "stream",
     "text": [
      "Epoch 83 Mean Reward: -69.09042449188233\n"
     ]
    },
    {
     "name": "stderr",
     "output_type": "stream",
     "text": [
      "100%|██████████| 2000/2000 [01:32<00:00, 21.55it/s]\n"
     ]
    },
    {
     "name": "stdout",
     "output_type": "stream",
     "text": [
      "Epoch 84 Mean Reward: -68.42303899383545\n"
     ]
    },
    {
     "name": "stderr",
     "output_type": "stream",
     "text": [
      "100%|██████████| 2000/2000 [01:34<00:00, 21.18it/s]\n"
     ]
    },
    {
     "name": "stdout",
     "output_type": "stream",
     "text": [
      "Epoch 85 Mean Reward: -68.87920096588135\n"
     ]
    },
    {
     "name": "stderr",
     "output_type": "stream",
     "text": [
      "100%|██████████| 2000/2000 [01:34<00:00, 21.25it/s]\n"
     ]
    },
    {
     "name": "stdout",
     "output_type": "stream",
     "text": [
      "Epoch 86 Mean Reward: -69.96277238464356\n"
     ]
    },
    {
     "name": "stderr",
     "output_type": "stream",
     "text": [
      "100%|██████████| 2000/2000 [01:33<00:00, 21.50it/s]\n"
     ]
    },
    {
     "name": "stdout",
     "output_type": "stream",
     "text": [
      "Epoch 87 Mean Reward: -67.62289102172852\n"
     ]
    },
    {
     "name": "stderr",
     "output_type": "stream",
     "text": [
      "100%|██████████| 2000/2000 [01:33<00:00, 21.45it/s]\n"
     ]
    },
    {
     "name": "stdout",
     "output_type": "stream",
     "text": [
      "Epoch 88 Mean Reward: -70.38387143707276\n"
     ]
    },
    {
     "name": "stderr",
     "output_type": "stream",
     "text": [
      "100%|██████████| 2000/2000 [01:33<00:00, 21.33it/s]\n"
     ]
    },
    {
     "name": "stdout",
     "output_type": "stream",
     "text": [
      "Epoch 89 Mean Reward: -68.81719494628906\n"
     ]
    },
    {
     "name": "stderr",
     "output_type": "stream",
     "text": [
      "100%|██████████| 2000/2000 [01:33<00:00, 21.42it/s]\n"
     ]
    },
    {
     "name": "stdout",
     "output_type": "stream",
     "text": [
      "Epoch 90 Mean Reward: -67.78642777252198\n"
     ]
    },
    {
     "name": "stderr",
     "output_type": "stream",
     "text": [
      "100%|██████████| 2000/2000 [01:33<00:00, 21.48it/s]\n"
     ]
    },
    {
     "name": "stdout",
     "output_type": "stream",
     "text": [
      "Epoch 91 Mean Reward: -66.703804145813\n"
     ]
    },
    {
     "name": "stderr",
     "output_type": "stream",
     "text": [
      "100%|██████████| 2000/2000 [01:31<00:00, 21.76it/s]\n"
     ]
    },
    {
     "name": "stdout",
     "output_type": "stream",
     "text": [
      "Epoch 92 Mean Reward: -68.06045174407959\n"
     ]
    },
    {
     "name": "stderr",
     "output_type": "stream",
     "text": [
      "100%|██████████| 2000/2000 [01:32<00:00, 21.71it/s]\n"
     ]
    },
    {
     "name": "stdout",
     "output_type": "stream",
     "text": [
      "Epoch 93 Mean Reward: -69.79361511993409\n"
     ]
    },
    {
     "name": "stderr",
     "output_type": "stream",
     "text": [
      "100%|██████████| 2000/2000 [01:33<00:00, 21.36it/s]\n"
     ]
    },
    {
     "name": "stdout",
     "output_type": "stream",
     "text": [
      "Epoch 94 Mean Reward: -65.67250185394288\n"
     ]
    },
    {
     "name": "stderr",
     "output_type": "stream",
     "text": [
      "100%|██████████| 2000/2000 [01:32<00:00, 21.54it/s]\n"
     ]
    },
    {
     "name": "stdout",
     "output_type": "stream",
     "text": [
      "Epoch 95 Mean Reward: -69.39829199981689\n"
     ]
    },
    {
     "name": "stderr",
     "output_type": "stream",
     "text": [
      "100%|██████████| 2000/2000 [01:33<00:00, 21.44it/s]\n"
     ]
    },
    {
     "name": "stdout",
     "output_type": "stream",
     "text": [
      "Epoch 96 Mean Reward: -70.16462031555176\n"
     ]
    },
    {
     "name": "stderr",
     "output_type": "stream",
     "text": [
      "100%|██████████| 2000/2000 [01:33<00:00, 21.50it/s]\n"
     ]
    },
    {
     "name": "stdout",
     "output_type": "stream",
     "text": [
      "Epoch 97 Mean Reward: -66.75827429962158\n"
     ]
    },
    {
     "name": "stderr",
     "output_type": "stream",
     "text": [
      "100%|██████████| 2000/2000 [01:33<00:00, 21.49it/s]\n"
     ]
    },
    {
     "name": "stdout",
     "output_type": "stream",
     "text": [
      "Epoch 98 Mean Reward: -69.28629666900635\n"
     ]
    },
    {
     "name": "stderr",
     "output_type": "stream",
     "text": [
      "100%|██████████| 2000/2000 [01:33<00:00, 21.30it/s]\n"
     ]
    },
    {
     "name": "stdout",
     "output_type": "stream",
     "text": [
      "Epoch 99 Mean Reward: -68.36756390380859\n"
     ]
    },
    {
     "name": "stderr",
     "output_type": "stream",
     "text": [
      "100%|██████████| 2000/2000 [01:31<00:00, 21.74it/s]\n"
     ]
    },
    {
     "name": "stdout",
     "output_type": "stream",
     "text": [
      "Epoch 100 Mean Reward: -68.99905783081054\n",
      "Epoch 100 Model saved to ./checkpoints/deadly_corridor.ckpt\n",
      "Epoch 100 test with depth buffer:\n",
      "Test Episode 1 Reward: 88.65116882324219\n",
      "Test Episode 2 Reward: 76.08125305175781\n",
      "Test Episode 3 Reward: 404.2420349121094\n",
      "Test Episode 4 Reward: 480.6712188720703\n",
      "Test Episode 5 Reward: 84.73899841308594\n",
      "Test Episode 6 Reward: 319.81787109375\n",
      "Test Episode 7 Reward: 86.77743530273438\n",
      "Test Episode 8 Reward: 85.89578247070312\n",
      "Test Episode 9 Reward: 88.65116882324219\n",
      "Test Episode 10 Reward: 88.65116882324219\n",
      "Average Test Reward (with depth buffer:) 180.41781005859374\n",
      "Epoch 100 test without depth buffer:\n",
      "Test Episode 1 Reward: 88.65116882324219\n",
      "Test Episode 2 Reward: 88.65116882324219\n",
      "Test Episode 3 Reward: 54.059051513671875\n",
      "Test Episode 4 Reward: 88.65116882324219\n",
      "Test Episode 5 Reward: 88.65116882324219\n",
      "Test Episode 6 Reward: 232.1947479248047\n",
      "Test Episode 7 Reward: 166.80409240722656\n",
      "Test Episode 8 Reward: 88.65116882324219\n",
      "Test Episode 9 Reward: 264.1786193847656\n",
      "Test Episode 10 Reward: 88.65116882324219\n",
      "Average Test Reward (without depth buffer): 124.91435241699219\n"
     ]
    },
    {
     "name": "stderr",
     "output_type": "stream",
     "text": [
      "100%|██████████| 2000/2000 [01:32<00:00, 21.62it/s]\n"
     ]
    },
    {
     "name": "stdout",
     "output_type": "stream",
     "text": [
      "Epoch 101 Mean Reward: -69.60581312561035\n"
     ]
    },
    {
     "name": "stderr",
     "output_type": "stream",
     "text": [
      "100%|██████████| 2000/2000 [01:32<00:00, 21.54it/s]\n"
     ]
    },
    {
     "name": "stdout",
     "output_type": "stream",
     "text": [
      "Epoch 102 Mean Reward: -69.72260597991944\n"
     ]
    },
    {
     "name": "stderr",
     "output_type": "stream",
     "text": [
      "100%|██████████| 2000/2000 [01:33<00:00, 21.48it/s]\n"
     ]
    },
    {
     "name": "stdout",
     "output_type": "stream",
     "text": [
      "Epoch 103 Mean Reward: -68.61436899566651\n"
     ]
    },
    {
     "name": "stderr",
     "output_type": "stream",
     "text": [
      "100%|██████████| 2000/2000 [01:33<00:00, 21.35it/s]\n"
     ]
    },
    {
     "name": "stdout",
     "output_type": "stream",
     "text": [
      "Epoch 104 Mean Reward: -68.24337113952637\n"
     ]
    },
    {
     "name": "stderr",
     "output_type": "stream",
     "text": [
      "100%|██████████| 2000/2000 [01:35<00:00, 20.92it/s]\n"
     ]
    },
    {
     "name": "stdout",
     "output_type": "stream",
     "text": [
      "Epoch 105 Mean Reward: -66.77332872772217\n"
     ]
    },
    {
     "name": "stderr",
     "output_type": "stream",
     "text": [
      "100%|██████████| 2000/2000 [01:35<00:00, 21.01it/s]\n"
     ]
    },
    {
     "name": "stdout",
     "output_type": "stream",
     "text": [
      "Epoch 106 Mean Reward: -67.95546886444092\n"
     ]
    },
    {
     "name": "stderr",
     "output_type": "stream",
     "text": [
      "100%|██████████| 2000/2000 [01:34<00:00, 21.16it/s]\n"
     ]
    },
    {
     "name": "stdout",
     "output_type": "stream",
     "text": [
      "Epoch 107 Mean Reward: -68.56788566589356\n"
     ]
    },
    {
     "name": "stderr",
     "output_type": "stream",
     "text": [
      "100%|██████████| 2000/2000 [01:34<00:00, 21.09it/s]\n"
     ]
    },
    {
     "name": "stdout",
     "output_type": "stream",
     "text": [
      "Epoch 108 Mean Reward: -66.74919634246827\n"
     ]
    },
    {
     "name": "stderr",
     "output_type": "stream",
     "text": [
      "100%|██████████| 2000/2000 [01:34<00:00, 21.23it/s]\n"
     ]
    },
    {
     "name": "stdout",
     "output_type": "stream",
     "text": [
      "Epoch 109 Mean Reward: -67.69603684997558\n"
     ]
    },
    {
     "name": "stderr",
     "output_type": "stream",
     "text": [
      "100%|██████████| 2000/2000 [01:33<00:00, 21.29it/s]\n"
     ]
    },
    {
     "name": "stdout",
     "output_type": "stream",
     "text": [
      "Epoch 110 Mean Reward: -68.27539896392823\n"
     ]
    },
    {
     "name": "stderr",
     "output_type": "stream",
     "text": [
      "100%|██████████| 2000/2000 [01:34<00:00, 21.24it/s]\n"
     ]
    },
    {
     "name": "stdout",
     "output_type": "stream",
     "text": [
      "Epoch 111 Mean Reward: -67.99006552886964\n"
     ]
    },
    {
     "name": "stderr",
     "output_type": "stream",
     "text": [
      "100%|██████████| 2000/2000 [01:33<00:00, 21.30it/s]\n"
     ]
    },
    {
     "name": "stdout",
     "output_type": "stream",
     "text": [
      "Epoch 112 Mean Reward: -67.8942767715454\n"
     ]
    },
    {
     "name": "stderr",
     "output_type": "stream",
     "text": [
      "100%|██████████| 2000/2000 [01:34<00:00, 21.24it/s]\n"
     ]
    },
    {
     "name": "stdout",
     "output_type": "stream",
     "text": [
      "Epoch 113 Mean Reward: -67.25885551452637\n"
     ]
    },
    {
     "name": "stderr",
     "output_type": "stream",
     "text": [
      "100%|██████████| 2000/2000 [01:33<00:00, 21.47it/s]\n"
     ]
    },
    {
     "name": "stdout",
     "output_type": "stream",
     "text": [
      "Epoch 114 Mean Reward: -69.39894556427002\n"
     ]
    },
    {
     "name": "stderr",
     "output_type": "stream",
     "text": [
      "100%|██████████| 2000/2000 [01:34<00:00, 21.25it/s]\n"
     ]
    },
    {
     "name": "stdout",
     "output_type": "stream",
     "text": [
      "Epoch 115 Mean Reward: -69.0376591720581\n"
     ]
    },
    {
     "name": "stderr",
     "output_type": "stream",
     "text": [
      "100%|██████████| 2000/2000 [01:33<00:00, 21.28it/s]\n"
     ]
    },
    {
     "name": "stdout",
     "output_type": "stream",
     "text": [
      "Epoch 116 Mean Reward: -70.11197819519043\n"
     ]
    },
    {
     "name": "stderr",
     "output_type": "stream",
     "text": [
      "100%|██████████| 2000/2000 [01:34<00:00, 21.10it/s]\n"
     ]
    },
    {
     "name": "stdout",
     "output_type": "stream",
     "text": [
      "Epoch 117 Mean Reward: -69.57334688568115\n"
     ]
    },
    {
     "name": "stderr",
     "output_type": "stream",
     "text": [
      "100%|██████████| 2000/2000 [01:33<00:00, 21.47it/s]\n"
     ]
    },
    {
     "name": "stdout",
     "output_type": "stream",
     "text": [
      "Epoch 118 Mean Reward: -67.23060260009765\n"
     ]
    },
    {
     "name": "stderr",
     "output_type": "stream",
     "text": [
      "100%|██████████| 2000/2000 [01:33<00:00, 21.32it/s]\n"
     ]
    },
    {
     "name": "stdout",
     "output_type": "stream",
     "text": [
      "Epoch 119 Mean Reward: -67.88136544036865\n"
     ]
    },
    {
     "name": "stderr",
     "output_type": "stream",
     "text": [
      "100%|██████████| 2000/2000 [01:33<00:00, 21.38it/s]\n"
     ]
    },
    {
     "name": "stdout",
     "output_type": "stream",
     "text": [
      "Epoch 120 Mean Reward: -68.08198585510254\n",
      "Epoch 120 Model saved to ./checkpoints/deadly_corridor.ckpt\n",
      "Epoch 120 test with depth buffer:\n",
      "Test Episode 1 Reward: 32.43013000488281\n",
      "Test Episode 2 Reward: 259.66912841796875\n",
      "Test Episode 3 Reward: 258.4878387451172\n",
      "Test Episode 4 Reward: 10.647796630859375\n",
      "Test Episode 5 Reward: 259.66912841796875\n",
      "Test Episode 6 Reward: 21.78814697265625\n",
      "Test Episode 7 Reward: 23.253738403320312\n",
      "Test Episode 8 Reward: 70.97895812988281\n",
      "Test Episode 9 Reward: 20.107955932617188\n",
      "Test Episode 10 Reward: 259.66912841796875\n",
      "Average Test Reward (with depth buffer:) 121.67019500732422\n",
      "Epoch 120 test without depth buffer:\n",
      "Test Episode 1 Reward: 259.66912841796875\n",
      "Test Episode 2 Reward: 259.66912841796875\n",
      "Test Episode 3 Reward: 259.66912841796875\n",
      "Test Episode 4 Reward: 71.88082885742188\n",
      "Test Episode 5 Reward: 61.020263671875\n",
      "Test Episode 6 Reward: 164.28890991210938\n",
      "Test Episode 7 Reward: 201.14404296875\n",
      "Test Episode 8 Reward: 135.99325561523438\n",
      "Test Episode 9 Reward: 25.37457275390625\n",
      "Test Episode 10 Reward: 226.9760284423828\n",
      "Average Test Reward (without depth buffer): 166.5685287475586\n"
     ]
    },
    {
     "name": "stderr",
     "output_type": "stream",
     "text": [
      "100%|██████████| 2000/2000 [01:40<00:00, 19.81it/s]\n"
     ]
    },
    {
     "name": "stdout",
     "output_type": "stream",
     "text": [
      "Epoch 121 Mean Reward: -45.17892928314209\n"
     ]
    },
    {
     "name": "stderr",
     "output_type": "stream",
     "text": [
      "100%|██████████| 2000/2000 [01:42<00:00, 19.59it/s]\n"
     ]
    },
    {
     "name": "stdout",
     "output_type": "stream",
     "text": [
      "Epoch 122 Mean Reward: -42.179578956604004\n"
     ]
    },
    {
     "name": "stderr",
     "output_type": "stream",
     "text": [
      "100%|██████████| 2000/2000 [01:42<00:00, 19.55it/s]\n"
     ]
    },
    {
     "name": "stdout",
     "output_type": "stream",
     "text": [
      "Epoch 123 Mean Reward: -40.67956286621094\n"
     ]
    },
    {
     "name": "stderr",
     "output_type": "stream",
     "text": [
      "100%|██████████| 2000/2000 [01:43<00:00, 19.31it/s]\n"
     ]
    },
    {
     "name": "stdout",
     "output_type": "stream",
     "text": [
      "Epoch 124 Mean Reward: -39.871496131896976\n"
     ]
    },
    {
     "name": "stderr",
     "output_type": "stream",
     "text": [
      "100%|██████████| 2000/2000 [01:44<00:00, 19.21it/s]\n"
     ]
    },
    {
     "name": "stdout",
     "output_type": "stream",
     "text": [
      "Epoch 125 Mean Reward: -42.13929042053223\n"
     ]
    },
    {
     "name": "stderr",
     "output_type": "stream",
     "text": [
      "100%|██████████| 2000/2000 [01:42<00:00, 19.44it/s]\n"
     ]
    },
    {
     "name": "stdout",
     "output_type": "stream",
     "text": [
      "Epoch 126 Mean Reward: -42.00896394348145\n"
     ]
    },
    {
     "name": "stderr",
     "output_type": "stream",
     "text": [
      "100%|██████████| 2000/2000 [01:42<00:00, 19.56it/s]\n"
     ]
    },
    {
     "name": "stdout",
     "output_type": "stream",
     "text": [
      "Epoch 127 Mean Reward: -41.97876577758789\n"
     ]
    },
    {
     "name": "stderr",
     "output_type": "stream",
     "text": [
      "100%|██████████| 2000/2000 [01:43<00:00, 19.40it/s]\n"
     ]
    },
    {
     "name": "stdout",
     "output_type": "stream",
     "text": [
      "Epoch 128 Mean Reward: -39.98066576385498\n"
     ]
    },
    {
     "name": "stderr",
     "output_type": "stream",
     "text": [
      "100%|██████████| 2000/2000 [01:42<00:00, 19.51it/s]\n"
     ]
    },
    {
     "name": "stdout",
     "output_type": "stream",
     "text": [
      "Epoch 129 Mean Reward: -40.42211328125\n"
     ]
    },
    {
     "name": "stderr",
     "output_type": "stream",
     "text": [
      "100%|██████████| 2000/2000 [01:43<00:00, 19.34it/s]\n"
     ]
    },
    {
     "name": "stdout",
     "output_type": "stream",
     "text": [
      "Epoch 130 Mean Reward: -42.111637321472166\n"
     ]
    },
    {
     "name": "stderr",
     "output_type": "stream",
     "text": [
      "100%|██████████| 2000/2000 [01:42<00:00, 19.56it/s]\n"
     ]
    },
    {
     "name": "stdout",
     "output_type": "stream",
     "text": [
      "Epoch 131 Mean Reward: -37.17881745910645\n"
     ]
    },
    {
     "name": "stderr",
     "output_type": "stream",
     "text": [
      "100%|██████████| 2000/2000 [01:43<00:00, 19.29it/s]\n"
     ]
    },
    {
     "name": "stdout",
     "output_type": "stream",
     "text": [
      "Epoch 132 Mean Reward: -36.33873993682862\n"
     ]
    },
    {
     "name": "stderr",
     "output_type": "stream",
     "text": [
      "100%|██████████| 2000/2000 [01:44<00:00, 19.08it/s]\n"
     ]
    },
    {
     "name": "stdout",
     "output_type": "stream",
     "text": [
      "Epoch 133 Mean Reward: -37.515600959777835\n"
     ]
    },
    {
     "name": "stderr",
     "output_type": "stream",
     "text": [
      "100%|██████████| 2000/2000 [01:46<00:00, 18.83it/s]\n"
     ]
    },
    {
     "name": "stdout",
     "output_type": "stream",
     "text": [
      "Epoch 134 Mean Reward: -31.495340011596678\n"
     ]
    },
    {
     "name": "stderr",
     "output_type": "stream",
     "text": [
      "100%|██████████| 2000/2000 [01:46<00:00, 18.86it/s]\n"
     ]
    },
    {
     "name": "stdout",
     "output_type": "stream",
     "text": [
      "Epoch 135 Mean Reward: -33.784493392944334\n"
     ]
    },
    {
     "name": "stderr",
     "output_type": "stream",
     "text": [
      "100%|██████████| 2000/2000 [01:45<00:00, 18.96it/s]\n"
     ]
    },
    {
     "name": "stdout",
     "output_type": "stream",
     "text": [
      "Epoch 136 Mean Reward: -35.6378141784668\n"
     ]
    },
    {
     "name": "stderr",
     "output_type": "stream",
     "text": [
      "100%|██████████| 2000/2000 [01:45<00:00, 18.98it/s]\n"
     ]
    },
    {
     "name": "stdout",
     "output_type": "stream",
     "text": [
      "Epoch 137 Mean Reward: -33.6070689086914\n"
     ]
    },
    {
     "name": "stderr",
     "output_type": "stream",
     "text": [
      "100%|██████████| 2000/2000 [01:46<00:00, 18.86it/s]\n"
     ]
    },
    {
     "name": "stdout",
     "output_type": "stream",
     "text": [
      "Epoch 138 Mean Reward: -31.212234870910645\n"
     ]
    },
    {
     "name": "stderr",
     "output_type": "stream",
     "text": [
      "100%|██████████| 2000/2000 [01:45<00:00, 18.88it/s]\n"
     ]
    },
    {
     "name": "stdout",
     "output_type": "stream",
     "text": [
      "Epoch 139 Mean Reward: -30.75373931121826\n"
     ]
    },
    {
     "name": "stderr",
     "output_type": "stream",
     "text": [
      "100%|██████████| 2000/2000 [01:47<00:00, 18.67it/s]\n"
     ]
    },
    {
     "name": "stdout",
     "output_type": "stream",
     "text": [
      "Epoch 140 Mean Reward: -30.439051460266114\n",
      "Epoch 140 Model saved to ./checkpoints/deadly_corridor.ckpt\n",
      "Epoch 140 test with depth buffer:\n",
      "Test Episode 1 Reward: 413.2279052734375\n",
      "Test Episode 2 Reward: 25.310989379882812\n",
      "Test Episode 3 Reward: 380.7069854736328\n",
      "Test Episode 4 Reward: 118.28367614746094\n",
      "Test Episode 5 Reward: 76.90895080566406\n",
      "Test Episode 6 Reward: 385.6875457763672\n",
      "Test Episode 7 Reward: 369.8135681152344\n",
      "Test Episode 8 Reward: 380.7069854736328\n",
      "Test Episode 9 Reward: 380.7069854736328\n",
      "Test Episode 10 Reward: 380.7069854736328\n",
      "Average Test Reward (with depth buffer:) 291.2060577392578\n",
      "Epoch 140 test without depth buffer:\n",
      "Test Episode 1 Reward: 245.9138641357422\n",
      "Test Episode 2 Reward: 380.7069854736328\n",
      "Test Episode 3 Reward: 380.7069854736328\n",
      "Test Episode 4 Reward: 380.7069854736328\n",
      "Test Episode 5 Reward: 380.7069854736328\n",
      "Test Episode 6 Reward: 75.03727722167969\n",
      "Test Episode 7 Reward: 19.570846557617188\n",
      "Test Episode 8 Reward: 380.7069854736328\n",
      "Test Episode 9 Reward: 380.7069854736328\n",
      "Test Episode 10 Reward: 380.7069854736328\n",
      "Average Test Reward (without depth buffer): 300.5470886230469\n"
     ]
    },
    {
     "name": "stderr",
     "output_type": "stream",
     "text": [
      "100%|██████████| 2000/2000 [01:46<00:00, 18.78it/s]\n"
     ]
    },
    {
     "name": "stdout",
     "output_type": "stream",
     "text": [
      "Epoch 141 Mean Reward: -30.313592742919923\n"
     ]
    },
    {
     "name": "stderr",
     "output_type": "stream",
     "text": [
      "100%|██████████| 2000/2000 [01:49<00:00, 18.24it/s]\n"
     ]
    },
    {
     "name": "stdout",
     "output_type": "stream",
     "text": [
      "Epoch 142 Mean Reward: -27.28662398529053\n"
     ]
    },
    {
     "name": "stderr",
     "output_type": "stream",
     "text": [
      "100%|██████████| 2000/2000 [01:49<00:00, 18.23it/s]\n"
     ]
    },
    {
     "name": "stdout",
     "output_type": "stream",
     "text": [
      "Epoch 143 Mean Reward: -24.98141435241699\n"
     ]
    },
    {
     "name": "stderr",
     "output_type": "stream",
     "text": [
      "100%|██████████| 2000/2000 [01:48<00:00, 18.51it/s]\n"
     ]
    },
    {
     "name": "stdout",
     "output_type": "stream",
     "text": [
      "Epoch 144 Mean Reward: -30.177642166137694\n"
     ]
    },
    {
     "name": "stderr",
     "output_type": "stream",
     "text": [
      "100%|██████████| 2000/2000 [01:49<00:00, 18.27it/s]\n"
     ]
    },
    {
     "name": "stdout",
     "output_type": "stream",
     "text": [
      "Epoch 145 Mean Reward: -27.107558372497557\n"
     ]
    },
    {
     "name": "stderr",
     "output_type": "stream",
     "text": [
      "100%|██████████| 2000/2000 [01:48<00:00, 18.39it/s]\n"
     ]
    },
    {
     "name": "stdout",
     "output_type": "stream",
     "text": [
      "Epoch 146 Mean Reward: -25.939580139160157\n"
     ]
    },
    {
     "name": "stderr",
     "output_type": "stream",
     "text": [
      "100%|██████████| 2000/2000 [01:50<00:00, 18.03it/s]\n"
     ]
    },
    {
     "name": "stdout",
     "output_type": "stream",
     "text": [
      "Epoch 147 Mean Reward: -22.848143928527833\n"
     ]
    },
    {
     "name": "stderr",
     "output_type": "stream",
     "text": [
      "100%|██████████| 2000/2000 [01:50<00:00, 18.17it/s]\n"
     ]
    },
    {
     "name": "stdout",
     "output_type": "stream",
     "text": [
      "Epoch 148 Mean Reward: -27.852208534240724\n"
     ]
    },
    {
     "name": "stderr",
     "output_type": "stream",
     "text": [
      "100%|██████████| 2000/2000 [01:50<00:00, 18.16it/s]\n"
     ]
    },
    {
     "name": "stdout",
     "output_type": "stream",
     "text": [
      "Epoch 149 Mean Reward: -23.935205711364745\n"
     ]
    },
    {
     "name": "stderr",
     "output_type": "stream",
     "text": [
      "100%|██████████| 2000/2000 [01:49<00:00, 18.23it/s]\n"
     ]
    },
    {
     "name": "stdout",
     "output_type": "stream",
     "text": [
      "Epoch 150 Mean Reward: -25.690724159240723\n"
     ]
    },
    {
     "name": "stderr",
     "output_type": "stream",
     "text": [
      "100%|██████████| 2000/2000 [01:56<00:00, 17.23it/s]\n"
     ]
    },
    {
     "name": "stdout",
     "output_type": "stream",
     "text": [
      "Epoch 151 Mean Reward: -16.67528224182129\n"
     ]
    },
    {
     "name": "stderr",
     "output_type": "stream",
     "text": [
      "100%|██████████| 2000/2000 [01:53<00:00, 17.68it/s]\n"
     ]
    },
    {
     "name": "stdout",
     "output_type": "stream",
     "text": [
      "Epoch 152 Mean Reward: -21.987857398986815\n"
     ]
    },
    {
     "name": "stderr",
     "output_type": "stream",
     "text": [
      "100%|██████████| 2000/2000 [01:55<00:00, 17.29it/s]\n"
     ]
    },
    {
     "name": "stdout",
     "output_type": "stream",
     "text": [
      "Epoch 153 Mean Reward: -19.25977456665039\n"
     ]
    },
    {
     "name": "stderr",
     "output_type": "stream",
     "text": [
      "100%|██████████| 2000/2000 [01:57<00:00, 16.95it/s]\n"
     ]
    },
    {
     "name": "stdout",
     "output_type": "stream",
     "text": [
      "Epoch 154 Mean Reward: -15.302540588378907\n"
     ]
    },
    {
     "name": "stderr",
     "output_type": "stream",
     "text": [
      "100%|██████████| 2000/2000 [01:56<00:00, 17.15it/s]\n"
     ]
    },
    {
     "name": "stdout",
     "output_type": "stream",
     "text": [
      "Epoch 155 Mean Reward: -18.717269790649414\n"
     ]
    },
    {
     "name": "stderr",
     "output_type": "stream",
     "text": [
      "100%|██████████| 2000/2000 [01:58<00:00, 16.92it/s]\n"
     ]
    },
    {
     "name": "stdout",
     "output_type": "stream",
     "text": [
      "Epoch 156 Mean Reward: -13.727827507019043\n"
     ]
    },
    {
     "name": "stderr",
     "output_type": "stream",
     "text": [
      "100%|██████████| 2000/2000 [01:57<00:00, 17.03it/s]\n"
     ]
    },
    {
     "name": "stdout",
     "output_type": "stream",
     "text": [
      "Epoch 157 Mean Reward: -18.224271644592285\n"
     ]
    },
    {
     "name": "stderr",
     "output_type": "stream",
     "text": [
      "100%|██████████| 2000/2000 [01:58<00:00, 16.94it/s]\n"
     ]
    },
    {
     "name": "stdout",
     "output_type": "stream",
     "text": [
      "Epoch 158 Mean Reward: -17.35374983215332\n"
     ]
    },
    {
     "name": "stderr",
     "output_type": "stream",
     "text": [
      "100%|██████████| 2000/2000 [01:57<00:00, 17.07it/s]\n"
     ]
    },
    {
     "name": "stdout",
     "output_type": "stream",
     "text": [
      "Epoch 159 Mean Reward: -16.99369529724121\n"
     ]
    },
    {
     "name": "stderr",
     "output_type": "stream",
     "text": [
      "100%|██████████| 2000/2000 [02:00<00:00, 16.60it/s]\n"
     ]
    },
    {
     "name": "stdout",
     "output_type": "stream",
     "text": [
      "Epoch 160 Mean Reward: -15.79117226409912\n",
      "Epoch 160 Model saved to ./checkpoints/deadly_corridor.ckpt\n",
      "Epoch 160 test with depth buffer:\n",
      "Test Episode 1 Reward: 280.1833801269531\n",
      "Test Episode 2 Reward: 258.6802215576172\n",
      "Test Episode 3 Reward: 323.9911804199219\n",
      "Test Episode 4 Reward: 33.07237243652344\n",
      "Test Episode 5 Reward: 259.43260192871094\n",
      "Test Episode 6 Reward: -15.057373046875\n",
      "Test Episode 7 Reward: 258.6802215576172\n",
      "Test Episode 8 Reward: 258.6802215576172\n",
      "Test Episode 9 Reward: 258.6802215576172\n",
      "Test Episode 10 Reward: 316.79356384277344\n",
      "Average Test Reward (with depth buffer:) 223.31366119384765\n",
      "Epoch 160 test without depth buffer:\n",
      "Test Episode 1 Reward: 271.7798614501953\n",
      "Test Episode 2 Reward: 258.6802215576172\n",
      "Test Episode 3 Reward: 258.6802215576172\n",
      "Test Episode 4 Reward: 258.6802215576172\n",
      "Test Episode 5 Reward: 263.3233337402344\n",
      "Test Episode 6 Reward: 34.953338623046875\n",
      "Test Episode 7 Reward: 377.1927947998047\n",
      "Test Episode 8 Reward: 258.6802215576172\n",
      "Test Episode 9 Reward: 384.1976776123047\n",
      "Test Episode 10 Reward: 258.6802215576172\n",
      "Average Test Reward (without depth buffer): 262.4848114013672\n"
     ]
    },
    {
     "name": "stderr",
     "output_type": "stream",
     "text": [
      "100%|██████████| 2000/2000 [01:55<00:00, 17.28it/s]\n"
     ]
    },
    {
     "name": "stdout",
     "output_type": "stream",
     "text": [
      "Epoch 161 Mean Reward: -11.808778343200684\n"
     ]
    },
    {
     "name": "stderr",
     "output_type": "stream",
     "text": [
      "100%|██████████| 2000/2000 [01:57<00:00, 17.01it/s]\n"
     ]
    },
    {
     "name": "stdout",
     "output_type": "stream",
     "text": [
      "Epoch 162 Mean Reward: -9.353274291992188\n"
     ]
    },
    {
     "name": "stderr",
     "output_type": "stream",
     "text": [
      "100%|██████████| 2000/2000 [01:57<00:00, 16.99it/s]\n"
     ]
    },
    {
     "name": "stdout",
     "output_type": "stream",
     "text": [
      "Epoch 163 Mean Reward: -9.084580596923828\n"
     ]
    },
    {
     "name": "stderr",
     "output_type": "stream",
     "text": [
      "100%|██████████| 2000/2000 [01:58<00:00, 16.85it/s]\n"
     ]
    },
    {
     "name": "stdout",
     "output_type": "stream",
     "text": [
      "Epoch 164 Mean Reward: -10.58220979309082\n"
     ]
    },
    {
     "name": "stderr",
     "output_type": "stream",
     "text": [
      "100%|██████████| 2000/2000 [01:57<00:00, 16.97it/s]\n"
     ]
    },
    {
     "name": "stdout",
     "output_type": "stream",
     "text": [
      "Epoch 165 Mean Reward: -7.531370353698731\n"
     ]
    },
    {
     "name": "stderr",
     "output_type": "stream",
     "text": [
      "100%|██████████| 2000/2000 [01:56<00:00, 17.16it/s]\n"
     ]
    },
    {
     "name": "stdout",
     "output_type": "stream",
     "text": [
      "Epoch 166 Mean Reward: -10.048766166687011\n"
     ]
    },
    {
     "name": "stderr",
     "output_type": "stream",
     "text": [
      "100%|██████████| 2000/2000 [01:59<00:00, 16.77it/s]\n"
     ]
    },
    {
     "name": "stdout",
     "output_type": "stream",
     "text": [
      "Epoch 167 Mean Reward: -9.846193031311035\n"
     ]
    },
    {
     "name": "stderr",
     "output_type": "stream",
     "text": [
      "100%|██████████| 2000/2000 [01:59<00:00, 16.77it/s]\n"
     ]
    },
    {
     "name": "stdout",
     "output_type": "stream",
     "text": [
      "Epoch 168 Mean Reward: -7.915852661132813\n"
     ]
    },
    {
     "name": "stderr",
     "output_type": "stream",
     "text": [
      "100%|██████████| 2000/2000 [01:57<00:00, 17.08it/s]\n"
     ]
    },
    {
     "name": "stdout",
     "output_type": "stream",
     "text": [
      "Epoch 169 Mean Reward: -5.541982284545899\n"
     ]
    },
    {
     "name": "stderr",
     "output_type": "stream",
     "text": [
      "100%|██████████| 2000/2000 [01:58<00:00, 16.89it/s]\n"
     ]
    },
    {
     "name": "stdout",
     "output_type": "stream",
     "text": [
      "Epoch 170 Mean Reward: -8.413456581115723\n"
     ]
    },
    {
     "name": "stderr",
     "output_type": "stream",
     "text": [
      "100%|██████████| 2000/2000 [02:04<00:00, 16.01it/s]\n"
     ]
    },
    {
     "name": "stdout",
     "output_type": "stream",
     "text": [
      "Epoch 171 Mean Reward: 3.877496292114258\n"
     ]
    },
    {
     "name": "stderr",
     "output_type": "stream",
     "text": [
      "100%|██████████| 2000/2000 [02:03<00:00, 16.17it/s]\n"
     ]
    },
    {
     "name": "stdout",
     "output_type": "stream",
     "text": [
      "Epoch 172 Mean Reward: -2.2311595764160157\n"
     ]
    },
    {
     "name": "stderr",
     "output_type": "stream",
     "text": [
      "100%|██████████| 2000/2000 [02:03<00:00, 16.23it/s]\n"
     ]
    },
    {
     "name": "stdout",
     "output_type": "stream",
     "text": [
      "Epoch 173 Mean Reward: 0.5518692169189453\n"
     ]
    },
    {
     "name": "stderr",
     "output_type": "stream",
     "text": [
      "100%|██████████| 2000/2000 [02:05<00:00, 15.92it/s]\n"
     ]
    },
    {
     "name": "stdout",
     "output_type": "stream",
     "text": [
      "Epoch 174 Mean Reward: 3.4926895675659178\n"
     ]
    },
    {
     "name": "stderr",
     "output_type": "stream",
     "text": [
      "100%|██████████| 2000/2000 [02:05<00:00, 15.93it/s]\n"
     ]
    },
    {
     "name": "stdout",
     "output_type": "stream",
     "text": [
      "Epoch 175 Mean Reward: 3.2111590728759767\n"
     ]
    },
    {
     "name": "stderr",
     "output_type": "stream",
     "text": [
      "100%|██████████| 2000/2000 [02:07<00:00, 15.64it/s]\n"
     ]
    },
    {
     "name": "stdout",
     "output_type": "stream",
     "text": [
      "Epoch 176 Mean Reward: 8.18549799346924\n"
     ]
    },
    {
     "name": "stderr",
     "output_type": "stream",
     "text": [
      "100%|██████████| 2000/2000 [02:05<00:00, 15.95it/s]\n"
     ]
    },
    {
     "name": "stdout",
     "output_type": "stream",
     "text": [
      "Epoch 177 Mean Reward: 5.560013290405274\n"
     ]
    },
    {
     "name": "stderr",
     "output_type": "stream",
     "text": [
      "100%|██████████| 2000/2000 [02:07<00:00, 15.65it/s]\n"
     ]
    },
    {
     "name": "stdout",
     "output_type": "stream",
     "text": [
      "Epoch 178 Mean Reward: 10.56062883758545\n"
     ]
    },
    {
     "name": "stderr",
     "output_type": "stream",
     "text": [
      "100%|██████████| 2000/2000 [02:10<00:00, 15.33it/s]\n"
     ]
    },
    {
     "name": "stdout",
     "output_type": "stream",
     "text": [
      "Epoch 179 Mean Reward: 13.385245300292969\n"
     ]
    },
    {
     "name": "stderr",
     "output_type": "stream",
     "text": [
      "100%|██████████| 2000/2000 [02:09<00:00, 15.49it/s]\n"
     ]
    },
    {
     "name": "stdout",
     "output_type": "stream",
     "text": [
      "Epoch 180 Mean Reward: 9.093200523376465\n",
      "Epoch 180 Model saved to ./checkpoints/deadly_corridor.ckpt\n",
      "Epoch 180 test with depth buffer:\n",
      "Test Episode 1 Reward: 130.17608642578125\n",
      "Test Episode 2 Reward: 130.17608642578125\n",
      "Test Episode 3 Reward: 189.9620361328125\n",
      "Test Episode 4 Reward: 130.17608642578125\n",
      "Test Episode 5 Reward: 130.17608642578125\n",
      "Test Episode 6 Reward: 130.17608642578125\n",
      "Test Episode 7 Reward: 130.17608642578125\n",
      "Test Episode 8 Reward: 41.252044677734375\n",
      "Test Episode 9 Reward: 146.59690856933594\n",
      "Test Episode 10 Reward: 130.17608642578125\n",
      "Average Test Reward (with depth buffer:) 128.90435943603515\n",
      "Epoch 180 test without depth buffer:\n",
      "Test Episode 1 Reward: 130.17608642578125\n",
      "Test Episode 2 Reward: 22.973983764648438\n",
      "Test Episode 3 Reward: 426.55039978027344\n",
      "Test Episode 4 Reward: 100.04322814941406\n",
      "Test Episode 5 Reward: 130.17608642578125\n",
      "Test Episode 6 Reward: 130.17608642578125\n",
      "Test Episode 7 Reward: 68.07354736328125\n",
      "Test Episode 8 Reward: 408.03228759765625\n",
      "Test Episode 9 Reward: 306.30206298828125\n",
      "Test Episode 10 Reward: 82.35939025878906\n",
      "Average Test Reward (without depth buffer): 180.48631591796874\n"
     ]
    },
    {
     "name": "stderr",
     "output_type": "stream",
     "text": [
      "100%|██████████| 2000/2000 [02:00<00:00, 16.53it/s]\n"
     ]
    },
    {
     "name": "stdout",
     "output_type": "stream",
     "text": [
      "Epoch 181 Mean Reward: 8.996007774353027\n"
     ]
    },
    {
     "name": "stderr",
     "output_type": "stream",
     "text": [
      "100%|██████████| 2000/2000 [02:01<00:00, 16.51it/s]\n"
     ]
    },
    {
     "name": "stdout",
     "output_type": "stream",
     "text": [
      "Epoch 182 Mean Reward: 8.178471588134766\n"
     ]
    },
    {
     "name": "stderr",
     "output_type": "stream",
     "text": [
      "100%|██████████| 2000/2000 [02:03<00:00, 16.16it/s]\n"
     ]
    },
    {
     "name": "stdout",
     "output_type": "stream",
     "text": [
      "Epoch 183 Mean Reward: 9.471781211853028\n"
     ]
    },
    {
     "name": "stderr",
     "output_type": "stream",
     "text": [
      "100%|██████████| 2000/2000 [02:02<00:00, 16.38it/s]\n"
     ]
    },
    {
     "name": "stdout",
     "output_type": "stream",
     "text": [
      "Epoch 184 Mean Reward: 12.281071533203125\n"
     ]
    },
    {
     "name": "stderr",
     "output_type": "stream",
     "text": [
      "100%|██████████| 2000/2000 [02:02<00:00, 16.32it/s]\n"
     ]
    },
    {
     "name": "stdout",
     "output_type": "stream",
     "text": [
      "Epoch 185 Mean Reward: 9.415890426635743\n"
     ]
    },
    {
     "name": "stderr",
     "output_type": "stream",
     "text": [
      "100%|██████████| 2000/2000 [02:01<00:00, 16.51it/s]\n"
     ]
    },
    {
     "name": "stdout",
     "output_type": "stream",
     "text": [
      "Epoch 186 Mean Reward: 10.472322471618652\n"
     ]
    },
    {
     "name": "stderr",
     "output_type": "stream",
     "text": [
      "100%|██████████| 2000/2000 [02:03<00:00, 16.22it/s]\n"
     ]
    },
    {
     "name": "stdout",
     "output_type": "stream",
     "text": [
      "Epoch 187 Mean Reward: 14.864421524047852\n"
     ]
    },
    {
     "name": "stderr",
     "output_type": "stream",
     "text": [
      "100%|██████████| 2000/2000 [02:02<00:00, 16.34it/s]\n"
     ]
    },
    {
     "name": "stdout",
     "output_type": "stream",
     "text": [
      "Epoch 188 Mean Reward: 12.314096710205078\n"
     ]
    },
    {
     "name": "stderr",
     "output_type": "stream",
     "text": [
      "100%|██████████| 2000/2000 [02:02<00:00, 16.37it/s]\n"
     ]
    },
    {
     "name": "stdout",
     "output_type": "stream",
     "text": [
      "Epoch 189 Mean Reward: 9.964631370544433\n"
     ]
    },
    {
     "name": "stderr",
     "output_type": "stream",
     "text": [
      "100%|██████████| 2000/2000 [02:06<00:00, 15.77it/s]\n"
     ]
    },
    {
     "name": "stdout",
     "output_type": "stream",
     "text": [
      "Epoch 190 Mean Reward: 17.44499742126465\n"
     ]
    },
    {
     "name": "stderr",
     "output_type": "stream",
     "text": [
      "100%|██████████| 2000/2000 [02:09<00:00, 15.41it/s]\n"
     ]
    },
    {
     "name": "stdout",
     "output_type": "stream",
     "text": [
      "Epoch 191 Mean Reward: 23.217673919677733\n"
     ]
    },
    {
     "name": "stderr",
     "output_type": "stream",
     "text": [
      "100%|██████████| 2000/2000 [02:09<00:00, 15.48it/s]\n"
     ]
    },
    {
     "name": "stdout",
     "output_type": "stream",
     "text": [
      "Epoch 192 Mean Reward: 22.71118434906006\n"
     ]
    },
    {
     "name": "stderr",
     "output_type": "stream",
     "text": [
      "100%|██████████| 2000/2000 [02:09<00:00, 15.43it/s]\n"
     ]
    },
    {
     "name": "stdout",
     "output_type": "stream",
     "text": [
      "Epoch 193 Mean Reward: 25.957880126953125\n"
     ]
    },
    {
     "name": "stderr",
     "output_type": "stream",
     "text": [
      "100%|██████████| 2000/2000 [02:09<00:00, 15.39it/s]\n"
     ]
    },
    {
     "name": "stdout",
     "output_type": "stream",
     "text": [
      "Epoch 194 Mean Reward: 25.523921058654786\n"
     ]
    },
    {
     "name": "stderr",
     "output_type": "stream",
     "text": [
      "100%|██████████| 2000/2000 [02:10<00:00, 15.27it/s]\n"
     ]
    },
    {
     "name": "stdout",
     "output_type": "stream",
     "text": [
      "Epoch 195 Mean Reward: 23.266487747192382\n"
     ]
    },
    {
     "name": "stderr",
     "output_type": "stream",
     "text": [
      "100%|██████████| 2000/2000 [02:12<00:00, 15.06it/s]\n"
     ]
    },
    {
     "name": "stdout",
     "output_type": "stream",
     "text": [
      "Epoch 196 Mean Reward: 28.600313041687013\n"
     ]
    },
    {
     "name": "stderr",
     "output_type": "stream",
     "text": [
      "100%|██████████| 2000/2000 [02:13<00:00, 14.99it/s]\n"
     ]
    },
    {
     "name": "stdout",
     "output_type": "stream",
     "text": [
      "Epoch 197 Mean Reward: 24.856379203796386\n"
     ]
    },
    {
     "name": "stderr",
     "output_type": "stream",
     "text": [
      "100%|██████████| 2000/2000 [02:11<00:00, 15.23it/s]\n"
     ]
    },
    {
     "name": "stdout",
     "output_type": "stream",
     "text": [
      "Epoch 198 Mean Reward: 34.29289977264404\n"
     ]
    },
    {
     "name": "stderr",
     "output_type": "stream",
     "text": [
      "100%|██████████| 2000/2000 [02:12<00:00, 15.08it/s]\n"
     ]
    },
    {
     "name": "stdout",
     "output_type": "stream",
     "text": [
      "Epoch 199 Mean Reward: 28.564089797973633\n"
     ]
    },
    {
     "name": "stderr",
     "output_type": "stream",
     "text": [
      "100%|██████████| 2000/2000 [02:13<00:00, 14.96it/s]\n"
     ]
    },
    {
     "name": "stdout",
     "output_type": "stream",
     "text": [
      "Epoch 200 Mean Reward: 28.575148391723634\n",
      "Epoch 200 Model saved to ./checkpoints/deadly_corridor.ckpt\n",
      "Epoch 200 test with depth buffer:\n",
      "Test Episode 1 Reward: 306.77642822265625\n",
      "Test Episode 2 Reward: 10.853408813476562\n",
      "Test Episode 3 Reward: 277.99974060058594\n",
      "Test Episode 4 Reward: 443.2786865234375\n",
      "Test Episode 5 Reward: 133.7250213623047\n",
      "Test Episode 6 Reward: 156.96771240234375\n",
      "Test Episode 7 Reward: 133.7250213623047\n",
      "Test Episode 8 Reward: 156.96771240234375\n",
      "Test Episode 9 Reward: 133.7250213623047\n",
      "Test Episode 10 Reward: 238.95799255371094\n",
      "Average Test Reward (with depth buffer:) 199.29767456054688\n",
      "Epoch 200 test without depth buffer:\n",
      "Test Episode 1 Reward: 133.7250213623047\n",
      "Test Episode 2 Reward: 156.96771240234375\n",
      "Test Episode 3 Reward: 136.7875518798828\n",
      "Test Episode 4 Reward: 133.7250213623047\n",
      "Test Episode 5 Reward: 156.96771240234375\n",
      "Test Episode 6 Reward: 133.7250213623047\n",
      "Test Episode 7 Reward: 231.47900390625\n",
      "Test Episode 8 Reward: 133.7250213623047\n",
      "Test Episode 9 Reward: 156.96771240234375\n",
      "Test Episode 10 Reward: 133.7250213623047\n",
      "Average Test Reward (without depth buffer): 150.77947998046875\n"
     ]
    },
    {
     "name": "stderr",
     "output_type": "stream",
     "text": [
      "100%|██████████| 2000/2000 [02:13<00:00, 14.95it/s]\n"
     ]
    },
    {
     "name": "stdout",
     "output_type": "stream",
     "text": [
      "Epoch 201 Mean Reward: 25.478078132629395\n"
     ]
    },
    {
     "name": "stderr",
     "output_type": "stream",
     "text": [
      "100%|██████████| 2000/2000 [02:12<00:00, 15.04it/s]\n"
     ]
    },
    {
     "name": "stdout",
     "output_type": "stream",
     "text": [
      "Epoch 202 Mean Reward: 32.47440849304199\n"
     ]
    },
    {
     "name": "stderr",
     "output_type": "stream",
     "text": [
      "100%|██████████| 2000/2000 [02:14<00:00, 14.88it/s]\n"
     ]
    },
    {
     "name": "stdout",
     "output_type": "stream",
     "text": [
      "Epoch 203 Mean Reward: 29.463364120483398\n"
     ]
    },
    {
     "name": "stderr",
     "output_type": "stream",
     "text": [
      "100%|██████████| 2000/2000 [02:18<00:00, 14.42it/s]\n"
     ]
    },
    {
     "name": "stdout",
     "output_type": "stream",
     "text": [
      "Epoch 204 Mean Reward: 35.833485610961915\n"
     ]
    },
    {
     "name": "stderr",
     "output_type": "stream",
     "text": [
      "100%|██████████| 2000/2000 [02:14<00:00, 14.88it/s]\n"
     ]
    },
    {
     "name": "stdout",
     "output_type": "stream",
     "text": [
      "Epoch 205 Mean Reward: 29.61880785369873\n"
     ]
    },
    {
     "name": "stderr",
     "output_type": "stream",
     "text": [
      "100%|██████████| 2000/2000 [02:19<00:00, 14.33it/s]\n"
     ]
    },
    {
     "name": "stdout",
     "output_type": "stream",
     "text": [
      "Epoch 206 Mean Reward: 35.723410362243655\n"
     ]
    },
    {
     "name": "stderr",
     "output_type": "stream",
     "text": [
      "100%|██████████| 2000/2000 [02:14<00:00, 14.85it/s]\n"
     ]
    },
    {
     "name": "stdout",
     "output_type": "stream",
     "text": [
      "Epoch 207 Mean Reward: 31.118179794311523\n"
     ]
    },
    {
     "name": "stderr",
     "output_type": "stream",
     "text": [
      "100%|██████████| 2000/2000 [02:18<00:00, 14.44it/s]\n"
     ]
    },
    {
     "name": "stdout",
     "output_type": "stream",
     "text": [
      "Epoch 208 Mean Reward: 33.8306092300415\n"
     ]
    },
    {
     "name": "stderr",
     "output_type": "stream",
     "text": [
      "100%|██████████| 2000/2000 [02:16<00:00, 14.66it/s]\n"
     ]
    },
    {
     "name": "stdout",
     "output_type": "stream",
     "text": [
      "Epoch 209 Mean Reward: 35.74551454162598\n"
     ]
    },
    {
     "name": "stderr",
     "output_type": "stream",
     "text": [
      "100%|██████████| 2000/2000 [02:18<00:00, 14.41it/s]\n"
     ]
    },
    {
     "name": "stdout",
     "output_type": "stream",
     "text": [
      "Epoch 210 Mean Reward: 38.53521937561035\n"
     ]
    },
    {
     "name": "stderr",
     "output_type": "stream",
     "text": [
      "100%|██████████| 2000/2000 [02:21<00:00, 14.11it/s]\n"
     ]
    },
    {
     "name": "stdout",
     "output_type": "stream",
     "text": [
      "Epoch 211 Mean Reward: 41.07358591461182\n"
     ]
    },
    {
     "name": "stderr",
     "output_type": "stream",
     "text": [
      "100%|██████████| 2000/2000 [02:19<00:00, 14.36it/s]\n"
     ]
    },
    {
     "name": "stdout",
     "output_type": "stream",
     "text": [
      "Epoch 212 Mean Reward: 40.1942342376709\n"
     ]
    },
    {
     "name": "stderr",
     "output_type": "stream",
     "text": [
      "100%|██████████| 2000/2000 [02:20<00:00, 14.26it/s]\n"
     ]
    },
    {
     "name": "stdout",
     "output_type": "stream",
     "text": [
      "Epoch 213 Mean Reward: 34.52341402435303\n"
     ]
    },
    {
     "name": "stderr",
     "output_type": "stream",
     "text": [
      "100%|██████████| 2000/2000 [02:21<00:00, 14.11it/s]\n"
     ]
    },
    {
     "name": "stdout",
     "output_type": "stream",
     "text": [
      "Epoch 214 Mean Reward: 43.27102294921875\n"
     ]
    },
    {
     "name": "stderr",
     "output_type": "stream",
     "text": [
      "100%|██████████| 2000/2000 [02:19<00:00, 14.30it/s]\n"
     ]
    },
    {
     "name": "stdout",
     "output_type": "stream",
     "text": [
      "Epoch 215 Mean Reward: 34.19339405822754\n"
     ]
    },
    {
     "name": "stderr",
     "output_type": "stream",
     "text": [
      "100%|██████████| 2000/2000 [02:22<00:00, 14.03it/s]\n"
     ]
    },
    {
     "name": "stdout",
     "output_type": "stream",
     "text": [
      "Epoch 216 Mean Reward: 45.98355874633789\n"
     ]
    },
    {
     "name": "stderr",
     "output_type": "stream",
     "text": [
      "100%|██████████| 2000/2000 [02:22<00:00, 14.05it/s]\n"
     ]
    },
    {
     "name": "stdout",
     "output_type": "stream",
     "text": [
      "Epoch 217 Mean Reward: 42.03844412231445\n"
     ]
    },
    {
     "name": "stderr",
     "output_type": "stream",
     "text": [
      "100%|██████████| 2000/2000 [02:21<00:00, 14.15it/s]\n"
     ]
    },
    {
     "name": "stdout",
     "output_type": "stream",
     "text": [
      "Epoch 218 Mean Reward: 42.85301890563965\n"
     ]
    },
    {
     "name": "stderr",
     "output_type": "stream",
     "text": [
      "100%|██████████| 2000/2000 [02:22<00:00, 14.08it/s]\n"
     ]
    },
    {
     "name": "stdout",
     "output_type": "stream",
     "text": [
      "Epoch 219 Mean Reward: 40.481744163513184\n"
     ]
    },
    {
     "name": "stderr",
     "output_type": "stream",
     "text": [
      "100%|██████████| 2000/2000 [02:21<00:00, 14.14it/s]\n"
     ]
    },
    {
     "name": "stdout",
     "output_type": "stream",
     "text": [
      "Epoch 220 Mean Reward: 47.0248423614502\n",
      "Epoch 220 Model saved to ./checkpoints/deadly_corridor.ckpt\n",
      "Epoch 220 test with depth buffer:\n",
      "Test Episode 1 Reward: 48.52375793457031\n",
      "Test Episode 2 Reward: 183.2485809326172\n",
      "Test Episode 3 Reward: 82.59262084960938\n",
      "Test Episode 4 Reward: 48.52375793457031\n",
      "Test Episode 5 Reward: 48.52375793457031\n",
      "Test Episode 6 Reward: 48.52375793457031\n",
      "Test Episode 7 Reward: 48.52375793457031\n",
      "Test Episode 8 Reward: 22.297027587890625\n",
      "Test Episode 9 Reward: 48.52375793457031\n",
      "Test Episode 10 Reward: 71.32145690917969\n",
      "Average Test Reward (with depth buffer:) 65.06022338867187\n",
      "Epoch 220 test without depth buffer:\n",
      "Test Episode 1 Reward: 56.596282958984375\n",
      "Test Episode 2 Reward: 48.52375793457031\n",
      "Test Episode 3 Reward: 48.52375793457031\n",
      "Test Episode 4 Reward: 48.52375793457031\n",
      "Test Episode 5 Reward: 48.52375793457031\n",
      "Test Episode 6 Reward: 48.52375793457031\n",
      "Test Episode 7 Reward: 48.52375793457031\n",
      "Test Episode 8 Reward: 26.080535888671875\n",
      "Test Episode 9 Reward: 7.9399871826171875\n",
      "Test Episode 10 Reward: 48.52375793457031\n",
      "Average Test Reward (without depth buffer): 43.02831115722656\n"
     ]
    },
    {
     "name": "stderr",
     "output_type": "stream",
     "text": [
      "100%|██████████| 2000/2000 [02:27<00:00, 13.60it/s]\n"
     ]
    },
    {
     "name": "stdout",
     "output_type": "stream",
     "text": [
      "Epoch 221 Mean Reward: 44.778049194335935\n"
     ]
    },
    {
     "name": "stderr",
     "output_type": "stream",
     "text": [
      "100%|██████████| 2000/2000 [02:28<00:00, 13.49it/s]\n"
     ]
    },
    {
     "name": "stdout",
     "output_type": "stream",
     "text": [
      "Epoch 222 Mean Reward: 44.399228439331054\n"
     ]
    },
    {
     "name": "stderr",
     "output_type": "stream",
     "text": [
      "100%|██████████| 2000/2000 [02:29<00:00, 13.36it/s]\n"
     ]
    },
    {
     "name": "stdout",
     "output_type": "stream",
     "text": [
      "Epoch 223 Mean Reward: 43.74475285339356\n"
     ]
    },
    {
     "name": "stderr",
     "output_type": "stream",
     "text": [
      "100%|██████████| 2000/2000 [02:35<00:00, 12.89it/s]\n"
     ]
    },
    {
     "name": "stdout",
     "output_type": "stream",
     "text": [
      "Epoch 224 Mean Reward: 50.67623879241943\n"
     ]
    },
    {
     "name": "stderr",
     "output_type": "stream",
     "text": [
      "100%|██████████| 2000/2000 [02:38<00:00, 12.64it/s]\n"
     ]
    },
    {
     "name": "stdout",
     "output_type": "stream",
     "text": [
      "Epoch 225 Mean Reward: 44.61308326721191\n"
     ]
    },
    {
     "name": "stderr",
     "output_type": "stream",
     "text": [
      "100%|██████████| 2000/2000 [02:31<00:00, 13.16it/s]\n"
     ]
    },
    {
     "name": "stdout",
     "output_type": "stream",
     "text": [
      "Epoch 226 Mean Reward: 42.83998554992676\n"
     ]
    },
    {
     "name": "stderr",
     "output_type": "stream",
     "text": [
      "100%|██████████| 2000/2000 [02:40<00:00, 12.49it/s]\n"
     ]
    },
    {
     "name": "stdout",
     "output_type": "stream",
     "text": [
      "Epoch 227 Mean Reward: 44.00843941497803\n"
     ]
    },
    {
     "name": "stderr",
     "output_type": "stream",
     "text": [
      "100%|██████████| 2000/2000 [02:35<00:00, 12.86it/s]\n"
     ]
    },
    {
     "name": "stdout",
     "output_type": "stream",
     "text": [
      "Epoch 228 Mean Reward: 56.94821244812012\n"
     ]
    },
    {
     "name": "stderr",
     "output_type": "stream",
     "text": [
      "100%|██████████| 2000/2000 [02:35<00:00, 12.88it/s]\n"
     ]
    },
    {
     "name": "stdout",
     "output_type": "stream",
     "text": [
      "Epoch 229 Mean Reward: 54.97723221588135\n"
     ]
    },
    {
     "name": "stderr",
     "output_type": "stream",
     "text": [
      "100%|██████████| 2000/2000 [02:35<00:00, 12.88it/s]\n"
     ]
    },
    {
     "name": "stdout",
     "output_type": "stream",
     "text": [
      "Epoch 230 Mean Reward: 58.51562985229492\n"
     ]
    },
    {
     "name": "stderr",
     "output_type": "stream",
     "text": [
      "100%|██████████| 2000/2000 [02:34<00:00, 12.93it/s]\n"
     ]
    },
    {
     "name": "stdout",
     "output_type": "stream",
     "text": [
      "Epoch 231 Mean Reward: 60.108532348632814\n"
     ]
    },
    {
     "name": "stderr",
     "output_type": "stream",
     "text": [
      "100%|██████████| 2000/2000 [02:36<00:00, 12.81it/s]\n"
     ]
    },
    {
     "name": "stdout",
     "output_type": "stream",
     "text": [
      "Epoch 232 Mean Reward: 60.228512344360354\n"
     ]
    },
    {
     "name": "stderr",
     "output_type": "stream",
     "text": [
      "100%|██████████| 2000/2000 [02:35<00:00, 12.89it/s]\n"
     ]
    },
    {
     "name": "stdout",
     "output_type": "stream",
     "text": [
      "Epoch 233 Mean Reward: 55.192639205932615\n"
     ]
    },
    {
     "name": "stderr",
     "output_type": "stream",
     "text": [
      "100%|██████████| 2000/2000 [02:34<00:00, 12.93it/s]\n"
     ]
    },
    {
     "name": "stdout",
     "output_type": "stream",
     "text": [
      "Epoch 234 Mean Reward: 62.45078492736816\n"
     ]
    },
    {
     "name": "stderr",
     "output_type": "stream",
     "text": [
      "100%|██████████| 2000/2000 [02:36<00:00, 12.74it/s]\n"
     ]
    },
    {
     "name": "stdout",
     "output_type": "stream",
     "text": [
      "Epoch 235 Mean Reward: 62.45689215087891\n"
     ]
    },
    {
     "name": "stderr",
     "output_type": "stream",
     "text": [
      "100%|██████████| 2000/2000 [02:38<00:00, 12.62it/s]\n"
     ]
    },
    {
     "name": "stdout",
     "output_type": "stream",
     "text": [
      "Epoch 236 Mean Reward: 67.67366219329834\n"
     ]
    },
    {
     "name": "stderr",
     "output_type": "stream",
     "text": [
      "100%|██████████| 2000/2000 [02:36<00:00, 12.78it/s]\n"
     ]
    },
    {
     "name": "stdout",
     "output_type": "stream",
     "text": [
      "Epoch 237 Mean Reward: 66.28682481384277\n"
     ]
    },
    {
     "name": "stderr",
     "output_type": "stream",
     "text": [
      "100%|██████████| 2000/2000 [02:37<00:00, 12.71it/s]\n"
     ]
    },
    {
     "name": "stdout",
     "output_type": "stream",
     "text": [
      "Epoch 238 Mean Reward: 63.18488204956055\n"
     ]
    },
    {
     "name": "stderr",
     "output_type": "stream",
     "text": [
      "100%|██████████| 2000/2000 [02:37<00:00, 12.67it/s]\n"
     ]
    },
    {
     "name": "stdout",
     "output_type": "stream",
     "text": [
      "Epoch 239 Mean Reward: 67.57845053863525\n"
     ]
    },
    {
     "name": "stderr",
     "output_type": "stream",
     "text": [
      "100%|██████████| 2000/2000 [02:35<00:00, 12.85it/s]\n"
     ]
    },
    {
     "name": "stdout",
     "output_type": "stream",
     "text": [
      "Epoch 240 Mean Reward: 70.27776667785645\n",
      "Epoch 240 Model saved to ./checkpoints/deadly_corridor.ckpt\n",
      "Epoch 240 test with depth buffer:\n",
      "Test Episode 1 Reward: 60.74528503417969\n",
      "Test Episode 2 Reward: 185.92840576171875\n",
      "Test Episode 3 Reward: 89.62374877929688\n",
      "Test Episode 4 Reward: 20.327163696289062\n",
      "Test Episode 5 Reward: 25.715927124023438\n",
      "Test Episode 6 Reward: 109.80323791503906\n",
      "Test Episode 7 Reward: 89.62374877929688\n",
      "Test Episode 8 Reward: 185.92840576171875\n",
      "Test Episode 9 Reward: 104.06108093261719\n",
      "Test Episode 10 Reward: 390.5578918457031\n",
      "Average Test Reward (with depth buffer:) 126.23148956298829\n",
      "Epoch 240 test without depth buffer:\n",
      "Test Episode 1 Reward: 51.00334167480469\n",
      "Test Episode 2 Reward: 30.715560913085938\n",
      "Test Episode 3 Reward: 98.7515869140625\n",
      "Test Episode 4 Reward: 423.2014923095703\n",
      "Test Episode 5 Reward: 185.92840576171875\n",
      "Test Episode 6 Reward: 89.62374877929688\n",
      "Test Episode 7 Reward: 262.8193359375\n",
      "Test Episode 8 Reward: 322.9217987060547\n",
      "Test Episode 9 Reward: 21.27447509765625\n",
      "Test Episode 10 Reward: 89.62374877929688\n",
      "Average Test Reward (without depth buffer): 157.5863494873047\n"
     ]
    },
    {
     "name": "stderr",
     "output_type": "stream",
     "text": [
      "100%|██████████| 2000/2000 [02:45<00:00, 12.05it/s]\n"
     ]
    },
    {
     "name": "stdout",
     "output_type": "stream",
     "text": [
      "Epoch 241 Mean Reward: 59.76071945953369\n"
     ]
    },
    {
     "name": "stderr",
     "output_type": "stream",
     "text": [
      "100%|██████████| 2000/2000 [02:51<00:00, 11.65it/s]\n"
     ]
    },
    {
     "name": "stdout",
     "output_type": "stream",
     "text": [
      "Epoch 242 Mean Reward: 69.78472085571289\n"
     ]
    },
    {
     "name": "stderr",
     "output_type": "stream",
     "text": [
      "100%|██████████| 2000/2000 [02:47<00:00, 11.96it/s]\n"
     ]
    },
    {
     "name": "stdout",
     "output_type": "stream",
     "text": [
      "Epoch 243 Mean Reward: 73.58975247955323\n"
     ]
    },
    {
     "name": "stderr",
     "output_type": "stream",
     "text": [
      "100%|██████████| 2000/2000 [02:45<00:00, 12.12it/s]\n"
     ]
    },
    {
     "name": "stdout",
     "output_type": "stream",
     "text": [
      "Epoch 244 Mean Reward: 74.78664707183837\n"
     ]
    },
    {
     "name": "stderr",
     "output_type": "stream",
     "text": [
      "100%|██████████| 2000/2000 [02:45<00:00, 12.06it/s]\n"
     ]
    },
    {
     "name": "stdout",
     "output_type": "stream",
     "text": [
      "Epoch 245 Mean Reward: 74.59403035736084\n"
     ]
    },
    {
     "name": "stderr",
     "output_type": "stream",
     "text": [
      "100%|██████████| 2000/2000 [02:49<00:00, 11.80it/s]\n"
     ]
    },
    {
     "name": "stdout",
     "output_type": "stream",
     "text": [
      "Epoch 246 Mean Reward: 85.20434690093994\n"
     ]
    },
    {
     "name": "stderr",
     "output_type": "stream",
     "text": [
      "100%|██████████| 2000/2000 [02:48<00:00, 11.85it/s]\n"
     ]
    },
    {
     "name": "stdout",
     "output_type": "stream",
     "text": [
      "Epoch 247 Mean Reward: 82.52746807861328\n"
     ]
    },
    {
     "name": "stderr",
     "output_type": "stream",
     "text": [
      "100%|██████████| 2000/2000 [02:50<00:00, 11.75it/s]\n"
     ]
    },
    {
     "name": "stdout",
     "output_type": "stream",
     "text": [
      "Epoch 248 Mean Reward: 79.68474964904784\n"
     ]
    },
    {
     "name": "stderr",
     "output_type": "stream",
     "text": [
      "100%|██████████| 2000/2000 [02:47<00:00, 11.91it/s]\n"
     ]
    },
    {
     "name": "stdout",
     "output_type": "stream",
     "text": [
      "Epoch 249 Mean Reward: 81.78948561096192\n"
     ]
    },
    {
     "name": "stderr",
     "output_type": "stream",
     "text": [
      "100%|██████████| 2000/2000 [02:51<00:00, 11.68it/s]\n"
     ]
    },
    {
     "name": "stdout",
     "output_type": "stream",
     "text": [
      "Epoch 250 Mean Reward: 80.80656266784668\n"
     ]
    },
    {
     "name": "stderr",
     "output_type": "stream",
     "text": [
      "100%|██████████| 2000/2000 [02:49<00:00, 11.77it/s]\n"
     ]
    },
    {
     "name": "stdout",
     "output_type": "stream",
     "text": [
      "Epoch 251 Mean Reward: 93.9274394607544\n"
     ]
    },
    {
     "name": "stderr",
     "output_type": "stream",
     "text": [
      "100%|██████████| 2000/2000 [02:52<00:00, 11.62it/s]\n"
     ]
    },
    {
     "name": "stdout",
     "output_type": "stream",
     "text": [
      "Epoch 252 Mean Reward: 105.60606782531738\n"
     ]
    },
    {
     "name": "stderr",
     "output_type": "stream",
     "text": [
      "100%|██████████| 2000/2000 [02:56<00:00, 11.32it/s]\n"
     ]
    },
    {
     "name": "stdout",
     "output_type": "stream",
     "text": [
      "Epoch 253 Mean Reward: 95.2896097869873\n"
     ]
    },
    {
     "name": "stderr",
     "output_type": "stream",
     "text": [
      "100%|██████████| 2000/2000 [02:57<00:00, 11.28it/s]\n"
     ]
    },
    {
     "name": "stdout",
     "output_type": "stream",
     "text": [
      "Epoch 254 Mean Reward: 99.35004048919677\n"
     ]
    },
    {
     "name": "stderr",
     "output_type": "stream",
     "text": [
      "100%|██████████| 2000/2000 [02:55<00:00, 11.40it/s]\n"
     ]
    },
    {
     "name": "stdout",
     "output_type": "stream",
     "text": [
      "Epoch 255 Mean Reward: 105.22174159240723\n"
     ]
    },
    {
     "name": "stderr",
     "output_type": "stream",
     "text": [
      "100%|██████████| 2000/2000 [02:52<00:00, 11.58it/s]\n"
     ]
    },
    {
     "name": "stdout",
     "output_type": "stream",
     "text": [
      "Epoch 256 Mean Reward: 105.01460943603516\n"
     ]
    },
    {
     "name": "stderr",
     "output_type": "stream",
     "text": [
      "100%|██████████| 2000/2000 [02:55<00:00, 11.42it/s]\n"
     ]
    },
    {
     "name": "stdout",
     "output_type": "stream",
     "text": [
      "Epoch 257 Mean Reward: 109.20135961151124\n"
     ]
    },
    {
     "name": "stderr",
     "output_type": "stream",
     "text": [
      "100%|██████████| 2000/2000 [03:01<00:00, 11.02it/s]\n"
     ]
    },
    {
     "name": "stdout",
     "output_type": "stream",
     "text": [
      "Epoch 258 Mean Reward: 116.47044395446777\n"
     ]
    },
    {
     "name": "stderr",
     "output_type": "stream",
     "text": [
      "100%|██████████| 2000/2000 [02:59<00:00, 11.17it/s]\n"
     ]
    },
    {
     "name": "stdout",
     "output_type": "stream",
     "text": [
      "Epoch 259 Mean Reward: 113.37981177520751\n"
     ]
    },
    {
     "name": "stderr",
     "output_type": "stream",
     "text": [
      "100%|██████████| 2000/2000 [03:01<00:00, 11.01it/s]\n"
     ]
    },
    {
     "name": "stdout",
     "output_type": "stream",
     "text": [
      "Epoch 260 Mean Reward: 112.19115814208985\n",
      "Epoch 260 Model saved to ./checkpoints/deadly_corridor.ckpt\n",
      "Epoch 260 test with depth buffer:\n",
      "Test Episode 1 Reward: 77.04808044433594\n",
      "Test Episode 2 Reward: 7.959228515625\n",
      "Test Episode 3 Reward: 8.2008056640625\n",
      "Test Episode 4 Reward: 8.2008056640625\n",
      "Test Episode 5 Reward: 8.2008056640625\n",
      "Test Episode 6 Reward: 8.2008056640625\n",
      "Test Episode 7 Reward: 1.3792724609375\n",
      "Test Episode 8 Reward: 8.716293334960938\n",
      "Test Episode 9 Reward: 231.80169677734375\n",
      "Test Episode 10 Reward: 8.2008056640625\n",
      "Average Test Reward (with depth buffer:) 36.79085998535156\n",
      "Epoch 260 test without depth buffer:\n",
      "Test Episode 1 Reward: 21.457916259765625\n",
      "Test Episode 2 Reward: -39.210845947265625\n",
      "Test Episode 3 Reward: 8.2008056640625\n",
      "Test Episode 4 Reward: 188.63902282714844\n",
      "Test Episode 5 Reward: -44.662933349609375\n",
      "Test Episode 6 Reward: 58.46205139160156\n",
      "Test Episode 7 Reward: 8.2008056640625\n",
      "Test Episode 8 Reward: 8.2008056640625\n",
      "Test Episode 9 Reward: 303.31492614746094\n",
      "Test Episode 10 Reward: 46.59226989746094\n",
      "Average Test Reward (without depth buffer): 55.919482421875\n"
     ]
    },
    {
     "name": "stderr",
     "output_type": "stream",
     "text": [
      "100%|██████████| 2000/2000 [03:12<00:00, 10.41it/s]\n"
     ]
    },
    {
     "name": "stdout",
     "output_type": "stream",
     "text": [
      "Epoch 261 Mean Reward: 112.36041110229492\n"
     ]
    },
    {
     "name": "stderr",
     "output_type": "stream",
     "text": [
      "100%|██████████| 2000/2000 [03:14<00:00, 10.30it/s]\n"
     ]
    },
    {
     "name": "stdout",
     "output_type": "stream",
     "text": [
      "Epoch 262 Mean Reward: 119.23727365112305\n"
     ]
    },
    {
     "name": "stderr",
     "output_type": "stream",
     "text": [
      "100%|██████████| 2000/2000 [03:12<00:00, 10.37it/s]\n"
     ]
    },
    {
     "name": "stdout",
     "output_type": "stream",
     "text": [
      "Epoch 263 Mean Reward: 122.88149341583252\n"
     ]
    },
    {
     "name": "stderr",
     "output_type": "stream",
     "text": [
      "100%|██████████| 2000/2000 [03:02<00:00, 10.96it/s]\n"
     ]
    },
    {
     "name": "stdout",
     "output_type": "stream",
     "text": [
      "Epoch 264 Mean Reward: 121.99081611633301\n"
     ]
    },
    {
     "name": "stderr",
     "output_type": "stream",
     "text": [
      "100%|██████████| 2000/2000 [03:08<00:00, 10.63it/s]\n"
     ]
    },
    {
     "name": "stdout",
     "output_type": "stream",
     "text": [
      "Epoch 265 Mean Reward: 125.2781968383789\n"
     ]
    },
    {
     "name": "stderr",
     "output_type": "stream",
     "text": [
      "100%|██████████| 2000/2000 [03:03<00:00, 10.90it/s]\n"
     ]
    },
    {
     "name": "stdout",
     "output_type": "stream",
     "text": [
      "Epoch 266 Mean Reward: 119.99701973724365\n"
     ]
    },
    {
     "name": "stderr",
     "output_type": "stream",
     "text": [
      "100%|██████████| 2000/2000 [03:14<00:00, 10.30it/s]\n"
     ]
    },
    {
     "name": "stdout",
     "output_type": "stream",
     "text": [
      "Epoch 267 Mean Reward: 134.47288803100585\n"
     ]
    },
    {
     "name": "stderr",
     "output_type": "stream",
     "text": [
      "100%|██████████| 2000/2000 [03:11<00:00, 10.43it/s]\n"
     ]
    },
    {
     "name": "stdout",
     "output_type": "stream",
     "text": [
      "Epoch 268 Mean Reward: 125.08574313354492\n"
     ]
    },
    {
     "name": "stderr",
     "output_type": "stream",
     "text": [
      "100%|██████████| 2000/2000 [03:08<00:00, 10.62it/s]\n"
     ]
    },
    {
     "name": "stdout",
     "output_type": "stream",
     "text": [
      "Epoch 269 Mean Reward: 132.0020233078003\n"
     ]
    },
    {
     "name": "stderr",
     "output_type": "stream",
     "text": [
      "100%|██████████| 2000/2000 [03:08<00:00, 10.58it/s]\n"
     ]
    },
    {
     "name": "stdout",
     "output_type": "stream",
     "text": [
      "Epoch 270 Mean Reward: 134.08578984832764\n"
     ]
    },
    {
     "name": "stderr",
     "output_type": "stream",
     "text": [
      "100%|██████████| 2000/2000 [03:32<00:00,  9.40it/s]\n"
     ]
    },
    {
     "name": "stdout",
     "output_type": "stream",
     "text": [
      "Epoch 271 Mean Reward: 131.84483157348632\n"
     ]
    },
    {
     "name": "stderr",
     "output_type": "stream",
     "text": [
      "100%|██████████| 2000/2000 [03:29<00:00,  9.56it/s]\n"
     ]
    },
    {
     "name": "stdout",
     "output_type": "stream",
     "text": [
      "Epoch 272 Mean Reward: 135.1561423110962\n"
     ]
    },
    {
     "name": "stderr",
     "output_type": "stream",
     "text": [
      "100%|██████████| 2000/2000 [03:29<00:00,  9.53it/s]\n"
     ]
    },
    {
     "name": "stdout",
     "output_type": "stream",
     "text": [
      "Epoch 273 Mean Reward: 134.48822129821778\n"
     ]
    },
    {
     "name": "stderr",
     "output_type": "stream",
     "text": [
      "100%|██████████| 2000/2000 [03:31<00:00,  9.44it/s]\n"
     ]
    },
    {
     "name": "stdout",
     "output_type": "stream",
     "text": [
      "Epoch 274 Mean Reward: 136.41219158172606\n"
     ]
    },
    {
     "name": "stderr",
     "output_type": "stream",
     "text": [
      "100%|██████████| 2000/2000 [03:34<00:00,  9.35it/s]\n"
     ]
    },
    {
     "name": "stdout",
     "output_type": "stream",
     "text": [
      "Epoch 275 Mean Reward: 136.10003343963623\n"
     ]
    },
    {
     "name": "stderr",
     "output_type": "stream",
     "text": [
      "100%|██████████| 2000/2000 [03:42<00:00,  8.98it/s]\n"
     ]
    },
    {
     "name": "stdout",
     "output_type": "stream",
     "text": [
      "Epoch 276 Mean Reward: 141.18230869293214\n"
     ]
    },
    {
     "name": "stderr",
     "output_type": "stream",
     "text": [
      "100%|██████████| 2000/2000 [03:35<00:00,  9.28it/s]\n"
     ]
    },
    {
     "name": "stdout",
     "output_type": "stream",
     "text": [
      "Epoch 277 Mean Reward: 150.88431479644777\n"
     ]
    },
    {
     "name": "stderr",
     "output_type": "stream",
     "text": [
      "100%|██████████| 2000/2000 [03:33<00:00,  9.35it/s]\n"
     ]
    },
    {
     "name": "stdout",
     "output_type": "stream",
     "text": [
      "Epoch 278 Mean Reward: 152.20751837921142\n"
     ]
    },
    {
     "name": "stderr",
     "output_type": "stream",
     "text": [
      "100%|██████████| 2000/2000 [03:38<00:00,  9.16it/s]\n"
     ]
    },
    {
     "name": "stdout",
     "output_type": "stream",
     "text": [
      "Epoch 279 Mean Reward: 150.67533879089356\n"
     ]
    },
    {
     "name": "stderr",
     "output_type": "stream",
     "text": [
      "100%|██████████| 2000/2000 [03:36<00:00,  9.24it/s]\n"
     ]
    },
    {
     "name": "stdout",
     "output_type": "stream",
     "text": [
      "Epoch 280 Mean Reward: 153.30126638793945\n",
      "Epoch 280 Model saved to ./checkpoints/deadly_corridor.ckpt\n",
      "Epoch 280 test with depth buffer:\n",
      "Test Episode 1 Reward: -73.72346496582031\n",
      "Test Episode 2 Reward: -9.830093383789062\n",
      "Test Episode 3 Reward: -28.709243774414062\n",
      "Test Episode 4 Reward: -108.48500061035156\n",
      "Test Episode 5 Reward: -108.48500061035156\n",
      "Test Episode 6 Reward: 2.0232086181640625\n",
      "Test Episode 7 Reward: 140.6801300048828\n",
      "Test Episode 8 Reward: 20.32794189453125\n",
      "Test Episode 9 Reward: -108.48500061035156\n",
      "Test Episode 10 Reward: -9.100875854492188\n",
      "Average Test Reward (with depth buffer:) -28.37873992919922\n",
      "Epoch 280 test without depth buffer:\n",
      "Test Episode 1 Reward: 1.32867431640625\n",
      "Test Episode 2 Reward: 308.9603271484375\n",
      "Test Episode 3 Reward: 18.083877563476562\n",
      "Test Episode 4 Reward: 30.575225830078125\n",
      "Test Episode 5 Reward: -108.48500061035156\n",
      "Test Episode 6 Reward: -66.41473388671875\n",
      "Test Episode 7 Reward: -108.48500061035156\n",
      "Test Episode 8 Reward: -108.48500061035156\n",
      "Test Episode 9 Reward: 88.00114440917969\n",
      "Test Episode 10 Reward: -108.48500061035156\n",
      "Average Test Reward (without depth buffer): -5.340548706054688\n"
     ]
    },
    {
     "name": "stderr",
     "output_type": "stream",
     "text": [
      "100%|██████████| 2000/2000 [04:03<00:00,  8.21it/s]\n"
     ]
    },
    {
     "name": "stdout",
     "output_type": "stream",
     "text": [
      "Epoch 281 Mean Reward: 152.64188959503173\n"
     ]
    },
    {
     "name": "stderr",
     "output_type": "stream",
     "text": [
      "100%|██████████| 2000/2000 [03:49<00:00,  8.70it/s]\n"
     ]
    },
    {
     "name": "stdout",
     "output_type": "stream",
     "text": [
      "Epoch 282 Mean Reward: 157.20715754699708\n"
     ]
    },
    {
     "name": "stderr",
     "output_type": "stream",
     "text": [
      "100%|██████████| 2000/2000 [03:57<00:00,  8.41it/s]\n"
     ]
    },
    {
     "name": "stdout",
     "output_type": "stream",
     "text": [
      "Epoch 283 Mean Reward: 157.75033568573\n"
     ]
    },
    {
     "name": "stderr",
     "output_type": "stream",
     "text": [
      "100%|██████████| 2000/2000 [03:58<00:00,  8.37it/s]\n"
     ]
    },
    {
     "name": "stdout",
     "output_type": "stream",
     "text": [
      "Epoch 284 Mean Reward: 150.63441331481934\n"
     ]
    },
    {
     "name": "stderr",
     "output_type": "stream",
     "text": [
      "100%|██████████| 2000/2000 [03:53<00:00,  8.57it/s]\n"
     ]
    },
    {
     "name": "stdout",
     "output_type": "stream",
     "text": [
      "Epoch 285 Mean Reward: 165.7161930847168\n"
     ]
    },
    {
     "name": "stderr",
     "output_type": "stream",
     "text": [
      "100%|██████████| 2000/2000 [03:54<00:00,  8.54it/s]\n"
     ]
    },
    {
     "name": "stdout",
     "output_type": "stream",
     "text": [
      "Epoch 286 Mean Reward: 167.78084758758544\n"
     ]
    },
    {
     "name": "stderr",
     "output_type": "stream",
     "text": [
      "100%|██████████| 2000/2000 [04:05<00:00,  8.16it/s]\n"
     ]
    },
    {
     "name": "stdout",
     "output_type": "stream",
     "text": [
      "Epoch 287 Mean Reward: 173.0338378601074\n"
     ]
    },
    {
     "name": "stderr",
     "output_type": "stream",
     "text": [
      "100%|██████████| 2000/2000 [03:52<00:00,  8.60it/s]\n"
     ]
    },
    {
     "name": "stdout",
     "output_type": "stream",
     "text": [
      "Epoch 288 Mean Reward: 183.69666847991942\n"
     ]
    },
    {
     "name": "stderr",
     "output_type": "stream",
     "text": [
      "100%|██████████| 2000/2000 [03:51<00:00,  8.66it/s]\n"
     ]
    },
    {
     "name": "stdout",
     "output_type": "stream",
     "text": [
      "Epoch 289 Mean Reward: 171.5874099960327\n"
     ]
    },
    {
     "name": "stderr",
     "output_type": "stream",
     "text": [
      "100%|██████████| 2000/2000 [03:52<00:00,  8.59it/s]\n"
     ]
    },
    {
     "name": "stdout",
     "output_type": "stream",
     "text": [
      "Epoch 290 Mean Reward: 181.5703915863037\n"
     ]
    },
    {
     "name": "stderr",
     "output_type": "stream",
     "text": [
      "100%|██████████| 2000/2000 [04:03<00:00,  8.20it/s]\n"
     ]
    },
    {
     "name": "stdout",
     "output_type": "stream",
     "text": [
      "Epoch 291 Mean Reward: 170.30424026489257\n"
     ]
    },
    {
     "name": "stderr",
     "output_type": "stream",
     "text": [
      "100%|██████████| 2000/2000 [04:02<00:00,  8.25it/s]\n"
     ]
    },
    {
     "name": "stdout",
     "output_type": "stream",
     "text": [
      "Epoch 292 Mean Reward: 175.27880367279053\n"
     ]
    },
    {
     "name": "stderr",
     "output_type": "stream",
     "text": [
      "100%|██████████| 2000/2000 [03:57<00:00,  8.42it/s]\n"
     ]
    },
    {
     "name": "stdout",
     "output_type": "stream",
     "text": [
      "Epoch 293 Mean Reward: 183.8558252029419\n"
     ]
    },
    {
     "name": "stderr",
     "output_type": "stream",
     "text": [
      "100%|██████████| 2000/2000 [04:03<00:00,  8.21it/s]\n"
     ]
    },
    {
     "name": "stdout",
     "output_type": "stream",
     "text": [
      "Epoch 294 Mean Reward: 176.48657317352294\n"
     ]
    },
    {
     "name": "stderr",
     "output_type": "stream",
     "text": [
      "100%|██████████| 2000/2000 [04:10<00:00,  8.00it/s]\n"
     ]
    },
    {
     "name": "stdout",
     "output_type": "stream",
     "text": [
      "Epoch 295 Mean Reward: 181.82426343536378\n"
     ]
    },
    {
     "name": "stderr",
     "output_type": "stream",
     "text": [
      "100%|██████████| 2000/2000 [04:07<00:00,  8.07it/s]\n"
     ]
    },
    {
     "name": "stdout",
     "output_type": "stream",
     "text": [
      "Epoch 296 Mean Reward: 182.94013941192628\n"
     ]
    },
    {
     "name": "stderr",
     "output_type": "stream",
     "text": [
      "100%|██████████| 2000/2000 [04:17<00:00,  7.77it/s]\n"
     ]
    },
    {
     "name": "stdout",
     "output_type": "stream",
     "text": [
      "Epoch 297 Mean Reward: 190.5928024368286\n"
     ]
    },
    {
     "name": "stderr",
     "output_type": "stream",
     "text": [
      "100%|██████████| 2000/2000 [04:07<00:00,  8.08it/s]\n"
     ]
    },
    {
     "name": "stdout",
     "output_type": "stream",
     "text": [
      "Epoch 298 Mean Reward: 183.9883235321045\n"
     ]
    },
    {
     "name": "stderr",
     "output_type": "stream",
     "text": [
      "100%|██████████| 2000/2000 [04:18<00:00,  7.73it/s]\n"
     ]
    },
    {
     "name": "stdout",
     "output_type": "stream",
     "text": [
      "Epoch 299 Mean Reward: 189.7735328903198\n"
     ]
    },
    {
     "name": "stderr",
     "output_type": "stream",
     "text": [
      "100%|██████████| 2000/2000 [04:02<00:00,  8.25it/s]\n"
     ]
    },
    {
     "name": "stdout",
     "output_type": "stream",
     "text": [
      "Epoch 300 Mean Reward: 192.48953087615968\n",
      "Epoch 300 Model saved to ./checkpoints/deadly_corridor.ckpt\n",
      "Epoch 300 test with depth buffer:\n",
      "Test Episode 1 Reward: 50.106597900390625\n",
      "Test Episode 2 Reward: 281.8015441894531\n",
      "Test Episode 3 Reward: 139.3054656982422\n",
      "Test Episode 4 Reward: -11.980697631835938\n",
      "Test Episode 5 Reward: -0.0035858154296875\n",
      "Test Episode 6 Reward: 50.106597900390625\n",
      "Test Episode 7 Reward: 90.417236328125\n",
      "Test Episode 8 Reward: 50.106597900390625\n",
      "Test Episode 9 Reward: -73.46220397949219\n",
      "Test Episode 10 Reward: -34.477508544921875\n",
      "Average Test Reward (with depth buffer:) 54.19200439453125\n",
      "Epoch 300 test without depth buffer:\n",
      "Test Episode 1 Reward: 50.106597900390625\n",
      "Test Episode 2 Reward: 23.446014404296875\n",
      "Test Episode 3 Reward: -2.502685546875\n",
      "Test Episode 4 Reward: -92.45570373535156\n",
      "Test Episode 5 Reward: 50.106597900390625\n",
      "Test Episode 6 Reward: 174.682373046875\n",
      "Test Episode 7 Reward: 90.417236328125\n",
      "Test Episode 8 Reward: 50.106597900390625\n",
      "Test Episode 9 Reward: 90.417236328125\n",
      "Test Episode 10 Reward: 50.106597900390625\n",
      "Average Test Reward (without depth buffer): 48.44308624267578\n"
     ]
    },
    {
     "name": "stderr",
     "output_type": "stream",
     "text": [
      "100%|██████████| 2000/2000 [04:42<00:00,  7.09it/s]\n"
     ]
    },
    {
     "name": "stdout",
     "output_type": "stream",
     "text": [
      "Epoch 301 Mean Reward: 191.5942024383545\n"
     ]
    },
    {
     "name": "stderr",
     "output_type": "stream",
     "text": [
      "100%|██████████| 2000/2000 [04:22<00:00,  7.61it/s]\n"
     ]
    },
    {
     "name": "stdout",
     "output_type": "stream",
     "text": [
      "Epoch 302 Mean Reward: 198.60395361328125\n"
     ]
    },
    {
     "name": "stderr",
     "output_type": "stream",
     "text": [
      "100%|██████████| 2000/2000 [04:05<00:00,  8.15it/s]\n"
     ]
    },
    {
     "name": "stdout",
     "output_type": "stream",
     "text": [
      "Epoch 303 Mean Reward: 198.17406287384034\n"
     ]
    },
    {
     "name": "stderr",
     "output_type": "stream",
     "text": [
      "100%|██████████| 2000/2000 [04:21<00:00,  7.65it/s]\n"
     ]
    },
    {
     "name": "stdout",
     "output_type": "stream",
     "text": [
      "Epoch 304 Mean Reward: 209.2569066619873\n"
     ]
    },
    {
     "name": "stderr",
     "output_type": "stream",
     "text": [
      "100%|██████████| 2000/2000 [04:31<00:00,  7.38it/s]\n"
     ]
    },
    {
     "name": "stdout",
     "output_type": "stream",
     "text": [
      "Epoch 305 Mean Reward: 210.18471981811524\n"
     ]
    },
    {
     "name": "stderr",
     "output_type": "stream",
     "text": [
      "100%|██████████| 2000/2000 [04:30<00:00,  7.40it/s]\n"
     ]
    },
    {
     "name": "stdout",
     "output_type": "stream",
     "text": [
      "Epoch 306 Mean Reward: 212.77745557403566\n"
     ]
    },
    {
     "name": "stderr",
     "output_type": "stream",
     "text": [
      "100%|██████████| 2000/2000 [04:20<00:00,  7.68it/s]\n"
     ]
    },
    {
     "name": "stdout",
     "output_type": "stream",
     "text": [
      "Epoch 307 Mean Reward: 214.28733435058595\n"
     ]
    },
    {
     "name": "stderr",
     "output_type": "stream",
     "text": [
      "100%|██████████| 2000/2000 [04:11<00:00,  7.95it/s]\n"
     ]
    },
    {
     "name": "stdout",
     "output_type": "stream",
     "text": [
      "Epoch 308 Mean Reward: 217.72444358062745\n"
     ]
    },
    {
     "name": "stderr",
     "output_type": "stream",
     "text": [
      "100%|██████████| 2000/2000 [04:18<00:00,  7.72it/s]\n"
     ]
    },
    {
     "name": "stdout",
     "output_type": "stream",
     "text": [
      "Epoch 309 Mean Reward: 210.08014912414552\n"
     ]
    },
    {
     "name": "stderr",
     "output_type": "stream",
     "text": [
      "100%|██████████| 2000/2000 [04:08<00:00,  8.03it/s]\n"
     ]
    },
    {
     "name": "stdout",
     "output_type": "stream",
     "text": [
      "Epoch 310 Mean Reward: 209.82934545135498\n"
     ]
    },
    {
     "name": "stderr",
     "output_type": "stream",
     "text": [
      "100%|██████████| 2000/2000 [04:25<00:00,  7.52it/s]\n"
     ]
    },
    {
     "name": "stdout",
     "output_type": "stream",
     "text": [
      "Epoch 311 Mean Reward: 215.6838595352173\n"
     ]
    },
    {
     "name": "stderr",
     "output_type": "stream",
     "text": [
      "100%|██████████| 2000/2000 [04:39<00:00,  7.16it/s]\n"
     ]
    },
    {
     "name": "stdout",
     "output_type": "stream",
     "text": [
      "Epoch 312 Mean Reward: 216.33595304870605\n"
     ]
    },
    {
     "name": "stderr",
     "output_type": "stream",
     "text": [
      "100%|██████████| 2000/2000 [04:24<00:00,  7.56it/s]\n"
     ]
    },
    {
     "name": "stdout",
     "output_type": "stream",
     "text": [
      "Epoch 313 Mean Reward: 209.99936808776854\n"
     ]
    },
    {
     "name": "stderr",
     "output_type": "stream",
     "text": [
      "100%|██████████| 2000/2000 [04:28<00:00,  7.46it/s]\n"
     ]
    },
    {
     "name": "stdout",
     "output_type": "stream",
     "text": [
      "Epoch 314 Mean Reward: 222.54791800689696\n"
     ]
    },
    {
     "name": "stderr",
     "output_type": "stream",
     "text": [
      "100%|██████████| 2000/2000 [04:41<00:00,  7.12it/s]\n"
     ]
    },
    {
     "name": "stdout",
     "output_type": "stream",
     "text": [
      "Epoch 315 Mean Reward: 220.78966319274903\n"
     ]
    },
    {
     "name": "stderr",
     "output_type": "stream",
     "text": [
      "100%|██████████| 2000/2000 [04:38<00:00,  7.19it/s]\n"
     ]
    },
    {
     "name": "stdout",
     "output_type": "stream",
     "text": [
      "Epoch 316 Mean Reward: 227.08886241149904\n"
     ]
    },
    {
     "name": "stderr",
     "output_type": "stream",
     "text": [
      "100%|██████████| 2000/2000 [04:29<00:00,  7.41it/s]\n"
     ]
    },
    {
     "name": "stdout",
     "output_type": "stream",
     "text": [
      "Epoch 317 Mean Reward: 214.65735762023925\n"
     ]
    },
    {
     "name": "stderr",
     "output_type": "stream",
     "text": [
      "100%|██████████| 2000/2000 [04:21<00:00,  7.65it/s]\n"
     ]
    },
    {
     "name": "stdout",
     "output_type": "stream",
     "text": [
      "Epoch 318 Mean Reward: 231.01363320922852\n"
     ]
    },
    {
     "name": "stderr",
     "output_type": "stream",
     "text": [
      "100%|██████████| 2000/2000 [04:37<00:00,  7.22it/s]\n"
     ]
    },
    {
     "name": "stdout",
     "output_type": "stream",
     "text": [
      "Epoch 319 Mean Reward: 220.3244140396118\n"
     ]
    },
    {
     "name": "stderr",
     "output_type": "stream",
     "text": [
      "100%|██████████| 2000/2000 [04:25<00:00,  7.54it/s]\n"
     ]
    },
    {
     "name": "stdout",
     "output_type": "stream",
     "text": [
      "Epoch 320 Mean Reward: 233.20636780548097\n",
      "Epoch 320 Model saved to ./checkpoints/deadly_corridor.ckpt\n",
      "Epoch 320 test with depth buffer:\n",
      "Test Episode 1 Reward: -42.00175476074219\n",
      "Test Episode 2 Reward: 20.187606811523438\n",
      "Test Episode 3 Reward: -57.01763916015625\n",
      "Test Episode 4 Reward: -105.70201110839844\n",
      "Test Episode 5 Reward: -105.70201110839844\n",
      "Test Episode 6 Reward: 0.279083251953125\n",
      "Test Episode 7 Reward: -105.70201110839844\n",
      "Test Episode 8 Reward: -103.57316589355469\n",
      "Test Episode 9 Reward: -105.70201110839844\n",
      "Test Episode 10 Reward: 2.5382537841796875\n",
      "Average Test Reward (with depth buffer:) -60.239566040039065\n",
      "Epoch 320 test without depth buffer:\n",
      "Test Episode 1 Reward: -105.70201110839844\n",
      "Test Episode 2 Reward: -66.78001403808594\n",
      "Test Episode 3 Reward: -56.43353271484375\n",
      "Test Episode 4 Reward: -23.577255249023438\n",
      "Test Episode 5 Reward: -24.016983032226562\n",
      "Test Episode 6 Reward: -105.70201110839844\n",
      "Test Episode 7 Reward: -105.70201110839844\n",
      "Test Episode 8 Reward: -105.70201110839844\n",
      "Test Episode 9 Reward: 209.029541015625\n",
      "Test Episode 10 Reward: -21.7159423828125\n",
      "Average Test Reward (without depth buffer): -40.63022308349609\n"
     ]
    },
    {
     "name": "stderr",
     "output_type": "stream",
     "text": [
      "100%|██████████| 2000/2000 [05:11<00:00,  6.41it/s]\n"
     ]
    },
    {
     "name": "stdout",
     "output_type": "stream",
     "text": [
      "Epoch 321 Mean Reward: 260.7745969390869\n"
     ]
    },
    {
     "name": "stderr",
     "output_type": "stream",
     "text": [
      "100%|██████████| 2000/2000 [05:59<00:00,  5.57it/s]\n"
     ]
    },
    {
     "name": "stdout",
     "output_type": "stream",
     "text": [
      "Epoch 322 Mean Reward: 268.33933066558836\n"
     ]
    },
    {
     "name": "stderr",
     "output_type": "stream",
     "text": [
      "100%|██████████| 2000/2000 [05:22<00:00,  6.20it/s]\n"
     ]
    },
    {
     "name": "stdout",
     "output_type": "stream",
     "text": [
      "Epoch 323 Mean Reward: 272.54308726501466\n"
     ]
    },
    {
     "name": "stderr",
     "output_type": "stream",
     "text": [
      "100%|██████████| 2000/2000 [05:35<00:00,  5.95it/s]\n"
     ]
    },
    {
     "name": "stdout",
     "output_type": "stream",
     "text": [
      "Epoch 324 Mean Reward: 278.6316449737549\n"
     ]
    },
    {
     "name": "stderr",
     "output_type": "stream",
     "text": [
      "100%|██████████| 2000/2000 [05:40<00:00,  5.87it/s]\n"
     ]
    },
    {
     "name": "stdout",
     "output_type": "stream",
     "text": [
      "Epoch 325 Mean Reward: 267.6443008956909\n"
     ]
    },
    {
     "name": "stderr",
     "output_type": "stream",
     "text": [
      "100%|██████████| 2000/2000 [05:34<00:00,  5.98it/s]\n"
     ]
    },
    {
     "name": "stdout",
     "output_type": "stream",
     "text": [
      "Epoch 326 Mean Reward: 272.4386986541748\n"
     ]
    },
    {
     "name": "stderr",
     "output_type": "stream",
     "text": [
      "100%|██████████| 2000/2000 [05:20<00:00,  6.24it/s]\n"
     ]
    },
    {
     "name": "stdout",
     "output_type": "stream",
     "text": [
      "Epoch 327 Mean Reward: 297.63652362823484\n"
     ]
    },
    {
     "name": "stderr",
     "output_type": "stream",
     "text": [
      "100%|██████████| 2000/2000 [05:26<00:00,  6.12it/s]\n"
     ]
    },
    {
     "name": "stdout",
     "output_type": "stream",
     "text": [
      "Epoch 328 Mean Reward: 300.349482673645\n"
     ]
    },
    {
     "name": "stderr",
     "output_type": "stream",
     "text": [
      "100%|██████████| 2000/2000 [05:34<00:00,  5.99it/s]\n"
     ]
    },
    {
     "name": "stdout",
     "output_type": "stream",
     "text": [
      "Epoch 329 Mean Reward: 292.85134813690183\n"
     ]
    },
    {
     "name": "stderr",
     "output_type": "stream",
     "text": [
      "100%|██████████| 2000/2000 [05:25<00:00,  6.15it/s]\n"
     ]
    },
    {
     "name": "stdout",
     "output_type": "stream",
     "text": [
      "Epoch 330 Mean Reward: 286.5981970901489\n"
     ]
    },
    {
     "name": "stderr",
     "output_type": "stream",
     "text": [
      "100%|██████████| 2000/2000 [04:22<00:00,  7.63it/s]\n"
     ]
    },
    {
     "name": "stdout",
     "output_type": "stream",
     "text": [
      "Epoch 331 Mean Reward: 297.9699295501709\n"
     ]
    },
    {
     "name": "stderr",
     "output_type": "stream",
     "text": [
      "100%|██████████| 2000/2000 [04:22<00:00,  7.62it/s]\n"
     ]
    },
    {
     "name": "stdout",
     "output_type": "stream",
     "text": [
      "Epoch 332 Mean Reward: 311.1087338562012\n"
     ]
    },
    {
     "name": "stderr",
     "output_type": "stream",
     "text": [
      "100%|██████████| 2000/2000 [04:42<00:00,  7.09it/s]\n"
     ]
    },
    {
     "name": "stdout",
     "output_type": "stream",
     "text": [
      "Epoch 333 Mean Reward: 319.90411862182617\n"
     ]
    },
    {
     "name": "stderr",
     "output_type": "stream",
     "text": [
      "100%|██████████| 2000/2000 [04:27<00:00,  7.47it/s]\n"
     ]
    },
    {
     "name": "stdout",
     "output_type": "stream",
     "text": [
      "Epoch 334 Mean Reward: 322.0646431655884\n"
     ]
    },
    {
     "name": "stderr",
     "output_type": "stream",
     "text": [
      "100%|██████████| 2000/2000 [04:27<00:00,  7.48it/s]\n"
     ]
    },
    {
     "name": "stdout",
     "output_type": "stream",
     "text": [
      "Epoch 335 Mean Reward: 310.83122234344484\n"
     ]
    },
    {
     "name": "stderr",
     "output_type": "stream",
     "text": [
      "100%|██████████| 2000/2000 [04:43<00:00,  7.05it/s]\n"
     ]
    },
    {
     "name": "stdout",
     "output_type": "stream",
     "text": [
      "Epoch 336 Mean Reward: 325.28082598114014\n"
     ]
    },
    {
     "name": "stderr",
     "output_type": "stream",
     "text": [
      "100%|██████████| 2000/2000 [04:58<00:00,  6.70it/s]\n"
     ]
    },
    {
     "name": "stdout",
     "output_type": "stream",
     "text": [
      "Epoch 337 Mean Reward: 309.41619437408445\n"
     ]
    },
    {
     "name": "stderr",
     "output_type": "stream",
     "text": [
      "100%|██████████| 2000/2000 [04:37<00:00,  7.21it/s]\n"
     ]
    },
    {
     "name": "stdout",
     "output_type": "stream",
     "text": [
      "Epoch 338 Mean Reward: 320.6342912445068\n"
     ]
    },
    {
     "name": "stderr",
     "output_type": "stream",
     "text": [
      "100%|██████████| 2000/2000 [04:39<00:00,  7.15it/s]\n"
     ]
    },
    {
     "name": "stdout",
     "output_type": "stream",
     "text": [
      "Epoch 339 Mean Reward: 337.1896271514893\n"
     ]
    },
    {
     "name": "stderr",
     "output_type": "stream",
     "text": [
      "100%|██████████| 2000/2000 [04:36<00:00,  7.24it/s]\n"
     ]
    },
    {
     "name": "stdout",
     "output_type": "stream",
     "text": [
      "Epoch 340 Mean Reward: 342.93823021698\n",
      "Epoch 340 Model saved to ./checkpoints/deadly_corridor.ckpt\n",
      "Epoch 340 test with depth buffer:\n",
      "Test Episode 1 Reward: -115.26446533203125\n",
      "Test Episode 2 Reward: -74.37162780761719\n",
      "Test Episode 3 Reward: 79.63093566894531\n",
      "Test Episode 4 Reward: -19.44482421875\n",
      "Test Episode 5 Reward: -115.26446533203125\n",
      "Test Episode 6 Reward: -115.26446533203125\n",
      "Test Episode 7 Reward: -91.74058532714844\n",
      "Test Episode 8 Reward: -115.26446533203125\n",
      "Test Episode 9 Reward: -66.50827026367188\n",
      "Test Episode 10 Reward: -115.26446533203125\n",
      "Average Test Reward (with depth buffer:) -74.87566986083985\n",
      "Epoch 340 test without depth buffer:\n",
      "Test Episode 1 Reward: -83.60694885253906\n",
      "Test Episode 2 Reward: -115.26446533203125\n",
      "Test Episode 3 Reward: -115.26446533203125\n",
      "Test Episode 4 Reward: -64.26301574707031\n",
      "Test Episode 5 Reward: -101.08415222167969\n",
      "Test Episode 6 Reward: -24.529052734375\n",
      "Test Episode 7 Reward: -43.21907043457031\n",
      "Test Episode 8 Reward: -115.26446533203125\n",
      "Test Episode 9 Reward: -41.571258544921875\n",
      "Test Episode 10 Reward: -115.26446533203125\n",
      "Average Test Reward (without depth buffer): -81.93313598632812\n"
     ]
    },
    {
     "name": "stderr",
     "output_type": "stream",
     "text": [
      "100%|██████████| 2000/2000 [05:22<00:00,  6.19it/s]\n"
     ]
    },
    {
     "name": "stdout",
     "output_type": "stream",
     "text": [
      "Epoch 341 Mean Reward: 329.04646672058107\n"
     ]
    },
    {
     "name": "stderr",
     "output_type": "stream",
     "text": [
      "100%|██████████| 2000/2000 [05:08<00:00,  6.48it/s]\n"
     ]
    },
    {
     "name": "stdout",
     "output_type": "stream",
     "text": [
      "Epoch 342 Mean Reward: 346.149676902771\n"
     ]
    },
    {
     "name": "stderr",
     "output_type": "stream",
     "text": [
      "100%|██████████| 2000/2000 [04:54<00:00,  6.80it/s]\n"
     ]
    },
    {
     "name": "stdout",
     "output_type": "stream",
     "text": [
      "Epoch 343 Mean Reward: 336.977972366333\n"
     ]
    },
    {
     "name": "stderr",
     "output_type": "stream",
     "text": [
      "100%|██████████| 2000/2000 [05:05<00:00,  6.55it/s]\n"
     ]
    },
    {
     "name": "stdout",
     "output_type": "stream",
     "text": [
      "Epoch 344 Mean Reward: 333.4018515625\n"
     ]
    },
    {
     "name": "stderr",
     "output_type": "stream",
     "text": [
      "100%|██████████| 2000/2000 [05:15<00:00,  6.33it/s]\n"
     ]
    },
    {
     "name": "stdout",
     "output_type": "stream",
     "text": [
      "Epoch 345 Mean Reward: 344.59877908325194\n"
     ]
    },
    {
     "name": "stderr",
     "output_type": "stream",
     "text": [
      "100%|██████████| 2000/2000 [05:12<00:00,  6.39it/s]\n"
     ]
    },
    {
     "name": "stdout",
     "output_type": "stream",
     "text": [
      "Epoch 346 Mean Reward: 352.7318739013672\n"
     ]
    },
    {
     "name": "stderr",
     "output_type": "stream",
     "text": [
      "100%|██████████| 2000/2000 [05:02<00:00,  6.60it/s]\n"
     ]
    },
    {
     "name": "stdout",
     "output_type": "stream",
     "text": [
      "Epoch 347 Mean Reward: 349.63240772247315\n"
     ]
    },
    {
     "name": "stderr",
     "output_type": "stream",
     "text": [
      "100%|██████████| 2000/2000 [05:20<00:00,  6.25it/s]\n"
     ]
    },
    {
     "name": "stdout",
     "output_type": "stream",
     "text": [
      "Epoch 348 Mean Reward: 364.73531233215334\n"
     ]
    },
    {
     "name": "stderr",
     "output_type": "stream",
     "text": [
      "100%|██████████| 2000/2000 [05:19<00:00,  6.27it/s]\n"
     ]
    },
    {
     "name": "stdout",
     "output_type": "stream",
     "text": [
      "Epoch 349 Mean Reward: 367.68285874938965\n"
     ]
    },
    {
     "name": "stderr",
     "output_type": "stream",
     "text": [
      "100%|██████████| 2000/2000 [05:24<00:00,  6.17it/s]\n"
     ]
    },
    {
     "name": "stdout",
     "output_type": "stream",
     "text": [
      "Epoch 350 Mean Reward: 360.2324045715332\n"
     ]
    },
    {
     "name": "stderr",
     "output_type": "stream",
     "text": [
      "100%|██████████| 2000/2000 [05:55<00:00,  5.63it/s]\n"
     ]
    },
    {
     "name": "stdout",
     "output_type": "stream",
     "text": [
      "Epoch 351 Mean Reward: 343.52030402374265\n"
     ]
    },
    {
     "name": "stderr",
     "output_type": "stream",
     "text": [
      "100%|██████████| 2000/2000 [05:53<00:00,  5.65it/s]\n"
     ]
    },
    {
     "name": "stdout",
     "output_type": "stream",
     "text": [
      "Epoch 352 Mean Reward: 319.2782982940674\n"
     ]
    },
    {
     "name": "stderr",
     "output_type": "stream",
     "text": [
      "100%|██████████| 2000/2000 [05:39<00:00,  5.89it/s]\n"
     ]
    },
    {
     "name": "stdout",
     "output_type": "stream",
     "text": [
      "Epoch 353 Mean Reward: 335.4130317687988\n"
     ]
    },
    {
     "name": "stderr",
     "output_type": "stream",
     "text": [
      "100%|██████████| 2000/2000 [05:40<00:00,  5.87it/s]\n"
     ]
    },
    {
     "name": "stdout",
     "output_type": "stream",
     "text": [
      "Epoch 354 Mean Reward: 349.012688369751\n"
     ]
    },
    {
     "name": "stderr",
     "output_type": "stream",
     "text": [
      "100%|██████████| 2000/2000 [06:05<00:00,  5.48it/s]\n"
     ]
    },
    {
     "name": "stdout",
     "output_type": "stream",
     "text": [
      "Epoch 355 Mean Reward: 333.0995009994507\n"
     ]
    },
    {
     "name": "stderr",
     "output_type": "stream",
     "text": [
      "100%|██████████| 2000/2000 [06:13<00:00,  5.36it/s]\n"
     ]
    },
    {
     "name": "stdout",
     "output_type": "stream",
     "text": [
      "Epoch 356 Mean Reward: 340.10396362304687\n"
     ]
    },
    {
     "name": "stderr",
     "output_type": "stream",
     "text": [
      "100%|██████████| 2000/2000 [05:40<00:00,  5.88it/s]\n"
     ]
    },
    {
     "name": "stdout",
     "output_type": "stream",
     "text": [
      "Epoch 357 Mean Reward: 350.64435329437254\n"
     ]
    },
    {
     "name": "stderr",
     "output_type": "stream",
     "text": [
      "100%|██████████| 2000/2000 [05:46<00:00,  5.78it/s]\n"
     ]
    },
    {
     "name": "stdout",
     "output_type": "stream",
     "text": [
      "Epoch 358 Mean Reward: 351.2923265533447\n"
     ]
    },
    {
     "name": "stderr",
     "output_type": "stream",
     "text": [
      "100%|██████████| 2000/2000 [05:36<00:00,  5.94it/s]\n"
     ]
    },
    {
     "name": "stdout",
     "output_type": "stream",
     "text": [
      "Epoch 359 Mean Reward: 360.04456399536133\n"
     ]
    },
    {
     "name": "stderr",
     "output_type": "stream",
     "text": [
      "100%|██████████| 2000/2000 [06:12<00:00,  5.37it/s]\n"
     ]
    },
    {
     "name": "stdout",
     "output_type": "stream",
     "text": [
      "Epoch 360 Mean Reward: 352.63786170196533\n",
      "Epoch 360 Model saved to ./checkpoints/deadly_corridor.ckpt\n",
      "Epoch 360 test with depth buffer:\n",
      "Test Episode 1 Reward: -27.394241333007812\n",
      "Test Episode 2 Reward: -2.69854736328125\n",
      "Test Episode 3 Reward: 25.057830810546875\n",
      "Test Episode 4 Reward: 25.057830810546875\n",
      "Test Episode 5 Reward: 25.057830810546875\n",
      "Test Episode 6 Reward: 25.057830810546875\n",
      "Test Episode 7 Reward: 25.057830810546875\n",
      "Test Episode 8 Reward: -97.31742858886719\n",
      "Test Episode 9 Reward: -75.00848388671875\n",
      "Test Episode 10 Reward: 25.057830810546875\n",
      "Average Test Reward (with depth buffer:) -5.207171630859375\n",
      "Epoch 360 test without depth buffer:\n",
      "Test Episode 1 Reward: 210.15692138671875\n",
      "Test Episode 2 Reward: -85.92189025878906\n",
      "Test Episode 3 Reward: 25.057830810546875\n",
      "Test Episode 4 Reward: 25.057830810546875\n",
      "Test Episode 5 Reward: 79.10647583007812\n",
      "Test Episode 6 Reward: 25.057830810546875\n",
      "Test Episode 7 Reward: -115.20893859863281\n",
      "Test Episode 8 Reward: 25.057830810546875\n",
      "Test Episode 9 Reward: 4.3343505859375\n",
      "Test Episode 10 Reward: 9.723983764648438\n",
      "Average Test Reward (without depth buffer): 20.242222595214844\n"
     ]
    },
    {
     "name": "stderr",
     "output_type": "stream",
     "text": [
      "100%|██████████| 2000/2000 [06:08<00:00,  5.43it/s]\n"
     ]
    },
    {
     "name": "stdout",
     "output_type": "stream",
     "text": [
      "Epoch 361 Mean Reward: 383.7752922592163\n"
     ]
    },
    {
     "name": "stderr",
     "output_type": "stream",
     "text": [
      "100%|██████████| 2000/2000 [05:36<00:00,  5.94it/s]\n"
     ]
    },
    {
     "name": "stdout",
     "output_type": "stream",
     "text": [
      "Epoch 362 Mean Reward: 394.6653423309326\n"
     ]
    },
    {
     "name": "stderr",
     "output_type": "stream",
     "text": [
      "100%|██████████| 2000/2000 [05:50<00:00,  5.71it/s]\n"
     ]
    },
    {
     "name": "stdout",
     "output_type": "stream",
     "text": [
      "Epoch 363 Mean Reward: 384.7087325592041\n"
     ]
    },
    {
     "name": "stderr",
     "output_type": "stream",
     "text": [
      "100%|██████████| 2000/2000 [05:27<00:00,  6.11it/s]\n"
     ]
    },
    {
     "name": "stdout",
     "output_type": "stream",
     "text": [
      "Epoch 364 Mean Reward: 394.56705102539064\n"
     ]
    },
    {
     "name": "stderr",
     "output_type": "stream",
     "text": [
      "100%|██████████| 2000/2000 [05:26<00:00,  6.12it/s]\n"
     ]
    },
    {
     "name": "stdout",
     "output_type": "stream",
     "text": [
      "Epoch 365 Mean Reward: 397.77999002075194\n"
     ]
    },
    {
     "name": "stderr",
     "output_type": "stream",
     "text": [
      "100%|██████████| 2000/2000 [05:30<00:00,  6.05it/s]\n"
     ]
    },
    {
     "name": "stdout",
     "output_type": "stream",
     "text": [
      "Epoch 366 Mean Reward: 402.6998564147949\n"
     ]
    },
    {
     "name": "stderr",
     "output_type": "stream",
     "text": [
      "100%|██████████| 2000/2000 [05:25<00:00,  6.14it/s]\n"
     ]
    },
    {
     "name": "stdout",
     "output_type": "stream",
     "text": [
      "Epoch 367 Mean Reward: 376.96733481597903\n"
     ]
    },
    {
     "name": "stderr",
     "output_type": "stream",
     "text": [
      "100%|██████████| 2000/2000 [05:09<00:00,  6.47it/s]\n"
     ]
    },
    {
     "name": "stdout",
     "output_type": "stream",
     "text": [
      "Epoch 368 Mean Reward: 398.87308407592775\n"
     ]
    },
    {
     "name": "stderr",
     "output_type": "stream",
     "text": [
      "100%|██████████| 2000/2000 [05:07<00:00,  6.50it/s]\n"
     ]
    },
    {
     "name": "stdout",
     "output_type": "stream",
     "text": [
      "Epoch 369 Mean Reward: 394.099279296875\n"
     ]
    },
    {
     "name": "stderr",
     "output_type": "stream",
     "text": [
      "100%|██████████| 2000/2000 [04:56<00:00,  6.75it/s]\n"
     ]
    },
    {
     "name": "stdout",
     "output_type": "stream",
     "text": [
      "Epoch 370 Mean Reward: 408.5110432281494\n"
     ]
    },
    {
     "name": "stderr",
     "output_type": "stream",
     "text": [
      "100%|██████████| 2000/2000 [04:58<00:00,  6.69it/s]\n"
     ]
    },
    {
     "name": "stdout",
     "output_type": "stream",
     "text": [
      "Epoch 371 Mean Reward: 428.97869525146484\n"
     ]
    },
    {
     "name": "stderr",
     "output_type": "stream",
     "text": [
      "100%|██████████| 2000/2000 [05:11<00:00,  6.42it/s]\n"
     ]
    },
    {
     "name": "stdout",
     "output_type": "stream",
     "text": [
      "Epoch 372 Mean Reward: 450.5892828063965\n"
     ]
    },
    {
     "name": "stderr",
     "output_type": "stream",
     "text": [
      "100%|██████████| 2000/2000 [05:20<00:00,  6.25it/s]\n"
     ]
    },
    {
     "name": "stdout",
     "output_type": "stream",
     "text": [
      "Epoch 373 Mean Reward: 434.0620110244751\n"
     ]
    },
    {
     "name": "stderr",
     "output_type": "stream",
     "text": [
      "100%|██████████| 2000/2000 [05:17<00:00,  6.31it/s]\n"
     ]
    },
    {
     "name": "stdout",
     "output_type": "stream",
     "text": [
      "Epoch 374 Mean Reward: 400.9292630081177\n"
     ]
    },
    {
     "name": "stderr",
     "output_type": "stream",
     "text": [
      "100%|██████████| 2000/2000 [05:35<00:00,  5.96it/s]\n"
     ]
    },
    {
     "name": "stdout",
     "output_type": "stream",
     "text": [
      "Epoch 375 Mean Reward: 412.02961184692384\n"
     ]
    },
    {
     "name": "stderr",
     "output_type": "stream",
     "text": [
      "100%|██████████| 2000/2000 [05:35<00:00,  5.95it/s]\n"
     ]
    },
    {
     "name": "stdout",
     "output_type": "stream",
     "text": [
      "Epoch 376 Mean Reward: 421.495641708374\n"
     ]
    },
    {
     "name": "stderr",
     "output_type": "stream",
     "text": [
      "100%|██████████| 2000/2000 [05:37<00:00,  5.93it/s]\n"
     ]
    },
    {
     "name": "stdout",
     "output_type": "stream",
     "text": [
      "Epoch 377 Mean Reward: 415.56701176452634\n"
     ]
    },
    {
     "name": "stderr",
     "output_type": "stream",
     "text": [
      "100%|██████████| 2000/2000 [05:49<00:00,  5.73it/s]\n"
     ]
    },
    {
     "name": "stdout",
     "output_type": "stream",
     "text": [
      "Epoch 378 Mean Reward: 410.7796134719849\n"
     ]
    },
    {
     "name": "stderr",
     "output_type": "stream",
     "text": [
      "100%|██████████| 2000/2000 [05:23<00:00,  6.19it/s]\n"
     ]
    },
    {
     "name": "stdout",
     "output_type": "stream",
     "text": [
      "Epoch 379 Mean Reward: 412.6111278305054\n"
     ]
    },
    {
     "name": "stderr",
     "output_type": "stream",
     "text": [
      "100%|██████████| 2000/2000 [05:33<00:00,  6.00it/s]\n"
     ]
    },
    {
     "name": "stdout",
     "output_type": "stream",
     "text": [
      "Epoch 380 Mean Reward: 407.1249964828491\n",
      "Epoch 380 Model saved to ./checkpoints/deadly_corridor.ckpt\n",
      "Epoch 380 test with depth buffer:\n",
      "Test Episode 1 Reward: -115.99932861328125\n",
      "Test Episode 2 Reward: -96.61578369140625\n",
      "Test Episode 3 Reward: -96.61578369140625\n",
      "Test Episode 4 Reward: 23.865310668945312\n",
      "Test Episode 5 Reward: -96.61578369140625\n",
      "Test Episode 6 Reward: 27.077377319335938\n",
      "Test Episode 7 Reward: 40.39909362792969\n",
      "Test Episode 8 Reward: -96.61578369140625\n",
      "Test Episode 9 Reward: -94.20524597167969\n",
      "Test Episode 10 Reward: -96.61578369140625\n",
      "Average Test Reward (with depth buffer:) -60.19417114257813\n",
      "Epoch 380 test without depth buffer:\n",
      "Test Episode 1 Reward: -96.61578369140625\n",
      "Test Episode 2 Reward: -96.61578369140625\n",
      "Test Episode 3 Reward: -78.73976135253906\n",
      "Test Episode 4 Reward: -96.61578369140625\n",
      "Test Episode 5 Reward: -96.61578369140625\n",
      "Test Episode 6 Reward: 81.71662902832031\n",
      "Test Episode 7 Reward: -71.70115661621094\n",
      "Test Episode 8 Reward: -96.61578369140625\n",
      "Test Episode 9 Reward: -96.61578369140625\n",
      "Test Episode 10 Reward: -96.61578369140625\n",
      "Average Test Reward (without depth buffer): -74.50347747802735\n"
     ]
    },
    {
     "name": "stderr",
     "output_type": "stream",
     "text": [
      "100%|██████████| 2000/2000 [06:04<00:00,  5.49it/s]\n"
     ]
    },
    {
     "name": "stdout",
     "output_type": "stream",
     "text": [
      "Epoch 381 Mean Reward: 404.5763961715698\n"
     ]
    },
    {
     "name": "stderr",
     "output_type": "stream",
     "text": [
      "100%|██████████| 2000/2000 [05:48<00:00,  5.74it/s]\n"
     ]
    },
    {
     "name": "stdout",
     "output_type": "stream",
     "text": [
      "Epoch 382 Mean Reward: 411.5529667510986\n"
     ]
    },
    {
     "name": "stderr",
     "output_type": "stream",
     "text": [
      "100%|██████████| 2000/2000 [06:11<00:00,  5.39it/s]\n"
     ]
    },
    {
     "name": "stdout",
     "output_type": "stream",
     "text": [
      "Epoch 383 Mean Reward: 398.99005250549317\n"
     ]
    },
    {
     "name": "stderr",
     "output_type": "stream",
     "text": [
      "100%|██████████| 2000/2000 [05:27<00:00,  6.11it/s]\n"
     ]
    },
    {
     "name": "stdout",
     "output_type": "stream",
     "text": [
      "Epoch 384 Mean Reward: 400.8290301818848\n"
     ]
    },
    {
     "name": "stderr",
     "output_type": "stream",
     "text": [
      "100%|██████████| 2000/2000 [06:12<00:00,  5.37it/s]\n"
     ]
    },
    {
     "name": "stdout",
     "output_type": "stream",
     "text": [
      "Epoch 385 Mean Reward: 410.3765215377808\n"
     ]
    },
    {
     "name": "stderr",
     "output_type": "stream",
     "text": [
      "100%|██████████| 2000/2000 [06:25<00:00,  5.18it/s]\n"
     ]
    },
    {
     "name": "stdout",
     "output_type": "stream",
     "text": [
      "Epoch 386 Mean Reward: 396.36954135131833\n"
     ]
    },
    {
     "name": "stderr",
     "output_type": "stream",
     "text": [
      "100%|██████████| 2000/2000 [06:12<00:00,  5.37it/s]\n"
     ]
    },
    {
     "name": "stdout",
     "output_type": "stream",
     "text": [
      "Epoch 387 Mean Reward: 405.5828838195801\n"
     ]
    },
    {
     "name": "stderr",
     "output_type": "stream",
     "text": [
      "100%|██████████| 2000/2000 [05:40<00:00,  5.87it/s]\n"
     ]
    },
    {
     "name": "stdout",
     "output_type": "stream",
     "text": [
      "Epoch 388 Mean Reward: 409.5725094146729\n"
     ]
    },
    {
     "name": "stderr",
     "output_type": "stream",
     "text": [
      "100%|██████████| 2000/2000 [05:59<00:00,  5.56it/s]\n"
     ]
    },
    {
     "name": "stdout",
     "output_type": "stream",
     "text": [
      "Epoch 389 Mean Reward: 408.16689453125\n"
     ]
    },
    {
     "name": "stderr",
     "output_type": "stream",
     "text": [
      "100%|██████████| 2000/2000 [06:31<00:00,  5.11it/s]\n"
     ]
    },
    {
     "name": "stdout",
     "output_type": "stream",
     "text": [
      "Epoch 390 Mean Reward: 377.88397077178956\n"
     ]
    },
    {
     "name": "stderr",
     "output_type": "stream",
     "text": [
      "100%|██████████| 2000/2000 [06:25<00:00,  5.19it/s]\n"
     ]
    },
    {
     "name": "stdout",
     "output_type": "stream",
     "text": [
      "Epoch 391 Mean Reward: 348.5024795379639\n"
     ]
    },
    {
     "name": "stderr",
     "output_type": "stream",
     "text": [
      "100%|██████████| 2000/2000 [06:22<00:00,  5.23it/s]\n"
     ]
    },
    {
     "name": "stdout",
     "output_type": "stream",
     "text": [
      "Epoch 392 Mean Reward: 369.17087092590333\n"
     ]
    },
    {
     "name": "stderr",
     "output_type": "stream",
     "text": [
      "100%|██████████| 2000/2000 [06:32<00:00,  5.09it/s]\n"
     ]
    },
    {
     "name": "stdout",
     "output_type": "stream",
     "text": [
      "Epoch 393 Mean Reward: 367.70892375946045\n"
     ]
    },
    {
     "name": "stderr",
     "output_type": "stream",
     "text": [
      "100%|██████████| 2000/2000 [06:19<00:00,  5.27it/s]\n"
     ]
    },
    {
     "name": "stdout",
     "output_type": "stream",
     "text": [
      "Epoch 394 Mean Reward: 372.2078285446167\n"
     ]
    },
    {
     "name": "stderr",
     "output_type": "stream",
     "text": [
      "100%|██████████| 2000/2000 [06:21<00:00,  5.25it/s]\n"
     ]
    },
    {
     "name": "stdout",
     "output_type": "stream",
     "text": [
      "Epoch 395 Mean Reward: 365.18879167938235\n"
     ]
    },
    {
     "name": "stderr",
     "output_type": "stream",
     "text": [
      "100%|██████████| 2000/2000 [06:17<00:00,  5.30it/s]\n"
     ]
    },
    {
     "name": "stdout",
     "output_type": "stream",
     "text": [
      "Epoch 396 Mean Reward: 362.34161380004883\n"
     ]
    },
    {
     "name": "stderr",
     "output_type": "stream",
     "text": [
      "100%|██████████| 2000/2000 [06:28<00:00,  5.15it/s]\n"
     ]
    },
    {
     "name": "stdout",
     "output_type": "stream",
     "text": [
      "Epoch 397 Mean Reward: 369.3445495376587\n"
     ]
    },
    {
     "name": "stderr",
     "output_type": "stream",
     "text": [
      "100%|██████████| 2000/2000 [07:12<00:00,  4.62it/s]\n"
     ]
    },
    {
     "name": "stdout",
     "output_type": "stream",
     "text": [
      "Epoch 398 Mean Reward: 380.8345314254761\n"
     ]
    },
    {
     "name": "stderr",
     "output_type": "stream",
     "text": [
      "100%|██████████| 2000/2000 [07:43<00:00,  4.31it/s]\n"
     ]
    },
    {
     "name": "stdout",
     "output_type": "stream",
     "text": [
      "Epoch 399 Mean Reward: 372.17416942596435\n"
     ]
    },
    {
     "name": "stderr",
     "output_type": "stream",
     "text": [
      "100%|██████████| 2000/2000 [07:50<00:00,  4.25it/s]\n"
     ]
    },
    {
     "name": "stdout",
     "output_type": "stream",
     "text": [
      "Epoch 400 Mean Reward: 363.19639587402344\n",
      "Epoch 400 Model saved to ./checkpoints/deadly_corridor.ckpt\n",
      "Epoch 400 test with depth buffer:\n",
      "Test Episode 1 Reward: -98.86990356445312\n",
      "Test Episode 2 Reward: -115.99299621582031\n",
      "Test Episode 3 Reward: -115.99299621582031\n",
      "Test Episode 4 Reward: -115.99299621582031\n",
      "Test Episode 5 Reward: -115.99299621582031\n",
      "Test Episode 6 Reward: -115.99299621582031\n",
      "Test Episode 7 Reward: -54.17417907714844\n",
      "Test Episode 8 Reward: -32.19956970214844\n",
      "Test Episode 9 Reward: -64.91552734375\n",
      "Test Episode 10 Reward: -90.23526000976562\n",
      "Average Test Reward (with depth buffer:) -92.03594207763672\n",
      "Epoch 400 test without depth buffer:\n",
      "Test Episode 1 Reward: -60.7001953125\n",
      "Test Episode 2 Reward: -115.99299621582031\n",
      "Test Episode 3 Reward: -115.99299621582031\n",
      "Test Episode 4 Reward: -115.99771118164062\n",
      "Test Episode 5 Reward: -70.07719421386719\n",
      "Test Episode 6 Reward: -115.99299621582031\n",
      "Test Episode 7 Reward: -63.11714172363281\n",
      "Test Episode 8 Reward: -115.99299621582031\n",
      "Test Episode 9 Reward: -43.33489990234375\n",
      "Test Episode 10 Reward: -13.274337768554688\n",
      "Average Test Reward (without depth buffer): -83.04734649658204\n",
      "[(300.5470886230469, 140), (262.4848114013672, 160), (180.48631591796874, 180), (166.5685287475586, 120), (162.15485229492188, 80), (157.5863494873047, 240), (150.77947998046875, 200), (124.91435241699219, 100), (118.29212799072266, 20), (87.72865600585938, 60), (67.77039031982422, 40), (55.919482421875, 260), (48.44308624267578, 300), (43.02831115722656, 220), (20.242222595214844, 360), (-5.340548706054688, 280), (-40.63022308349609, 320), (-74.50347747802735, 380), (-81.93313598632812, 340), (-83.04734649658204, 400)]\n",
      "11719606 time steps experienced during training\n"
     ]
    }
   ],
   "source": [
    "#For each time step, collect the following data:\n",
    "#The current game state\n",
    "#The action that was taken taken\n",
    "#The reward obtained from the chosen action\n",
    "#The next game state (store the first game state if the previous action ends the episode)\n",
    "#A variable indicating whether the episode is over yet\n",
    "\n",
    "\n",
    "tf.reset_default_graph()\n",
    "\n",
    "#Instantiate the target network before the online network so that it's updated correctly\n",
    "\n",
    "target_net = Q_network(network_name='target',\n",
    "                       learning_rate=learning_rate,\n",
    "                       height=height,\n",
    "                       width=width,\n",
    "                       channels=channels)\n",
    "DQN = Q_network(network_name='online',\n",
    "                learning_rate=learning_rate,\n",
    "                height=height,\n",
    "                width=width,\n",
    "                channels=channels)\n",
    "\n",
    "exp_buffer = Buffer(size=buffer_size)\n",
    "session = tf.Session()\n",
    "saver = tf.train.Saver(max_to_keep=10, reshape=True)\n",
    "weights = tf.trainable_variables()\n",
    "\n",
    "update_ops = update_graph(weights)\n",
    "\n",
    "if load_model == True:\n",
    "    print('Loading model from', model_dir)\n",
    "    tf.train.Saver().restore(session, model_dir)\n",
    "    \n",
    "elif load_model == False:\n",
    "    session.run(tf.global_variables_initializer())\n",
    "\n",
    "game.set_sound_enabled(False)\n",
    "game.init()\n",
    "\n",
    "t = 0\n",
    "epoch_rank = list()\n",
    "\n",
    "#Accumulate experiences in the buffer using an epsilon-greedy strategy with three training phases\n",
    "\n",
    "for epoch in range(epochs):\n",
    "    epoch_rewards = list()\n",
    "    \n",
    "    for step in trange(steps_per_epoch, leave=True):\n",
    "        experience = list()\n",
    "        game.new_episode()\n",
    "        \n",
    "        while not game.is_episode_finished():\n",
    "            state = game.get_state()\n",
    "            \n",
    "#Substitute an array of zeros for the depth buffer if that setting is disabled\n",
    "\n",
    "            if game.is_depth_buffer_enabled() == False:\n",
    "                depth_buffer = np.zeros(state.screen_buffer.shape)\n",
    "            else:\n",
    "                depth_buffer = state.depth_buffer\n",
    "            \n",
    "            state1_buffer = np.stack((state.screen_buffer, depth_buffer), axis=-1)\n",
    "            state1 = preprocess(state1_buffer, down_sample_ratio)\n",
    "            \n",
    "#Explore the environment by choosing random actions with 100% probability for the first phase of training\n",
    "\n",
    "            if epoch < 0.3*epochs:\n",
    "                action = np.random.randint(num_actions)\n",
    "            \n",
    "#Increase the probability of greedily choosing an action by a constant amount at each epoch in the second phase\n",
    "            \n",
    "            elif epoch < 0.9*epochs:\n",
    "                epsilon = start_epsilon - (epoch + 1 - 0.2*epochs)*(start_epsilon-end_epsilon)/(0.7*epochs)\n",
    "            \n",
    "                if np.random.uniform(0, 1) <= epsilon:\n",
    "                    action = np.random.randint(num_actions)\n",
    "                else:\n",
    "                    action = DQN.choose_action(session, state1)[0]\n",
    "\n",
    "#Select a random action with 10% probability in the final phase of training\n",
    "                \n",
    "            else:\n",
    "                if np.random.uniform(0, 1) <= end_epsilon:\n",
    "                    action = np.random.randint(num_actions)\n",
    "                else:\n",
    "                    action = DQN.choose_action(session, state1)[0]\n",
    "\n",
    "            reward = game.make_action(actions[action], frame_delay)\n",
    "            done = game.is_episode_finished()\n",
    "            \n",
    "            if done == False:\n",
    "                state = game.get_state()\n",
    "                state2_buffer = np.stack((state.screen_buffer, state.depth_buffer), axis=-1)\n",
    "                state2 = preprocess(state2_buffer, down_sample_ratio)\n",
    "                \n",
    "            elif done == True:\n",
    "                state2 = state1\n",
    "        \n",
    "#Add the experience obtained from each time step to the buffer\n",
    "\n",
    "            t += 1\n",
    "            exp_buffer.add_experience((state1, action, reward, state2, done))\n",
    "        \n",
    "#Sample a minibatch from the buffer if there are enough experiences in the buffer\n",
    "\n",
    "        if exp_buffer.length > batch_size:\n",
    "            s1, a, r, s2, terminal = exp_buffer.sample_buffer(batch_size)\n",
    "            \n",
    "#Get the target values from the target Q-network\n",
    "            \n",
    "            target_Q = np.max(target_net.get_Q_values(session, s2), axis=1)\n",
    "            \n",
    "#Train the online Q-network by using a minibatch to update the action-value function\n",
    "            \n",
    "            Q2 = DQN.get_Q_values(session, s1)\n",
    "            Q2[np.arange(batch_size), a] = r + gamma*(1 - terminal)*target_Q\n",
    "            DQN.calculate_loss(session, s1, Q2)\n",
    "            \n",
    "        epoch_rewards.append(game.get_total_reward())\n",
    "        \n",
    "#Increase the discount factor at each epoch until it reaches 0.99\n",
    "    \n",
    "    if gamma < 0.99:\n",
    "        gamma = 1-.98*(1-gamma)\n",
    "    elif gamma >= 0.99:\n",
    "        gamma = 0.99\n",
    "        \n",
    "#Decrease the learning rate at each epoch\n",
    "\n",
    "    DQN.update_lr()\n",
    "    target_net.update_lr()\n",
    "    \n",
    "    print('Epoch {} Mean Reward: {}'.format(epoch + 1, np.mean(epoch_rewards)))\n",
    "    \n",
    "#Update the target network every 10 epochs\n",
    "    \n",
    "    if (epoch + 1) % 10 == 0 and epoch > 0:\n",
    "        update_target(update_ops, session)\n",
    "        \n",
    "#Save the model and test the agent for 10 episodes every 20 epochs\n",
    "    \n",
    "    if (epoch + 1) % 20 == 0 and epoch > 0:\n",
    "        if save_model == True:\n",
    "            checkpoint = model_dir + '-' + str(epoch + 1)\n",
    "            print('Epoch {} Model saved to {}'.format(epoch + 1, model_dir))\n",
    "            saver.save(session, model_dir, global_step=epoch + 1)\n",
    "            \n",
    "        update_target(update_ops, session)\n",
    "\n",
    "#Test the agent both with and without the depth buffer given\n",
    "        \n",
    "        print('Epoch {} test with depth buffer:'.format(epoch + 1))\n",
    "        test_reward_depth = test_agent(DQN, num_episodes=10,\n",
    "                                       training=True,\n",
    "                                       load_model=False,\n",
    "                                       depth=True,\n",
    "                                       session=session,\n",
    "                                       model_dir=model_dir)\n",
    "        print('Average Test Reward (with depth buffer:)', test_reward_depth)\n",
    "        \n",
    "        print('Epoch {} test without depth buffer:'.format(epoch + 1))\n",
    "        test_reward = test_agent(DQN, num_episodes=10,\n",
    "                                 training=True,\n",
    "                                 load_model=False,\n",
    "                                 depth=False,\n",
    "                                 session=session,\n",
    "                                 model_dir=model_dir)\n",
    "        print('Average Test Reward (without depth buffer):', test_reward)\n",
    "        \n",
    "        epoch_rank.append((test_reward, epoch + 1))\n",
    "        \n",
    "#Return a sorted list of epoch checkpoints based on average test episode reward\n",
    "        \n",
    "print(sorted(epoch_rank, reverse=True))\n",
    "print('{} time steps experienced during training'.format(t))\n",
    "game.close()\n",
    "    "
   ]
  },
  {
   "cell_type": "code",
   "execution_count": 9,
   "metadata": {
    "ExecuteTime": {
     "end_time": "2018-01-31T04:24:07.083562Z",
     "start_time": "2018-01-31T04:08:34.231089Z"
    },
    "run_control": {
     "frozen": false,
     "read_only": false
    },
    "scrolled": true
   },
   "outputs": [
    {
     "name": "stdout",
     "output_type": "stream",
     "text": [
      "Loading model from checkpoints\\deadly_corridor.ckpt-280\n",
      "INFO:tensorflow:Restoring parameters from checkpoints\\deadly_corridor.ckpt-280\n",
      "Test Episode 1 Reward: 86.26907348632812\n",
      "Test Episode 2 Reward: 86.26907348632812\n",
      "Test Episode 3 Reward: -18.653610229492188\n",
      "Test Episode 4 Reward: 86.26907348632812\n",
      "Test Episode 5 Reward: 86.26907348632812\n",
      "Test Episode 6 Reward: 86.26907348632812\n",
      "Test Episode 7 Reward: -7.503387451171875\n",
      "Test Episode 8 Reward: 17.1351318359375\n",
      "Test Episode 9 Reward: -34.23899841308594\n",
      "Test Episode 10 Reward: 40.25080871582031\n",
      "Test Episode 11 Reward: 86.26907348632812\n",
      "Test Episode 12 Reward: 86.26907348632812\n",
      "Test Episode 13 Reward: 3.072601318359375\n",
      "Test Episode 14 Reward: 86.26907348632812\n",
      "Test Episode 15 Reward: -70.02059936523438\n",
      "Test Episode 16 Reward: -16.3201904296875\n",
      "Test Episode 17 Reward: 86.26907348632812\n",
      "Test Episode 18 Reward: 86.26907348632812\n",
      "Test Episode 19 Reward: 86.26907348632812\n",
      "Test Episode 20 Reward: -3.498138427734375\n",
      "Average Test Reward (with depth buffer): 42.959171295166016\n",
      "Loading model from checkpoints\\deadly_corridor.ckpt-280\n",
      "INFO:tensorflow:Restoring parameters from checkpoints\\deadly_corridor.ckpt-280\n",
      "Test Episode 1 Reward: 9.363677978515625\n",
      "Test Episode 2 Reward: 54.832427978515625\n",
      "Test Episode 3 Reward: 2.3820953369140625\n",
      "Test Episode 4 Reward: -6.8011474609375\n",
      "Test Episode 5 Reward: 86.26907348632812\n",
      "Test Episode 6 Reward: 58.342193603515625\n",
      "Test Episode 7 Reward: 86.26907348632812\n",
      "Test Episode 8 Reward: 86.26907348632812\n",
      "Test Episode 9 Reward: 94.45274353027344\n",
      "Test Episode 10 Reward: 86.26907348632812\n",
      "Test Episode 11 Reward: -46.020263671875\n",
      "Test Episode 12 Reward: 19.78564453125\n",
      "Test Episode 13 Reward: -66.04574584960938\n",
      "Test Episode 14 Reward: 86.26907348632812\n",
      "Test Episode 15 Reward: -21.076690673828125\n",
      "Test Episode 16 Reward: 86.26907348632812\n",
      "Test Episode 17 Reward: 86.26907348632812\n",
      "Test Episode 18 Reward: 86.26907348632812\n",
      "Test Episode 19 Reward: 86.26907348632812\n",
      "Test Episode 20 Reward: 86.26907348632812\n",
      "Average Test Reward (without depth buffer): 48.09528350830078\n",
      "Loading model from checkpoints\\deadly_corridor.ckpt-300\n",
      "INFO:tensorflow:Restoring parameters from checkpoints\\deadly_corridor.ckpt-300\n",
      "Test Episode 1 Reward: 78.53567504882812\n",
      "Test Episode 2 Reward: -42.020843505859375\n",
      "Test Episode 3 Reward: -52.028961181640625\n",
      "Test Episode 4 Reward: 138.15570068359375\n",
      "Test Episode 5 Reward: 30.5875244140625\n",
      "Test Episode 6 Reward: 78.53567504882812\n",
      "Test Episode 7 Reward: 56.163116455078125\n",
      "Test Episode 8 Reward: -3.7301483154296875\n",
      "Test Episode 9 Reward: 78.53567504882812\n",
      "Test Episode 10 Reward: 111.80183410644531\n",
      "Test Episode 11 Reward: 30.5875244140625\n",
      "Test Episode 12 Reward: 78.53567504882812\n",
      "Test Episode 13 Reward: 101.68992614746094\n",
      "Test Episode 14 Reward: 30.5875244140625\n",
      "Test Episode 15 Reward: 67.91325378417969\n",
      "Test Episode 16 Reward: 45.77592468261719\n",
      "Test Episode 17 Reward: 78.53567504882812\n",
      "Test Episode 18 Reward: 78.53567504882812\n",
      "Test Episode 19 Reward: 78.53567504882812\n",
      "Test Episode 20 Reward: 78.53567504882812\n",
      "Average Test Reward (with depth buffer): 57.18838882446289\n",
      "Loading model from checkpoints\\deadly_corridor.ckpt-300\n",
      "INFO:tensorflow:Restoring parameters from checkpoints\\deadly_corridor.ckpt-300\n",
      "Test Episode 1 Reward: 78.53567504882812\n",
      "Test Episode 2 Reward: 78.53567504882812\n",
      "Test Episode 3 Reward: -14.110824584960938\n",
      "Test Episode 4 Reward: 78.53567504882812\n",
      "Test Episode 5 Reward: 30.112075805664062\n",
      "Test Episode 6 Reward: -30.166168212890625\n",
      "Test Episode 7 Reward: -91.26715087890625\n",
      "Test Episode 8 Reward: 78.53567504882812\n",
      "Test Episode 9 Reward: -35.43341064453125\n",
      "Test Episode 10 Reward: 78.53567504882812\n",
      "Test Episode 11 Reward: 78.53567504882812\n",
      "Test Episode 12 Reward: 78.53567504882812\n",
      "Test Episode 13 Reward: 78.53567504882812\n",
      "Test Episode 14 Reward: -12.54742431640625\n",
      "Test Episode 15 Reward: 15.96453857421875\n",
      "Test Episode 16 Reward: 78.53567504882812\n",
      "Test Episode 17 Reward: 331.1241912841797\n",
      "Test Episode 18 Reward: 30.5875244140625\n",
      "Test Episode 19 Reward: 78.53567504882812\n",
      "Test Episode 20 Reward: 46.404876708984375\n",
      "Average Test Reward (without depth buffer): 52.801248931884764\n",
      "Loading model from checkpoints\\deadly_corridor.ckpt-320\n",
      "INFO:tensorflow:Restoring parameters from checkpoints\\deadly_corridor.ckpt-320\n",
      "Test Episode 1 Reward: -63.612579345703125\n",
      "Test Episode 2 Reward: -79.70291137695312\n",
      "Test Episode 3 Reward: -115.9979248046875\n",
      "Test Episode 4 Reward: -115.9979248046875\n",
      "Test Episode 5 Reward: -115.9979248046875\n",
      "Test Episode 6 Reward: -36.31494140625\n",
      "Test Episode 7 Reward: -115.9979248046875\n",
      "Test Episode 8 Reward: -115.9979248046875\n",
      "Test Episode 9 Reward: -115.9979248046875\n",
      "Test Episode 10 Reward: -101.16964721679688\n",
      "Test Episode 11 Reward: -58.03804016113281\n",
      "Test Episode 12 Reward: -115.9979248046875\n",
      "Test Episode 13 Reward: -49.56526184082031\n",
      "Test Episode 14 Reward: 3.9812774658203125\n",
      "Test Episode 15 Reward: -96.738525390625\n",
      "Test Episode 16 Reward: -108.93635559082031\n",
      "Test Episode 17 Reward: -115.9979248046875\n",
      "Test Episode 18 Reward: -61.34022521972656\n",
      "Test Episode 19 Reward: -115.9979248046875\n",
      "Test Episode 20 Reward: 16.5760498046875\n",
      "Average Test Reward (with depth buffer): -83.94212417602539\n",
      "Loading model from checkpoints\\deadly_corridor.ckpt-320\n",
      "INFO:tensorflow:Restoring parameters from checkpoints\\deadly_corridor.ckpt-320\n",
      "Test Episode 1 Reward: -32.779327392578125\n",
      "Test Episode 2 Reward: -115.9979248046875\n",
      "Test Episode 3 Reward: 229.3223876953125\n",
      "Test Episode 4 Reward: -115.9979248046875\n",
      "Test Episode 5 Reward: -115.9979248046875\n",
      "Test Episode 6 Reward: 268.94679260253906\n",
      "Test Episode 7 Reward: -115.9979248046875\n",
      "Test Episode 8 Reward: 45.33299255371094\n",
      "Test Episode 9 Reward: -115.9979248046875\n",
      "Test Episode 10 Reward: -115.9979248046875\n",
      "Test Episode 11 Reward: -21.648101806640625\n",
      "Test Episode 12 Reward: -115.9979248046875\n",
      "Test Episode 13 Reward: -101.00430297851562\n",
      "Test Episode 14 Reward: -115.9979248046875\n",
      "Test Episode 15 Reward: 2.1305084228515625\n",
      "Test Episode 16 Reward: -115.9979248046875\n",
      "Test Episode 17 Reward: -115.9979248046875\n",
      "Test Episode 18 Reward: 309.38047790527344\n",
      "Test Episode 19 Reward: -115.9979248046875\n",
      "Test Episode 20 Reward: 327.03277587890625\n",
      "Average Test Reward (without depth buffer): -12.463148498535157\n",
      "Loading model from checkpoints\\deadly_corridor.ckpt-340\n",
      "INFO:tensorflow:Restoring parameters from checkpoints\\deadly_corridor.ckpt-340\n",
      "Test Episode 1 Reward: 101.85331726074219\n",
      "Test Episode 2 Reward: -115.51657104492188\n",
      "Test Episode 3 Reward: -52.084075927734375\n",
      "Test Episode 4 Reward: -115.51657104492188\n",
      "Test Episode 5 Reward: -115.51657104492188\n",
      "Test Episode 6 Reward: -8.66009521484375\n",
      "Test Episode 7 Reward: -115.51657104492188\n",
      "Test Episode 8 Reward: -109.91816711425781\n",
      "Test Episode 9 Reward: 77.76260375976562\n",
      "Test Episode 10 Reward: -115.51657104492188\n",
      "Test Episode 11 Reward: 184.3056640625\n",
      "Test Episode 12 Reward: -115.51657104492188\n",
      "Test Episode 13 Reward: -115.51657104492188\n",
      "Test Episode 14 Reward: -10.641921997070312\n",
      "Test Episode 15 Reward: -87.39286804199219\n",
      "Test Episode 16 Reward: -115.51657104492188\n",
      "Test Episode 17 Reward: -115.51657104492188\n",
      "Test Episode 18 Reward: -115.51657104492188\n",
      "Test Episode 19 Reward: 129.75289916992188\n",
      "Test Episode 20 Reward: -115.51657104492188\n",
      "Average Test Reward (with depth buffer): -52.28524627685547\n",
      "Loading model from checkpoints\\deadly_corridor.ckpt-340\n",
      "INFO:tensorflow:Restoring parameters from checkpoints\\deadly_corridor.ckpt-340\n",
      "Test Episode 1 Reward: -115.51657104492188\n",
      "Test Episode 2 Reward: -58.938873291015625\n",
      "Test Episode 3 Reward: -115.51657104492188\n",
      "Test Episode 4 Reward: -115.51657104492188\n",
      "Test Episode 5 Reward: -16.257705688476562\n",
      "Test Episode 6 Reward: -51.968597412109375\n",
      "Test Episode 7 Reward: -103.38201904296875\n",
      "Test Episode 8 Reward: -115.51657104492188\n",
      "Test Episode 9 Reward: -115.51657104492188\n",
      "Test Episode 10 Reward: -115.51657104492188\n",
      "Test Episode 11 Reward: 63.572540283203125\n",
      "Test Episode 12 Reward: 167.6624755859375\n",
      "Test Episode 13 Reward: -115.51657104492188\n",
      "Test Episode 14 Reward: -115.51657104492188\n",
      "Test Episode 15 Reward: -115.51657104492188\n",
      "Test Episode 16 Reward: -115.51657104492188\n",
      "Test Episode 17 Reward: -29.342605590820312\n",
      "Test Episode 18 Reward: -115.51657104492188\n"
     ]
    },
    {
     "name": "stdout",
     "output_type": "stream",
     "text": [
      "Test Episode 19 Reward: -60.37471008300781\n",
      "Test Episode 20 Reward: -25.396347045898438\n",
      "Average Test Reward (without depth buffer): -69.25540618896484\n",
      "Loading model from checkpoints\\deadly_corridor.ckpt-360\n",
      "INFO:tensorflow:Restoring parameters from checkpoints\\deadly_corridor.ckpt-360\n",
      "Test Episode 1 Reward: 204.50531005859375\n",
      "Test Episode 2 Reward: -115.98355102539062\n",
      "Test Episode 3 Reward: -33.37709045410156\n",
      "Test Episode 4 Reward: 72.03155517578125\n",
      "Test Episode 5 Reward: -115.98355102539062\n",
      "Test Episode 6 Reward: 28.599777221679688\n",
      "Test Episode 7 Reward: -115.98355102539062\n",
      "Test Episode 8 Reward: -87.50218200683594\n",
      "Test Episode 9 Reward: -79.17860412597656\n",
      "Test Episode 10 Reward: -115.98355102539062\n",
      "Test Episode 11 Reward: -29.598464965820312\n",
      "Test Episode 12 Reward: -79.91119384765625\n",
      "Test Episode 13 Reward: -71.83348083496094\n",
      "Test Episode 14 Reward: 167.47991943359375\n",
      "Test Episode 15 Reward: 40.62907409667969\n",
      "Test Episode 16 Reward: -115.94712829589844\n",
      "Test Episode 17 Reward: -16.79986572265625\n",
      "Test Episode 18 Reward: -115.98355102539062\n",
      "Test Episode 19 Reward: 214.28744506835938\n",
      "Test Episode 20 Reward: -115.98355102539062\n",
      "Average Test Reward (with depth buffer): -24.125811767578124\n",
      "Loading model from checkpoints\\deadly_corridor.ckpt-360\n",
      "INFO:tensorflow:Restoring parameters from checkpoints\\deadly_corridor.ckpt-360\n",
      "Test Episode 1 Reward: -94.16902160644531\n",
      "Test Episode 2 Reward: -18.05804443359375\n",
      "Test Episode 3 Reward: -29.772323608398438\n",
      "Test Episode 4 Reward: -3.6381378173828125\n",
      "Test Episode 5 Reward: -115.98355102539062\n",
      "Test Episode 6 Reward: 180.31141662597656\n",
      "Test Episode 7 Reward: -115.98355102539062\n",
      "Test Episode 8 Reward: 230.5401611328125\n",
      "Test Episode 9 Reward: 7.377166748046875\n",
      "Test Episode 10 Reward: 91.208251953125\n",
      "Test Episode 11 Reward: -115.98355102539062\n",
      "Test Episode 12 Reward: 7.14605712890625\n",
      "Test Episode 13 Reward: -115.98355102539062\n",
      "Test Episode 14 Reward: 252.8843994140625\n",
      "Test Episode 15 Reward: 189.55612182617188\n",
      "Test Episode 16 Reward: 290.1989288330078\n",
      "Test Episode 17 Reward: 180.19044494628906\n",
      "Test Episode 18 Reward: -115.98355102539062\n",
      "Test Episode 19 Reward: 82.28688049316406\n",
      "Test Episode 20 Reward: 217.47984313964844\n",
      "Average Test Reward (without depth buffer): 50.181219482421874\n",
      "Loading model from checkpoints\\deadly_corridor.ckpt-380\n",
      "INFO:tensorflow:Restoring parameters from checkpoints\\deadly_corridor.ckpt-380\n",
      "Test Episode 1 Reward: 34.545867919921875\n",
      "Test Episode 2 Reward: -20.1851806640625\n",
      "Test Episode 3 Reward: -17.988067626953125\n",
      "Test Episode 4 Reward: -48.48802185058594\n",
      "Test Episode 5 Reward: -20.1851806640625\n",
      "Test Episode 6 Reward: -45.19572448730469\n",
      "Test Episode 7 Reward: 11.027023315429688\n",
      "Test Episode 8 Reward: -20.1851806640625\n",
      "Test Episode 9 Reward: 45.74029541015625\n",
      "Test Episode 10 Reward: 632.2349700927734\n",
      "Test Episode 11 Reward: -113.62699890136719\n",
      "Test Episode 12 Reward: -10.944503784179688\n",
      "Test Episode 13 Reward: -20.1851806640625\n",
      "Test Episode 14 Reward: -20.1851806640625\n",
      "Test Episode 15 Reward: -20.1851806640625\n",
      "Test Episode 16 Reward: -20.1851806640625\n",
      "Test Episode 17 Reward: -20.1851806640625\n",
      "Test Episode 18 Reward: -20.1851806640625\n",
      "Test Episode 19 Reward: 21.005950927734375\n",
      "Test Episode 20 Reward: 271.2892608642578\n",
      "Average Test Reward (with depth buffer): 29.896671295166016\n",
      "Loading model from checkpoints\\deadly_corridor.ckpt-380\n",
      "INFO:tensorflow:Restoring parameters from checkpoints\\deadly_corridor.ckpt-380\n",
      "Test Episode 1 Reward: 59.433624267578125\n",
      "Test Episode 2 Reward: -20.1851806640625\n",
      "Test Episode 3 Reward: -20.1851806640625\n",
      "Test Episode 4 Reward: -82.04605102539062\n",
      "Test Episode 5 Reward: -76.78813171386719\n",
      "Test Episode 6 Reward: -20.1851806640625\n",
      "Test Episode 7 Reward: -20.1851806640625\n",
      "Test Episode 8 Reward: -20.1851806640625\n",
      "Test Episode 9 Reward: -20.1851806640625\n",
      "Test Episode 10 Reward: -20.1851806640625\n",
      "Test Episode 11 Reward: -40.478851318359375\n",
      "Test Episode 12 Reward: -20.1851806640625\n",
      "Test Episode 13 Reward: 33.558074951171875\n",
      "Test Episode 14 Reward: -105.78863525390625\n",
      "Test Episode 15 Reward: 55.21525573730469\n",
      "Test Episode 16 Reward: 709.2410125732422\n",
      "Test Episode 17 Reward: -11.510955810546875\n",
      "Test Episode 18 Reward: -4.399871826171875\n",
      "Test Episode 19 Reward: -20.1851806640625\n",
      "Test Episode 20 Reward: -48.308319091796875\n",
      "Average Test Reward (without depth buffer): 15.323026275634765\n",
      "Loading model from checkpoints\\deadly_corridor.ckpt-400\n",
      "INFO:tensorflow:Restoring parameters from checkpoints\\deadly_corridor.ckpt-400\n",
      "Test Episode 1 Reward: -50.94758605957031\n",
      "Test Episode 2 Reward: -110.04336547851562\n",
      "Test Episode 3 Reward: -30.29156494140625\n",
      "Test Episode 4 Reward: -30.29156494140625\n",
      "Test Episode 5 Reward: -30.29156494140625\n",
      "Test Episode 6 Reward: 130.7824249267578\n",
      "Test Episode 7 Reward: -25.155990600585938\n",
      "Test Episode 8 Reward: -30.29156494140625\n",
      "Test Episode 9 Reward: -30.29156494140625\n",
      "Test Episode 10 Reward: -115.99790954589844\n",
      "Test Episode 11 Reward: -30.29156494140625\n",
      "Test Episode 12 Reward: -37.38114929199219\n",
      "Test Episode 13 Reward: -30.29156494140625\n",
      "Test Episode 14 Reward: -30.29156494140625\n",
      "Test Episode 15 Reward: -30.29156494140625\n",
      "Test Episode 16 Reward: -40.532012939453125\n",
      "Test Episode 17 Reward: 262.6780242919922\n",
      "Test Episode 18 Reward: -70.99703979492188\n",
      "Test Episode 19 Reward: 18.84783935546875\n",
      "Test Episode 20 Reward: -2.237762451171875\n",
      "Average Test Reward (with depth buffer): -15.680430603027343\n",
      "Loading model from checkpoints\\deadly_corridor.ckpt-400\n",
      "INFO:tensorflow:Restoring parameters from checkpoints\\deadly_corridor.ckpt-400\n",
      "Test Episode 1 Reward: -105.95854187011719\n",
      "Test Episode 2 Reward: -30.29156494140625\n",
      "Test Episode 3 Reward: -30.29156494140625\n",
      "Test Episode 4 Reward: -49.68489074707031\n",
      "Test Episode 5 Reward: 197.28634643554688\n",
      "Test Episode 6 Reward: -52.0506591796875\n",
      "Test Episode 7 Reward: -30.29156494140625\n",
      "Test Episode 8 Reward: -30.29156494140625\n",
      "Test Episode 9 Reward: -105.90341186523438\n",
      "Test Episode 10 Reward: -30.29156494140625\n",
      "Test Episode 11 Reward: -30.29156494140625\n",
      "Test Episode 12 Reward: -98.51663208007812\n",
      "Test Episode 13 Reward: -44.90850830078125\n",
      "Test Episode 14 Reward: -57.97831726074219\n",
      "Test Episode 15 Reward: -115.84724426269531\n",
      "Test Episode 16 Reward: 61.82737731933594\n",
      "Test Episode 17 Reward: -30.29156494140625\n",
      "Test Episode 18 Reward: -30.29156494140625\n",
      "Test Episode 19 Reward: -2.27099609375\n",
      "Test Episode 20 Reward: -30.29156494140625\n",
      "Average Test Reward (without depth buffer): -32.331478118896484\n"
     ]
    }
   ],
   "source": [
    "#Get a list of checkpoints saved during training\n",
    "\n",
    "ckpts = tf.train.get_checkpoint_state('checkpoints').all_model_checkpoint_paths\n",
    "\n",
    "#Test the trained model from a certain checkpoint by only choosing actions with a greedy strategy\n",
    "\n",
    "for i in range(len(ckpts)):\n",
    "    test_reward = test_agent(DQN, num_episodes=20,\n",
    "                             training=False,\n",
    "                             load_model=True,\n",
    "                             depth=True,\n",
    "                             model_dir=ckpts[i])\n",
    "    print('Average Test Reward (with depth buffer):', test_reward)\n",
    "\n",
    "    test_reward = test_agent(DQN, num_episodes=20,\n",
    "                             training=False,\n",
    "                             load_model=True,\n",
    "                             depth=False,\n",
    "                             model_dir=ckpts[i])\n",
    "    print('Average Test Reward (without depth buffer):', test_reward)\n"
   ]
  }
 ],
 "metadata": {
  "kernelspec": {
   "display_name": "Python 3 (Spyder)",
   "language": "python3",
   "name": "python3"
  },
  "language_info": {
   "codemirror_mode": {
    "name": "ipython",
    "version": 3
   },
   "file_extension": ".py",
   "mimetype": "text/x-python",
   "name": "python",
   "nbconvert_exporter": "python",
   "pygments_lexer": "ipython3",
   "version": "3.6.3"
  },
  "notify_time": "30"
 },
 "nbformat": 4,
 "nbformat_minor": 2
}
