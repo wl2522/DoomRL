{
 "cells": [
  {
   "cell_type": "code",
   "execution_count": 1,
   "metadata": {
    "ExecuteTime": {
     "end_time": "2018-02-03T05:50:45.459476Z",
     "start_time": "2018-02-03T05:50:31.156586Z"
    },
    "run_control": {
     "frozen": false,
     "read_only": false
    }
   },
   "outputs": [],
   "source": [
    "import importlib.util\n",
    "import time\n",
    "\n",
    "import tensorflow as tf\n",
    "import numpy as np\n",
    "\n",
    "from skimage.transform import rescale\n",
    "from tqdm import trange\n",
    "from IPython.display import HTML\n",
    "\n",
    "#Import the vizdoom package as \"vd\" since it can't be installed normally on Windows\n",
    "\n",
    "vd_location = 'C:/Anaconda3/envs/doom/Lib/site-packages/vizdoom/vizdoom.pyd'\n",
    "vizdoom = importlib.util.spec_from_file_location('vizdoom',\n",
    "                                                 vd_location)\n",
    "vd = importlib.util.module_from_spec(vizdoom)\n",
    "vizdoom.loader.exec_module(vd)\n"
   ]
  },
  {
   "cell_type": "code",
   "execution_count": 2,
   "metadata": {
    "ExecuteTime": {
     "end_time": "2018-02-03T05:50:45.604018Z",
     "start_time": "2018-02-03T05:50:45.460452Z"
    },
    "run_control": {
     "frozen": false,
     "read_only": false
    }
   },
   "outputs": [],
   "source": [
    "#Specify the game scenario and the screen format/resolution\n",
    "\n",
    "game = vd.DoomGame()\n",
    "game.set_screen_format(vd.ScreenFormat.GRAY8)\n",
    "game.set_depth_buffer_enabled(True)\n",
    "game.set_screen_resolution(vd.ScreenResolution.RES_160X120)\n",
    "game.load_config('deadly_corridor.cfg')\n",
    "\n",
    "down_sample_ratio = 1\n",
    "width = int(game.get_screen_width()*down_sample_ratio)\n",
    "height = int(game.get_screen_height()*down_sample_ratio)\n",
    "channels = game.get_screen_channels() + int(game.is_depth_buffer_enabled())\n",
    "\n",
    "#Specify the available actions in the scenario\n",
    "\n",
    "available_actions = game.get_available_buttons()\n",
    "actions = [list(ohe) for ohe in list(np.identity(len(available_actions)))]\n",
    "num_actions = len(available_actions)\n",
    "\n",
    "#Specify the Q-network learning parameters\n",
    "\n",
    "frame_delay = 12\n",
    "buffer_size = 75000\n",
    "epochs = 800\n",
    "steps_per_epoch = 2000\n",
    "learning_rate = 0.0025\n",
    "gamma = 0\n",
    "start_epsilon = 1.0\n",
    "end_epsilon = 0.1\n",
    "batch_size = 100\n",
    "load_model = False\n",
    "save_model = True\n",
    "model_dir = './checkpoints/deadly_corridor.ckpt'\n",
    "num_ckpts = 20\n"
   ]
  },
  {
   "cell_type": "code",
   "execution_count": 3,
   "metadata": {
    "ExecuteTime": {
     "end_time": "2018-02-03T05:50:45.948772Z",
     "start_time": "2018-02-03T05:50:45.604995Z"
    },
    "run_control": {
     "frozen": false,
     "read_only": false
    }
   },
   "outputs": [],
   "source": [
    "#Create a buffer object that holds a set of training experiences (state-action-reward tuples)\n",
    "\n",
    "class Buffer():\n",
    "    def __init__(self, size=1000):\n",
    "        self.buffer = list()\n",
    "        self.length = len(self.buffer)\n",
    "        self.size = size\n",
    "        \n",
    "#Add a new experience to the buffer (remove the oldest experience if the buffer is already full)\n",
    "        \n",
    "    def add_experience(self, experience):\n",
    "        if self.length + 1 >= self.size:\n",
    "            self.buffer[0:(self.length + 1) - self.size] = []\n",
    "        \n",
    "        self.buffer.append(experience)\n",
    "        self.length = len(self.buffer)\n",
    "            \n",
    "#Return a batch of experience arrays randomly sampled from the buffer\n",
    "            \n",
    "    def sample_buffer(self, sample_size):\n",
    "        sample = np.random.randint(self.length, size=sample_size)\n",
    "        s1 = np.concatenate([self.buffer[idx][0] for idx in sample], axis=0)\n",
    "        a = np.array([self.buffer[idx][1] for idx in sample])\n",
    "        r = np.array([self.buffer[idx][2] for idx in sample])\n",
    "        s2 = np.concatenate([self.buffer[idx][3] for idx in sample], axis=0)\n",
    "        terminal = np.array([self.buffer[idx][4] for idx in sample], dtype=np.int32)\n",
    "        \n",
    "        return s1, a, r, s2, terminal\n",
    "\n",
    "#Downsample and normalize an image array representing the game state at a given time stamp\n",
    "\n",
    "def preprocess(image, down_sample_ratio=1):\n",
    "    if float(down_sample_ratio) != 1.0:\n",
    "        image = rescale(image=image, scale=down_sample_ratio, mode='reflect')\n",
    "    image = image.astype(np.float32)\n",
    "    image = np.expand_dims(image, axis=0)\n",
    "\n",
    "    return image\n",
    "\n",
    "#Test the agent using a currently training or previously trained model\n",
    "\n",
    "def test_agent(model, num_episodes, load_model, depth, training=True, session=None, model_dir=None):\n",
    "    if load_model == True:\n",
    "        sess = tf.Session()\n",
    "        print('Loading model from', model_dir)\n",
    "        tf.train.Saver().restore(sess, model_dir)\n",
    "        \n",
    "#Require an existing session if a pretrained model isn't provided\n",
    "        \n",
    "    elif load_model == False:\n",
    "        sess = session\n",
    "\n",
    "    game.set_sound_enabled(True)\n",
    "    episode_rewards = list()\n",
    "    \n",
    "#Avoid reinitializing the game if this was already done by the training process\n",
    "    \n",
    "    if training == False:\n",
    "        game.init()\n",
    "\n",
    "    for i in range(num_episodes):\n",
    "        game.new_episode()\n",
    "    \n",
    "        while not game.is_episode_finished():\n",
    "            state = game.get_state()\n",
    "            \n",
    "            if depth == False:\n",
    "                depth_buffer = np.zeros(state.screen_buffer.shape)\n",
    "            elif depth == True:\n",
    "                depth_buffer = state.depth_buffer\n",
    "                \n",
    "            state_buffer = np.stack((state.screen_buffer,\n",
    "                                     depth_buffer), axis=-1)\n",
    "            state1 = preprocess(state_buffer, down_sample_ratio)\n",
    "            action = model.choose_action(sess, state1)[0]\n",
    "            reward = game.make_action(actions[action])\n",
    "            \n",
    "#Add a delay between each time step so that the episodes occur at normal speed\n",
    "\n",
    "            time.sleep(0.02)\n",
    "        \n",
    "        episode_rewards.append(game.get_total_reward())\n",
    "        print('Test Episode {} Reward: {}'.format(i + 1, game.get_total_reward()))\n",
    "        time.sleep(1)\n",
    "    \n",
    "#Avoid ending the game so that the training process can continue\n",
    "    \n",
    "    if training == False:\n",
    "        game.close()\n",
    "    \n",
    "    return np.mean(episode_rewards)\n"
   ]
  },
  {
   "cell_type": "code",
   "execution_count": 4,
   "metadata": {
    "ExecuteTime": {
     "end_time": "2018-02-03T05:50:46.257390Z",
     "start_time": "2018-02-03T05:50:45.949749Z"
    },
    "run_control": {
     "frozen": false,
     "read_only": false
    }
   },
   "outputs": [],
   "source": [
    "#Create a Q-network to estimate values and choose actions for a given state\n",
    "\n",
    "class Q_network():\n",
    "    def __init__(self, network_name, height, width, channels, learning_rate=0.001):\n",
    "        self.learning_rate = learning_rate\n",
    "        self.s_t = tf.placeholder(tf.float32,\n",
    "                                  shape=[None, height, width, channels],\n",
    "                                  name=network_name + '_state'\n",
    "                                 )\n",
    "        self.a_t = tf.placeholder(tf.int32,\n",
    "                                  shape=[None],\n",
    "                                  name=network_name + '_action'\n",
    "                                 )\n",
    "        self.Q_target = tf.placeholder(tf.float32,\n",
    "                                       shape=[None, num_actions],\n",
    "                                       name=network_name + '_Q_target'\n",
    "                                      )\n",
    "\n",
    "        self.input_layer = tf.reshape(self.s_t,\n",
    "                                      [-1, height, width, channels],\n",
    "                                      name=network_name + '_input_layer'\n",
    "                                     )\n",
    "        self.conv1 = tf.layers.conv2d(inputs=self.input_layer,\n",
    "                                      filters=32,\n",
    "                                      kernel_size=[8, 8],\n",
    "                                      strides=[4, 4],\n",
    "                                      padding='valid',\n",
    "                                      activation=tf.nn.relu,\n",
    "                                      name=network_name + '_conv1_layer'\n",
    "                                     )\n",
    "        self.conv2 = tf.layers.conv2d(inputs=self.conv1,\n",
    "                                      filters=64,\n",
    "                                      kernel_size=[4, 4],\n",
    "                                      strides=[2, 2],\n",
    "                                      padding='valid',\n",
    "                                      activation=tf.nn.relu,\n",
    "                                      name=network_name + '_conv2_layer'\n",
    "                                     )\n",
    "        self.flatten = tf.layers.flatten(self.conv2,\n",
    "                                         name=network_name + '_flatten'\n",
    "                                        )\n",
    "        self.dense = tf.layers.dense(inputs=self.flatten,\n",
    "                                      units=512,\n",
    "                                      activation=tf.nn.relu,\n",
    "                                      name=network_name + '_dense1_layer'\n",
    "                                    )\n",
    "        self.Q_values = tf.layers.dense(inputs=self.dense,\n",
    "                                        units=len(actions),\n",
    "                                        activation=None,\n",
    "                                        name=network_name + '_output_layer'\n",
    "                                       )        \n",
    "    \n",
    "        self.best_action = tf.argmax(self.Q_values, 1)\n",
    "        self.loss = tf.losses.mean_squared_error(self.Q_values,\n",
    "                                                 self.Q_target)\n",
    "        self.adam = tf.train.AdamOptimizer(learning_rate=self.learning_rate,\n",
    "                                           name=network_name + '_adam'\n",
    "                                          )\n",
    "        self.train = self.adam.minimize(self.loss)\n",
    "        \n",
    "    def update_lr(self):\n",
    "        self.learning_rate = 0.98*self.learning_rate\n",
    "        \n",
    "        return self.learning_rate\n",
    "\n",
    "    def calculate_loss(self, session, s, q):\n",
    "        L, _ = session.run([self.loss, self.train],\n",
    "                           feed_dict={self.s_t: s,\n",
    "                                      self.Q_target: q})\n",
    "    \n",
    "        return L\n",
    "\n",
    "#Return the array of Q-values and the best action associated with a given state\n",
    "\n",
    "    def get_Q_values(self, session, s):\n",
    "        Q = session.run(self.Q_values,\n",
    "                        feed_dict={self.s_t: s})\n",
    "\n",
    "        return Q\n",
    "    \n",
    "    def choose_action(self, session, s):\n",
    "        a = session.run(self.best_action,\n",
    "                        feed_dict={self.s_t: s})\n",
    "    \n",
    "        return a\n",
    "    \n",
    "#Create a list of variable update operations\n",
    "\n",
    "def update_graph(variables):\n",
    "    update_ops = list()\n",
    "    \n",
    "#Assign weight values from the network created first to the one created second\n",
    "    \n",
    "    for idx, variable in enumerate(variables[:len(variables)//2]):\n",
    "        op = variable.assign(variables[idx + len(variables)//2].value())\n",
    "        update_ops.append(op)\n",
    "    \n",
    "    return update_ops\n",
    "\n",
    "#Update the target network parameters to match those of the online network\n",
    "\n",
    "def update_target(ops, session):\n",
    "    for op in update_ops:\n",
    "        session.run(op)\n"
   ]
  },
  {
   "cell_type": "code",
   "execution_count": 5,
   "metadata": {
    "ExecuteTime": {
     "end_time": "2018-02-09T00:34:45.806946Z",
     "start_time": "2018-02-03T05:50:46.258367Z"
    },
    "run_control": {
     "frozen": false,
     "read_only": false
    },
    "scrolled": true
   },
   "outputs": [
    {
     "name": "stderr",
     "output_type": "stream",
     "text": [
      "100%|██████████| 2000/2000 [01:28<00:00, 22.65it/s]\n"
     ]
    },
    {
     "name": "stdout",
     "output_type": "stream",
     "text": [
      "Epoch 1 Mean Reward: -71.7723299331665\n"
     ]
    },
    {
     "name": "stderr",
     "output_type": "stream",
     "text": [
      "100%|██████████| 2000/2000 [01:28<00:00, 22.62it/s]\n"
     ]
    },
    {
     "name": "stdout",
     "output_type": "stream",
     "text": [
      "Epoch 2 Mean Reward: -68.08960192108154\n"
     ]
    },
    {
     "name": "stderr",
     "output_type": "stream",
     "text": [
      "100%|██████████| 2000/2000 [01:28<00:00, 22.50it/s]\n"
     ]
    },
    {
     "name": "stdout",
     "output_type": "stream",
     "text": [
      "Epoch 3 Mean Reward: -66.95969484710693\n"
     ]
    },
    {
     "name": "stderr",
     "output_type": "stream",
     "text": [
      "100%|██████████| 2000/2000 [01:28<00:00, 22.52it/s]\n"
     ]
    },
    {
     "name": "stdout",
     "output_type": "stream",
     "text": [
      "Epoch 4 Mean Reward: -67.66074543762207\n"
     ]
    },
    {
     "name": "stderr",
     "output_type": "stream",
     "text": [
      "100%|██████████| 2000/2000 [01:32<00:00, 21.64it/s]\n"
     ]
    },
    {
     "name": "stdout",
     "output_type": "stream",
     "text": [
      "Epoch 5 Mean Reward: -68.00603645324708\n"
     ]
    },
    {
     "name": "stderr",
     "output_type": "stream",
     "text": [
      "100%|██████████| 2000/2000 [01:32<00:00, 21.66it/s]\n"
     ]
    },
    {
     "name": "stdout",
     "output_type": "stream",
     "text": [
      "Epoch 6 Mean Reward: -70.99401164245606\n"
     ]
    },
    {
     "name": "stderr",
     "output_type": "stream",
     "text": [
      "100%|██████████| 2000/2000 [01:32<00:00, 21.60it/s]\n"
     ]
    },
    {
     "name": "stdout",
     "output_type": "stream",
     "text": [
      "Epoch 7 Mean Reward: -68.20411168670654\n"
     ]
    },
    {
     "name": "stderr",
     "output_type": "stream",
     "text": [
      "100%|██████████| 2000/2000 [01:32<00:00, 21.69it/s]\n"
     ]
    },
    {
     "name": "stdout",
     "output_type": "stream",
     "text": [
      "Epoch 8 Mean Reward: -68.22234018707276\n"
     ]
    },
    {
     "name": "stderr",
     "output_type": "stream",
     "text": [
      "100%|██████████| 2000/2000 [01:32<00:00, 21.59it/s]\n"
     ]
    },
    {
     "name": "stdout",
     "output_type": "stream",
     "text": [
      "Epoch 9 Mean Reward: -68.26078393554687\n"
     ]
    },
    {
     "name": "stderr",
     "output_type": "stream",
     "text": [
      "100%|██████████| 2000/2000 [01:32<00:00, 21.59it/s]\n"
     ]
    },
    {
     "name": "stdout",
     "output_type": "stream",
     "text": [
      "Epoch 10 Mean Reward: -72.71765885162354\n"
     ]
    },
    {
     "name": "stderr",
     "output_type": "stream",
     "text": [
      "100%|██████████| 2000/2000 [01:33<00:00, 21.41it/s]\n"
     ]
    },
    {
     "name": "stdout",
     "output_type": "stream",
     "text": [
      "Epoch 11 Mean Reward: -67.30392169952393\n"
     ]
    },
    {
     "name": "stderr",
     "output_type": "stream",
     "text": [
      "100%|██████████| 2000/2000 [01:33<00:00, 21.49it/s]\n"
     ]
    },
    {
     "name": "stdout",
     "output_type": "stream",
     "text": [
      "Epoch 12 Mean Reward: -67.80514653015136\n"
     ]
    },
    {
     "name": "stderr",
     "output_type": "stream",
     "text": [
      "100%|██████████| 2000/2000 [01:33<00:00, 21.37it/s]\n"
     ]
    },
    {
     "name": "stdout",
     "output_type": "stream",
     "text": [
      "Epoch 13 Mean Reward: -68.25544995117187\n"
     ]
    },
    {
     "name": "stderr",
     "output_type": "stream",
     "text": [
      "100%|██████████| 2000/2000 [01:33<00:00, 21.45it/s]\n"
     ]
    },
    {
     "name": "stdout",
     "output_type": "stream",
     "text": [
      "Epoch 14 Mean Reward: -70.36271810150147\n"
     ]
    },
    {
     "name": "stderr",
     "output_type": "stream",
     "text": [
      "100%|██████████| 2000/2000 [01:33<00:00, 21.41it/s]\n"
     ]
    },
    {
     "name": "stdout",
     "output_type": "stream",
     "text": [
      "Epoch 15 Mean Reward: -68.0859175491333\n"
     ]
    },
    {
     "name": "stderr",
     "output_type": "stream",
     "text": [
      "100%|██████████| 2000/2000 [01:34<00:00, 21.10it/s]\n"
     ]
    },
    {
     "name": "stdout",
     "output_type": "stream",
     "text": [
      "Epoch 16 Mean Reward: -70.02226620483398\n"
     ]
    },
    {
     "name": "stderr",
     "output_type": "stream",
     "text": [
      "100%|██████████| 2000/2000 [01:34<00:00, 21.25it/s]\n"
     ]
    },
    {
     "name": "stdout",
     "output_type": "stream",
     "text": [
      "Epoch 17 Mean Reward: -69.10864595031738\n"
     ]
    },
    {
     "name": "stderr",
     "output_type": "stream",
     "text": [
      "100%|██████████| 2000/2000 [01:36<00:00, 20.77it/s]\n"
     ]
    },
    {
     "name": "stdout",
     "output_type": "stream",
     "text": [
      "Epoch 18 Mean Reward: -69.10532443237305\n"
     ]
    },
    {
     "name": "stderr",
     "output_type": "stream",
     "text": [
      "100%|██████████| 2000/2000 [01:32<00:00, 21.62it/s]\n"
     ]
    },
    {
     "name": "stdout",
     "output_type": "stream",
     "text": [
      "Epoch 19 Mean Reward: -70.8557664489746\n"
     ]
    },
    {
     "name": "stderr",
     "output_type": "stream",
     "text": [
      "100%|██████████| 2000/2000 [01:33<00:00, 21.47it/s]\n"
     ]
    },
    {
     "name": "stdout",
     "output_type": "stream",
     "text": [
      "Epoch 20 Mean Reward: -67.94546231842041\n",
      "Epoch 20 Model saved to ./checkpoints/deadly_corridor.ckpt\n",
      "Epoch 20 test with depth buffer:\n",
      "Test Episode 1 Reward: 77.68296813964844\n",
      "Test Episode 2 Reward: 109.44517517089844\n",
      "Test Episode 3 Reward: 419.0507354736328\n",
      "Test Episode 4 Reward: 77.68296813964844\n",
      "Test Episode 5 Reward: 90.18168640136719\n",
      "Test Episode 6 Reward: 67.26510620117188\n",
      "Test Episode 7 Reward: 77.68296813964844\n",
      "Test Episode 8 Reward: 712.0427093505859\n",
      "Test Episode 9 Reward: 386.82147216796875\n",
      "Test Episode 10 Reward: 77.68296813964844\n",
      "Average Test Reward (with depth buffer:) 209.5538757324219\n",
      "Epoch 20 test without depth buffer:\n",
      "Test Episode 1 Reward: 61.44795227050781\n",
      "Test Episode 2 Reward: 198.34213256835938\n",
      "Test Episode 3 Reward: 42.88966369628906\n",
      "Test Episode 4 Reward: 156.76377868652344\n",
      "Test Episode 5 Reward: 198.34213256835938\n",
      "Test Episode 6 Reward: 119.19599914550781\n",
      "Test Episode 7 Reward: 198.34213256835938\n",
      "Test Episode 8 Reward: 236.8585205078125\n",
      "Test Episode 9 Reward: 47.25544738769531\n",
      "Test Episode 10 Reward: 198.34213256835938\n",
      "Average Test Reward (without depth buffer): 145.77798919677736\n"
     ]
    },
    {
     "name": "stderr",
     "output_type": "stream",
     "text": [
      "100%|██████████| 2000/2000 [01:33<00:00, 21.39it/s]\n"
     ]
    },
    {
     "name": "stdout",
     "output_type": "stream",
     "text": [
      "Epoch 21 Mean Reward: -68.96082043457031\n"
     ]
    },
    {
     "name": "stderr",
     "output_type": "stream",
     "text": [
      "100%|██████████| 2000/2000 [01:33<00:00, 21.40it/s]\n"
     ]
    },
    {
     "name": "stdout",
     "output_type": "stream",
     "text": [
      "Epoch 22 Mean Reward: -67.32137704467773\n"
     ]
    },
    {
     "name": "stderr",
     "output_type": "stream",
     "text": [
      "100%|██████████| 2000/2000 [01:32<00:00, 21.59it/s]\n"
     ]
    },
    {
     "name": "stdout",
     "output_type": "stream",
     "text": [
      "Epoch 23 Mean Reward: -67.84787602233887\n"
     ]
    },
    {
     "name": "stderr",
     "output_type": "stream",
     "text": [
      "100%|██████████| 2000/2000 [01:32<00:00, 21.68it/s]\n"
     ]
    },
    {
     "name": "stdout",
     "output_type": "stream",
     "text": [
      "Epoch 24 Mean Reward: -66.21031099700927\n"
     ]
    },
    {
     "name": "stderr",
     "output_type": "stream",
     "text": [
      "100%|██████████| 2000/2000 [01:32<00:00, 21.58it/s]\n"
     ]
    },
    {
     "name": "stdout",
     "output_type": "stream",
     "text": [
      "Epoch 25 Mean Reward: -65.95270806121826\n"
     ]
    },
    {
     "name": "stderr",
     "output_type": "stream",
     "text": [
      "100%|██████████| 2000/2000 [01:32<00:00, 21.71it/s]\n"
     ]
    },
    {
     "name": "stdout",
     "output_type": "stream",
     "text": [
      "Epoch 26 Mean Reward: -67.0930030670166\n"
     ]
    },
    {
     "name": "stderr",
     "output_type": "stream",
     "text": [
      "100%|██████████| 2000/2000 [01:31<00:00, 21.76it/s]\n"
     ]
    },
    {
     "name": "stdout",
     "output_type": "stream",
     "text": [
      "Epoch 27 Mean Reward: -67.23853860473633\n"
     ]
    },
    {
     "name": "stderr",
     "output_type": "stream",
     "text": [
      "100%|██████████| 2000/2000 [01:32<00:00, 21.62it/s]\n"
     ]
    },
    {
     "name": "stdout",
     "output_type": "stream",
     "text": [
      "Epoch 28 Mean Reward: -69.15214166259766\n"
     ]
    },
    {
     "name": "stderr",
     "output_type": "stream",
     "text": [
      "100%|██████████| 2000/2000 [01:34<00:00, 21.24it/s]\n"
     ]
    },
    {
     "name": "stdout",
     "output_type": "stream",
     "text": [
      "Epoch 29 Mean Reward: -69.79384915924072\n"
     ]
    },
    {
     "name": "stderr",
     "output_type": "stream",
     "text": [
      "100%|██████████| 2000/2000 [01:35<00:00, 21.04it/s]\n"
     ]
    },
    {
     "name": "stdout",
     "output_type": "stream",
     "text": [
      "Epoch 30 Mean Reward: -65.5354264831543\n"
     ]
    },
    {
     "name": "stderr",
     "output_type": "stream",
     "text": [
      "100%|██████████| 2000/2000 [01:34<00:00, 21.10it/s]\n"
     ]
    },
    {
     "name": "stdout",
     "output_type": "stream",
     "text": [
      "Epoch 31 Mean Reward: -68.33076431274414\n"
     ]
    },
    {
     "name": "stderr",
     "output_type": "stream",
     "text": [
      "100%|██████████| 2000/2000 [01:33<00:00, 21.28it/s]\n"
     ]
    },
    {
     "name": "stdout",
     "output_type": "stream",
     "text": [
      "Epoch 32 Mean Reward: -68.38371350860595\n"
     ]
    },
    {
     "name": "stderr",
     "output_type": "stream",
     "text": [
      "100%|██████████| 2000/2000 [01:34<00:00, 21.21it/s]\n"
     ]
    },
    {
     "name": "stdout",
     "output_type": "stream",
     "text": [
      "Epoch 33 Mean Reward: -67.35250746154784\n"
     ]
    },
    {
     "name": "stderr",
     "output_type": "stream",
     "text": [
      "100%|██████████| 2000/2000 [01:33<00:00, 21.33it/s]\n"
     ]
    },
    {
     "name": "stdout",
     "output_type": "stream",
     "text": [
      "Epoch 34 Mean Reward: -69.94941307830811\n"
     ]
    },
    {
     "name": "stderr",
     "output_type": "stream",
     "text": [
      "100%|██████████| 2000/2000 [01:34<00:00, 21.28it/s]\n"
     ]
    },
    {
     "name": "stdout",
     "output_type": "stream",
     "text": [
      "Epoch 35 Mean Reward: -69.32490654754639\n"
     ]
    },
    {
     "name": "stderr",
     "output_type": "stream",
     "text": [
      "100%|██████████| 2000/2000 [01:33<00:00, 21.33it/s]\n"
     ]
    },
    {
     "name": "stdout",
     "output_type": "stream",
     "text": [
      "Epoch 36 Mean Reward: -69.13461208343506\n"
     ]
    },
    {
     "name": "stderr",
     "output_type": "stream",
     "text": [
      "100%|██████████| 2000/2000 [01:32<00:00, 21.60it/s]\n"
     ]
    },
    {
     "name": "stdout",
     "output_type": "stream",
     "text": [
      "Epoch 37 Mean Reward: -71.25241701507568\n"
     ]
    },
    {
     "name": "stderr",
     "output_type": "stream",
     "text": [
      "100%|██████████| 2000/2000 [01:33<00:00, 21.30it/s]\n"
     ]
    },
    {
     "name": "stdout",
     "output_type": "stream",
     "text": [
      "Epoch 38 Mean Reward: -68.99720141601563\n"
     ]
    },
    {
     "name": "stderr",
     "output_type": "stream",
     "text": [
      "100%|██████████| 2000/2000 [01:34<00:00, 21.14it/s]\n"
     ]
    },
    {
     "name": "stdout",
     "output_type": "stream",
     "text": [
      "Epoch 39 Mean Reward: -68.35597760009766\n"
     ]
    },
    {
     "name": "stderr",
     "output_type": "stream",
     "text": [
      "100%|██████████| 2000/2000 [01:34<00:00, 21.15it/s]\n"
     ]
    },
    {
     "name": "stdout",
     "output_type": "stream",
     "text": [
      "Epoch 40 Mean Reward: -69.91691772460938\n",
      "Epoch 40 Model saved to ./checkpoints/deadly_corridor.ckpt\n",
      "Epoch 40 test with depth buffer:\n",
      "Test Episode 1 Reward: 94.95274353027344\n",
      "Test Episode 2 Reward: 94.95274353027344\n",
      "Test Episode 3 Reward: 94.95274353027344\n",
      "Test Episode 4 Reward: 55.079498291015625\n",
      "Test Episode 5 Reward: 94.95274353027344\n",
      "Test Episode 6 Reward: 424.0656433105469\n",
      "Test Episode 7 Reward: 94.95274353027344\n",
      "Test Episode 8 Reward: 94.95274353027344\n",
      "Test Episode 9 Reward: 86.00949096679688\n",
      "Test Episode 10 Reward: 105.15556335449219\n",
      "Average Test Reward (with depth buffer:) 124.00266571044922\n",
      "Epoch 40 test without depth buffer:\n",
      "Test Episode 1 Reward: 46.96142578125\n",
      "Test Episode 2 Reward: 142.27621459960938\n",
      "Test Episode 3 Reward: 58.94834899902344\n",
      "Test Episode 4 Reward: 65.60400390625\n",
      "Test Episode 5 Reward: -60.651885986328125\n",
      "Test Episode 6 Reward: 58.94834899902344\n",
      "Test Episode 7 Reward: 58.94834899902344\n",
      "Test Episode 8 Reward: 58.94834899902344\n",
      "Test Episode 9 Reward: 58.94834899902344\n",
      "Test Episode 10 Reward: 338.5773620605469\n",
      "Average Test Reward (without depth buffer): 82.75088653564453\n"
     ]
    },
    {
     "name": "stderr",
     "output_type": "stream",
     "text": [
      "100%|██████████| 2000/2000 [01:33<00:00, 21.46it/s]\n"
     ]
    },
    {
     "name": "stdout",
     "output_type": "stream",
     "text": [
      "Epoch 41 Mean Reward: -67.42309189605713\n"
     ]
    },
    {
     "name": "stderr",
     "output_type": "stream",
     "text": [
      "100%|██████████| 2000/2000 [01:32<00:00, 21.55it/s]\n"
     ]
    },
    {
     "name": "stdout",
     "output_type": "stream",
     "text": [
      "Epoch 42 Mean Reward: -66.67631170654298\n"
     ]
    },
    {
     "name": "stderr",
     "output_type": "stream",
     "text": [
      "100%|██████████| 2000/2000 [01:32<00:00, 21.65it/s]\n"
     ]
    },
    {
     "name": "stdout",
     "output_type": "stream",
     "text": [
      "Epoch 43 Mean Reward: -72.43237075042724\n"
     ]
    },
    {
     "name": "stderr",
     "output_type": "stream",
     "text": [
      "100%|██████████| 2000/2000 [01:32<00:00, 21.56it/s]\n"
     ]
    },
    {
     "name": "stdout",
     "output_type": "stream",
     "text": [
      "Epoch 44 Mean Reward: -70.03455041503906\n"
     ]
    },
    {
     "name": "stderr",
     "output_type": "stream",
     "text": [
      "100%|██████████| 2000/2000 [01:33<00:00, 21.41it/s]\n"
     ]
    },
    {
     "name": "stdout",
     "output_type": "stream",
     "text": [
      "Epoch 45 Mean Reward: -65.83945931243896\n"
     ]
    },
    {
     "name": "stderr",
     "output_type": "stream",
     "text": [
      "100%|██████████| 2000/2000 [01:33<00:00, 21.41it/s]\n"
     ]
    },
    {
     "name": "stdout",
     "output_type": "stream",
     "text": [
      "Epoch 46 Mean Reward: -69.49733882904053\n"
     ]
    },
    {
     "name": "stderr",
     "output_type": "stream",
     "text": [
      "100%|██████████| 2000/2000 [01:29<00:00, 22.39it/s]\n"
     ]
    },
    {
     "name": "stdout",
     "output_type": "stream",
     "text": [
      "Epoch 47 Mean Reward: -69.881220703125\n"
     ]
    },
    {
     "name": "stderr",
     "output_type": "stream",
     "text": [
      "100%|██████████| 2000/2000 [01:29<00:00, 22.34it/s]\n"
     ]
    },
    {
     "name": "stdout",
     "output_type": "stream",
     "text": [
      "Epoch 48 Mean Reward: -69.72628965759277\n"
     ]
    },
    {
     "name": "stderr",
     "output_type": "stream",
     "text": [
      "100%|██████████| 2000/2000 [01:29<00:00, 22.45it/s]\n"
     ]
    },
    {
     "name": "stdout",
     "output_type": "stream",
     "text": [
      "Epoch 49 Mean Reward: -66.24973609924317\n"
     ]
    },
    {
     "name": "stderr",
     "output_type": "stream",
     "text": [
      "100%|██████████| 2000/2000 [01:30<00:00, 22.02it/s]\n"
     ]
    },
    {
     "name": "stdout",
     "output_type": "stream",
     "text": [
      "Epoch 50 Mean Reward: -69.5956856918335\n"
     ]
    },
    {
     "name": "stderr",
     "output_type": "stream",
     "text": [
      "100%|██████████| 2000/2000 [01:28<00:00, 22.49it/s]\n"
     ]
    },
    {
     "name": "stdout",
     "output_type": "stream",
     "text": [
      "Epoch 51 Mean Reward: -68.5138470916748\n"
     ]
    },
    {
     "name": "stderr",
     "output_type": "stream",
     "text": [
      "100%|██████████| 2000/2000 [01:29<00:00, 22.36it/s]\n"
     ]
    },
    {
     "name": "stdout",
     "output_type": "stream",
     "text": [
      "Epoch 52 Mean Reward: -67.63519902801514\n"
     ]
    },
    {
     "name": "stderr",
     "output_type": "stream",
     "text": [
      "100%|██████████| 2000/2000 [01:29<00:00, 22.34it/s]\n"
     ]
    },
    {
     "name": "stdout",
     "output_type": "stream",
     "text": [
      "Epoch 53 Mean Reward: -65.61308724975586\n"
     ]
    },
    {
     "name": "stderr",
     "output_type": "stream",
     "text": [
      "100%|██████████| 2000/2000 [01:30<00:00, 22.21it/s]\n"
     ]
    },
    {
     "name": "stdout",
     "output_type": "stream",
     "text": [
      "Epoch 54 Mean Reward: -67.7833957824707\n"
     ]
    },
    {
     "name": "stderr",
     "output_type": "stream",
     "text": [
      "100%|██████████| 2000/2000 [01:31<00:00, 21.89it/s]\n"
     ]
    },
    {
     "name": "stdout",
     "output_type": "stream",
     "text": [
      "Epoch 55 Mean Reward: -66.34425045776368\n"
     ]
    },
    {
     "name": "stderr",
     "output_type": "stream",
     "text": [
      "100%|██████████| 2000/2000 [01:33<00:00, 21.45it/s]\n"
     ]
    },
    {
     "name": "stdout",
     "output_type": "stream",
     "text": [
      "Epoch 56 Mean Reward: -67.22839701843262\n"
     ]
    },
    {
     "name": "stderr",
     "output_type": "stream",
     "text": [
      "100%|██████████| 2000/2000 [01:32<00:00, 21.57it/s]\n"
     ]
    },
    {
     "name": "stdout",
     "output_type": "stream",
     "text": [
      "Epoch 57 Mean Reward: -69.26890861511231\n"
     ]
    },
    {
     "name": "stderr",
     "output_type": "stream",
     "text": [
      "100%|██████████| 2000/2000 [01:33<00:00, 21.45it/s]\n"
     ]
    },
    {
     "name": "stdout",
     "output_type": "stream",
     "text": [
      "Epoch 58 Mean Reward: -68.13827237701416\n"
     ]
    },
    {
     "name": "stderr",
     "output_type": "stream",
     "text": [
      "100%|██████████| 2000/2000 [01:34<00:00, 21.26it/s]\n"
     ]
    },
    {
     "name": "stdout",
     "output_type": "stream",
     "text": [
      "Epoch 59 Mean Reward: -69.22283953857422\n"
     ]
    },
    {
     "name": "stderr",
     "output_type": "stream",
     "text": [
      "100%|██████████| 2000/2000 [01:31<00:00, 21.79it/s]\n"
     ]
    },
    {
     "name": "stdout",
     "output_type": "stream",
     "text": [
      "Epoch 60 Mean Reward: -69.10209534454346\n",
      "Epoch 60 Model saved to ./checkpoints/deadly_corridor.ckpt\n",
      "Epoch 60 test with depth buffer:\n",
      "Test Episode 1 Reward: 494.83082580566406\n",
      "Test Episode 2 Reward: 77.20150756835938\n",
      "Test Episode 3 Reward: 284.62945556640625\n",
      "Test Episode 4 Reward: 86.33395385742188\n",
      "Test Episode 5 Reward: 77.20150756835938\n",
      "Test Episode 6 Reward: 77.20150756835938\n",
      "Test Episode 7 Reward: 77.20150756835938\n",
      "Test Episode 8 Reward: 77.20150756835938\n",
      "Test Episode 9 Reward: 9.889633178710938\n",
      "Test Episode 10 Reward: 244.4847412109375\n",
      "Average Test Reward (with depth buffer:) 150.61761474609375\n",
      "Epoch 60 test without depth buffer:\n",
      "Test Episode 1 Reward: -72.87185668945312\n",
      "Test Episode 2 Reward: -44.744964599609375\n",
      "Test Episode 3 Reward: -4.28173828125\n",
      "Test Episode 4 Reward: 24.011215209960938\n",
      "Test Episode 5 Reward: -4.28173828125\n",
      "Test Episode 6 Reward: -35.93257141113281\n",
      "Test Episode 7 Reward: -30.03778076171875\n",
      "Test Episode 8 Reward: -37.301788330078125\n",
      "Test Episode 9 Reward: -78.21401977539062\n",
      "Test Episode 10 Reward: -99.97547912597656\n",
      "Average Test Reward (without depth buffer): -38.36307220458984\n"
     ]
    },
    {
     "name": "stderr",
     "output_type": "stream",
     "text": [
      "100%|██████████| 2000/2000 [01:32<00:00, 21.57it/s]\n"
     ]
    },
    {
     "name": "stdout",
     "output_type": "stream",
     "text": [
      "Epoch 61 Mean Reward: -68.73267512512207\n"
     ]
    },
    {
     "name": "stderr",
     "output_type": "stream",
     "text": [
      "100%|██████████| 2000/2000 [01:32<00:00, 21.66it/s]\n"
     ]
    },
    {
     "name": "stdout",
     "output_type": "stream",
     "text": [
      "Epoch 62 Mean Reward: -68.89656484985352\n"
     ]
    },
    {
     "name": "stderr",
     "output_type": "stream",
     "text": [
      "100%|██████████| 2000/2000 [01:32<00:00, 21.66it/s]\n"
     ]
    },
    {
     "name": "stdout",
     "output_type": "stream",
     "text": [
      "Epoch 63 Mean Reward: -66.89470792388916\n"
     ]
    },
    {
     "name": "stderr",
     "output_type": "stream",
     "text": [
      "100%|██████████| 2000/2000 [01:32<00:00, 21.60it/s]\n"
     ]
    },
    {
     "name": "stdout",
     "output_type": "stream",
     "text": [
      "Epoch 64 Mean Reward: -68.59179695129394\n"
     ]
    },
    {
     "name": "stderr",
     "output_type": "stream",
     "text": [
      "100%|██████████| 2000/2000 [01:32<00:00, 21.56it/s]\n"
     ]
    },
    {
     "name": "stdout",
     "output_type": "stream",
     "text": [
      "Epoch 65 Mean Reward: -66.97938678741455\n"
     ]
    },
    {
     "name": "stderr",
     "output_type": "stream",
     "text": [
      "100%|██████████| 2000/2000 [01:32<00:00, 21.65it/s]\n"
     ]
    },
    {
     "name": "stdout",
     "output_type": "stream",
     "text": [
      "Epoch 66 Mean Reward: -69.13534844207764\n"
     ]
    },
    {
     "name": "stderr",
     "output_type": "stream",
     "text": [
      "100%|██████████| 2000/2000 [01:32<00:00, 21.58it/s]\n"
     ]
    },
    {
     "name": "stdout",
     "output_type": "stream",
     "text": [
      "Epoch 67 Mean Reward: -67.74809828948975\n"
     ]
    },
    {
     "name": "stderr",
     "output_type": "stream",
     "text": [
      "100%|██████████| 2000/2000 [01:33<00:00, 21.47it/s]\n"
     ]
    },
    {
     "name": "stdout",
     "output_type": "stream",
     "text": [
      "Epoch 68 Mean Reward: -68.34348472595215\n"
     ]
    },
    {
     "name": "stderr",
     "output_type": "stream",
     "text": [
      "100%|██████████| 2000/2000 [01:33<00:00, 21.47it/s]\n"
     ]
    },
    {
     "name": "stdout",
     "output_type": "stream",
     "text": [
      "Epoch 69 Mean Reward: -67.28965956115722\n"
     ]
    },
    {
     "name": "stderr",
     "output_type": "stream",
     "text": [
      "100%|██████████| 2000/2000 [01:33<00:00, 21.43it/s]\n"
     ]
    },
    {
     "name": "stdout",
     "output_type": "stream",
     "text": [
      "Epoch 70 Mean Reward: -68.88194091796875\n"
     ]
    },
    {
     "name": "stderr",
     "output_type": "stream",
     "text": [
      "100%|██████████| 2000/2000 [01:32<00:00, 21.54it/s]\n"
     ]
    },
    {
     "name": "stdout",
     "output_type": "stream",
     "text": [
      "Epoch 71 Mean Reward: -67.9069845275879\n"
     ]
    },
    {
     "name": "stderr",
     "output_type": "stream",
     "text": [
      "100%|██████████| 2000/2000 [01:32<00:00, 21.51it/s]\n"
     ]
    },
    {
     "name": "stdout",
     "output_type": "stream",
     "text": [
      "Epoch 72 Mean Reward: -66.20480226898194\n"
     ]
    },
    {
     "name": "stderr",
     "output_type": "stream",
     "text": [
      "100%|██████████| 2000/2000 [01:32<00:00, 21.64it/s]\n"
     ]
    },
    {
     "name": "stdout",
     "output_type": "stream",
     "text": [
      "Epoch 73 Mean Reward: -69.23584916687011\n"
     ]
    },
    {
     "name": "stderr",
     "output_type": "stream",
     "text": [
      "100%|██████████| 2000/2000 [01:32<00:00, 21.53it/s]\n"
     ]
    },
    {
     "name": "stdout",
     "output_type": "stream",
     "text": [
      "Epoch 74 Mean Reward: -68.59347702026368\n"
     ]
    },
    {
     "name": "stderr",
     "output_type": "stream",
     "text": [
      "100%|██████████| 2000/2000 [01:33<00:00, 21.45it/s]\n"
     ]
    },
    {
     "name": "stdout",
     "output_type": "stream",
     "text": [
      "Epoch 75 Mean Reward: -67.1404367980957\n"
     ]
    },
    {
     "name": "stderr",
     "output_type": "stream",
     "text": [
      "100%|██████████| 2000/2000 [01:32<00:00, 21.59it/s]\n"
     ]
    },
    {
     "name": "stdout",
     "output_type": "stream",
     "text": [
      "Epoch 76 Mean Reward: -68.03064991760255\n"
     ]
    },
    {
     "name": "stderr",
     "output_type": "stream",
     "text": [
      "100%|██████████| 2000/2000 [01:32<00:00, 21.59it/s]\n"
     ]
    },
    {
     "name": "stdout",
     "output_type": "stream",
     "text": [
      "Epoch 77 Mean Reward: -68.67229071044922\n"
     ]
    },
    {
     "name": "stderr",
     "output_type": "stream",
     "text": [
      "100%|██████████| 2000/2000 [01:32<00:00, 21.53it/s]\n"
     ]
    },
    {
     "name": "stdout",
     "output_type": "stream",
     "text": [
      "Epoch 78 Mean Reward: -69.67452452850341\n"
     ]
    },
    {
     "name": "stderr",
     "output_type": "stream",
     "text": [
      "100%|██████████| 2000/2000 [01:32<00:00, 21.60it/s]\n"
     ]
    },
    {
     "name": "stdout",
     "output_type": "stream",
     "text": [
      "Epoch 79 Mean Reward: -70.64357261657715\n"
     ]
    },
    {
     "name": "stderr",
     "output_type": "stream",
     "text": [
      "100%|██████████| 2000/2000 [01:32<00:00, 21.57it/s]\n"
     ]
    },
    {
     "name": "stdout",
     "output_type": "stream",
     "text": [
      "Epoch 80 Mean Reward: -68.509455909729\n",
      "Epoch 80 Model saved to ./checkpoints/deadly_corridor.ckpt\n",
      "Epoch 80 test with depth buffer:\n",
      "Test Episode 1 Reward: 94.95274353027344\n",
      "Test Episode 2 Reward: 94.95274353027344\n",
      "Test Episode 3 Reward: 94.95274353027344\n",
      "Test Episode 4 Reward: 94.95274353027344\n",
      "Test Episode 5 Reward: 36.8477783203125\n",
      "Test Episode 6 Reward: 86.56748962402344\n",
      "Test Episode 7 Reward: 94.95274353027344\n",
      "Test Episode 8 Reward: 94.95274353027344\n",
      "Test Episode 9 Reward: 66.57345581054688\n",
      "Test Episode 10 Reward: 94.95274353027344\n",
      "Average Test Reward (with depth buffer:) 85.46579284667969\n",
      "Epoch 80 test without depth buffer:\n",
      "Test Episode 1 Reward: 246.21990966796875\n",
      "Test Episode 2 Reward: 15.302398681640625\n",
      "Test Episode 3 Reward: 35.16912841796875\n",
      "Test Episode 4 Reward: 152.2734375\n",
      "Test Episode 5 Reward: -13.8106689453125\n",
      "Test Episode 6 Reward: 143.41329956054688\n",
      "Test Episode 7 Reward: 56.311859130859375\n",
      "Test Episode 8 Reward: 246.21990966796875\n",
      "Test Episode 9 Reward: 53.377685546875\n",
      "Test Episode 10 Reward: 246.21990966796875\n",
      "Average Test Reward (without depth buffer): 118.06968688964844\n"
     ]
    },
    {
     "name": "stderr",
     "output_type": "stream",
     "text": [
      "100%|██████████| 2000/2000 [01:32<00:00, 21.54it/s]\n"
     ]
    },
    {
     "name": "stdout",
     "output_type": "stream",
     "text": [
      "Epoch 81 Mean Reward: -65.62190814971923\n"
     ]
    },
    {
     "name": "stderr",
     "output_type": "stream",
     "text": [
      "100%|██████████| 2000/2000 [01:32<00:00, 21.64it/s]\n"
     ]
    },
    {
     "name": "stdout",
     "output_type": "stream",
     "text": [
      "Epoch 82 Mean Reward: -68.72876753997802\n"
     ]
    },
    {
     "name": "stderr",
     "output_type": "stream",
     "text": [
      "100%|██████████| 2000/2000 [01:32<00:00, 21.70it/s]\n"
     ]
    },
    {
     "name": "stdout",
     "output_type": "stream",
     "text": [
      "Epoch 83 Mean Reward: -69.50456632995605\n"
     ]
    },
    {
     "name": "stderr",
     "output_type": "stream",
     "text": [
      "100%|██████████| 2000/2000 [01:32<00:00, 21.73it/s]\n"
     ]
    },
    {
     "name": "stdout",
     "output_type": "stream",
     "text": [
      "Epoch 84 Mean Reward: -66.73974114990234\n"
     ]
    },
    {
     "name": "stderr",
     "output_type": "stream",
     "text": [
      "100%|██████████| 2000/2000 [01:32<00:00, 21.60it/s]\n"
     ]
    },
    {
     "name": "stdout",
     "output_type": "stream",
     "text": [
      "Epoch 85 Mean Reward: -67.3935004119873\n"
     ]
    },
    {
     "name": "stderr",
     "output_type": "stream",
     "text": [
      "100%|██████████| 2000/2000 [01:32<00:00, 21.60it/s]\n"
     ]
    },
    {
     "name": "stdout",
     "output_type": "stream",
     "text": [
      "Epoch 86 Mean Reward: -69.54541695404053\n"
     ]
    },
    {
     "name": "stderr",
     "output_type": "stream",
     "text": [
      "100%|██████████| 2000/2000 [01:32<00:00, 21.59it/s]\n"
     ]
    },
    {
     "name": "stdout",
     "output_type": "stream",
     "text": [
      "Epoch 87 Mean Reward: -70.81983925628663\n"
     ]
    },
    {
     "name": "stderr",
     "output_type": "stream",
     "text": [
      "100%|██████████| 2000/2000 [01:31<00:00, 21.76it/s]\n"
     ]
    },
    {
     "name": "stdout",
     "output_type": "stream",
     "text": [
      "Epoch 88 Mean Reward: -68.97588793945313\n"
     ]
    },
    {
     "name": "stderr",
     "output_type": "stream",
     "text": [
      "100%|██████████| 2000/2000 [01:31<00:00, 21.91it/s]\n"
     ]
    },
    {
     "name": "stdout",
     "output_type": "stream",
     "text": [
      "Epoch 89 Mean Reward: -69.3069713973999\n"
     ]
    },
    {
     "name": "stderr",
     "output_type": "stream",
     "text": [
      "100%|██████████| 2000/2000 [01:33<00:00, 21.47it/s]\n"
     ]
    },
    {
     "name": "stdout",
     "output_type": "stream",
     "text": [
      "Epoch 90 Mean Reward: -67.3738037109375\n"
     ]
    },
    {
     "name": "stderr",
     "output_type": "stream",
     "text": [
      "100%|██████████| 2000/2000 [01:32<00:00, 21.60it/s]\n"
     ]
    },
    {
     "name": "stdout",
     "output_type": "stream",
     "text": [
      "Epoch 91 Mean Reward: -68.01958951568604\n"
     ]
    },
    {
     "name": "stderr",
     "output_type": "stream",
     "text": [
      "100%|██████████| 2000/2000 [01:32<00:00, 21.67it/s]\n"
     ]
    },
    {
     "name": "stdout",
     "output_type": "stream",
     "text": [
      "Epoch 92 Mean Reward: -69.0018703918457\n"
     ]
    },
    {
     "name": "stderr",
     "output_type": "stream",
     "text": [
      "100%|██████████| 2000/2000 [01:31<00:00, 21.75it/s]\n"
     ]
    },
    {
     "name": "stdout",
     "output_type": "stream",
     "text": [
      "Epoch 93 Mean Reward: -69.72180841064453\n"
     ]
    },
    {
     "name": "stderr",
     "output_type": "stream",
     "text": [
      "100%|██████████| 2000/2000 [01:32<00:00, 21.68it/s]\n"
     ]
    },
    {
     "name": "stdout",
     "output_type": "stream",
     "text": [
      "Epoch 94 Mean Reward: -68.2394663696289\n"
     ]
    },
    {
     "name": "stderr",
     "output_type": "stream",
     "text": [
      "100%|██████████| 2000/2000 [01:32<00:00, 21.56it/s]\n"
     ]
    },
    {
     "name": "stdout",
     "output_type": "stream",
     "text": [
      "Epoch 95 Mean Reward: -69.07913105010986\n"
     ]
    },
    {
     "name": "stderr",
     "output_type": "stream",
     "text": [
      "100%|██████████| 2000/2000 [01:32<00:00, 21.72it/s]\n"
     ]
    },
    {
     "name": "stdout",
     "output_type": "stream",
     "text": [
      "Epoch 96 Mean Reward: -68.66876081848145\n"
     ]
    },
    {
     "name": "stderr",
     "output_type": "stream",
     "text": [
      "100%|██████████| 2000/2000 [01:32<00:00, 21.72it/s]\n"
     ]
    },
    {
     "name": "stdout",
     "output_type": "stream",
     "text": [
      "Epoch 97 Mean Reward: -69.88316845703125\n"
     ]
    },
    {
     "name": "stderr",
     "output_type": "stream",
     "text": [
      "100%|██████████| 2000/2000 [01:32<00:00, 21.52it/s]\n"
     ]
    },
    {
     "name": "stdout",
     "output_type": "stream",
     "text": [
      "Epoch 98 Mean Reward: -68.78927138519288\n"
     ]
    },
    {
     "name": "stderr",
     "output_type": "stream",
     "text": [
      "100%|██████████| 2000/2000 [01:32<00:00, 21.64it/s]\n"
     ]
    },
    {
     "name": "stdout",
     "output_type": "stream",
     "text": [
      "Epoch 99 Mean Reward: -66.11177454376221\n"
     ]
    },
    {
     "name": "stderr",
     "output_type": "stream",
     "text": [
      "100%|██████████| 2000/2000 [01:31<00:00, 21.83it/s]\n"
     ]
    },
    {
     "name": "stdout",
     "output_type": "stream",
     "text": [
      "Epoch 100 Mean Reward: -68.97166075897216\n",
      "Epoch 100 Model saved to ./checkpoints/deadly_corridor.ckpt\n",
      "Epoch 100 test with depth buffer:\n",
      "Test Episode 1 Reward: 74.130126953125\n",
      "Test Episode 2 Reward: 47.93217468261719\n",
      "Test Episode 3 Reward: -33.39179992675781\n",
      "Test Episode 4 Reward: 74.130126953125\n",
      "Test Episode 5 Reward: 74.130126953125\n",
      "Test Episode 6 Reward: 85.49685668945312\n",
      "Test Episode 7 Reward: 85.88615417480469\n",
      "Test Episode 8 Reward: 70.1273193359375\n",
      "Test Episode 9 Reward: 74.130126953125\n",
      "Test Episode 10 Reward: 262.3621368408203\n",
      "Average Test Reward (with depth buffer:) 81.4933349609375\n",
      "Epoch 100 test without depth buffer:\n",
      "Test Episode 1 Reward: 18.407928466796875\n",
      "Test Episode 2 Reward: 18.407928466796875\n",
      "Test Episode 3 Reward: 82.08808898925781\n",
      "Test Episode 4 Reward: 18.407928466796875\n",
      "Test Episode 5 Reward: 18.407928466796875\n",
      "Test Episode 6 Reward: 18.407928466796875\n",
      "Test Episode 7 Reward: 18.407928466796875\n",
      "Test Episode 8 Reward: -36.23326110839844\n",
      "Test Episode 9 Reward: -27.696945190429688\n",
      "Test Episode 10 Reward: 18.407928466796875\n",
      "Average Test Reward (without depth buffer): 14.701338195800782\n"
     ]
    },
    {
     "name": "stderr",
     "output_type": "stream",
     "text": [
      "100%|██████████| 2000/2000 [01:31<00:00, 21.80it/s]\n"
     ]
    },
    {
     "name": "stdout",
     "output_type": "stream",
     "text": [
      "Epoch 101 Mean Reward: -68.78725482177734\n"
     ]
    },
    {
     "name": "stderr",
     "output_type": "stream",
     "text": [
      "100%|██████████| 2000/2000 [01:32<00:00, 21.72it/s]\n"
     ]
    },
    {
     "name": "stdout",
     "output_type": "stream",
     "text": [
      "Epoch 102 Mean Reward: -69.19259749603272\n"
     ]
    },
    {
     "name": "stderr",
     "output_type": "stream",
     "text": [
      "100%|██████████| 2000/2000 [01:32<00:00, 21.73it/s]\n"
     ]
    },
    {
     "name": "stdout",
     "output_type": "stream",
     "text": [
      "Epoch 103 Mean Reward: -66.6386382598877\n"
     ]
    },
    {
     "name": "stderr",
     "output_type": "stream",
     "text": [
      "100%|██████████| 2000/2000 [01:31<00:00, 21.77it/s]\n"
     ]
    },
    {
     "name": "stdout",
     "output_type": "stream",
     "text": [
      "Epoch 104 Mean Reward: -68.79679183197021\n"
     ]
    },
    {
     "name": "stderr",
     "output_type": "stream",
     "text": [
      "100%|██████████| 2000/2000 [01:32<00:00, 21.58it/s]\n"
     ]
    },
    {
     "name": "stdout",
     "output_type": "stream",
     "text": [
      "Epoch 105 Mean Reward: -67.4124828414917\n"
     ]
    },
    {
     "name": "stderr",
     "output_type": "stream",
     "text": [
      "100%|██████████| 2000/2000 [01:32<00:00, 21.61it/s]\n"
     ]
    },
    {
     "name": "stdout",
     "output_type": "stream",
     "text": [
      "Epoch 106 Mean Reward: -67.92575073242188\n"
     ]
    },
    {
     "name": "stderr",
     "output_type": "stream",
     "text": [
      "100%|██████████| 2000/2000 [01:32<00:00, 21.53it/s]\n"
     ]
    },
    {
     "name": "stdout",
     "output_type": "stream",
     "text": [
      "Epoch 107 Mean Reward: -68.4958189239502\n"
     ]
    },
    {
     "name": "stderr",
     "output_type": "stream",
     "text": [
      "100%|██████████| 2000/2000 [01:32<00:00, 21.53it/s]\n"
     ]
    },
    {
     "name": "stdout",
     "output_type": "stream",
     "text": [
      "Epoch 108 Mean Reward: -68.11510194396973\n"
     ]
    },
    {
     "name": "stderr",
     "output_type": "stream",
     "text": [
      "100%|██████████| 2000/2000 [01:31<00:00, 21.81it/s]\n"
     ]
    },
    {
     "name": "stdout",
     "output_type": "stream",
     "text": [
      "Epoch 109 Mean Reward: -70.6740124053955\n"
     ]
    },
    {
     "name": "stderr",
     "output_type": "stream",
     "text": [
      "100%|██████████| 2000/2000 [01:33<00:00, 21.50it/s]\n"
     ]
    },
    {
     "name": "stdout",
     "output_type": "stream",
     "text": [
      "Epoch 110 Mean Reward: -69.0802898864746\n"
     ]
    },
    {
     "name": "stderr",
     "output_type": "stream",
     "text": [
      "100%|██████████| 2000/2000 [01:33<00:00, 21.49it/s]\n"
     ]
    },
    {
     "name": "stdout",
     "output_type": "stream",
     "text": [
      "Epoch 111 Mean Reward: -68.45460022735595\n"
     ]
    },
    {
     "name": "stderr",
     "output_type": "stream",
     "text": [
      "100%|██████████| 2000/2000 [01:31<00:00, 21.74it/s]\n"
     ]
    },
    {
     "name": "stdout",
     "output_type": "stream",
     "text": [
      "Epoch 112 Mean Reward: -70.26265335845947\n"
     ]
    },
    {
     "name": "stderr",
     "output_type": "stream",
     "text": [
      "100%|██████████| 2000/2000 [01:32<00:00, 21.55it/s]\n"
     ]
    },
    {
     "name": "stdout",
     "output_type": "stream",
     "text": [
      "Epoch 113 Mean Reward: -69.29335558319092\n"
     ]
    },
    {
     "name": "stderr",
     "output_type": "stream",
     "text": [
      "100%|██████████| 2000/2000 [01:32<00:00, 21.71it/s]\n"
     ]
    },
    {
     "name": "stdout",
     "output_type": "stream",
     "text": [
      "Epoch 114 Mean Reward: -69.153035446167\n"
     ]
    },
    {
     "name": "stderr",
     "output_type": "stream",
     "text": [
      "100%|██████████| 2000/2000 [01:32<00:00, 21.60it/s]\n"
     ]
    },
    {
     "name": "stdout",
     "output_type": "stream",
     "text": [
      "Epoch 115 Mean Reward: -69.68707434844971\n"
     ]
    },
    {
     "name": "stderr",
     "output_type": "stream",
     "text": [
      "100%|██████████| 2000/2000 [01:32<00:00, 21.72it/s]\n"
     ]
    },
    {
     "name": "stdout",
     "output_type": "stream",
     "text": [
      "Epoch 116 Mean Reward: -67.21255345153808\n"
     ]
    },
    {
     "name": "stderr",
     "output_type": "stream",
     "text": [
      "100%|██████████| 2000/2000 [01:32<00:00, 21.53it/s]\n"
     ]
    },
    {
     "name": "stdout",
     "output_type": "stream",
     "text": [
      "Epoch 117 Mean Reward: -67.53516345214844\n"
     ]
    },
    {
     "name": "stderr",
     "output_type": "stream",
     "text": [
      "100%|██████████| 2000/2000 [01:32<00:00, 21.66it/s]\n"
     ]
    },
    {
     "name": "stdout",
     "output_type": "stream",
     "text": [
      "Epoch 118 Mean Reward: -66.79406520843506\n"
     ]
    },
    {
     "name": "stderr",
     "output_type": "stream",
     "text": [
      "100%|██████████| 2000/2000 [01:32<00:00, 21.71it/s]\n"
     ]
    },
    {
     "name": "stdout",
     "output_type": "stream",
     "text": [
      "Epoch 119 Mean Reward: -68.70361431884766\n"
     ]
    },
    {
     "name": "stderr",
     "output_type": "stream",
     "text": [
      "100%|██████████| 2000/2000 [01:32<00:00, 21.59it/s]\n"
     ]
    },
    {
     "name": "stdout",
     "output_type": "stream",
     "text": [
      "Epoch 120 Mean Reward: -66.68904273223878\n",
      "Epoch 120 Model saved to ./checkpoints/deadly_corridor.ckpt\n",
      "Epoch 120 test with depth buffer:\n",
      "Test Episode 1 Reward: 202.76834106445312\n",
      "Test Episode 2 Reward: 263.58642578125\n",
      "Test Episode 3 Reward: -21.12054443359375\n",
      "Test Episode 4 Reward: 202.76834106445312\n",
      "Test Episode 5 Reward: 13.861114501953125\n",
      "Test Episode 6 Reward: 202.76834106445312\n",
      "Test Episode 7 Reward: 245.865966796875\n",
      "Test Episode 8 Reward: 202.76834106445312\n",
      "Test Episode 9 Reward: 202.76834106445312\n",
      "Test Episode 10 Reward: 202.76834106445312\n",
      "Average Test Reward (with depth buffer:) 171.88030090332032\n",
      "Epoch 120 test without depth buffer:\n",
      "Test Episode 1 Reward: 82.88076782226562\n",
      "Test Episode 2 Reward: -7.3395538330078125\n",
      "Test Episode 3 Reward: -17.788818359375\n",
      "Test Episode 4 Reward: -19.690414428710938\n",
      "Test Episode 5 Reward: 16.842254638671875\n",
      "Test Episode 6 Reward: 16.842254638671875\n",
      "Test Episode 7 Reward: 182.30369567871094\n",
      "Test Episode 8 Reward: 170.25440979003906\n",
      "Test Episode 9 Reward: 12.60638427734375\n",
      "Test Episode 10 Reward: 130.4900665283203\n",
      "Average Test Reward (without depth buffer): 56.74010467529297\n"
     ]
    },
    {
     "name": "stderr",
     "output_type": "stream",
     "text": [
      "100%|██████████| 2000/2000 [01:32<00:00, 21.51it/s]\n"
     ]
    },
    {
     "name": "stdout",
     "output_type": "stream",
     "text": [
      "Epoch 121 Mean Reward: -66.63986041259766\n"
     ]
    },
    {
     "name": "stderr",
     "output_type": "stream",
     "text": [
      "100%|██████████| 2000/2000 [01:31<00:00, 21.75it/s]\n"
     ]
    },
    {
     "name": "stdout",
     "output_type": "stream",
     "text": [
      "Epoch 122 Mean Reward: -68.68215813446045\n"
     ]
    },
    {
     "name": "stderr",
     "output_type": "stream",
     "text": [
      "100%|██████████| 2000/2000 [01:32<00:00, 21.63it/s]\n"
     ]
    },
    {
     "name": "stdout",
     "output_type": "stream",
     "text": [
      "Epoch 123 Mean Reward: -66.00277959442138\n"
     ]
    },
    {
     "name": "stderr",
     "output_type": "stream",
     "text": [
      "100%|██████████| 2000/2000 [01:32<00:00, 21.63it/s]\n"
     ]
    },
    {
     "name": "stdout",
     "output_type": "stream",
     "text": [
      "Epoch 124 Mean Reward: -67.7039894104004\n"
     ]
    },
    {
     "name": "stderr",
     "output_type": "stream",
     "text": [
      "100%|██████████| 2000/2000 [01:33<00:00, 21.35it/s]\n"
     ]
    },
    {
     "name": "stdout",
     "output_type": "stream",
     "text": [
      "Epoch 125 Mean Reward: -66.04121174621582\n"
     ]
    },
    {
     "name": "stderr",
     "output_type": "stream",
     "text": [
      "100%|██████████| 2000/2000 [01:32<00:00, 21.54it/s]\n"
     ]
    },
    {
     "name": "stdout",
     "output_type": "stream",
     "text": [
      "Epoch 126 Mean Reward: -68.76510559844971\n"
     ]
    },
    {
     "name": "stderr",
     "output_type": "stream",
     "text": [
      "100%|██████████| 2000/2000 [01:31<00:00, 21.75it/s]\n"
     ]
    },
    {
     "name": "stdout",
     "output_type": "stream",
     "text": [
      "Epoch 127 Mean Reward: -67.99772305297851\n"
     ]
    },
    {
     "name": "stderr",
     "output_type": "stream",
     "text": [
      "100%|██████████| 2000/2000 [01:31<00:00, 21.85it/s]\n"
     ]
    },
    {
     "name": "stdout",
     "output_type": "stream",
     "text": [
      "Epoch 128 Mean Reward: -67.9171911239624\n"
     ]
    },
    {
     "name": "stderr",
     "output_type": "stream",
     "text": [
      "100%|██████████| 2000/2000 [01:32<00:00, 21.69it/s]\n"
     ]
    },
    {
     "name": "stdout",
     "output_type": "stream",
     "text": [
      "Epoch 129 Mean Reward: -68.70655006408691\n"
     ]
    },
    {
     "name": "stderr",
     "output_type": "stream",
     "text": [
      "100%|██████████| 2000/2000 [01:32<00:00, 21.61it/s]\n"
     ]
    },
    {
     "name": "stdout",
     "output_type": "stream",
     "text": [
      "Epoch 130 Mean Reward: -67.98623014068603\n"
     ]
    },
    {
     "name": "stderr",
     "output_type": "stream",
     "text": [
      "100%|██████████| 2000/2000 [01:32<00:00, 21.69it/s]\n"
     ]
    },
    {
     "name": "stdout",
     "output_type": "stream",
     "text": [
      "Epoch 131 Mean Reward: -68.80373809814454\n"
     ]
    },
    {
     "name": "stderr",
     "output_type": "stream",
     "text": [
      "100%|██████████| 2000/2000 [01:32<00:00, 21.65it/s]\n"
     ]
    },
    {
     "name": "stdout",
     "output_type": "stream",
     "text": [
      "Epoch 132 Mean Reward: -68.8050369644165\n"
     ]
    },
    {
     "name": "stderr",
     "output_type": "stream",
     "text": [
      "100%|██████████| 2000/2000 [01:32<00:00, 21.53it/s]\n"
     ]
    },
    {
     "name": "stdout",
     "output_type": "stream",
     "text": [
      "Epoch 133 Mean Reward: -67.4446954574585\n"
     ]
    },
    {
     "name": "stderr",
     "output_type": "stream",
     "text": [
      "100%|██████████| 2000/2000 [01:32<00:00, 21.57it/s]\n"
     ]
    },
    {
     "name": "stdout",
     "output_type": "stream",
     "text": [
      "Epoch 134 Mean Reward: -68.8522548828125\n"
     ]
    },
    {
     "name": "stderr",
     "output_type": "stream",
     "text": [
      "100%|██████████| 2000/2000 [01:32<00:00, 21.69it/s]\n"
     ]
    },
    {
     "name": "stdout",
     "output_type": "stream",
     "text": [
      "Epoch 135 Mean Reward: -66.8094433517456\n"
     ]
    },
    {
     "name": "stderr",
     "output_type": "stream",
     "text": [
      "100%|██████████| 2000/2000 [01:31<00:00, 21.79it/s]\n"
     ]
    },
    {
     "name": "stdout",
     "output_type": "stream",
     "text": [
      "Epoch 136 Mean Reward: -68.79095175933838\n"
     ]
    },
    {
     "name": "stderr",
     "output_type": "stream",
     "text": [
      "100%|██████████| 2000/2000 [01:31<00:00, 21.83it/s]\n"
     ]
    },
    {
     "name": "stdout",
     "output_type": "stream",
     "text": [
      "Epoch 137 Mean Reward: -66.66077460479737\n"
     ]
    },
    {
     "name": "stderr",
     "output_type": "stream",
     "text": [
      "100%|██████████| 2000/2000 [01:31<00:00, 21.76it/s]\n"
     ]
    },
    {
     "name": "stdout",
     "output_type": "stream",
     "text": [
      "Epoch 138 Mean Reward: -70.91633780670166\n"
     ]
    },
    {
     "name": "stderr",
     "output_type": "stream",
     "text": [
      "100%|██████████| 2000/2000 [01:31<00:00, 21.77it/s]\n"
     ]
    },
    {
     "name": "stdout",
     "output_type": "stream",
     "text": [
      "Epoch 139 Mean Reward: -68.91928708648682\n"
     ]
    },
    {
     "name": "stderr",
     "output_type": "stream",
     "text": [
      "100%|██████████| 2000/2000 [01:31<00:00, 21.90it/s]\n"
     ]
    },
    {
     "name": "stdout",
     "output_type": "stream",
     "text": [
      "Epoch 140 Mean Reward: -67.8981473236084\n",
      "Epoch 140 Model saved to ./checkpoints/deadly_corridor.ckpt\n",
      "Epoch 140 test with depth buffer:\n",
      "Test Episode 1 Reward: 303.7802429199219\n",
      "Test Episode 2 Reward: 154.46669006347656\n",
      "Test Episode 3 Reward: 154.46669006347656\n",
      "Test Episode 4 Reward: 154.46669006347656\n",
      "Test Episode 5 Reward: 154.46669006347656\n",
      "Test Episode 6 Reward: 154.46669006347656\n",
      "Test Episode 7 Reward: 109.0374755859375\n",
      "Test Episode 8 Reward: 94.04307556152344\n",
      "Test Episode 9 Reward: 154.46669006347656\n",
      "Test Episode 10 Reward: -30.23468017578125\n",
      "Average Test Reward (with depth buffer:) 140.3426254272461\n",
      "Epoch 140 test without depth buffer:\n",
      "Test Episode 1 Reward: -27.279693603515625\n",
      "Test Episode 2 Reward: 111.32199096679688\n",
      "Test Episode 3 Reward: -29.371261596679688\n",
      "Test Episode 4 Reward: 111.32199096679688\n",
      "Test Episode 5 Reward: 111.32199096679688\n",
      "Test Episode 6 Reward: 111.32199096679688\n",
      "Test Episode 7 Reward: 111.32199096679688\n",
      "Test Episode 8 Reward: 111.32199096679688\n",
      "Test Episode 9 Reward: -99.33975219726562\n",
      "Test Episode 10 Reward: -36.94219970703125\n",
      "Average Test Reward (without depth buffer): 47.49990386962891\n"
     ]
    },
    {
     "name": "stderr",
     "output_type": "stream",
     "text": [
      "100%|██████████| 2000/2000 [01:32<00:00, 21.55it/s]\n"
     ]
    },
    {
     "name": "stdout",
     "output_type": "stream",
     "text": [
      "Epoch 141 Mean Reward: -67.69900074768067\n"
     ]
    },
    {
     "name": "stderr",
     "output_type": "stream",
     "text": [
      "100%|██████████| 2000/2000 [01:32<00:00, 21.63it/s]\n"
     ]
    },
    {
     "name": "stdout",
     "output_type": "stream",
     "text": [
      "Epoch 142 Mean Reward: -67.74404962921143\n"
     ]
    },
    {
     "name": "stderr",
     "output_type": "stream",
     "text": [
      "100%|██████████| 2000/2000 [01:33<00:00, 21.49it/s]\n"
     ]
    },
    {
     "name": "stdout",
     "output_type": "stream",
     "text": [
      "Epoch 143 Mean Reward: -68.37077710723877\n"
     ]
    },
    {
     "name": "stderr",
     "output_type": "stream",
     "text": [
      "100%|██████████| 2000/2000 [01:32<00:00, 21.72it/s]\n"
     ]
    },
    {
     "name": "stdout",
     "output_type": "stream",
     "text": [
      "Epoch 144 Mean Reward: -66.63714044189453\n"
     ]
    },
    {
     "name": "stderr",
     "output_type": "stream",
     "text": [
      "100%|██████████| 2000/2000 [01:31<00:00, 21.78it/s]\n"
     ]
    },
    {
     "name": "stdout",
     "output_type": "stream",
     "text": [
      "Epoch 145 Mean Reward: -66.55131575775147\n"
     ]
    },
    {
     "name": "stderr",
     "output_type": "stream",
     "text": [
      "100%|██████████| 2000/2000 [01:31<00:00, 21.75it/s]\n"
     ]
    },
    {
     "name": "stdout",
     "output_type": "stream",
     "text": [
      "Epoch 146 Mean Reward: -68.52134126281739\n"
     ]
    },
    {
     "name": "stderr",
     "output_type": "stream",
     "text": [
      "100%|██████████| 2000/2000 [01:31<00:00, 21.79it/s]\n"
     ]
    },
    {
     "name": "stdout",
     "output_type": "stream",
     "text": [
      "Epoch 147 Mean Reward: -68.75133708953858\n"
     ]
    },
    {
     "name": "stderr",
     "output_type": "stream",
     "text": [
      "100%|██████████| 2000/2000 [01:31<00:00, 21.78it/s]\n"
     ]
    },
    {
     "name": "stdout",
     "output_type": "stream",
     "text": [
      "Epoch 148 Mean Reward: -68.12024773406982\n"
     ]
    },
    {
     "name": "stderr",
     "output_type": "stream",
     "text": [
      "100%|██████████| 2000/2000 [01:32<00:00, 21.73it/s]\n"
     ]
    },
    {
     "name": "stdout",
     "output_type": "stream",
     "text": [
      "Epoch 149 Mean Reward: -67.47473664093017\n"
     ]
    },
    {
     "name": "stderr",
     "output_type": "stream",
     "text": [
      "100%|██████████| 2000/2000 [01:32<00:00, 21.54it/s]\n"
     ]
    },
    {
     "name": "stdout",
     "output_type": "stream",
     "text": [
      "Epoch 150 Mean Reward: -68.59917261505127\n"
     ]
    },
    {
     "name": "stderr",
     "output_type": "stream",
     "text": [
      "100%|██████████| 2000/2000 [01:32<00:00, 21.65it/s]\n"
     ]
    },
    {
     "name": "stdout",
     "output_type": "stream",
     "text": [
      "Epoch 151 Mean Reward: -69.6433690109253\n"
     ]
    },
    {
     "name": "stderr",
     "output_type": "stream",
     "text": [
      "100%|██████████| 2000/2000 [01:32<00:00, 21.56it/s]\n"
     ]
    },
    {
     "name": "stdout",
     "output_type": "stream",
     "text": [
      "Epoch 152 Mean Reward: -67.66923049926758\n"
     ]
    },
    {
     "name": "stderr",
     "output_type": "stream",
     "text": [
      "100%|██████████| 2000/2000 [01:33<00:00, 21.49it/s]\n"
     ]
    },
    {
     "name": "stdout",
     "output_type": "stream",
     "text": [
      "Epoch 153 Mean Reward: -66.60605596160889\n"
     ]
    },
    {
     "name": "stderr",
     "output_type": "stream",
     "text": [
      "100%|██████████| 2000/2000 [01:32<00:00, 21.57it/s]\n"
     ]
    },
    {
     "name": "stdout",
     "output_type": "stream",
     "text": [
      "Epoch 154 Mean Reward: -69.74818204498291\n"
     ]
    },
    {
     "name": "stderr",
     "output_type": "stream",
     "text": [
      "100%|██████████| 2000/2000 [01:32<00:00, 21.66it/s]\n"
     ]
    },
    {
     "name": "stdout",
     "output_type": "stream",
     "text": [
      "Epoch 155 Mean Reward: -72.15481113433837\n"
     ]
    },
    {
     "name": "stderr",
     "output_type": "stream",
     "text": [
      "100%|██████████| 2000/2000 [01:32<00:00, 21.73it/s]\n"
     ]
    },
    {
     "name": "stdout",
     "output_type": "stream",
     "text": [
      "Epoch 156 Mean Reward: -68.522107421875\n"
     ]
    },
    {
     "name": "stderr",
     "output_type": "stream",
     "text": [
      "100%|██████████| 2000/2000 [01:32<00:00, 21.60it/s]\n"
     ]
    },
    {
     "name": "stdout",
     "output_type": "stream",
     "text": [
      "Epoch 157 Mean Reward: -68.31739118957519\n"
     ]
    },
    {
     "name": "stderr",
     "output_type": "stream",
     "text": [
      "100%|██████████| 2000/2000 [01:32<00:00, 21.58it/s]\n"
     ]
    },
    {
     "name": "stdout",
     "output_type": "stream",
     "text": [
      "Epoch 158 Mean Reward: -68.4215991821289\n"
     ]
    },
    {
     "name": "stderr",
     "output_type": "stream",
     "text": [
      "100%|██████████| 2000/2000 [01:32<00:00, 21.55it/s]\n"
     ]
    },
    {
     "name": "stdout",
     "output_type": "stream",
     "text": [
      "Epoch 159 Mean Reward: -70.1356321182251\n"
     ]
    },
    {
     "name": "stderr",
     "output_type": "stream",
     "text": [
      "100%|██████████| 2000/2000 [01:32<00:00, 21.64it/s]\n"
     ]
    },
    {
     "name": "stdout",
     "output_type": "stream",
     "text": [
      "Epoch 160 Mean Reward: -69.37020346832276\n",
      "Epoch 160 Model saved to ./checkpoints/deadly_corridor.ckpt\n",
      "Epoch 160 test with depth buffer:\n",
      "Test Episode 1 Reward: 43.50311279296875\n",
      "Test Episode 2 Reward: -64.87741088867188\n",
      "Test Episode 3 Reward: 43.50311279296875\n",
      "Test Episode 4 Reward: 198.6910858154297\n",
      "Test Episode 5 Reward: 43.50311279296875\n",
      "Test Episode 6 Reward: 43.50311279296875\n",
      "Test Episode 7 Reward: 43.50311279296875\n",
      "Test Episode 8 Reward: 43.50311279296875\n",
      "Test Episode 9 Reward: -33.58808898925781\n",
      "Test Episode 10 Reward: 81.25273132324219\n",
      "Average Test Reward (with depth buffer:) 44.249699401855466\n",
      "Epoch 160 test without depth buffer:\n",
      "Test Episode 1 Reward: 151.0391387939453\n",
      "Test Episode 2 Reward: 151.0391387939453\n",
      "Test Episode 3 Reward: -7.8167572021484375\n",
      "Test Episode 4 Reward: 151.0391387939453\n",
      "Test Episode 5 Reward: 151.0391387939453\n",
      "Test Episode 6 Reward: 151.0391387939453\n",
      "Test Episode 7 Reward: 151.0391387939453\n",
      "Test Episode 8 Reward: 151.0391387939453\n",
      "Test Episode 9 Reward: 151.0391387939453\n",
      "Test Episode 10 Reward: 214.0623779296875\n",
      "Average Test Reward (without depth buffer): 141.45587310791015\n"
     ]
    },
    {
     "name": "stderr",
     "output_type": "stream",
     "text": [
      "100%|██████████| 2000/2000 [01:32<00:00, 21.52it/s]\n"
     ]
    },
    {
     "name": "stdout",
     "output_type": "stream",
     "text": [
      "Epoch 161 Mean Reward: -66.85625447082519\n"
     ]
    },
    {
     "name": "stderr",
     "output_type": "stream",
     "text": [
      "100%|██████████| 2000/2000 [01:33<00:00, 21.48it/s]\n"
     ]
    },
    {
     "name": "stdout",
     "output_type": "stream",
     "text": [
      "Epoch 162 Mean Reward: -68.4946446685791\n"
     ]
    },
    {
     "name": "stderr",
     "output_type": "stream",
     "text": [
      "100%|██████████| 2000/2000 [01:32<00:00, 21.68it/s]\n"
     ]
    },
    {
     "name": "stdout",
     "output_type": "stream",
     "text": [
      "Epoch 163 Mean Reward: -66.1844164352417\n"
     ]
    },
    {
     "name": "stderr",
     "output_type": "stream",
     "text": [
      "100%|██████████| 2000/2000 [01:32<00:00, 21.56it/s]\n"
     ]
    },
    {
     "name": "stdout",
     "output_type": "stream",
     "text": [
      "Epoch 164 Mean Reward: -67.73945596313476\n"
     ]
    },
    {
     "name": "stderr",
     "output_type": "stream",
     "text": [
      "100%|██████████| 2000/2000 [01:32<00:00, 21.58it/s]\n"
     ]
    },
    {
     "name": "stdout",
     "output_type": "stream",
     "text": [
      "Epoch 165 Mean Reward: -70.856711227417\n"
     ]
    },
    {
     "name": "stderr",
     "output_type": "stream",
     "text": [
      "100%|██████████| 2000/2000 [01:33<00:00, 21.39it/s]\n"
     ]
    },
    {
     "name": "stdout",
     "output_type": "stream",
     "text": [
      "Epoch 166 Mean Reward: -67.557563621521\n"
     ]
    },
    {
     "name": "stderr",
     "output_type": "stream",
     "text": [
      "100%|██████████| 2000/2000 [01:33<00:00, 21.49it/s]\n"
     ]
    },
    {
     "name": "stdout",
     "output_type": "stream",
     "text": [
      "Epoch 167 Mean Reward: -68.46169747924804\n"
     ]
    },
    {
     "name": "stderr",
     "output_type": "stream",
     "text": [
      "100%|██████████| 2000/2000 [01:33<00:00, 21.43it/s]\n"
     ]
    },
    {
     "name": "stdout",
     "output_type": "stream",
     "text": [
      "Epoch 168 Mean Reward: -66.03375082397461\n"
     ]
    },
    {
     "name": "stderr",
     "output_type": "stream",
     "text": [
      "100%|██████████| 2000/2000 [01:33<00:00, 21.35it/s]\n"
     ]
    },
    {
     "name": "stdout",
     "output_type": "stream",
     "text": [
      "Epoch 169 Mean Reward: -65.30990522003174\n"
     ]
    },
    {
     "name": "stderr",
     "output_type": "stream",
     "text": [
      "100%|██████████| 2000/2000 [01:33<00:00, 21.31it/s]\n"
     ]
    },
    {
     "name": "stdout",
     "output_type": "stream",
     "text": [
      "Epoch 170 Mean Reward: -66.54423419952393\n"
     ]
    },
    {
     "name": "stderr",
     "output_type": "stream",
     "text": [
      "100%|██████████| 2000/2000 [01:34<00:00, 21.19it/s]\n"
     ]
    },
    {
     "name": "stdout",
     "output_type": "stream",
     "text": [
      "Epoch 171 Mean Reward: -68.49418176269532\n"
     ]
    },
    {
     "name": "stderr",
     "output_type": "stream",
     "text": [
      "100%|██████████| 2000/2000 [01:34<00:00, 21.23it/s]\n"
     ]
    },
    {
     "name": "stdout",
     "output_type": "stream",
     "text": [
      "Epoch 172 Mean Reward: -69.49437005615235\n"
     ]
    },
    {
     "name": "stderr",
     "output_type": "stream",
     "text": [
      "100%|██████████| 2000/2000 [01:34<00:00, 21.21it/s]\n"
     ]
    },
    {
     "name": "stdout",
     "output_type": "stream",
     "text": [
      "Epoch 173 Mean Reward: -67.30139949035645\n"
     ]
    },
    {
     "name": "stderr",
     "output_type": "stream",
     "text": [
      "100%|██████████| 2000/2000 [01:34<00:00, 21.21it/s]\n"
     ]
    },
    {
     "name": "stdout",
     "output_type": "stream",
     "text": [
      "Epoch 174 Mean Reward: -66.43759828186035\n"
     ]
    },
    {
     "name": "stderr",
     "output_type": "stream",
     "text": [
      "100%|██████████| 2000/2000 [01:34<00:00, 21.14it/s]\n"
     ]
    },
    {
     "name": "stdout",
     "output_type": "stream",
     "text": [
      "Epoch 175 Mean Reward: -67.15590537261963\n"
     ]
    },
    {
     "name": "stderr",
     "output_type": "stream",
     "text": [
      "100%|██████████| 2000/2000 [01:34<00:00, 21.06it/s]\n"
     ]
    },
    {
     "name": "stdout",
     "output_type": "stream",
     "text": [
      "Epoch 176 Mean Reward: -66.51130003356934\n"
     ]
    },
    {
     "name": "stderr",
     "output_type": "stream",
     "text": [
      "100%|██████████| 2000/2000 [01:34<00:00, 21.09it/s]\n"
     ]
    },
    {
     "name": "stdout",
     "output_type": "stream",
     "text": [
      "Epoch 177 Mean Reward: -65.49968392181397\n"
     ]
    },
    {
     "name": "stderr",
     "output_type": "stream",
     "text": [
      "100%|██████████| 2000/2000 [01:34<00:00, 21.07it/s]\n"
     ]
    },
    {
     "name": "stdout",
     "output_type": "stream",
     "text": [
      "Epoch 178 Mean Reward: -66.3213982849121\n"
     ]
    },
    {
     "name": "stderr",
     "output_type": "stream",
     "text": [
      "100%|██████████| 2000/2000 [01:36<00:00, 20.74it/s]\n"
     ]
    },
    {
     "name": "stdout",
     "output_type": "stream",
     "text": [
      "Epoch 179 Mean Reward: -64.26736868286133\n"
     ]
    },
    {
     "name": "stderr",
     "output_type": "stream",
     "text": [
      "100%|██████████| 2000/2000 [01:36<00:00, 20.79it/s]\n"
     ]
    },
    {
     "name": "stdout",
     "output_type": "stream",
     "text": [
      "Epoch 180 Mean Reward: -65.0023675994873\n",
      "Epoch 180 Model saved to ./checkpoints/deadly_corridor.ckpt\n",
      "Epoch 180 test with depth buffer:\n",
      "Test Episode 1 Reward: 229.08132934570312\n",
      "Test Episode 2 Reward: 166.68475341796875\n",
      "Test Episode 3 Reward: 166.68475341796875\n",
      "Test Episode 4 Reward: 128.41506958007812\n",
      "Test Episode 5 Reward: 68.56318664550781\n",
      "Test Episode 6 Reward: 126.59355163574219\n",
      "Test Episode 7 Reward: 166.68475341796875\n",
      "Test Episode 8 Reward: 219.47821044921875\n",
      "Test Episode 9 Reward: 350.2407989501953\n",
      "Test Episode 10 Reward: 12.183563232421875\n",
      "Average Test Reward (with depth buffer:) 163.46099700927735\n",
      "Epoch 180 test without depth buffer:\n",
      "Test Episode 1 Reward: 105.43763732910156\n",
      "Test Episode 2 Reward: -87.13067626953125\n",
      "Test Episode 3 Reward: 190.69406127929688\n",
      "Test Episode 4 Reward: 105.43763732910156\n",
      "Test Episode 5 Reward: 105.43763732910156\n",
      "Test Episode 6 Reward: 621.5503692626953\n",
      "Test Episode 7 Reward: 105.43763732910156\n",
      "Test Episode 8 Reward: 105.43763732910156\n",
      "Test Episode 9 Reward: 105.43763732910156\n",
      "Test Episode 10 Reward: 105.43763732910156\n",
      "Average Test Reward (without depth buffer): 146.31772155761718\n"
     ]
    },
    {
     "name": "stderr",
     "output_type": "stream",
     "text": [
      "100%|██████████| 2000/2000 [01:35<00:00, 20.96it/s]\n"
     ]
    },
    {
     "name": "stdout",
     "output_type": "stream",
     "text": [
      "Epoch 181 Mean Reward: -68.4746775817871\n"
     ]
    },
    {
     "name": "stderr",
     "output_type": "stream",
     "text": [
      "100%|██████████| 2000/2000 [01:36<00:00, 20.71it/s]\n"
     ]
    },
    {
     "name": "stdout",
     "output_type": "stream",
     "text": [
      "Epoch 182 Mean Reward: -64.49946273040771\n"
     ]
    },
    {
     "name": "stderr",
     "output_type": "stream",
     "text": [
      "100%|██████████| 2000/2000 [01:35<00:00, 20.89it/s]\n"
     ]
    },
    {
     "name": "stdout",
     "output_type": "stream",
     "text": [
      "Epoch 183 Mean Reward: -65.32061386871338\n"
     ]
    },
    {
     "name": "stderr",
     "output_type": "stream",
     "text": [
      "100%|██████████| 2000/2000 [01:35<00:00, 20.84it/s]\n"
     ]
    },
    {
     "name": "stdout",
     "output_type": "stream",
     "text": [
      "Epoch 184 Mean Reward: -64.92079148864747\n"
     ]
    },
    {
     "name": "stderr",
     "output_type": "stream",
     "text": [
      "100%|██████████| 2000/2000 [01:37<00:00, 20.52it/s]\n"
     ]
    },
    {
     "name": "stdout",
     "output_type": "stream",
     "text": [
      "Epoch 185 Mean Reward: -65.9994633102417\n"
     ]
    },
    {
     "name": "stderr",
     "output_type": "stream",
     "text": [
      "100%|██████████| 2000/2000 [01:37<00:00, 20.55it/s]\n"
     ]
    },
    {
     "name": "stdout",
     "output_type": "stream",
     "text": [
      "Epoch 186 Mean Reward: -64.25890619659424\n"
     ]
    },
    {
     "name": "stderr",
     "output_type": "stream",
     "text": [
      "100%|██████████| 2000/2000 [01:36<00:00, 20.65it/s]\n"
     ]
    },
    {
     "name": "stdout",
     "output_type": "stream",
     "text": [
      "Epoch 187 Mean Reward: -66.54925118255615\n"
     ]
    },
    {
     "name": "stderr",
     "output_type": "stream",
     "text": [
      "100%|██████████| 2000/2000 [01:37<00:00, 20.56it/s]\n"
     ]
    },
    {
     "name": "stdout",
     "output_type": "stream",
     "text": [
      "Epoch 188 Mean Reward: -63.39891191101074\n"
     ]
    },
    {
     "name": "stderr",
     "output_type": "stream",
     "text": [
      "100%|██████████| 2000/2000 [01:37<00:00, 20.50it/s]\n"
     ]
    },
    {
     "name": "stdout",
     "output_type": "stream",
     "text": [
      "Epoch 189 Mean Reward: -65.39831955718994\n"
     ]
    },
    {
     "name": "stderr",
     "output_type": "stream",
     "text": [
      "100%|██████████| 2000/2000 [01:39<00:00, 20.15it/s]\n"
     ]
    },
    {
     "name": "stdout",
     "output_type": "stream",
     "text": [
      "Epoch 190 Mean Reward: -63.0129130783081\n"
     ]
    },
    {
     "name": "stderr",
     "output_type": "stream",
     "text": [
      "100%|██████████| 2000/2000 [01:38<00:00, 20.38it/s]\n"
     ]
    },
    {
     "name": "stdout",
     "output_type": "stream",
     "text": [
      "Epoch 191 Mean Reward: -64.98956665039063\n"
     ]
    },
    {
     "name": "stderr",
     "output_type": "stream",
     "text": [
      "100%|██████████| 2000/2000 [01:38<00:00, 20.33it/s]\n"
     ]
    },
    {
     "name": "stdout",
     "output_type": "stream",
     "text": [
      "Epoch 192 Mean Reward: -62.998204582214356\n"
     ]
    },
    {
     "name": "stderr",
     "output_type": "stream",
     "text": [
      "100%|██████████| 2000/2000 [01:37<00:00, 20.49it/s]\n"
     ]
    },
    {
     "name": "stdout",
     "output_type": "stream",
     "text": [
      "Epoch 193 Mean Reward: -63.63940160369873\n"
     ]
    },
    {
     "name": "stderr",
     "output_type": "stream",
     "text": [
      "100%|██████████| 2000/2000 [01:37<00:00, 20.52it/s]\n"
     ]
    },
    {
     "name": "stdout",
     "output_type": "stream",
     "text": [
      "Epoch 194 Mean Reward: -63.99559415435791\n"
     ]
    },
    {
     "name": "stderr",
     "output_type": "stream",
     "text": [
      "100%|██████████| 2000/2000 [01:38<00:00, 20.30it/s]\n"
     ]
    },
    {
     "name": "stdout",
     "output_type": "stream",
     "text": [
      "Epoch 195 Mean Reward: -63.722767448425294\n"
     ]
    },
    {
     "name": "stderr",
     "output_type": "stream",
     "text": [
      "100%|██████████| 2000/2000 [01:38<00:00, 20.35it/s]\n"
     ]
    },
    {
     "name": "stdout",
     "output_type": "stream",
     "text": [
      "Epoch 196 Mean Reward: -66.99295331573487\n"
     ]
    },
    {
     "name": "stderr",
     "output_type": "stream",
     "text": [
      "100%|██████████| 2000/2000 [01:38<00:00, 20.33it/s]\n"
     ]
    },
    {
     "name": "stdout",
     "output_type": "stream",
     "text": [
      "Epoch 197 Mean Reward: -65.40493132781982\n"
     ]
    },
    {
     "name": "stderr",
     "output_type": "stream",
     "text": [
      "100%|██████████| 2000/2000 [01:39<00:00, 20.06it/s]\n"
     ]
    },
    {
     "name": "stdout",
     "output_type": "stream",
     "text": [
      "Epoch 198 Mean Reward: -61.75107567596436\n"
     ]
    },
    {
     "name": "stderr",
     "output_type": "stream",
     "text": [
      "100%|██████████| 2000/2000 [01:39<00:00, 20.04it/s]\n"
     ]
    },
    {
     "name": "stdout",
     "output_type": "stream",
     "text": [
      "Epoch 199 Mean Reward: -60.5776883392334\n"
     ]
    },
    {
     "name": "stderr",
     "output_type": "stream",
     "text": [
      "100%|██████████| 2000/2000 [01:39<00:00, 20.12it/s]\n"
     ]
    },
    {
     "name": "stdout",
     "output_type": "stream",
     "text": [
      "Epoch 200 Mean Reward: -65.00290711975097\n",
      "Epoch 200 Model saved to ./checkpoints/deadly_corridor.ckpt\n",
      "Epoch 200 test with depth buffer:\n",
      "Test Episode 1 Reward: 0.277374267578125\n",
      "Test Episode 2 Reward: 107.879638671875\n",
      "Test Episode 3 Reward: 107.879638671875\n",
      "Test Episode 4 Reward: 107.879638671875\n",
      "Test Episode 5 Reward: 107.879638671875\n",
      "Test Episode 6 Reward: 107.879638671875\n",
      "Test Episode 7 Reward: 207.0556182861328\n",
      "Test Episode 8 Reward: 107.879638671875\n",
      "Test Episode 9 Reward: -0.4499053955078125\n",
      "Test Episode 10 Reward: -107.42820739746094\n",
      "Average Test Reward (with depth buffer:) 74.67327117919922\n",
      "Epoch 200 test without depth buffer:\n",
      "Test Episode 1 Reward: -48.55039978027344\n",
      "Test Episode 2 Reward: -48.55039978027344\n",
      "Test Episode 3 Reward: -55.1602783203125\n",
      "Test Episode 4 Reward: 13.582855224609375\n",
      "Test Episode 5 Reward: -48.55039978027344\n",
      "Test Episode 6 Reward: 149.58953857421875\n",
      "Test Episode 7 Reward: -48.55039978027344\n",
      "Test Episode 8 Reward: -48.55039978027344\n",
      "Test Episode 9 Reward: -48.55039978027344\n",
      "Test Episode 10 Reward: -48.55039978027344\n",
      "Average Test Reward (without depth buffer): -23.184068298339845\n"
     ]
    },
    {
     "name": "stderr",
     "output_type": "stream",
     "text": [
      "100%|██████████| 2000/2000 [01:40<00:00, 19.99it/s]\n"
     ]
    },
    {
     "name": "stdout",
     "output_type": "stream",
     "text": [
      "Epoch 201 Mean Reward: -63.6645570526123\n"
     ]
    },
    {
     "name": "stderr",
     "output_type": "stream",
     "text": [
      "100%|██████████| 2000/2000 [01:40<00:00, 20.00it/s]\n"
     ]
    },
    {
     "name": "stdout",
     "output_type": "stream",
     "text": [
      "Epoch 202 Mean Reward: -67.24033708953857\n"
     ]
    },
    {
     "name": "stderr",
     "output_type": "stream",
     "text": [
      "100%|██████████| 2000/2000 [01:39<00:00, 20.03it/s]\n"
     ]
    },
    {
     "name": "stdout",
     "output_type": "stream",
     "text": [
      "Epoch 203 Mean Reward: -64.81917192077637\n"
     ]
    },
    {
     "name": "stderr",
     "output_type": "stream",
     "text": [
      "100%|██████████| 2000/2000 [01:40<00:00, 19.88it/s]\n"
     ]
    },
    {
     "name": "stdout",
     "output_type": "stream",
     "text": [
      "Epoch 204 Mean Reward: -63.754093788146974\n"
     ]
    },
    {
     "name": "stderr",
     "output_type": "stream",
     "text": [
      "100%|██████████| 2000/2000 [01:40<00:00, 19.83it/s]\n"
     ]
    },
    {
     "name": "stdout",
     "output_type": "stream",
     "text": [
      "Epoch 205 Mean Reward: -61.62314591217041\n"
     ]
    },
    {
     "name": "stderr",
     "output_type": "stream",
     "text": [
      "100%|██████████| 2000/2000 [01:42<00:00, 19.46it/s]\n"
     ]
    },
    {
     "name": "stdout",
     "output_type": "stream",
     "text": [
      "Epoch 206 Mean Reward: -63.218850914001465\n"
     ]
    },
    {
     "name": "stderr",
     "output_type": "stream",
     "text": [
      "100%|██████████| 2000/2000 [01:41<00:00, 19.67it/s]\n"
     ]
    },
    {
     "name": "stdout",
     "output_type": "stream",
     "text": [
      "Epoch 207 Mean Reward: -62.359063682556155\n"
     ]
    },
    {
     "name": "stderr",
     "output_type": "stream",
     "text": [
      "100%|██████████| 2000/2000 [01:41<00:00, 19.67it/s]\n"
     ]
    },
    {
     "name": "stdout",
     "output_type": "stream",
     "text": [
      "Epoch 208 Mean Reward: -62.45801731872559\n"
     ]
    },
    {
     "name": "stderr",
     "output_type": "stream",
     "text": [
      "100%|██████████| 2000/2000 [01:42<00:00, 19.60it/s]\n"
     ]
    },
    {
     "name": "stdout",
     "output_type": "stream",
     "text": [
      "Epoch 209 Mean Reward: -61.4758830871582\n"
     ]
    },
    {
     "name": "stderr",
     "output_type": "stream",
     "text": [
      "100%|██████████| 2000/2000 [01:41<00:00, 19.79it/s]\n"
     ]
    },
    {
     "name": "stdout",
     "output_type": "stream",
     "text": [
      "Epoch 210 Mean Reward: -62.499484657287596\n"
     ]
    },
    {
     "name": "stderr",
     "output_type": "stream",
     "text": [
      "100%|██████████| 2000/2000 [01:41<00:00, 19.65it/s]\n"
     ]
    },
    {
     "name": "stdout",
     "output_type": "stream",
     "text": [
      "Epoch 211 Mean Reward: -61.374601646423336\n"
     ]
    },
    {
     "name": "stderr",
     "output_type": "stream",
     "text": [
      "100%|██████████| 2000/2000 [01:42<00:00, 19.49it/s]\n"
     ]
    },
    {
     "name": "stdout",
     "output_type": "stream",
     "text": [
      "Epoch 212 Mean Reward: -61.45141177368164\n"
     ]
    },
    {
     "name": "stderr",
     "output_type": "stream",
     "text": [
      "100%|██████████| 2000/2000 [01:41<00:00, 19.66it/s]\n"
     ]
    },
    {
     "name": "stdout",
     "output_type": "stream",
     "text": [
      "Epoch 213 Mean Reward: -59.00604356384277\n"
     ]
    },
    {
     "name": "stderr",
     "output_type": "stream",
     "text": [
      "100%|██████████| 2000/2000 [01:40<00:00, 19.87it/s]\n"
     ]
    },
    {
     "name": "stdout",
     "output_type": "stream",
     "text": [
      "Epoch 214 Mean Reward: -64.04067958068848\n"
     ]
    },
    {
     "name": "stderr",
     "output_type": "stream",
     "text": [
      "100%|██████████| 2000/2000 [01:44<00:00, 19.23it/s]\n"
     ]
    },
    {
     "name": "stdout",
     "output_type": "stream",
     "text": [
      "Epoch 215 Mean Reward: -61.238729637145994\n"
     ]
    },
    {
     "name": "stderr",
     "output_type": "stream",
     "text": [
      "100%|██████████| 2000/2000 [01:42<00:00, 19.43it/s]\n"
     ]
    },
    {
     "name": "stdout",
     "output_type": "stream",
     "text": [
      "Epoch 216 Mean Reward: -60.7939395904541\n"
     ]
    },
    {
     "name": "stderr",
     "output_type": "stream",
     "text": [
      "100%|██████████| 2000/2000 [01:44<00:00, 19.18it/s]\n"
     ]
    },
    {
     "name": "stdout",
     "output_type": "stream",
     "text": [
      "Epoch 217 Mean Reward: -60.70703443908691\n"
     ]
    },
    {
     "name": "stderr",
     "output_type": "stream",
     "text": [
      "100%|██████████| 2000/2000 [01:42<00:00, 19.48it/s]\n"
     ]
    },
    {
     "name": "stdout",
     "output_type": "stream",
     "text": [
      "Epoch 218 Mean Reward: -63.71954273223877\n"
     ]
    },
    {
     "name": "stderr",
     "output_type": "stream",
     "text": [
      "100%|██████████| 2000/2000 [01:44<00:00, 19.12it/s]\n"
     ]
    },
    {
     "name": "stdout",
     "output_type": "stream",
     "text": [
      "Epoch 219 Mean Reward: -62.91332833099365\n"
     ]
    },
    {
     "name": "stderr",
     "output_type": "stream",
     "text": [
      "100%|██████████| 2000/2000 [01:44<00:00, 19.22it/s]\n"
     ]
    },
    {
     "name": "stdout",
     "output_type": "stream",
     "text": [
      "Epoch 220 Mean Reward: -61.05880884552002\n",
      "Epoch 220 Model saved to ./checkpoints/deadly_corridor.ckpt\n",
      "Epoch 220 test with depth buffer:\n",
      "Test Episode 1 Reward: -105.35275268554688\n",
      "Test Episode 2 Reward: -105.35275268554688\n",
      "Test Episode 3 Reward: -115.99516296386719\n",
      "Test Episode 4 Reward: -115.99571228027344\n",
      "Test Episode 5 Reward: -105.35275268554688\n",
      "Test Episode 6 Reward: -84.9366455078125\n",
      "Test Episode 7 Reward: -95.15119934082031\n",
      "Test Episode 8 Reward: -115.98110961914062\n",
      "Test Episode 9 Reward: -105.35275268554688\n",
      "Test Episode 10 Reward: -105.35275268554688\n",
      "Average Test Reward (with depth buffer:) -105.48235931396485\n",
      "Epoch 220 test without depth buffer:\n",
      "Test Episode 1 Reward: -96.83575439453125\n",
      "Test Episode 2 Reward: 12.138809204101562\n",
      "Test Episode 3 Reward: -20.009292602539062\n",
      "Test Episode 4 Reward: -115.99430847167969\n",
      "Test Episode 5 Reward: -21.966781616210938\n",
      "Test Episode 6 Reward: -65.02024841308594\n",
      "Test Episode 7 Reward: -20.009292602539062\n",
      "Test Episode 8 Reward: -25.962554931640625\n",
      "Test Episode 9 Reward: 44.57484436035156\n",
      "Test Episode 10 Reward: -20.009292602539062\n",
      "Average Test Reward (without depth buffer): -32.90938720703125\n"
     ]
    },
    {
     "name": "stderr",
     "output_type": "stream",
     "text": [
      "100%|██████████| 2000/2000 [01:42<00:00, 19.57it/s]\n"
     ]
    },
    {
     "name": "stdout",
     "output_type": "stream",
     "text": [
      "Epoch 221 Mean Reward: -61.56331565856934\n"
     ]
    },
    {
     "name": "stderr",
     "output_type": "stream",
     "text": [
      "100%|██████████| 2000/2000 [01:42<00:00, 19.50it/s]\n"
     ]
    },
    {
     "name": "stdout",
     "output_type": "stream",
     "text": [
      "Epoch 222 Mean Reward: -63.547259223937985\n"
     ]
    },
    {
     "name": "stderr",
     "output_type": "stream",
     "text": [
      "100%|██████████| 2000/2000 [01:43<00:00, 19.24it/s]\n"
     ]
    },
    {
     "name": "stdout",
     "output_type": "stream",
     "text": [
      "Epoch 223 Mean Reward: -62.00494775390625\n"
     ]
    },
    {
     "name": "stderr",
     "output_type": "stream",
     "text": [
      "100%|██████████| 2000/2000 [01:44<00:00, 19.20it/s]\n"
     ]
    },
    {
     "name": "stdout",
     "output_type": "stream",
     "text": [
      "Epoch 224 Mean Reward: -61.68399546051025\n"
     ]
    },
    {
     "name": "stderr",
     "output_type": "stream",
     "text": [
      "100%|██████████| 2000/2000 [01:43<00:00, 19.24it/s]\n"
     ]
    },
    {
     "name": "stdout",
     "output_type": "stream",
     "text": [
      "Epoch 225 Mean Reward: -63.40936960601807\n"
     ]
    },
    {
     "name": "stderr",
     "output_type": "stream",
     "text": [
      "100%|██████████| 2000/2000 [01:46<00:00, 18.76it/s]\n"
     ]
    },
    {
     "name": "stdout",
     "output_type": "stream",
     "text": [
      "Epoch 226 Mean Reward: -59.40645694732666\n"
     ]
    },
    {
     "name": "stderr",
     "output_type": "stream",
     "text": [
      "100%|██████████| 2000/2000 [01:44<00:00, 19.16it/s]\n"
     ]
    },
    {
     "name": "stdout",
     "output_type": "stream",
     "text": [
      "Epoch 227 Mean Reward: -60.64406677246094\n"
     ]
    },
    {
     "name": "stderr",
     "output_type": "stream",
     "text": [
      "100%|██████████| 2000/2000 [01:44<00:00, 19.05it/s]\n"
     ]
    },
    {
     "name": "stdout",
     "output_type": "stream",
     "text": [
      "Epoch 228 Mean Reward: -60.613455047607424\n"
     ]
    },
    {
     "name": "stderr",
     "output_type": "stream",
     "text": [
      "100%|██████████| 2000/2000 [01:47<00:00, 18.65it/s]\n"
     ]
    },
    {
     "name": "stdout",
     "output_type": "stream",
     "text": [
      "Epoch 229 Mean Reward: -60.83235954284668\n"
     ]
    },
    {
     "name": "stderr",
     "output_type": "stream",
     "text": [
      "100%|██████████| 2000/2000 [01:45<00:00, 19.03it/s]\n"
     ]
    },
    {
     "name": "stdout",
     "output_type": "stream",
     "text": [
      "Epoch 230 Mean Reward: -60.39495000457764\n"
     ]
    },
    {
     "name": "stderr",
     "output_type": "stream",
     "text": [
      "100%|██████████| 2000/2000 [01:45<00:00, 18.90it/s]\n"
     ]
    },
    {
     "name": "stdout",
     "output_type": "stream",
     "text": [
      "Epoch 231 Mean Reward: -61.42270530700684\n"
     ]
    },
    {
     "name": "stderr",
     "output_type": "stream",
     "text": [
      "100%|██████████| 2000/2000 [01:47<00:00, 18.63it/s]\n"
     ]
    },
    {
     "name": "stdout",
     "output_type": "stream",
     "text": [
      "Epoch 232 Mean Reward: -59.72635247039795\n"
     ]
    },
    {
     "name": "stderr",
     "output_type": "stream",
     "text": [
      "100%|██████████| 2000/2000 [01:45<00:00, 18.93it/s]\n"
     ]
    },
    {
     "name": "stdout",
     "output_type": "stream",
     "text": [
      "Epoch 233 Mean Reward: -60.23610453796387\n"
     ]
    },
    {
     "name": "stderr",
     "output_type": "stream",
     "text": [
      "100%|██████████| 2000/2000 [01:46<00:00, 18.73it/s]\n"
     ]
    },
    {
     "name": "stdout",
     "output_type": "stream",
     "text": [
      "Epoch 234 Mean Reward: -64.09212357330323\n"
     ]
    },
    {
     "name": "stderr",
     "output_type": "stream",
     "text": [
      "100%|██████████| 2000/2000 [01:46<00:00, 18.69it/s]\n"
     ]
    },
    {
     "name": "stdout",
     "output_type": "stream",
     "text": [
      "Epoch 235 Mean Reward: -59.78343519592285\n"
     ]
    },
    {
     "name": "stderr",
     "output_type": "stream",
     "text": [
      "100%|██████████| 2000/2000 [01:48<00:00, 18.51it/s]\n"
     ]
    },
    {
     "name": "stdout",
     "output_type": "stream",
     "text": [
      "Epoch 236 Mean Reward: -61.249190734863284\n"
     ]
    },
    {
     "name": "stderr",
     "output_type": "stream",
     "text": [
      "100%|██████████| 2000/2000 [01:47<00:00, 18.58it/s]\n"
     ]
    },
    {
     "name": "stdout",
     "output_type": "stream",
     "text": [
      "Epoch 237 Mean Reward: -63.24893991088867\n"
     ]
    },
    {
     "name": "stderr",
     "output_type": "stream",
     "text": [
      "100%|██████████| 2000/2000 [01:48<00:00, 18.43it/s]\n"
     ]
    },
    {
     "name": "stdout",
     "output_type": "stream",
     "text": [
      "Epoch 238 Mean Reward: -63.18143058013916\n"
     ]
    },
    {
     "name": "stderr",
     "output_type": "stream",
     "text": [
      "100%|██████████| 2000/2000 [01:44<00:00, 19.10it/s]\n"
     ]
    },
    {
     "name": "stdout",
     "output_type": "stream",
     "text": [
      "Epoch 239 Mean Reward: -62.98768832397461\n"
     ]
    },
    {
     "name": "stderr",
     "output_type": "stream",
     "text": [
      "100%|██████████| 2000/2000 [01:47<00:00, 18.59it/s]\n"
     ]
    },
    {
     "name": "stdout",
     "output_type": "stream",
     "text": [
      "Epoch 240 Mean Reward: -60.67601996612549\n",
      "Epoch 240 Model saved to ./checkpoints/deadly_corridor.ckpt\n",
      "Epoch 240 test with depth buffer:\n",
      "Test Episode 1 Reward: -115.98362731933594\n",
      "Test Episode 2 Reward: -115.98362731933594\n",
      "Test Episode 3 Reward: -115.97853088378906\n",
      "Test Episode 4 Reward: -115.98362731933594\n",
      "Test Episode 5 Reward: -115.98362731933594\n",
      "Test Episode 6 Reward: -115.98362731933594\n",
      "Test Episode 7 Reward: -115.9915771484375\n",
      "Test Episode 8 Reward: -115.98362731933594\n",
      "Test Episode 9 Reward: -115.98362731933594\n",
      "Test Episode 10 Reward: -115.98362731933594\n",
      "Average Test Reward (with depth buffer:) -115.98391265869141\n",
      "Epoch 240 test without depth buffer:\n",
      "Test Episode 1 Reward: -115.98080444335938\n",
      "Test Episode 2 Reward: -63.82661437988281\n",
      "Test Episode 3 Reward: -115.98080444335938\n",
      "Test Episode 4 Reward: -115.98080444335938\n",
      "Test Episode 5 Reward: -115.98080444335938\n",
      "Test Episode 6 Reward: -115.98080444335938\n",
      "Test Episode 7 Reward: -114.68418884277344\n",
      "Test Episode 8 Reward: -113.93577575683594\n",
      "Test Episode 9 Reward: -115.98080444335938\n",
      "Test Episode 10 Reward: -115.98080444335938\n",
      "Average Test Reward (without depth buffer): -110.43122100830078\n"
     ]
    },
    {
     "name": "stderr",
     "output_type": "stream",
     "text": [
      "100%|██████████| 2000/2000 [01:47<00:00, 18.53it/s]\n"
     ]
    },
    {
     "name": "stdout",
     "output_type": "stream",
     "text": [
      "Epoch 241 Mean Reward: -58.131127883911134\n"
     ]
    },
    {
     "name": "stderr",
     "output_type": "stream",
     "text": [
      "100%|██████████| 2000/2000 [01:47<00:00, 18.67it/s]\n"
     ]
    },
    {
     "name": "stdout",
     "output_type": "stream",
     "text": [
      "Epoch 242 Mean Reward: -60.35116173553467\n"
     ]
    },
    {
     "name": "stderr",
     "output_type": "stream",
     "text": [
      "100%|██████████| 2000/2000 [01:47<00:00, 18.58it/s]\n"
     ]
    },
    {
     "name": "stdout",
     "output_type": "stream",
     "text": [
      "Epoch 243 Mean Reward: -60.40836231994629\n"
     ]
    },
    {
     "name": "stderr",
     "output_type": "stream",
     "text": [
      "100%|██████████| 2000/2000 [01:48<00:00, 18.42it/s]\n"
     ]
    },
    {
     "name": "stdout",
     "output_type": "stream",
     "text": [
      "Epoch 244 Mean Reward: -59.8964296875\n"
     ]
    },
    {
     "name": "stderr",
     "output_type": "stream",
     "text": [
      "100%|██████████| 2000/2000 [01:48<00:00, 18.51it/s]\n"
     ]
    },
    {
     "name": "stdout",
     "output_type": "stream",
     "text": [
      "Epoch 245 Mean Reward: -61.49993939971924\n"
     ]
    },
    {
     "name": "stderr",
     "output_type": "stream",
     "text": [
      "100%|██████████| 2000/2000 [01:49<00:00, 18.30it/s]\n"
     ]
    },
    {
     "name": "stdout",
     "output_type": "stream",
     "text": [
      "Epoch 246 Mean Reward: -61.88705632019043\n"
     ]
    },
    {
     "name": "stderr",
     "output_type": "stream",
     "text": [
      "100%|██████████| 2000/2000 [01:49<00:00, 18.32it/s]\n"
     ]
    },
    {
     "name": "stdout",
     "output_type": "stream",
     "text": [
      "Epoch 247 Mean Reward: -58.30224018859863\n"
     ]
    },
    {
     "name": "stderr",
     "output_type": "stream",
     "text": [
      "100%|██████████| 2000/2000 [01:51<00:00, 17.94it/s]\n"
     ]
    },
    {
     "name": "stdout",
     "output_type": "stream",
     "text": [
      "Epoch 248 Mean Reward: -61.60915651702881\n"
     ]
    },
    {
     "name": "stderr",
     "output_type": "stream",
     "text": [
      "100%|██████████| 2000/2000 [01:49<00:00, 18.23it/s]\n"
     ]
    },
    {
     "name": "stdout",
     "output_type": "stream",
     "text": [
      "Epoch 249 Mean Reward: -59.02783688354492\n"
     ]
    },
    {
     "name": "stderr",
     "output_type": "stream",
     "text": [
      "100%|██████████| 2000/2000 [01:50<00:00, 18.07it/s]\n"
     ]
    },
    {
     "name": "stdout",
     "output_type": "stream",
     "text": [
      "Epoch 250 Mean Reward: -59.959290878295896\n"
     ]
    },
    {
     "name": "stderr",
     "output_type": "stream",
     "text": [
      "100%|██████████| 2000/2000 [01:51<00:00, 17.93it/s]\n"
     ]
    },
    {
     "name": "stdout",
     "output_type": "stream",
     "text": [
      "Epoch 251 Mean Reward: -57.71589493560791\n"
     ]
    },
    {
     "name": "stderr",
     "output_type": "stream",
     "text": [
      "100%|██████████| 2000/2000 [01:53<00:00, 17.64it/s]\n"
     ]
    },
    {
     "name": "stdout",
     "output_type": "stream",
     "text": [
      "Epoch 252 Mean Reward: -56.865543815612796\n"
     ]
    },
    {
     "name": "stderr",
     "output_type": "stream",
     "text": [
      "100%|██████████| 2000/2000 [01:53<00:00, 17.68it/s]\n"
     ]
    },
    {
     "name": "stdout",
     "output_type": "stream",
     "text": [
      "Epoch 253 Mean Reward: -53.76454808807373\n"
     ]
    },
    {
     "name": "stderr",
     "output_type": "stream",
     "text": [
      "100%|██████████| 2000/2000 [01:53<00:00, 17.69it/s]\n"
     ]
    },
    {
     "name": "stdout",
     "output_type": "stream",
     "text": [
      "Epoch 254 Mean Reward: -57.491899490356445\n"
     ]
    },
    {
     "name": "stderr",
     "output_type": "stream",
     "text": [
      "100%|██████████| 2000/2000 [01:53<00:00, 17.56it/s]\n"
     ]
    },
    {
     "name": "stdout",
     "output_type": "stream",
     "text": [
      "Epoch 255 Mean Reward: -55.64597946929932\n"
     ]
    },
    {
     "name": "stderr",
     "output_type": "stream",
     "text": [
      "100%|██████████| 2000/2000 [01:53<00:00, 17.60it/s]\n"
     ]
    },
    {
     "name": "stdout",
     "output_type": "stream",
     "text": [
      "Epoch 256 Mean Reward: -56.516880310058596\n"
     ]
    },
    {
     "name": "stderr",
     "output_type": "stream",
     "text": [
      "100%|██████████| 2000/2000 [01:56<00:00, 17.19it/s]\n"
     ]
    },
    {
     "name": "stdout",
     "output_type": "stream",
     "text": [
      "Epoch 257 Mean Reward: -54.98130168914795\n"
     ]
    },
    {
     "name": "stderr",
     "output_type": "stream",
     "text": [
      "100%|██████████| 2000/2000 [01:54<00:00, 17.53it/s]\n"
     ]
    },
    {
     "name": "stdout",
     "output_type": "stream",
     "text": [
      "Epoch 258 Mean Reward: -57.55000061035156\n"
     ]
    },
    {
     "name": "stderr",
     "output_type": "stream",
     "text": [
      "100%|██████████| 2000/2000 [01:55<00:00, 17.33it/s]\n"
     ]
    },
    {
     "name": "stdout",
     "output_type": "stream",
     "text": [
      "Epoch 259 Mean Reward: -56.61996537017822\n"
     ]
    },
    {
     "name": "stderr",
     "output_type": "stream",
     "text": [
      "100%|██████████| 2000/2000 [01:55<00:00, 17.29it/s]\n"
     ]
    },
    {
     "name": "stdout",
     "output_type": "stream",
     "text": [
      "Epoch 260 Mean Reward: -56.3652428894043\n",
      "Epoch 260 Model saved to ./checkpoints/deadly_corridor.ckpt\n",
      "Epoch 260 test with depth buffer:\n",
      "Test Episode 1 Reward: -107.32633972167969\n",
      "Test Episode 2 Reward: -107.32633972167969\n",
      "Test Episode 3 Reward: -115.99571228027344\n",
      "Test Episode 4 Reward: -107.32633972167969\n",
      "Test Episode 5 Reward: -115.97782897949219\n",
      "Test Episode 6 Reward: -107.32633972167969\n",
      "Test Episode 7 Reward: -107.32633972167969\n",
      "Test Episode 8 Reward: -115.99822998046875\n",
      "Test Episode 9 Reward: -107.32633972167969\n",
      "Test Episode 10 Reward: -107.32633972167969\n",
      "Average Test Reward (with depth buffer:) -109.92561492919921\n",
      "Epoch 260 test without depth buffer:\n",
      "Test Episode 1 Reward: -115.93446350097656\n",
      "Test Episode 2 Reward: 106.31538391113281\n",
      "Test Episode 3 Reward: 106.31538391113281\n",
      "Test Episode 4 Reward: 106.31538391113281\n",
      "Test Episode 5 Reward: 10.349075317382812\n",
      "Test Episode 6 Reward: 106.31538391113281\n",
      "Test Episode 7 Reward: -90.90228271484375\n",
      "Test Episode 8 Reward: 106.31538391113281\n",
      "Test Episode 9 Reward: -114.54815673828125\n",
      "Test Episode 10 Reward: 106.31538391113281\n",
      "Average Test Reward (without depth buffer): 32.685647583007814\n"
     ]
    },
    {
     "name": "stderr",
     "output_type": "stream",
     "text": [
      "100%|██████████| 2000/2000 [01:57<00:00, 17.04it/s]\n"
     ]
    },
    {
     "name": "stdout",
     "output_type": "stream",
     "text": [
      "Epoch 261 Mean Reward: -54.477202522277835\n"
     ]
    },
    {
     "name": "stderr",
     "output_type": "stream",
     "text": [
      "100%|██████████| 2000/2000 [01:56<00:00, 17.21it/s]\n"
     ]
    },
    {
     "name": "stdout",
     "output_type": "stream",
     "text": [
      "Epoch 262 Mean Reward: -53.44721314239502\n"
     ]
    },
    {
     "name": "stderr",
     "output_type": "stream",
     "text": [
      "100%|██████████| 2000/2000 [01:59<00:00, 16.68it/s]\n"
     ]
    },
    {
     "name": "stdout",
     "output_type": "stream",
     "text": [
      "Epoch 263 Mean Reward: -52.516200637817384\n"
     ]
    },
    {
     "name": "stderr",
     "output_type": "stream",
     "text": [
      "100%|██████████| 2000/2000 [01:59<00:00, 16.79it/s]\n"
     ]
    },
    {
     "name": "stdout",
     "output_type": "stream",
     "text": [
      "Epoch 264 Mean Reward: -54.061205001831055\n"
     ]
    },
    {
     "name": "stderr",
     "output_type": "stream",
     "text": [
      "100%|██████████| 2000/2000 [01:59<00:00, 16.80it/s]\n"
     ]
    },
    {
     "name": "stdout",
     "output_type": "stream",
     "text": [
      "Epoch 265 Mean Reward: -51.426564323425296\n"
     ]
    },
    {
     "name": "stderr",
     "output_type": "stream",
     "text": [
      "100%|██████████| 2000/2000 [01:58<00:00, 16.94it/s]\n"
     ]
    },
    {
     "name": "stdout",
     "output_type": "stream",
     "text": [
      "Epoch 266 Mean Reward: -52.829949836730954\n"
     ]
    },
    {
     "name": "stderr",
     "output_type": "stream",
     "text": [
      "100%|██████████| 2000/2000 [01:58<00:00, 16.93it/s]\n"
     ]
    },
    {
     "name": "stdout",
     "output_type": "stream",
     "text": [
      "Epoch 267 Mean Reward: -53.34785851287842\n"
     ]
    },
    {
     "name": "stderr",
     "output_type": "stream",
     "text": [
      "100%|██████████| 2000/2000 [01:57<00:00, 17.01it/s]\n"
     ]
    },
    {
     "name": "stdout",
     "output_type": "stream",
     "text": [
      "Epoch 268 Mean Reward: -55.769765403747556\n"
     ]
    },
    {
     "name": "stderr",
     "output_type": "stream",
     "text": [
      "100%|██████████| 2000/2000 [01:58<00:00, 16.86it/s]\n"
     ]
    },
    {
     "name": "stdout",
     "output_type": "stream",
     "text": [
      "Epoch 269 Mean Reward: -53.83731065368652\n"
     ]
    },
    {
     "name": "stderr",
     "output_type": "stream",
     "text": [
      "100%|██████████| 2000/2000 [01:58<00:00, 16.89it/s]\n"
     ]
    },
    {
     "name": "stdout",
     "output_type": "stream",
     "text": [
      "Epoch 270 Mean Reward: -53.313349235534666\n"
     ]
    },
    {
     "name": "stderr",
     "output_type": "stream",
     "text": [
      "100%|██████████| 2000/2000 [01:58<00:00, 16.84it/s]\n"
     ]
    },
    {
     "name": "stdout",
     "output_type": "stream",
     "text": [
      "Epoch 271 Mean Reward: -54.78732972717285\n"
     ]
    },
    {
     "name": "stderr",
     "output_type": "stream",
     "text": [
      "100%|██████████| 2000/2000 [01:56<00:00, 17.15it/s]\n"
     ]
    },
    {
     "name": "stdout",
     "output_type": "stream",
     "text": [
      "Epoch 272 Mean Reward: -56.753385787963865\n"
     ]
    },
    {
     "name": "stderr",
     "output_type": "stream",
     "text": [
      "100%|██████████| 2000/2000 [01:56<00:00, 17.23it/s]\n"
     ]
    },
    {
     "name": "stdout",
     "output_type": "stream",
     "text": [
      "Epoch 273 Mean Reward: -57.92283155059815\n"
     ]
    },
    {
     "name": "stderr",
     "output_type": "stream",
     "text": [
      "100%|██████████| 2000/2000 [01:57<00:00, 17.01it/s]\n"
     ]
    },
    {
     "name": "stdout",
     "output_type": "stream",
     "text": [
      "Epoch 274 Mean Reward: -58.26067984008789\n"
     ]
    },
    {
     "name": "stderr",
     "output_type": "stream",
     "text": [
      "100%|██████████| 2000/2000 [01:58<00:00, 16.83it/s]\n"
     ]
    },
    {
     "name": "stdout",
     "output_type": "stream",
     "text": [
      "Epoch 275 Mean Reward: -54.75757514190674\n"
     ]
    },
    {
     "name": "stderr",
     "output_type": "stream",
     "text": [
      "100%|██████████| 2000/2000 [01:57<00:00, 17.06it/s]\n"
     ]
    },
    {
     "name": "stdout",
     "output_type": "stream",
     "text": [
      "Epoch 276 Mean Reward: -60.209455039978025\n"
     ]
    },
    {
     "name": "stderr",
     "output_type": "stream",
     "text": [
      "100%|██████████| 2000/2000 [01:58<00:00, 16.84it/s]\n"
     ]
    },
    {
     "name": "stdout",
     "output_type": "stream",
     "text": [
      "Epoch 277 Mean Reward: -50.323615913391116\n"
     ]
    },
    {
     "name": "stderr",
     "output_type": "stream",
     "text": [
      "100%|██████████| 2000/2000 [01:56<00:00, 17.23it/s]\n"
     ]
    },
    {
     "name": "stdout",
     "output_type": "stream",
     "text": [
      "Epoch 278 Mean Reward: -56.672457344055175\n"
     ]
    },
    {
     "name": "stderr",
     "output_type": "stream",
     "text": [
      "100%|██████████| 2000/2000 [01:57<00:00, 17.07it/s]\n"
     ]
    },
    {
     "name": "stdout",
     "output_type": "stream",
     "text": [
      "Epoch 279 Mean Reward: -57.4029818649292\n"
     ]
    },
    {
     "name": "stderr",
     "output_type": "stream",
     "text": [
      "100%|██████████| 2000/2000 [01:56<00:00, 17.09it/s]\n"
     ]
    },
    {
     "name": "stdout",
     "output_type": "stream",
     "text": [
      "Epoch 280 Mean Reward: -58.27508575439453\n",
      "Epoch 280 Model saved to ./checkpoints/deadly_corridor.ckpt\n",
      "Epoch 280 test with depth buffer:\n",
      "Test Episode 1 Reward: -19.0963134765625\n",
      "Test Episode 2 Reward: 158.11082458496094\n",
      "Test Episode 3 Reward: 177.64324951171875\n",
      "Test Episode 4 Reward: -10.915679931640625\n",
      "Test Episode 5 Reward: 177.64324951171875\n",
      "Test Episode 6 Reward: 177.64324951171875\n",
      "Test Episode 7 Reward: 177.64324951171875\n",
      "Test Episode 8 Reward: 177.64324951171875\n",
      "Test Episode 9 Reward: 177.64324951171875\n",
      "Test Episode 10 Reward: 177.64324951171875\n",
      "Average Test Reward (with depth buffer:) 137.1601577758789\n",
      "Epoch 280 test without depth buffer:\n",
      "Test Episode 1 Reward: -31.689010620117188\n",
      "Test Episode 2 Reward: -31.689010620117188\n",
      "Test Episode 3 Reward: -31.689010620117188\n",
      "Test Episode 4 Reward: -75.6849365234375\n",
      "Test Episode 5 Reward: 93.94090270996094\n",
      "Test Episode 6 Reward: -21.835479736328125\n",
      "Test Episode 7 Reward: -31.689010620117188\n",
      "Test Episode 8 Reward: -94.15234375\n",
      "Test Episode 9 Reward: 155.41961669921875\n",
      "Test Episode 10 Reward: -57.75965881347656\n",
      "Average Test Reward (without depth buffer): -12.682794189453125\n"
     ]
    },
    {
     "name": "stderr",
     "output_type": "stream",
     "text": [
      "100%|██████████| 2000/2000 [01:56<00:00, 17.13it/s]\n"
     ]
    },
    {
     "name": "stdout",
     "output_type": "stream",
     "text": [
      "Epoch 281 Mean Reward: -56.532900451660154\n"
     ]
    },
    {
     "name": "stderr",
     "output_type": "stream",
     "text": [
      "100%|██████████| 2000/2000 [01:56<00:00, 17.12it/s]\n"
     ]
    },
    {
     "name": "stdout",
     "output_type": "stream",
     "text": [
      "Epoch 282 Mean Reward: -52.504502044677736\n"
     ]
    },
    {
     "name": "stderr",
     "output_type": "stream",
     "text": [
      "100%|██████████| 2000/2000 [01:57<00:00, 16.96it/s]\n"
     ]
    },
    {
     "name": "stdout",
     "output_type": "stream",
     "text": [
      "Epoch 283 Mean Reward: -53.43738317108154\n"
     ]
    },
    {
     "name": "stderr",
     "output_type": "stream",
     "text": [
      "100%|██████████| 2000/2000 [01:59<00:00, 16.76it/s]\n"
     ]
    },
    {
     "name": "stdout",
     "output_type": "stream",
     "text": [
      "Epoch 284 Mean Reward: -53.08585898590088\n"
     ]
    },
    {
     "name": "stderr",
     "output_type": "stream",
     "text": [
      "100%|██████████| 2000/2000 [01:58<00:00, 16.85it/s]\n"
     ]
    },
    {
     "name": "stdout",
     "output_type": "stream",
     "text": [
      "Epoch 285 Mean Reward: -56.19040782165527\n"
     ]
    },
    {
     "name": "stderr",
     "output_type": "stream",
     "text": [
      "100%|██████████| 2000/2000 [01:57<00:00, 17.00it/s]\n"
     ]
    },
    {
     "name": "stdout",
     "output_type": "stream",
     "text": [
      "Epoch 286 Mean Reward: -53.320627868652345\n"
     ]
    },
    {
     "name": "stderr",
     "output_type": "stream",
     "text": [
      "100%|██████████| 2000/2000 [01:58<00:00, 16.88it/s]\n"
     ]
    },
    {
     "name": "stdout",
     "output_type": "stream",
     "text": [
      "Epoch 287 Mean Reward: -49.414372436523436\n"
     ]
    },
    {
     "name": "stderr",
     "output_type": "stream",
     "text": [
      "100%|██████████| 2000/2000 [01:59<00:00, 16.74it/s]\n"
     ]
    },
    {
     "name": "stdout",
     "output_type": "stream",
     "text": [
      "Epoch 288 Mean Reward: -54.00270460510254\n"
     ]
    },
    {
     "name": "stderr",
     "output_type": "stream",
     "text": [
      "100%|██████████| 2000/2000 [02:00<00:00, 16.63it/s]\n"
     ]
    },
    {
     "name": "stdout",
     "output_type": "stream",
     "text": [
      "Epoch 289 Mean Reward: -57.34956694030762\n"
     ]
    },
    {
     "name": "stderr",
     "output_type": "stream",
     "text": [
      "100%|██████████| 2000/2000 [02:01<00:00, 16.44it/s]\n"
     ]
    },
    {
     "name": "stdout",
     "output_type": "stream",
     "text": [
      "Epoch 290 Mean Reward: -53.900897262573245\n"
     ]
    },
    {
     "name": "stderr",
     "output_type": "stream",
     "text": [
      "100%|██████████| 2000/2000 [02:01<00:00, 16.53it/s]\n"
     ]
    },
    {
     "name": "stdout",
     "output_type": "stream",
     "text": [
      "Epoch 291 Mean Reward: -52.50724626159668\n"
     ]
    },
    {
     "name": "stderr",
     "output_type": "stream",
     "text": [
      "100%|██████████| 2000/2000 [02:01<00:00, 16.44it/s]\n"
     ]
    },
    {
     "name": "stdout",
     "output_type": "stream",
     "text": [
      "Epoch 292 Mean Reward: -55.27520989990234\n"
     ]
    },
    {
     "name": "stderr",
     "output_type": "stream",
     "text": [
      "100%|██████████| 2000/2000 [02:03<00:00, 16.25it/s]\n"
     ]
    },
    {
     "name": "stdout",
     "output_type": "stream",
     "text": [
      "Epoch 293 Mean Reward: -52.86504933166504\n"
     ]
    },
    {
     "name": "stderr",
     "output_type": "stream",
     "text": [
      "100%|██████████| 2000/2000 [02:03<00:00, 16.13it/s]\n"
     ]
    },
    {
     "name": "stdout",
     "output_type": "stream",
     "text": [
      "Epoch 294 Mean Reward: -56.03011042785644\n"
     ]
    },
    {
     "name": "stderr",
     "output_type": "stream",
     "text": [
      "100%|██████████| 2000/2000 [02:03<00:00, 16.23it/s]\n"
     ]
    },
    {
     "name": "stdout",
     "output_type": "stream",
     "text": [
      "Epoch 295 Mean Reward: -50.90050199890137\n"
     ]
    },
    {
     "name": "stderr",
     "output_type": "stream",
     "text": [
      "100%|██████████| 2000/2000 [02:03<00:00, 16.16it/s]\n"
     ]
    },
    {
     "name": "stdout",
     "output_type": "stream",
     "text": [
      "Epoch 296 Mean Reward: -53.78257666778565\n"
     ]
    },
    {
     "name": "stderr",
     "output_type": "stream",
     "text": [
      "100%|██████████| 2000/2000 [02:05<00:00, 15.99it/s]\n"
     ]
    },
    {
     "name": "stdout",
     "output_type": "stream",
     "text": [
      "Epoch 297 Mean Reward: -48.42226906585693\n"
     ]
    },
    {
     "name": "stderr",
     "output_type": "stream",
     "text": [
      "100%|██████████| 2000/2000 [02:02<00:00, 16.32it/s]\n"
     ]
    },
    {
     "name": "stdout",
     "output_type": "stream",
     "text": [
      "Epoch 298 Mean Reward: -52.86192073059082\n"
     ]
    },
    {
     "name": "stderr",
     "output_type": "stream",
     "text": [
      "100%|██████████| 2000/2000 [02:03<00:00, 16.25it/s]\n"
     ]
    },
    {
     "name": "stdout",
     "output_type": "stream",
     "text": [
      "Epoch 299 Mean Reward: -51.52077778625488\n"
     ]
    },
    {
     "name": "stderr",
     "output_type": "stream",
     "text": [
      "100%|██████████| 2000/2000 [02:08<00:00, 15.54it/s]\n"
     ]
    },
    {
     "name": "stdout",
     "output_type": "stream",
     "text": [
      "Epoch 300 Mean Reward: -51.715919921875\n",
      "Epoch 300 Model saved to ./checkpoints/deadly_corridor.ckpt\n",
      "Epoch 300 test with depth buffer:\n",
      "Test Episode 1 Reward: 162.64630126953125\n",
      "Test Episode 2 Reward: 22.496612548828125\n",
      "Test Episode 3 Reward: -74.32781982421875\n",
      "Test Episode 4 Reward: -115.99824523925781\n",
      "Test Episode 5 Reward: -64.91195678710938\n",
      "Test Episode 6 Reward: 99.40730285644531\n",
      "Test Episode 7 Reward: 34.72117614746094\n",
      "Test Episode 8 Reward: 162.64630126953125\n",
      "Test Episode 9 Reward: -18.040924072265625\n",
      "Test Episode 10 Reward: 162.64630126953125\n",
      "Average Test Reward (with depth buffer:) 37.12850494384766\n",
      "Epoch 300 test without depth buffer:\n",
      "Test Episode 1 Reward: -60.093841552734375\n",
      "Test Episode 2 Reward: -65.84616088867188\n",
      "Test Episode 3 Reward: -115.97061157226562\n",
      "Test Episode 4 Reward: 25.223541259765625\n",
      "Test Episode 5 Reward: -98.33235168457031\n",
      "Test Episode 6 Reward: -10.109268188476562\n",
      "Test Episode 7 Reward: 25.223541259765625\n",
      "Test Episode 8 Reward: -45.96186828613281\n",
      "Test Episode 9 Reward: 25.223541259765625\n",
      "Test Episode 10 Reward: -95.26811218261719\n",
      "Average Test Reward (without depth buffer): -41.59115905761719\n"
     ]
    },
    {
     "name": "stderr",
     "output_type": "stream",
     "text": [
      "100%|██████████| 2000/2000 [02:05<00:00, 15.88it/s]\n"
     ]
    },
    {
     "name": "stdout",
     "output_type": "stream",
     "text": [
      "Epoch 301 Mean Reward: -51.91193663024902\n"
     ]
    },
    {
     "name": "stderr",
     "output_type": "stream",
     "text": [
      "100%|██████████| 2000/2000 [02:05<00:00, 15.88it/s]\n"
     ]
    },
    {
     "name": "stdout",
     "output_type": "stream",
     "text": [
      "Epoch 302 Mean Reward: -54.11690594482422\n"
     ]
    },
    {
     "name": "stderr",
     "output_type": "stream",
     "text": [
      "100%|██████████| 2000/2000 [02:06<00:00, 15.78it/s]\n"
     ]
    },
    {
     "name": "stdout",
     "output_type": "stream",
     "text": [
      "Epoch 303 Mean Reward: -51.81156019592285\n"
     ]
    },
    {
     "name": "stderr",
     "output_type": "stream",
     "text": [
      "100%|██████████| 2000/2000 [02:04<00:00, 16.05it/s]\n"
     ]
    },
    {
     "name": "stdout",
     "output_type": "stream",
     "text": [
      "Epoch 304 Mean Reward: -53.77712375640869\n"
     ]
    },
    {
     "name": "stderr",
     "output_type": "stream",
     "text": [
      "100%|██████████| 2000/2000 [02:05<00:00, 15.94it/s]\n"
     ]
    },
    {
     "name": "stdout",
     "output_type": "stream",
     "text": [
      "Epoch 305 Mean Reward: -50.746206260681156\n"
     ]
    },
    {
     "name": "stderr",
     "output_type": "stream",
     "text": [
      "100%|██████████| 2000/2000 [02:09<00:00, 15.40it/s]\n"
     ]
    },
    {
     "name": "stdout",
     "output_type": "stream",
     "text": [
      "Epoch 306 Mean Reward: -50.20194944763183\n"
     ]
    },
    {
     "name": "stderr",
     "output_type": "stream",
     "text": [
      "100%|██████████| 2000/2000 [02:06<00:00, 15.78it/s]\n"
     ]
    },
    {
     "name": "stdout",
     "output_type": "stream",
     "text": [
      "Epoch 307 Mean Reward: -48.092462158203126\n"
     ]
    },
    {
     "name": "stderr",
     "output_type": "stream",
     "text": [
      "100%|██████████| 2000/2000 [02:08<00:00, 15.56it/s]\n"
     ]
    },
    {
     "name": "stdout",
     "output_type": "stream",
     "text": [
      "Epoch 308 Mean Reward: -44.99289072418213\n"
     ]
    },
    {
     "name": "stderr",
     "output_type": "stream",
     "text": [
      "100%|██████████| 2000/2000 [02:08<00:00, 15.54it/s]\n"
     ]
    },
    {
     "name": "stdout",
     "output_type": "stream",
     "text": [
      "Epoch 309 Mean Reward: -48.72785301971435\n"
     ]
    },
    {
     "name": "stderr",
     "output_type": "stream",
     "text": [
      "100%|██████████| 2000/2000 [02:10<00:00, 15.29it/s]\n"
     ]
    },
    {
     "name": "stdout",
     "output_type": "stream",
     "text": [
      "Epoch 310 Mean Reward: -46.04348648071289\n"
     ]
    },
    {
     "name": "stderr",
     "output_type": "stream",
     "text": [
      "100%|██████████| 2000/2000 [02:15<00:00, 14.72it/s]\n"
     ]
    },
    {
     "name": "stdout",
     "output_type": "stream",
     "text": [
      "Epoch 311 Mean Reward: -46.85607691955566\n"
     ]
    },
    {
     "name": "stderr",
     "output_type": "stream",
     "text": [
      "100%|██████████| 2000/2000 [02:17<00:00, 14.60it/s]\n"
     ]
    },
    {
     "name": "stdout",
     "output_type": "stream",
     "text": [
      "Epoch 312 Mean Reward: -45.58286045837402\n"
     ]
    },
    {
     "name": "stderr",
     "output_type": "stream",
     "text": [
      "100%|██████████| 2000/2000 [02:21<00:00, 14.15it/s]\n"
     ]
    },
    {
     "name": "stdout",
     "output_type": "stream",
     "text": [
      "Epoch 313 Mean Reward: -46.70073419189453\n"
     ]
    },
    {
     "name": "stderr",
     "output_type": "stream",
     "text": [
      "100%|██████████| 2000/2000 [02:23<00:00, 13.96it/s]\n"
     ]
    },
    {
     "name": "stdout",
     "output_type": "stream",
     "text": [
      "Epoch 314 Mean Reward: -45.37212295532227\n"
     ]
    },
    {
     "name": "stderr",
     "output_type": "stream",
     "text": [
      "100%|██████████| 2000/2000 [02:23<00:00, 13.90it/s]\n"
     ]
    },
    {
     "name": "stdout",
     "output_type": "stream",
     "text": [
      "Epoch 315 Mean Reward: -39.58426586151123\n"
     ]
    },
    {
     "name": "stderr",
     "output_type": "stream",
     "text": [
      "100%|██████████| 2000/2000 [02:20<00:00, 14.21it/s]\n"
     ]
    },
    {
     "name": "stdout",
     "output_type": "stream",
     "text": [
      "Epoch 316 Mean Reward: -43.02480621337891\n"
     ]
    },
    {
     "name": "stderr",
     "output_type": "stream",
     "text": [
      "100%|██████████| 2000/2000 [02:23<00:00, 13.97it/s]\n"
     ]
    },
    {
     "name": "stdout",
     "output_type": "stream",
     "text": [
      "Epoch 317 Mean Reward: -42.40511608886719\n"
     ]
    },
    {
     "name": "stderr",
     "output_type": "stream",
     "text": [
      "100%|██████████| 2000/2000 [02:20<00:00, 14.26it/s]\n"
     ]
    },
    {
     "name": "stdout",
     "output_type": "stream",
     "text": [
      "Epoch 318 Mean Reward: -40.27562707519531\n"
     ]
    },
    {
     "name": "stderr",
     "output_type": "stream",
     "text": [
      "100%|██████████| 2000/2000 [02:27<00:00, 13.57it/s]\n"
     ]
    },
    {
     "name": "stdout",
     "output_type": "stream",
     "text": [
      "Epoch 319 Mean Reward: -43.83120281982422\n"
     ]
    },
    {
     "name": "stderr",
     "output_type": "stream",
     "text": [
      "100%|██████████| 2000/2000 [02:25<00:00, 13.79it/s]\n"
     ]
    },
    {
     "name": "stdout",
     "output_type": "stream",
     "text": [
      "Epoch 320 Mean Reward: -40.44348593902588\n",
      "Epoch 320 Model saved to ./checkpoints/deadly_corridor.ckpt\n",
      "Epoch 320 test with depth buffer:\n",
      "Test Episode 1 Reward: -115.9681396484375\n",
      "Test Episode 2 Reward: -115.9681396484375\n",
      "Test Episode 3 Reward: -115.9681396484375\n",
      "Test Episode 4 Reward: -100.72061157226562\n",
      "Test Episode 5 Reward: -115.99935913085938\n",
      "Test Episode 6 Reward: -115.97769165039062\n",
      "Test Episode 7 Reward: -110.18058776855469\n",
      "Test Episode 8 Reward: -43.49748229980469\n",
      "Test Episode 9 Reward: -115.9681396484375\n",
      "Test Episode 10 Reward: -115.84843444824219\n",
      "Average Test Reward (with depth buffer:) -106.60967254638672\n",
      "Epoch 320 test without depth buffer:\n",
      "Test Episode 1 Reward: -108.964111328125\n",
      "Test Episode 2 Reward: -97.82316589355469\n",
      "Test Episode 3 Reward: -108.89164733886719\n",
      "Test Episode 4 Reward: -83.95884704589844\n",
      "Test Episode 5 Reward: -59.963043212890625\n",
      "Test Episode 6 Reward: -111.44496154785156\n",
      "Test Episode 7 Reward: -108.964111328125\n",
      "Test Episode 8 Reward: -115.94293212890625\n",
      "Test Episode 9 Reward: -108.964111328125\n",
      "Test Episode 10 Reward: -108.964111328125\n",
      "Average Test Reward (without depth buffer): -101.38810424804687\n"
     ]
    },
    {
     "name": "stderr",
     "output_type": "stream",
     "text": [
      "100%|██████████| 2000/2000 [02:34<00:00, 12.95it/s]\n"
     ]
    },
    {
     "name": "stdout",
     "output_type": "stream",
     "text": [
      "Epoch 321 Mean Reward: -37.173696296691894\n"
     ]
    },
    {
     "name": "stderr",
     "output_type": "stream",
     "text": [
      "100%|██████████| 2000/2000 [02:30<00:00, 13.25it/s]\n"
     ]
    },
    {
     "name": "stdout",
     "output_type": "stream",
     "text": [
      "Epoch 322 Mean Reward: -32.45593854522705\n"
     ]
    },
    {
     "name": "stderr",
     "output_type": "stream",
     "text": [
      "100%|██████████| 2000/2000 [02:31<00:00, 13.23it/s]\n"
     ]
    },
    {
     "name": "stdout",
     "output_type": "stream",
     "text": [
      "Epoch 323 Mean Reward: -41.20036405944824\n"
     ]
    },
    {
     "name": "stderr",
     "output_type": "stream",
     "text": [
      "100%|██████████| 2000/2000 [02:28<00:00, 13.48it/s]\n"
     ]
    },
    {
     "name": "stdout",
     "output_type": "stream",
     "text": [
      "Epoch 324 Mean Reward: -33.86139321136475\n"
     ]
    },
    {
     "name": "stderr",
     "output_type": "stream",
     "text": [
      "100%|██████████| 2000/2000 [02:19<00:00, 14.34it/s]\n"
     ]
    },
    {
     "name": "stdout",
     "output_type": "stream",
     "text": [
      "Epoch 325 Mean Reward: -34.62672933197022\n"
     ]
    },
    {
     "name": "stderr",
     "output_type": "stream",
     "text": [
      "100%|██████████| 2000/2000 [02:31<00:00, 13.19it/s]\n"
     ]
    },
    {
     "name": "stdout",
     "output_type": "stream",
     "text": [
      "Epoch 326 Mean Reward: -37.783956787109375\n"
     ]
    },
    {
     "name": "stderr",
     "output_type": "stream",
     "text": [
      "100%|██████████| 2000/2000 [02:31<00:00, 13.22it/s]\n"
     ]
    },
    {
     "name": "stdout",
     "output_type": "stream",
     "text": [
      "Epoch 327 Mean Reward: -35.68038732147217\n"
     ]
    },
    {
     "name": "stderr",
     "output_type": "stream",
     "text": [
      "100%|██████████| 2000/2000 [02:32<00:00, 13.12it/s]\n"
     ]
    },
    {
     "name": "stdout",
     "output_type": "stream",
     "text": [
      "Epoch 328 Mean Reward: -39.627654739379885\n"
     ]
    },
    {
     "name": "stderr",
     "output_type": "stream",
     "text": [
      "100%|██████████| 2000/2000 [02:40<00:00, 12.49it/s]\n"
     ]
    },
    {
     "name": "stdout",
     "output_type": "stream",
     "text": [
      "Epoch 329 Mean Reward: -33.31504391479492\n"
     ]
    },
    {
     "name": "stderr",
     "output_type": "stream",
     "text": [
      "100%|██████████| 2000/2000 [02:33<00:00, 12.99it/s]\n"
     ]
    },
    {
     "name": "stdout",
     "output_type": "stream",
     "text": [
      "Epoch 330 Mean Reward: -31.97442897796631\n"
     ]
    },
    {
     "name": "stderr",
     "output_type": "stream",
     "text": [
      "100%|██████████| 2000/2000 [02:36<00:00, 12.76it/s]\n"
     ]
    },
    {
     "name": "stdout",
     "output_type": "stream",
     "text": [
      "Epoch 331 Mean Reward: -40.86308769989014\n"
     ]
    },
    {
     "name": "stderr",
     "output_type": "stream",
     "text": [
      "100%|██████████| 2000/2000 [02:33<00:00, 13.00it/s]\n"
     ]
    },
    {
     "name": "stdout",
     "output_type": "stream",
     "text": [
      "Epoch 332 Mean Reward: -40.35909720611572\n"
     ]
    },
    {
     "name": "stderr",
     "output_type": "stream",
     "text": [
      "100%|██████████| 2000/2000 [02:47<00:00, 11.91it/s]\n"
     ]
    },
    {
     "name": "stdout",
     "output_type": "stream",
     "text": [
      "Epoch 333 Mean Reward: -39.89912493133545\n"
     ]
    },
    {
     "name": "stderr",
     "output_type": "stream",
     "text": [
      "100%|██████████| 2000/2000 [02:46<00:00, 12.03it/s]\n"
     ]
    },
    {
     "name": "stdout",
     "output_type": "stream",
     "text": [
      "Epoch 334 Mean Reward: -41.47916033935547\n"
     ]
    },
    {
     "name": "stderr",
     "output_type": "stream",
     "text": [
      "100%|██████████| 2000/2000 [02:40<00:00, 12.43it/s]\n"
     ]
    },
    {
     "name": "stdout",
     "output_type": "stream",
     "text": [
      "Epoch 335 Mean Reward: -38.46663572692871\n"
     ]
    },
    {
     "name": "stderr",
     "output_type": "stream",
     "text": [
      "100%|██████████| 2000/2000 [02:47<00:00, 11.93it/s]\n"
     ]
    },
    {
     "name": "stdout",
     "output_type": "stream",
     "text": [
      "Epoch 336 Mean Reward: -32.34002338409424\n"
     ]
    },
    {
     "name": "stderr",
     "output_type": "stream",
     "text": [
      "100%|██████████| 2000/2000 [02:49<00:00, 11.82it/s]\n"
     ]
    },
    {
     "name": "stdout",
     "output_type": "stream",
     "text": [
      "Epoch 337 Mean Reward: -34.50284506225586\n"
     ]
    },
    {
     "name": "stderr",
     "output_type": "stream",
     "text": [
      "100%|██████████| 2000/2000 [02:49<00:00, 11.78it/s]\n"
     ]
    },
    {
     "name": "stdout",
     "output_type": "stream",
     "text": [
      "Epoch 338 Mean Reward: -36.78048069000244\n"
     ]
    },
    {
     "name": "stderr",
     "output_type": "stream",
     "text": [
      "100%|██████████| 2000/2000 [02:50<00:00, 11.71it/s]\n"
     ]
    },
    {
     "name": "stdout",
     "output_type": "stream",
     "text": [
      "Epoch 339 Mean Reward: -31.27611619567871\n"
     ]
    },
    {
     "name": "stderr",
     "output_type": "stream",
     "text": [
      "100%|██████████| 2000/2000 [02:41<00:00, 12.35it/s]\n"
     ]
    },
    {
     "name": "stdout",
     "output_type": "stream",
     "text": [
      "Epoch 340 Mean Reward: -34.13534005737305\n",
      "Epoch 340 Model saved to ./checkpoints/deadly_corridor.ckpt\n",
      "Epoch 340 test with depth buffer:\n",
      "Test Episode 1 Reward: 227.18809509277344\n",
      "Test Episode 2 Reward: 227.18809509277344\n",
      "Test Episode 3 Reward: -31.4718017578125\n",
      "Test Episode 4 Reward: 227.18809509277344\n",
      "Test Episode 5 Reward: 18.959793090820312\n",
      "Test Episode 6 Reward: 227.18809509277344\n",
      "Test Episode 7 Reward: 227.18809509277344\n",
      "Test Episode 8 Reward: -115.98980712890625\n",
      "Test Episode 9 Reward: 227.18809509277344\n",
      "Test Episode 10 Reward: -14.899520874023438\n",
      "Average Test Reward (with depth buffer:) 121.97272338867188\n",
      "Epoch 340 test without depth buffer:\n",
      "Test Episode 1 Reward: 270.1346130371094\n",
      "Test Episode 2 Reward: 227.56666564941406\n",
      "Test Episode 3 Reward: 68.03338623046875\n",
      "Test Episode 4 Reward: 227.56666564941406\n",
      "Test Episode 5 Reward: 227.325439453125\n",
      "Test Episode 6 Reward: 273.57151794433594\n",
      "Test Episode 7 Reward: 227.56666564941406\n",
      "Test Episode 8 Reward: 227.56666564941406\n",
      "Test Episode 9 Reward: 277.28546142578125\n",
      "Test Episode 10 Reward: 89.12283325195312\n",
      "Average Test Reward (without depth buffer): 211.57399139404296\n"
     ]
    },
    {
     "name": "stderr",
     "output_type": "stream",
     "text": [
      "100%|██████████| 2000/2000 [02:54<00:00, 11.46it/s]\n"
     ]
    },
    {
     "name": "stdout",
     "output_type": "stream",
     "text": [
      "Epoch 341 Mean Reward: -32.28550301361084\n"
     ]
    },
    {
     "name": "stderr",
     "output_type": "stream",
     "text": [
      "100%|██████████| 2000/2000 [02:38<00:00, 12.63it/s]\n"
     ]
    },
    {
     "name": "stdout",
     "output_type": "stream",
     "text": [
      "Epoch 342 Mean Reward: -36.786087936401366\n"
     ]
    },
    {
     "name": "stderr",
     "output_type": "stream",
     "text": [
      "100%|██████████| 2000/2000 [02:58<00:00, 11.20it/s]\n"
     ]
    },
    {
     "name": "stdout",
     "output_type": "stream",
     "text": [
      "Epoch 343 Mean Reward: -31.836786453247072\n"
     ]
    },
    {
     "name": "stderr",
     "output_type": "stream",
     "text": [
      "100%|██████████| 2000/2000 [02:55<00:00, 11.41it/s]\n"
     ]
    },
    {
     "name": "stdout",
     "output_type": "stream",
     "text": [
      "Epoch 344 Mean Reward: -30.671359703063963\n"
     ]
    },
    {
     "name": "stderr",
     "output_type": "stream",
     "text": [
      "100%|██████████| 2000/2000 [02:48<00:00, 11.87it/s]\n"
     ]
    },
    {
     "name": "stdout",
     "output_type": "stream",
     "text": [
      "Epoch 345 Mean Reward: -35.46156032562256\n"
     ]
    },
    {
     "name": "stderr",
     "output_type": "stream",
     "text": [
      "100%|██████████| 2000/2000 [02:54<00:00, 11.46it/s]\n"
     ]
    },
    {
     "name": "stdout",
     "output_type": "stream",
     "text": [
      "Epoch 346 Mean Reward: -31.594173240661622\n"
     ]
    },
    {
     "name": "stderr",
     "output_type": "stream",
     "text": [
      "100%|██████████| 2000/2000 [02:59<00:00, 11.12it/s]\n"
     ]
    },
    {
     "name": "stdout",
     "output_type": "stream",
     "text": [
      "Epoch 347 Mean Reward: -30.054408149719237\n"
     ]
    },
    {
     "name": "stderr",
     "output_type": "stream",
     "text": [
      "100%|██████████| 2000/2000 [02:54<00:00, 11.47it/s]\n"
     ]
    },
    {
     "name": "stdout",
     "output_type": "stream",
     "text": [
      "Epoch 348 Mean Reward: -30.506925117492674\n"
     ]
    },
    {
     "name": "stderr",
     "output_type": "stream",
     "text": [
      "100%|██████████| 2000/2000 [02:58<00:00, 11.18it/s]\n"
     ]
    },
    {
     "name": "stdout",
     "output_type": "stream",
     "text": [
      "Epoch 349 Mean Reward: -32.93300199127197\n"
     ]
    },
    {
     "name": "stderr",
     "output_type": "stream",
     "text": [
      "100%|██████████| 2000/2000 [03:01<00:00, 10.99it/s]\n"
     ]
    },
    {
     "name": "stdout",
     "output_type": "stream",
     "text": [
      "Epoch 350 Mean Reward: -31.730046607971193\n"
     ]
    },
    {
     "name": "stderr",
     "output_type": "stream",
     "text": [
      "100%|██████████| 2000/2000 [03:00<00:00, 11.06it/s]\n"
     ]
    },
    {
     "name": "stdout",
     "output_type": "stream",
     "text": [
      "Epoch 351 Mean Reward: -41.3854220199585\n"
     ]
    },
    {
     "name": "stderr",
     "output_type": "stream",
     "text": [
      "100%|██████████| 2000/2000 [02:57<00:00, 11.28it/s]\n"
     ]
    },
    {
     "name": "stdout",
     "output_type": "stream",
     "text": [
      "Epoch 352 Mean Reward: -34.51412289428711\n"
     ]
    },
    {
     "name": "stderr",
     "output_type": "stream",
     "text": [
      "100%|██████████| 2000/2000 [03:12<00:00, 10.38it/s]\n"
     ]
    },
    {
     "name": "stdout",
     "output_type": "stream",
     "text": [
      "Epoch 353 Mean Reward: -38.23271385192871\n"
     ]
    },
    {
     "name": "stderr",
     "output_type": "stream",
     "text": [
      "100%|██████████| 2000/2000 [03:07<00:00, 10.65it/s]\n"
     ]
    },
    {
     "name": "stdout",
     "output_type": "stream",
     "text": [
      "Epoch 354 Mean Reward: -37.60701826477051\n"
     ]
    },
    {
     "name": "stderr",
     "output_type": "stream",
     "text": [
      "100%|██████████| 2000/2000 [03:02<00:00, 10.98it/s]\n"
     ]
    },
    {
     "name": "stdout",
     "output_type": "stream",
     "text": [
      "Epoch 355 Mean Reward: -42.804050994873045\n"
     ]
    },
    {
     "name": "stderr",
     "output_type": "stream",
     "text": [
      "100%|██████████| 2000/2000 [03:01<00:00, 11.01it/s]\n"
     ]
    },
    {
     "name": "stdout",
     "output_type": "stream",
     "text": [
      "Epoch 356 Mean Reward: -39.29703539276123\n"
     ]
    },
    {
     "name": "stderr",
     "output_type": "stream",
     "text": [
      "100%|██████████| 2000/2000 [03:01<00:00, 11.04it/s]\n"
     ]
    },
    {
     "name": "stdout",
     "output_type": "stream",
     "text": [
      "Epoch 357 Mean Reward: -35.89434775543213\n"
     ]
    },
    {
     "name": "stderr",
     "output_type": "stream",
     "text": [
      "100%|██████████| 2000/2000 [03:01<00:00, 11.00it/s]\n"
     ]
    },
    {
     "name": "stdout",
     "output_type": "stream",
     "text": [
      "Epoch 358 Mean Reward: -37.10672873687744\n"
     ]
    },
    {
     "name": "stderr",
     "output_type": "stream",
     "text": [
      "100%|██████████| 2000/2000 [02:52<00:00, 11.58it/s]\n"
     ]
    },
    {
     "name": "stdout",
     "output_type": "stream",
     "text": [
      "Epoch 359 Mean Reward: -36.59916400909424\n"
     ]
    },
    {
     "name": "stderr",
     "output_type": "stream",
     "text": [
      "100%|██████████| 2000/2000 [02:52<00:00, 11.56it/s]\n"
     ]
    },
    {
     "name": "stdout",
     "output_type": "stream",
     "text": [
      "Epoch 360 Mean Reward: -38.56300284576416\n",
      "Epoch 360 Model saved to ./checkpoints/deadly_corridor.ckpt\n",
      "Epoch 360 test with depth buffer:\n",
      "Test Episode 1 Reward: -28.636367797851562\n",
      "Test Episode 2 Reward: -93.68292236328125\n",
      "Test Episode 3 Reward: -115.97569274902344\n",
      "Test Episode 4 Reward: -93.68292236328125\n",
      "Test Episode 5 Reward: -91.20927429199219\n",
      "Test Episode 6 Reward: -93.68292236328125\n",
      "Test Episode 7 Reward: -93.68292236328125\n",
      "Test Episode 8 Reward: -47.91654968261719\n",
      "Test Episode 9 Reward: 34.85050964355469\n",
      "Test Episode 10 Reward: -62.962432861328125\n",
      "Average Test Reward (with depth buffer:) -68.65814971923828\n",
      "Epoch 360 test without depth buffer:\n",
      "Test Episode 1 Reward: 68.34602355957031\n",
      "Test Episode 2 Reward: 50.44346618652344\n",
      "Test Episode 3 Reward: 17.84088134765625\n",
      "Test Episode 4 Reward: 50.44346618652344\n",
      "Test Episode 5 Reward: -67.98483276367188\n",
      "Test Episode 6 Reward: 50.44346618652344\n",
      "Test Episode 7 Reward: -83.145751953125\n",
      "Test Episode 8 Reward: 174.5702362060547\n",
      "Test Episode 9 Reward: 50.44346618652344\n",
      "Test Episode 10 Reward: 50.44346618652344\n",
      "Average Test Reward (without depth buffer): 36.18438873291016\n"
     ]
    },
    {
     "name": "stderr",
     "output_type": "stream",
     "text": [
      "100%|██████████| 2000/2000 [15:11<00:00,  2.19it/s]\n"
     ]
    },
    {
     "name": "stdout",
     "output_type": "stream",
     "text": [
      "Epoch 361 Mean Reward: 124.03267659759521\n"
     ]
    },
    {
     "name": "stderr",
     "output_type": "stream",
     "text": [
      "100%|██████████| 2000/2000 [19:19<00:00,  1.73it/s]\n"
     ]
    },
    {
     "name": "stdout",
     "output_type": "stream",
     "text": [
      "Epoch 362 Mean Reward: 134.53697649383545\n"
     ]
    },
    {
     "name": "stderr",
     "output_type": "stream",
     "text": [
      "100%|██████████| 2000/2000 [15:28<00:00,  2.15it/s]\n"
     ]
    },
    {
     "name": "stdout",
     "output_type": "stream",
     "text": [
      "Epoch 363 Mean Reward: 154.08721317291258\n"
     ]
    },
    {
     "name": "stderr",
     "output_type": "stream",
     "text": [
      "100%|██████████| 2000/2000 [15:16<00:00,  2.18it/s]\n"
     ]
    },
    {
     "name": "stdout",
     "output_type": "stream",
     "text": [
      "Epoch 364 Mean Reward: 168.49158350372315\n"
     ]
    },
    {
     "name": "stderr",
     "output_type": "stream",
     "text": [
      "100%|██████████| 2000/2000 [15:10<00:00,  2.20it/s]\n"
     ]
    },
    {
     "name": "stdout",
     "output_type": "stream",
     "text": [
      "Epoch 365 Mean Reward: 188.14123636627198\n"
     ]
    },
    {
     "name": "stderr",
     "output_type": "stream",
     "text": [
      "100%|██████████| 2000/2000 [14:32<00:00,  2.29it/s]\n"
     ]
    },
    {
     "name": "stdout",
     "output_type": "stream",
     "text": [
      "Epoch 366 Mean Reward: 202.0800589752197\n"
     ]
    },
    {
     "name": "stderr",
     "output_type": "stream",
     "text": [
      "100%|██████████| 2000/2000 [16:07<00:00,  2.07it/s]\n"
     ]
    },
    {
     "name": "stdout",
     "output_type": "stream",
     "text": [
      "Epoch 367 Mean Reward: 160.79930953979493\n"
     ]
    },
    {
     "name": "stderr",
     "output_type": "stream",
     "text": [
      "100%|██████████| 2000/2000 [14:02<00:00,  2.37it/s]\n"
     ]
    },
    {
     "name": "stdout",
     "output_type": "stream",
     "text": [
      "Epoch 368 Mean Reward: 194.25526551818848\n"
     ]
    },
    {
     "name": "stderr",
     "output_type": "stream",
     "text": [
      "100%|██████████| 2000/2000 [15:43<00:00,  2.12it/s]\n"
     ]
    },
    {
     "name": "stdout",
     "output_type": "stream",
     "text": [
      "Epoch 369 Mean Reward: 172.0617008743286\n"
     ]
    },
    {
     "name": "stderr",
     "output_type": "stream",
     "text": [
      "100%|██████████| 2000/2000 [15:31<00:00,  2.15it/s]\n"
     ]
    },
    {
     "name": "stdout",
     "output_type": "stream",
     "text": [
      "Epoch 370 Mean Reward: 173.76111837005615\n"
     ]
    },
    {
     "name": "stderr",
     "output_type": "stream",
     "text": [
      "100%|██████████| 2000/2000 [13:44<00:00,  2.43it/s]\n"
     ]
    },
    {
     "name": "stdout",
     "output_type": "stream",
     "text": [
      "Epoch 371 Mean Reward: 211.3187996520996\n"
     ]
    },
    {
     "name": "stderr",
     "output_type": "stream",
     "text": [
      "100%|██████████| 2000/2000 [14:15<00:00,  2.34it/s]\n"
     ]
    },
    {
     "name": "stdout",
     "output_type": "stream",
     "text": [
      "Epoch 372 Mean Reward: 196.4561019821167\n"
     ]
    },
    {
     "name": "stderr",
     "output_type": "stream",
     "text": [
      "100%|██████████| 2000/2000 [14:30<00:00,  2.30it/s]\n"
     ]
    },
    {
     "name": "stdout",
     "output_type": "stream",
     "text": [
      "Epoch 373 Mean Reward: 195.2460344848633\n"
     ]
    },
    {
     "name": "stderr",
     "output_type": "stream",
     "text": [
      "100%|██████████| 2000/2000 [12:50<00:00,  2.60it/s]\n"
     ]
    },
    {
     "name": "stdout",
     "output_type": "stream",
     "text": [
      "Epoch 374 Mean Reward: 229.2297834854126\n"
     ]
    },
    {
     "name": "stderr",
     "output_type": "stream",
     "text": [
      "100%|██████████| 2000/2000 [14:21<00:00,  2.32it/s]\n"
     ]
    },
    {
     "name": "stdout",
     "output_type": "stream",
     "text": [
      "Epoch 375 Mean Reward: 177.43141456604005\n"
     ]
    },
    {
     "name": "stderr",
     "output_type": "stream",
     "text": [
      "100%|██████████| 2000/2000 [14:16<00:00,  2.33it/s]\n"
     ]
    },
    {
     "name": "stdout",
     "output_type": "stream",
     "text": [
      "Epoch 376 Mean Reward: 208.79611656188965\n"
     ]
    },
    {
     "name": "stderr",
     "output_type": "stream",
     "text": [
      "100%|██████████| 2000/2000 [14:19<00:00,  2.33it/s]\n"
     ]
    },
    {
     "name": "stdout",
     "output_type": "stream",
     "text": [
      "Epoch 377 Mean Reward: 229.07490083312987\n"
     ]
    },
    {
     "name": "stderr",
     "output_type": "stream",
     "text": [
      "100%|██████████| 2000/2000 [14:20<00:00,  2.32it/s]\n"
     ]
    },
    {
     "name": "stdout",
     "output_type": "stream",
     "text": [
      "Epoch 378 Mean Reward: 217.75255410003663\n"
     ]
    },
    {
     "name": "stderr",
     "output_type": "stream",
     "text": [
      "100%|██████████| 2000/2000 [14:48<00:00,  2.25it/s]\n"
     ]
    },
    {
     "name": "stdout",
     "output_type": "stream",
     "text": [
      "Epoch 379 Mean Reward: 209.57873342895508\n"
     ]
    },
    {
     "name": "stderr",
     "output_type": "stream",
     "text": [
      "100%|██████████| 2000/2000 [13:36<00:00,  2.45it/s]\n"
     ]
    },
    {
     "name": "stdout",
     "output_type": "stream",
     "text": [
      "Epoch 380 Mean Reward: 234.17862949371337\n",
      "Epoch 380 Model saved to ./checkpoints/deadly_corridor.ckpt\n",
      "Epoch 380 test with depth buffer:\n",
      "Test Episode 1 Reward: -115.76071166992188\n",
      "Test Episode 2 Reward: -115.76071166992188\n",
      "Test Episode 3 Reward: -97.87606811523438\n",
      "Test Episode 4 Reward: -115.76071166992188\n",
      "Test Episode 5 Reward: -115.76071166992188\n",
      "Test Episode 6 Reward: -115.76071166992188\n",
      "Test Episode 7 Reward: -88.40705871582031\n",
      "Test Episode 8 Reward: -115.76071166992188\n",
      "Test Episode 9 Reward: 117.66700744628906\n",
      "Test Episode 10 Reward: -115.99281311035156\n",
      "Average Test Reward (with depth buffer:) -87.91732025146484\n",
      "Epoch 380 test without depth buffer:\n",
      "Test Episode 1 Reward: -81.62344360351562\n",
      "Test Episode 2 Reward: -81.62344360351562\n",
      "Test Episode 3 Reward: -81.62344360351562\n",
      "Test Episode 4 Reward: -31.420440673828125\n",
      "Test Episode 5 Reward: -81.62344360351562\n",
      "Test Episode 6 Reward: -81.62344360351562\n",
      "Test Episode 7 Reward: -71.75711059570312\n",
      "Test Episode 8 Reward: -81.62344360351562\n",
      "Test Episode 9 Reward: -81.62344360351562\n",
      "Test Episode 10 Reward: 0.4302825927734375\n",
      "Average Test Reward (without depth buffer): -67.41113739013672\n"
     ]
    },
    {
     "name": "stderr",
     "output_type": "stream",
     "text": [
      "100%|██████████| 2000/2000 [14:10<00:00,  2.35it/s]\n"
     ]
    },
    {
     "name": "stdout",
     "output_type": "stream",
     "text": [
      "Epoch 381 Mean Reward: 229.38612577056884\n"
     ]
    },
    {
     "name": "stderr",
     "output_type": "stream",
     "text": [
      "100%|██████████| 2000/2000 [15:56<00:00,  2.09it/s]\n"
     ]
    },
    {
     "name": "stdout",
     "output_type": "stream",
     "text": [
      "Epoch 382 Mean Reward: 191.10980965423585\n"
     ]
    },
    {
     "name": "stderr",
     "output_type": "stream",
     "text": [
      "100%|██████████| 2000/2000 [15:55<00:00,  2.09it/s]\n"
     ]
    },
    {
     "name": "stdout",
     "output_type": "stream",
     "text": [
      "Epoch 383 Mean Reward: 205.393241355896\n"
     ]
    },
    {
     "name": "stderr",
     "output_type": "stream",
     "text": [
      "100%|██████████| 2000/2000 [15:10<00:00,  2.20it/s]\n"
     ]
    },
    {
     "name": "stdout",
     "output_type": "stream",
     "text": [
      "Epoch 384 Mean Reward: 230.84335305786132\n"
     ]
    },
    {
     "name": "stderr",
     "output_type": "stream",
     "text": [
      "100%|██████████| 2000/2000 [16:05<00:00,  2.07it/s]\n"
     ]
    },
    {
     "name": "stdout",
     "output_type": "stream",
     "text": [
      "Epoch 385 Mean Reward: 240.69347504425048\n"
     ]
    },
    {
     "name": "stderr",
     "output_type": "stream",
     "text": [
      "100%|██████████| 2000/2000 [15:19<00:00,  2.18it/s]\n"
     ]
    },
    {
     "name": "stdout",
     "output_type": "stream",
     "text": [
      "Epoch 386 Mean Reward: 232.90324892425537\n"
     ]
    },
    {
     "name": "stderr",
     "output_type": "stream",
     "text": [
      "100%|██████████| 2000/2000 [14:46<00:00,  2.26it/s]\n"
     ]
    },
    {
     "name": "stdout",
     "output_type": "stream",
     "text": [
      "Epoch 387 Mean Reward: 228.3543370819092\n"
     ]
    },
    {
     "name": "stderr",
     "output_type": "stream",
     "text": [
      "100%|██████████| 2000/2000 [14:45<00:00,  2.26it/s]\n"
     ]
    },
    {
     "name": "stdout",
     "output_type": "stream",
     "text": [
      "Epoch 388 Mean Reward: 224.07948900604248\n"
     ]
    },
    {
     "name": "stderr",
     "output_type": "stream",
     "text": [
      "100%|██████████| 2000/2000 [15:08<00:00,  2.20it/s]\n"
     ]
    },
    {
     "name": "stdout",
     "output_type": "stream",
     "text": [
      "Epoch 389 Mean Reward: 252.94507271575927\n"
     ]
    },
    {
     "name": "stderr",
     "output_type": "stream",
     "text": [
      "100%|██████████| 2000/2000 [12:25<00:00,  2.68it/s]\n"
     ]
    },
    {
     "name": "stdout",
     "output_type": "stream",
     "text": [
      "Epoch 390 Mean Reward: 256.0786752319336\n"
     ]
    },
    {
     "name": "stderr",
     "output_type": "stream",
     "text": [
      "100%|██████████| 2000/2000 [11:51<00:00,  2.81it/s]\n"
     ]
    },
    {
     "name": "stdout",
     "output_type": "stream",
     "text": [
      "Epoch 391 Mean Reward: 244.1194331436157\n"
     ]
    },
    {
     "name": "stderr",
     "output_type": "stream",
     "text": [
      "100%|██████████| 2000/2000 [10:29<00:00,  3.18it/s]\n"
     ]
    },
    {
     "name": "stdout",
     "output_type": "stream",
     "text": [
      "Epoch 392 Mean Reward: 246.39980488586426\n"
     ]
    },
    {
     "name": "stderr",
     "output_type": "stream",
     "text": [
      "100%|██████████| 2000/2000 [09:49<00:00,  3.39it/s]\n"
     ]
    },
    {
     "name": "stdout",
     "output_type": "stream",
     "text": [
      "Epoch 393 Mean Reward: 240.81878231811524\n"
     ]
    },
    {
     "name": "stderr",
     "output_type": "stream",
     "text": [
      "100%|██████████| 2000/2000 [11:05<00:00,  3.00it/s]\n"
     ]
    },
    {
     "name": "stdout",
     "output_type": "stream",
     "text": [
      "Epoch 394 Mean Reward: 237.8986647491455\n"
     ]
    },
    {
     "name": "stderr",
     "output_type": "stream",
     "text": [
      "100%|██████████| 2000/2000 [14:07<00:00,  2.36it/s]\n"
     ]
    },
    {
     "name": "stdout",
     "output_type": "stream",
     "text": [
      "Epoch 395 Mean Reward: 272.4770442504883\n"
     ]
    },
    {
     "name": "stderr",
     "output_type": "stream",
     "text": [
      "100%|██████████| 2000/2000 [11:35<00:00,  2.88it/s]\n"
     ]
    },
    {
     "name": "stdout",
     "output_type": "stream",
     "text": [
      "Epoch 396 Mean Reward: 263.81549279785156\n"
     ]
    },
    {
     "name": "stderr",
     "output_type": "stream",
     "text": [
      "100%|██████████| 2000/2000 [11:25<00:00,  2.92it/s]\n"
     ]
    },
    {
     "name": "stdout",
     "output_type": "stream",
     "text": [
      "Epoch 397 Mean Reward: 278.55409899902344\n"
     ]
    },
    {
     "name": "stderr",
     "output_type": "stream",
     "text": [
      "100%|██████████| 2000/2000 [13:15<00:00,  2.51it/s]\n"
     ]
    },
    {
     "name": "stdout",
     "output_type": "stream",
     "text": [
      "Epoch 398 Mean Reward: 263.5747544250488\n"
     ]
    },
    {
     "name": "stderr",
     "output_type": "stream",
     "text": [
      "100%|██████████| 2000/2000 [11:17<00:00,  2.95it/s]\n"
     ]
    },
    {
     "name": "stdout",
     "output_type": "stream",
     "text": [
      "Epoch 399 Mean Reward: 292.87703024291994\n"
     ]
    },
    {
     "name": "stderr",
     "output_type": "stream",
     "text": [
      "100%|██████████| 2000/2000 [11:17<00:00,  2.95it/s]\n"
     ]
    },
    {
     "name": "stdout",
     "output_type": "stream",
     "text": [
      "Epoch 400 Mean Reward: 299.9022977294922\n",
      "Epoch 400 Model saved to ./checkpoints/deadly_corridor.ckpt\n",
      "Epoch 400 test with depth buffer:\n",
      "Test Episode 1 Reward: -21.1109619140625\n",
      "Test Episode 2 Reward: 38.007080078125\n",
      "Test Episode 3 Reward: -21.1109619140625\n",
      "Test Episode 4 Reward: -33.5538330078125\n",
      "Test Episode 5 Reward: 37.67597961425781\n",
      "Test Episode 6 Reward: -21.1109619140625\n",
      "Test Episode 7 Reward: -21.1109619140625\n",
      "Test Episode 8 Reward: -21.1109619140625\n",
      "Test Episode 9 Reward: -0.300689697265625\n",
      "Test Episode 10 Reward: 47.06463623046875\n",
      "Average Test Reward (with depth buffer:) -1.6661636352539062\n",
      "Epoch 400 test without depth buffer:\n",
      "Test Episode 1 Reward: -32.38520812988281\n",
      "Test Episode 2 Reward: 78.63236999511719\n",
      "Test Episode 3 Reward: -21.8055419921875\n",
      "Test Episode 4 Reward: -21.8055419921875\n",
      "Test Episode 5 Reward: -76.53143310546875\n",
      "Test Episode 6 Reward: 14.895767211914062\n",
      "Test Episode 7 Reward: 40.34979248046875\n",
      "Test Episode 8 Reward: -21.8055419921875\n",
      "Test Episode 9 Reward: -21.8055419921875\n",
      "Test Episode 10 Reward: -21.8055419921875\n",
      "Average Test Reward (without depth buffer): -8.406642150878906\n"
     ]
    },
    {
     "name": "stderr",
     "output_type": "stream",
     "text": [
      "100%|██████████| 2000/2000 [09:43<00:00,  3.43it/s]\n"
     ]
    },
    {
     "name": "stdout",
     "output_type": "stream",
     "text": [
      "Epoch 401 Mean Reward: 302.60671765899656\n"
     ]
    },
    {
     "name": "stderr",
     "output_type": "stream",
     "text": [
      "100%|██████████| 2000/2000 [10:30<00:00,  3.17it/s]\n"
     ]
    },
    {
     "name": "stdout",
     "output_type": "stream",
     "text": [
      "Epoch 402 Mean Reward: 322.94823712158205\n"
     ]
    },
    {
     "name": "stderr",
     "output_type": "stream",
     "text": [
      "100%|██████████| 2000/2000 [10:39<00:00,  3.13it/s]\n"
     ]
    },
    {
     "name": "stdout",
     "output_type": "stream",
     "text": [
      "Epoch 403 Mean Reward: 314.5988103103638\n"
     ]
    },
    {
     "name": "stderr",
     "output_type": "stream",
     "text": [
      "100%|██████████| 2000/2000 [11:06<00:00,  3.00it/s]\n"
     ]
    },
    {
     "name": "stdout",
     "output_type": "stream",
     "text": [
      "Epoch 404 Mean Reward: 309.755663230896\n"
     ]
    },
    {
     "name": "stderr",
     "output_type": "stream",
     "text": [
      "100%|██████████| 2000/2000 [11:58<00:00,  2.78it/s]\n"
     ]
    },
    {
     "name": "stdout",
     "output_type": "stream",
     "text": [
      "Epoch 405 Mean Reward: 319.94831172180176\n"
     ]
    },
    {
     "name": "stderr",
     "output_type": "stream",
     "text": [
      "100%|██████████| 2000/2000 [07:25<00:00,  4.49it/s]\n"
     ]
    },
    {
     "name": "stdout",
     "output_type": "stream",
     "text": [
      "Epoch 406 Mean Reward: 341.24599171447755\n"
     ]
    },
    {
     "name": "stderr",
     "output_type": "stream",
     "text": [
      "100%|██████████| 2000/2000 [10:13<00:00,  3.26it/s]\n"
     ]
    },
    {
     "name": "stdout",
     "output_type": "stream",
     "text": [
      "Epoch 407 Mean Reward: 313.3037664871216\n"
     ]
    },
    {
     "name": "stderr",
     "output_type": "stream",
     "text": [
      "100%|██████████| 2000/2000 [09:28<00:00,  3.52it/s]\n"
     ]
    },
    {
     "name": "stdout",
     "output_type": "stream",
     "text": [
      "Epoch 408 Mean Reward: 309.61315863800047\n"
     ]
    },
    {
     "name": "stderr",
     "output_type": "stream",
     "text": [
      "100%|██████████| 2000/2000 [10:05<00:00,  3.30it/s]\n"
     ]
    },
    {
     "name": "stdout",
     "output_type": "stream",
     "text": [
      "Epoch 409 Mean Reward: 331.59262954711915\n"
     ]
    },
    {
     "name": "stderr",
     "output_type": "stream",
     "text": [
      "100%|██████████| 2000/2000 [09:20<00:00,  3.57it/s]\n"
     ]
    },
    {
     "name": "stdout",
     "output_type": "stream",
     "text": [
      "Epoch 410 Mean Reward: 323.2955040435791\n"
     ]
    },
    {
     "name": "stderr",
     "output_type": "stream",
     "text": [
      "100%|██████████| 2000/2000 [13:32<00:00,  2.46it/s]\n"
     ]
    },
    {
     "name": "stdout",
     "output_type": "stream",
     "text": [
      "Epoch 411 Mean Reward: 263.04600119018556\n"
     ]
    },
    {
     "name": "stderr",
     "output_type": "stream",
     "text": [
      "100%|██████████| 2000/2000 [09:11<00:00,  3.62it/s]\n"
     ]
    },
    {
     "name": "stdout",
     "output_type": "stream",
     "text": [
      "Epoch 412 Mean Reward: 249.46563956451416\n"
     ]
    },
    {
     "name": "stderr",
     "output_type": "stream",
     "text": [
      "100%|██████████| 2000/2000 [08:35<00:00,  3.88it/s]\n"
     ]
    },
    {
     "name": "stdout",
     "output_type": "stream",
     "text": [
      "Epoch 413 Mean Reward: 275.7681996383667\n"
     ]
    },
    {
     "name": "stderr",
     "output_type": "stream",
     "text": [
      "100%|██████████| 2000/2000 [10:29<00:00,  3.18it/s]\n"
     ]
    },
    {
     "name": "stdout",
     "output_type": "stream",
     "text": [
      "Epoch 414 Mean Reward: 281.2698695220947\n"
     ]
    },
    {
     "name": "stderr",
     "output_type": "stream",
     "text": [
      "100%|██████████| 2000/2000 [17:22<00:00,  1.92it/s]\n"
     ]
    },
    {
     "name": "stdout",
     "output_type": "stream",
     "text": [
      "Epoch 415 Mean Reward: 267.1602936248779\n"
     ]
    },
    {
     "name": "stderr",
     "output_type": "stream",
     "text": [
      "100%|██████████| 2000/2000 [20:50<00:00,  1.60it/s]\n"
     ]
    },
    {
     "name": "stdout",
     "output_type": "stream",
     "text": [
      "Epoch 416 Mean Reward: 274.85457383728027\n"
     ]
    },
    {
     "name": "stderr",
     "output_type": "stream",
     "text": [
      "100%|██████████| 2000/2000 [13:48<00:00,  2.41it/s]\n"
     ]
    },
    {
     "name": "stdout",
     "output_type": "stream",
     "text": [
      "Epoch 417 Mean Reward: 259.8055206756592\n"
     ]
    },
    {
     "name": "stderr",
     "output_type": "stream",
     "text": [
      "100%|██████████| 2000/2000 [10:13<00:00,  3.26it/s]\n"
     ]
    },
    {
     "name": "stdout",
     "output_type": "stream",
     "text": [
      "Epoch 418 Mean Reward: 273.0385018615723\n"
     ]
    },
    {
     "name": "stderr",
     "output_type": "stream",
     "text": [
      "100%|██████████| 2000/2000 [08:17<00:00,  4.02it/s]\n"
     ]
    },
    {
     "name": "stdout",
     "output_type": "stream",
     "text": [
      "Epoch 419 Mean Reward: 264.89253067779543\n"
     ]
    },
    {
     "name": "stderr",
     "output_type": "stream",
     "text": [
      "100%|██████████| 2000/2000 [08:35<00:00,  3.88it/s]\n"
     ]
    },
    {
     "name": "stdout",
     "output_type": "stream",
     "text": [
      "Epoch 420 Mean Reward: 235.00939318847657\n",
      "Epoch 420 Model saved to ./checkpoints/deadly_corridor.ckpt\n",
      "Epoch 420 test with depth buffer:\n",
      "Test Episode 1 Reward: -115.99786376953125\n",
      "Test Episode 2 Reward: -115.99786376953125\n",
      "Test Episode 3 Reward: -51.98619079589844\n",
      "Test Episode 4 Reward: -115.99786376953125\n",
      "Test Episode 5 Reward: 33.94770812988281\n",
      "Test Episode 6 Reward: -115.99786376953125\n",
      "Test Episode 7 Reward: -7.3206329345703125\n",
      "Test Episode 8 Reward: -31.077804565429688\n",
      "Test Episode 9 Reward: -115.90097045898438\n",
      "Test Episode 10 Reward: -115.99786376953125\n",
      "Average Test Reward (with depth buffer:) -75.23272094726562\n",
      "Epoch 420 test without depth buffer:\n",
      "Test Episode 1 Reward: -33.81129455566406\n",
      "Test Episode 2 Reward: 176.65533447265625\n",
      "Test Episode 3 Reward: 48.74822998046875\n",
      "Test Episode 4 Reward: 23.504241943359375\n",
      "Test Episode 5 Reward: -33.168670654296875\n",
      "Test Episode 6 Reward: 127.80181884765625\n",
      "Test Episode 7 Reward: 176.65533447265625\n",
      "Test Episode 8 Reward: 176.65533447265625\n",
      "Test Episode 9 Reward: 176.65533447265625\n",
      "Test Episode 10 Reward: 69.17427062988281\n",
      "Average Test Reward (without depth buffer): 90.88699340820312\n"
     ]
    },
    {
     "name": "stderr",
     "output_type": "stream",
     "text": [
      "100%|██████████| 2000/2000 [11:20<00:00,  2.94it/s]\n"
     ]
    },
    {
     "name": "stdout",
     "output_type": "stream",
     "text": [
      "Epoch 421 Mean Reward: 308.0674987411499\n"
     ]
    },
    {
     "name": "stderr",
     "output_type": "stream",
     "text": [
      "100%|██████████| 2000/2000 [12:30<00:00,  2.67it/s]\n"
     ]
    },
    {
     "name": "stdout",
     "output_type": "stream",
     "text": [
      "Epoch 422 Mean Reward: 286.5719908981323\n"
     ]
    },
    {
     "name": "stderr",
     "output_type": "stream",
     "text": [
      "100%|██████████| 2000/2000 [12:41<00:00,  2.63it/s]\n"
     ]
    },
    {
     "name": "stdout",
     "output_type": "stream",
     "text": [
      "Epoch 423 Mean Reward: 279.53954090118407\n"
     ]
    },
    {
     "name": "stderr",
     "output_type": "stream",
     "text": [
      "100%|██████████| 2000/2000 [12:20<00:00,  2.70it/s]\n"
     ]
    },
    {
     "name": "stdout",
     "output_type": "stream",
     "text": [
      "Epoch 424 Mean Reward: 305.47732289886477\n"
     ]
    },
    {
     "name": "stderr",
     "output_type": "stream",
     "text": [
      "100%|██████████| 2000/2000 [11:22<00:00,  2.93it/s]\n"
     ]
    },
    {
     "name": "stdout",
     "output_type": "stream",
     "text": [
      "Epoch 425 Mean Reward: 305.5998751068115\n"
     ]
    },
    {
     "name": "stderr",
     "output_type": "stream",
     "text": [
      "100%|██████████| 2000/2000 [11:47<00:00,  2.83it/s]\n"
     ]
    },
    {
     "name": "stdout",
     "output_type": "stream",
     "text": [
      "Epoch 426 Mean Reward: 288.8342704696655\n"
     ]
    },
    {
     "name": "stderr",
     "output_type": "stream",
     "text": [
      "100%|██████████| 2000/2000 [12:05<00:00,  2.76it/s]\n"
     ]
    },
    {
     "name": "stdout",
     "output_type": "stream",
     "text": [
      "Epoch 427 Mean Reward: 274.78582264709473\n"
     ]
    },
    {
     "name": "stderr",
     "output_type": "stream",
     "text": [
      "100%|██████████| 2000/2000 [12:19<00:00,  2.70it/s]\n"
     ]
    },
    {
     "name": "stdout",
     "output_type": "stream",
     "text": [
      "Epoch 428 Mean Reward: 256.07055715179445\n"
     ]
    },
    {
     "name": "stderr",
     "output_type": "stream",
     "text": [
      "100%|██████████| 2000/2000 [11:31<00:00,  2.89it/s]\n"
     ]
    },
    {
     "name": "stdout",
     "output_type": "stream",
     "text": [
      "Epoch 429 Mean Reward: 288.4997194519043\n"
     ]
    },
    {
     "name": "stderr",
     "output_type": "stream",
     "text": [
      "100%|██████████| 2000/2000 [12:13<00:00,  2.73it/s]\n"
     ]
    },
    {
     "name": "stdout",
     "output_type": "stream",
     "text": [
      "Epoch 430 Mean Reward: 267.4303212738037\n"
     ]
    },
    {
     "name": "stderr",
     "output_type": "stream",
     "text": [
      "100%|██████████| 2000/2000 [11:55<00:00,  2.80it/s]\n"
     ]
    },
    {
     "name": "stdout",
     "output_type": "stream",
     "text": [
      "Epoch 431 Mean Reward: 264.8003517303467\n"
     ]
    },
    {
     "name": "stderr",
     "output_type": "stream",
     "text": [
      "100%|██████████| 2000/2000 [11:28<00:00,  2.91it/s]\n"
     ]
    },
    {
     "name": "stdout",
     "output_type": "stream",
     "text": [
      "Epoch 432 Mean Reward: 264.9190506668091\n"
     ]
    },
    {
     "name": "stderr",
     "output_type": "stream",
     "text": [
      "100%|██████████| 2000/2000 [10:29<00:00,  3.18it/s]\n"
     ]
    },
    {
     "name": "stdout",
     "output_type": "stream",
     "text": [
      "Epoch 433 Mean Reward: 224.0348708114624\n"
     ]
    },
    {
     "name": "stderr",
     "output_type": "stream",
     "text": [
      "100%|██████████| 2000/2000 [10:23<00:00,  3.21it/s]\n"
     ]
    },
    {
     "name": "stdout",
     "output_type": "stream",
     "text": [
      "Epoch 434 Mean Reward: 240.30060943603516\n"
     ]
    },
    {
     "name": "stderr",
     "output_type": "stream",
     "text": [
      "100%|██████████| 2000/2000 [10:36<00:00,  3.14it/s]\n"
     ]
    },
    {
     "name": "stdout",
     "output_type": "stream",
     "text": [
      "Epoch 435 Mean Reward: 236.00427688598631\n"
     ]
    },
    {
     "name": "stderr",
     "output_type": "stream",
     "text": [
      "100%|██████████| 2000/2000 [11:00<00:00,  3.03it/s]\n"
     ]
    },
    {
     "name": "stdout",
     "output_type": "stream",
     "text": [
      "Epoch 436 Mean Reward: 213.28240100097656\n"
     ]
    },
    {
     "name": "stderr",
     "output_type": "stream",
     "text": [
      "100%|██████████| 2000/2000 [10:59<00:00,  3.03it/s]\n"
     ]
    },
    {
     "name": "stdout",
     "output_type": "stream",
     "text": [
      "Epoch 437 Mean Reward: 220.03547235107422\n"
     ]
    },
    {
     "name": "stderr",
     "output_type": "stream",
     "text": [
      "100%|██████████| 2000/2000 [10:37<00:00,  3.13it/s]\n"
     ]
    },
    {
     "name": "stdout",
     "output_type": "stream",
     "text": [
      "Epoch 438 Mean Reward: 208.46049781799317\n"
     ]
    },
    {
     "name": "stderr",
     "output_type": "stream",
     "text": [
      "100%|██████████| 2000/2000 [11:21<00:00,  2.94it/s]\n"
     ]
    },
    {
     "name": "stdout",
     "output_type": "stream",
     "text": [
      "Epoch 439 Mean Reward: 221.2129567565918\n"
     ]
    },
    {
     "name": "stderr",
     "output_type": "stream",
     "text": [
      "100%|██████████| 2000/2000 [10:05<00:00,  3.30it/s]\n"
     ]
    },
    {
     "name": "stdout",
     "output_type": "stream",
     "text": [
      "Epoch 440 Mean Reward: 241.17954251098632\n",
      "Epoch 440 Model saved to ./checkpoints/deadly_corridor.ckpt\n",
      "Epoch 440 test with depth buffer:\n",
      "Test Episode 1 Reward: 15.849227905273438\n",
      "Test Episode 2 Reward: -65.11872863769531\n",
      "Test Episode 3 Reward: -10.825653076171875\n",
      "Test Episode 4 Reward: -110.30876159667969\n",
      "Test Episode 5 Reward: -17.440750122070312\n",
      "Test Episode 6 Reward: -10.825653076171875\n",
      "Test Episode 7 Reward: -10.825653076171875\n",
      "Test Episode 8 Reward: -70.26451110839844\n",
      "Test Episode 9 Reward: -10.825653076171875\n",
      "Test Episode 10 Reward: -10.825653076171875\n",
      "Average Test Reward (with depth buffer:) -30.14117889404297\n",
      "Epoch 440 test without depth buffer:\n",
      "Test Episode 1 Reward: -7.3447723388671875\n",
      "Test Episode 2 Reward: -7.3447723388671875\n",
      "Test Episode 3 Reward: -7.3447723388671875\n",
      "Test Episode 4 Reward: -7.3447723388671875\n",
      "Test Episode 5 Reward: -7.3447723388671875\n",
      "Test Episode 6 Reward: -99.49191284179688\n",
      "Test Episode 7 Reward: -20.468307495117188\n",
      "Test Episode 8 Reward: -42.0281982421875\n",
      "Test Episode 9 Reward: -65.46176147460938\n",
      "Test Episode 10 Reward: -7.3447723388671875\n",
      "Average Test Reward (without depth buffer): -27.151881408691406\n"
     ]
    },
    {
     "name": "stderr",
     "output_type": "stream",
     "text": [
      "100%|██████████| 2000/2000 [11:17<00:00,  2.95it/s]\n"
     ]
    },
    {
     "name": "stdout",
     "output_type": "stream",
     "text": [
      "Epoch 441 Mean Reward: 155.24367195129395\n"
     ]
    },
    {
     "name": "stderr",
     "output_type": "stream",
     "text": [
      "100%|██████████| 2000/2000 [11:13<00:00,  2.97it/s]\n"
     ]
    },
    {
     "name": "stdout",
     "output_type": "stream",
     "text": [
      "Epoch 442 Mean Reward: 126.00261769866944\n"
     ]
    },
    {
     "name": "stderr",
     "output_type": "stream",
     "text": [
      "100%|██████████| 2000/2000 [11:11<00:00,  2.98it/s]\n"
     ]
    },
    {
     "name": "stdout",
     "output_type": "stream",
     "text": [
      "Epoch 443 Mean Reward: 87.36025345611573\n"
     ]
    },
    {
     "name": "stderr",
     "output_type": "stream",
     "text": [
      "100%|██████████| 2000/2000 [10:47<00:00,  3.09it/s]\n"
     ]
    },
    {
     "name": "stdout",
     "output_type": "stream",
     "text": [
      "Epoch 444 Mean Reward: 81.53129389190674\n"
     ]
    },
    {
     "name": "stderr",
     "output_type": "stream",
     "text": [
      "100%|██████████| 2000/2000 [10:17<00:00,  3.24it/s]\n"
     ]
    },
    {
     "name": "stdout",
     "output_type": "stream",
     "text": [
      "Epoch 445 Mean Reward: 90.43902296447754\n"
     ]
    },
    {
     "name": "stderr",
     "output_type": "stream",
     "text": [
      "100%|██████████| 2000/2000 [11:00<00:00,  3.03it/s]\n"
     ]
    },
    {
     "name": "stdout",
     "output_type": "stream",
     "text": [
      "Epoch 446 Mean Reward: 79.61588945007324\n"
     ]
    },
    {
     "name": "stderr",
     "output_type": "stream",
     "text": [
      "100%|██████████| 2000/2000 [11:05<00:00,  3.00it/s]\n"
     ]
    },
    {
     "name": "stdout",
     "output_type": "stream",
     "text": [
      "Epoch 447 Mean Reward: 102.17961166381836\n"
     ]
    },
    {
     "name": "stderr",
     "output_type": "stream",
     "text": [
      "100%|██████████| 2000/2000 [11:21<00:00,  2.94it/s]\n"
     ]
    },
    {
     "name": "stdout",
     "output_type": "stream",
     "text": [
      "Epoch 448 Mean Reward: 81.85823034667969\n"
     ]
    },
    {
     "name": "stderr",
     "output_type": "stream",
     "text": [
      "100%|██████████| 2000/2000 [10:52<00:00,  3.07it/s]\n"
     ]
    },
    {
     "name": "stdout",
     "output_type": "stream",
     "text": [
      "Epoch 449 Mean Reward: 100.30754042816162\n"
     ]
    },
    {
     "name": "stderr",
     "output_type": "stream",
     "text": [
      "100%|██████████| 2000/2000 [10:19<00:00,  3.23it/s]\n"
     ]
    },
    {
     "name": "stdout",
     "output_type": "stream",
     "text": [
      "Epoch 450 Mean Reward: 92.66811157226563\n"
     ]
    },
    {
     "name": "stderr",
     "output_type": "stream",
     "text": [
      "100%|██████████| 2000/2000 [13:20<00:00,  2.50it/s]\n"
     ]
    },
    {
     "name": "stdout",
     "output_type": "stream",
     "text": [
      "Epoch 451 Mean Reward: 178.8447855606079\n"
     ]
    },
    {
     "name": "stderr",
     "output_type": "stream",
     "text": [
      "100%|██████████| 2000/2000 [12:01<00:00,  2.77it/s]\n"
     ]
    },
    {
     "name": "stdout",
     "output_type": "stream",
     "text": [
      "Epoch 452 Mean Reward: 204.33972394561766\n"
     ]
    },
    {
     "name": "stderr",
     "output_type": "stream",
     "text": [
      "100%|██████████| 2000/2000 [12:46<00:00,  2.61it/s]\n"
     ]
    },
    {
     "name": "stdout",
     "output_type": "stream",
     "text": [
      "Epoch 453 Mean Reward: 198.0420687789917\n"
     ]
    },
    {
     "name": "stderr",
     "output_type": "stream",
     "text": [
      "100%|██████████| 2000/2000 [13:30<00:00,  2.47it/s]\n"
     ]
    },
    {
     "name": "stdout",
     "output_type": "stream",
     "text": [
      "Epoch 454 Mean Reward: 200.79312117004395\n"
     ]
    },
    {
     "name": "stderr",
     "output_type": "stream",
     "text": [
      "100%|██████████| 2000/2000 [13:04<00:00,  2.55it/s]\n"
     ]
    },
    {
     "name": "stdout",
     "output_type": "stream",
     "text": [
      "Epoch 455 Mean Reward: 201.95825231170653\n"
     ]
    },
    {
     "name": "stderr",
     "output_type": "stream",
     "text": [
      "100%|██████████| 2000/2000 [12:35<00:00,  2.65it/s]\n"
     ]
    },
    {
     "name": "stdout",
     "output_type": "stream",
     "text": [
      "Epoch 456 Mean Reward: 196.3453667907715\n"
     ]
    },
    {
     "name": "stderr",
     "output_type": "stream",
     "text": [
      "100%|██████████| 2000/2000 [12:11<00:00,  2.74it/s]\n"
     ]
    },
    {
     "name": "stdout",
     "output_type": "stream",
     "text": [
      "Epoch 457 Mean Reward: 202.58700535583495\n"
     ]
    },
    {
     "name": "stderr",
     "output_type": "stream",
     "text": [
      "100%|██████████| 2000/2000 [12:26<00:00,  2.68it/s]\n"
     ]
    },
    {
     "name": "stdout",
     "output_type": "stream",
     "text": [
      "Epoch 458 Mean Reward: 175.531084815979\n"
     ]
    },
    {
     "name": "stderr",
     "output_type": "stream",
     "text": [
      "100%|██████████| 2000/2000 [12:09<00:00,  2.74it/s]\n"
     ]
    },
    {
     "name": "stdout",
     "output_type": "stream",
     "text": [
      "Epoch 459 Mean Reward: 212.04878870391846\n"
     ]
    },
    {
     "name": "stderr",
     "output_type": "stream",
     "text": [
      "100%|██████████| 2000/2000 [12:16<00:00,  2.71it/s]\n"
     ]
    },
    {
     "name": "stdout",
     "output_type": "stream",
     "text": [
      "Epoch 460 Mean Reward: 189.07512033843994\n",
      "Epoch 460 Model saved to ./checkpoints/deadly_corridor.ckpt\n",
      "Epoch 460 test with depth buffer:\n",
      "Test Episode 1 Reward: -115.97401428222656\n",
      "Test Episode 2 Reward: -115.97401428222656\n",
      "Test Episode 3 Reward: -39.65467834472656\n",
      "Test Episode 4 Reward: -62.93525695800781\n",
      "Test Episode 5 Reward: -115.97401428222656\n",
      "Test Episode 6 Reward: -115.99977111816406\n",
      "Test Episode 7 Reward: -115.97401428222656\n",
      "Test Episode 8 Reward: -115.99861145019531\n",
      "Test Episode 9 Reward: -87.49165344238281\n",
      "Test Episode 10 Reward: -115.97573852539062\n",
      "Average Test Reward (with depth buffer:) -100.19517669677734\n",
      "Epoch 460 test without depth buffer:\n",
      "Test Episode 1 Reward: -115.9757080078125\n",
      "Test Episode 2 Reward: -115.9757080078125\n",
      "Test Episode 3 Reward: -115.9757080078125\n",
      "Test Episode 4 Reward: -115.9976806640625\n",
      "Test Episode 5 Reward: -115.9757080078125\n",
      "Test Episode 6 Reward: -83.48350524902344\n",
      "Test Episode 7 Reward: -92.74786376953125\n",
      "Test Episode 8 Reward: -89.92617797851562\n",
      "Test Episode 9 Reward: -115.9757080078125\n",
      "Test Episode 10 Reward: -84.38639831542969\n",
      "Average Test Reward (without depth buffer): -104.6420166015625\n"
     ]
    },
    {
     "name": "stderr",
     "output_type": "stream",
     "text": [
      "100%|██████████| 2000/2000 [13:17<00:00,  2.51it/s]\n"
     ]
    },
    {
     "name": "stdout",
     "output_type": "stream",
     "text": [
      "Epoch 461 Mean Reward: 132.5855959701538\n"
     ]
    },
    {
     "name": "stderr",
     "output_type": "stream",
     "text": [
      "100%|██████████| 2000/2000 [14:43<00:00,  2.26it/s]\n"
     ]
    },
    {
     "name": "stdout",
     "output_type": "stream",
     "text": [
      "Epoch 462 Mean Reward: 118.55371676635743\n"
     ]
    },
    {
     "name": "stderr",
     "output_type": "stream",
     "text": [
      "100%|██████████| 2000/2000 [13:37<00:00,  2.45it/s]\n"
     ]
    },
    {
     "name": "stdout",
     "output_type": "stream",
     "text": [
      "Epoch 463 Mean Reward: 157.88871778869628\n"
     ]
    },
    {
     "name": "stderr",
     "output_type": "stream",
     "text": [
      "100%|██████████| 2000/2000 [12:35<00:00,  2.65it/s]\n"
     ]
    },
    {
     "name": "stdout",
     "output_type": "stream",
     "text": [
      "Epoch 464 Mean Reward: 162.90500527954103\n"
     ]
    },
    {
     "name": "stderr",
     "output_type": "stream",
     "text": [
      "100%|██████████| 2000/2000 [12:59<00:00,  2.57it/s]\n"
     ]
    },
    {
     "name": "stdout",
     "output_type": "stream",
     "text": [
      "Epoch 465 Mean Reward: 148.57180041503906\n"
     ]
    },
    {
     "name": "stderr",
     "output_type": "stream",
     "text": [
      "100%|██████████| 2000/2000 [13:19<00:00,  2.50it/s]\n"
     ]
    },
    {
     "name": "stdout",
     "output_type": "stream",
     "text": [
      "Epoch 466 Mean Reward: 160.00858889007569\n"
     ]
    },
    {
     "name": "stderr",
     "output_type": "stream",
     "text": [
      "100%|██████████| 2000/2000 [13:54<00:00,  2.40it/s]\n"
     ]
    },
    {
     "name": "stdout",
     "output_type": "stream",
     "text": [
      "Epoch 467 Mean Reward: 139.89876541137696\n"
     ]
    },
    {
     "name": "stderr",
     "output_type": "stream",
     "text": [
      "100%|██████████| 2000/2000 [14:56<00:00,  2.23it/s]\n"
     ]
    },
    {
     "name": "stdout",
     "output_type": "stream",
     "text": [
      "Epoch 468 Mean Reward: 134.79810341644287\n"
     ]
    },
    {
     "name": "stderr",
     "output_type": "stream",
     "text": [
      "100%|██████████| 2000/2000 [14:03<00:00,  2.37it/s]\n"
     ]
    },
    {
     "name": "stdout",
     "output_type": "stream",
     "text": [
      "Epoch 469 Mean Reward: 152.49246430206298\n"
     ]
    },
    {
     "name": "stderr",
     "output_type": "stream",
     "text": [
      "100%|██████████| 2000/2000 [14:31<00:00,  2.29it/s]\n"
     ]
    },
    {
     "name": "stdout",
     "output_type": "stream",
     "text": [
      "Epoch 470 Mean Reward: 95.7232841720581\n"
     ]
    },
    {
     "name": "stderr",
     "output_type": "stream",
     "text": [
      "100%|██████████| 2000/2000 [13:43<00:00,  2.43it/s]\n"
     ]
    },
    {
     "name": "stdout",
     "output_type": "stream",
     "text": [
      "Epoch 471 Mean Reward: 121.27880353546142\n"
     ]
    },
    {
     "name": "stderr",
     "output_type": "stream",
     "text": [
      "100%|██████████| 2000/2000 [12:54<00:00,  2.58it/s]\n"
     ]
    },
    {
     "name": "stdout",
     "output_type": "stream",
     "text": [
      "Epoch 472 Mean Reward: 120.41183261108398\n"
     ]
    },
    {
     "name": "stderr",
     "output_type": "stream",
     "text": [
      "100%|██████████| 2000/2000 [12:51<00:00,  2.59it/s]\n"
     ]
    },
    {
     "name": "stdout",
     "output_type": "stream",
     "text": [
      "Epoch 473 Mean Reward: 140.75974196624756\n"
     ]
    },
    {
     "name": "stderr",
     "output_type": "stream",
     "text": [
      "100%|██████████| 2000/2000 [17:19<00:00,  1.92it/s]\n"
     ]
    },
    {
     "name": "stdout",
     "output_type": "stream",
     "text": [
      "Epoch 474 Mean Reward: 134.98773129272462\n"
     ]
    },
    {
     "name": "stderr",
     "output_type": "stream",
     "text": [
      "100%|██████████| 2000/2000 [21:29<00:00,  1.55it/s]\n"
     ]
    },
    {
     "name": "stdout",
     "output_type": "stream",
     "text": [
      "Epoch 475 Mean Reward: 163.1095506439209\n"
     ]
    },
    {
     "name": "stderr",
     "output_type": "stream",
     "text": [
      "100%|██████████| 2000/2000 [15:55<00:00,  2.09it/s]\n"
     ]
    },
    {
     "name": "stdout",
     "output_type": "stream",
     "text": [
      "Epoch 476 Mean Reward: 131.52333951568605\n"
     ]
    },
    {
     "name": "stderr",
     "output_type": "stream",
     "text": [
      "100%|██████████| 2000/2000 [26:21<00:00,  1.26it/s]\n"
     ]
    },
    {
     "name": "stdout",
     "output_type": "stream",
     "text": [
      "Epoch 477 Mean Reward: 128.09962477874757\n"
     ]
    },
    {
     "name": "stderr",
     "output_type": "stream",
     "text": [
      "100%|██████████| 2000/2000 [25:07<00:00,  1.33it/s]\n"
     ]
    },
    {
     "name": "stdout",
     "output_type": "stream",
     "text": [
      "Epoch 478 Mean Reward: 141.4029761505127\n"
     ]
    },
    {
     "name": "stderr",
     "output_type": "stream",
     "text": [
      "100%|██████████| 2000/2000 [13:56<00:00,  2.39it/s]\n"
     ]
    },
    {
     "name": "stdout",
     "output_type": "stream",
     "text": [
      "Epoch 479 Mean Reward: 145.542366104126\n"
     ]
    },
    {
     "name": "stderr",
     "output_type": "stream",
     "text": [
      "100%|██████████| 2000/2000 [10:17<00:00,  3.24it/s]\n"
     ]
    },
    {
     "name": "stdout",
     "output_type": "stream",
     "text": [
      "Epoch 480 Mean Reward: 171.49647006225587\n",
      "Epoch 480 Model saved to ./checkpoints/deadly_corridor.ckpt\n",
      "Epoch 480 test with depth buffer:\n",
      "Test Episode 1 Reward: -115.91545104980469\n",
      "Test Episode 2 Reward: -115.91545104980469\n",
      "Test Episode 3 Reward: -115.91545104980469\n",
      "Test Episode 4 Reward: -115.91545104980469\n",
      "Test Episode 5 Reward: -113.09199523925781\n",
      "Test Episode 6 Reward: -20.045745849609375\n",
      "Test Episode 7 Reward: -115.91545104980469\n",
      "Test Episode 8 Reward: -115.99569702148438\n",
      "Test Episode 9 Reward: -115.99552917480469\n",
      "Test Episode 10 Reward: -115.91545104980469\n",
      "Average Test Reward (with depth buffer:) -106.06216735839844\n",
      "Epoch 480 test without depth buffer:\n",
      "Test Episode 1 Reward: -113.44548034667969\n",
      "Test Episode 2 Reward: -113.44548034667969\n",
      "Test Episode 3 Reward: -113.44548034667969\n",
      "Test Episode 4 Reward: -113.44548034667969\n",
      "Test Episode 5 Reward: -110.89773559570312\n",
      "Test Episode 6 Reward: -109.67509460449219\n",
      "Test Episode 7 Reward: -89.24993896484375\n",
      "Test Episode 8 Reward: -41.03462219238281\n",
      "Test Episode 9 Reward: -113.44548034667969\n",
      "Test Episode 10 Reward: -113.44548034667969\n",
      "Average Test Reward (without depth buffer): -103.15302734375\n"
     ]
    },
    {
     "name": "stderr",
     "output_type": "stream",
     "text": [
      "100%|██████████| 2000/2000 [22:56<00:00,  1.45it/s]\n"
     ]
    },
    {
     "name": "stdout",
     "output_type": "stream",
     "text": [
      "Epoch 481 Mean Reward: 92.56007717895508\n"
     ]
    },
    {
     "name": "stderr",
     "output_type": "stream",
     "text": [
      "100%|██████████| 2000/2000 [17:42<00:00,  1.88it/s]\n"
     ]
    },
    {
     "name": "stdout",
     "output_type": "stream",
     "text": [
      "Epoch 482 Mean Reward: 113.22382674407959\n"
     ]
    },
    {
     "name": "stderr",
     "output_type": "stream",
     "text": [
      "100%|██████████| 2000/2000 [17:39<00:00,  1.89it/s]\n"
     ]
    },
    {
     "name": "stdout",
     "output_type": "stream",
     "text": [
      "Epoch 483 Mean Reward: 84.97806758880616\n"
     ]
    },
    {
     "name": "stderr",
     "output_type": "stream",
     "text": [
      "100%|██████████| 2000/2000 [17:13<00:00,  1.93it/s]\n"
     ]
    },
    {
     "name": "stdout",
     "output_type": "stream",
     "text": [
      "Epoch 484 Mean Reward: 110.25876775360108\n"
     ]
    },
    {
     "name": "stderr",
     "output_type": "stream",
     "text": [
      "100%|██████████| 2000/2000 [16:51<00:00,  1.98it/s]\n"
     ]
    },
    {
     "name": "stdout",
     "output_type": "stream",
     "text": [
      "Epoch 485 Mean Reward: 90.39329996490478\n"
     ]
    },
    {
     "name": "stderr",
     "output_type": "stream",
     "text": [
      "100%|██████████| 2000/2000 [17:15<00:00,  1.93it/s]\n"
     ]
    },
    {
     "name": "stdout",
     "output_type": "stream",
     "text": [
      "Epoch 486 Mean Reward: 87.30334746551513\n"
     ]
    },
    {
     "name": "stderr",
     "output_type": "stream",
     "text": [
      "100%|██████████| 2000/2000 [12:32<00:00,  2.66it/s]\n"
     ]
    },
    {
     "name": "stdout",
     "output_type": "stream",
     "text": [
      "Epoch 487 Mean Reward: 105.55084873962403\n"
     ]
    },
    {
     "name": "stderr",
     "output_type": "stream",
     "text": [
      "100%|██████████| 2000/2000 [16:37<00:00,  2.00it/s]\n"
     ]
    },
    {
     "name": "stdout",
     "output_type": "stream",
     "text": [
      "Epoch 488 Mean Reward: 82.88699298858643\n"
     ]
    },
    {
     "name": "stderr",
     "output_type": "stream",
     "text": [
      "100%|██████████| 2000/2000 [18:11<00:00,  1.83it/s]\n"
     ]
    },
    {
     "name": "stdout",
     "output_type": "stream",
     "text": [
      "Epoch 489 Mean Reward: 85.94650125122071\n"
     ]
    },
    {
     "name": "stderr",
     "output_type": "stream",
     "text": [
      "100%|██████████| 2000/2000 [17:33<00:00,  1.90it/s]\n"
     ]
    },
    {
     "name": "stdout",
     "output_type": "stream",
     "text": [
      "Epoch 490 Mean Reward: 93.30154484558105\n"
     ]
    },
    {
     "name": "stderr",
     "output_type": "stream",
     "text": [
      "100%|██████████| 2000/2000 [19:42<00:00,  1.69it/s]\n"
     ]
    },
    {
     "name": "stdout",
     "output_type": "stream",
     "text": [
      "Epoch 491 Mean Reward: 108.34451327514648\n"
     ]
    },
    {
     "name": "stderr",
     "output_type": "stream",
     "text": [
      "100%|██████████| 2000/2000 [18:20<00:00,  1.82it/s]\n"
     ]
    },
    {
     "name": "stdout",
     "output_type": "stream",
     "text": [
      "Epoch 492 Mean Reward: 80.8452576751709\n"
     ]
    },
    {
     "name": "stderr",
     "output_type": "stream",
     "text": [
      "100%|██████████| 2000/2000 [15:30<00:00,  2.15it/s]\n"
     ]
    },
    {
     "name": "stdout",
     "output_type": "stream",
     "text": [
      "Epoch 493 Mean Reward: 91.89417547607422\n"
     ]
    },
    {
     "name": "stderr",
     "output_type": "stream",
     "text": [
      "100%|██████████| 2000/2000 [18:57<00:00,  1.76it/s]\n"
     ]
    },
    {
     "name": "stdout",
     "output_type": "stream",
     "text": [
      "Epoch 494 Mean Reward: 129.4777942123413\n"
     ]
    },
    {
     "name": "stderr",
     "output_type": "stream",
     "text": [
      "100%|██████████| 2000/2000 [16:12<00:00,  2.06it/s]\n"
     ]
    },
    {
     "name": "stdout",
     "output_type": "stream",
     "text": [
      "Epoch 495 Mean Reward: 132.58990954589845\n"
     ]
    },
    {
     "name": "stderr",
     "output_type": "stream",
     "text": [
      "100%|██████████| 2000/2000 [17:28<00:00,  1.91it/s]\n"
     ]
    },
    {
     "name": "stdout",
     "output_type": "stream",
     "text": [
      "Epoch 496 Mean Reward: 127.61308130645752\n"
     ]
    },
    {
     "name": "stderr",
     "output_type": "stream",
     "text": [
      "100%|██████████| 2000/2000 [20:06<00:00,  1.66it/s]\n"
     ]
    },
    {
     "name": "stdout",
     "output_type": "stream",
     "text": [
      "Epoch 497 Mean Reward: 78.53285031890869\n"
     ]
    },
    {
     "name": "stderr",
     "output_type": "stream",
     "text": [
      "100%|██████████| 2000/2000 [18:20<00:00,  1.82it/s]\n"
     ]
    },
    {
     "name": "stdout",
     "output_type": "stream",
     "text": [
      "Epoch 498 Mean Reward: 85.83511784362793\n"
     ]
    },
    {
     "name": "stderr",
     "output_type": "stream",
     "text": [
      "100%|██████████| 2000/2000 [13:32<00:00,  2.46it/s]\n"
     ]
    },
    {
     "name": "stdout",
     "output_type": "stream",
     "text": [
      "Epoch 499 Mean Reward: 123.28570285797119\n"
     ]
    },
    {
     "name": "stderr",
     "output_type": "stream",
     "text": [
      "100%|██████████| 2000/2000 [18:04<00:00,  1.84it/s]\n"
     ]
    },
    {
     "name": "stdout",
     "output_type": "stream",
     "text": [
      "Epoch 500 Mean Reward: 85.66741563415528\n",
      "Epoch 500 Model saved to ./checkpoints/deadly_corridor.ckpt\n",
      "Epoch 500 test with depth buffer:\n",
      "Test Episode 1 Reward: -115.37098693847656\n",
      "Test Episode 2 Reward: -8.654678344726562\n",
      "Test Episode 3 Reward: 83.68191528320312\n",
      "Test Episode 4 Reward: -22.61431884765625\n",
      "Test Episode 5 Reward: -8.654678344726562\n",
      "Test Episode 6 Reward: -115.86866760253906\n",
      "Test Episode 7 Reward: -56.531097412109375\n",
      "Test Episode 8 Reward: -8.654678344726562\n",
      "Test Episode 9 Reward: -8.654678344726562\n",
      "Test Episode 10 Reward: 25.524032592773438\n",
      "Average Test Reward (with depth buffer:) -23.579783630371093\n",
      "Epoch 500 test without depth buffer:\n",
      "Test Episode 1 Reward: -39.78779602050781\n",
      "Test Episode 2 Reward: -39.78779602050781\n",
      "Test Episode 3 Reward: -39.78779602050781\n",
      "Test Episode 4 Reward: -43.18597412109375\n",
      "Test Episode 5 Reward: -39.78779602050781\n",
      "Test Episode 6 Reward: 260.53814697265625\n",
      "Test Episode 7 Reward: -39.78779602050781\n",
      "Test Episode 8 Reward: -39.78779602050781\n",
      "Test Episode 9 Reward: -39.78779602050781\n",
      "Test Episode 10 Reward: -17.84027099609375\n",
      "Average Test Reward (without depth buffer): -7.900267028808594\n"
     ]
    },
    {
     "name": "stderr",
     "output_type": "stream",
     "text": [
      "100%|██████████| 2000/2000 [18:24<00:00,  1.81it/s]\n"
     ]
    },
    {
     "name": "stdout",
     "output_type": "stream",
     "text": [
      "Epoch 501 Mean Reward: 129.99615976715089\n"
     ]
    },
    {
     "name": "stderr",
     "output_type": "stream",
     "text": [
      "100%|██████████| 2000/2000 [18:45<00:00,  1.78it/s]\n"
     ]
    },
    {
     "name": "stdout",
     "output_type": "stream",
     "text": [
      "Epoch 502 Mean Reward: 97.49757927703857\n"
     ]
    },
    {
     "name": "stderr",
     "output_type": "stream",
     "text": [
      "100%|██████████| 2000/2000 [19:42<00:00,  1.69it/s]\n"
     ]
    },
    {
     "name": "stdout",
     "output_type": "stream",
     "text": [
      "Epoch 503 Mean Reward: 134.67385278320313\n"
     ]
    },
    {
     "name": "stderr",
     "output_type": "stream",
     "text": [
      "100%|██████████| 2000/2000 [17:56<00:00,  1.86it/s]\n"
     ]
    },
    {
     "name": "stdout",
     "output_type": "stream",
     "text": [
      "Epoch 504 Mean Reward: 183.9560479660034\n"
     ]
    },
    {
     "name": "stderr",
     "output_type": "stream",
     "text": [
      "100%|██████████| 2000/2000 [18:49<00:00,  1.77it/s]\n"
     ]
    },
    {
     "name": "stdout",
     "output_type": "stream",
     "text": [
      "Epoch 505 Mean Reward: 121.54155982208252\n"
     ]
    },
    {
     "name": "stderr",
     "output_type": "stream",
     "text": [
      "100%|██████████| 2000/2000 [17:42<00:00,  1.88it/s]\n"
     ]
    },
    {
     "name": "stdout",
     "output_type": "stream",
     "text": [
      "Epoch 506 Mean Reward: 160.51552783966065\n"
     ]
    },
    {
     "name": "stderr",
     "output_type": "stream",
     "text": [
      "100%|██████████| 2000/2000 [25:24<00:00,  1.31it/s]\n"
     ]
    },
    {
     "name": "stdout",
     "output_type": "stream",
     "text": [
      "Epoch 507 Mean Reward: 132.21390842437745\n"
     ]
    },
    {
     "name": "stderr",
     "output_type": "stream",
     "text": [
      "100%|██████████| 2000/2000 [20:53<00:00,  1.60it/s]\n"
     ]
    },
    {
     "name": "stdout",
     "output_type": "stream",
     "text": [
      "Epoch 508 Mean Reward: 143.53929943084717\n"
     ]
    },
    {
     "name": "stderr",
     "output_type": "stream",
     "text": [
      "100%|██████████| 2000/2000 [32:10<00:00,  1.04it/s]\n"
     ]
    },
    {
     "name": "stdout",
     "output_type": "stream",
     "text": [
      "Epoch 509 Mean Reward: 144.52536602020263\n"
     ]
    },
    {
     "name": "stderr",
     "output_type": "stream",
     "text": [
      "100%|██████████| 2000/2000 [23:32<00:00,  1.42it/s]\n"
     ]
    },
    {
     "name": "stdout",
     "output_type": "stream",
     "text": [
      "Epoch 510 Mean Reward: 84.34476250457763\n"
     ]
    },
    {
     "name": "stderr",
     "output_type": "stream",
     "text": [
      "100%|██████████| 2000/2000 [19:58<00:00,  1.67it/s]\n"
     ]
    },
    {
     "name": "stdout",
     "output_type": "stream",
     "text": [
      "Epoch 511 Mean Reward: 40.50223863220215\n"
     ]
    },
    {
     "name": "stderr",
     "output_type": "stream",
     "text": [
      "100%|██████████| 2000/2000 [19:23<00:00,  1.72it/s]\n"
     ]
    },
    {
     "name": "stdout",
     "output_type": "stream",
     "text": [
      "Epoch 512 Mean Reward: 49.672226432800294\n"
     ]
    },
    {
     "name": "stderr",
     "output_type": "stream",
     "text": [
      "100%|██████████| 2000/2000 [11:57<00:00,  2.79it/s]\n"
     ]
    },
    {
     "name": "stdout",
     "output_type": "stream",
     "text": [
      "Epoch 513 Mean Reward: 62.92394494628906\n"
     ]
    },
    {
     "name": "stderr",
     "output_type": "stream",
     "text": [
      "100%|██████████| 2000/2000 [11:48<00:00,  2.82it/s]\n"
     ]
    },
    {
     "name": "stdout",
     "output_type": "stream",
     "text": [
      "Epoch 514 Mean Reward: 66.68932978057862\n"
     ]
    },
    {
     "name": "stderr",
     "output_type": "stream",
     "text": [
      "100%|██████████| 2000/2000 [11:34<00:00,  2.88it/s]\n"
     ]
    },
    {
     "name": "stdout",
     "output_type": "stream",
     "text": [
      "Epoch 515 Mean Reward: 49.71265367126465\n"
     ]
    },
    {
     "name": "stderr",
     "output_type": "stream",
     "text": [
      "100%|██████████| 2000/2000 [11:31<00:00,  2.89it/s]\n"
     ]
    },
    {
     "name": "stdout",
     "output_type": "stream",
     "text": [
      "Epoch 516 Mean Reward: 67.3932213897705\n"
     ]
    },
    {
     "name": "stderr",
     "output_type": "stream",
     "text": [
      "100%|██████████| 2000/2000 [13:16<00:00,  2.51it/s]\n"
     ]
    },
    {
     "name": "stdout",
     "output_type": "stream",
     "text": [
      "Epoch 517 Mean Reward: 97.33432513427735\n"
     ]
    },
    {
     "name": "stderr",
     "output_type": "stream",
     "text": [
      "100%|██████████| 2000/2000 [18:19<00:00,  1.82it/s]\n"
     ]
    },
    {
     "name": "stdout",
     "output_type": "stream",
     "text": [
      "Epoch 518 Mean Reward: 73.66040671539307\n"
     ]
    },
    {
     "name": "stderr",
     "output_type": "stream",
     "text": [
      "100%|██████████| 2000/2000 [16:22<00:00,  2.03it/s]\n"
     ]
    },
    {
     "name": "stdout",
     "output_type": "stream",
     "text": [
      "Epoch 519 Mean Reward: 87.55395565795898\n"
     ]
    },
    {
     "name": "stderr",
     "output_type": "stream",
     "text": [
      "100%|██████████| 2000/2000 [15:59<00:00,  2.08it/s]\n"
     ]
    },
    {
     "name": "stdout",
     "output_type": "stream",
     "text": [
      "Epoch 520 Mean Reward: 70.71428227233886\n",
      "Epoch 520 Model saved to ./checkpoints/deadly_corridor.ckpt\n",
      "Epoch 520 test with depth buffer:\n",
      "Test Episode 1 Reward: -104.9554443359375\n",
      "Test Episode 2 Reward: -98.26736450195312\n",
      "Test Episode 3 Reward: -43.15260314941406\n",
      "Test Episode 4 Reward: -66.73385620117188\n",
      "Test Episode 5 Reward: -112.53524780273438\n",
      "Test Episode 6 Reward: -104.9554443359375\n",
      "Test Episode 7 Reward: -92.50833129882812\n",
      "Test Episode 8 Reward: -104.9554443359375\n",
      "Test Episode 9 Reward: -104.9554443359375\n",
      "Test Episode 10 Reward: -104.9554443359375\n",
      "Average Test Reward (with depth buffer:) -93.7974624633789\n",
      "Epoch 520 test without depth buffer:\n",
      "Test Episode 1 Reward: 44.327880859375\n",
      "Test Episode 2 Reward: -38.108734130859375\n",
      "Test Episode 3 Reward: -43.58404541015625\n",
      "Test Episode 4 Reward: -7.3536529541015625\n",
      "Test Episode 5 Reward: -98.920654296875\n",
      "Test Episode 6 Reward: -28.915008544921875\n",
      "Test Episode 7 Reward: 44.327880859375\n",
      "Test Episode 8 Reward: 44.327880859375\n",
      "Test Episode 9 Reward: 44.327880859375\n",
      "Test Episode 10 Reward: 44.327880859375\n",
      "Average Test Reward (without depth buffer): 0.47573089599609375\n"
     ]
    },
    {
     "name": "stderr",
     "output_type": "stream",
     "text": [
      "100%|██████████| 2000/2000 [16:39<00:00,  2.00it/s]\n"
     ]
    },
    {
     "name": "stdout",
     "output_type": "stream",
     "text": [
      "Epoch 521 Mean Reward: 67.53092964935303\n"
     ]
    },
    {
     "name": "stderr",
     "output_type": "stream",
     "text": [
      "100%|██████████| 2000/2000 [17:38<00:00,  1.89it/s]\n"
     ]
    },
    {
     "name": "stdout",
     "output_type": "stream",
     "text": [
      "Epoch 522 Mean Reward: 41.47960931396484\n"
     ]
    },
    {
     "name": "stderr",
     "output_type": "stream",
     "text": [
      "100%|██████████| 2000/2000 [17:26<00:00,  1.91it/s]\n"
     ]
    },
    {
     "name": "stdout",
     "output_type": "stream",
     "text": [
      "Epoch 523 Mean Reward: 54.70424584960937\n"
     ]
    },
    {
     "name": "stderr",
     "output_type": "stream",
     "text": [
      "100%|██████████| 2000/2000 [17:26<00:00,  1.91it/s]\n"
     ]
    },
    {
     "name": "stdout",
     "output_type": "stream",
     "text": [
      "Epoch 524 Mean Reward: 64.49100988006592\n"
     ]
    },
    {
     "name": "stderr",
     "output_type": "stream",
     "text": [
      "100%|██████████| 2000/2000 [15:38<00:00,  2.13it/s]\n"
     ]
    },
    {
     "name": "stdout",
     "output_type": "stream",
     "text": [
      "Epoch 525 Mean Reward: 96.81181049346924\n"
     ]
    },
    {
     "name": "stderr",
     "output_type": "stream",
     "text": [
      "100%|██████████| 2000/2000 [16:22<00:00,  2.04it/s]\n"
     ]
    },
    {
     "name": "stdout",
     "output_type": "stream",
     "text": [
      "Epoch 526 Mean Reward: 79.09578433990478\n"
     ]
    },
    {
     "name": "stderr",
     "output_type": "stream",
     "text": [
      "100%|██████████| 2000/2000 [16:47<00:00,  1.99it/s]\n"
     ]
    },
    {
     "name": "stdout",
     "output_type": "stream",
     "text": [
      "Epoch 527 Mean Reward: 64.15946036529542\n"
     ]
    },
    {
     "name": "stderr",
     "output_type": "stream",
     "text": [
      "100%|██████████| 2000/2000 [17:12<00:00,  1.94it/s]\n"
     ]
    },
    {
     "name": "stdout",
     "output_type": "stream",
     "text": [
      "Epoch 528 Mean Reward: 73.70015296173095\n"
     ]
    },
    {
     "name": "stderr",
     "output_type": "stream",
     "text": [
      "100%|██████████| 2000/2000 [16:15<00:00,  2.05it/s]\n"
     ]
    },
    {
     "name": "stdout",
     "output_type": "stream",
     "text": [
      "Epoch 529 Mean Reward: 76.8485453491211\n"
     ]
    },
    {
     "name": "stderr",
     "output_type": "stream",
     "text": [
      "100%|██████████| 2000/2000 [16:48<00:00,  1.98it/s]\n"
     ]
    },
    {
     "name": "stdout",
     "output_type": "stream",
     "text": [
      "Epoch 530 Mean Reward: 66.03123263549804\n"
     ]
    },
    {
     "name": "stderr",
     "output_type": "stream",
     "text": [
      "100%|██████████| 2000/2000 [10:46<00:00,  3.10it/s]\n"
     ]
    },
    {
     "name": "stdout",
     "output_type": "stream",
     "text": [
      "Epoch 531 Mean Reward: 23.622266593933105\n"
     ]
    },
    {
     "name": "stderr",
     "output_type": "stream",
     "text": [
      "100%|██████████| 2000/2000 [07:35<00:00,  4.39it/s]\n"
     ]
    },
    {
     "name": "stdout",
     "output_type": "stream",
     "text": [
      "Epoch 532 Mean Reward: -23.99529132080078\n"
     ]
    },
    {
     "name": "stderr",
     "output_type": "stream",
     "text": [
      "100%|██████████| 2000/2000 [06:59<00:00,  4.76it/s]\n"
     ]
    },
    {
     "name": "stdout",
     "output_type": "stream",
     "text": [
      "Epoch 533 Mean Reward: -25.116519088745118\n"
     ]
    },
    {
     "name": "stderr",
     "output_type": "stream",
     "text": [
      "100%|██████████| 2000/2000 [08:38<00:00,  3.85it/s]\n"
     ]
    },
    {
     "name": "stdout",
     "output_type": "stream",
     "text": [
      "Epoch 534 Mean Reward: -18.83523176574707\n"
     ]
    },
    {
     "name": "stderr",
     "output_type": "stream",
     "text": [
      "100%|██████████| 2000/2000 [09:47<00:00,  3.40it/s]\n"
     ]
    },
    {
     "name": "stdout",
     "output_type": "stream",
     "text": [
      "Epoch 535 Mean Reward: -19.687977416992187\n"
     ]
    },
    {
     "name": "stderr",
     "output_type": "stream",
     "text": [
      "100%|██████████| 2000/2000 [09:26<00:00,  3.53it/s]\n"
     ]
    },
    {
     "name": "stdout",
     "output_type": "stream",
     "text": [
      "Epoch 536 Mean Reward: -9.580542289733886\n"
     ]
    },
    {
     "name": "stderr",
     "output_type": "stream",
     "text": [
      "100%|██████████| 2000/2000 [11:40<00:00,  2.85it/s]\n"
     ]
    },
    {
     "name": "stdout",
     "output_type": "stream",
     "text": [
      "Epoch 537 Mean Reward: -8.015378623962402\n"
     ]
    },
    {
     "name": "stderr",
     "output_type": "stream",
     "text": [
      "100%|██████████| 2000/2000 [11:16<00:00,  2.96it/s]\n"
     ]
    },
    {
     "name": "stdout",
     "output_type": "stream",
     "text": [
      "Epoch 538 Mean Reward: -9.807808158874511\n"
     ]
    },
    {
     "name": "stderr",
     "output_type": "stream",
     "text": [
      "100%|██████████| 2000/2000 [10:19<00:00,  3.23it/s]\n"
     ]
    },
    {
     "name": "stdout",
     "output_type": "stream",
     "text": [
      "Epoch 539 Mean Reward: -5.885731590270996\n"
     ]
    },
    {
     "name": "stderr",
     "output_type": "stream",
     "text": [
      "100%|██████████| 2000/2000 [10:55<00:00,  3.05it/s]\n"
     ]
    },
    {
     "name": "stdout",
     "output_type": "stream",
     "text": [
      "Epoch 540 Mean Reward: -22.163633827209473\n",
      "Epoch 540 Model saved to ./checkpoints/deadly_corridor.ckpt\n",
      "Epoch 540 test with depth buffer:\n",
      "Test Episode 1 Reward: -3.573760986328125\n",
      "Test Episode 2 Reward: -55.64668273925781\n",
      "Test Episode 3 Reward: -30.393341064453125\n",
      "Test Episode 4 Reward: 264.12037658691406\n",
      "Test Episode 5 Reward: -46.691986083984375\n",
      "Test Episode 6 Reward: 264.12037658691406\n",
      "Test Episode 7 Reward: -79.84552001953125\n",
      "Test Episode 8 Reward: 264.12037658691406\n",
      "Test Episode 9 Reward: -32.24945068359375\n",
      "Test Episode 10 Reward: -0.4190673828125\n",
      "Average Test Reward (with depth buffer:) 54.354132080078124\n",
      "Epoch 540 test without depth buffer:\n",
      "Test Episode 1 Reward: -115.99655151367188\n",
      "Test Episode 2 Reward: -2.9144287109375\n",
      "Test Episode 3 Reward: -115.99655151367188\n",
      "Test Episode 4 Reward: -115.99655151367188\n",
      "Test Episode 5 Reward: -115.99655151367188\n",
      "Test Episode 6 Reward: -115.99655151367188\n",
      "Test Episode 7 Reward: -115.99655151367188\n",
      "Test Episode 8 Reward: 46.9603271484375\n",
      "Test Episode 9 Reward: -115.99655151367188\n",
      "Test Episode 10 Reward: -115.99655151367188\n",
      "Average Test Reward (without depth buffer): -88.3926513671875\n"
     ]
    },
    {
     "name": "stderr",
     "output_type": "stream",
     "text": [
      "100%|██████████| 2000/2000 [13:09<00:00,  2.53it/s]\n"
     ]
    },
    {
     "name": "stdout",
     "output_type": "stream",
     "text": [
      "Epoch 541 Mean Reward: 19.064390327453612\n"
     ]
    },
    {
     "name": "stderr",
     "output_type": "stream",
     "text": [
      "100%|██████████| 2000/2000 [13:46<00:00,  2.42it/s]\n"
     ]
    },
    {
     "name": "stdout",
     "output_type": "stream",
     "text": [
      "Epoch 542 Mean Reward: 66.87544348144532\n"
     ]
    },
    {
     "name": "stderr",
     "output_type": "stream",
     "text": [
      "100%|██████████| 2000/2000 [15:13<00:00,  2.19it/s]\n"
     ]
    },
    {
     "name": "stdout",
     "output_type": "stream",
     "text": [
      "Epoch 543 Mean Reward: 68.28118201446533\n"
     ]
    },
    {
     "name": "stderr",
     "output_type": "stream",
     "text": [
      "100%|██████████| 2000/2000 [14:10<00:00,  2.35it/s]\n"
     ]
    },
    {
     "name": "stdout",
     "output_type": "stream",
     "text": [
      "Epoch 544 Mean Reward: 65.50128813171386\n"
     ]
    },
    {
     "name": "stderr",
     "output_type": "stream",
     "text": [
      "100%|██████████| 2000/2000 [15:27<00:00,  2.16it/s]\n"
     ]
    },
    {
     "name": "stdout",
     "output_type": "stream",
     "text": [
      "Epoch 545 Mean Reward: 81.04695854949951\n"
     ]
    },
    {
     "name": "stderr",
     "output_type": "stream",
     "text": [
      "100%|██████████| 2000/2000 [17:15<00:00,  1.93it/s]\n"
     ]
    },
    {
     "name": "stdout",
     "output_type": "stream",
     "text": [
      "Epoch 546 Mean Reward: 56.96214458465576\n"
     ]
    },
    {
     "name": "stderr",
     "output_type": "stream",
     "text": [
      "100%|██████████| 2000/2000 [17:49<00:00,  1.87it/s]\n"
     ]
    },
    {
     "name": "stdout",
     "output_type": "stream",
     "text": [
      "Epoch 547 Mean Reward: 86.84070278167725\n"
     ]
    },
    {
     "name": "stderr",
     "output_type": "stream",
     "text": [
      "100%|██████████| 2000/2000 [15:18<00:00,  2.18it/s]\n"
     ]
    },
    {
     "name": "stdout",
     "output_type": "stream",
     "text": [
      "Epoch 548 Mean Reward: 89.33984399414062\n"
     ]
    },
    {
     "name": "stderr",
     "output_type": "stream",
     "text": [
      "100%|██████████| 2000/2000 [14:09<00:00,  2.36it/s]\n"
     ]
    },
    {
     "name": "stdout",
     "output_type": "stream",
     "text": [
      "Epoch 549 Mean Reward: 93.67009452056885\n"
     ]
    },
    {
     "name": "stderr",
     "output_type": "stream",
     "text": [
      "100%|██████████| 2000/2000 [13:52<00:00,  2.40it/s]\n"
     ]
    },
    {
     "name": "stdout",
     "output_type": "stream",
     "text": [
      "Epoch 550 Mean Reward: 103.8648473739624\n"
     ]
    },
    {
     "name": "stderr",
     "output_type": "stream",
     "text": [
      "100%|██████████| 2000/2000 [13:58<00:00,  2.39it/s]\n"
     ]
    },
    {
     "name": "stdout",
     "output_type": "stream",
     "text": [
      "Epoch 551 Mean Reward: 45.91436386871338\n"
     ]
    },
    {
     "name": "stderr",
     "output_type": "stream",
     "text": [
      "100%|██████████| 2000/2000 [14:49<00:00,  2.25it/s]\n"
     ]
    },
    {
     "name": "stdout",
     "output_type": "stream",
     "text": [
      "Epoch 552 Mean Reward: 67.59859625244141\n"
     ]
    },
    {
     "name": "stderr",
     "output_type": "stream",
     "text": [
      "100%|██████████| 2000/2000 [13:58<00:00,  2.39it/s]\n"
     ]
    },
    {
     "name": "stdout",
     "output_type": "stream",
     "text": [
      "Epoch 553 Mean Reward: 66.54984645843506\n"
     ]
    },
    {
     "name": "stderr",
     "output_type": "stream",
     "text": [
      "100%|██████████| 2000/2000 [25:46<00:00,  1.29it/s]\n"
     ]
    },
    {
     "name": "stdout",
     "output_type": "stream",
     "text": [
      "Epoch 554 Mean Reward: 69.51211654663086\n"
     ]
    },
    {
     "name": "stderr",
     "output_type": "stream",
     "text": [
      "100%|██████████| 2000/2000 [15:38<00:00,  2.13it/s]\n"
     ]
    },
    {
     "name": "stdout",
     "output_type": "stream",
     "text": [
      "Epoch 555 Mean Reward: 52.87163409423828\n"
     ]
    },
    {
     "name": "stderr",
     "output_type": "stream",
     "text": [
      "100%|██████████| 2000/2000 [14:36<00:00,  2.28it/s]\n"
     ]
    },
    {
     "name": "stdout",
     "output_type": "stream",
     "text": [
      "Epoch 556 Mean Reward: 43.617519882202146\n"
     ]
    },
    {
     "name": "stderr",
     "output_type": "stream",
     "text": [
      "100%|██████████| 2000/2000 [15:09<00:00,  2.20it/s]\n"
     ]
    },
    {
     "name": "stdout",
     "output_type": "stream",
     "text": [
      "Epoch 557 Mean Reward: 54.44732775115967\n"
     ]
    },
    {
     "name": "stderr",
     "output_type": "stream",
     "text": [
      "100%|██████████| 2000/2000 [15:09<00:00,  2.20it/s]\n"
     ]
    },
    {
     "name": "stdout",
     "output_type": "stream",
     "text": [
      "Epoch 558 Mean Reward: 63.18805836486816\n"
     ]
    },
    {
     "name": "stderr",
     "output_type": "stream",
     "text": [
      "100%|██████████| 2000/2000 [15:46<00:00,  2.11it/s]\n"
     ]
    },
    {
     "name": "stdout",
     "output_type": "stream",
     "text": [
      "Epoch 559 Mean Reward: 72.00880480194091\n"
     ]
    },
    {
     "name": "stderr",
     "output_type": "stream",
     "text": [
      "100%|██████████| 2000/2000 [15:22<00:00,  2.17it/s]\n"
     ]
    },
    {
     "name": "stdout",
     "output_type": "stream",
     "text": [
      "Epoch 560 Mean Reward: 69.04081443786622\n",
      "Epoch 560 Model saved to ./checkpoints/deadly_corridor.ckpt\n",
      "Epoch 560 test with depth buffer:\n",
      "Test Episode 1 Reward: -20.008926391601562\n",
      "Test Episode 2 Reward: -32.484832763671875\n",
      "Test Episode 3 Reward: -65.88536071777344\n",
      "Test Episode 4 Reward: -65.88536071777344\n",
      "Test Episode 5 Reward: -65.88536071777344\n",
      "Test Episode 6 Reward: -58.437225341796875\n",
      "Test Episode 7 Reward: -77.51319885253906\n",
      "Test Episode 8 Reward: -65.88536071777344\n",
      "Test Episode 9 Reward: -65.88536071777344\n",
      "Test Episode 10 Reward: -47.598876953125\n",
      "Average Test Reward (with depth buffer:) -56.54698638916015\n",
      "Epoch 560 test without depth buffer:\n",
      "Test Episode 1 Reward: -26.674713134765625\n",
      "Test Episode 2 Reward: -35.69642639160156\n",
      "Test Episode 3 Reward: -35.69642639160156\n",
      "Test Episode 4 Reward: -93.81166076660156\n",
      "Test Episode 5 Reward: -35.69642639160156\n",
      "Test Episode 6 Reward: 215.89413452148438\n",
      "Test Episode 7 Reward: 74.60989379882812\n",
      "Test Episode 8 Reward: 15.30023193359375\n",
      "Test Episode 9 Reward: -35.69642639160156\n",
      "Test Episode 10 Reward: -35.69642639160156\n",
      "Average Test Reward (without depth buffer): 0.683575439453125\n"
     ]
    },
    {
     "name": "stderr",
     "output_type": "stream",
     "text": [
      "100%|██████████| 2000/2000 [17:33<00:00,  1.90it/s]\n"
     ]
    },
    {
     "name": "stdout",
     "output_type": "stream",
     "text": [
      "Epoch 561 Mean Reward: 53.72929264831543\n"
     ]
    },
    {
     "name": "stderr",
     "output_type": "stream",
     "text": [
      "100%|██████████| 2000/2000 [16:46<00:00,  1.99it/s]\n"
     ]
    },
    {
     "name": "stdout",
     "output_type": "stream",
     "text": [
      "Epoch 562 Mean Reward: 88.881110206604\n"
     ]
    },
    {
     "name": "stderr",
     "output_type": "stream",
     "text": [
      "100%|██████████| 2000/2000 [17:33<00:00,  1.90it/s]\n"
     ]
    },
    {
     "name": "stdout",
     "output_type": "stream",
     "text": [
      "Epoch 563 Mean Reward: 81.23277889251709\n"
     ]
    },
    {
     "name": "stderr",
     "output_type": "stream",
     "text": [
      "100%|██████████| 2000/2000 [17:32<00:00,  1.90it/s]\n"
     ]
    },
    {
     "name": "stdout",
     "output_type": "stream",
     "text": [
      "Epoch 564 Mean Reward: 71.3196425628662\n"
     ]
    },
    {
     "name": "stderr",
     "output_type": "stream",
     "text": [
      "100%|██████████| 2000/2000 [30:29<00:00,  1.09it/s]\n"
     ]
    },
    {
     "name": "stdout",
     "output_type": "stream",
     "text": [
      "Epoch 565 Mean Reward: 88.14705786895752\n"
     ]
    },
    {
     "name": "stderr",
     "output_type": "stream",
     "text": [
      "100%|██████████| 2000/2000 [30:13<00:00,  1.10it/s]\n"
     ]
    },
    {
     "name": "stdout",
     "output_type": "stream",
     "text": [
      "Epoch 566 Mean Reward: 89.63796313476563\n"
     ]
    },
    {
     "name": "stderr",
     "output_type": "stream",
     "text": [
      "100%|██████████| 2000/2000 [29:41<00:00,  1.12it/s]\n"
     ]
    },
    {
     "name": "stdout",
     "output_type": "stream",
     "text": [
      "Epoch 567 Mean Reward: 84.58859789276123\n"
     ]
    },
    {
     "name": "stderr",
     "output_type": "stream",
     "text": [
      "100%|██████████| 2000/2000 [28:15<00:00,  1.18it/s]\n"
     ]
    },
    {
     "name": "stdout",
     "output_type": "stream",
     "text": [
      "Epoch 568 Mean Reward: 87.27166486358642\n"
     ]
    },
    {
     "name": "stderr",
     "output_type": "stream",
     "text": [
      "100%|██████████| 2000/2000 [33:28<00:00,  1.00s/it]\n"
     ]
    },
    {
     "name": "stdout",
     "output_type": "stream",
     "text": [
      "Epoch 569 Mean Reward: 98.0665465927124\n"
     ]
    },
    {
     "name": "stderr",
     "output_type": "stream",
     "text": [
      "100%|██████████| 2000/2000 [35:52<00:00,  1.08s/it]\n"
     ]
    },
    {
     "name": "stdout",
     "output_type": "stream",
     "text": [
      "Epoch 570 Mean Reward: 96.01897969055176\n"
     ]
    },
    {
     "name": "stderr",
     "output_type": "stream",
     "text": [
      "100%|██████████| 2000/2000 [32:02<00:00,  1.04it/s]\n"
     ]
    },
    {
     "name": "stdout",
     "output_type": "stream",
     "text": [
      "Epoch 571 Mean Reward: 87.5825792388916\n"
     ]
    },
    {
     "name": "stderr",
     "output_type": "stream",
     "text": [
      "100%|██████████| 2000/2000 [21:00<00:00,  1.59it/s]\n"
     ]
    },
    {
     "name": "stdout",
     "output_type": "stream",
     "text": [
      "Epoch 572 Mean Reward: 13.641261810302735\n"
     ]
    },
    {
     "name": "stderr",
     "output_type": "stream",
     "text": [
      "100%|██████████| 2000/2000 [14:26<00:00,  2.31it/s]\n"
     ]
    },
    {
     "name": "stdout",
     "output_type": "stream",
     "text": [
      "Epoch 573 Mean Reward: -2.4784762420654296\n"
     ]
    },
    {
     "name": "stderr",
     "output_type": "stream",
     "text": [
      "100%|██████████| 2000/2000 [12:07<00:00,  2.75it/s]\n"
     ]
    },
    {
     "name": "stdout",
     "output_type": "stream",
     "text": [
      "Epoch 574 Mean Reward: -6.682778579711914\n"
     ]
    },
    {
     "name": "stderr",
     "output_type": "stream",
     "text": [
      "100%|██████████| 2000/2000 [11:25<00:00,  2.92it/s]\n"
     ]
    },
    {
     "name": "stdout",
     "output_type": "stream",
     "text": [
      "Epoch 575 Mean Reward: -9.112695899963379\n"
     ]
    },
    {
     "name": "stderr",
     "output_type": "stream",
     "text": [
      "100%|██████████| 2000/2000 [11:18<00:00,  2.95it/s]\n"
     ]
    },
    {
     "name": "stdout",
     "output_type": "stream",
     "text": [
      "Epoch 576 Mean Reward: 32.53147338867188\n"
     ]
    },
    {
     "name": "stderr",
     "output_type": "stream",
     "text": [
      "100%|██████████| 2000/2000 [11:28<00:00,  2.90it/s]\n"
     ]
    },
    {
     "name": "stdout",
     "output_type": "stream",
     "text": [
      "Epoch 577 Mean Reward: 8.434595504760741\n"
     ]
    },
    {
     "name": "stderr",
     "output_type": "stream",
     "text": [
      "100%|██████████| 2000/2000 [12:05<00:00,  2.76it/s]\n"
     ]
    },
    {
     "name": "stdout",
     "output_type": "stream",
     "text": [
      "Epoch 578 Mean Reward: 29.703536041259767\n"
     ]
    },
    {
     "name": "stderr",
     "output_type": "stream",
     "text": [
      "100%|██████████| 2000/2000 [12:21<00:00,  2.70it/s]\n"
     ]
    },
    {
     "name": "stdout",
     "output_type": "stream",
     "text": [
      "Epoch 579 Mean Reward: 5.440813133239746\n"
     ]
    },
    {
     "name": "stderr",
     "output_type": "stream",
     "text": [
      "100%|██████████| 2000/2000 [12:44<00:00,  2.61it/s]\n"
     ]
    },
    {
     "name": "stdout",
     "output_type": "stream",
     "text": [
      "Epoch 580 Mean Reward: 21.571042373657228\n",
      "Epoch 580 Model saved to ./checkpoints/deadly_corridor.ckpt\n",
      "Epoch 580 test with depth buffer:\n",
      "Test Episode 1 Reward: -94.71012878417969\n",
      "Test Episode 2 Reward: 1.681488037109375\n",
      "Test Episode 3 Reward: 55.08348083496094\n",
      "Test Episode 4 Reward: -94.71012878417969\n",
      "Test Episode 5 Reward: -94.71012878417969\n",
      "Test Episode 6 Reward: -33.20790100097656\n",
      "Test Episode 7 Reward: 17.239776611328125\n",
      "Test Episode 8 Reward: -94.71012878417969\n",
      "Test Episode 9 Reward: -94.71012878417969\n",
      "Test Episode 10 Reward: -94.71012878417969\n",
      "Average Test Reward (with depth buffer:) -52.746392822265626\n",
      "Epoch 580 test without depth buffer:\n",
      "Test Episode 1 Reward: -97.6900634765625\n",
      "Test Episode 2 Reward: -97.6900634765625\n",
      "Test Episode 3 Reward: -97.6900634765625\n",
      "Test Episode 4 Reward: -22.049713134765625\n",
      "Test Episode 5 Reward: -97.6900634765625\n",
      "Test Episode 6 Reward: -97.6900634765625\n",
      "Test Episode 7 Reward: -97.6900634765625\n",
      "Test Episode 8 Reward: 29.531890869140625\n",
      "Test Episode 9 Reward: -7.2542266845703125\n",
      "Test Episode 10 Reward: -32.327728271484375\n",
      "Average Test Reward (without depth buffer): -61.82401580810547\n"
     ]
    },
    {
     "name": "stderr",
     "output_type": "stream",
     "text": [
      "100%|██████████| 2000/2000 [20:24<00:00,  1.63it/s]\n"
     ]
    },
    {
     "name": "stdout",
     "output_type": "stream",
     "text": [
      "Epoch 581 Mean Reward: 66.20085948181152\n"
     ]
    },
    {
     "name": "stderr",
     "output_type": "stream",
     "text": [
      "100%|██████████| 2000/2000 [30:17<00:00,  1.10it/s]\n"
     ]
    },
    {
     "name": "stdout",
     "output_type": "stream",
     "text": [
      "Epoch 582 Mean Reward: 133.3184849319458\n"
     ]
    },
    {
     "name": "stderr",
     "output_type": "stream",
     "text": [
      "100%|██████████| 2000/2000 [33:50<00:00,  1.02s/it]\n"
     ]
    },
    {
     "name": "stdout",
     "output_type": "stream",
     "text": [
      "Epoch 583 Mean Reward: 64.28479563903808\n"
     ]
    },
    {
     "name": "stderr",
     "output_type": "stream",
     "text": [
      "100%|██████████| 2000/2000 [19:27<00:00,  1.71it/s]\n"
     ]
    },
    {
     "name": "stdout",
     "output_type": "stream",
     "text": [
      "Epoch 584 Mean Reward: 104.90518257141113\n"
     ]
    },
    {
     "name": "stderr",
     "output_type": "stream",
     "text": [
      "100%|██████████| 2000/2000 [25:50<00:00,  1.29it/s]\n"
     ]
    },
    {
     "name": "stdout",
     "output_type": "stream",
     "text": [
      "Epoch 585 Mean Reward: 91.53625932312012\n"
     ]
    },
    {
     "name": "stderr",
     "output_type": "stream",
     "text": [
      "100%|██████████| 2000/2000 [32:17<00:00,  1.03it/s]\n"
     ]
    },
    {
     "name": "stdout",
     "output_type": "stream",
     "text": [
      "Epoch 586 Mean Reward: 101.06820517730714\n"
     ]
    },
    {
     "name": "stderr",
     "output_type": "stream",
     "text": [
      "100%|██████████| 2000/2000 [17:59<00:00,  1.85it/s]\n"
     ]
    },
    {
     "name": "stdout",
     "output_type": "stream",
     "text": [
      "Epoch 587 Mean Reward: 129.24268902587892\n"
     ]
    },
    {
     "name": "stderr",
     "output_type": "stream",
     "text": [
      "100%|██████████| 2000/2000 [15:07<00:00,  2.20it/s]\n"
     ]
    },
    {
     "name": "stdout",
     "output_type": "stream",
     "text": [
      "Epoch 588 Mean Reward: 128.61099619293213\n"
     ]
    },
    {
     "name": "stderr",
     "output_type": "stream",
     "text": [
      "100%|██████████| 2000/2000 [20:46<00:00,  1.60it/s]\n"
     ]
    },
    {
     "name": "stdout",
     "output_type": "stream",
     "text": [
      "Epoch 589 Mean Reward: 112.0139807434082\n"
     ]
    },
    {
     "name": "stderr",
     "output_type": "stream",
     "text": [
      "100%|██████████| 2000/2000 [24:18<00:00,  1.37it/s]\n"
     ]
    },
    {
     "name": "stdout",
     "output_type": "stream",
     "text": [
      "Epoch 590 Mean Reward: 95.19169996643066\n"
     ]
    },
    {
     "name": "stderr",
     "output_type": "stream",
     "text": [
      "100%|██████████| 2000/2000 [22:22<00:00,  1.49it/s]\n"
     ]
    },
    {
     "name": "stdout",
     "output_type": "stream",
     "text": [
      "Epoch 591 Mean Reward: 110.03178471374511\n"
     ]
    },
    {
     "name": "stderr",
     "output_type": "stream",
     "text": [
      "100%|██████████| 2000/2000 [15:16<00:00,  2.18it/s]\n"
     ]
    },
    {
     "name": "stdout",
     "output_type": "stream",
     "text": [
      "Epoch 592 Mean Reward: 126.53943098449707\n"
     ]
    },
    {
     "name": "stderr",
     "output_type": "stream",
     "text": [
      "100%|██████████| 2000/2000 [21:45<00:00,  1.53it/s]\n"
     ]
    },
    {
     "name": "stdout",
     "output_type": "stream",
     "text": [
      "Epoch 593 Mean Reward: 99.97534845733642\n"
     ]
    },
    {
     "name": "stderr",
     "output_type": "stream",
     "text": [
      "100%|██████████| 2000/2000 [19:16<00:00,  1.73it/s]\n"
     ]
    },
    {
     "name": "stdout",
     "output_type": "stream",
     "text": [
      "Epoch 594 Mean Reward: 100.26875804138183\n"
     ]
    },
    {
     "name": "stderr",
     "output_type": "stream",
     "text": [
      "100%|██████████| 2000/2000 [25:27<00:00,  1.31it/s]\n"
     ]
    },
    {
     "name": "stdout",
     "output_type": "stream",
     "text": [
      "Epoch 595 Mean Reward: 92.58444008636475\n"
     ]
    },
    {
     "name": "stderr",
     "output_type": "stream",
     "text": [
      "100%|██████████| 2000/2000 [18:08<00:00,  1.84it/s]\n"
     ]
    },
    {
     "name": "stdout",
     "output_type": "stream",
     "text": [
      "Epoch 596 Mean Reward: 47.86266618347168\n"
     ]
    },
    {
     "name": "stderr",
     "output_type": "stream",
     "text": [
      "100%|██████████| 2000/2000 [17:38<00:00,  1.89it/s]\n"
     ]
    },
    {
     "name": "stdout",
     "output_type": "stream",
     "text": [
      "Epoch 597 Mean Reward: 76.87915020751953\n"
     ]
    },
    {
     "name": "stderr",
     "output_type": "stream",
     "text": [
      "100%|██████████| 2000/2000 [16:23<00:00,  2.03it/s]\n"
     ]
    },
    {
     "name": "stdout",
     "output_type": "stream",
     "text": [
      "Epoch 598 Mean Reward: 125.37593048095704\n"
     ]
    },
    {
     "name": "stderr",
     "output_type": "stream",
     "text": [
      "100%|██████████| 2000/2000 [14:09<00:00,  2.36it/s]\n"
     ]
    },
    {
     "name": "stdout",
     "output_type": "stream",
     "text": [
      "Epoch 599 Mean Reward: 135.33331134796143\n"
     ]
    },
    {
     "name": "stderr",
     "output_type": "stream",
     "text": [
      "100%|██████████| 2000/2000 [17:45<00:00,  1.88it/s]\n"
     ]
    },
    {
     "name": "stdout",
     "output_type": "stream",
     "text": [
      "Epoch 600 Mean Reward: 86.31661486816407\n",
      "Epoch 600 Model saved to ./checkpoints/deadly_corridor.ckpt\n",
      "Epoch 600 test with depth buffer:\n",
      "Test Episode 1 Reward: -39.565032958984375\n",
      "Test Episode 2 Reward: -95.96487426757812\n",
      "Test Episode 3 Reward: 11.0675048828125\n",
      "Test Episode 4 Reward: -5.5045623779296875\n",
      "Test Episode 5 Reward: -95.96487426757812\n",
      "Test Episode 6 Reward: -95.96487426757812\n",
      "Test Episode 7 Reward: -115.20054626464844\n",
      "Test Episode 8 Reward: 17.232192993164062\n",
      "Test Episode 9 Reward: 34.55628967285156\n",
      "Test Episode 10 Reward: -95.96487426757812\n",
      "Average Test Reward (with depth buffer:) -48.12736511230469\n",
      "Epoch 600 test without depth buffer:\n",
      "Test Episode 1 Reward: -115.98674011230469\n",
      "Test Episode 2 Reward: -115.98674011230469\n",
      "Test Episode 3 Reward: 113.11170959472656\n",
      "Test Episode 4 Reward: -115.98674011230469\n",
      "Test Episode 5 Reward: -115.98674011230469\n",
      "Test Episode 6 Reward: -115.98674011230469\n",
      "Test Episode 7 Reward: -115.98674011230469\n",
      "Test Episode 8 Reward: 12.960235595703125\n",
      "Test Episode 9 Reward: -115.98674011230469\n",
      "Test Episode 10 Reward: -115.98674011230469\n",
      "Average Test Reward (without depth buffer): -80.18219757080078\n"
     ]
    },
    {
     "name": "stderr",
     "output_type": "stream",
     "text": [
      "100%|██████████| 2000/2000 [17:55<00:00,  1.86it/s]\n"
     ]
    },
    {
     "name": "stdout",
     "output_type": "stream",
     "text": [
      "Epoch 601 Mean Reward: 106.45961110687256\n"
     ]
    },
    {
     "name": "stderr",
     "output_type": "stream",
     "text": [
      "100%|██████████| 2000/2000 [17:56<00:00,  1.86it/s]\n"
     ]
    },
    {
     "name": "stdout",
     "output_type": "stream",
     "text": [
      "Epoch 602 Mean Reward: 100.56493552398682\n"
     ]
    },
    {
     "name": "stderr",
     "output_type": "stream",
     "text": [
      "100%|██████████| 2000/2000 [17:05<00:00,  1.95it/s]\n"
     ]
    },
    {
     "name": "stdout",
     "output_type": "stream",
     "text": [
      "Epoch 603 Mean Reward: 120.38205197143554\n"
     ]
    },
    {
     "name": "stderr",
     "output_type": "stream",
     "text": [
      "100%|██████████| 2000/2000 [16:21<00:00,  2.04it/s]\n"
     ]
    },
    {
     "name": "stdout",
     "output_type": "stream",
     "text": [
      "Epoch 604 Mean Reward: 135.77214599609374\n"
     ]
    },
    {
     "name": "stderr",
     "output_type": "stream",
     "text": [
      "100%|██████████| 2000/2000 [16:28<00:00,  2.02it/s]\n"
     ]
    },
    {
     "name": "stdout",
     "output_type": "stream",
     "text": [
      "Epoch 605 Mean Reward: 133.20546627044678\n"
     ]
    },
    {
     "name": "stderr",
     "output_type": "stream",
     "text": [
      "100%|██████████| 2000/2000 [17:17<00:00,  1.93it/s]\n"
     ]
    },
    {
     "name": "stdout",
     "output_type": "stream",
     "text": [
      "Epoch 606 Mean Reward: 91.32326961517334\n"
     ]
    },
    {
     "name": "stderr",
     "output_type": "stream",
     "text": [
      "100%|██████████| 2000/2000 [16:39<00:00,  2.00it/s]\n"
     ]
    },
    {
     "name": "stdout",
     "output_type": "stream",
     "text": [
      "Epoch 607 Mean Reward: 150.26317516326904\n"
     ]
    },
    {
     "name": "stderr",
     "output_type": "stream",
     "text": [
      "100%|██████████| 2000/2000 [16:39<00:00,  2.00it/s]\n"
     ]
    },
    {
     "name": "stdout",
     "output_type": "stream",
     "text": [
      "Epoch 608 Mean Reward: 127.19700220489501\n"
     ]
    },
    {
     "name": "stderr",
     "output_type": "stream",
     "text": [
      "100%|██████████| 2000/2000 [18:00<00:00,  1.85it/s]\n"
     ]
    },
    {
     "name": "stdout",
     "output_type": "stream",
     "text": [
      "Epoch 609 Mean Reward: 138.37345162200927\n"
     ]
    },
    {
     "name": "stderr",
     "output_type": "stream",
     "text": [
      "100%|██████████| 2000/2000 [17:24<00:00,  1.91it/s]\n"
     ]
    },
    {
     "name": "stdout",
     "output_type": "stream",
     "text": [
      "Epoch 610 Mean Reward: 144.96380766296386\n"
     ]
    },
    {
     "name": "stderr",
     "output_type": "stream",
     "text": [
      "100%|██████████| 2000/2000 [20:06<00:00,  1.66it/s]\n"
     ]
    },
    {
     "name": "stdout",
     "output_type": "stream",
     "text": [
      "Epoch 611 Mean Reward: 151.00641622161865\n"
     ]
    },
    {
     "name": "stderr",
     "output_type": "stream",
     "text": [
      "100%|██████████| 2000/2000 [18:20<00:00,  1.82it/s]\n"
     ]
    },
    {
     "name": "stdout",
     "output_type": "stream",
     "text": [
      "Epoch 612 Mean Reward: 141.9131918563843\n"
     ]
    },
    {
     "name": "stderr",
     "output_type": "stream",
     "text": [
      "100%|██████████| 2000/2000 [16:37<00:00,  2.00it/s]\n"
     ]
    },
    {
     "name": "stdout",
     "output_type": "stream",
     "text": [
      "Epoch 613 Mean Reward: 152.8047105484009\n"
     ]
    },
    {
     "name": "stderr",
     "output_type": "stream",
     "text": [
      "100%|██████████| 2000/2000 [18:17<00:00,  1.82it/s]\n"
     ]
    },
    {
     "name": "stdout",
     "output_type": "stream",
     "text": [
      "Epoch 614 Mean Reward: 126.74733024597168\n"
     ]
    },
    {
     "name": "stderr",
     "output_type": "stream",
     "text": [
      "100%|██████████| 2000/2000 [16:40<00:00,  2.00it/s]\n"
     ]
    },
    {
     "name": "stdout",
     "output_type": "stream",
     "text": [
      "Epoch 615 Mean Reward: 184.23896612548828\n"
     ]
    },
    {
     "name": "stderr",
     "output_type": "stream",
     "text": [
      "100%|██████████| 2000/2000 [16:04<00:00,  2.07it/s]\n"
     ]
    },
    {
     "name": "stdout",
     "output_type": "stream",
     "text": [
      "Epoch 616 Mean Reward: 140.28435119628907\n"
     ]
    },
    {
     "name": "stderr",
     "output_type": "stream",
     "text": [
      "100%|██████████| 2000/2000 [17:42<00:00,  1.88it/s]\n"
     ]
    },
    {
     "name": "stdout",
     "output_type": "stream",
     "text": [
      "Epoch 617 Mean Reward: 102.10220677947999\n"
     ]
    },
    {
     "name": "stderr",
     "output_type": "stream",
     "text": [
      "100%|██████████| 2000/2000 [17:36<00:00,  1.89it/s]\n"
     ]
    },
    {
     "name": "stdout",
     "output_type": "stream",
     "text": [
      "Epoch 618 Mean Reward: 149.72777632141114\n"
     ]
    },
    {
     "name": "stderr",
     "output_type": "stream",
     "text": [
      "100%|██████████| 2000/2000 [16:39<00:00,  2.00it/s]\n"
     ]
    },
    {
     "name": "stdout",
     "output_type": "stream",
     "text": [
      "Epoch 619 Mean Reward: 154.86837718200684\n"
     ]
    },
    {
     "name": "stderr",
     "output_type": "stream",
     "text": [
      "100%|██████████| 2000/2000 [17:01<00:00,  1.96it/s]\n"
     ]
    },
    {
     "name": "stdout",
     "output_type": "stream",
     "text": [
      "Epoch 620 Mean Reward: 159.35755757904053\n",
      "Epoch 620 Model saved to ./checkpoints/deadly_corridor.ckpt\n",
      "Epoch 620 test with depth buffer:\n",
      "Test Episode 1 Reward: 90.99954223632812\n",
      "Test Episode 2 Reward: 332.2722625732422\n",
      "Test Episode 3 Reward: 77.06663513183594\n",
      "Test Episode 4 Reward: -95.450927734375\n",
      "Test Episode 5 Reward: 135.5748748779297\n",
      "Test Episode 6 Reward: 135.5748748779297\n",
      "Test Episode 7 Reward: 135.5748748779297\n",
      "Test Episode 8 Reward: 135.5748748779297\n",
      "Test Episode 9 Reward: 135.5748748779297\n",
      "Test Episode 10 Reward: -21.074264526367188\n",
      "Average Test Reward (with depth buffer:) 106.16876220703125\n",
      "Epoch 620 test without depth buffer:\n",
      "Test Episode 1 Reward: -12.809844970703125\n",
      "Test Episode 2 Reward: 33.280303955078125\n",
      "Test Episode 3 Reward: 33.280303955078125\n",
      "Test Episode 4 Reward: 31.77960205078125\n",
      "Test Episode 5 Reward: 80.36111450195312\n",
      "Test Episode 6 Reward: 33.280303955078125\n",
      "Test Episode 7 Reward: -10.46368408203125\n",
      "Test Episode 8 Reward: 45.54179382324219\n",
      "Test Episode 9 Reward: 33.280303955078125\n",
      "Test Episode 10 Reward: 33.280303955078125\n",
      "Average Test Reward (without depth buffer): 30.08105010986328\n"
     ]
    },
    {
     "name": "stderr",
     "output_type": "stream",
     "text": [
      "100%|██████████| 2000/2000 [16:01<00:00,  2.08it/s]\n"
     ]
    },
    {
     "name": "stdout",
     "output_type": "stream",
     "text": [
      "Epoch 621 Mean Reward: 72.06015800476074\n"
     ]
    },
    {
     "name": "stderr",
     "output_type": "stream",
     "text": [
      "100%|██████████| 2000/2000 [15:56<00:00,  2.09it/s]\n"
     ]
    },
    {
     "name": "stdout",
     "output_type": "stream",
     "text": [
      "Epoch 622 Mean Reward: 88.50587399291992\n"
     ]
    },
    {
     "name": "stderr",
     "output_type": "stream",
     "text": [
      "100%|██████████| 2000/2000 [19:10<00:00,  1.74it/s]\n"
     ]
    },
    {
     "name": "stdout",
     "output_type": "stream",
     "text": [
      "Epoch 623 Mean Reward: 75.20925083160401\n"
     ]
    },
    {
     "name": "stderr",
     "output_type": "stream",
     "text": [
      "100%|██████████| 2000/2000 [21:03<00:00,  1.58it/s]\n"
     ]
    },
    {
     "name": "stdout",
     "output_type": "stream",
     "text": [
      "Epoch 624 Mean Reward: 76.22599542236328\n"
     ]
    },
    {
     "name": "stderr",
     "output_type": "stream",
     "text": [
      "100%|██████████| 2000/2000 [21:18<00:00,  1.56it/s]\n"
     ]
    },
    {
     "name": "stdout",
     "output_type": "stream",
     "text": [
      "Epoch 625 Mean Reward: 50.78673400878906\n"
     ]
    },
    {
     "name": "stderr",
     "output_type": "stream",
     "text": [
      "100%|██████████| 2000/2000 [21:38<00:00,  1.54it/s]\n"
     ]
    },
    {
     "name": "stdout",
     "output_type": "stream",
     "text": [
      "Epoch 626 Mean Reward: 59.90564235687256\n"
     ]
    },
    {
     "name": "stderr",
     "output_type": "stream",
     "text": [
      "100%|██████████| 2000/2000 [21:56<00:00,  1.52it/s]\n"
     ]
    },
    {
     "name": "stdout",
     "output_type": "stream",
     "text": [
      "Epoch 627 Mean Reward: 44.77944129180908\n"
     ]
    },
    {
     "name": "stderr",
     "output_type": "stream",
     "text": [
      "100%|██████████| 2000/2000 [19:25<00:00,  1.72it/s]\n"
     ]
    },
    {
     "name": "stdout",
     "output_type": "stream",
     "text": [
      "Epoch 628 Mean Reward: 97.98557064819336\n"
     ]
    },
    {
     "name": "stderr",
     "output_type": "stream",
     "text": [
      "100%|██████████| 2000/2000 [20:21<00:00,  1.64it/s]\n"
     ]
    },
    {
     "name": "stdout",
     "output_type": "stream",
     "text": [
      "Epoch 629 Mean Reward: 79.88436392211914\n"
     ]
    },
    {
     "name": "stderr",
     "output_type": "stream",
     "text": [
      "100%|██████████| 2000/2000 [29:22<00:00,  1.13it/s]\n"
     ]
    },
    {
     "name": "stdout",
     "output_type": "stream",
     "text": [
      "Epoch 630 Mean Reward: 75.88805688476563\n"
     ]
    },
    {
     "name": "stderr",
     "output_type": "stream",
     "text": [
      "100%|██████████| 2000/2000 [25:10<00:00,  1.32it/s]\n"
     ]
    },
    {
     "name": "stdout",
     "output_type": "stream",
     "text": [
      "Epoch 631 Mean Reward: 107.47658126831055\n"
     ]
    },
    {
     "name": "stderr",
     "output_type": "stream",
     "text": [
      "100%|██████████| 2000/2000 [22:46<00:00,  1.46it/s]\n"
     ]
    },
    {
     "name": "stdout",
     "output_type": "stream",
     "text": [
      "Epoch 632 Mean Reward: 109.5843740310669\n"
     ]
    },
    {
     "name": "stderr",
     "output_type": "stream",
     "text": [
      "100%|██████████| 2000/2000 [24:30<00:00,  1.36it/s]\n"
     ]
    },
    {
     "name": "stdout",
     "output_type": "stream",
     "text": [
      "Epoch 633 Mean Reward: 86.0924298171997\n"
     ]
    },
    {
     "name": "stderr",
     "output_type": "stream",
     "text": [
      "100%|██████████| 2000/2000 [29:02<00:00,  1.15it/s]\n"
     ]
    },
    {
     "name": "stdout",
     "output_type": "stream",
     "text": [
      "Epoch 634 Mean Reward: 101.76932778167725\n"
     ]
    },
    {
     "name": "stderr",
     "output_type": "stream",
     "text": [
      "100%|██████████| 2000/2000 [23:24<00:00,  1.42it/s]\n"
     ]
    },
    {
     "name": "stdout",
     "output_type": "stream",
     "text": [
      "Epoch 635 Mean Reward: 79.14474587249755\n"
     ]
    },
    {
     "name": "stderr",
     "output_type": "stream",
     "text": [
      "100%|██████████| 2000/2000 [24:15<00:00,  1.37it/s]\n"
     ]
    },
    {
     "name": "stdout",
     "output_type": "stream",
     "text": [
      "Epoch 636 Mean Reward: 90.041384765625\n"
     ]
    },
    {
     "name": "stderr",
     "output_type": "stream",
     "text": [
      "100%|██████████| 2000/2000 [23:24<00:00,  1.42it/s]\n"
     ]
    },
    {
     "name": "stdout",
     "output_type": "stream",
     "text": [
      "Epoch 637 Mean Reward: 95.58714163970947\n"
     ]
    },
    {
     "name": "stderr",
     "output_type": "stream",
     "text": [
      "100%|██████████| 2000/2000 [23:17<00:00,  1.43it/s]\n"
     ]
    },
    {
     "name": "stdout",
     "output_type": "stream",
     "text": [
      "Epoch 638 Mean Reward: 89.65977295684814\n"
     ]
    },
    {
     "name": "stderr",
     "output_type": "stream",
     "text": [
      "100%|██████████| 2000/2000 [22:14<00:00,  1.50it/s]\n"
     ]
    },
    {
     "name": "stdout",
     "output_type": "stream",
     "text": [
      "Epoch 639 Mean Reward: 102.54130960083008\n"
     ]
    },
    {
     "name": "stderr",
     "output_type": "stream",
     "text": [
      "100%|██████████| 2000/2000 [24:07<00:00,  1.38it/s]\n"
     ]
    },
    {
     "name": "stdout",
     "output_type": "stream",
     "text": [
      "Epoch 640 Mean Reward: 47.419989852905275\n",
      "Epoch 640 Model saved to ./checkpoints/deadly_corridor.ckpt\n",
      "Epoch 640 test with depth buffer:\n",
      "Test Episode 1 Reward: -115.98283386230469\n",
      "Test Episode 2 Reward: -37.269805908203125\n",
      "Test Episode 3 Reward: -115.98283386230469\n",
      "Test Episode 4 Reward: -115.98283386230469\n",
      "Test Episode 5 Reward: -4.9392852783203125\n",
      "Test Episode 6 Reward: -115.98283386230469\n",
      "Test Episode 7 Reward: 0.817138671875\n",
      "Test Episode 8 Reward: 272.6472473144531\n",
      "Test Episode 9 Reward: -115.98283386230469\n",
      "Test Episode 10 Reward: -115.98283386230469\n",
      "Average Test Reward (with depth buffer:) -46.46417083740234\n",
      "Epoch 640 test without depth buffer:\n",
      "Test Episode 1 Reward: -81.94874572753906\n",
      "Test Episode 2 Reward: -81.94874572753906\n",
      "Test Episode 3 Reward: -115.98362731933594\n",
      "Test Episode 4 Reward: 31.7958984375\n",
      "Test Episode 5 Reward: -81.94874572753906\n",
      "Test Episode 6 Reward: -81.94874572753906\n",
      "Test Episode 7 Reward: -87.9437255859375\n",
      "Test Episode 8 Reward: -115.96609497070312\n",
      "Test Episode 9 Reward: -32.4635009765625\n",
      "Test Episode 10 Reward: -23.291259765625\n",
      "Average Test Reward (without depth buffer): -67.16472930908203\n"
     ]
    },
    {
     "name": "stderr",
     "output_type": "stream",
     "text": [
      "100%|██████████| 2000/2000 [24:33<00:00,  1.36it/s]\n"
     ]
    },
    {
     "name": "stdout",
     "output_type": "stream",
     "text": [
      "Epoch 641 Mean Reward: 75.8365107421875\n"
     ]
    },
    {
     "name": "stderr",
     "output_type": "stream",
     "text": [
      "100%|██████████| 2000/2000 [24:01<00:00,  1.39it/s]\n"
     ]
    },
    {
     "name": "stdout",
     "output_type": "stream",
     "text": [
      "Epoch 642 Mean Reward: 99.9058984298706\n"
     ]
    },
    {
     "name": "stderr",
     "output_type": "stream",
     "text": [
      "100%|██████████| 2000/2000 [23:12<00:00,  1.44it/s]\n"
     ]
    },
    {
     "name": "stdout",
     "output_type": "stream",
     "text": [
      "Epoch 643 Mean Reward: 130.7281398086548\n"
     ]
    },
    {
     "name": "stderr",
     "output_type": "stream",
     "text": [
      "100%|██████████| 2000/2000 [23:25<00:00,  1.42it/s]\n"
     ]
    },
    {
     "name": "stdout",
     "output_type": "stream",
     "text": [
      "Epoch 644 Mean Reward: 101.7898572921753\n"
     ]
    },
    {
     "name": "stderr",
     "output_type": "stream",
     "text": [
      "100%|██████████| 2000/2000 [23:05<00:00,  1.44it/s]\n"
     ]
    },
    {
     "name": "stdout",
     "output_type": "stream",
     "text": [
      "Epoch 645 Mean Reward: 89.96411670684815\n"
     ]
    },
    {
     "name": "stderr",
     "output_type": "stream",
     "text": [
      "100%|██████████| 2000/2000 [25:09<00:00,  1.32it/s]\n"
     ]
    },
    {
     "name": "stdout",
     "output_type": "stream",
     "text": [
      "Epoch 646 Mean Reward: 82.61873350524903\n"
     ]
    },
    {
     "name": "stderr",
     "output_type": "stream",
     "text": [
      "100%|██████████| 2000/2000 [24:15<00:00,  1.37it/s]\n"
     ]
    },
    {
     "name": "stdout",
     "output_type": "stream",
     "text": [
      "Epoch 647 Mean Reward: 111.74670109558106\n"
     ]
    },
    {
     "name": "stderr",
     "output_type": "stream",
     "text": [
      "100%|██████████| 2000/2000 [24:52<00:00,  1.34it/s]\n"
     ]
    },
    {
     "name": "stdout",
     "output_type": "stream",
     "text": [
      "Epoch 648 Mean Reward: 122.57371028900147\n"
     ]
    },
    {
     "name": "stderr",
     "output_type": "stream",
     "text": [
      "100%|██████████| 2000/2000 [23:24<00:00,  1.42it/s]\n"
     ]
    },
    {
     "name": "stdout",
     "output_type": "stream",
     "text": [
      "Epoch 649 Mean Reward: 105.94458131408692\n"
     ]
    },
    {
     "name": "stderr",
     "output_type": "stream",
     "text": [
      "100%|██████████| 2000/2000 [23:42<00:00,  1.41it/s]\n"
     ]
    },
    {
     "name": "stdout",
     "output_type": "stream",
     "text": [
      "Epoch 650 Mean Reward: 85.975506980896\n"
     ]
    },
    {
     "name": "stderr",
     "output_type": "stream",
     "text": [
      "100%|██████████| 2000/2000 [23:36<00:00,  1.41it/s]\n"
     ]
    },
    {
     "name": "stdout",
     "output_type": "stream",
     "text": [
      "Epoch 651 Mean Reward: 122.11826490783692\n"
     ]
    },
    {
     "name": "stderr",
     "output_type": "stream",
     "text": [
      "100%|██████████| 2000/2000 [24:44<00:00,  1.35it/s]\n"
     ]
    },
    {
     "name": "stdout",
     "output_type": "stream",
     "text": [
      "Epoch 652 Mean Reward: 133.2492008972168\n"
     ]
    },
    {
     "name": "stderr",
     "output_type": "stream",
     "text": [
      "100%|██████████| 2000/2000 [25:39<00:00,  1.30it/s]\n"
     ]
    },
    {
     "name": "stdout",
     "output_type": "stream",
     "text": [
      "Epoch 653 Mean Reward: 82.56588372802734\n"
     ]
    },
    {
     "name": "stderr",
     "output_type": "stream",
     "text": [
      "100%|██████████| 2000/2000 [26:53<00:00,  1.24it/s]\n"
     ]
    },
    {
     "name": "stdout",
     "output_type": "stream",
     "text": [
      "Epoch 654 Mean Reward: 94.88817157745362\n"
     ]
    },
    {
     "name": "stderr",
     "output_type": "stream",
     "text": [
      "100%|██████████| 2000/2000 [25:14<00:00,  1.32it/s]\n"
     ]
    },
    {
     "name": "stdout",
     "output_type": "stream",
     "text": [
      "Epoch 655 Mean Reward: 67.90135636901856\n"
     ]
    },
    {
     "name": "stderr",
     "output_type": "stream",
     "text": [
      "100%|██████████| 2000/2000 [35:24<00:00,  1.06s/it]\n"
     ]
    },
    {
     "name": "stdout",
     "output_type": "stream",
     "text": [
      "Epoch 656 Mean Reward: 98.35569133758545\n"
     ]
    },
    {
     "name": "stderr",
     "output_type": "stream",
     "text": [
      "100%|██████████| 2000/2000 [27:34<00:00,  1.21it/s]\n"
     ]
    },
    {
     "name": "stdout",
     "output_type": "stream",
     "text": [
      "Epoch 657 Mean Reward: 55.83406269836426\n"
     ]
    },
    {
     "name": "stderr",
     "output_type": "stream",
     "text": [
      "100%|██████████| 2000/2000 [25:10<00:00,  1.32it/s]\n"
     ]
    },
    {
     "name": "stdout",
     "output_type": "stream",
     "text": [
      "Epoch 658 Mean Reward: 72.87939279937744\n"
     ]
    },
    {
     "name": "stderr",
     "output_type": "stream",
     "text": [
      "100%|██████████| 2000/2000 [24:07<00:00,  1.38it/s]\n"
     ]
    },
    {
     "name": "stdout",
     "output_type": "stream",
     "text": [
      "Epoch 659 Mean Reward: 115.32045668792725\n"
     ]
    },
    {
     "name": "stderr",
     "output_type": "stream",
     "text": [
      "100%|██████████| 2000/2000 [32:27<00:00,  1.03it/s]\n"
     ]
    },
    {
     "name": "stdout",
     "output_type": "stream",
     "text": [
      "Epoch 660 Mean Reward: 131.76605548858643\n",
      "Epoch 660 Model saved to ./checkpoints/deadly_corridor.ckpt\n",
      "Epoch 660 test with depth buffer:\n",
      "Test Episode 1 Reward: 22.334991455078125\n",
      "Test Episode 2 Reward: -115.99432373046875\n",
      "Test Episode 3 Reward: -115.99432373046875\n",
      "Test Episode 4 Reward: 22.650466918945312\n",
      "Test Episode 5 Reward: -108.91926574707031\n",
      "Test Episode 6 Reward: -115.99432373046875\n",
      "Test Episode 7 Reward: -44.22377014160156\n",
      "Test Episode 8 Reward: -47.30183410644531\n",
      "Test Episode 9 Reward: -115.99432373046875\n",
      "Test Episode 10 Reward: -115.97587585449219\n",
      "Average Test Reward (with depth buffer:) -73.5412582397461\n",
      "Epoch 660 test without depth buffer:\n",
      "Test Episode 1 Reward: -115.73959350585938\n",
      "Test Episode 2 Reward: -115.73959350585938\n",
      "Test Episode 3 Reward: -115.97926330566406\n",
      "Test Episode 4 Reward: -9.371826171875\n",
      "Test Episode 5 Reward: -4.1090545654296875\n",
      "Test Episode 6 Reward: -115.73959350585938\n",
      "Test Episode 7 Reward: -49.804443359375\n",
      "Test Episode 8 Reward: -115.73959350585938\n",
      "Test Episode 9 Reward: -115.73959350585938\n",
      "Test Episode 10 Reward: -32.2520751953125\n",
      "Average Test Reward (without depth buffer): -79.0214630126953\n"
     ]
    },
    {
     "name": "stderr",
     "output_type": "stream",
     "text": [
      "100%|██████████| 2000/2000 [35:24<00:00,  1.06s/it]\n"
     ]
    },
    {
     "name": "stdout",
     "output_type": "stream",
     "text": [
      "Epoch 661 Mean Reward: 75.08505500030518\n"
     ]
    },
    {
     "name": "stderr",
     "output_type": "stream",
     "text": [
      "100%|██████████| 2000/2000 [40:37<00:00,  1.22s/it]\n"
     ]
    },
    {
     "name": "stdout",
     "output_type": "stream",
     "text": [
      "Epoch 662 Mean Reward: 36.3979575958252\n"
     ]
    },
    {
     "name": "stderr",
     "output_type": "stream",
     "text": [
      "100%|██████████| 2000/2000 [24:41<00:00,  1.35it/s]\n"
     ]
    },
    {
     "name": "stdout",
     "output_type": "stream",
     "text": [
      "Epoch 663 Mean Reward: 31.635557258605957\n"
     ]
    },
    {
     "name": "stderr",
     "output_type": "stream",
     "text": [
      "100%|██████████| 2000/2000 [12:19<00:00,  2.70it/s]\n"
     ]
    },
    {
     "name": "stdout",
     "output_type": "stream",
     "text": [
      "Epoch 664 Mean Reward: 25.44496248626709\n"
     ]
    },
    {
     "name": "stderr",
     "output_type": "stream",
     "text": [
      "100%|██████████| 2000/2000 [12:15<00:00,  2.72it/s]\n"
     ]
    },
    {
     "name": "stdout",
     "output_type": "stream",
     "text": [
      "Epoch 665 Mean Reward: 49.377548431396484\n"
     ]
    },
    {
     "name": "stderr",
     "output_type": "stream",
     "text": [
      "100%|██████████| 2000/2000 [12:34<00:00,  2.65it/s]\n"
     ]
    },
    {
     "name": "stdout",
     "output_type": "stream",
     "text": [
      "Epoch 666 Mean Reward: 47.68574413299561\n"
     ]
    },
    {
     "name": "stderr",
     "output_type": "stream",
     "text": [
      "100%|██████████| 2000/2000 [22:33<00:00,  1.48it/s]\n"
     ]
    },
    {
     "name": "stdout",
     "output_type": "stream",
     "text": [
      "Epoch 667 Mean Reward: 22.604829025268554\n"
     ]
    },
    {
     "name": "stderr",
     "output_type": "stream",
     "text": [
      "100%|██████████| 2000/2000 [21:25<00:00,  1.56it/s]\n"
     ]
    },
    {
     "name": "stdout",
     "output_type": "stream",
     "text": [
      "Epoch 668 Mean Reward: 26.949697814941405\n"
     ]
    },
    {
     "name": "stderr",
     "output_type": "stream",
     "text": [
      "100%|██████████| 2000/2000 [19:59<00:00,  1.67it/s]\n"
     ]
    },
    {
     "name": "stdout",
     "output_type": "stream",
     "text": [
      "Epoch 669 Mean Reward: 41.39798935699463\n"
     ]
    },
    {
     "name": "stderr",
     "output_type": "stream",
     "text": [
      "100%|██████████| 2000/2000 [20:21<00:00,  1.64it/s]\n"
     ]
    },
    {
     "name": "stdout",
     "output_type": "stream",
     "text": [
      "Epoch 670 Mean Reward: 56.90867942047119\n"
     ]
    },
    {
     "name": "stderr",
     "output_type": "stream",
     "text": [
      "100%|██████████| 2000/2000 [16:34<00:00,  2.01it/s]\n"
     ]
    },
    {
     "name": "stdout",
     "output_type": "stream",
     "text": [
      "Epoch 671 Mean Reward: 81.03308572387695\n"
     ]
    },
    {
     "name": "stderr",
     "output_type": "stream",
     "text": [
      "100%|██████████| 2000/2000 [17:57<00:00,  1.86it/s]\n"
     ]
    },
    {
     "name": "stdout",
     "output_type": "stream",
     "text": [
      "Epoch 672 Mean Reward: 75.84894877624512\n"
     ]
    },
    {
     "name": "stderr",
     "output_type": "stream",
     "text": [
      "100%|██████████| 2000/2000 [17:45<00:00,  1.88it/s]\n"
     ]
    },
    {
     "name": "stdout",
     "output_type": "stream",
     "text": [
      "Epoch 673 Mean Reward: 69.22758190917969\n"
     ]
    },
    {
     "name": "stderr",
     "output_type": "stream",
     "text": [
      "100%|██████████| 2000/2000 [16:52<00:00,  1.97it/s]\n"
     ]
    },
    {
     "name": "stdout",
     "output_type": "stream",
     "text": [
      "Epoch 674 Mean Reward: 71.0726117477417\n"
     ]
    },
    {
     "name": "stderr",
     "output_type": "stream",
     "text": [
      "100%|██████████| 2000/2000 [17:29<00:00,  1.91it/s]\n"
     ]
    },
    {
     "name": "stdout",
     "output_type": "stream",
     "text": [
      "Epoch 675 Mean Reward: 52.43657514190674\n"
     ]
    },
    {
     "name": "stderr",
     "output_type": "stream",
     "text": [
      "100%|██████████| 2000/2000 [17:53<00:00,  1.86it/s]\n"
     ]
    },
    {
     "name": "stdout",
     "output_type": "stream",
     "text": [
      "Epoch 676 Mean Reward: 58.876421531677245\n"
     ]
    },
    {
     "name": "stderr",
     "output_type": "stream",
     "text": [
      "100%|██████████| 2000/2000 [16:58<00:00,  1.96it/s]\n"
     ]
    },
    {
     "name": "stdout",
     "output_type": "stream",
     "text": [
      "Epoch 677 Mean Reward: 73.0941176147461\n"
     ]
    },
    {
     "name": "stderr",
     "output_type": "stream",
     "text": [
      "100%|██████████| 2000/2000 [17:24<00:00,  1.91it/s]\n"
     ]
    },
    {
     "name": "stdout",
     "output_type": "stream",
     "text": [
      "Epoch 678 Mean Reward: 61.10403937530518\n"
     ]
    },
    {
     "name": "stderr",
     "output_type": "stream",
     "text": [
      "100%|██████████| 2000/2000 [17:29<00:00,  1.91it/s]\n"
     ]
    },
    {
     "name": "stdout",
     "output_type": "stream",
     "text": [
      "Epoch 679 Mean Reward: 79.21310285949707\n"
     ]
    },
    {
     "name": "stderr",
     "output_type": "stream",
     "text": [
      "100%|██████████| 2000/2000 [17:28<00:00,  1.91it/s]\n"
     ]
    },
    {
     "name": "stdout",
     "output_type": "stream",
     "text": [
      "Epoch 680 Mean Reward: 87.8566658782959\n",
      "Epoch 680 Model saved to ./checkpoints/deadly_corridor.ckpt\n",
      "Epoch 680 test with depth buffer:\n",
      "Test Episode 1 Reward: 25.678253173828125\n",
      "Test Episode 2 Reward: -115.99432373046875\n",
      "Test Episode 3 Reward: 27.560943603515625\n",
      "Test Episode 4 Reward: -115.99432373046875\n",
      "Test Episode 5 Reward: -27.799057006835938\n",
      "Test Episode 6 Reward: -115.99432373046875\n",
      "Test Episode 7 Reward: 3.7785491943359375\n",
      "Test Episode 8 Reward: -18.870513916015625\n",
      "Test Episode 9 Reward: -115.99432373046875\n",
      "Test Episode 10 Reward: -115.99432373046875\n",
      "Average Test Reward (with depth buffer:) -56.962344360351565\n",
      "Epoch 680 test without depth buffer:\n",
      "Test Episode 1 Reward: -114.27468872070312\n",
      "Test Episode 2 Reward: -14.715606689453125\n",
      "Test Episode 3 Reward: 26.71002197265625\n",
      "Test Episode 4 Reward: -12.417953491210938\n",
      "Test Episode 5 Reward: -114.27468872070312\n",
      "Test Episode 6 Reward: 18.274078369140625\n",
      "Test Episode 7 Reward: -114.27468872070312\n",
      "Test Episode 8 Reward: -114.27468872070312\n",
      "Test Episode 9 Reward: 12.157440185546875\n",
      "Test Episode 10 Reward: -2.6594085693359375\n",
      "Average Test Reward (without depth buffer): -42.97501831054687\n"
     ]
    },
    {
     "name": "stderr",
     "output_type": "stream",
     "text": [
      "100%|██████████| 2000/2000 [19:05<00:00,  1.75it/s]\n"
     ]
    },
    {
     "name": "stdout",
     "output_type": "stream",
     "text": [
      "Epoch 681 Mean Reward: 44.55902276611328\n"
     ]
    },
    {
     "name": "stderr",
     "output_type": "stream",
     "text": [
      "100%|██████████| 2000/2000 [18:54<00:00,  1.76it/s]\n"
     ]
    },
    {
     "name": "stdout",
     "output_type": "stream",
     "text": [
      "Epoch 682 Mean Reward: 44.75604026031494\n"
     ]
    },
    {
     "name": "stderr",
     "output_type": "stream",
     "text": [
      "100%|██████████| 2000/2000 [18:23<00:00,  1.81it/s]\n"
     ]
    },
    {
     "name": "stdout",
     "output_type": "stream",
     "text": [
      "Epoch 683 Mean Reward: 39.1462370223999\n"
     ]
    },
    {
     "name": "stderr",
     "output_type": "stream",
     "text": [
      "100%|██████████| 2000/2000 [18:22<00:00,  1.81it/s]\n"
     ]
    },
    {
     "name": "stdout",
     "output_type": "stream",
     "text": [
      "Epoch 684 Mean Reward: 11.93814974975586\n"
     ]
    },
    {
     "name": "stderr",
     "output_type": "stream",
     "text": [
      "100%|██████████| 2000/2000 [18:40<00:00,  1.79it/s]\n"
     ]
    },
    {
     "name": "stdout",
     "output_type": "stream",
     "text": [
      "Epoch 685 Mean Reward: 34.29029249572754\n"
     ]
    },
    {
     "name": "stderr",
     "output_type": "stream",
     "text": [
      "100%|██████████| 2000/2000 [18:13<00:00,  1.83it/s]\n"
     ]
    },
    {
     "name": "stdout",
     "output_type": "stream",
     "text": [
      "Epoch 686 Mean Reward: 51.31032292175293\n"
     ]
    },
    {
     "name": "stderr",
     "output_type": "stream",
     "text": [
      "100%|██████████| 2000/2000 [17:53<00:00,  1.86it/s]\n"
     ]
    },
    {
     "name": "stdout",
     "output_type": "stream",
     "text": [
      "Epoch 687 Mean Reward: 31.69300373840332\n"
     ]
    },
    {
     "name": "stderr",
     "output_type": "stream",
     "text": [
      "100%|██████████| 2000/2000 [16:59<00:00,  1.96it/s]\n"
     ]
    },
    {
     "name": "stdout",
     "output_type": "stream",
     "text": [
      "Epoch 688 Mean Reward: 37.92448149108887\n"
     ]
    },
    {
     "name": "stderr",
     "output_type": "stream",
     "text": [
      "100%|██████████| 2000/2000 [17:27<00:00,  1.91it/s]\n"
     ]
    },
    {
     "name": "stdout",
     "output_type": "stream",
     "text": [
      "Epoch 689 Mean Reward: 15.112093841552735\n"
     ]
    },
    {
     "name": "stderr",
     "output_type": "stream",
     "text": [
      "100%|██████████| 2000/2000 [22:55<00:00,  1.45it/s]\n"
     ]
    },
    {
     "name": "stdout",
     "output_type": "stream",
     "text": [
      "Epoch 690 Mean Reward: 18.76194896697998\n"
     ]
    },
    {
     "name": "stderr",
     "output_type": "stream",
     "text": [
      "100%|██████████| 2000/2000 [20:56<00:00,  1.59it/s]\n"
     ]
    },
    {
     "name": "stdout",
     "output_type": "stream",
     "text": [
      "Epoch 691 Mean Reward: 33.715715881347656\n"
     ]
    },
    {
     "name": "stderr",
     "output_type": "stream",
     "text": [
      "100%|██████████| 2000/2000 [19:53<00:00,  1.68it/s]\n"
     ]
    },
    {
     "name": "stdout",
     "output_type": "stream",
     "text": [
      "Epoch 692 Mean Reward: 21.576040740966796\n"
     ]
    },
    {
     "name": "stderr",
     "output_type": "stream",
     "text": [
      "100%|██████████| 2000/2000 [16:05<00:00,  2.07it/s]\n"
     ]
    },
    {
     "name": "stdout",
     "output_type": "stream",
     "text": [
      "Epoch 693 Mean Reward: 35.775812324523926\n"
     ]
    },
    {
     "name": "stderr",
     "output_type": "stream",
     "text": [
      "100%|██████████| 2000/2000 [17:13<00:00,  1.93it/s]\n"
     ]
    },
    {
     "name": "stdout",
     "output_type": "stream",
     "text": [
      "Epoch 694 Mean Reward: 15.166252151489259\n"
     ]
    },
    {
     "name": "stderr",
     "output_type": "stream",
     "text": [
      "100%|██████████| 2000/2000 [17:51<00:00,  1.87it/s]\n"
     ]
    },
    {
     "name": "stdout",
     "output_type": "stream",
     "text": [
      "Epoch 695 Mean Reward: 26.440825790405274\n"
     ]
    },
    {
     "name": "stderr",
     "output_type": "stream",
     "text": [
      "100%|██████████| 2000/2000 [23:09<00:00,  1.44it/s]\n"
     ]
    },
    {
     "name": "stdout",
     "output_type": "stream",
     "text": [
      "Epoch 696 Mean Reward: 11.303585159301758\n"
     ]
    },
    {
     "name": "stderr",
     "output_type": "stream",
     "text": [
      "100%|██████████| 2000/2000 [21:32<00:00,  1.55it/s]\n"
     ]
    },
    {
     "name": "stdout",
     "output_type": "stream",
     "text": [
      "Epoch 697 Mean Reward: 9.689432640075683\n"
     ]
    },
    {
     "name": "stderr",
     "output_type": "stream",
     "text": [
      "100%|██████████| 2000/2000 [38:32<00:00,  1.16s/it]\n"
     ]
    },
    {
     "name": "stdout",
     "output_type": "stream",
     "text": [
      "Epoch 698 Mean Reward: 12.989798851013184\n"
     ]
    },
    {
     "name": "stderr",
     "output_type": "stream",
     "text": [
      "100%|██████████| 2000/2000 [25:29<00:00,  1.31it/s]\n"
     ]
    },
    {
     "name": "stdout",
     "output_type": "stream",
     "text": [
      "Epoch 699 Mean Reward: 26.676347373962404\n"
     ]
    },
    {
     "name": "stderr",
     "output_type": "stream",
     "text": [
      "100%|██████████| 2000/2000 [23:00<00:00,  1.45it/s]\n"
     ]
    },
    {
     "name": "stdout",
     "output_type": "stream",
     "text": [
      "Epoch 700 Mean Reward: 8.076030250549316\n",
      "Epoch 700 Model saved to ./checkpoints/deadly_corridor.ckpt\n",
      "Epoch 700 test with depth buffer:\n",
      "Test Episode 1 Reward: -92.76988220214844\n",
      "Test Episode 2 Reward: 53.63639831542969\n",
      "Test Episode 3 Reward: -84.52760314941406\n",
      "Test Episode 4 Reward: -92.76988220214844\n",
      "Test Episode 5 Reward: -92.76988220214844\n",
      "Test Episode 6 Reward: -92.76988220214844\n",
      "Test Episode 7 Reward: -92.76988220214844\n",
      "Test Episode 8 Reward: -92.76988220214844\n",
      "Test Episode 9 Reward: -92.76988220214844\n",
      "Test Episode 10 Reward: 24.695693969726562\n",
      "Average Test Reward (with depth buffer:) -65.55846862792968\n",
      "Epoch 700 test without depth buffer:\n",
      "Test Episode 1 Reward: 40.16215515136719\n",
      "Test Episode 2 Reward: 40.16215515136719\n",
      "Test Episode 3 Reward: 66.24662780761719\n",
      "Test Episode 4 Reward: 40.16215515136719\n",
      "Test Episode 5 Reward: 40.16215515136719\n",
      "Test Episode 6 Reward: 7.55377197265625\n",
      "Test Episode 7 Reward: 40.16215515136719\n",
      "Test Episode 8 Reward: -111.21755981445312\n",
      "Test Episode 9 Reward: 32.647125244140625\n",
      "Test Episode 10 Reward: -48.61607360839844\n",
      "Average Test Reward (without depth buffer): 14.742466735839844\n"
     ]
    },
    {
     "name": "stderr",
     "output_type": "stream",
     "text": [
      "100%|██████████| 2000/2000 [21:46<00:00,  1.53it/s]\n"
     ]
    },
    {
     "name": "stdout",
     "output_type": "stream",
     "text": [
      "Epoch 701 Mean Reward: 41.262461738586424\n"
     ]
    },
    {
     "name": "stderr",
     "output_type": "stream",
     "text": [
      "100%|██████████| 2000/2000 [22:32<00:00,  1.48it/s]\n"
     ]
    },
    {
     "name": "stdout",
     "output_type": "stream",
     "text": [
      "Epoch 702 Mean Reward: 43.40277784729004\n"
     ]
    },
    {
     "name": "stderr",
     "output_type": "stream",
     "text": [
      "100%|██████████| 2000/2000 [21:55<00:00,  1.52it/s]\n"
     ]
    },
    {
     "name": "stdout",
     "output_type": "stream",
     "text": [
      "Epoch 703 Mean Reward: 50.01367323303223\n"
     ]
    },
    {
     "name": "stderr",
     "output_type": "stream",
     "text": [
      "100%|██████████| 2000/2000 [23:28<00:00,  1.42it/s]\n"
     ]
    },
    {
     "name": "stdout",
     "output_type": "stream",
     "text": [
      "Epoch 704 Mean Reward: 45.19113607788086\n"
     ]
    },
    {
     "name": "stderr",
     "output_type": "stream",
     "text": [
      "100%|██████████| 2000/2000 [21:41<00:00,  1.54it/s]\n"
     ]
    },
    {
     "name": "stdout",
     "output_type": "stream",
     "text": [
      "Epoch 705 Mean Reward: 30.84267943572998\n"
     ]
    },
    {
     "name": "stderr",
     "output_type": "stream",
     "text": [
      "100%|██████████| 2000/2000 [22:24<00:00,  1.49it/s]\n"
     ]
    },
    {
     "name": "stdout",
     "output_type": "stream",
     "text": [
      "Epoch 706 Mean Reward: 44.92321465301514\n"
     ]
    },
    {
     "name": "stderr",
     "output_type": "stream",
     "text": [
      "100%|██████████| 2000/2000 [21:46<00:00,  1.53it/s]\n"
     ]
    },
    {
     "name": "stdout",
     "output_type": "stream",
     "text": [
      "Epoch 707 Mean Reward: 52.704435195922855\n"
     ]
    },
    {
     "name": "stderr",
     "output_type": "stream",
     "text": [
      "100%|██████████| 2000/2000 [20:41<00:00,  1.61it/s]\n"
     ]
    },
    {
     "name": "stdout",
     "output_type": "stream",
     "text": [
      "Epoch 708 Mean Reward: 52.76175427246094\n"
     ]
    },
    {
     "name": "stderr",
     "output_type": "stream",
     "text": [
      "100%|██████████| 2000/2000 [20:36<00:00,  1.62it/s]\n"
     ]
    },
    {
     "name": "stdout",
     "output_type": "stream",
     "text": [
      "Epoch 709 Mean Reward: 37.90297833251953\n"
     ]
    },
    {
     "name": "stderr",
     "output_type": "stream",
     "text": [
      "100%|██████████| 2000/2000 [21:14<00:00,  1.57it/s]\n"
     ]
    },
    {
     "name": "stdout",
     "output_type": "stream",
     "text": [
      "Epoch 710 Mean Reward: 24.055689682006836\n"
     ]
    },
    {
     "name": "stderr",
     "output_type": "stream",
     "text": [
      "100%|██████████| 2000/2000 [22:47<00:00,  1.46it/s]\n"
     ]
    },
    {
     "name": "stdout",
     "output_type": "stream",
     "text": [
      "Epoch 711 Mean Reward: 51.106491790771486\n"
     ]
    },
    {
     "name": "stderr",
     "output_type": "stream",
     "text": [
      "100%|██████████| 2000/2000 [21:18<00:00,  1.56it/s]\n"
     ]
    },
    {
     "name": "stdout",
     "output_type": "stream",
     "text": [
      "Epoch 712 Mean Reward: 88.81249747467041\n"
     ]
    },
    {
     "name": "stderr",
     "output_type": "stream",
     "text": [
      "100%|██████████| 2000/2000 [22:29<00:00,  1.48it/s]\n"
     ]
    },
    {
     "name": "stdout",
     "output_type": "stream",
     "text": [
      "Epoch 713 Mean Reward: 79.10213314056396\n"
     ]
    },
    {
     "name": "stderr",
     "output_type": "stream",
     "text": [
      "100%|██████████| 2000/2000 [21:19<00:00,  1.56it/s]\n"
     ]
    },
    {
     "name": "stdout",
     "output_type": "stream",
     "text": [
      "Epoch 714 Mean Reward: 63.399128814697264\n"
     ]
    },
    {
     "name": "stderr",
     "output_type": "stream",
     "text": [
      "100%|██████████| 2000/2000 [20:09<00:00,  1.65it/s]\n"
     ]
    },
    {
     "name": "stdout",
     "output_type": "stream",
     "text": [
      "Epoch 715 Mean Reward: 61.20968148040772\n"
     ]
    },
    {
     "name": "stderr",
     "output_type": "stream",
     "text": [
      "100%|██████████| 2000/2000 [17:31<00:00,  1.90it/s]\n"
     ]
    },
    {
     "name": "stdout",
     "output_type": "stream",
     "text": [
      "Epoch 716 Mean Reward: 19.347790473937987\n"
     ]
    },
    {
     "name": "stderr",
     "output_type": "stream",
     "text": [
      "100%|██████████| 2000/2000 [16:45<00:00,  1.99it/s]\n"
     ]
    },
    {
     "name": "stdout",
     "output_type": "stream",
     "text": [
      "Epoch 717 Mean Reward: 13.269684211730958\n"
     ]
    },
    {
     "name": "stderr",
     "output_type": "stream",
     "text": [
      "100%|██████████| 2000/2000 [15:38<00:00,  2.13it/s]\n"
     ]
    },
    {
     "name": "stdout",
     "output_type": "stream",
     "text": [
      "Epoch 718 Mean Reward: 10.368951301574707\n"
     ]
    },
    {
     "name": "stderr",
     "output_type": "stream",
     "text": [
      "100%|██████████| 2000/2000 [27:30<00:00,  1.21it/s]\n"
     ]
    },
    {
     "name": "stdout",
     "output_type": "stream",
     "text": [
      "Epoch 719 Mean Reward: 27.163397789001465\n"
     ]
    },
    {
     "name": "stderr",
     "output_type": "stream",
     "text": [
      "100%|██████████| 2000/2000 [26:43<00:00,  1.25it/s]\n"
     ]
    },
    {
     "name": "stdout",
     "output_type": "stream",
     "text": [
      "Epoch 720 Mean Reward: 31.118589820861818\n",
      "Epoch 720 Model saved to ./checkpoints/deadly_corridor.ckpt\n",
      "Epoch 720 test with depth buffer:\n",
      "Test Episode 1 Reward: 23.300460815429688\n",
      "Test Episode 2 Reward: 30.386016845703125\n",
      "Test Episode 3 Reward: 96.55271911621094\n",
      "Test Episode 4 Reward: -98.90727233886719\n",
      "Test Episode 5 Reward: -24.501922607421875\n",
      "Test Episode 6 Reward: -98.90727233886719\n",
      "Test Episode 7 Reward: -16.4302978515625\n",
      "Test Episode 8 Reward: -95.79220581054688\n",
      "Test Episode 9 Reward: -30.43353271484375\n",
      "Test Episode 10 Reward: -98.90727233886719\n",
      "Average Test Reward (with depth buffer:) -31.36405792236328\n",
      "Epoch 720 test without depth buffer:\n",
      "Test Episode 1 Reward: -21.649322509765625\n",
      "Test Episode 2 Reward: 5.9858245849609375\n",
      "Test Episode 3 Reward: -115.4254150390625\n",
      "Test Episode 4 Reward: -115.4254150390625\n",
      "Test Episode 5 Reward: -115.4254150390625\n",
      "Test Episode 6 Reward: -115.4254150390625\n",
      "Test Episode 7 Reward: -115.4254150390625\n",
      "Test Episode 8 Reward: -115.4254150390625\n",
      "Test Episode 9 Reward: -115.4254150390625\n",
      "Test Episode 10 Reward: -115.4254150390625\n",
      "Average Test Reward (without depth buffer): -93.90668182373047\n"
     ]
    },
    {
     "name": "stderr",
     "output_type": "stream",
     "text": [
      "100%|██████████| 2000/2000 [21:12<00:00,  1.57it/s]\n"
     ]
    },
    {
     "name": "stdout",
     "output_type": "stream",
     "text": [
      "Epoch 721 Mean Reward: 67.35145809173584\n"
     ]
    },
    {
     "name": "stderr",
     "output_type": "stream",
     "text": [
      "100%|██████████| 2000/2000 [30:40<00:00,  1.09it/s]\n"
     ]
    },
    {
     "name": "stdout",
     "output_type": "stream",
     "text": [
      "Epoch 722 Mean Reward: 41.122126258850095\n"
     ]
    },
    {
     "name": "stderr",
     "output_type": "stream",
     "text": [
      "100%|██████████| 2000/2000 [33:20<00:00,  1.00s/it]\n"
     ]
    },
    {
     "name": "stdout",
     "output_type": "stream",
     "text": [
      "Epoch 723 Mean Reward: 43.50893435668945\n"
     ]
    },
    {
     "name": "stderr",
     "output_type": "stream",
     "text": [
      "100%|██████████| 2000/2000 [28:42<00:00,  1.16it/s]\n"
     ]
    },
    {
     "name": "stdout",
     "output_type": "stream",
     "text": [
      "Epoch 724 Mean Reward: 63.20879425811768\n"
     ]
    },
    {
     "name": "stderr",
     "output_type": "stream",
     "text": [
      "100%|██████████| 2000/2000 [31:39<00:00,  1.05it/s]\n"
     ]
    },
    {
     "name": "stdout",
     "output_type": "stream",
     "text": [
      "Epoch 725 Mean Reward: 26.843808166503905\n"
     ]
    },
    {
     "name": "stderr",
     "output_type": "stream",
     "text": [
      "100%|██████████| 2000/2000 [14:51<00:00,  2.24it/s]\n"
     ]
    },
    {
     "name": "stdout",
     "output_type": "stream",
     "text": [
      "Epoch 726 Mean Reward: 36.887479301452636\n"
     ]
    },
    {
     "name": "stderr",
     "output_type": "stream",
     "text": [
      "100%|██████████| 2000/2000 [11:38<00:00,  2.86it/s]\n"
     ]
    },
    {
     "name": "stdout",
     "output_type": "stream",
     "text": [
      "Epoch 727 Mean Reward: 72.50199272918701\n"
     ]
    },
    {
     "name": "stderr",
     "output_type": "stream",
     "text": [
      "100%|██████████| 2000/2000 [12:19<00:00,  2.71it/s]\n"
     ]
    },
    {
     "name": "stdout",
     "output_type": "stream",
     "text": [
      "Epoch 728 Mean Reward: 35.260677436828615\n"
     ]
    },
    {
     "name": "stderr",
     "output_type": "stream",
     "text": [
      "100%|██████████| 2000/2000 [15:53<00:00,  2.10it/s]\n"
     ]
    },
    {
     "name": "stdout",
     "output_type": "stream",
     "text": [
      "Epoch 729 Mean Reward: 59.22575388336182\n"
     ]
    },
    {
     "name": "stderr",
     "output_type": "stream",
     "text": [
      "100%|██████████| 2000/2000 [21:22<00:00,  1.56it/s]\n"
     ]
    },
    {
     "name": "stdout",
     "output_type": "stream",
     "text": [
      "Epoch 730 Mean Reward: 46.91584147644043\n"
     ]
    },
    {
     "name": "stderr",
     "output_type": "stream",
     "text": [
      "100%|██████████| 2000/2000 [29:54<00:00,  1.11it/s]\n"
     ]
    },
    {
     "name": "stdout",
     "output_type": "stream",
     "text": [
      "Epoch 731 Mean Reward: 62.99047199249267\n"
     ]
    },
    {
     "name": "stderr",
     "output_type": "stream",
     "text": [
      "100%|██████████| 2000/2000 [22:24<00:00,  1.49it/s]\n"
     ]
    },
    {
     "name": "stdout",
     "output_type": "stream",
     "text": [
      "Epoch 732 Mean Reward: 54.5724997253418\n"
     ]
    },
    {
     "name": "stderr",
     "output_type": "stream",
     "text": [
      "100%|██████████| 2000/2000 [19:45<00:00,  1.69it/s]\n"
     ]
    },
    {
     "name": "stdout",
     "output_type": "stream",
     "text": [
      "Epoch 733 Mean Reward: 46.49786638641358\n"
     ]
    },
    {
     "name": "stderr",
     "output_type": "stream",
     "text": [
      "100%|██████████| 2000/2000 [17:25<00:00,  1.91it/s]\n"
     ]
    },
    {
     "name": "stdout",
     "output_type": "stream",
     "text": [
      "Epoch 734 Mean Reward: 53.21686295318604\n"
     ]
    },
    {
     "name": "stderr",
     "output_type": "stream",
     "text": [
      "100%|██████████| 2000/2000 [21:24<00:00,  1.56it/s]\n"
     ]
    },
    {
     "name": "stdout",
     "output_type": "stream",
     "text": [
      "Epoch 735 Mean Reward: 29.804854919433595\n"
     ]
    },
    {
     "name": "stderr",
     "output_type": "stream",
     "text": [
      "100%|██████████| 2000/2000 [18:55<00:00,  1.76it/s]\n"
     ]
    },
    {
     "name": "stdout",
     "output_type": "stream",
     "text": [
      "Epoch 736 Mean Reward: 51.746689613342284\n"
     ]
    },
    {
     "name": "stderr",
     "output_type": "stream",
     "text": [
      "100%|██████████| 2000/2000 [17:15<00:00,  1.93it/s]\n"
     ]
    },
    {
     "name": "stdout",
     "output_type": "stream",
     "text": [
      "Epoch 737 Mean Reward: 32.7599080581665\n"
     ]
    },
    {
     "name": "stderr",
     "output_type": "stream",
     "text": [
      "100%|██████████| 2000/2000 [17:13<00:00,  1.93it/s]\n"
     ]
    },
    {
     "name": "stdout",
     "output_type": "stream",
     "text": [
      "Epoch 738 Mean Reward: 42.844823791503906\n"
     ]
    },
    {
     "name": "stderr",
     "output_type": "stream",
     "text": [
      "100%|██████████| 2000/2000 [17:12<00:00,  1.94it/s]\n"
     ]
    },
    {
     "name": "stdout",
     "output_type": "stream",
     "text": [
      "Epoch 739 Mean Reward: 32.59034617614746\n"
     ]
    },
    {
     "name": "stderr",
     "output_type": "stream",
     "text": [
      "100%|██████████| 2000/2000 [17:52<00:00,  1.87it/s]\n"
     ]
    },
    {
     "name": "stdout",
     "output_type": "stream",
     "text": [
      "Epoch 740 Mean Reward: 46.25777265930176\n",
      "Epoch 740 Model saved to ./checkpoints/deadly_corridor.ckpt\n",
      "Epoch 740 test with depth buffer:\n",
      "Test Episode 1 Reward: -52.649169921875\n",
      "Test Episode 2 Reward: -52.649169921875\n",
      "Test Episode 3 Reward: -52.649169921875\n",
      "Test Episode 4 Reward: -52.649169921875\n",
      "Test Episode 5 Reward: -54.83174133300781\n",
      "Test Episode 6 Reward: 38.234710693359375\n",
      "Test Episode 7 Reward: -52.649169921875\n",
      "Test Episode 8 Reward: -52.649169921875\n",
      "Test Episode 9 Reward: -52.649169921875\n",
      "Test Episode 10 Reward: -102.01039123535156\n",
      "Average Test Reward (with depth buffer:) -48.7151611328125\n",
      "Epoch 740 test without depth buffer:\n",
      "Test Episode 1 Reward: -92.84638977050781\n",
      "Test Episode 2 Reward: -90.14244079589844\n",
      "Test Episode 3 Reward: -28.068023681640625\n",
      "Test Episode 4 Reward: -84.12286376953125\n",
      "Test Episode 5 Reward: -113.37724304199219\n",
      "Test Episode 6 Reward: -115.98773193359375\n",
      "Test Episode 7 Reward: -107.74009704589844\n",
      "Test Episode 8 Reward: -115.98811340332031\n",
      "Test Episode 9 Reward: -115.9912109375\n",
      "Test Episode 10 Reward: -115.98960876464844\n",
      "Average Test Reward (without depth buffer): -98.02537231445312\n"
     ]
    },
    {
     "name": "stderr",
     "output_type": "stream",
     "text": [
      "100%|██████████| 2000/2000 [16:24<00:00,  2.03it/s]\n"
     ]
    },
    {
     "name": "stdout",
     "output_type": "stream",
     "text": [
      "Epoch 741 Mean Reward: 76.09747392272949\n"
     ]
    },
    {
     "name": "stderr",
     "output_type": "stream",
     "text": [
      "100%|██████████| 2000/2000 [15:43<00:00,  2.12it/s]\n"
     ]
    },
    {
     "name": "stdout",
     "output_type": "stream",
     "text": [
      "Epoch 742 Mean Reward: 73.56214418792725\n"
     ]
    },
    {
     "name": "stderr",
     "output_type": "stream",
     "text": [
      "100%|██████████| 2000/2000 [14:33<00:00,  2.29it/s]\n"
     ]
    },
    {
     "name": "stdout",
     "output_type": "stream",
     "text": [
      "Epoch 743 Mean Reward: 71.30915802764892\n"
     ]
    },
    {
     "name": "stderr",
     "output_type": "stream",
     "text": [
      "100%|██████████| 2000/2000 [13:06<00:00,  2.54it/s]\n"
     ]
    },
    {
     "name": "stdout",
     "output_type": "stream",
     "text": [
      "Epoch 744 Mean Reward: 109.5158465499878\n"
     ]
    },
    {
     "name": "stderr",
     "output_type": "stream",
     "text": [
      "100%|██████████| 2000/2000 [13:58<00:00,  2.38it/s]\n"
     ]
    },
    {
     "name": "stdout",
     "output_type": "stream",
     "text": [
      "Epoch 745 Mean Reward: 101.99529084014893\n"
     ]
    },
    {
     "name": "stderr",
     "output_type": "stream",
     "text": [
      "100%|██████████| 2000/2000 [13:53<00:00,  2.40it/s]\n"
     ]
    },
    {
     "name": "stdout",
     "output_type": "stream",
     "text": [
      "Epoch 746 Mean Reward: 108.44581241607666\n"
     ]
    },
    {
     "name": "stderr",
     "output_type": "stream",
     "text": [
      "100%|██████████| 2000/2000 [15:02<00:00,  2.22it/s]\n"
     ]
    },
    {
     "name": "stdout",
     "output_type": "stream",
     "text": [
      "Epoch 747 Mean Reward: 72.99468124389648\n"
     ]
    },
    {
     "name": "stderr",
     "output_type": "stream",
     "text": [
      "100%|██████████| 2000/2000 [14:33<00:00,  2.29it/s]\n"
     ]
    },
    {
     "name": "stdout",
     "output_type": "stream",
     "text": [
      "Epoch 748 Mean Reward: 97.00010134124756\n"
     ]
    },
    {
     "name": "stderr",
     "output_type": "stream",
     "text": [
      "100%|██████████| 2000/2000 [13:38<00:00,  2.44it/s]\n"
     ]
    },
    {
     "name": "stdout",
     "output_type": "stream",
     "text": [
      "Epoch 749 Mean Reward: 93.05229027557372\n"
     ]
    },
    {
     "name": "stderr",
     "output_type": "stream",
     "text": [
      "100%|██████████| 2000/2000 [15:08<00:00,  2.20it/s]\n"
     ]
    },
    {
     "name": "stdout",
     "output_type": "stream",
     "text": [
      "Epoch 750 Mean Reward: 81.34364498901367\n"
     ]
    },
    {
     "name": "stderr",
     "output_type": "stream",
     "text": [
      "100%|██████████| 2000/2000 [16:09<00:00,  2.06it/s]\n"
     ]
    },
    {
     "name": "stdout",
     "output_type": "stream",
     "text": [
      "Epoch 751 Mean Reward: 99.4204245147705\n"
     ]
    },
    {
     "name": "stderr",
     "output_type": "stream",
     "text": [
      "100%|██████████| 2000/2000 [17:51<00:00,  1.87it/s]\n"
     ]
    },
    {
     "name": "stdout",
     "output_type": "stream",
     "text": [
      "Epoch 752 Mean Reward: 132.59986245727538\n"
     ]
    },
    {
     "name": "stderr",
     "output_type": "stream",
     "text": [
      "100%|██████████| 2000/2000 [16:41<00:00,  2.00it/s]\n"
     ]
    },
    {
     "name": "stdout",
     "output_type": "stream",
     "text": [
      "Epoch 753 Mean Reward: 116.30586557006836\n"
     ]
    },
    {
     "name": "stderr",
     "output_type": "stream",
     "text": [
      "100%|██████████| 2000/2000 [16:27<00:00,  2.03it/s]\n"
     ]
    },
    {
     "name": "stdout",
     "output_type": "stream",
     "text": [
      "Epoch 754 Mean Reward: 94.95166171264648\n"
     ]
    },
    {
     "name": "stderr",
     "output_type": "stream",
     "text": [
      "100%|██████████| 2000/2000 [17:44<00:00,  1.88it/s]\n"
     ]
    },
    {
     "name": "stdout",
     "output_type": "stream",
     "text": [
      "Epoch 755 Mean Reward: 94.6536591796875\n"
     ]
    },
    {
     "name": "stderr",
     "output_type": "stream",
     "text": [
      "100%|██████████| 2000/2000 [17:10<00:00,  1.94it/s]\n"
     ]
    },
    {
     "name": "stdout",
     "output_type": "stream",
     "text": [
      "Epoch 756 Mean Reward: 132.40667488098146\n"
     ]
    },
    {
     "name": "stderr",
     "output_type": "stream",
     "text": [
      "100%|██████████| 2000/2000 [16:31<00:00,  2.02it/s]\n"
     ]
    },
    {
     "name": "stdout",
     "output_type": "stream",
     "text": [
      "Epoch 757 Mean Reward: 147.53843647766112\n"
     ]
    },
    {
     "name": "stderr",
     "output_type": "stream",
     "text": [
      "100%|██████████| 2000/2000 [16:39<00:00,  2.00it/s]\n"
     ]
    },
    {
     "name": "stdout",
     "output_type": "stream",
     "text": [
      "Epoch 758 Mean Reward: 100.79384805297852\n"
     ]
    },
    {
     "name": "stderr",
     "output_type": "stream",
     "text": [
      "100%|██████████| 2000/2000 [15:10<00:00,  2.20it/s]\n"
     ]
    },
    {
     "name": "stdout",
     "output_type": "stream",
     "text": [
      "Epoch 759 Mean Reward: 120.49726682281494\n"
     ]
    },
    {
     "name": "stderr",
     "output_type": "stream",
     "text": [
      "100%|██████████| 2000/2000 [14:39<00:00,  2.27it/s]\n"
     ]
    },
    {
     "name": "stdout",
     "output_type": "stream",
     "text": [
      "Epoch 760 Mean Reward: 141.9652543411255\n",
      "Epoch 760 Model saved to ./checkpoints/deadly_corridor.ckpt\n",
      "Epoch 760 test with depth buffer:\n",
      "Test Episode 1 Reward: -115.98960876464844\n",
      "Test Episode 2 Reward: -115.99557495117188\n",
      "Test Episode 3 Reward: -115.99557495117188\n",
      "Test Episode 4 Reward: -115.99557495117188\n",
      "Test Episode 5 Reward: -115.99557495117188\n",
      "Test Episode 6 Reward: -115.99557495117188\n",
      "Test Episode 7 Reward: -115.99716186523438\n",
      "Test Episode 8 Reward: -115.97715759277344\n",
      "Test Episode 9 Reward: -17.1475830078125\n",
      "Test Episode 10 Reward: -115.99557495117188\n",
      "Average Test Reward (with depth buffer:) -106.10849609375\n",
      "Epoch 760 test without depth buffer:\n",
      "Test Episode 1 Reward: -93.6158447265625\n",
      "Test Episode 2 Reward: -93.6158447265625\n",
      "Test Episode 3 Reward: -93.6158447265625\n",
      "Test Episode 4 Reward: -93.6158447265625\n",
      "Test Episode 5 Reward: 188.04367065429688\n",
      "Test Episode 6 Reward: 93.506591796875\n",
      "Test Episode 7 Reward: -93.6158447265625\n",
      "Test Episode 8 Reward: 264.5420379638672\n",
      "Test Episode 9 Reward: 48.770660400390625\n",
      "Test Episode 10 Reward: -93.6158447265625\n",
      "Average Test Reward (without depth buffer): 3.316789245605469\n"
     ]
    },
    {
     "name": "stderr",
     "output_type": "stream",
     "text": [
      "100%|██████████| 2000/2000 [16:13<00:00,  2.05it/s]\n"
     ]
    },
    {
     "name": "stdout",
     "output_type": "stream",
     "text": [
      "Epoch 761 Mean Reward: 89.67448545074463\n"
     ]
    },
    {
     "name": "stderr",
     "output_type": "stream",
     "text": [
      "100%|██████████| 2000/2000 [16:43<00:00,  1.99it/s]\n"
     ]
    },
    {
     "name": "stdout",
     "output_type": "stream",
     "text": [
      "Epoch 762 Mean Reward: 56.99277982330322\n"
     ]
    },
    {
     "name": "stderr",
     "output_type": "stream",
     "text": [
      "100%|██████████| 2000/2000 [16:37<00:00,  2.01it/s]\n"
     ]
    },
    {
     "name": "stdout",
     "output_type": "stream",
     "text": [
      "Epoch 763 Mean Reward: 68.00264896392822\n"
     ]
    },
    {
     "name": "stderr",
     "output_type": "stream",
     "text": [
      "100%|██████████| 2000/2000 [15:07<00:00,  2.20it/s]\n"
     ]
    },
    {
     "name": "stdout",
     "output_type": "stream",
     "text": [
      "Epoch 764 Mean Reward: 104.44005847930909\n"
     ]
    },
    {
     "name": "stderr",
     "output_type": "stream",
     "text": [
      "100%|██████████| 2000/2000 [14:52<00:00,  2.24it/s]\n"
     ]
    },
    {
     "name": "stdout",
     "output_type": "stream",
     "text": [
      "Epoch 765 Mean Reward: 122.00817618560791\n"
     ]
    },
    {
     "name": "stderr",
     "output_type": "stream",
     "text": [
      "100%|██████████| 2000/2000 [15:29<00:00,  2.15it/s]\n"
     ]
    },
    {
     "name": "stdout",
     "output_type": "stream",
     "text": [
      "Epoch 766 Mean Reward: 85.83514225769044\n"
     ]
    },
    {
     "name": "stderr",
     "output_type": "stream",
     "text": [
      "100%|██████████| 2000/2000 [15:55<00:00,  2.09it/s]\n"
     ]
    },
    {
     "name": "stdout",
     "output_type": "stream",
     "text": [
      "Epoch 767 Mean Reward: 73.47627837371826\n"
     ]
    },
    {
     "name": "stderr",
     "output_type": "stream",
     "text": [
      "100%|██████████| 2000/2000 [15:25<00:00,  2.16it/s]\n"
     ]
    },
    {
     "name": "stdout",
     "output_type": "stream",
     "text": [
      "Epoch 768 Mean Reward: 104.40550343322754\n"
     ]
    },
    {
     "name": "stderr",
     "output_type": "stream",
     "text": [
      "100%|██████████| 2000/2000 [15:23<00:00,  2.16it/s]\n"
     ]
    },
    {
     "name": "stdout",
     "output_type": "stream",
     "text": [
      "Epoch 769 Mean Reward: 120.03670322418213\n"
     ]
    },
    {
     "name": "stderr",
     "output_type": "stream",
     "text": [
      "100%|██████████| 2000/2000 [15:00<00:00,  2.22it/s]\n"
     ]
    },
    {
     "name": "stdout",
     "output_type": "stream",
     "text": [
      "Epoch 770 Mean Reward: 110.7371215133667\n"
     ]
    },
    {
     "name": "stderr",
     "output_type": "stream",
     "text": [
      "100%|██████████| 2000/2000 [17:02<00:00,  1.96it/s]\n"
     ]
    },
    {
     "name": "stdout",
     "output_type": "stream",
     "text": [
      "Epoch 771 Mean Reward: 106.24475870513916\n"
     ]
    },
    {
     "name": "stderr",
     "output_type": "stream",
     "text": [
      "100%|██████████| 2000/2000 [18:27<00:00,  1.81it/s]\n"
     ]
    },
    {
     "name": "stdout",
     "output_type": "stream",
     "text": [
      "Epoch 772 Mean Reward: 115.27384718322755\n"
     ]
    },
    {
     "name": "stderr",
     "output_type": "stream",
     "text": [
      "100%|██████████| 2000/2000 [20:21<00:00,  1.64it/s]\n"
     ]
    },
    {
     "name": "stdout",
     "output_type": "stream",
     "text": [
      "Epoch 773 Mean Reward: 144.86359047698974\n"
     ]
    },
    {
     "name": "stderr",
     "output_type": "stream",
     "text": [
      "100%|██████████| 2000/2000 [20:24<00:00,  1.63it/s]\n"
     ]
    },
    {
     "name": "stdout",
     "output_type": "stream",
     "text": [
      "Epoch 774 Mean Reward: 136.9851689529419\n"
     ]
    },
    {
     "name": "stderr",
     "output_type": "stream",
     "text": [
      "100%|██████████| 2000/2000 [21:15<00:00,  1.57it/s]\n"
     ]
    },
    {
     "name": "stdout",
     "output_type": "stream",
     "text": [
      "Epoch 775 Mean Reward: 137.57352121734618\n"
     ]
    },
    {
     "name": "stderr",
     "output_type": "stream",
     "text": [
      "100%|██████████| 2000/2000 [20:46<00:00,  1.61it/s]\n"
     ]
    },
    {
     "name": "stdout",
     "output_type": "stream",
     "text": [
      "Epoch 776 Mean Reward: 151.34679611206056\n"
     ]
    },
    {
     "name": "stderr",
     "output_type": "stream",
     "text": [
      "100%|██████████| 2000/2000 [20:07<00:00,  1.66it/s]\n"
     ]
    },
    {
     "name": "stdout",
     "output_type": "stream",
     "text": [
      "Epoch 777 Mean Reward: 112.762522605896\n"
     ]
    },
    {
     "name": "stderr",
     "output_type": "stream",
     "text": [
      "100%|██████████| 2000/2000 [16:22<00:00,  2.04it/s]\n"
     ]
    },
    {
     "name": "stdout",
     "output_type": "stream",
     "text": [
      "Epoch 778 Mean Reward: 144.54669921875\n"
     ]
    },
    {
     "name": "stderr",
     "output_type": "stream",
     "text": [
      "100%|██████████| 2000/2000 [15:37<00:00,  2.13it/s]\n"
     ]
    },
    {
     "name": "stdout",
     "output_type": "stream",
     "text": [
      "Epoch 779 Mean Reward: 134.80381463623047\n"
     ]
    },
    {
     "name": "stderr",
     "output_type": "stream",
     "text": [
      "100%|██████████| 2000/2000 [14:52<00:00,  2.24it/s]\n"
     ]
    },
    {
     "name": "stdout",
     "output_type": "stream",
     "text": [
      "Epoch 780 Mean Reward: 142.375649269104\n",
      "Epoch 780 Model saved to ./checkpoints/deadly_corridor.ckpt\n",
      "Epoch 780 test with depth buffer:\n",
      "Test Episode 1 Reward: 101.92189025878906\n",
      "Test Episode 2 Reward: 101.92189025878906\n",
      "Test Episode 3 Reward: 101.92189025878906\n",
      "Test Episode 4 Reward: -10.142074584960938\n",
      "Test Episode 5 Reward: -51.24005126953125\n",
      "Test Episode 6 Reward: 101.92189025878906\n",
      "Test Episode 7 Reward: -111.17709350585938\n",
      "Test Episode 8 Reward: -64.21632385253906\n",
      "Test Episode 9 Reward: 101.92189025878906\n",
      "Test Episode 10 Reward: -12.232879638671875\n",
      "Average Test Reward (with depth buffer:) 26.06010284423828\n",
      "Epoch 780 test without depth buffer:\n",
      "Test Episode 1 Reward: 35.81721496582031\n",
      "Test Episode 2 Reward: -43.940765380859375\n",
      "Test Episode 3 Reward: -43.940765380859375\n",
      "Test Episode 4 Reward: 35.502685546875\n",
      "Test Episode 5 Reward: -43.940765380859375\n",
      "Test Episode 6 Reward: -115.99226379394531\n",
      "Test Episode 7 Reward: -43.940765380859375\n",
      "Test Episode 8 Reward: -115.71388244628906\n",
      "Test Episode 9 Reward: -115.17088317871094\n",
      "Test Episode 10 Reward: -10.194595336914062\n",
      "Average Test Reward (without depth buffer): -46.15147857666015\n"
     ]
    },
    {
     "name": "stderr",
     "output_type": "stream",
     "text": [
      "100%|██████████| 2000/2000 [16:32<00:00,  2.01it/s]\n"
     ]
    },
    {
     "name": "stdout",
     "output_type": "stream",
     "text": [
      "Epoch 781 Mean Reward: 72.64876225280761\n"
     ]
    },
    {
     "name": "stderr",
     "output_type": "stream",
     "text": [
      "100%|██████████| 2000/2000 [15:47<00:00,  2.11it/s]\n"
     ]
    },
    {
     "name": "stdout",
     "output_type": "stream",
     "text": [
      "Epoch 782 Mean Reward: 91.96622479248047\n"
     ]
    },
    {
     "name": "stderr",
     "output_type": "stream",
     "text": [
      "100%|██████████| 2000/2000 [16:00<00:00,  2.08it/s]\n"
     ]
    },
    {
     "name": "stdout",
     "output_type": "stream",
     "text": [
      "Epoch 783 Mean Reward: 83.33280110168457\n"
     ]
    },
    {
     "name": "stderr",
     "output_type": "stream",
     "text": [
      "100%|██████████| 2000/2000 [15:39<00:00,  2.13it/s]\n"
     ]
    },
    {
     "name": "stdout",
     "output_type": "stream",
     "text": [
      "Epoch 784 Mean Reward: 93.65678923797607\n"
     ]
    },
    {
     "name": "stderr",
     "output_type": "stream",
     "text": [
      "100%|██████████| 2000/2000 [14:43<00:00,  2.26it/s]\n"
     ]
    },
    {
     "name": "stdout",
     "output_type": "stream",
     "text": [
      "Epoch 785 Mean Reward: 137.5120312805176\n"
     ]
    },
    {
     "name": "stderr",
     "output_type": "stream",
     "text": [
      "100%|██████████| 2000/2000 [15:33<00:00,  2.14it/s]\n"
     ]
    },
    {
     "name": "stdout",
     "output_type": "stream",
     "text": [
      "Epoch 786 Mean Reward: 111.30679461669922\n"
     ]
    },
    {
     "name": "stderr",
     "output_type": "stream",
     "text": [
      "100%|██████████| 2000/2000 [15:45<00:00,  2.12it/s]\n"
     ]
    },
    {
     "name": "stdout",
     "output_type": "stream",
     "text": [
      "Epoch 787 Mean Reward: 113.12024949645996\n"
     ]
    },
    {
     "name": "stderr",
     "output_type": "stream",
     "text": [
      "100%|██████████| 2000/2000 [15:31<00:00,  2.15it/s]\n"
     ]
    },
    {
     "name": "stdout",
     "output_type": "stream",
     "text": [
      "Epoch 788 Mean Reward: 113.49595520019531\n"
     ]
    },
    {
     "name": "stderr",
     "output_type": "stream",
     "text": [
      "100%|██████████| 2000/2000 [15:53<00:00,  2.10it/s]\n"
     ]
    },
    {
     "name": "stdout",
     "output_type": "stream",
     "text": [
      "Epoch 789 Mean Reward: 91.40468016052246\n"
     ]
    },
    {
     "name": "stderr",
     "output_type": "stream",
     "text": [
      "100%|██████████| 2000/2000 [15:23<00:00,  2.17it/s]\n"
     ]
    },
    {
     "name": "stdout",
     "output_type": "stream",
     "text": [
      "Epoch 790 Mean Reward: 111.55480368041992\n"
     ]
    },
    {
     "name": "stderr",
     "output_type": "stream",
     "text": [
      "100%|██████████| 2000/2000 [14:29<00:00,  2.30it/s]\n"
     ]
    },
    {
     "name": "stdout",
     "output_type": "stream",
     "text": [
      "Epoch 791 Mean Reward: 115.34173579406739\n"
     ]
    },
    {
     "name": "stderr",
     "output_type": "stream",
     "text": [
      "100%|██████████| 2000/2000 [15:29<00:00,  2.15it/s]\n"
     ]
    },
    {
     "name": "stdout",
     "output_type": "stream",
     "text": [
      "Epoch 792 Mean Reward: 91.72096906280518\n"
     ]
    },
    {
     "name": "stderr",
     "output_type": "stream",
     "text": [
      "100%|██████████| 2000/2000 [14:34<00:00,  2.29it/s]\n"
     ]
    },
    {
     "name": "stdout",
     "output_type": "stream",
     "text": [
      "Epoch 793 Mean Reward: 103.48754898834228\n"
     ]
    },
    {
     "name": "stderr",
     "output_type": "stream",
     "text": [
      "100%|██████████| 2000/2000 [14:47<00:00,  2.25it/s]\n"
     ]
    },
    {
     "name": "stdout",
     "output_type": "stream",
     "text": [
      "Epoch 794 Mean Reward: 117.849969581604\n"
     ]
    },
    {
     "name": "stderr",
     "output_type": "stream",
     "text": [
      "100%|██████████| 2000/2000 [16:20<00:00,  2.04it/s]\n"
     ]
    },
    {
     "name": "stdout",
     "output_type": "stream",
     "text": [
      "Epoch 795 Mean Reward: 55.81482398986817\n"
     ]
    },
    {
     "name": "stderr",
     "output_type": "stream",
     "text": [
      "100%|██████████| 2000/2000 [14:59<00:00,  2.22it/s]\n"
     ]
    },
    {
     "name": "stdout",
     "output_type": "stream",
     "text": [
      "Epoch 796 Mean Reward: 95.15359393310547\n"
     ]
    },
    {
     "name": "stderr",
     "output_type": "stream",
     "text": [
      "100%|██████████| 2000/2000 [16:00<00:00,  2.08it/s]\n"
     ]
    },
    {
     "name": "stdout",
     "output_type": "stream",
     "text": [
      "Epoch 797 Mean Reward: 85.41759976959229\n"
     ]
    },
    {
     "name": "stderr",
     "output_type": "stream",
     "text": [
      "100%|██████████| 2000/2000 [15:35<00:00,  2.14it/s]\n"
     ]
    },
    {
     "name": "stdout",
     "output_type": "stream",
     "text": [
      "Epoch 798 Mean Reward: 102.64886380767823\n"
     ]
    },
    {
     "name": "stderr",
     "output_type": "stream",
     "text": [
      "100%|██████████| 2000/2000 [17:51<00:00,  1.87it/s]\n"
     ]
    },
    {
     "name": "stdout",
     "output_type": "stream",
     "text": [
      "Epoch 799 Mean Reward: 68.1441583404541\n"
     ]
    },
    {
     "name": "stderr",
     "output_type": "stream",
     "text": [
      "100%|██████████| 2000/2000 [16:41<00:00,  2.00it/s]\n"
     ]
    },
    {
     "name": "stdout",
     "output_type": "stream",
     "text": [
      "Epoch 800 Mean Reward: 86.59523091125489\n",
      "Epoch 800 Model saved to ./checkpoints/deadly_corridor.ckpt\n",
      "Epoch 800 test with depth buffer:\n",
      "Test Episode 1 Reward: -66.40925598144531\n",
      "Test Episode 2 Reward: -115.19439697265625\n",
      "Test Episode 3 Reward: -66.40925598144531\n",
      "Test Episode 4 Reward: -66.40925598144531\n",
      "Test Episode 5 Reward: -66.40925598144531\n",
      "Test Episode 6 Reward: -66.40925598144531\n",
      "Test Episode 7 Reward: -66.40925598144531\n",
      "Test Episode 8 Reward: -66.40925598144531\n",
      "Test Episode 9 Reward: -66.40925598144531\n",
      "Test Episode 10 Reward: -17.944000244140625\n",
      "Average Test Reward (with depth buffer:) -66.44124450683594\n",
      "Epoch 800 test without depth buffer:\n",
      "Test Episode 1 Reward: -44.82696533203125\n",
      "Test Episode 2 Reward: -44.82696533203125\n",
      "Test Episode 3 Reward: -18.439163208007812\n",
      "Test Episode 4 Reward: -44.82696533203125\n",
      "Test Episode 5 Reward: -44.82696533203125\n",
      "Test Episode 6 Reward: -31.977081298828125\n",
      "Test Episode 7 Reward: 2.681060791015625\n",
      "Test Episode 8 Reward: -44.82696533203125\n",
      "Test Episode 9 Reward: 38.22929382324219\n",
      "Test Episode 10 Reward: -44.82696533203125\n",
      "Average Test Reward (without depth buffer): -27.846768188476563\n",
      "[(211.57399139404296, 340), (146.31772155761718, 180), (145.77798919677736, 20), (141.45587310791015, 160), (118.06968688964844, 80), (90.88699340820312, 420), (82.75088653564453, 40), (56.74010467529297, 120), (47.49990386962891, 140), (36.18438873291016, 360), (32.685647583007814, 260), (30.08105010986328, 620), (14.742466735839844, 700), (14.701338195800782, 100), (3.316789245605469, 760), (0.683575439453125, 560), (0.47573089599609375, 520), (-7.900267028808594, 500), (-8.406642150878906, 400), (-12.682794189453125, 280), (-23.184068298339845, 200), (-27.151881408691406, 440), (-27.846768188476563, 800), (-32.90938720703125, 220), (-38.36307220458984, 60), (-41.59115905761719, 300), (-42.97501831054687, 680), (-46.15147857666015, 780), (-61.82401580810547, 580), (-67.16472930908203, 640), (-67.41113739013672, 380), (-79.0214630126953, 660), (-80.18219757080078, 600), (-88.3926513671875, 540), (-93.90668182373047, 720), (-98.02537231445312, 740), (-101.38810424804687, 320), (-103.15302734375, 480), (-104.6420166015625, 460), (-110.43122100830078, 240)]\n",
      "66114688 time steps experienced during training\n"
     ]
    }
   ],
   "source": [
    "#For each time step, collect the following data:\n",
    "#The current game state\n",
    "#The action that was taken taken\n",
    "#The reward obtained from the chosen action\n",
    "#The next game state (store the first game state if the previous action ends the episode)\n",
    "#A variable indicating whether the episode is over yet\n",
    "\n",
    "\n",
    "tf.reset_default_graph()\n",
    "\n",
    "#Instantiate the target network before the online network so that it's updated correctly\n",
    "\n",
    "target_net = Q_network(network_name='target',\n",
    "                       learning_rate=learning_rate,\n",
    "                       height=height,\n",
    "                       width=width,\n",
    "                       channels=channels)\n",
    "DQN = Q_network(network_name='online',\n",
    "                learning_rate=learning_rate,\n",
    "                height=height,\n",
    "                width=width,\n",
    "                channels=channels)\n",
    "\n",
    "exp_buffer = Buffer(size=buffer_size)\n",
    "session = tf.Session()\n",
    "saver = tf.train.Saver(max_to_keep=num_ckpts, reshape=True)\n",
    "weights = tf.trainable_variables()\n",
    "\n",
    "update_ops = update_graph(weights)\n",
    "\n",
    "if load_model == True:\n",
    "    print('Loading model from', model_dir)\n",
    "    tf.train.Saver().restore(session, model_dir)\n",
    "    \n",
    "elif load_model == False:\n",
    "    session.run(tf.global_variables_initializer())\n",
    "\n",
    "game.set_sound_enabled(False)\n",
    "game.init()\n",
    "\n",
    "t = 0\n",
    "epoch_rank = list()\n",
    "epoch_rank_depth = list()\n",
    "\n",
    "#Accumulate experiences in the buffer using an epsilon-greedy strategy with three training phases\n",
    "\n",
    "for epoch in range(epochs):\n",
    "    epoch_rewards = list()\n",
    "    \n",
    "    for step in trange(steps_per_epoch, leave=True):\n",
    "        experience = list()\n",
    "        game.new_episode()\n",
    "        \n",
    "        while not game.is_episode_finished():\n",
    "            state = game.get_state()\n",
    "            \n",
    "#Substitute an array of zeros for the depth buffer if that setting is disabled\n",
    "\n",
    "            if game.is_depth_buffer_enabled() == False:\n",
    "                depth_buffer = np.zeros(state.screen_buffer.shape)\n",
    "            else:\n",
    "                depth_buffer = state.depth_buffer\n",
    "            \n",
    "            state1_buffer = np.stack((state.screen_buffer, depth_buffer), axis=-1)\n",
    "            state1 = preprocess(state1_buffer, down_sample_ratio)\n",
    "            \n",
    "#Explore the environment by choosing random actions with 100% probability for the first phase of training\n",
    "\n",
    "            if epoch < 0.15*epochs:\n",
    "                action = np.random.randint(num_actions)\n",
    "            \n",
    "#Increase the probability of greedily choosing an action by a constant amount at each epoch in the second phase\n",
    "            \n",
    "            elif epoch < 0.45*epochs:\n",
    "                epsilon = start_epsilon - (epoch + 1 - 0.2*epochs)*(start_epsilon-end_epsilon)/(0.7*epochs)\n",
    "            \n",
    "                if np.random.uniform(0, 1) <= epsilon:\n",
    "                    action = np.random.randint(num_actions)\n",
    "                else:\n",
    "                    action = DQN.choose_action(session, state1)[0]\n",
    "\n",
    "#Select a random action with 10% probability in the final phase of training\n",
    "                \n",
    "            else:\n",
    "                if np.random.uniform(0, 1) <= end_epsilon:\n",
    "                    action = np.random.randint(num_actions)\n",
    "                else:\n",
    "                    action = DQN.choose_action(session, state1)[0]\n",
    "\n",
    "            reward = game.make_action(actions[action], frame_delay)\n",
    "            done = game.is_episode_finished()\n",
    "            \n",
    "            if done == False:\n",
    "                state = game.get_state()\n",
    "                state2_buffer = np.stack((state.screen_buffer, state.depth_buffer), axis=-1)\n",
    "                state2 = preprocess(state2_buffer, down_sample_ratio)\n",
    "                \n",
    "            elif done == True:\n",
    "                state2 = state1\n",
    "        \n",
    "#Add the experience obtained from each time step to the buffer\n",
    "\n",
    "            t += 1\n",
    "            exp_buffer.add_experience((state1, action, reward, state2, done))\n",
    "        \n",
    "#Sample a minibatch from the buffer if there are enough experiences in the buffer\n",
    "\n",
    "        if exp_buffer.length > batch_size:\n",
    "            s1, a, r, s2, terminal = exp_buffer.sample_buffer(batch_size)\n",
    "            \n",
    "#Get the target values from the target Q-network\n",
    "            \n",
    "            target_Q = np.max(target_net.get_Q_values(session, s2), axis=1)\n",
    "            \n",
    "#Train the online Q-network by using a minibatch to update the action-value function\n",
    "            \n",
    "            Q2 = DQN.get_Q_values(session, s1)\n",
    "            Q2[np.arange(batch_size), a] = r + gamma*(1 - terminal)*target_Q\n",
    "            DQN.calculate_loss(session, s1, Q2)\n",
    "            \n",
    "        epoch_rewards.append(game.get_total_reward())\n",
    "        \n",
    "#Increase the discount factor at each epoch until it reaches 0.99\n",
    "    \n",
    "    if gamma < 0.99:\n",
    "        gamma = 1-.98*(1-gamma)\n",
    "    elif gamma >= 0.99:\n",
    "        gamma = 0.99\n",
    "        \n",
    "#Decrease the learning rate at each epoch\n",
    "\n",
    "    DQN.update_lr()\n",
    "    target_net.update_lr()\n",
    "    \n",
    "    print('Epoch {} Mean Reward: {}'.format(epoch + 1, np.mean(epoch_rewards)))\n",
    "    \n",
    "#Update the target network every 10 epochs\n",
    "    \n",
    "    if (epoch + 1) % 10 == 0 and epoch > 0:\n",
    "        update_target(update_ops, session)\n",
    "        \n",
    "#Save the model and test the agent for 10 episodes every 20 epochs\n",
    "    \n",
    "    if (epoch + 1) % 20 == 0 and epoch > 0:\n",
    "        if save_model == True:\n",
    "            checkpoint = model_dir + '-' + str(epoch + 1)\n",
    "            print('Epoch {} Model saved to {}'.format(epoch + 1, model_dir))\n",
    "            saver.save(session, model_dir, global_step=epoch + 1)\n",
    "            \n",
    "        update_target(update_ops, session)\n",
    "\n",
    "#Test the agent both with and without the depth buffer given\n",
    "        \n",
    "        print('Epoch {} test with depth buffer:'.format(epoch + 1))\n",
    "        test_reward_depth = test_agent(DQN, num_episodes=10,\n",
    "                                       training=True,\n",
    "                                       load_model=False,\n",
    "                                       depth=True,\n",
    "                                       session=session,\n",
    "                                       model_dir=model_dir)\n",
    "        print('Average Test Reward (with depth buffer:)', test_reward_depth)\n",
    "        \n",
    "        print('Epoch {} test without depth buffer:'.format(epoch + 1))\n",
    "        test_reward = test_agent(DQN, num_episodes=10,\n",
    "                                 training=True,\n",
    "                                 load_model=False,\n",
    "                                 depth=False,\n",
    "                                 session=session,\n",
    "                                 model_dir=model_dir)\n",
    "        print('Average Test Reward (without depth buffer):', test_reward)\n",
    "        \n",
    "        epoch_rank_depth.append((test_reward_depth, epoch + 1))\n",
    "        epoch_rank.append((test_reward, epoch + 1))\n",
    "        \n",
    "#Return a sorted list of epoch checkpoints based on average test episode reward\n",
    "        \n",
    "print(sorted(epoch_rank, reverse=True))\n",
    "print('{} time steps experienced during training'.format(t))\n",
    "game.close()\n",
    "    "
   ]
  },
  {
   "cell_type": "code",
   "execution_count": 6,
   "metadata": {
    "ExecuteTime": {
     "end_time": "2018-02-09T01:25:02.989378Z",
     "start_time": "2018-02-09T00:34:45.813452Z"
    },
    "run_control": {
     "frozen": false,
     "read_only": false
    },
    "scrolled": true
   },
   "outputs": [
    {
     "name": "stdout",
     "output_type": "stream",
     "text": [
      "Loading model from checkpoints\\deadly_corridor.ckpt-420\n",
      "INFO:tensorflow:Restoring parameters from checkpoints\\deadly_corridor.ckpt-420\n",
      "Test Episode 1 Reward: -50.31547546386719\n",
      "Test Episode 2 Reward: -104.49089050292969\n",
      "Test Episode 3 Reward: -104.49089050292969\n",
      "Test Episode 4 Reward: -104.49089050292969\n",
      "Test Episode 5 Reward: -11.073715209960938\n",
      "Test Episode 6 Reward: -104.49089050292969\n",
      "Test Episode 7 Reward: -52.17103576660156\n",
      "Test Episode 8 Reward: -5.919708251953125\n",
      "Test Episode 9 Reward: -104.49089050292969\n",
      "Test Episode 10 Reward: -105.98927307128906\n",
      "Test Episode 11 Reward: -108.3341064453125\n",
      "Test Episode 12 Reward: -104.49089050292969\n",
      "Test Episode 13 Reward: -114.02394104003906\n",
      "Test Episode 14 Reward: -115.97746276855469\n",
      "Test Episode 15 Reward: -104.49089050292969\n",
      "Test Episode 16 Reward: -104.49089050292969\n",
      "Test Episode 17 Reward: -102.34445190429688\n",
      "Test Episode 18 Reward: -104.49089050292969\n",
      "Test Episode 19 Reward: -104.49089050292969\n",
      "Test Episode 20 Reward: -104.49089050292969\n",
      "Average Test Reward (with depth buffer): -90.77744827270507\n",
      "Loading model from checkpoints\\deadly_corridor.ckpt-420\n",
      "INFO:tensorflow:Restoring parameters from checkpoints\\deadly_corridor.ckpt-420\n",
      "Test Episode 1 Reward: 209.2081298828125\n",
      "Test Episode 2 Reward: 35.791229248046875\n",
      "Test Episode 3 Reward: -8.460922241210938\n",
      "Test Episode 4 Reward: 35.791229248046875\n",
      "Test Episode 5 Reward: -115.97935485839844\n",
      "Test Episode 6 Reward: 35.791229248046875\n",
      "Test Episode 7 Reward: 35.791229248046875\n",
      "Test Episode 8 Reward: 35.791229248046875\n",
      "Test Episode 9 Reward: -1.4518585205078125\n",
      "Test Episode 10 Reward: 35.791229248046875\n",
      "Test Episode 11 Reward: 252.7776336669922\n",
      "Test Episode 12 Reward: 105.29627990722656\n",
      "Test Episode 13 Reward: 35.791229248046875\n",
      "Test Episode 14 Reward: 35.791229248046875\n",
      "Test Episode 15 Reward: 192.7923126220703\n",
      "Test Episode 16 Reward: -114.13278198242188\n",
      "Test Episode 17 Reward: 35.791229248046875\n",
      "Test Episode 18 Reward: 35.791229248046875\n",
      "Test Episode 19 Reward: 94.66908264160156\n",
      "Test Episode 20 Reward: 179.70314025878906\n",
      "Average Test Reward (without depth buffer): 57.61669769287109\n",
      "Loading model from checkpoints\\deadly_corridor.ckpt-440\n",
      "INFO:tensorflow:Restoring parameters from checkpoints\\deadly_corridor.ckpt-440\n",
      "Test Episode 1 Reward: -59.72821044921875\n",
      "Test Episode 2 Reward: -62.16046142578125\n",
      "Test Episode 3 Reward: 36.88629150390625\n",
      "Test Episode 4 Reward: -109.96737670898438\n",
      "Test Episode 5 Reward: -62.16046142578125\n",
      "Test Episode 6 Reward: -62.16046142578125\n",
      "Test Episode 7 Reward: -62.16046142578125\n",
      "Test Episode 8 Reward: -62.3343505859375\n",
      "Test Episode 9 Reward: 10.464004516601562\n",
      "Test Episode 10 Reward: -22.523040771484375\n",
      "Test Episode 11 Reward: -62.16046142578125\n",
      "Test Episode 12 Reward: -96.25241088867188\n",
      "Test Episode 13 Reward: -4.29522705078125\n",
      "Test Episode 14 Reward: -62.16046142578125\n",
      "Test Episode 15 Reward: -115.10818481445312\n",
      "Test Episode 16 Reward: -50.708709716796875\n",
      "Test Episode 17 Reward: -62.16046142578125\n",
      "Test Episode 18 Reward: 21.466720581054688\n",
      "Test Episode 19 Reward: -115.94583129882812\n",
      "Test Episode 20 Reward: -62.16046142578125\n",
      "Average Test Reward (with depth buffer): -53.266500854492186\n",
      "Loading model from checkpoints\\deadly_corridor.ckpt-440\n",
      "INFO:tensorflow:Restoring parameters from checkpoints\\deadly_corridor.ckpt-440\n",
      "Test Episode 1 Reward: -19.403976440429688\n",
      "Test Episode 2 Reward: -19.403976440429688\n",
      "Test Episode 3 Reward: -19.403976440429688\n",
      "Test Episode 4 Reward: 36.62872314453125\n",
      "Test Episode 5 Reward: -19.403976440429688\n",
      "Test Episode 6 Reward: -38.9630126953125\n",
      "Test Episode 7 Reward: -50.99749755859375\n",
      "Test Episode 8 Reward: -19.403976440429688\n",
      "Test Episode 9 Reward: -115.77609252929688\n",
      "Test Episode 10 Reward: -51.6463623046875\n",
      "Test Episode 11 Reward: -87.94314575195312\n",
      "Test Episode 12 Reward: -43.32737731933594\n",
      "Test Episode 13 Reward: -19.403976440429688\n",
      "Test Episode 14 Reward: -19.403976440429688\n",
      "Test Episode 15 Reward: -66.06805419921875\n",
      "Test Episode 16 Reward: -19.403976440429688\n",
      "Test Episode 17 Reward: -19.403976440429688\n",
      "Test Episode 18 Reward: -19.403976440429688\n",
      "Test Episode 19 Reward: -63.4879150390625\n",
      "Test Episode 20 Reward: -17.779251098632812\n",
      "Average Test Reward (without depth buffer): -34.669987487792966\n",
      "Loading model from checkpoints\\deadly_corridor.ckpt-460\n",
      "INFO:tensorflow:Restoring parameters from checkpoints\\deadly_corridor.ckpt-460\n",
      "Test Episode 1 Reward: -115.24327087402344\n",
      "Test Episode 2 Reward: -115.994384765625\n",
      "Test Episode 3 Reward: -115.99658203125\n",
      "Test Episode 4 Reward: -115.97401428222656\n",
      "Test Episode 5 Reward: -61.25105285644531\n",
      "Test Episode 6 Reward: -115.97401428222656\n",
      "Test Episode 7 Reward: -115.19590759277344\n",
      "Test Episode 8 Reward: -115.97401428222656\n",
      "Test Episode 9 Reward: -115.96604919433594\n",
      "Test Episode 10 Reward: -20.117218017578125\n",
      "Test Episode 11 Reward: -43.55116271972656\n",
      "Test Episode 12 Reward: -115.99874877929688\n",
      "Test Episode 13 Reward: -115.82658386230469\n",
      "Test Episode 14 Reward: -115.97401428222656\n",
      "Test Episode 15 Reward: -115.97401428222656\n",
      "Test Episode 16 Reward: -115.97401428222656\n",
      "Test Episode 17 Reward: -77.66117858886719\n",
      "Test Episode 18 Reward: -115.97401428222656\n",
      "Test Episode 19 Reward: -115.96292114257812\n",
      "Test Episode 20 Reward: -115.98272705078125\n",
      "Average Test Reward (with depth buffer): -102.82829437255859\n",
      "Loading model from checkpoints\\deadly_corridor.ckpt-460\n",
      "INFO:tensorflow:Restoring parameters from checkpoints\\deadly_corridor.ckpt-460\n",
      "Test Episode 1 Reward: -115.97637939453125\n",
      "Test Episode 2 Reward: -115.99859619140625\n",
      "Test Episode 3 Reward: -115.97637939453125\n",
      "Test Episode 4 Reward: -115.97637939453125\n",
      "Test Episode 5 Reward: -50.980682373046875\n",
      "Test Episode 6 Reward: -115.97637939453125\n",
      "Test Episode 7 Reward: -115.97637939453125\n",
      "Test Episode 8 Reward: -29.998199462890625\n",
      "Test Episode 9 Reward: -115.97637939453125\n",
      "Test Episode 10 Reward: -103.00881958007812\n",
      "Test Episode 11 Reward: -115.97637939453125\n",
      "Test Episode 12 Reward: -86.68600463867188\n",
      "Test Episode 13 Reward: 98.81752014160156\n",
      "Test Episode 14 Reward: -115.97637939453125\n",
      "Test Episode 15 Reward: -115.97637939453125\n",
      "Test Episode 16 Reward: -115.97775268554688\n",
      "Test Episode 17 Reward: -115.97637939453125\n",
      "Test Episode 18 Reward: -77.27073669433594\n",
      "Test Episode 19 Reward: 10.917144775390625\n",
      "Test Episode 20 Reward: -67.84992980957031\n",
      "Average Test Reward (without depth buffer): -84.88999252319336\n",
      "Loading model from checkpoints\\deadly_corridor.ckpt-480\n",
      "INFO:tensorflow:Restoring parameters from checkpoints\\deadly_corridor.ckpt-480\n",
      "Test Episode 1 Reward: -115.99786376953125\n",
      "Test Episode 2 Reward: -115.99786376953125\n",
      "Test Episode 3 Reward: -115.99786376953125\n",
      "Test Episode 4 Reward: -115.99786376953125\n",
      "Test Episode 5 Reward: -115.99786376953125\n",
      "Test Episode 6 Reward: -111.26455688476562\n",
      "Test Episode 7 Reward: -115.99786376953125\n",
      "Test Episode 8 Reward: -115.99786376953125\n",
      "Test Episode 9 Reward: -108.14030456542969\n",
      "Test Episode 10 Reward: -93.04885864257812\n",
      "Test Episode 11 Reward: -40.04655456542969\n",
      "Test Episode 12 Reward: -115.99786376953125\n",
      "Test Episode 13 Reward: -115.99786376953125\n",
      "Test Episode 14 Reward: -9.741424560546875\n",
      "Test Episode 15 Reward: -115.99786376953125\n",
      "Test Episode 16 Reward: -115.97785949707031\n",
      "Test Episode 17 Reward: -115.99786376953125\n",
      "Test Episode 18 Reward: -115.76736450195312\n",
      "Test Episode 19 Reward: -83.82862854003906\n",
      "Test Episode 20 Reward: -115.99786376953125\n",
      "Average Test Reward (with depth buffer): -103.48949584960937\n",
      "Loading model from checkpoints\\deadly_corridor.ckpt-480\n",
      "INFO:tensorflow:Restoring parameters from checkpoints\\deadly_corridor.ckpt-480\n",
      "Test Episode 1 Reward: -66.05555725097656\n",
      "Test Episode 2 Reward: -63.793365478515625\n",
      "Test Episode 3 Reward: -53.3653564453125\n",
      "Test Episode 4 Reward: -74.88601684570312\n",
      "Test Episode 5 Reward: -110.24053955078125\n",
      "Test Episode 6 Reward: -14.273910522460938\n",
      "Test Episode 7 Reward: 65.71507263183594\n",
      "Test Episode 8 Reward: -110.24053955078125\n",
      "Test Episode 9 Reward: -110.24053955078125\n",
      "Test Episode 10 Reward: -110.24053955078125\n",
      "Test Episode 11 Reward: -67.62153625488281\n",
      "Test Episode 12 Reward: -111.73382568359375\n",
      "Test Episode 13 Reward: -30.022201538085938\n",
      "Test Episode 14 Reward: -110.24053955078125\n",
      "Test Episode 15 Reward: -74.27169799804688\n"
     ]
    },
    {
     "name": "stdout",
     "output_type": "stream",
     "text": [
      "Test Episode 16 Reward: -110.24053955078125\n",
      "Test Episode 17 Reward: -41.64593505859375\n",
      "Test Episode 18 Reward: -53.71795654296875\n",
      "Test Episode 19 Reward: -110.24053955078125\n",
      "Test Episode 20 Reward: -98.64634704589844\n",
      "Average Test Reward (without depth buffer): -72.8001205444336\n",
      "Loading model from checkpoints\\deadly_corridor.ckpt-500\n",
      "INFO:tensorflow:Restoring parameters from checkpoints\\deadly_corridor.ckpt-500\n",
      "Test Episode 1 Reward: -75.71820068359375\n",
      "Test Episode 2 Reward: -75.71820068359375\n",
      "Test Episode 3 Reward: -42.46998596191406\n",
      "Test Episode 4 Reward: -75.71820068359375\n",
      "Test Episode 5 Reward: 218.8099365234375\n",
      "Test Episode 6 Reward: 8.820419311523438\n",
      "Test Episode 7 Reward: 1.2514801025390625\n",
      "Test Episode 8 Reward: -75.71820068359375\n",
      "Test Episode 9 Reward: -33.17030334472656\n",
      "Test Episode 10 Reward: -8.01446533203125\n",
      "Test Episode 11 Reward: -56.063262939453125\n",
      "Test Episode 12 Reward: -1.1046142578125\n",
      "Test Episode 13 Reward: -115.99250793457031\n",
      "Test Episode 14 Reward: -111.25755310058594\n",
      "Test Episode 15 Reward: -25.83062744140625\n",
      "Test Episode 16 Reward: -75.71820068359375\n",
      "Test Episode 17 Reward: -75.71820068359375\n",
      "Test Episode 18 Reward: -29.371963500976562\n",
      "Test Episode 19 Reward: -75.71820068359375\n",
      "Test Episode 20 Reward: -42.893646240234375\n",
      "Average Test Reward (with depth buffer): -38.36572494506836\n",
      "Loading model from checkpoints\\deadly_corridor.ckpt-500\n",
      "INFO:tensorflow:Restoring parameters from checkpoints\\deadly_corridor.ckpt-500\n",
      "Test Episode 1 Reward: 36.645660400390625\n",
      "Test Episode 2 Reward: 235.66864013671875\n",
      "Test Episode 3 Reward: 235.66864013671875\n",
      "Test Episode 4 Reward: -115.99427795410156\n",
      "Test Episode 5 Reward: -21.023910522460938\n",
      "Test Episode 6 Reward: 235.66864013671875\n",
      "Test Episode 7 Reward: 235.66864013671875\n",
      "Test Episode 8 Reward: -36.892059326171875\n",
      "Test Episode 9 Reward: 148.16123962402344\n",
      "Test Episode 10 Reward: 63.196441650390625\n",
      "Test Episode 11 Reward: 235.66864013671875\n",
      "Test Episode 12 Reward: 235.66864013671875\n",
      "Test Episode 13 Reward: 235.66864013671875\n",
      "Test Episode 14 Reward: 235.66864013671875\n",
      "Test Episode 15 Reward: 224.51368713378906\n",
      "Test Episode 16 Reward: -13.35418701171875\n",
      "Test Episode 17 Reward: -4.3878326416015625\n",
      "Test Episode 18 Reward: 67.06106567382812\n",
      "Test Episode 19 Reward: 235.66864013671875\n",
      "Test Episode 20 Reward: 19.154815673828125\n",
      "Average Test Reward (without depth buffer): 124.4049201965332\n",
      "Loading model from checkpoints\\deadly_corridor.ckpt-520\n",
      "INFO:tensorflow:Restoring parameters from checkpoints\\deadly_corridor.ckpt-520\n",
      "Test Episode 1 Reward: -5.351043701171875\n",
      "Test Episode 2 Reward: -41.62446594238281\n",
      "Test Episode 3 Reward: -33.35926818847656\n",
      "Test Episode 4 Reward: -62.8582763671875\n",
      "Test Episode 5 Reward: -5.351043701171875\n",
      "Test Episode 6 Reward: -58.001190185546875\n",
      "Test Episode 7 Reward: -5.351043701171875\n",
      "Test Episode 8 Reward: -5.351043701171875\n",
      "Test Episode 9 Reward: -66.6068115234375\n",
      "Test Episode 10 Reward: -107.43675231933594\n",
      "Test Episode 11 Reward: -42.52250671386719\n",
      "Test Episode 12 Reward: -5.351043701171875\n",
      "Test Episode 13 Reward: -41.73072814941406\n",
      "Test Episode 14 Reward: -5.304290771484375\n",
      "Test Episode 15 Reward: -41.629852294921875\n",
      "Test Episode 16 Reward: -5.351043701171875\n",
      "Test Episode 17 Reward: -26.124237060546875\n",
      "Test Episode 18 Reward: -86.13766479492188\n",
      "Test Episode 19 Reward: -5.351043701171875\n",
      "Test Episode 20 Reward: -5.351043701171875\n",
      "Average Test Reward (with depth buffer): -32.807219696044925\n",
      "Loading model from checkpoints\\deadly_corridor.ckpt-520\n",
      "INFO:tensorflow:Restoring parameters from checkpoints\\deadly_corridor.ckpt-520\n",
      "Test Episode 1 Reward: -15.350997924804688\n",
      "Test Episode 2 Reward: -15.350997924804688\n",
      "Test Episode 3 Reward: -105.9998779296875\n",
      "Test Episode 4 Reward: -51.51347351074219\n",
      "Test Episode 5 Reward: -15.350997924804688\n",
      "Test Episode 6 Reward: -15.350997924804688\n",
      "Test Episode 7 Reward: -55.97120666503906\n",
      "Test Episode 8 Reward: -39.709014892578125\n",
      "Test Episode 9 Reward: -15.350997924804688\n",
      "Test Episode 10 Reward: -15.350997924804688\n",
      "Test Episode 11 Reward: -13.798660278320312\n",
      "Test Episode 12 Reward: -7.2722015380859375\n",
      "Test Episode 13 Reward: -2.9116058349609375\n",
      "Test Episode 14 Reward: -15.350997924804688\n",
      "Test Episode 15 Reward: -56.87867736816406\n",
      "Test Episode 16 Reward: -15.350997924804688\n",
      "Test Episode 17 Reward: -15.350997924804688\n",
      "Test Episode 18 Reward: -50.071136474609375\n",
      "Test Episode 19 Reward: -23.703536987304688\n",
      "Test Episode 20 Reward: -115.68753051757812\n",
      "Average Test Reward (without depth buffer): -33.083795166015626\n",
      "Loading model from checkpoints\\deadly_corridor.ckpt-540\n",
      "INFO:tensorflow:Restoring parameters from checkpoints\\deadly_corridor.ckpt-540\n",
      "Test Episode 1 Reward: -43.01393127441406\n",
      "Test Episode 2 Reward: -115.99935913085938\n",
      "Test Episode 3 Reward: -111.54037475585938\n",
      "Test Episode 4 Reward: -115.99935913085938\n",
      "Test Episode 5 Reward: -115.99935913085938\n",
      "Test Episode 6 Reward: -80.94828796386719\n",
      "Test Episode 7 Reward: -7.385833740234375\n",
      "Test Episode 8 Reward: -115.99935913085938\n",
      "Test Episode 9 Reward: -113.73773193359375\n",
      "Test Episode 10 Reward: -115.99935913085938\n",
      "Test Episode 11 Reward: -115.99935913085938\n",
      "Test Episode 12 Reward: -115.99935913085938\n",
      "Test Episode 13 Reward: -115.99935913085938\n",
      "Test Episode 14 Reward: -108.31636047363281\n",
      "Test Episode 15 Reward: -30.144073486328125\n",
      "Test Episode 16 Reward: -115.99935913085938\n",
      "Test Episode 17 Reward: 15.64129638671875\n",
      "Test Episode 18 Reward: 31.498260498046875\n",
      "Test Episode 19 Reward: -115.99935913085938\n",
      "Test Episode 20 Reward: -115.99935913085938\n",
      "Average Test Reward (with depth buffer): -86.19699935913086\n",
      "Loading model from checkpoints\\deadly_corridor.ckpt-540\n",
      "INFO:tensorflow:Restoring parameters from checkpoints\\deadly_corridor.ckpt-540\n",
      "Test Episode 1 Reward: 204.180908203125\n",
      "Test Episode 2 Reward: 204.180908203125\n",
      "Test Episode 3 Reward: 204.180908203125\n",
      "Test Episode 4 Reward: -64.92640686035156\n",
      "Test Episode 5 Reward: 204.180908203125\n",
      "Test Episode 6 Reward: -115.94802856445312\n",
      "Test Episode 7 Reward: -55.41670227050781\n",
      "Test Episode 8 Reward: 204.180908203125\n",
      "Test Episode 9 Reward: -34.44465637207031\n",
      "Test Episode 10 Reward: 204.180908203125\n",
      "Test Episode 11 Reward: -58.09532165527344\n",
      "Test Episode 12 Reward: 31.958892822265625\n",
      "Test Episode 13 Reward: 204.180908203125\n",
      "Test Episode 14 Reward: 14.447601318359375\n",
      "Test Episode 15 Reward: -115.3472900390625\n",
      "Test Episode 16 Reward: 204.180908203125\n",
      "Test Episode 17 Reward: 204.180908203125\n",
      "Test Episode 18 Reward: -115.97755432128906\n",
      "Test Episode 19 Reward: -115.99983215332031\n",
      "Test Episode 20 Reward: -31.544830322265625\n",
      "Average Test Reward (without depth buffer): 58.81670227050781\n",
      "Loading model from checkpoints\\deadly_corridor.ckpt-560\n",
      "INFO:tensorflow:Restoring parameters from checkpoints\\deadly_corridor.ckpt-560\n",
      "Test Episode 1 Reward: -44.094482421875\n",
      "Test Episode 2 Reward: -75.44636535644531\n",
      "Test Episode 3 Reward: -75.44636535644531\n",
      "Test Episode 4 Reward: -75.44636535644531\n",
      "Test Episode 5 Reward: -75.44636535644531\n",
      "Test Episode 6 Reward: -103.8436279296875\n",
      "Test Episode 7 Reward: -10.250228881835938\n",
      "Test Episode 8 Reward: 21.897262573242188\n",
      "Test Episode 9 Reward: -75.44636535644531\n",
      "Test Episode 10 Reward: -75.44636535644531\n",
      "Test Episode 11 Reward: -108.23355102539062\n",
      "Test Episode 12 Reward: -75.44636535644531\n",
      "Test Episode 13 Reward: -75.44636535644531\n",
      "Test Episode 14 Reward: -75.44636535644531\n",
      "Test Episode 15 Reward: -75.44636535644531\n",
      "Test Episode 16 Reward: -75.44636535644531\n",
      "Test Episode 17 Reward: -75.44636535644531\n",
      "Test Episode 18 Reward: -81.64320373535156\n",
      "Test Episode 19 Reward: -103.93922424316406\n",
      "Test Episode 20 Reward: -75.44636535644531\n",
      "Average Test Reward (with depth buffer): -70.54549026489258\n",
      "Loading model from checkpoints\\deadly_corridor.ckpt-560\n",
      "INFO:tensorflow:Restoring parameters from checkpoints\\deadly_corridor.ckpt-560\n",
      "Test Episode 1 Reward: 26.632415771484375\n",
      "Test Episode 2 Reward: -15.451629638671875\n",
      "Test Episode 3 Reward: -22.126708984375\n",
      "Test Episode 4 Reward: 22.36383056640625\n",
      "Test Episode 5 Reward: 121.52130126953125\n",
      "Test Episode 6 Reward: -3.409149169921875\n",
      "Test Episode 7 Reward: -1.884735107421875\n",
      "Test Episode 8 Reward: -110.68072509765625\n",
      "Test Episode 9 Reward: -88.29898071289062\n",
      "Test Episode 10 Reward: -3.409149169921875\n"
     ]
    },
    {
     "name": "stdout",
     "output_type": "stream",
     "text": [
      "Test Episode 11 Reward: -76.25241088867188\n",
      "Test Episode 12 Reward: -108.96290588378906\n",
      "Test Episode 13 Reward: -52.89399719238281\n",
      "Test Episode 14 Reward: -3.409149169921875\n",
      "Test Episode 15 Reward: -3.409149169921875\n",
      "Test Episode 16 Reward: -3.409149169921875\n",
      "Test Episode 17 Reward: -3.409149169921875\n",
      "Test Episode 18 Reward: -3.409149169921875\n",
      "Test Episode 19 Reward: -3.409149169921875\n",
      "Test Episode 20 Reward: -3.409149169921875\n",
      "Average Test Reward (without depth buffer): -16.835844421386717\n",
      "Loading model from checkpoints\\deadly_corridor.ckpt-580\n",
      "INFO:tensorflow:Restoring parameters from checkpoints\\deadly_corridor.ckpt-580\n",
      "Test Episode 1 Reward: -78.36085510253906\n",
      "Test Episode 2 Reward: -78.36085510253906\n",
      "Test Episode 3 Reward: 10.797943115234375\n",
      "Test Episode 4 Reward: -78.36085510253906\n",
      "Test Episode 5 Reward: -113.39244079589844\n",
      "Test Episode 6 Reward: 22.413848876953125\n",
      "Test Episode 7 Reward: -14.540802001953125\n",
      "Test Episode 8 Reward: -115.93325805664062\n",
      "Test Episode 9 Reward: -78.36085510253906\n",
      "Test Episode 10 Reward: 95.98472595214844\n",
      "Test Episode 11 Reward: -20.514373779296875\n",
      "Test Episode 12 Reward: -78.36085510253906\n",
      "Test Episode 13 Reward: -78.36085510253906\n",
      "Test Episode 14 Reward: 18.419784545898438\n",
      "Test Episode 15 Reward: -65.90446472167969\n",
      "Test Episode 16 Reward: -78.36085510253906\n",
      "Test Episode 17 Reward: 8.958038330078125\n",
      "Test Episode 18 Reward: -78.36085510253906\n",
      "Test Episode 19 Reward: -115.19970703125\n",
      "Test Episode 20 Reward: -29.6407470703125\n",
      "Average Test Reward (with depth buffer): -47.271914672851565\n",
      "Loading model from checkpoints\\deadly_corridor.ckpt-580\n",
      "INFO:tensorflow:Restoring parameters from checkpoints\\deadly_corridor.ckpt-580\n",
      "Test Episode 1 Reward: -114.47929382324219\n",
      "Test Episode 2 Reward: -112.31167602539062\n",
      "Test Episode 3 Reward: 223.62118530273438\n",
      "Test Episode 4 Reward: -112.31167602539062\n",
      "Test Episode 5 Reward: -112.31167602539062\n",
      "Test Episode 6 Reward: -6.251617431640625\n",
      "Test Episode 7 Reward: -29.27398681640625\n",
      "Test Episode 8 Reward: -112.31167602539062\n",
      "Test Episode 9 Reward: -26.179168701171875\n",
      "Test Episode 10 Reward: 1.414947509765625\n",
      "Test Episode 11 Reward: -112.31167602539062\n",
      "Test Episode 12 Reward: -112.31167602539062\n",
      "Test Episode 13 Reward: -112.31167602539062\n",
      "Test Episode 14 Reward: -34.608062744140625\n",
      "Test Episode 15 Reward: -112.31167602539062\n",
      "Test Episode 16 Reward: -16.804824829101562\n",
      "Test Episode 17 Reward: -86.13108825683594\n",
      "Test Episode 18 Reward: -66.21214294433594\n",
      "Test Episode 19 Reward: -112.31167602539062\n",
      "Test Episode 20 Reward: -112.31167602539062\n",
      "Average Test Reward (without depth buffer): -63.901040649414064\n",
      "Loading model from checkpoints\\deadly_corridor.ckpt-600\n",
      "INFO:tensorflow:Restoring parameters from checkpoints\\deadly_corridor.ckpt-600\n",
      "Test Episode 1 Reward: -28.292343139648438\n",
      "Test Episode 2 Reward: 19.484786987304688\n",
      "Test Episode 3 Reward: 67.84565734863281\n",
      "Test Episode 4 Reward: -66.43661499023438\n",
      "Test Episode 5 Reward: -66.43661499023438\n",
      "Test Episode 6 Reward: 11.244125366210938\n",
      "Test Episode 7 Reward: -66.43661499023438\n",
      "Test Episode 8 Reward: -66.43661499023438\n",
      "Test Episode 9 Reward: -31.566238403320312\n",
      "Test Episode 10 Reward: -66.43661499023438\n",
      "Test Episode 11 Reward: -66.43661499023438\n",
      "Test Episode 12 Reward: -16.170608520507812\n",
      "Test Episode 13 Reward: 25.752105712890625\n",
      "Test Episode 14 Reward: -83.40983581542969\n",
      "Test Episode 15 Reward: -66.43661499023438\n",
      "Test Episode 16 Reward: -36.57611083984375\n",
      "Test Episode 17 Reward: -66.43661499023438\n",
      "Test Episode 18 Reward: -14.945266723632812\n",
      "Test Episode 19 Reward: -36.82728576660156\n",
      "Test Episode 20 Reward: -66.43661499023438\n",
      "Average Test Reward (with depth buffer): -36.06952743530273\n",
      "Loading model from checkpoints\\deadly_corridor.ckpt-600\n",
      "INFO:tensorflow:Restoring parameters from checkpoints\\deadly_corridor.ckpt-600\n",
      "Test Episode 1 Reward: -49.90716552734375\n",
      "Test Episode 2 Reward: -115.99174499511719\n",
      "Test Episode 3 Reward: -115.99174499511719\n",
      "Test Episode 4 Reward: -65.90736389160156\n",
      "Test Episode 5 Reward: -115.99174499511719\n",
      "Test Episode 6 Reward: -115.99174499511719\n",
      "Test Episode 7 Reward: -115.99174499511719\n",
      "Test Episode 8 Reward: -115.99174499511719\n",
      "Test Episode 9 Reward: -115.99174499511719\n",
      "Test Episode 10 Reward: -115.99174499511719\n",
      "Test Episode 11 Reward: -115.99174499511719\n",
      "Test Episode 12 Reward: -115.99174499511719\n",
      "Test Episode 13 Reward: -115.99174499511719\n",
      "Test Episode 14 Reward: -109.80998229980469\n",
      "Test Episode 15 Reward: -115.99174499511719\n",
      "Test Episode 16 Reward: -115.99174499511719\n",
      "Test Episode 17 Reward: -115.99174499511719\n",
      "Test Episode 18 Reward: -115.99174499511719\n",
      "Test Episode 19 Reward: -115.99174499511719\n",
      "Test Episode 20 Reward: -115.99174499511719\n",
      "Average Test Reward (without depth buffer): -109.87420883178712\n",
      "Loading model from checkpoints\\deadly_corridor.ckpt-620\n",
      "INFO:tensorflow:Restoring parameters from checkpoints\\deadly_corridor.ckpt-620\n",
      "Test Episode 1 Reward: -5.5893402099609375\n",
      "Test Episode 2 Reward: 86.59310913085938\n",
      "Test Episode 3 Reward: -13.563751220703125\n",
      "Test Episode 4 Reward: -33.75413513183594\n",
      "Test Episode 5 Reward: -6.541534423828125\n",
      "Test Episode 6 Reward: -5.5893402099609375\n",
      "Test Episode 7 Reward: 15.195220947265625\n",
      "Test Episode 8 Reward: -44.05082702636719\n",
      "Test Episode 9 Reward: 15.279327392578125\n",
      "Test Episode 10 Reward: 39.56831359863281\n",
      "Test Episode 11 Reward: -5.5893402099609375\n",
      "Test Episode 12 Reward: 42.21844482421875\n",
      "Test Episode 13 Reward: -43.11161804199219\n",
      "Test Episode 14 Reward: -5.145843505859375\n",
      "Test Episode 15 Reward: -28.252182006835938\n",
      "Test Episode 16 Reward: 95.92437744140625\n",
      "Test Episode 17 Reward: -5.5893402099609375\n",
      "Test Episode 18 Reward: -5.5893402099609375\n",
      "Test Episode 19 Reward: -5.5893402099609375\n",
      "Test Episode 20 Reward: -38.935791015625\n",
      "Average Test Reward (with depth buffer): 2.394353485107422\n",
      "Loading model from checkpoints\\deadly_corridor.ckpt-620\n",
      "INFO:tensorflow:Restoring parameters from checkpoints\\deadly_corridor.ckpt-620\n",
      "Test Episode 1 Reward: 39.053009033203125\n",
      "Test Episode 2 Reward: -106.00526428222656\n",
      "Test Episode 3 Reward: -100.41160583496094\n",
      "Test Episode 4 Reward: -100.41160583496094\n",
      "Test Episode 5 Reward: 33.113494873046875\n",
      "Test Episode 6 Reward: 35.84773254394531\n",
      "Test Episode 7 Reward: 226.73623657226562\n",
      "Test Episode 8 Reward: 28.47100830078125\n",
      "Test Episode 9 Reward: -100.41160583496094\n",
      "Test Episode 10 Reward: 104.43930053710938\n",
      "Test Episode 11 Reward: -100.41160583496094\n",
      "Test Episode 12 Reward: 38.143890380859375\n",
      "Test Episode 13 Reward: -63.90434265136719\n",
      "Test Episode 14 Reward: -43.0159912109375\n",
      "Test Episode 15 Reward: -100.41160583496094\n",
      "Test Episode 16 Reward: 134.84034729003906\n",
      "Test Episode 17 Reward: -100.41160583496094\n",
      "Test Episode 18 Reward: -100.41160583496094\n",
      "Test Episode 19 Reward: 5.67169189453125\n",
      "Test Episode 20 Reward: -100.41160583496094\n",
      "Average Test Reward (without depth buffer): -18.495086669921875\n",
      "Loading model from checkpoints\\deadly_corridor.ckpt-640\n",
      "INFO:tensorflow:Restoring parameters from checkpoints\\deadly_corridor.ckpt-640\n",
      "Test Episode 1 Reward: 161.36245727539062\n",
      "Test Episode 2 Reward: -108.88917541503906\n",
      "Test Episode 3 Reward: 2.4809112548828125\n",
      "Test Episode 4 Reward: -108.88917541503906\n",
      "Test Episode 5 Reward: -108.88917541503906\n",
      "Test Episode 6 Reward: 359.6424560546875\n",
      "Test Episode 7 Reward: -108.88917541503906\n",
      "Test Episode 8 Reward: -108.88917541503906\n",
      "Test Episode 9 Reward: 213.7402801513672\n",
      "Test Episode 10 Reward: -10.141159057617188\n",
      "Test Episode 11 Reward: -108.88917541503906\n",
      "Test Episode 12 Reward: -31.264358520507812\n",
      "Test Episode 13 Reward: 11.65972900390625\n",
      "Test Episode 14 Reward: 16.932952880859375\n",
      "Test Episode 15 Reward: -108.88917541503906\n",
      "Test Episode 16 Reward: -108.88917541503906\n",
      "Test Episode 17 Reward: 129.08009338378906\n",
      "Test Episode 18 Reward: 2.363433837890625\n",
      "Test Episode 19 Reward: -108.88917541503906\n",
      "Test Episode 20 Reward: -108.88917541503906\n",
      "Average Test Reward (with depth buffer): -11.651747894287109\n",
      "Loading model from checkpoints\\deadly_corridor.ckpt-640\n",
      "INFO:tensorflow:Restoring parameters from checkpoints\\deadly_corridor.ckpt-640\n",
      "Test Episode 1 Reward: -80.00469970703125\n",
      "Test Episode 2 Reward: 89.1529541015625\n",
      "Test Episode 3 Reward: 13.775741577148438\n",
      "Test Episode 4 Reward: -47.138763427734375\n"
     ]
    },
    {
     "name": "stdout",
     "output_type": "stream",
     "text": [
      "Test Episode 5 Reward: -80.00469970703125\n",
      "Test Episode 6 Reward: 12.20904541015625\n",
      "Test Episode 7 Reward: 4.9593658447265625\n",
      "Test Episode 8 Reward: 7.1689300537109375\n",
      "Test Episode 9 Reward: -31.99688720703125\n",
      "Test Episode 10 Reward: -80.00469970703125\n",
      "Test Episode 11 Reward: -28.858154296875\n",
      "Test Episode 12 Reward: -108.89469909667969\n",
      "Test Episode 13 Reward: -80.00469970703125\n",
      "Test Episode 14 Reward: -80.00469970703125\n",
      "Test Episode 15 Reward: -80.00469970703125\n",
      "Test Episode 16 Reward: -80.00469970703125\n",
      "Test Episode 17 Reward: -80.00469970703125\n",
      "Test Episode 18 Reward: -69.26762390136719\n",
      "Test Episode 19 Reward: -80.00469970703125\n",
      "Test Episode 20 Reward: -80.00469970703125\n",
      "Average Test Reward (without depth buffer): -47.94685440063476\n",
      "Loading model from checkpoints\\deadly_corridor.ckpt-660\n",
      "INFO:tensorflow:Restoring parameters from checkpoints\\deadly_corridor.ckpt-660\n",
      "Test Episode 1 Reward: -115.97689819335938\n",
      "Test Episode 2 Reward: -39.63262939453125\n",
      "Test Episode 3 Reward: -115.97689819335938\n",
      "Test Episode 4 Reward: -24.88140869140625\n",
      "Test Episode 5 Reward: -6.359130859375\n",
      "Test Episode 6 Reward: -115.97689819335938\n",
      "Test Episode 7 Reward: -110.05862426757812\n",
      "Test Episode 8 Reward: -115.97689819335938\n",
      "Test Episode 9 Reward: -52.72454833984375\n",
      "Test Episode 10 Reward: -55.00718688964844\n",
      "Test Episode 11 Reward: -115.97689819335938\n",
      "Test Episode 12 Reward: -115.97689819335938\n",
      "Test Episode 13 Reward: -115.97689819335938\n",
      "Test Episode 14 Reward: 133.49398803710938\n",
      "Test Episode 15 Reward: 93.65548706054688\n",
      "Test Episode 16 Reward: -115.99502563476562\n",
      "Test Episode 17 Reward: -115.97689819335938\n",
      "Test Episode 18 Reward: -102.14485168457031\n",
      "Test Episode 19 Reward: -115.97689819335938\n",
      "Test Episode 20 Reward: -115.97689819335938\n",
      "Average Test Reward (with depth buffer): -71.97114562988281\n",
      "Loading model from checkpoints\\deadly_corridor.ckpt-660\n",
      "INFO:tensorflow:Restoring parameters from checkpoints\\deadly_corridor.ckpt-660\n",
      "Test Episode 1 Reward: -62.958404541015625\n",
      "Test Episode 2 Reward: -77.75914001464844\n",
      "Test Episode 3 Reward: -62.958404541015625\n",
      "Test Episode 4 Reward: -62.958404541015625\n",
      "Test Episode 5 Reward: -62.958404541015625\n",
      "Test Episode 6 Reward: -13.753448486328125\n",
      "Test Episode 7 Reward: -3.6318206787109375\n",
      "Test Episode 8 Reward: -28.06280517578125\n",
      "Test Episode 9 Reward: -62.958404541015625\n",
      "Test Episode 10 Reward: -62.958404541015625\n",
      "Test Episode 11 Reward: -30.975051879882812\n",
      "Test Episode 12 Reward: -28.751846313476562\n",
      "Test Episode 13 Reward: 121.98789978027344\n",
      "Test Episode 14 Reward: -114.86090087890625\n",
      "Test Episode 15 Reward: -62.15406799316406\n",
      "Test Episode 16 Reward: -62.958404541015625\n",
      "Test Episode 17 Reward: -62.958404541015625\n",
      "Test Episode 18 Reward: 15.62261962890625\n",
      "Test Episode 19 Reward: -55.95005798339844\n",
      "Test Episode 20 Reward: -0.1173553466796875\n",
      "Average Test Reward (without depth buffer): -39.103660583496094\n",
      "Loading model from checkpoints\\deadly_corridor.ckpt-680\n",
      "INFO:tensorflow:Restoring parameters from checkpoints\\deadly_corridor.ckpt-680\n",
      "Test Episode 1 Reward: 3.3145751953125\n",
      "Test Episode 2 Reward: -115.61251831054688\n",
      "Test Episode 3 Reward: -52.69285583496094\n",
      "Test Episode 4 Reward: 45.3485107421875\n",
      "Test Episode 5 Reward: -99.59584045410156\n",
      "Test Episode 6 Reward: 41.86260986328125\n",
      "Test Episode 7 Reward: 140.06793212890625\n",
      "Test Episode 8 Reward: 11.014175415039062\n",
      "Test Episode 9 Reward: -115.61251831054688\n",
      "Test Episode 10 Reward: 27.858856201171875\n",
      "Test Episode 11 Reward: -115.99864196777344\n",
      "Test Episode 12 Reward: 19.210220336914062\n",
      "Test Episode 13 Reward: -54.683624267578125\n",
      "Test Episode 14 Reward: -20.58746337890625\n",
      "Test Episode 15 Reward: -115.61251831054688\n",
      "Test Episode 16 Reward: -115.61251831054688\n",
      "Test Episode 17 Reward: 20.748245239257812\n",
      "Test Episode 18 Reward: 21.06671142578125\n",
      "Test Episode 19 Reward: -115.61251831054688\n",
      "Test Episode 20 Reward: -24.009506225585938\n",
      "Average Test Reward (with depth buffer): -30.756934356689452\n",
      "Loading model from checkpoints\\deadly_corridor.ckpt-680\n",
      "INFO:tensorflow:Restoring parameters from checkpoints\\deadly_corridor.ckpt-680\n",
      "Test Episode 1 Reward: -109.01844787597656\n",
      "Test Episode 2 Reward: -109.01844787597656\n",
      "Test Episode 3 Reward: 367.21311950683594\n",
      "Test Episode 4 Reward: -109.01844787597656\n",
      "Test Episode 5 Reward: -109.01844787597656\n",
      "Test Episode 6 Reward: 71.44795227050781\n",
      "Test Episode 7 Reward: -25.080520629882812\n",
      "Test Episode 8 Reward: -109.01844787597656\n",
      "Test Episode 9 Reward: -109.01844787597656\n",
      "Test Episode 10 Reward: -109.01844787597656\n",
      "Test Episode 11 Reward: 16.533401489257812\n",
      "Test Episode 12 Reward: -16.697067260742188\n",
      "Test Episode 13 Reward: -109.01844787597656\n",
      "Test Episode 14 Reward: 110.23368835449219\n",
      "Test Episode 15 Reward: -109.01844787597656\n",
      "Test Episode 16 Reward: -0.4244384765625\n",
      "Test Episode 17 Reward: 63.210205078125\n",
      "Test Episode 18 Reward: 39.641632080078125\n",
      "Test Episode 19 Reward: 222.82406616210938\n",
      "Test Episode 20 Reward: -109.01844787597656\n",
      "Average Test Reward (without depth buffer): -12.064122009277344\n",
      "Loading model from checkpoints\\deadly_corridor.ckpt-700\n",
      "INFO:tensorflow:Restoring parameters from checkpoints\\deadly_corridor.ckpt-700\n",
      "Test Episode 1 Reward: -115.98994445800781\n",
      "Test Episode 2 Reward: 16.036575317382812\n",
      "Test Episode 3 Reward: -73.02442932128906\n",
      "Test Episode 4 Reward: -46.529388427734375\n",
      "Test Episode 5 Reward: -101.98068237304688\n",
      "Test Episode 6 Reward: 23.553848266601562\n",
      "Test Episode 7 Reward: -110.06924438476562\n",
      "Test Episode 8 Reward: -115.99026489257812\n",
      "Test Episode 9 Reward: -115.99159240722656\n",
      "Test Episode 10 Reward: -111.11363220214844\n",
      "Test Episode 11 Reward: -115.99159240722656\n",
      "Test Episode 12 Reward: -56.313232421875\n",
      "Test Episode 13 Reward: -115.99159240722656\n",
      "Test Episode 14 Reward: 12.566390991210938\n",
      "Test Episode 15 Reward: -115.99159240722656\n",
      "Test Episode 16 Reward: 58.79400634765625\n",
      "Test Episode 17 Reward: -59.36174011230469\n",
      "Test Episode 18 Reward: -109.78639221191406\n",
      "Test Episode 19 Reward: -115.99159240722656\n",
      "Test Episode 20 Reward: -115.99159240722656\n",
      "Average Test Reward (with depth buffer): -74.2578842163086\n",
      "Loading model from checkpoints\\deadly_corridor.ckpt-700\n",
      "INFO:tensorflow:Restoring parameters from checkpoints\\deadly_corridor.ckpt-700\n",
      "Test Episode 1 Reward: 3.9939727783203125\n",
      "Test Episode 2 Reward: 3.9939727783203125\n",
      "Test Episode 3 Reward: -115.98013305664062\n",
      "Test Episode 4 Reward: 25.692398071289062\n",
      "Test Episode 5 Reward: 3.9939727783203125\n",
      "Test Episode 6 Reward: 3.9939727783203125\n",
      "Test Episode 7 Reward: 3.9939727783203125\n",
      "Test Episode 8 Reward: 3.9939727783203125\n",
      "Test Episode 9 Reward: -38.90180969238281\n",
      "Test Episode 10 Reward: 3.9939727783203125\n",
      "Test Episode 11 Reward: -14.635360717773438\n",
      "Test Episode 12 Reward: 3.9939727783203125\n",
      "Test Episode 13 Reward: -114.44873046875\n",
      "Test Episode 14 Reward: 78.85537719726562\n",
      "Test Episode 15 Reward: 3.9939727783203125\n",
      "Test Episode 16 Reward: -74.18826293945312\n",
      "Test Episode 17 Reward: -115.46846008300781\n",
      "Test Episode 18 Reward: 17.576980590820312\n",
      "Test Episode 19 Reward: 3.9939727783203125\n",
      "Test Episode 20 Reward: -115.97894287109375\n",
      "Average Test Reward (without depth buffer): -21.37686080932617\n",
      "Loading model from checkpoints\\deadly_corridor.ckpt-720\n",
      "INFO:tensorflow:Restoring parameters from checkpoints\\deadly_corridor.ckpt-720\n",
      "Test Episode 1 Reward: -93.84776306152344\n",
      "Test Episode 2 Reward: -24.935531616210938\n",
      "Test Episode 3 Reward: 44.40824890136719\n",
      "Test Episode 4 Reward: -12.243087768554688\n",
      "Test Episode 5 Reward: -93.84776306152344\n",
      "Test Episode 6 Reward: -93.84776306152344\n",
      "Test Episode 7 Reward: 8.887161254882812\n",
      "Test Episode 8 Reward: -93.84776306152344\n",
      "Test Episode 9 Reward: -93.84776306152344\n",
      "Test Episode 10 Reward: -13.808792114257812\n",
      "Test Episode 11 Reward: -114.97610473632812\n",
      "Test Episode 12 Reward: -93.84776306152344\n",
      "Test Episode 13 Reward: -93.84776306152344\n",
      "Test Episode 14 Reward: 8.523117065429688\n",
      "Test Episode 15 Reward: -59.15824890136719\n",
      "Test Episode 16 Reward: -108.46757507324219\n",
      "Test Episode 17 Reward: -56.88702392578125\n",
      "Test Episode 18 Reward: 16.2669677734375\n",
      "Test Episode 19 Reward: -57.274444580078125\n",
      "Test Episode 20 Reward: 36.87005615234375\n",
      "Average Test Reward (with depth buffer): -49.486479949951175\n",
      "Loading model from checkpoints\\deadly_corridor.ckpt-720\n",
      "INFO:tensorflow:Restoring parameters from checkpoints\\deadly_corridor.ckpt-720\n"
     ]
    },
    {
     "name": "stdout",
     "output_type": "stream",
     "text": [
      "Test Episode 1 Reward: -50.73466491699219\n",
      "Test Episode 2 Reward: -115.97090148925781\n",
      "Test Episode 3 Reward: -115.99362182617188\n",
      "Test Episode 4 Reward: -115.97090148925781\n",
      "Test Episode 5 Reward: 1.652069091796875\n",
      "Test Episode 6 Reward: 4.5254974365234375\n",
      "Test Episode 7 Reward: -50.81666564941406\n",
      "Test Episode 8 Reward: -104.46783447265625\n",
      "Test Episode 9 Reward: 78.68965148925781\n",
      "Test Episode 10 Reward: -115.97090148925781\n",
      "Test Episode 11 Reward: -50.38909912109375\n",
      "Test Episode 12 Reward: -115.97090148925781\n",
      "Test Episode 13 Reward: -20.673110961914062\n",
      "Test Episode 14 Reward: -31.453216552734375\n",
      "Test Episode 15 Reward: -115.97090148925781\n",
      "Test Episode 16 Reward: -91.30203247070312\n",
      "Test Episode 17 Reward: -115.97090148925781\n",
      "Test Episode 18 Reward: 276.3733215332031\n",
      "Test Episode 19 Reward: -38.200042724609375\n",
      "Test Episode 20 Reward: -115.97090148925781\n",
      "Average Test Reward (without depth buffer): -50.229302978515626\n",
      "Loading model from checkpoints\\deadly_corridor.ckpt-740\n",
      "INFO:tensorflow:Restoring parameters from checkpoints\\deadly_corridor.ckpt-740\n",
      "Test Episode 1 Reward: -115.89659118652344\n",
      "Test Episode 2 Reward: -12.658218383789062\n",
      "Test Episode 3 Reward: -79.25765991210938\n",
      "Test Episode 4 Reward: -115.89659118652344\n",
      "Test Episode 5 Reward: -115.89659118652344\n",
      "Test Episode 6 Reward: -115.89659118652344\n",
      "Test Episode 7 Reward: 111.38490295410156\n",
      "Test Episode 8 Reward: -68.97802734375\n",
      "Test Episode 9 Reward: -115.89659118652344\n",
      "Test Episode 10 Reward: 44.5655517578125\n",
      "Test Episode 11 Reward: -115.89659118652344\n",
      "Test Episode 12 Reward: -70.26895141601562\n",
      "Test Episode 13 Reward: -38.636932373046875\n",
      "Test Episode 14 Reward: -115.89659118652344\n",
      "Test Episode 15 Reward: -115.89659118652344\n",
      "Test Episode 16 Reward: -115.89659118652344\n",
      "Test Episode 17 Reward: -4.18280029296875\n",
      "Test Episode 18 Reward: -115.89659118652344\n",
      "Test Episode 19 Reward: -13.717178344726562\n",
      "Test Episode 20 Reward: -115.89659118652344\n",
      "Average Test Reward (with depth buffer): -70.3305908203125\n",
      "Loading model from checkpoints\\deadly_corridor.ckpt-740\n",
      "INFO:tensorflow:Restoring parameters from checkpoints\\deadly_corridor.ckpt-740\n",
      "Test Episode 1 Reward: -115.97512817382812\n",
      "Test Episode 2 Reward: -115.97883605957031\n",
      "Test Episode 3 Reward: -115.97883605957031\n",
      "Test Episode 4 Reward: -87.96052551269531\n",
      "Test Episode 5 Reward: -115.98960876464844\n",
      "Test Episode 6 Reward: -115.97883605957031\n",
      "Test Episode 7 Reward: -115.98773193359375\n",
      "Test Episode 8 Reward: -115.97883605957031\n",
      "Test Episode 9 Reward: -115.97883605957031\n",
      "Test Episode 10 Reward: -115.97883605957031\n",
      "Test Episode 11 Reward: -115.97883605957031\n",
      "Test Episode 12 Reward: -102.48884582519531\n",
      "Test Episode 13 Reward: 66.60751342773438\n",
      "Test Episode 14 Reward: -101.67735290527344\n",
      "Test Episode 15 Reward: -99.67930603027344\n",
      "Test Episode 16 Reward: -115.97883605957031\n",
      "Test Episode 17 Reward: -56.289886474609375\n",
      "Test Episode 18 Reward: -82.73435974121094\n",
      "Test Episode 19 Reward: -115.97883605957031\n",
      "Test Episode 20 Reward: -113.19462585449219\n",
      "Average Test Reward (without depth buffer): -98.45896911621094\n",
      "Loading model from checkpoints\\deadly_corridor.ckpt-760\n",
      "INFO:tensorflow:Restoring parameters from checkpoints\\deadly_corridor.ckpt-760\n",
      "Test Episode 1 Reward: -115.99502563476562\n",
      "Test Episode 2 Reward: -115.99502563476562\n",
      "Test Episode 3 Reward: -115.1201171875\n",
      "Test Episode 4 Reward: -115.99502563476562\n",
      "Test Episode 5 Reward: -98.53176879882812\n",
      "Test Episode 6 Reward: -115.99502563476562\n",
      "Test Episode 7 Reward: -115.99502563476562\n",
      "Test Episode 8 Reward: -30.430343627929688\n",
      "Test Episode 9 Reward: -115.99502563476562\n",
      "Test Episode 10 Reward: -115.99502563476562\n",
      "Test Episode 11 Reward: -115.99746704101562\n",
      "Test Episode 12 Reward: -115.99502563476562\n",
      "Test Episode 13 Reward: -115.99502563476562\n",
      "Test Episode 14 Reward: -113.20536804199219\n",
      "Test Episode 15 Reward: -115.99502563476562\n",
      "Test Episode 16 Reward: -115.99502563476562\n",
      "Test Episode 17 Reward: -115.99502563476562\n",
      "Test Episode 18 Reward: -115.99502563476562\n",
      "Test Episode 19 Reward: -115.99502563476562\n",
      "Test Episode 20 Reward: -115.99502563476562\n",
      "Average Test Reward (with depth buffer): -110.6605224609375\n",
      "Loading model from checkpoints\\deadly_corridor.ckpt-760\n",
      "INFO:tensorflow:Restoring parameters from checkpoints\\deadly_corridor.ckpt-760\n",
      "Test Episode 1 Reward: 58.14872741699219\n",
      "Test Episode 2 Reward: -93.65095520019531\n",
      "Test Episode 3 Reward: 245.72300720214844\n",
      "Test Episode 4 Reward: -93.65095520019531\n",
      "Test Episode 5 Reward: -93.65095520019531\n",
      "Test Episode 6 Reward: -14.511398315429688\n",
      "Test Episode 7 Reward: -93.65095520019531\n",
      "Test Episode 8 Reward: -93.65095520019531\n",
      "Test Episode 9 Reward: -37.155303955078125\n",
      "Test Episode 10 Reward: -93.65095520019531\n",
      "Test Episode 11 Reward: -93.65095520019531\n",
      "Test Episode 12 Reward: -93.65095520019531\n",
      "Test Episode 13 Reward: -93.65095520019531\n",
      "Test Episode 14 Reward: -53.69422912597656\n",
      "Test Episode 15 Reward: 169.29273986816406\n",
      "Test Episode 16 Reward: -93.65095520019531\n",
      "Test Episode 17 Reward: -55.81901550292969\n",
      "Test Episode 18 Reward: -69.78726196289062\n",
      "Test Episode 19 Reward: -66.10134887695312\n",
      "Test Episode 20 Reward: -93.65095520019531\n",
      "Average Test Reward (without depth buffer): -42.70322952270508\n",
      "Loading model from checkpoints\\deadly_corridor.ckpt-780\n",
      "INFO:tensorflow:Restoring parameters from checkpoints\\deadly_corridor.ckpt-780\n",
      "Test Episode 1 Reward: 28.522323608398438\n",
      "Test Episode 2 Reward: 44.57093811035156\n",
      "Test Episode 3 Reward: -88.62313842773438\n",
      "Test Episode 4 Reward: 28.522323608398438\n",
      "Test Episode 5 Reward: -61.76286315917969\n",
      "Test Episode 6 Reward: 28.522323608398438\n",
      "Test Episode 7 Reward: -62.000457763671875\n",
      "Test Episode 8 Reward: -62.32061767578125\n",
      "Test Episode 9 Reward: -37.937469482421875\n",
      "Test Episode 10 Reward: -16.588058471679688\n",
      "Test Episode 11 Reward: 28.522323608398438\n",
      "Test Episode 12 Reward: -59.95960998535156\n",
      "Test Episode 13 Reward: -1.759429931640625\n",
      "Test Episode 14 Reward: 28.522323608398438\n",
      "Test Episode 15 Reward: -3.9761505126953125\n",
      "Test Episode 16 Reward: 28.522323608398438\n",
      "Test Episode 17 Reward: -30.762298583984375\n",
      "Test Episode 18 Reward: 15.382125854492188\n",
      "Test Episode 19 Reward: 28.522323608398438\n",
      "Test Episode 20 Reward: 28.522323608398438\n",
      "Average Test Reward (with depth buffer): -6.877922058105469\n",
      "Loading model from checkpoints\\deadly_corridor.ckpt-780\n",
      "INFO:tensorflow:Restoring parameters from checkpoints\\deadly_corridor.ckpt-780\n",
      "Test Episode 1 Reward: -49.088470458984375\n",
      "Test Episode 2 Reward: -61.54414367675781\n",
      "Test Episode 3 Reward: -61.54414367675781\n",
      "Test Episode 4 Reward: 36.01036071777344\n",
      "Test Episode 5 Reward: -19.831863403320312\n",
      "Test Episode 6 Reward: -61.54414367675781\n",
      "Test Episode 7 Reward: -61.54414367675781\n",
      "Test Episode 8 Reward: -62.457061767578125\n",
      "Test Episode 9 Reward: -61.54414367675781\n",
      "Test Episode 10 Reward: -61.54414367675781\n",
      "Test Episode 11 Reward: -61.54414367675781\n",
      "Test Episode 12 Reward: 17.043960571289062\n",
      "Test Episode 13 Reward: -61.54414367675781\n",
      "Test Episode 14 Reward: -61.54414367675781\n",
      "Test Episode 15 Reward: 17.082489013671875\n",
      "Test Episode 16 Reward: -61.54414367675781\n",
      "Test Episode 17 Reward: -61.54414367675781\n",
      "Test Episode 18 Reward: -48.921295166015625\n",
      "Test Episode 19 Reward: -61.54414367675781\n",
      "Test Episode 20 Reward: 65.55168151855469\n",
      "Average Test Reward (without depth buffer): -39.156996154785155\n",
      "Loading model from checkpoints\\deadly_corridor.ckpt-800\n",
      "INFO:tensorflow:Restoring parameters from checkpoints\\deadly_corridor.ckpt-800\n",
      "Test Episode 1 Reward: 34.233184814453125\n",
      "Test Episode 2 Reward: -73.43327331542969\n",
      "Test Episode 3 Reward: 34.233184814453125\n",
      "Test Episode 4 Reward: 34.233184814453125\n",
      "Test Episode 5 Reward: -106.72538757324219\n",
      "Test Episode 6 Reward: -62.79789733886719\n",
      "Test Episode 7 Reward: -94.10385131835938\n",
      "Test Episode 8 Reward: -111.20906066894531\n",
      "Test Episode 9 Reward: 34.233184814453125\n",
      "Test Episode 10 Reward: -107.17849731445312\n",
      "Test Episode 11 Reward: 34.233184814453125\n",
      "Test Episode 12 Reward: 150.01638793945312\n",
      "Test Episode 13 Reward: -115.9443359375\n",
      "Test Episode 14 Reward: -43.90882873535156\n",
      "Test Episode 15 Reward: -42.2982177734375\n",
      "Test Episode 16 Reward: 14.253997802734375\n",
      "Test Episode 17 Reward: -70.49459838867188\n",
      "Test Episode 18 Reward: -20.990341186523438\n"
     ]
    },
    {
     "name": "stdout",
     "output_type": "stream",
     "text": [
      "Test Episode 19 Reward: 34.233184814453125\n",
      "Test Episode 20 Reward: -44.0439453125\n",
      "Average Test Reward (with depth buffer): -26.17293701171875\n",
      "Loading model from checkpoints\\deadly_corridor.ckpt-800\n",
      "INFO:tensorflow:Restoring parameters from checkpoints\\deadly_corridor.ckpt-800\n",
      "Test Episode 1 Reward: 15.135162353515625\n",
      "Test Episode 2 Reward: -61.18501281738281\n",
      "Test Episode 3 Reward: -67.76820373535156\n",
      "Test Episode 4 Reward: 20.694473266601562\n",
      "Test Episode 5 Reward: 15.135162353515625\n",
      "Test Episode 6 Reward: 15.135162353515625\n",
      "Test Episode 7 Reward: -57.496124267578125\n",
      "Test Episode 8 Reward: -24.960617065429688\n",
      "Test Episode 9 Reward: 14.34906005859375\n",
      "Test Episode 10 Reward: 15.135162353515625\n",
      "Test Episode 11 Reward: 15.135162353515625\n",
      "Test Episode 12 Reward: 6.143341064453125\n",
      "Test Episode 13 Reward: 15.135162353515625\n",
      "Test Episode 14 Reward: 15.135162353515625\n",
      "Test Episode 15 Reward: 15.135162353515625\n",
      "Test Episode 16 Reward: -24.176712036132812\n",
      "Test Episode 17 Reward: -33.49822998046875\n",
      "Test Episode 18 Reward: 40.083099365234375\n",
      "Test Episode 19 Reward: 15.135162353515625\n",
      "Test Episode 20 Reward: -30.930633544921875\n",
      "Average Test Reward (without depth buffer): -4.126454925537109\n"
     ]
    }
   ],
   "source": [
    "#Get a list of checkpoints saved during training\n",
    "\n",
    "ckpts = tf.train.get_checkpoint_state('checkpoints').all_model_checkpoint_paths\n",
    "\n",
    "#Test the trained model from a certain checkpoint by only choosing actions with a greedy strategy\n",
    "\n",
    "for i in range(len(ckpts)):\n",
    "    test_reward = test_agent(DQN, num_episodes=20,\n",
    "                             training=False,\n",
    "                             load_model=True,\n",
    "                             depth=True,\n",
    "                             model_dir=ckpts[i])\n",
    "    print('Average Test Reward (with depth buffer):', test_reward)\n",
    "\n",
    "    test_reward = test_agent(DQN, num_episodes=20,\n",
    "                             training=False,\n",
    "                             load_model=True,\n",
    "                             depth=False,\n",
    "                             model_dir=ckpts[i])\n",
    "    print('Average Test Reward (without depth buffer):', test_reward)\n"
   ]
  }
 ],
 "metadata": {
  "kernelspec": {
   "display_name": "Python 3 (Spyder)",
   "language": "python3",
   "name": "python3"
  },
  "language_info": {
   "codemirror_mode": {
    "name": "ipython",
    "version": 3
   },
   "file_extension": ".py",
   "mimetype": "text/x-python",
   "name": "python",
   "nbconvert_exporter": "python",
   "pygments_lexer": "ipython3",
   "version": "3.6.3"
  },
  "notify_time": "30"
 },
 "nbformat": 4,
 "nbformat_minor": 2
}
