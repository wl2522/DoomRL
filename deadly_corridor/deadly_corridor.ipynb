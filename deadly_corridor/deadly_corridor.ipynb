{
 "cells": [
  {
   "cell_type": "code",
   "execution_count": 1,
   "metadata": {
    "ExecuteTime": {
     "end_time": "2018-01-31T04:54:48.143022Z",
     "start_time": "2018-01-31T04:54:35.080489Z"
    },
    "run_control": {
     "frozen": false,
     "read_only": false
    }
   },
   "outputs": [],
   "source": [
    "import importlib.util\n",
    "import time\n",
    "\n",
    "import tensorflow as tf\n",
    "import numpy as np\n",
    "\n",
    "from skimage.transform import rescale\n",
    "from tqdm import trange\n",
    "from IPython.display import HTML\n",
    "\n",
    "#Import the vizdoom package as \"vd\" since it can't be installed normally on Windows\n",
    "\n",
    "vd_location = 'C:/Anaconda3/envs/doom/Lib/site-packages/vizdoom/vizdoom.pyd'\n",
    "vizdoom = importlib.util.spec_from_file_location('vizdoom',\n",
    "                                                 vd_location)\n",
    "vd = importlib.util.module_from_spec(vizdoom)\n",
    "vizdoom.loader.exec_module(vd)\n"
   ]
  },
  {
   "cell_type": "code",
   "execution_count": 2,
   "metadata": {
    "ExecuteTime": {
     "end_time": "2018-01-31T04:54:48.296669Z",
     "start_time": "2018-01-31T04:54:48.144023Z"
    },
    "run_control": {
     "frozen": false,
     "read_only": false
    }
   },
   "outputs": [],
   "source": [
    "#Specify the game scenario and the screen format/resolution\n",
    "\n",
    "game = vd.DoomGame()\n",
    "game.set_screen_format(vd.ScreenFormat.GRAY8)\n",
    "game.set_depth_buffer_enabled(True)\n",
    "game.set_screen_resolution(vd.ScreenResolution.RES_160X120)\n",
    "game.load_config('deadly_corridor.cfg')\n",
    "\n",
    "down_sample_ratio = 1\n",
    "width = int(game.get_screen_width()*down_sample_ratio)\n",
    "height = int(game.get_screen_height()*down_sample_ratio)\n",
    "channels = game.get_screen_channels() + int(game.is_depth_buffer_enabled())\n",
    "\n",
    "#Specify the available actions in the scenario\n",
    "\n",
    "available_actions = game.get_available_buttons()\n",
    "actions = [list(ohe) for ohe in list(np.identity(len(available_actions)))]\n",
    "num_actions = len(available_actions)\n",
    "\n",
    "#Specify the Q-network learning parameters\n",
    "\n",
    "frame_delay = 12\n",
    "buffer_size = 75000\n",
    "epochs = 800\n",
    "steps_per_epoch = 2000\n",
    "learning_rate = 0.0025\n",
    "gamma = 0\n",
    "start_epsilon = 1.0\n",
    "end_epsilon = 0.1\n",
    "batch_size = 100\n",
    "load_model = False\n",
    "save_model = True\n",
    "model_dir = './checkpoints/deadly_corridor.ckpt'\n",
    "num_ckpts = 20\n"
   ]
  },
  {
   "cell_type": "code",
   "execution_count": 3,
   "metadata": {
    "ExecuteTime": {
     "end_time": "2018-01-31T04:54:48.803155Z",
     "start_time": "2018-01-31T04:54:48.297671Z"
    },
    "run_control": {
     "frozen": false,
     "read_only": false
    }
   },
   "outputs": [],
   "source": [
    "#Create a buffer object that holds a set of training experiences (state-action-reward tuples)\n",
    "\n",
    "class Buffer():\n",
    "    def __init__(self, size=1000):\n",
    "        self.buffer = list()\n",
    "        self.length = len(self.buffer)\n",
    "        self.size = size\n",
    "        \n",
    "#Add a new experience to the buffer (remove the oldest experience if the buffer is already full)\n",
    "        \n",
    "    def add_experience(self, experience):\n",
    "        if self.length + 1 >= self.size:\n",
    "            self.buffer[0:(self.length + 1) - self.size] = []\n",
    "        \n",
    "        self.buffer.append(experience)\n",
    "        self.length = len(self.buffer)\n",
    "            \n",
    "#Return a batch of experience arrays randomly sampled from the buffer\n",
    "            \n",
    "    def sample_buffer(self, sample_size):\n",
    "        sample = np.random.randint(self.length, size=sample_size)\n",
    "        s1 = np.concatenate([self.buffer[idx][0] for idx in sample], axis=0)\n",
    "        a = np.array([self.buffer[idx][1] for idx in sample])\n",
    "        r = np.array([self.buffer[idx][2] for idx in sample])\n",
    "        s2 = np.concatenate([self.buffer[idx][3] for idx in sample], axis=0)\n",
    "        terminal = np.array([self.buffer[idx][4] for idx in sample], dtype=np.int32)\n",
    "        \n",
    "        return s1, a, r, s2, terminal\n",
    "\n",
    "#Downsample and normalize an image array representing the game state at a given time stamp\n",
    "\n",
    "def preprocess(image, down_sample_ratio=1):\n",
    "    if float(down_sample_ratio) != 1.0:\n",
    "        image = rescale(image=image, scale=down_sample_ratio, mode='reflect')\n",
    "    image = image.astype(np.float32)\n",
    "    image = np.expand_dims(image, axis=0)\n",
    "\n",
    "    return image\n",
    "\n",
    "#Test the agent using a currently training or previously trained model\n",
    "\n",
    "def test_agent(model, num_episodes, load_model, depth, training=True, session=None, model_dir=None):\n",
    "    if load_model == True:\n",
    "        sess = tf.Session()\n",
    "        print('Loading model from', model_dir)\n",
    "        tf.train.Saver().restore(sess, model_dir)\n",
    "        \n",
    "#Require an existing session if a pretrained model isn't provided\n",
    "        \n",
    "    elif load_model == False:\n",
    "        sess = session\n",
    "\n",
    "    game.set_sound_enabled(True)\n",
    "    episode_rewards = list()\n",
    "    \n",
    "#Avoid reinitializing the game if this was already done by the training process\n",
    "    \n",
    "    if training == False:\n",
    "        game.init()\n",
    "\n",
    "    for i in range(num_episodes):\n",
    "        game.new_episode()\n",
    "    \n",
    "        while not game.is_episode_finished():\n",
    "            state = game.get_state()\n",
    "            \n",
    "            if depth == False:\n",
    "                depth_buffer = np.zeros(state.screen_buffer.shape)\n",
    "            elif depth == True:\n",
    "                depth_buffer = state.depth_buffer\n",
    "                \n",
    "            state_buffer = np.stack((state.screen_buffer,\n",
    "                                     depth_buffer), axis=-1)\n",
    "            state1 = preprocess(state_buffer, down_sample_ratio)\n",
    "            action = model.choose_action(sess, state1)[0]\n",
    "            reward = game.make_action(actions[action])\n",
    "            \n",
    "#Add a delay between each time step so that the episodes occur at normal speed\n",
    "\n",
    "            time.sleep(0.02)\n",
    "        \n",
    "        episode_rewards.append(game.get_total_reward())\n",
    "        print('Test Episode {} Reward: {}'.format(i + 1, game.get_total_reward()))\n",
    "        time.sleep(1)\n",
    "    \n",
    "#Avoid ending the game so that the training process can continue\n",
    "    \n",
    "    if training == False:\n",
    "        game.close()\n",
    "    \n",
    "    return np.mean(episode_rewards)\n"
   ]
  },
  {
   "cell_type": "code",
   "execution_count": 4,
   "metadata": {
    "ExecuteTime": {
     "end_time": "2018-01-31T04:54:49.119459Z",
     "start_time": "2018-01-31T04:54:48.804157Z"
    },
    "run_control": {
     "frozen": false,
     "read_only": false
    }
   },
   "outputs": [],
   "source": [
    "#Create a Q-network to estimate values and choose actions for a given state\n",
    "\n",
    "class Q_network():\n",
    "    def __init__(self, network_name, height, width, channels, learning_rate=0.001):\n",
    "        self.learning_rate = learning_rate\n",
    "        self.s_t = tf.placeholder(tf.float32,\n",
    "                                  shape=[None, height, width, channels],\n",
    "                                  name=network_name + '_state'\n",
    "                                 )\n",
    "        self.a_t = tf.placeholder(tf.int32,\n",
    "                                  shape=[None],\n",
    "                                  name=network_name + '_action'\n",
    "                                 )\n",
    "        self.Q_target = tf.placeholder(tf.float32,\n",
    "                                       shape=[None, num_actions],\n",
    "                                       name=network_name + '_Q_target'\n",
    "                                      )\n",
    "\n",
    "        self.input_layer = tf.reshape(self.s_t,\n",
    "                                      [-1, height, width, channels],\n",
    "                                      name=network_name + '_input_layer'\n",
    "                                     )\n",
    "        self.conv1 = tf.layers.conv2d(inputs=self.input_layer,\n",
    "                                      filters=32,\n",
    "                                      kernel_size=[8, 8],\n",
    "                                      strides=[4, 4],\n",
    "                                      padding='valid',\n",
    "                                      activation=tf.nn.relu,\n",
    "                                      name=network_name + '_conv1_layer'\n",
    "                                     )\n",
    "        self.conv2 = tf.layers.conv2d(inputs=self.conv1,\n",
    "                                      filters=64,\n",
    "                                      kernel_size=[4, 4],\n",
    "                                      strides=[2, 2],\n",
    "                                      padding='valid',\n",
    "                                      activation=tf.nn.relu,\n",
    "                                      name=network_name + '_conv2_layer'\n",
    "                                     )\n",
    "        self.flatten = tf.layers.flatten(self.conv2,\n",
    "                                         name=network_name + '_flatten'\n",
    "                                        )\n",
    "        self.dense = tf.layers.dense(inputs=self.flatten,\n",
    "                                      units=512,\n",
    "                                      activation=tf.nn.relu,\n",
    "                                      name=network_name + '_dense1_layer'\n",
    "                                    )\n",
    "        self.Q_values = tf.layers.dense(inputs=self.dense,\n",
    "                                        units=len(actions),\n",
    "                                        activation=None,\n",
    "                                        name=network_name + '_output_layer'\n",
    "                                       )        \n",
    "    \n",
    "        self.best_action = tf.argmax(self.Q_values, 1)\n",
    "        self.loss = tf.losses.mean_squared_error(self.Q_values,\n",
    "                                                 self.Q_target)\n",
    "        self.adam = tf.train.AdamOptimizer(learning_rate=self.learning_rate,\n",
    "                                           name=network_name + '_adam'\n",
    "                                          )\n",
    "        self.train = self.adam.minimize(self.loss)\n",
    "        \n",
    "    def update_lr(self):\n",
    "        self.learning_rate = 0.98*self.learning_rate\n",
    "        \n",
    "        return self.learning_rate\n",
    "\n",
    "    def calculate_loss(self, session, s, q):\n",
    "        L, _ = session.run([self.loss, self.train],\n",
    "                           feed_dict={self.s_t: s,\n",
    "                                      self.Q_target: q})\n",
    "    \n",
    "        return L\n",
    "\n",
    "#Return the array of Q-values and the best action associated with a given state\n",
    "\n",
    "    def get_Q_values(self, session, s):\n",
    "        Q = session.run(self.Q_values,\n",
    "                        feed_dict={self.s_t: s})\n",
    "\n",
    "        return Q\n",
    "    \n",
    "    def choose_action(self, session, s):\n",
    "        a = session.run(self.best_action,\n",
    "                        feed_dict={self.s_t: s})\n",
    "    \n",
    "        return a\n",
    "    \n",
    "#Create a list of variable update operations\n",
    "\n",
    "def update_graph(variables):\n",
    "    update_ops = list()\n",
    "    \n",
    "#Assign weight values from the network created first to the one created second\n",
    "    \n",
    "    for idx, variable in enumerate(variables[:len(variables)//2]):\n",
    "        op = variable.assign(variables[idx + len(variables)//2].value())\n",
    "        update_ops.append(op)\n",
    "    \n",
    "    return update_ops\n",
    "\n",
    "#Update the target network parameters to match those of the online network\n",
    "\n",
    "def update_target(ops, session):\n",
    "    for op in update_ops:\n",
    "        session.run(op)\n"
   ]
  },
  {
   "cell_type": "code",
   "execution_count": 5,
   "metadata": {
    "ExecuteTime": {
     "end_time": "2018-02-03T02:32:01.722474Z",
     "start_time": "2018-01-31T04:54:49.120960Z"
    },
    "run_control": {
     "frozen": false,
     "read_only": false
    },
    "scrolled": true
   },
   "outputs": [
    {
     "name": "stderr",
     "output_type": "stream",
     "text": [
      "100%|██████████| 2000/2000 [01:45<00:00, 18.91it/s]\n"
     ]
    },
    {
     "name": "stdout",
     "output_type": "stream",
     "text": [
      "Epoch 1 Mean Reward: -70.14543531799316\n"
     ]
    },
    {
     "name": "stderr",
     "output_type": "stream",
     "text": [
      "100%|██████████| 2000/2000 [01:36<00:00, 20.67it/s]\n"
     ]
    },
    {
     "name": "stdout",
     "output_type": "stream",
     "text": [
      "Epoch 2 Mean Reward: -67.7360872039795\n"
     ]
    },
    {
     "name": "stderr",
     "output_type": "stream",
     "text": [
      "100%|██████████| 2000/2000 [01:32<00:00, 21.64it/s]\n"
     ]
    },
    {
     "name": "stdout",
     "output_type": "stream",
     "text": [
      "Epoch 3 Mean Reward: -68.24378144073486\n"
     ]
    },
    {
     "name": "stderr",
     "output_type": "stream",
     "text": [
      "100%|██████████| 2000/2000 [01:33<00:00, 21.50it/s]\n"
     ]
    },
    {
     "name": "stdout",
     "output_type": "stream",
     "text": [
      "Epoch 4 Mean Reward: -68.85452091217041\n"
     ]
    },
    {
     "name": "stderr",
     "output_type": "stream",
     "text": [
      "100%|██████████| 2000/2000 [01:46<00:00, 18.85it/s]\n"
     ]
    },
    {
     "name": "stdout",
     "output_type": "stream",
     "text": [
      "Epoch 5 Mean Reward: -68.6224732208252\n"
     ]
    },
    {
     "name": "stderr",
     "output_type": "stream",
     "text": [
      "100%|██████████| 2000/2000 [01:53<00:00, 17.55it/s]\n"
     ]
    },
    {
     "name": "stdout",
     "output_type": "stream",
     "text": [
      "Epoch 6 Mean Reward: -67.45589167022705\n"
     ]
    },
    {
     "name": "stderr",
     "output_type": "stream",
     "text": [
      "100%|██████████| 2000/2000 [01:35<00:00, 21.04it/s]\n"
     ]
    },
    {
     "name": "stdout",
     "output_type": "stream",
     "text": [
      "Epoch 7 Mean Reward: -68.36672199249267\n"
     ]
    },
    {
     "name": "stderr",
     "output_type": "stream",
     "text": [
      "100%|██████████| 2000/2000 [01:35<00:00, 20.88it/s]\n"
     ]
    },
    {
     "name": "stdout",
     "output_type": "stream",
     "text": [
      "Epoch 8 Mean Reward: -66.91481105804444\n"
     ]
    },
    {
     "name": "stderr",
     "output_type": "stream",
     "text": [
      "100%|██████████| 2000/2000 [02:01<00:00, 16.50it/s]\n"
     ]
    },
    {
     "name": "stdout",
     "output_type": "stream",
     "text": [
      "Epoch 9 Mean Reward: -69.2730106124878\n"
     ]
    },
    {
     "name": "stderr",
     "output_type": "stream",
     "text": [
      "100%|██████████| 2000/2000 [01:35<00:00, 20.87it/s]\n"
     ]
    },
    {
     "name": "stdout",
     "output_type": "stream",
     "text": [
      "Epoch 10 Mean Reward: -71.83629892730713\n"
     ]
    },
    {
     "name": "stderr",
     "output_type": "stream",
     "text": [
      "100%|██████████| 2000/2000 [01:37<00:00, 20.42it/s]\n"
     ]
    },
    {
     "name": "stdout",
     "output_type": "stream",
     "text": [
      "Epoch 11 Mean Reward: -67.99077415466309\n"
     ]
    },
    {
     "name": "stderr",
     "output_type": "stream",
     "text": [
      "100%|██████████| 2000/2000 [01:34<00:00, 21.20it/s]\n"
     ]
    },
    {
     "name": "stdout",
     "output_type": "stream",
     "text": [
      "Epoch 12 Mean Reward: -69.85088845062256\n"
     ]
    },
    {
     "name": "stderr",
     "output_type": "stream",
     "text": [
      "100%|██████████| 2000/2000 [01:34<00:00, 21.24it/s]\n"
     ]
    },
    {
     "name": "stdout",
     "output_type": "stream",
     "text": [
      "Epoch 13 Mean Reward: -69.4206921005249\n"
     ]
    },
    {
     "name": "stderr",
     "output_type": "stream",
     "text": [
      "100%|██████████| 2000/2000 [02:04<00:00, 16.01it/s]\n"
     ]
    },
    {
     "name": "stdout",
     "output_type": "stream",
     "text": [
      "Epoch 14 Mean Reward: -68.37532199859619\n"
     ]
    },
    {
     "name": "stderr",
     "output_type": "stream",
     "text": [
      "100%|██████████| 2000/2000 [02:24<00:00, 13.80it/s]\n"
     ]
    },
    {
     "name": "stdout",
     "output_type": "stream",
     "text": [
      "Epoch 15 Mean Reward: -67.74096681213379\n"
     ]
    },
    {
     "name": "stderr",
     "output_type": "stream",
     "text": [
      "100%|██████████| 2000/2000 [02:44<00:00, 12.16it/s]\n"
     ]
    },
    {
     "name": "stdout",
     "output_type": "stream",
     "text": [
      "Epoch 16 Mean Reward: -68.9996884689331\n"
     ]
    },
    {
     "name": "stderr",
     "output_type": "stream",
     "text": [
      "100%|██████████| 2000/2000 [01:53<00:00, 17.64it/s]\n"
     ]
    },
    {
     "name": "stdout",
     "output_type": "stream",
     "text": [
      "Epoch 17 Mean Reward: -68.52553997039794\n"
     ]
    },
    {
     "name": "stderr",
     "output_type": "stream",
     "text": [
      "100%|██████████| 2000/2000 [01:41<00:00, 19.73it/s]\n"
     ]
    },
    {
     "name": "stdout",
     "output_type": "stream",
     "text": [
      "Epoch 18 Mean Reward: -68.04762963867188\n"
     ]
    },
    {
     "name": "stderr",
     "output_type": "stream",
     "text": [
      "100%|██████████| 2000/2000 [02:05<00:00, 15.89it/s]\n"
     ]
    },
    {
     "name": "stdout",
     "output_type": "stream",
     "text": [
      "Epoch 19 Mean Reward: -67.26277614593506\n"
     ]
    },
    {
     "name": "stderr",
     "output_type": "stream",
     "text": [
      "100%|██████████| 2000/2000 [01:29<00:00, 22.30it/s]\n"
     ]
    },
    {
     "name": "stdout",
     "output_type": "stream",
     "text": [
      "Epoch 20 Mean Reward: -69.89900773620606\n",
      "Epoch 20 Model saved to ./checkpoints/deadly_corridor.ckpt\n",
      "Epoch 20 test with depth buffer:\n",
      "Test Episode 1 Reward: 90.69096374511719\n",
      "Test Episode 2 Reward: 120.35203552246094\n",
      "Test Episode 3 Reward: 52.4249267578125\n",
      "Test Episode 4 Reward: 90.69096374511719\n",
      "Test Episode 5 Reward: 438.7526092529297\n",
      "Test Episode 6 Reward: 90.69096374511719\n",
      "Test Episode 7 Reward: 42.77778625488281\n",
      "Test Episode 8 Reward: 90.69096374511719\n",
      "Test Episode 9 Reward: 90.69096374511719\n",
      "Test Episode 10 Reward: 90.04365539550781\n",
      "Average Test Reward (with depth buffer:) 119.78058319091797\n",
      "Epoch 20 test without depth buffer:\n",
      "Test Episode 1 Reward: 66.06320190429688\n",
      "Test Episode 2 Reward: 135.17001342773438\n",
      "Test Episode 3 Reward: 58.683837890625\n",
      "Test Episode 4 Reward: 16.507125854492188\n",
      "Test Episode 5 Reward: 15.260177612304688\n",
      "Test Episode 6 Reward: 59.56553649902344\n",
      "Test Episode 7 Reward: 8.531494140625\n",
      "Test Episode 8 Reward: -11.343109130859375\n",
      "Test Episode 9 Reward: 135.17001342773438\n",
      "Test Episode 10 Reward: 135.17001342773438\n",
      "Average Test Reward (without depth buffer): 61.877830505371094\n"
     ]
    },
    {
     "name": "stderr",
     "output_type": "stream",
     "text": [
      "100%|██████████| 2000/2000 [01:34<00:00, 21.20it/s]\n"
     ]
    },
    {
     "name": "stdout",
     "output_type": "stream",
     "text": [
      "Epoch 21 Mean Reward: -70.52224814605712\n"
     ]
    },
    {
     "name": "stderr",
     "output_type": "stream",
     "text": [
      "100%|██████████| 2000/2000 [01:35<00:00, 20.92it/s]\n"
     ]
    },
    {
     "name": "stdout",
     "output_type": "stream",
     "text": [
      "Epoch 22 Mean Reward: -70.1377102355957\n"
     ]
    },
    {
     "name": "stderr",
     "output_type": "stream",
     "text": [
      "100%|██████████| 2000/2000 [01:36<00:00, 20.67it/s]\n"
     ]
    },
    {
     "name": "stdout",
     "output_type": "stream",
     "text": [
      "Epoch 23 Mean Reward: -69.20314004516601\n"
     ]
    },
    {
     "name": "stderr",
     "output_type": "stream",
     "text": [
      "100%|██████████| 2000/2000 [01:33<00:00, 21.32it/s]\n"
     ]
    },
    {
     "name": "stdout",
     "output_type": "stream",
     "text": [
      "Epoch 24 Mean Reward: -69.63417882537841\n"
     ]
    },
    {
     "name": "stderr",
     "output_type": "stream",
     "text": [
      "100%|██████████| 2000/2000 [01:35<00:00, 20.90it/s]\n"
     ]
    },
    {
     "name": "stdout",
     "output_type": "stream",
     "text": [
      "Epoch 25 Mean Reward: -69.27937935638428\n"
     ]
    },
    {
     "name": "stderr",
     "output_type": "stream",
     "text": [
      "100%|██████████| 2000/2000 [01:39<00:00, 20.01it/s]\n"
     ]
    },
    {
     "name": "stdout",
     "output_type": "stream",
     "text": [
      "Epoch 26 Mean Reward: -66.36160682678222\n"
     ]
    },
    {
     "name": "stderr",
     "output_type": "stream",
     "text": [
      "100%|██████████| 2000/2000 [01:35<00:00, 21.02it/s]\n"
     ]
    },
    {
     "name": "stdout",
     "output_type": "stream",
     "text": [
      "Epoch 27 Mean Reward: -68.9486916732788\n"
     ]
    },
    {
     "name": "stderr",
     "output_type": "stream",
     "text": [
      "100%|██████████| 2000/2000 [01:36<00:00, 20.70it/s]\n"
     ]
    },
    {
     "name": "stdout",
     "output_type": "stream",
     "text": [
      "Epoch 28 Mean Reward: -67.14885174560547\n"
     ]
    },
    {
     "name": "stderr",
     "output_type": "stream",
     "text": [
      "100%|██████████| 2000/2000 [01:36<00:00, 20.72it/s]\n"
     ]
    },
    {
     "name": "stdout",
     "output_type": "stream",
     "text": [
      "Epoch 29 Mean Reward: -68.11575672149658\n"
     ]
    },
    {
     "name": "stderr",
     "output_type": "stream",
     "text": [
      "100%|██████████| 2000/2000 [01:35<00:00, 21.05it/s]\n"
     ]
    },
    {
     "name": "stdout",
     "output_type": "stream",
     "text": [
      "Epoch 30 Mean Reward: -69.98779563903808\n"
     ]
    },
    {
     "name": "stderr",
     "output_type": "stream",
     "text": [
      "100%|██████████| 2000/2000 [01:45<00:00, 19.01it/s]\n"
     ]
    },
    {
     "name": "stdout",
     "output_type": "stream",
     "text": [
      "Epoch 31 Mean Reward: -69.34321003723144\n"
     ]
    },
    {
     "name": "stderr",
     "output_type": "stream",
     "text": [
      "100%|██████████| 2000/2000 [01:34<00:00, 21.10it/s]\n"
     ]
    },
    {
     "name": "stdout",
     "output_type": "stream",
     "text": [
      "Epoch 32 Mean Reward: -67.57150075531005\n"
     ]
    },
    {
     "name": "stderr",
     "output_type": "stream",
     "text": [
      "100%|██████████| 2000/2000 [01:33<00:00, 21.30it/s]\n"
     ]
    },
    {
     "name": "stdout",
     "output_type": "stream",
     "text": [
      "Epoch 33 Mean Reward: -68.50345252990722\n"
     ]
    },
    {
     "name": "stderr",
     "output_type": "stream",
     "text": [
      "100%|██████████| 2000/2000 [01:35<00:00, 21.02it/s]\n"
     ]
    },
    {
     "name": "stdout",
     "output_type": "stream",
     "text": [
      "Epoch 34 Mean Reward: -67.59668308258057\n"
     ]
    },
    {
     "name": "stderr",
     "output_type": "stream",
     "text": [
      "100%|██████████| 2000/2000 [01:38<00:00, 20.23it/s]\n"
     ]
    },
    {
     "name": "stdout",
     "output_type": "stream",
     "text": [
      "Epoch 35 Mean Reward: -68.8330452041626\n"
     ]
    },
    {
     "name": "stderr",
     "output_type": "stream",
     "text": [
      "100%|██████████| 2000/2000 [01:34<00:00, 21.12it/s]\n"
     ]
    },
    {
     "name": "stdout",
     "output_type": "stream",
     "text": [
      "Epoch 36 Mean Reward: -68.23242985534668\n"
     ]
    },
    {
     "name": "stderr",
     "output_type": "stream",
     "text": [
      "100%|██████████| 2000/2000 [01:57<00:00, 17.03it/s]\n"
     ]
    },
    {
     "name": "stdout",
     "output_type": "stream",
     "text": [
      "Epoch 37 Mean Reward: -69.59331219482422\n"
     ]
    },
    {
     "name": "stderr",
     "output_type": "stream",
     "text": [
      "100%|██████████| 2000/2000 [01:45<00:00, 18.90it/s]\n"
     ]
    },
    {
     "name": "stdout",
     "output_type": "stream",
     "text": [
      "Epoch 38 Mean Reward: -69.3366153717041\n"
     ]
    },
    {
     "name": "stderr",
     "output_type": "stream",
     "text": [
      "100%|██████████| 2000/2000 [01:35<00:00, 20.95it/s]\n"
     ]
    },
    {
     "name": "stdout",
     "output_type": "stream",
     "text": [
      "Epoch 39 Mean Reward: -66.87505702209472\n"
     ]
    },
    {
     "name": "stderr",
     "output_type": "stream",
     "text": [
      "100%|██████████| 2000/2000 [01:35<00:00, 21.03it/s]\n"
     ]
    },
    {
     "name": "stdout",
     "output_type": "stream",
     "text": [
      "Epoch 40 Mean Reward: -68.53577494812012\n",
      "Epoch 40 Model saved to ./checkpoints/deadly_corridor.ckpt\n",
      "Epoch 40 test with depth buffer:\n",
      "Test Episode 1 Reward: 96.66981506347656\n",
      "Test Episode 2 Reward: 73.09768676757812\n",
      "Test Episode 3 Reward: 87.59173583984375\n",
      "Test Episode 4 Reward: 87.59173583984375\n",
      "Test Episode 5 Reward: 440.95143127441406\n",
      "Test Episode 6 Reward: 87.59173583984375\n",
      "Test Episode 7 Reward: 95.23233032226562\n",
      "Test Episode 8 Reward: 87.59173583984375\n",
      "Test Episode 9 Reward: 106.63491821289062\n",
      "Test Episode 10 Reward: 87.59173583984375\n",
      "Average Test Reward (with depth buffer:) 125.05448608398437\n",
      "Epoch 40 test without depth buffer:\n",
      "Test Episode 1 Reward: 40.73944091796875\n",
      "Test Episode 2 Reward: 40.73944091796875\n",
      "Test Episode 3 Reward: -9.682037353515625\n",
      "Test Episode 4 Reward: 40.73944091796875\n",
      "Test Episode 5 Reward: -0.2173919677734375\n",
      "Test Episode 6 Reward: 40.73944091796875\n",
      "Test Episode 7 Reward: 40.73944091796875\n",
      "Test Episode 8 Reward: 40.73944091796875\n",
      "Test Episode 9 Reward: 40.73944091796875\n",
      "Test Episode 10 Reward: 40.73944091796875\n",
      "Average Test Reward (without depth buffer): 31.601609802246095\n"
     ]
    },
    {
     "name": "stderr",
     "output_type": "stream",
     "text": [
      "100%|██████████| 2000/2000 [01:38<00:00, 20.21it/s]\n"
     ]
    },
    {
     "name": "stdout",
     "output_type": "stream",
     "text": [
      "Epoch 41 Mean Reward: -70.14783712768555\n"
     ]
    },
    {
     "name": "stderr",
     "output_type": "stream",
     "text": [
      "100%|██████████| 2000/2000 [01:34<00:00, 21.07it/s]\n"
     ]
    },
    {
     "name": "stdout",
     "output_type": "stream",
     "text": [
      "Epoch 42 Mean Reward: -68.7408060836792\n"
     ]
    },
    {
     "name": "stderr",
     "output_type": "stream",
     "text": [
      "100%|██████████| 2000/2000 [01:34<00:00, 21.06it/s]\n"
     ]
    },
    {
     "name": "stdout",
     "output_type": "stream",
     "text": [
      "Epoch 43 Mean Reward: -68.46956340026856\n"
     ]
    },
    {
     "name": "stderr",
     "output_type": "stream",
     "text": [
      "100%|██████████| 2000/2000 [01:34<00:00, 21.21it/s]\n"
     ]
    },
    {
     "name": "stdout",
     "output_type": "stream",
     "text": [
      "Epoch 44 Mean Reward: -68.62553568267822\n"
     ]
    },
    {
     "name": "stderr",
     "output_type": "stream",
     "text": [
      "100%|██████████| 2000/2000 [01:33<00:00, 21.33it/s]\n"
     ]
    },
    {
     "name": "stdout",
     "output_type": "stream",
     "text": [
      "Epoch 45 Mean Reward: -69.9545622253418\n"
     ]
    },
    {
     "name": "stderr",
     "output_type": "stream",
     "text": [
      "100%|██████████| 2000/2000 [01:34<00:00, 21.19it/s]\n"
     ]
    },
    {
     "name": "stdout",
     "output_type": "stream",
     "text": [
      "Epoch 46 Mean Reward: -68.90749161529541\n"
     ]
    },
    {
     "name": "stderr",
     "output_type": "stream",
     "text": [
      "100%|██████████| 2000/2000 [01:33<00:00, 21.28it/s]\n"
     ]
    },
    {
     "name": "stdout",
     "output_type": "stream",
     "text": [
      "Epoch 47 Mean Reward: -69.25712066650391\n"
     ]
    },
    {
     "name": "stderr",
     "output_type": "stream",
     "text": [
      "100%|██████████| 2000/2000 [01:34<00:00, 21.11it/s]\n"
     ]
    },
    {
     "name": "stdout",
     "output_type": "stream",
     "text": [
      "Epoch 48 Mean Reward: -67.81345086669921\n"
     ]
    },
    {
     "name": "stderr",
     "output_type": "stream",
     "text": [
      "100%|██████████| 2000/2000 [01:35<00:00, 20.87it/s]\n"
     ]
    },
    {
     "name": "stdout",
     "output_type": "stream",
     "text": [
      "Epoch 49 Mean Reward: -68.35318211364746\n"
     ]
    },
    {
     "name": "stderr",
     "output_type": "stream",
     "text": [
      "100%|██████████| 2000/2000 [01:33<00:00, 21.35it/s]\n"
     ]
    },
    {
     "name": "stdout",
     "output_type": "stream",
     "text": [
      "Epoch 50 Mean Reward: -67.10083042907715\n"
     ]
    },
    {
     "name": "stderr",
     "output_type": "stream",
     "text": [
      "100%|██████████| 2000/2000 [01:33<00:00, 21.33it/s]\n"
     ]
    },
    {
     "name": "stdout",
     "output_type": "stream",
     "text": [
      "Epoch 51 Mean Reward: -70.49911997985839\n"
     ]
    },
    {
     "name": "stderr",
     "output_type": "stream",
     "text": [
      "100%|██████████| 2000/2000 [01:33<00:00, 21.28it/s]\n"
     ]
    },
    {
     "name": "stdout",
     "output_type": "stream",
     "text": [
      "Epoch 52 Mean Reward: -71.13608712768554\n"
     ]
    },
    {
     "name": "stderr",
     "output_type": "stream",
     "text": [
      "100%|██████████| 2000/2000 [01:33<00:00, 21.34it/s]\n"
     ]
    },
    {
     "name": "stdout",
     "output_type": "stream",
     "text": [
      "Epoch 53 Mean Reward: -69.3590057220459\n"
     ]
    },
    {
     "name": "stderr",
     "output_type": "stream",
     "text": [
      "100%|██████████| 2000/2000 [01:33<00:00, 21.29it/s]\n"
     ]
    },
    {
     "name": "stdout",
     "output_type": "stream",
     "text": [
      "Epoch 54 Mean Reward: -68.8629607849121\n"
     ]
    },
    {
     "name": "stderr",
     "output_type": "stream",
     "text": [
      "100%|██████████| 2000/2000 [01:34<00:00, 21.28it/s]\n"
     ]
    },
    {
     "name": "stdout",
     "output_type": "stream",
     "text": [
      "Epoch 55 Mean Reward: -67.06705626678466\n"
     ]
    },
    {
     "name": "stderr",
     "output_type": "stream",
     "text": [
      "100%|██████████| 2000/2000 [01:34<00:00, 21.22it/s]\n"
     ]
    },
    {
     "name": "stdout",
     "output_type": "stream",
     "text": [
      "Epoch 56 Mean Reward: -69.19256245422363\n"
     ]
    },
    {
     "name": "stderr",
     "output_type": "stream",
     "text": [
      "100%|██████████| 2000/2000 [01:34<00:00, 21.25it/s]\n"
     ]
    },
    {
     "name": "stdout",
     "output_type": "stream",
     "text": [
      "Epoch 57 Mean Reward: -65.76867047119141\n"
     ]
    },
    {
     "name": "stderr",
     "output_type": "stream",
     "text": [
      "100%|██████████| 2000/2000 [01:33<00:00, 21.44it/s]\n"
     ]
    },
    {
     "name": "stdout",
     "output_type": "stream",
     "text": [
      "Epoch 58 Mean Reward: -71.74183332061767\n"
     ]
    },
    {
     "name": "stderr",
     "output_type": "stream",
     "text": [
      "100%|██████████| 2000/2000 [01:34<00:00, 21.13it/s]\n"
     ]
    },
    {
     "name": "stdout",
     "output_type": "stream",
     "text": [
      "Epoch 59 Mean Reward: -67.85960649108887\n"
     ]
    },
    {
     "name": "stderr",
     "output_type": "stream",
     "text": [
      "100%|██████████| 2000/2000 [01:33<00:00, 21.29it/s]\n"
     ]
    },
    {
     "name": "stdout",
     "output_type": "stream",
     "text": [
      "Epoch 60 Mean Reward: -67.18161991882324\n",
      "Epoch 60 Model saved to ./checkpoints/deadly_corridor.ckpt\n",
      "Epoch 60 test with depth buffer:\n",
      "Test Episode 1 Reward: 89.53369140625\n",
      "Test Episode 2 Reward: 89.53369140625\n",
      "Test Episode 3 Reward: 739.4353637695312\n",
      "Test Episode 4 Reward: 89.53369140625\n",
      "Test Episode 5 Reward: 89.53369140625\n",
      "Test Episode 6 Reward: 99.79766845703125\n",
      "Test Episode 7 Reward: 89.53369140625\n",
      "Test Episode 8 Reward: 114.55625915527344\n",
      "Test Episode 9 Reward: 89.53369140625\n",
      "Test Episode 10 Reward: 89.53369140625\n",
      "Average Test Reward (with depth buffer:) 158.0525131225586\n",
      "Epoch 60 test without depth buffer:\n",
      "Test Episode 1 Reward: 24.403976440429688\n",
      "Test Episode 2 Reward: -4.4254913330078125\n",
      "Test Episode 3 Reward: 1.8692779541015625\n",
      "Test Episode 4 Reward: -42.14753723144531\n",
      "Test Episode 5 Reward: 24.403976440429688\n",
      "Test Episode 6 Reward: 24.403976440429688\n",
      "Test Episode 7 Reward: -57.51435852050781\n",
      "Test Episode 8 Reward: 24.403976440429688\n",
      "Test Episode 9 Reward: 24.403976440429688\n",
      "Test Episode 10 Reward: 5.23455810546875\n",
      "Average Test Reward (without depth buffer): 2.5036331176757813\n"
     ]
    },
    {
     "name": "stderr",
     "output_type": "stream",
     "text": [
      "100%|██████████| 2000/2000 [01:33<00:00, 21.38it/s]\n"
     ]
    },
    {
     "name": "stdout",
     "output_type": "stream",
     "text": [
      "Epoch 61 Mean Reward: -69.11170134735107\n"
     ]
    },
    {
     "name": "stderr",
     "output_type": "stream",
     "text": [
      "100%|██████████| 2000/2000 [01:34<00:00, 21.13it/s]\n"
     ]
    },
    {
     "name": "stdout",
     "output_type": "stream",
     "text": [
      "Epoch 62 Mean Reward: -65.54253535461426\n"
     ]
    },
    {
     "name": "stderr",
     "output_type": "stream",
     "text": [
      "100%|██████████| 2000/2000 [01:33<00:00, 21.40it/s]\n"
     ]
    },
    {
     "name": "stdout",
     "output_type": "stream",
     "text": [
      "Epoch 63 Mean Reward: -69.048164894104\n"
     ]
    },
    {
     "name": "stderr",
     "output_type": "stream",
     "text": [
      "100%|██████████| 2000/2000 [01:35<00:00, 20.91it/s]\n"
     ]
    },
    {
     "name": "stdout",
     "output_type": "stream",
     "text": [
      "Epoch 64 Mean Reward: -70.18610736846924\n"
     ]
    },
    {
     "name": "stderr",
     "output_type": "stream",
     "text": [
      "100%|██████████| 2000/2000 [01:35<00:00, 20.97it/s]\n"
     ]
    },
    {
     "name": "stdout",
     "output_type": "stream",
     "text": [
      "Epoch 65 Mean Reward: -70.42312810516357\n"
     ]
    },
    {
     "name": "stderr",
     "output_type": "stream",
     "text": [
      "100%|██████████| 2000/2000 [01:35<00:00, 20.87it/s]\n"
     ]
    },
    {
     "name": "stdout",
     "output_type": "stream",
     "text": [
      "Epoch 66 Mean Reward: -66.81742742156982\n"
     ]
    },
    {
     "name": "stderr",
     "output_type": "stream",
     "text": [
      "100%|██████████| 2000/2000 [01:36<00:00, 20.65it/s]\n"
     ]
    },
    {
     "name": "stdout",
     "output_type": "stream",
     "text": [
      "Epoch 67 Mean Reward: -68.84854863739014\n"
     ]
    },
    {
     "name": "stderr",
     "output_type": "stream",
     "text": [
      "100%|██████████| 2000/2000 [01:36<00:00, 20.65it/s]\n"
     ]
    },
    {
     "name": "stdout",
     "output_type": "stream",
     "text": [
      "Epoch 68 Mean Reward: -67.6436662902832\n"
     ]
    },
    {
     "name": "stderr",
     "output_type": "stream",
     "text": [
      "100%|██████████| 2000/2000 [01:34<00:00, 21.11it/s]\n"
     ]
    },
    {
     "name": "stdout",
     "output_type": "stream",
     "text": [
      "Epoch 69 Mean Reward: -69.3063846206665\n"
     ]
    },
    {
     "name": "stderr",
     "output_type": "stream",
     "text": [
      "100%|██████████| 2000/2000 [01:34<00:00, 21.07it/s]\n"
     ]
    },
    {
     "name": "stdout",
     "output_type": "stream",
     "text": [
      "Epoch 70 Mean Reward: -69.36422961425781\n"
     ]
    },
    {
     "name": "stderr",
     "output_type": "stream",
     "text": [
      "100%|██████████| 2000/2000 [01:34<00:00, 21.06it/s]\n"
     ]
    },
    {
     "name": "stdout",
     "output_type": "stream",
     "text": [
      "Epoch 71 Mean Reward: -68.04117516326905\n"
     ]
    },
    {
     "name": "stderr",
     "output_type": "stream",
     "text": [
      "100%|██████████| 2000/2000 [01:34<00:00, 21.10it/s]\n"
     ]
    },
    {
     "name": "stdout",
     "output_type": "stream",
     "text": [
      "Epoch 72 Mean Reward: -68.3797469329834\n"
     ]
    },
    {
     "name": "stderr",
     "output_type": "stream",
     "text": [
      "100%|██████████| 2000/2000 [01:35<00:00, 21.02it/s]\n"
     ]
    },
    {
     "name": "stdout",
     "output_type": "stream",
     "text": [
      "Epoch 73 Mean Reward: -67.0732082824707\n"
     ]
    },
    {
     "name": "stderr",
     "output_type": "stream",
     "text": [
      "100%|██████████| 2000/2000 [01:34<00:00, 21.10it/s]\n"
     ]
    },
    {
     "name": "stdout",
     "output_type": "stream",
     "text": [
      "Epoch 74 Mean Reward: -69.89504414367676\n"
     ]
    },
    {
     "name": "stderr",
     "output_type": "stream",
     "text": [
      "100%|██████████| 2000/2000 [01:34<00:00, 21.23it/s]\n"
     ]
    },
    {
     "name": "stdout",
     "output_type": "stream",
     "text": [
      "Epoch 75 Mean Reward: -68.78780390167236\n"
     ]
    },
    {
     "name": "stderr",
     "output_type": "stream",
     "text": [
      "100%|██████████| 2000/2000 [01:34<00:00, 21.22it/s]\n"
     ]
    },
    {
     "name": "stdout",
     "output_type": "stream",
     "text": [
      "Epoch 76 Mean Reward: -68.76813946533203\n"
     ]
    },
    {
     "name": "stderr",
     "output_type": "stream",
     "text": [
      "100%|██████████| 2000/2000 [01:34<00:00, 21.21it/s]\n"
     ]
    },
    {
     "name": "stdout",
     "output_type": "stream",
     "text": [
      "Epoch 77 Mean Reward: -68.95317709350586\n"
     ]
    },
    {
     "name": "stderr",
     "output_type": "stream",
     "text": [
      "100%|██████████| 2000/2000 [01:40<00:00, 19.90it/s]\n"
     ]
    },
    {
     "name": "stdout",
     "output_type": "stream",
     "text": [
      "Epoch 78 Mean Reward: -70.05364456939698\n"
     ]
    },
    {
     "name": "stderr",
     "output_type": "stream",
     "text": [
      "100%|██████████| 2000/2000 [03:00<00:00, 11.09it/s]\n"
     ]
    },
    {
     "name": "stdout",
     "output_type": "stream",
     "text": [
      "Epoch 79 Mean Reward: -71.57072350311279\n"
     ]
    },
    {
     "name": "stderr",
     "output_type": "stream",
     "text": [
      "100%|██████████| 2000/2000 [02:44<00:00, 12.17it/s]\n"
     ]
    },
    {
     "name": "stdout",
     "output_type": "stream",
     "text": [
      "Epoch 80 Mean Reward: -67.59708671569824\n",
      "Epoch 80 Model saved to ./checkpoints/deadly_corridor.ckpt\n",
      "Epoch 80 test with depth buffer:\n",
      "Test Episode 1 Reward: 98.39788818359375\n",
      "Test Episode 2 Reward: 75.037109375\n",
      "Test Episode 3 Reward: 75.037109375\n",
      "Test Episode 4 Reward: 75.037109375\n",
      "Test Episode 5 Reward: 72.29826354980469\n",
      "Test Episode 6 Reward: 75.037109375\n",
      "Test Episode 7 Reward: 79.68605041503906\n",
      "Test Episode 8 Reward: 410.44065856933594\n",
      "Test Episode 9 Reward: 296.8779602050781\n",
      "Test Episode 10 Reward: 392.17127990722656\n",
      "Average Test Reward (with depth buffer:) 165.0020538330078\n",
      "Epoch 80 test without depth buffer:\n",
      "Test Episode 1 Reward: 125.82078552246094\n",
      "Test Episode 2 Reward: -89.32633972167969\n",
      "Test Episode 3 Reward: 67.62338256835938\n",
      "Test Episode 4 Reward: 67.62338256835938\n",
      "Test Episode 5 Reward: 67.62338256835938\n",
      "Test Episode 6 Reward: 67.62338256835938\n",
      "Test Episode 7 Reward: 67.62338256835938\n",
      "Test Episode 8 Reward: 35.35111999511719\n",
      "Test Episode 9 Reward: 70.93983459472656\n",
      "Test Episode 10 Reward: 41.31280517578125\n",
      "Average Test Reward (without depth buffer): 52.22151184082031\n"
     ]
    },
    {
     "name": "stderr",
     "output_type": "stream",
     "text": [
      "100%|██████████| 2000/2000 [02:25<00:00, 13.75it/s]\n"
     ]
    },
    {
     "name": "stdout",
     "output_type": "stream",
     "text": [
      "Epoch 81 Mean Reward: -69.70812541198731\n"
     ]
    },
    {
     "name": "stderr",
     "output_type": "stream",
     "text": [
      "100%|██████████| 2000/2000 [02:54<00:00, 11.46it/s]\n"
     ]
    },
    {
     "name": "stdout",
     "output_type": "stream",
     "text": [
      "Epoch 82 Mean Reward: -69.31600485229492\n"
     ]
    },
    {
     "name": "stderr",
     "output_type": "stream",
     "text": [
      "100%|██████████| 2000/2000 [02:55<00:00, 11.41it/s]\n"
     ]
    },
    {
     "name": "stdout",
     "output_type": "stream",
     "text": [
      "Epoch 83 Mean Reward: -67.0740062789917\n"
     ]
    },
    {
     "name": "stderr",
     "output_type": "stream",
     "text": [
      "100%|██████████| 2000/2000 [03:01<00:00, 11.02it/s]\n"
     ]
    },
    {
     "name": "stdout",
     "output_type": "stream",
     "text": [
      "Epoch 84 Mean Reward: -67.22680403900146\n"
     ]
    },
    {
     "name": "stderr",
     "output_type": "stream",
     "text": [
      "100%|██████████| 2000/2000 [02:55<00:00, 11.41it/s]\n"
     ]
    },
    {
     "name": "stdout",
     "output_type": "stream",
     "text": [
      "Epoch 85 Mean Reward: -67.13313544464111\n"
     ]
    },
    {
     "name": "stderr",
     "output_type": "stream",
     "text": [
      "100%|██████████| 2000/2000 [02:20<00:00, 14.26it/s]\n"
     ]
    },
    {
     "name": "stdout",
     "output_type": "stream",
     "text": [
      "Epoch 86 Mean Reward: -67.04319611358643\n"
     ]
    },
    {
     "name": "stderr",
     "output_type": "stream",
     "text": [
      "100%|██████████| 2000/2000 [02:26<00:00, 13.65it/s]\n"
     ]
    },
    {
     "name": "stdout",
     "output_type": "stream",
     "text": [
      "Epoch 87 Mean Reward: -70.33011853790283\n"
     ]
    },
    {
     "name": "stderr",
     "output_type": "stream",
     "text": [
      "100%|██████████| 2000/2000 [02:09<00:00, 15.49it/s]\n"
     ]
    },
    {
     "name": "stdout",
     "output_type": "stream",
     "text": [
      "Epoch 88 Mean Reward: -67.95720905303955\n"
     ]
    },
    {
     "name": "stderr",
     "output_type": "stream",
     "text": [
      "100%|██████████| 2000/2000 [01:34<00:00, 21.10it/s]\n"
     ]
    },
    {
     "name": "stdout",
     "output_type": "stream",
     "text": [
      "Epoch 89 Mean Reward: -68.57920423126221\n"
     ]
    },
    {
     "name": "stderr",
     "output_type": "stream",
     "text": [
      "100%|██████████| 2000/2000 [01:35<00:00, 20.95it/s]\n"
     ]
    },
    {
     "name": "stdout",
     "output_type": "stream",
     "text": [
      "Epoch 90 Mean Reward: -70.2944528427124\n"
     ]
    },
    {
     "name": "stderr",
     "output_type": "stream",
     "text": [
      "100%|██████████| 2000/2000 [01:35<00:00, 20.94it/s]\n"
     ]
    },
    {
     "name": "stdout",
     "output_type": "stream",
     "text": [
      "Epoch 91 Mean Reward: -68.07101128387451\n"
     ]
    },
    {
     "name": "stderr",
     "output_type": "stream",
     "text": [
      "100%|██████████| 2000/2000 [01:33<00:00, 21.28it/s]\n"
     ]
    },
    {
     "name": "stdout",
     "output_type": "stream",
     "text": [
      "Epoch 92 Mean Reward: -68.95610564422607\n"
     ]
    },
    {
     "name": "stderr",
     "output_type": "stream",
     "text": [
      "100%|██████████| 2000/2000 [01:33<00:00, 21.30it/s]\n"
     ]
    },
    {
     "name": "stdout",
     "output_type": "stream",
     "text": [
      "Epoch 93 Mean Reward: -69.67234490966797\n"
     ]
    },
    {
     "name": "stderr",
     "output_type": "stream",
     "text": [
      "100%|██████████| 2000/2000 [01:34<00:00, 21.12it/s]\n"
     ]
    },
    {
     "name": "stdout",
     "output_type": "stream",
     "text": [
      "Epoch 94 Mean Reward: -68.80461177062988\n"
     ]
    },
    {
     "name": "stderr",
     "output_type": "stream",
     "text": [
      "100%|██████████| 2000/2000 [01:34<00:00, 21.20it/s]\n"
     ]
    },
    {
     "name": "stdout",
     "output_type": "stream",
     "text": [
      "Epoch 95 Mean Reward: -68.7199199295044\n"
     ]
    },
    {
     "name": "stderr",
     "output_type": "stream",
     "text": [
      "100%|██████████| 2000/2000 [01:34<00:00, 21.24it/s]\n"
     ]
    },
    {
     "name": "stdout",
     "output_type": "stream",
     "text": [
      "Epoch 96 Mean Reward: -69.95597274017334\n"
     ]
    },
    {
     "name": "stderr",
     "output_type": "stream",
     "text": [
      "100%|██████████| 2000/2000 [01:34<00:00, 21.09it/s]\n"
     ]
    },
    {
     "name": "stdout",
     "output_type": "stream",
     "text": [
      "Epoch 97 Mean Reward: -67.40199068450927\n"
     ]
    },
    {
     "name": "stderr",
     "output_type": "stream",
     "text": [
      "100%|██████████| 2000/2000 [01:34<00:00, 21.23it/s]\n"
     ]
    },
    {
     "name": "stdout",
     "output_type": "stream",
     "text": [
      "Epoch 98 Mean Reward: -67.12477504730225\n"
     ]
    },
    {
     "name": "stderr",
     "output_type": "stream",
     "text": [
      "100%|██████████| 2000/2000 [01:33<00:00, 21.35it/s]\n"
     ]
    },
    {
     "name": "stdout",
     "output_type": "stream",
     "text": [
      "Epoch 99 Mean Reward: -67.95571581268311\n"
     ]
    },
    {
     "name": "stderr",
     "output_type": "stream",
     "text": [
      "100%|██████████| 2000/2000 [01:33<00:00, 21.28it/s]\n"
     ]
    },
    {
     "name": "stdout",
     "output_type": "stream",
     "text": [
      "Epoch 100 Mean Reward: -68.8387484664917\n",
      "Epoch 100 Model saved to ./checkpoints/deadly_corridor.ckpt\n",
      "Epoch 100 test with depth buffer:\n",
      "Test Episode 1 Reward: 90.31744384765625\n",
      "Test Episode 2 Reward: 63.36651611328125\n",
      "Test Episode 3 Reward: 504.9720916748047\n",
      "Test Episode 4 Reward: 288.63232421875\n",
      "Test Episode 5 Reward: 59.78233337402344\n",
      "Test Episode 6 Reward: 72.9691162109375\n",
      "Test Episode 7 Reward: 225.29330444335938\n",
      "Test Episode 8 Reward: 83.97064208984375\n",
      "Test Episode 9 Reward: 472.7585754394531\n",
      "Test Episode 10 Reward: 496.428466796875\n",
      "Average Test Reward (with depth buffer:) 235.84908142089844\n",
      "Epoch 100 test without depth buffer:\n",
      "Test Episode 1 Reward: 11.092926025390625\n",
      "Test Episode 2 Reward: 8.383529663085938\n",
      "Test Episode 3 Reward: 8.383529663085938\n",
      "Test Episode 4 Reward: 145.72711181640625\n",
      "Test Episode 5 Reward: 8.383529663085938\n",
      "Test Episode 6 Reward: -66.33677673339844\n",
      "Test Episode 7 Reward: 22.931076049804688\n",
      "Test Episode 8 Reward: 8.383529663085938\n",
      "Test Episode 9 Reward: -58.44158935546875\n",
      "Test Episode 10 Reward: 36.57200622558594\n",
      "Average Test Reward (without depth buffer): 12.507887268066407\n"
     ]
    },
    {
     "name": "stderr",
     "output_type": "stream",
     "text": [
      "100%|██████████| 2000/2000 [01:34<00:00, 21.16it/s]\n"
     ]
    },
    {
     "name": "stdout",
     "output_type": "stream",
     "text": [
      "Epoch 101 Mean Reward: -71.60747357940674\n"
     ]
    },
    {
     "name": "stderr",
     "output_type": "stream",
     "text": [
      "100%|██████████| 2000/2000 [01:34<00:00, 21.23it/s]\n"
     ]
    },
    {
     "name": "stdout",
     "output_type": "stream",
     "text": [
      "Epoch 102 Mean Reward: -68.44557042694092\n"
     ]
    },
    {
     "name": "stderr",
     "output_type": "stream",
     "text": [
      "100%|██████████| 2000/2000 [01:34<00:00, 21.15it/s]\n"
     ]
    },
    {
     "name": "stdout",
     "output_type": "stream",
     "text": [
      "Epoch 103 Mean Reward: -67.87405416107178\n"
     ]
    },
    {
     "name": "stderr",
     "output_type": "stream",
     "text": [
      "100%|██████████| 2000/2000 [01:34<00:00, 21.11it/s]\n"
     ]
    },
    {
     "name": "stdout",
     "output_type": "stream",
     "text": [
      "Epoch 104 Mean Reward: -67.81524617767334\n"
     ]
    },
    {
     "name": "stderr",
     "output_type": "stream",
     "text": [
      "100%|██████████| 2000/2000 [01:33<00:00, 21.32it/s]\n"
     ]
    },
    {
     "name": "stdout",
     "output_type": "stream",
     "text": [
      "Epoch 105 Mean Reward: -70.03169431304931\n"
     ]
    },
    {
     "name": "stderr",
     "output_type": "stream",
     "text": [
      "100%|██████████| 2000/2000 [01:33<00:00, 21.34it/s]\n"
     ]
    },
    {
     "name": "stdout",
     "output_type": "stream",
     "text": [
      "Epoch 106 Mean Reward: -70.4081220779419\n"
     ]
    },
    {
     "name": "stderr",
     "output_type": "stream",
     "text": [
      "100%|██████████| 2000/2000 [01:33<00:00, 21.31it/s]\n"
     ]
    },
    {
     "name": "stdout",
     "output_type": "stream",
     "text": [
      "Epoch 107 Mean Reward: -69.61275331115722\n"
     ]
    },
    {
     "name": "stderr",
     "output_type": "stream",
     "text": [
      "100%|██████████| 2000/2000 [01:34<00:00, 21.12it/s]\n"
     ]
    },
    {
     "name": "stdout",
     "output_type": "stream",
     "text": [
      "Epoch 108 Mean Reward: -66.6655587387085\n"
     ]
    },
    {
     "name": "stderr",
     "output_type": "stream",
     "text": [
      "100%|██████████| 2000/2000 [01:34<00:00, 21.20it/s]\n"
     ]
    },
    {
     "name": "stdout",
     "output_type": "stream",
     "text": [
      "Epoch 109 Mean Reward: -68.81080982971191\n"
     ]
    },
    {
     "name": "stderr",
     "output_type": "stream",
     "text": [
      "100%|██████████| 2000/2000 [01:37<00:00, 20.54it/s]\n"
     ]
    },
    {
     "name": "stdout",
     "output_type": "stream",
     "text": [
      "Epoch 110 Mean Reward: -65.33226991271972\n"
     ]
    },
    {
     "name": "stderr",
     "output_type": "stream",
     "text": [
      "100%|██████████| 2000/2000 [01:34<00:00, 21.19it/s]\n"
     ]
    },
    {
     "name": "stdout",
     "output_type": "stream",
     "text": [
      "Epoch 111 Mean Reward: -70.5972770767212\n"
     ]
    },
    {
     "name": "stderr",
     "output_type": "stream",
     "text": [
      "100%|██████████| 2000/2000 [01:33<00:00, 21.29it/s]\n"
     ]
    },
    {
     "name": "stdout",
     "output_type": "stream",
     "text": [
      "Epoch 112 Mean Reward: -65.07913459777832\n"
     ]
    },
    {
     "name": "stderr",
     "output_type": "stream",
     "text": [
      "100%|██████████| 2000/2000 [01:34<00:00, 21.24it/s]\n"
     ]
    },
    {
     "name": "stdout",
     "output_type": "stream",
     "text": [
      "Epoch 113 Mean Reward: -70.66214287567139\n"
     ]
    },
    {
     "name": "stderr",
     "output_type": "stream",
     "text": [
      "100%|██████████| 2000/2000 [01:34<00:00, 21.25it/s]\n"
     ]
    },
    {
     "name": "stdout",
     "output_type": "stream",
     "text": [
      "Epoch 114 Mean Reward: -67.12101123046875\n"
     ]
    },
    {
     "name": "stderr",
     "output_type": "stream",
     "text": [
      "100%|██████████| 2000/2000 [01:34<00:00, 21.07it/s]\n"
     ]
    },
    {
     "name": "stdout",
     "output_type": "stream",
     "text": [
      "Epoch 115 Mean Reward: -67.45329657745361\n"
     ]
    },
    {
     "name": "stderr",
     "output_type": "stream",
     "text": [
      "100%|██████████| 2000/2000 [01:34<00:00, 21.27it/s]\n"
     ]
    },
    {
     "name": "stdout",
     "output_type": "stream",
     "text": [
      "Epoch 116 Mean Reward: -69.01121883392334\n"
     ]
    },
    {
     "name": "stderr",
     "output_type": "stream",
     "text": [
      "100%|██████████| 2000/2000 [01:34<00:00, 21.28it/s]\n"
     ]
    },
    {
     "name": "stdout",
     "output_type": "stream",
     "text": [
      "Epoch 117 Mean Reward: -69.11557313537598\n"
     ]
    },
    {
     "name": "stderr",
     "output_type": "stream",
     "text": [
      "100%|██████████| 2000/2000 [01:33<00:00, 21.37it/s]\n"
     ]
    },
    {
     "name": "stdout",
     "output_type": "stream",
     "text": [
      "Epoch 118 Mean Reward: -68.60669157409669\n"
     ]
    },
    {
     "name": "stderr",
     "output_type": "stream",
     "text": [
      "100%|██████████| 2000/2000 [01:34<00:00, 21.16it/s]\n"
     ]
    },
    {
     "name": "stdout",
     "output_type": "stream",
     "text": [
      "Epoch 119 Mean Reward: -66.24329705810547\n"
     ]
    },
    {
     "name": "stderr",
     "output_type": "stream",
     "text": [
      "100%|██████████| 2000/2000 [01:34<00:00, 21.19it/s]\n"
     ]
    },
    {
     "name": "stdout",
     "output_type": "stream",
     "text": [
      "Epoch 120 Mean Reward: -69.29305257415771\n",
      "Epoch 120 Model saved to ./checkpoints/deadly_corridor.ckpt\n",
      "Epoch 120 test with depth buffer:\n",
      "Test Episode 1 Reward: 246.78268432617188\n",
      "Test Episode 2 Reward: 246.78268432617188\n",
      "Test Episode 3 Reward: 390.8327178955078\n",
      "Test Episode 4 Reward: 326.25892639160156\n",
      "Test Episode 5 Reward: 246.78268432617188\n",
      "Test Episode 6 Reward: 23.706634521484375\n",
      "Test Episode 7 Reward: 426.6015319824219\n",
      "Test Episode 8 Reward: 246.78268432617188\n",
      "Test Episode 9 Reward: 246.78268432617188\n",
      "Test Episode 10 Reward: 246.78268432617188\n",
      "Average Test Reward (with depth buffer:) 264.80959167480466\n",
      "Epoch 120 test without depth buffer:\n",
      "Test Episode 1 Reward: 47.69773864746094\n",
      "Test Episode 2 Reward: 26.762893676757812\n",
      "Test Episode 3 Reward: 113.77027893066406\n",
      "Test Episode 4 Reward: 10.319473266601562\n",
      "Test Episode 5 Reward: 144.65846252441406\n",
      "Test Episode 6 Reward: 48.7305908203125\n",
      "Test Episode 7 Reward: 26.762893676757812\n",
      "Test Episode 8 Reward: 26.762893676757812\n",
      "Test Episode 9 Reward: 61.676025390625\n",
      "Test Episode 10 Reward: 40.940185546875\n",
      "Average Test Reward (without depth buffer): 54.808143615722656\n"
     ]
    },
    {
     "name": "stderr",
     "output_type": "stream",
     "text": [
      "100%|██████████| 2000/2000 [01:34<00:00, 21.23it/s]\n"
     ]
    },
    {
     "name": "stdout",
     "output_type": "stream",
     "text": [
      "Epoch 121 Mean Reward: -70.55637199401855\n"
     ]
    },
    {
     "name": "stderr",
     "output_type": "stream",
     "text": [
      "100%|██████████| 2000/2000 [01:33<00:00, 21.35it/s]\n"
     ]
    },
    {
     "name": "stdout",
     "output_type": "stream",
     "text": [
      "Epoch 122 Mean Reward: -67.60998043060303\n"
     ]
    },
    {
     "name": "stderr",
     "output_type": "stream",
     "text": [
      "100%|██████████| 2000/2000 [01:34<00:00, 21.24it/s]\n"
     ]
    },
    {
     "name": "stdout",
     "output_type": "stream",
     "text": [
      "Epoch 123 Mean Reward: -69.18000503540038\n"
     ]
    },
    {
     "name": "stderr",
     "output_type": "stream",
     "text": [
      "100%|██████████| 2000/2000 [01:34<00:00, 21.23it/s]\n"
     ]
    },
    {
     "name": "stdout",
     "output_type": "stream",
     "text": [
      "Epoch 124 Mean Reward: -69.38825367736817\n"
     ]
    },
    {
     "name": "stderr",
     "output_type": "stream",
     "text": [
      "100%|██████████| 2000/2000 [01:33<00:00, 21.31it/s]\n"
     ]
    },
    {
     "name": "stdout",
     "output_type": "stream",
     "text": [
      "Epoch 125 Mean Reward: -69.19721504211425\n"
     ]
    },
    {
     "name": "stderr",
     "output_type": "stream",
     "text": [
      "100%|██████████| 2000/2000 [01:33<00:00, 21.41it/s]\n"
     ]
    },
    {
     "name": "stdout",
     "output_type": "stream",
     "text": [
      "Epoch 126 Mean Reward: -69.80804718780517\n"
     ]
    },
    {
     "name": "stderr",
     "output_type": "stream",
     "text": [
      "100%|██████████| 2000/2000 [01:33<00:00, 21.38it/s]\n"
     ]
    },
    {
     "name": "stdout",
     "output_type": "stream",
     "text": [
      "Epoch 127 Mean Reward: -68.65645899200439\n"
     ]
    },
    {
     "name": "stderr",
     "output_type": "stream",
     "text": [
      "100%|██████████| 2000/2000 [01:33<00:00, 21.37it/s]\n"
     ]
    },
    {
     "name": "stdout",
     "output_type": "stream",
     "text": [
      "Epoch 128 Mean Reward: -67.53071031951905\n"
     ]
    },
    {
     "name": "stderr",
     "output_type": "stream",
     "text": [
      "100%|██████████| 2000/2000 [01:35<00:00, 20.85it/s]\n"
     ]
    },
    {
     "name": "stdout",
     "output_type": "stream",
     "text": [
      "Epoch 129 Mean Reward: -69.08932875823974\n"
     ]
    },
    {
     "name": "stderr",
     "output_type": "stream",
     "text": [
      "100%|██████████| 2000/2000 [01:34<00:00, 21.22it/s]\n"
     ]
    },
    {
     "name": "stdout",
     "output_type": "stream",
     "text": [
      "Epoch 130 Mean Reward: -69.1183030166626\n"
     ]
    },
    {
     "name": "stderr",
     "output_type": "stream",
     "text": [
      "100%|██████████| 2000/2000 [01:33<00:00, 21.28it/s]\n"
     ]
    },
    {
     "name": "stdout",
     "output_type": "stream",
     "text": [
      "Epoch 131 Mean Reward: -68.35886264038086\n"
     ]
    },
    {
     "name": "stderr",
     "output_type": "stream",
     "text": [
      "100%|██████████| 2000/2000 [01:33<00:00, 21.35it/s]\n"
     ]
    },
    {
     "name": "stdout",
     "output_type": "stream",
     "text": [
      "Epoch 132 Mean Reward: -65.43621058654786\n"
     ]
    },
    {
     "name": "stderr",
     "output_type": "stream",
     "text": [
      "100%|██████████| 2000/2000 [01:33<00:00, 21.43it/s]\n"
     ]
    },
    {
     "name": "stdout",
     "output_type": "stream",
     "text": [
      "Epoch 133 Mean Reward: -69.78872979736329\n"
     ]
    },
    {
     "name": "stderr",
     "output_type": "stream",
     "text": [
      "100%|██████████| 2000/2000 [01:33<00:00, 21.44it/s]\n"
     ]
    },
    {
     "name": "stdout",
     "output_type": "stream",
     "text": [
      "Epoch 134 Mean Reward: -68.04401145935059\n"
     ]
    },
    {
     "name": "stderr",
     "output_type": "stream",
     "text": [
      "100%|██████████| 2000/2000 [01:33<00:00, 21.48it/s]\n"
     ]
    },
    {
     "name": "stdout",
     "output_type": "stream",
     "text": [
      "Epoch 135 Mean Reward: -69.7866220703125\n"
     ]
    },
    {
     "name": "stderr",
     "output_type": "stream",
     "text": [
      "100%|██████████| 2000/2000 [01:33<00:00, 21.49it/s]\n"
     ]
    },
    {
     "name": "stdout",
     "output_type": "stream",
     "text": [
      "Epoch 136 Mean Reward: -68.7874951171875\n"
     ]
    },
    {
     "name": "stderr",
     "output_type": "stream",
     "text": [
      "100%|██████████| 2000/2000 [01:33<00:00, 21.34it/s]\n"
     ]
    },
    {
     "name": "stdout",
     "output_type": "stream",
     "text": [
      "Epoch 137 Mean Reward: -68.15156537628174\n"
     ]
    },
    {
     "name": "stderr",
     "output_type": "stream",
     "text": [
      "100%|██████████| 2000/2000 [01:33<00:00, 21.47it/s]\n"
     ]
    },
    {
     "name": "stdout",
     "output_type": "stream",
     "text": [
      "Epoch 138 Mean Reward: -67.9126761856079\n"
     ]
    },
    {
     "name": "stderr",
     "output_type": "stream",
     "text": [
      "100%|██████████| 2000/2000 [01:34<00:00, 21.25it/s]\n"
     ]
    },
    {
     "name": "stdout",
     "output_type": "stream",
     "text": [
      "Epoch 139 Mean Reward: -70.2403289642334\n"
     ]
    },
    {
     "name": "stderr",
     "output_type": "stream",
     "text": [
      "100%|██████████| 2000/2000 [01:33<00:00, 21.29it/s]\n"
     ]
    },
    {
     "name": "stdout",
     "output_type": "stream",
     "text": [
      "Epoch 140 Mean Reward: -68.78711563110352\n",
      "Epoch 140 Model saved to ./checkpoints/deadly_corridor.ckpt\n",
      "Epoch 140 test with depth buffer:\n",
      "Test Episode 1 Reward: 56.29534912109375\n",
      "Test Episode 2 Reward: 56.29534912109375\n",
      "Test Episode 3 Reward: 56.29534912109375\n",
      "Test Episode 4 Reward: 379.34185791015625\n",
      "Test Episode 5 Reward: 360.69573974609375\n",
      "Test Episode 6 Reward: 56.29534912109375\n",
      "Test Episode 7 Reward: 56.29534912109375\n",
      "Test Episode 8 Reward: 56.29534912109375\n",
      "Test Episode 9 Reward: 65.52293395996094\n",
      "Test Episode 10 Reward: 80.54385375976562\n",
      "Average Test Reward (with depth buffer:) 122.38764801025391\n",
      "Epoch 140 test without depth buffer:\n",
      "Test Episode 1 Reward: 39.45855712890625\n",
      "Test Episode 2 Reward: 98.48841857910156\n",
      "Test Episode 3 Reward: 98.48841857910156\n",
      "Test Episode 4 Reward: 218.07180786132812\n",
      "Test Episode 5 Reward: 45.20623779296875\n",
      "Test Episode 6 Reward: 19.276626586914062\n",
      "Test Episode 7 Reward: 98.48841857910156\n",
      "Test Episode 8 Reward: 98.48841857910156\n",
      "Test Episode 9 Reward: 246.94932556152344\n",
      "Test Episode 10 Reward: 101.58518981933594\n",
      "Average Test Reward (without depth buffer): 106.45014190673828\n"
     ]
    },
    {
     "name": "stderr",
     "output_type": "stream",
     "text": [
      "100%|██████████| 2000/2000 [01:33<00:00, 21.29it/s]\n"
     ]
    },
    {
     "name": "stdout",
     "output_type": "stream",
     "text": [
      "Epoch 141 Mean Reward: -68.93841101074219\n"
     ]
    },
    {
     "name": "stderr",
     "output_type": "stream",
     "text": [
      "100%|██████████| 2000/2000 [01:33<00:00, 21.48it/s]\n"
     ]
    },
    {
     "name": "stdout",
     "output_type": "stream",
     "text": [
      "Epoch 142 Mean Reward: -68.70295092773438\n"
     ]
    },
    {
     "name": "stderr",
     "output_type": "stream",
     "text": [
      "100%|██████████| 2000/2000 [01:33<00:00, 21.40it/s]\n"
     ]
    },
    {
     "name": "stdout",
     "output_type": "stream",
     "text": [
      "Epoch 143 Mean Reward: -67.66199263763427\n"
     ]
    },
    {
     "name": "stderr",
     "output_type": "stream",
     "text": [
      "100%|██████████| 2000/2000 [01:33<00:00, 21.49it/s]\n"
     ]
    },
    {
     "name": "stdout",
     "output_type": "stream",
     "text": [
      "Epoch 144 Mean Reward: -69.40384948730468\n"
     ]
    },
    {
     "name": "stderr",
     "output_type": "stream",
     "text": [
      "100%|██████████| 2000/2000 [01:33<00:00, 21.47it/s]\n"
     ]
    },
    {
     "name": "stdout",
     "output_type": "stream",
     "text": [
      "Epoch 145 Mean Reward: -66.52091705322266\n"
     ]
    },
    {
     "name": "stderr",
     "output_type": "stream",
     "text": [
      "100%|██████████| 2000/2000 [01:32<00:00, 21.59it/s]\n"
     ]
    },
    {
     "name": "stdout",
     "output_type": "stream",
     "text": [
      "Epoch 146 Mean Reward: -69.64277408599854\n"
     ]
    },
    {
     "name": "stderr",
     "output_type": "stream",
     "text": [
      "100%|██████████| 2000/2000 [01:33<00:00, 21.43it/s]\n"
     ]
    },
    {
     "name": "stdout",
     "output_type": "stream",
     "text": [
      "Epoch 147 Mean Reward: -67.82143586730957\n"
     ]
    },
    {
     "name": "stderr",
     "output_type": "stream",
     "text": [
      "100%|██████████| 2000/2000 [01:33<00:00, 21.36it/s]\n"
     ]
    },
    {
     "name": "stdout",
     "output_type": "stream",
     "text": [
      "Epoch 148 Mean Reward: -69.87629683685303\n"
     ]
    },
    {
     "name": "stderr",
     "output_type": "stream",
     "text": [
      "100%|██████████| 2000/2000 [01:35<00:00, 20.97it/s]\n"
     ]
    },
    {
     "name": "stdout",
     "output_type": "stream",
     "text": [
      "Epoch 149 Mean Reward: -69.87468506622315\n"
     ]
    },
    {
     "name": "stderr",
     "output_type": "stream",
     "text": [
      "100%|██████████| 2000/2000 [01:34<00:00, 21.18it/s]\n"
     ]
    },
    {
     "name": "stdout",
     "output_type": "stream",
     "text": [
      "Epoch 150 Mean Reward: -65.13403093719482\n"
     ]
    },
    {
     "name": "stderr",
     "output_type": "stream",
     "text": [
      "100%|██████████| 2000/2000 [01:34<00:00, 21.28it/s]\n"
     ]
    },
    {
     "name": "stdout",
     "output_type": "stream",
     "text": [
      "Epoch 151 Mean Reward: -68.58115367126464\n"
     ]
    },
    {
     "name": "stderr",
     "output_type": "stream",
     "text": [
      "100%|██████████| 2000/2000 [01:33<00:00, 21.41it/s]\n"
     ]
    },
    {
     "name": "stdout",
     "output_type": "stream",
     "text": [
      "Epoch 152 Mean Reward: -67.87777426147461\n"
     ]
    },
    {
     "name": "stderr",
     "output_type": "stream",
     "text": [
      "100%|██████████| 2000/2000 [01:32<00:00, 21.53it/s]\n"
     ]
    },
    {
     "name": "stdout",
     "output_type": "stream",
     "text": [
      "Epoch 153 Mean Reward: -69.10747425079346\n"
     ]
    },
    {
     "name": "stderr",
     "output_type": "stream",
     "text": [
      "100%|██████████| 2000/2000 [01:33<00:00, 21.30it/s]\n"
     ]
    },
    {
     "name": "stdout",
     "output_type": "stream",
     "text": [
      "Epoch 154 Mean Reward: -66.7829688949585\n"
     ]
    },
    {
     "name": "stderr",
     "output_type": "stream",
     "text": [
      "100%|██████████| 2000/2000 [01:33<00:00, 21.37it/s]\n"
     ]
    },
    {
     "name": "stdout",
     "output_type": "stream",
     "text": [
      "Epoch 155 Mean Reward: -69.07972522735595\n"
     ]
    },
    {
     "name": "stderr",
     "output_type": "stream",
     "text": [
      "100%|██████████| 2000/2000 [01:33<00:00, 21.39it/s]\n"
     ]
    },
    {
     "name": "stdout",
     "output_type": "stream",
     "text": [
      "Epoch 156 Mean Reward: -68.89421756744385\n"
     ]
    },
    {
     "name": "stderr",
     "output_type": "stream",
     "text": [
      "100%|██████████| 2000/2000 [01:34<00:00, 21.25it/s]\n"
     ]
    },
    {
     "name": "stdout",
     "output_type": "stream",
     "text": [
      "Epoch 157 Mean Reward: -68.90051769256591\n"
     ]
    },
    {
     "name": "stderr",
     "output_type": "stream",
     "text": [
      "100%|██████████| 2000/2000 [01:33<00:00, 21.44it/s]\n"
     ]
    },
    {
     "name": "stdout",
     "output_type": "stream",
     "text": [
      "Epoch 158 Mean Reward: -69.10119567108154\n"
     ]
    },
    {
     "name": "stderr",
     "output_type": "stream",
     "text": [
      "100%|██████████| 2000/2000 [01:33<00:00, 21.46it/s]\n"
     ]
    },
    {
     "name": "stdout",
     "output_type": "stream",
     "text": [
      "Epoch 159 Mean Reward: -67.79641404724121\n"
     ]
    },
    {
     "name": "stderr",
     "output_type": "stream",
     "text": [
      "100%|██████████| 2000/2000 [01:33<00:00, 21.32it/s]\n"
     ]
    },
    {
     "name": "stdout",
     "output_type": "stream",
     "text": [
      "Epoch 160 Mean Reward: -68.40611581420899\n",
      "Epoch 160 Model saved to ./checkpoints/deadly_corridor.ckpt\n",
      "Epoch 160 test with depth buffer:\n",
      "Test Episode 1 Reward: 292.6826629638672\n",
      "Test Episode 2 Reward: 116.76336669921875\n",
      "Test Episode 3 Reward: 116.76336669921875\n",
      "Test Episode 4 Reward: 116.76336669921875\n",
      "Test Episode 5 Reward: 266.7795104980469\n",
      "Test Episode 6 Reward: 28.667343139648438\n",
      "Test Episode 7 Reward: 52.273956298828125\n",
      "Test Episode 8 Reward: 116.76336669921875\n",
      "Test Episode 9 Reward: 116.76336669921875\n",
      "Test Episode 10 Reward: 116.76336669921875\n",
      "Average Test Reward (with depth buffer:) 134.0983673095703\n",
      "Epoch 160 test without depth buffer:\n",
      "Test Episode 1 Reward: 135.3899383544922\n",
      "Test Episode 2 Reward: -76.01161193847656\n",
      "Test Episode 3 Reward: 113.07785034179688\n",
      "Test Episode 4 Reward: 43.2447509765625\n",
      "Test Episode 5 Reward: -81.92521667480469\n",
      "Test Episode 6 Reward: -57.077117919921875\n",
      "Test Episode 7 Reward: 113.07785034179688\n",
      "Test Episode 8 Reward: 175.07839965820312\n",
      "Test Episode 9 Reward: 113.07785034179688\n",
      "Test Episode 10 Reward: -115.98112487792969\n",
      "Average Test Reward (without depth buffer): 36.19515686035156\n"
     ]
    },
    {
     "name": "stderr",
     "output_type": "stream",
     "text": [
      "100%|██████████| 2000/2000 [01:33<00:00, 21.40it/s]\n"
     ]
    },
    {
     "name": "stdout",
     "output_type": "stream",
     "text": [
      "Epoch 161 Mean Reward: -67.5317827911377\n"
     ]
    },
    {
     "name": "stderr",
     "output_type": "stream",
     "text": [
      "100%|██████████| 2000/2000 [01:33<00:00, 21.37it/s]\n"
     ]
    },
    {
     "name": "stdout",
     "output_type": "stream",
     "text": [
      "Epoch 162 Mean Reward: -66.83014787292481\n"
     ]
    },
    {
     "name": "stderr",
     "output_type": "stream",
     "text": [
      "100%|██████████| 2000/2000 [01:33<00:00, 21.29it/s]\n"
     ]
    },
    {
     "name": "stdout",
     "output_type": "stream",
     "text": [
      "Epoch 163 Mean Reward: -66.91339562988281\n"
     ]
    },
    {
     "name": "stderr",
     "output_type": "stream",
     "text": [
      "100%|██████████| 2000/2000 [01:33<00:00, 21.49it/s]\n"
     ]
    },
    {
     "name": "stdout",
     "output_type": "stream",
     "text": [
      "Epoch 164 Mean Reward: -70.71816938781738\n"
     ]
    },
    {
     "name": "stderr",
     "output_type": "stream",
     "text": [
      "100%|██████████| 2000/2000 [01:33<00:00, 21.43it/s]\n"
     ]
    },
    {
     "name": "stdout",
     "output_type": "stream",
     "text": [
      "Epoch 165 Mean Reward: -68.36113333129883\n"
     ]
    },
    {
     "name": "stderr",
     "output_type": "stream",
     "text": [
      "100%|██████████| 2000/2000 [01:33<00:00, 21.28it/s]\n"
     ]
    },
    {
     "name": "stdout",
     "output_type": "stream",
     "text": [
      "Epoch 166 Mean Reward: -67.39040452575684\n"
     ]
    },
    {
     "name": "stderr",
     "output_type": "stream",
     "text": [
      "100%|██████████| 2000/2000 [01:33<00:00, 21.31it/s]\n"
     ]
    },
    {
     "name": "stdout",
     "output_type": "stream",
     "text": [
      "Epoch 167 Mean Reward: -68.20274848175049\n"
     ]
    },
    {
     "name": "stderr",
     "output_type": "stream",
     "text": [
      "100%|██████████| 2000/2000 [01:34<00:00, 21.17it/s]\n"
     ]
    },
    {
     "name": "stdout",
     "output_type": "stream",
     "text": [
      "Epoch 168 Mean Reward: -69.31307760620118\n"
     ]
    },
    {
     "name": "stderr",
     "output_type": "stream",
     "text": [
      "100%|██████████| 2000/2000 [01:33<00:00, 21.29it/s]\n"
     ]
    },
    {
     "name": "stdout",
     "output_type": "stream",
     "text": [
      "Epoch 169 Mean Reward: -69.0272305984497\n"
     ]
    },
    {
     "name": "stderr",
     "output_type": "stream",
     "text": [
      "100%|██████████| 2000/2000 [01:33<00:00, 21.49it/s]\n"
     ]
    },
    {
     "name": "stdout",
     "output_type": "stream",
     "text": [
      "Epoch 170 Mean Reward: -69.68347047424317\n"
     ]
    },
    {
     "name": "stderr",
     "output_type": "stream",
     "text": [
      "100%|██████████| 2000/2000 [01:33<00:00, 21.48it/s]\n"
     ]
    },
    {
     "name": "stdout",
     "output_type": "stream",
     "text": [
      "Epoch 171 Mean Reward: -71.15734996795655\n"
     ]
    },
    {
     "name": "stderr",
     "output_type": "stream",
     "text": [
      "100%|██████████| 2000/2000 [01:32<00:00, 21.53it/s]\n"
     ]
    },
    {
     "name": "stdout",
     "output_type": "stream",
     "text": [
      "Epoch 172 Mean Reward: -69.75501387023925\n"
     ]
    },
    {
     "name": "stderr",
     "output_type": "stream",
     "text": [
      "100%|██████████| 2000/2000 [01:33<00:00, 21.48it/s]\n"
     ]
    },
    {
     "name": "stdout",
     "output_type": "stream",
     "text": [
      "Epoch 173 Mean Reward: -67.58803519439697\n"
     ]
    },
    {
     "name": "stderr",
     "output_type": "stream",
     "text": [
      "100%|██████████| 2000/2000 [01:33<00:00, 21.46it/s]\n"
     ]
    },
    {
     "name": "stdout",
     "output_type": "stream",
     "text": [
      "Epoch 174 Mean Reward: -68.62513475036621\n"
     ]
    },
    {
     "name": "stderr",
     "output_type": "stream",
     "text": [
      "100%|██████████| 2000/2000 [01:33<00:00, 21.35it/s]\n"
     ]
    },
    {
     "name": "stdout",
     "output_type": "stream",
     "text": [
      "Epoch 175 Mean Reward: -67.44608913421631\n"
     ]
    },
    {
     "name": "stderr",
     "output_type": "stream",
     "text": [
      "100%|██████████| 2000/2000 [01:33<00:00, 21.34it/s]\n"
     ]
    },
    {
     "name": "stdout",
     "output_type": "stream",
     "text": [
      "Epoch 176 Mean Reward: -68.24016496276856\n"
     ]
    },
    {
     "name": "stderr",
     "output_type": "stream",
     "text": [
      "100%|██████████| 2000/2000 [01:32<00:00, 21.67it/s]\n"
     ]
    },
    {
     "name": "stdout",
     "output_type": "stream",
     "text": [
      "Epoch 177 Mean Reward: -69.65641344451905\n"
     ]
    },
    {
     "name": "stderr",
     "output_type": "stream",
     "text": [
      "100%|██████████| 2000/2000 [01:32<00:00, 21.69it/s]\n"
     ]
    },
    {
     "name": "stdout",
     "output_type": "stream",
     "text": [
      "Epoch 178 Mean Reward: -68.68967950439453\n"
     ]
    },
    {
     "name": "stderr",
     "output_type": "stream",
     "text": [
      "100%|██████████| 2000/2000 [01:33<00:00, 21.39it/s]\n"
     ]
    },
    {
     "name": "stdout",
     "output_type": "stream",
     "text": [
      "Epoch 179 Mean Reward: -70.03522605895996\n"
     ]
    },
    {
     "name": "stderr",
     "output_type": "stream",
     "text": [
      "100%|██████████| 2000/2000 [01:32<00:00, 21.67it/s]\n"
     ]
    },
    {
     "name": "stdout",
     "output_type": "stream",
     "text": [
      "Epoch 180 Mean Reward: -68.70090384674073\n",
      "Epoch 180 Model saved to ./checkpoints/deadly_corridor.ckpt\n",
      "Epoch 180 test with depth buffer:\n",
      "Test Episode 1 Reward: 154.26559448242188\n",
      "Test Episode 2 Reward: 205.85289001464844\n",
      "Test Episode 3 Reward: 205.85289001464844\n",
      "Test Episode 4 Reward: 28.318008422851562\n",
      "Test Episode 5 Reward: 3.8423919677734375\n",
      "Test Episode 6 Reward: 94.10366821289062\n",
      "Test Episode 7 Reward: 29.7054443359375\n",
      "Test Episode 8 Reward: 110.94699096679688\n",
      "Test Episode 9 Reward: 205.85289001464844\n",
      "Test Episode 10 Reward: 205.85289001464844\n",
      "Average Test Reward (with depth buffer:) 124.45936584472656\n",
      "Epoch 180 test without depth buffer:\n",
      "Test Episode 1 Reward: -88.98762512207031\n",
      "Test Episode 2 Reward: -115.23985290527344\n",
      "Test Episode 3 Reward: 20.139602661132812\n",
      "Test Episode 4 Reward: -48.97953796386719\n",
      "Test Episode 5 Reward: 20.139602661132812\n",
      "Test Episode 6 Reward: -115.98771667480469\n",
      "Test Episode 7 Reward: -64.75077819824219\n",
      "Test Episode 8 Reward: -49.19572448730469\n",
      "Test Episode 9 Reward: 20.139602661132812\n",
      "Test Episode 10 Reward: 20.139602661132812\n",
      "Average Test Reward (without depth buffer): -40.25828247070312\n"
     ]
    },
    {
     "name": "stderr",
     "output_type": "stream",
     "text": [
      "100%|██████████| 2000/2000 [01:33<00:00, 21.30it/s]\n"
     ]
    },
    {
     "name": "stdout",
     "output_type": "stream",
     "text": [
      "Epoch 181 Mean Reward: -68.4361485748291\n"
     ]
    },
    {
     "name": "stderr",
     "output_type": "stream",
     "text": [
      "100%|██████████| 2000/2000 [01:34<00:00, 21.18it/s]\n"
     ]
    },
    {
     "name": "stdout",
     "output_type": "stream",
     "text": [
      "Epoch 182 Mean Reward: -68.31800015258789\n"
     ]
    },
    {
     "name": "stderr",
     "output_type": "stream",
     "text": [
      "100%|██████████| 2000/2000 [01:33<00:00, 21.38it/s]\n"
     ]
    },
    {
     "name": "stdout",
     "output_type": "stream",
     "text": [
      "Epoch 183 Mean Reward: -67.64556064605713\n"
     ]
    },
    {
     "name": "stderr",
     "output_type": "stream",
     "text": [
      "100%|██████████| 2000/2000 [01:34<00:00, 21.27it/s]\n"
     ]
    },
    {
     "name": "stdout",
     "output_type": "stream",
     "text": [
      "Epoch 184 Mean Reward: -70.46322966766357\n"
     ]
    },
    {
     "name": "stderr",
     "output_type": "stream",
     "text": [
      "100%|██████████| 2000/2000 [01:34<00:00, 21.21it/s]\n"
     ]
    },
    {
     "name": "stdout",
     "output_type": "stream",
     "text": [
      "Epoch 185 Mean Reward: -69.21075709533692\n"
     ]
    },
    {
     "name": "stderr",
     "output_type": "stream",
     "text": [
      "100%|██████████| 2000/2000 [01:32<00:00, 21.71it/s]\n"
     ]
    },
    {
     "name": "stdout",
     "output_type": "stream",
     "text": [
      "Epoch 186 Mean Reward: -69.50837326812744\n"
     ]
    },
    {
     "name": "stderr",
     "output_type": "stream",
     "text": [
      "100%|██████████| 2000/2000 [01:32<00:00, 21.72it/s]\n"
     ]
    },
    {
     "name": "stdout",
     "output_type": "stream",
     "text": [
      "Epoch 187 Mean Reward: -68.53074854278564\n"
     ]
    },
    {
     "name": "stderr",
     "output_type": "stream",
     "text": [
      "100%|██████████| 2000/2000 [01:34<00:00, 21.12it/s]\n"
     ]
    },
    {
     "name": "stdout",
     "output_type": "stream",
     "text": [
      "Epoch 188 Mean Reward: -66.71233545684814\n"
     ]
    },
    {
     "name": "stderr",
     "output_type": "stream",
     "text": [
      "100%|██████████| 2000/2000 [01:32<00:00, 21.61it/s]\n"
     ]
    },
    {
     "name": "stdout",
     "output_type": "stream",
     "text": [
      "Epoch 189 Mean Reward: -66.72889653015137\n"
     ]
    },
    {
     "name": "stderr",
     "output_type": "stream",
     "text": [
      "100%|██████████| 2000/2000 [01:32<00:00, 21.59it/s]\n"
     ]
    },
    {
     "name": "stdout",
     "output_type": "stream",
     "text": [
      "Epoch 190 Mean Reward: -66.97810070800782\n"
     ]
    },
    {
     "name": "stderr",
     "output_type": "stream",
     "text": [
      "100%|██████████| 2000/2000 [01:32<00:00, 21.72it/s]\n"
     ]
    },
    {
     "name": "stdout",
     "output_type": "stream",
     "text": [
      "Epoch 191 Mean Reward: -67.79217695617676\n"
     ]
    },
    {
     "name": "stderr",
     "output_type": "stream",
     "text": [
      "100%|██████████| 2000/2000 [01:32<00:00, 21.73it/s]\n"
     ]
    },
    {
     "name": "stdout",
     "output_type": "stream",
     "text": [
      "Epoch 192 Mean Reward: -67.62771996307373\n"
     ]
    },
    {
     "name": "stderr",
     "output_type": "stream",
     "text": [
      "100%|██████████| 2000/2000 [01:32<00:00, 21.52it/s]\n"
     ]
    },
    {
     "name": "stdout",
     "output_type": "stream",
     "text": [
      "Epoch 193 Mean Reward: -67.9867774963379\n"
     ]
    },
    {
     "name": "stderr",
     "output_type": "stream",
     "text": [
      "100%|██████████| 2000/2000 [01:33<00:00, 21.42it/s]\n"
     ]
    },
    {
     "name": "stdout",
     "output_type": "stream",
     "text": [
      "Epoch 194 Mean Reward: -68.95557040405274\n"
     ]
    },
    {
     "name": "stderr",
     "output_type": "stream",
     "text": [
      "100%|██████████| 2000/2000 [01:32<00:00, 21.53it/s]\n"
     ]
    },
    {
     "name": "stdout",
     "output_type": "stream",
     "text": [
      "Epoch 195 Mean Reward: -66.93251959991456\n"
     ]
    },
    {
     "name": "stderr",
     "output_type": "stream",
     "text": [
      "100%|██████████| 2000/2000 [01:33<00:00, 21.48it/s]\n"
     ]
    },
    {
     "name": "stdout",
     "output_type": "stream",
     "text": [
      "Epoch 196 Mean Reward: -70.67005470275879\n"
     ]
    },
    {
     "name": "stderr",
     "output_type": "stream",
     "text": [
      "100%|██████████| 2000/2000 [01:33<00:00, 21.43it/s]\n"
     ]
    },
    {
     "name": "stdout",
     "output_type": "stream",
     "text": [
      "Epoch 197 Mean Reward: -71.08695423889161\n"
     ]
    },
    {
     "name": "stderr",
     "output_type": "stream",
     "text": [
      "100%|██████████| 2000/2000 [01:33<00:00, 21.39it/s]\n"
     ]
    },
    {
     "name": "stdout",
     "output_type": "stream",
     "text": [
      "Epoch 198 Mean Reward: -67.88280473327637\n"
     ]
    },
    {
     "name": "stderr",
     "output_type": "stream",
     "text": [
      "100%|██████████| 2000/2000 [01:33<00:00, 21.47it/s]\n"
     ]
    },
    {
     "name": "stdout",
     "output_type": "stream",
     "text": [
      "Epoch 199 Mean Reward: -70.10064419555664\n"
     ]
    },
    {
     "name": "stderr",
     "output_type": "stream",
     "text": [
      "100%|██████████| 2000/2000 [01:32<00:00, 21.61it/s]\n"
     ]
    },
    {
     "name": "stdout",
     "output_type": "stream",
     "text": [
      "Epoch 200 Mean Reward: -67.78575552368164\n",
      "Epoch 200 Model saved to ./checkpoints/deadly_corridor.ckpt\n",
      "Epoch 200 test with depth buffer:\n",
      "Test Episode 1 Reward: 58.84431457519531\n",
      "Test Episode 2 Reward: -43.88362121582031\n",
      "Test Episode 3 Reward: 53.53401184082031\n",
      "Test Episode 4 Reward: 145.243896484375\n",
      "Test Episode 5 Reward: 145.243896484375\n",
      "Test Episode 6 Reward: 145.243896484375\n",
      "Test Episode 7 Reward: 145.243896484375\n",
      "Test Episode 8 Reward: 177.192138671875\n",
      "Test Episode 9 Reward: 145.243896484375\n",
      "Test Episode 10 Reward: 39.2396240234375\n",
      "Average Test Reward (with depth buffer:) 101.11459503173828\n",
      "Epoch 200 test without depth buffer:\n",
      "Test Episode 1 Reward: 82.28526306152344\n",
      "Test Episode 2 Reward: 2.393798828125\n",
      "Test Episode 3 Reward: -43.07600402832031\n",
      "Test Episode 4 Reward: -14.732009887695312\n",
      "Test Episode 5 Reward: 27.969970703125\n",
      "Test Episode 6 Reward: 82.28526306152344\n",
      "Test Episode 7 Reward: -114.05119323730469\n",
      "Test Episode 8 Reward: 82.28526306152344\n",
      "Test Episode 9 Reward: -114.16606140136719\n",
      "Test Episode 10 Reward: -115.98602294921875\n",
      "Average Test Reward (without depth buffer): -12.479173278808593\n"
     ]
    },
    {
     "name": "stderr",
     "output_type": "stream",
     "text": [
      "100%|██████████| 2000/2000 [01:33<00:00, 21.36it/s]\n"
     ]
    },
    {
     "name": "stdout",
     "output_type": "stream",
     "text": [
      "Epoch 201 Mean Reward: -70.0330722579956\n"
     ]
    },
    {
     "name": "stderr",
     "output_type": "stream",
     "text": [
      "100%|██████████| 2000/2000 [01:33<00:00, 21.31it/s]\n"
     ]
    },
    {
     "name": "stdout",
     "output_type": "stream",
     "text": [
      "Epoch 202 Mean Reward: -65.93933126831055\n"
     ]
    },
    {
     "name": "stderr",
     "output_type": "stream",
     "text": [
      "100%|██████████| 2000/2000 [01:33<00:00, 21.37it/s]\n"
     ]
    },
    {
     "name": "stdout",
     "output_type": "stream",
     "text": [
      "Epoch 203 Mean Reward: -69.29987104797364\n"
     ]
    },
    {
     "name": "stderr",
     "output_type": "stream",
     "text": [
      "100%|██████████| 2000/2000 [01:33<00:00, 21.31it/s]\n"
     ]
    },
    {
     "name": "stdout",
     "output_type": "stream",
     "text": [
      "Epoch 204 Mean Reward: -67.48560176849365\n"
     ]
    },
    {
     "name": "stderr",
     "output_type": "stream",
     "text": [
      "100%|██████████| 2000/2000 [01:32<00:00, 21.62it/s]\n"
     ]
    },
    {
     "name": "stdout",
     "output_type": "stream",
     "text": [
      "Epoch 205 Mean Reward: -67.80180569458008\n"
     ]
    },
    {
     "name": "stderr",
     "output_type": "stream",
     "text": [
      "100%|██████████| 2000/2000 [01:32<00:00, 21.65it/s]\n"
     ]
    },
    {
     "name": "stdout",
     "output_type": "stream",
     "text": [
      "Epoch 206 Mean Reward: -70.30542363739013\n"
     ]
    },
    {
     "name": "stderr",
     "output_type": "stream",
     "text": [
      "100%|██████████| 2000/2000 [01:33<00:00, 21.44it/s]\n"
     ]
    },
    {
     "name": "stdout",
     "output_type": "stream",
     "text": [
      "Epoch 207 Mean Reward: -69.12935824584962\n"
     ]
    },
    {
     "name": "stderr",
     "output_type": "stream",
     "text": [
      "100%|██████████| 2000/2000 [01:34<00:00, 21.12it/s]\n"
     ]
    },
    {
     "name": "stdout",
     "output_type": "stream",
     "text": [
      "Epoch 208 Mean Reward: -69.61216136932373\n"
     ]
    },
    {
     "name": "stderr",
     "output_type": "stream",
     "text": [
      "100%|██████████| 2000/2000 [01:33<00:00, 21.44it/s]\n"
     ]
    },
    {
     "name": "stdout",
     "output_type": "stream",
     "text": [
      "Epoch 209 Mean Reward: -68.74280809783936\n"
     ]
    },
    {
     "name": "stderr",
     "output_type": "stream",
     "text": [
      "100%|██████████| 2000/2000 [01:33<00:00, 21.43it/s]\n"
     ]
    },
    {
     "name": "stdout",
     "output_type": "stream",
     "text": [
      "Epoch 210 Mean Reward: -67.11985604858398\n"
     ]
    },
    {
     "name": "stderr",
     "output_type": "stream",
     "text": [
      "100%|██████████| 2000/2000 [01:32<00:00, 21.53it/s]\n"
     ]
    },
    {
     "name": "stdout",
     "output_type": "stream",
     "text": [
      "Epoch 211 Mean Reward: -68.807497215271\n"
     ]
    },
    {
     "name": "stderr",
     "output_type": "stream",
     "text": [
      "100%|██████████| 2000/2000 [01:33<00:00, 21.28it/s]\n"
     ]
    },
    {
     "name": "stdout",
     "output_type": "stream",
     "text": [
      "Epoch 212 Mean Reward: -70.60498387908936\n"
     ]
    },
    {
     "name": "stderr",
     "output_type": "stream",
     "text": [
      "100%|██████████| 2000/2000 [01:34<00:00, 21.21it/s]\n"
     ]
    },
    {
     "name": "stdout",
     "output_type": "stream",
     "text": [
      "Epoch 213 Mean Reward: -66.61619668579101\n"
     ]
    },
    {
     "name": "stderr",
     "output_type": "stream",
     "text": [
      "100%|██████████| 2000/2000 [01:33<00:00, 21.37it/s]\n"
     ]
    },
    {
     "name": "stdout",
     "output_type": "stream",
     "text": [
      "Epoch 214 Mean Reward: -69.72048590087891\n"
     ]
    },
    {
     "name": "stderr",
     "output_type": "stream",
     "text": [
      "100%|██████████| 2000/2000 [01:33<00:00, 21.44it/s]\n"
     ]
    },
    {
     "name": "stdout",
     "output_type": "stream",
     "text": [
      "Epoch 215 Mean Reward: -67.00341780090332\n"
     ]
    },
    {
     "name": "stderr",
     "output_type": "stream",
     "text": [
      "100%|██████████| 2000/2000 [01:32<00:00, 21.56it/s]\n"
     ]
    },
    {
     "name": "stdout",
     "output_type": "stream",
     "text": [
      "Epoch 216 Mean Reward: -68.79642055511475\n"
     ]
    },
    {
     "name": "stderr",
     "output_type": "stream",
     "text": [
      "100%|██████████| 2000/2000 [01:33<00:00, 21.42it/s]\n"
     ]
    },
    {
     "name": "stdout",
     "output_type": "stream",
     "text": [
      "Epoch 217 Mean Reward: -67.71110422515869\n"
     ]
    },
    {
     "name": "stderr",
     "output_type": "stream",
     "text": [
      "100%|██████████| 2000/2000 [01:33<00:00, 21.43it/s]\n"
     ]
    },
    {
     "name": "stdout",
     "output_type": "stream",
     "text": [
      "Epoch 218 Mean Reward: -68.74018788909912\n"
     ]
    },
    {
     "name": "stderr",
     "output_type": "stream",
     "text": [
      "100%|██████████| 2000/2000 [01:32<00:00, 21.52it/s]\n"
     ]
    },
    {
     "name": "stdout",
     "output_type": "stream",
     "text": [
      "Epoch 219 Mean Reward: -66.48790756225586\n"
     ]
    },
    {
     "name": "stderr",
     "output_type": "stream",
     "text": [
      "100%|██████████| 2000/2000 [01:33<00:00, 21.43it/s]\n"
     ]
    },
    {
     "name": "stdout",
     "output_type": "stream",
     "text": [
      "Epoch 220 Mean Reward: -67.10676698303223\n",
      "Epoch 220 Model saved to ./checkpoints/deadly_corridor.ckpt\n",
      "Epoch 220 test with depth buffer:\n",
      "Test Episode 1 Reward: -71.54542541503906\n",
      "Test Episode 2 Reward: 225.666259765625\n",
      "Test Episode 3 Reward: 225.666259765625\n",
      "Test Episode 4 Reward: 225.666259765625\n",
      "Test Episode 5 Reward: 225.666259765625\n",
      "Test Episode 6 Reward: 225.666259765625\n",
      "Test Episode 7 Reward: 225.666259765625\n",
      "Test Episode 8 Reward: 225.666259765625\n",
      "Test Episode 9 Reward: 122.85923767089844\n",
      "Test Episode 10 Reward: 99.315185546875\n",
      "Average Test Reward (with depth buffer:) 173.02928161621094\n",
      "Epoch 220 test without depth buffer:\n",
      "Test Episode 1 Reward: -115.94844055175781\n",
      "Test Episode 2 Reward: -115.94844055175781\n",
      "Test Episode 3 Reward: -115.94844055175781\n",
      "Test Episode 4 Reward: -112.03010559082031\n",
      "Test Episode 5 Reward: -115.94844055175781\n",
      "Test Episode 6 Reward: -115.98204040527344\n",
      "Test Episode 7 Reward: -114.24839782714844\n",
      "Test Episode 8 Reward: -115.94844055175781\n",
      "Test Episode 9 Reward: -115.98480224609375\n",
      "Test Episode 10 Reward: -115.99110412597656\n",
      "Average Test Reward (without depth buffer): -115.39786529541016\n"
     ]
    },
    {
     "name": "stderr",
     "output_type": "stream",
     "text": [
      "100%|██████████| 2000/2000 [01:33<00:00, 21.39it/s]\n"
     ]
    },
    {
     "name": "stdout",
     "output_type": "stream",
     "text": [
      "Epoch 221 Mean Reward: -67.7849825592041\n"
     ]
    },
    {
     "name": "stderr",
     "output_type": "stream",
     "text": [
      "100%|██████████| 2000/2000 [01:33<00:00, 21.42it/s]\n"
     ]
    },
    {
     "name": "stdout",
     "output_type": "stream",
     "text": [
      "Epoch 222 Mean Reward: -66.65598023986817\n"
     ]
    },
    {
     "name": "stderr",
     "output_type": "stream",
     "text": [
      "100%|██████████| 2000/2000 [01:32<00:00, 21.53it/s]\n"
     ]
    },
    {
     "name": "stdout",
     "output_type": "stream",
     "text": [
      "Epoch 223 Mean Reward: -69.58684197235108\n"
     ]
    },
    {
     "name": "stderr",
     "output_type": "stream",
     "text": [
      "100%|██████████| 2000/2000 [01:32<00:00, 21.56it/s]\n"
     ]
    },
    {
     "name": "stdout",
     "output_type": "stream",
     "text": [
      "Epoch 224 Mean Reward: -69.44147253417968\n"
     ]
    },
    {
     "name": "stderr",
     "output_type": "stream",
     "text": [
      "100%|██████████| 2000/2000 [01:32<00:00, 21.51it/s]\n"
     ]
    },
    {
     "name": "stdout",
     "output_type": "stream",
     "text": [
      "Epoch 225 Mean Reward: -68.10967699432373\n"
     ]
    },
    {
     "name": "stderr",
     "output_type": "stream",
     "text": [
      "100%|██████████| 2000/2000 [01:33<00:00, 21.40it/s]\n"
     ]
    },
    {
     "name": "stdout",
     "output_type": "stream",
     "text": [
      "Epoch 226 Mean Reward: -66.9043783493042\n"
     ]
    },
    {
     "name": "stderr",
     "output_type": "stream",
     "text": [
      "100%|██████████| 2000/2000 [01:34<00:00, 21.20it/s]\n"
     ]
    },
    {
     "name": "stdout",
     "output_type": "stream",
     "text": [
      "Epoch 227 Mean Reward: -67.70239073944092\n"
     ]
    },
    {
     "name": "stderr",
     "output_type": "stream",
     "text": [
      "100%|██████████| 2000/2000 [01:33<00:00, 21.45it/s]\n"
     ]
    },
    {
     "name": "stdout",
     "output_type": "stream",
     "text": [
      "Epoch 228 Mean Reward: -67.18629296875\n"
     ]
    },
    {
     "name": "stderr",
     "output_type": "stream",
     "text": [
      "100%|██████████| 2000/2000 [01:33<00:00, 21.40it/s]\n"
     ]
    },
    {
     "name": "stdout",
     "output_type": "stream",
     "text": [
      "Epoch 229 Mean Reward: -66.92459244537353\n"
     ]
    },
    {
     "name": "stderr",
     "output_type": "stream",
     "text": [
      "100%|██████████| 2000/2000 [01:33<00:00, 21.42it/s]\n"
     ]
    },
    {
     "name": "stdout",
     "output_type": "stream",
     "text": [
      "Epoch 230 Mean Reward: -69.83732749176025\n"
     ]
    },
    {
     "name": "stderr",
     "output_type": "stream",
     "text": [
      "100%|██████████| 2000/2000 [01:33<00:00, 21.49it/s]\n"
     ]
    },
    {
     "name": "stdout",
     "output_type": "stream",
     "text": [
      "Epoch 231 Mean Reward: -67.32506084442139\n"
     ]
    },
    {
     "name": "stderr",
     "output_type": "stream",
     "text": [
      "100%|██████████| 2000/2000 [01:33<00:00, 21.47it/s]\n"
     ]
    },
    {
     "name": "stdout",
     "output_type": "stream",
     "text": [
      "Epoch 232 Mean Reward: -66.17858959197999\n"
     ]
    },
    {
     "name": "stderr",
     "output_type": "stream",
     "text": [
      "100%|██████████| 2000/2000 [01:32<00:00, 21.53it/s]\n"
     ]
    },
    {
     "name": "stdout",
     "output_type": "stream",
     "text": [
      "Epoch 233 Mean Reward: -69.56878173065185\n"
     ]
    },
    {
     "name": "stderr",
     "output_type": "stream",
     "text": [
      "100%|██████████| 2000/2000 [01:32<00:00, 21.55it/s]\n"
     ]
    },
    {
     "name": "stdout",
     "output_type": "stream",
     "text": [
      "Epoch 234 Mean Reward: -67.85507450866699\n"
     ]
    },
    {
     "name": "stderr",
     "output_type": "stream",
     "text": [
      "100%|██████████| 2000/2000 [01:32<00:00, 21.60it/s]\n"
     ]
    },
    {
     "name": "stdout",
     "output_type": "stream",
     "text": [
      "Epoch 235 Mean Reward: -67.1268442993164\n"
     ]
    },
    {
     "name": "stderr",
     "output_type": "stream",
     "text": [
      "100%|██████████| 2000/2000 [01:32<00:00, 21.71it/s]\n"
     ]
    },
    {
     "name": "stdout",
     "output_type": "stream",
     "text": [
      "Epoch 236 Mean Reward: -69.98714641571046\n"
     ]
    },
    {
     "name": "stderr",
     "output_type": "stream",
     "text": [
      "100%|██████████| 2000/2000 [01:33<00:00, 21.44it/s]\n"
     ]
    },
    {
     "name": "stdout",
     "output_type": "stream",
     "text": [
      "Epoch 237 Mean Reward: -71.26228812408448\n"
     ]
    },
    {
     "name": "stderr",
     "output_type": "stream",
     "text": [
      "100%|██████████| 2000/2000 [01:32<00:00, 21.51it/s]\n"
     ]
    },
    {
     "name": "stdout",
     "output_type": "stream",
     "text": [
      "Epoch 238 Mean Reward: -68.52584777832031\n"
     ]
    },
    {
     "name": "stderr",
     "output_type": "stream",
     "text": [
      "100%|██████████| 2000/2000 [01:32<00:00, 21.60it/s]\n"
     ]
    },
    {
     "name": "stdout",
     "output_type": "stream",
     "text": [
      "Epoch 239 Mean Reward: -66.8488958053589\n"
     ]
    },
    {
     "name": "stderr",
     "output_type": "stream",
     "text": [
      "100%|██████████| 2000/2000 [01:33<00:00, 21.32it/s]\n"
     ]
    },
    {
     "name": "stdout",
     "output_type": "stream",
     "text": [
      "Epoch 240 Mean Reward: -66.86202373504639\n",
      "Epoch 240 Model saved to ./checkpoints/deadly_corridor.ckpt\n",
      "Epoch 240 test with depth buffer:\n",
      "Test Episode 1 Reward: 54.1220703125\n",
      "Test Episode 2 Reward: 297.33006286621094\n",
      "Test Episode 3 Reward: 175.72219848632812\n",
      "Test Episode 4 Reward: 54.1220703125\n",
      "Test Episode 5 Reward: 287.08717346191406\n",
      "Test Episode 6 Reward: 54.1220703125\n",
      "Test Episode 7 Reward: 0.5543670654296875\n",
      "Test Episode 8 Reward: 54.1220703125\n",
      "Test Episode 9 Reward: 54.1220703125\n",
      "Test Episode 10 Reward: 54.1220703125\n",
      "Average Test Reward (with depth buffer:) 108.54262237548828\n",
      "Epoch 240 test without depth buffer:\n",
      "Test Episode 1 Reward: -115.4813232421875\n",
      "Test Episode 2 Reward: -115.4813232421875\n",
      "Test Episode 3 Reward: -115.50325012207031\n",
      "Test Episode 4 Reward: -98.96327209472656\n",
      "Test Episode 5 Reward: -115.4813232421875\n",
      "Test Episode 6 Reward: -38.80876159667969\n",
      "Test Episode 7 Reward: 155.92259216308594\n",
      "Test Episode 8 Reward: -74.12690734863281\n",
      "Test Episode 9 Reward: -92.36280822753906\n",
      "Test Episode 10 Reward: -115.4813232421875\n",
      "Average Test Reward (without depth buffer): -72.57677001953125\n"
     ]
    },
    {
     "name": "stderr",
     "output_type": "stream",
     "text": [
      "100%|██████████| 2000/2000 [01:47<00:00, 18.62it/s]\n"
     ]
    },
    {
     "name": "stdout",
     "output_type": "stream",
     "text": [
      "Epoch 241 Mean Reward: -58.33362260437012\n"
     ]
    },
    {
     "name": "stderr",
     "output_type": "stream",
     "text": [
      "100%|██████████| 2000/2000 [01:46<00:00, 18.78it/s]\n"
     ]
    },
    {
     "name": "stdout",
     "output_type": "stream",
     "text": [
      "Epoch 242 Mean Reward: -58.525804901123045\n"
     ]
    },
    {
     "name": "stderr",
     "output_type": "stream",
     "text": [
      "100%|██████████| 2000/2000 [01:47<00:00, 18.65it/s]\n"
     ]
    },
    {
     "name": "stdout",
     "output_type": "stream",
     "text": [
      "Epoch 243 Mean Reward: -56.584776710510255\n"
     ]
    },
    {
     "name": "stderr",
     "output_type": "stream",
     "text": [
      "100%|██████████| 2000/2000 [01:46<00:00, 18.72it/s]\n"
     ]
    },
    {
     "name": "stdout",
     "output_type": "stream",
     "text": [
      "Epoch 244 Mean Reward: -57.39444657897949\n"
     ]
    },
    {
     "name": "stderr",
     "output_type": "stream",
     "text": [
      "100%|██████████| 2000/2000 [01:49<00:00, 18.24it/s]\n"
     ]
    },
    {
     "name": "stdout",
     "output_type": "stream",
     "text": [
      "Epoch 245 Mean Reward: -55.493118858337404\n"
     ]
    },
    {
     "name": "stderr",
     "output_type": "stream",
     "text": [
      "100%|██████████| 2000/2000 [01:46<00:00, 18.70it/s]\n"
     ]
    },
    {
     "name": "stdout",
     "output_type": "stream",
     "text": [
      "Epoch 246 Mean Reward: -58.025412460327146\n"
     ]
    },
    {
     "name": "stderr",
     "output_type": "stream",
     "text": [
      "100%|██████████| 2000/2000 [01:47<00:00, 18.54it/s]\n"
     ]
    },
    {
     "name": "stdout",
     "output_type": "stream",
     "text": [
      "Epoch 247 Mean Reward: -54.08027785491943\n"
     ]
    },
    {
     "name": "stderr",
     "output_type": "stream",
     "text": [
      "100%|██████████| 2000/2000 [01:51<00:00, 17.98it/s]\n"
     ]
    },
    {
     "name": "stdout",
     "output_type": "stream",
     "text": [
      "Epoch 248 Mean Reward: -57.27702870178223\n"
     ]
    },
    {
     "name": "stderr",
     "output_type": "stream",
     "text": [
      "100%|██████████| 2000/2000 [01:48<00:00, 18.40it/s]\n"
     ]
    },
    {
     "name": "stdout",
     "output_type": "stream",
     "text": [
      "Epoch 249 Mean Reward: -57.45045369720459\n"
     ]
    },
    {
     "name": "stderr",
     "output_type": "stream",
     "text": [
      "100%|██████████| 2000/2000 [01:50<00:00, 18.15it/s]\n"
     ]
    },
    {
     "name": "stdout",
     "output_type": "stream",
     "text": [
      "Epoch 250 Mean Reward: -54.8737523727417\n"
     ]
    },
    {
     "name": "stderr",
     "output_type": "stream",
     "text": [
      "100%|██████████| 2000/2000 [01:49<00:00, 18.30it/s]\n"
     ]
    },
    {
     "name": "stdout",
     "output_type": "stream",
     "text": [
      "Epoch 251 Mean Reward: -53.67108280181885\n"
     ]
    },
    {
     "name": "stderr",
     "output_type": "stream",
     "text": [
      "100%|██████████| 2000/2000 [01:51<00:00, 18.00it/s]\n"
     ]
    },
    {
     "name": "stdout",
     "output_type": "stream",
     "text": [
      "Epoch 252 Mean Reward: -53.61313798522949\n"
     ]
    },
    {
     "name": "stderr",
     "output_type": "stream",
     "text": [
      "100%|██████████| 2000/2000 [01:51<00:00, 17.86it/s]\n"
     ]
    },
    {
     "name": "stdout",
     "output_type": "stream",
     "text": [
      "Epoch 253 Mean Reward: -51.001619735717775\n"
     ]
    },
    {
     "name": "stderr",
     "output_type": "stream",
     "text": [
      "100%|██████████| 2000/2000 [01:52<00:00, 17.82it/s]\n"
     ]
    },
    {
     "name": "stdout",
     "output_type": "stream",
     "text": [
      "Epoch 254 Mean Reward: -54.29248984527588\n"
     ]
    },
    {
     "name": "stderr",
     "output_type": "stream",
     "text": [
      "100%|██████████| 2000/2000 [01:53<00:00, 17.61it/s]\n"
     ]
    },
    {
     "name": "stdout",
     "output_type": "stream",
     "text": [
      "Epoch 255 Mean Reward: -49.389189254760744\n"
     ]
    },
    {
     "name": "stderr",
     "output_type": "stream",
     "text": [
      "100%|██████████| 2000/2000 [01:52<00:00, 17.77it/s]\n"
     ]
    },
    {
     "name": "stdout",
     "output_type": "stream",
     "text": [
      "Epoch 256 Mean Reward: -53.920741752624515\n"
     ]
    },
    {
     "name": "stderr",
     "output_type": "stream",
     "text": [
      "100%|██████████| 2000/2000 [01:53<00:00, 17.59it/s]\n"
     ]
    },
    {
     "name": "stdout",
     "output_type": "stream",
     "text": [
      "Epoch 257 Mean Reward: -55.819068252563476\n"
     ]
    },
    {
     "name": "stderr",
     "output_type": "stream",
     "text": [
      "100%|██████████| 2000/2000 [01:52<00:00, 17.78it/s]\n"
     ]
    },
    {
     "name": "stdout",
     "output_type": "stream",
     "text": [
      "Epoch 258 Mean Reward: -49.41915419006347\n"
     ]
    },
    {
     "name": "stderr",
     "output_type": "stream",
     "text": [
      "100%|██████████| 2000/2000 [01:52<00:00, 17.82it/s]\n"
     ]
    },
    {
     "name": "stdout",
     "output_type": "stream",
     "text": [
      "Epoch 259 Mean Reward: -48.2443472366333\n"
     ]
    },
    {
     "name": "stderr",
     "output_type": "stream",
     "text": [
      "100%|██████████| 2000/2000 [01:55<00:00, 17.26it/s]\n"
     ]
    },
    {
     "name": "stdout",
     "output_type": "stream",
     "text": [
      "Epoch 260 Mean Reward: -49.360065979003906\n",
      "Epoch 260 Model saved to ./checkpoints/deadly_corridor.ckpt\n",
      "Epoch 260 test with depth buffer:\n",
      "Test Episode 1 Reward: 77.33639526367188\n",
      "Test Episode 2 Reward: 233.6959991455078\n",
      "Test Episode 3 Reward: 4.767822265625\n",
      "Test Episode 4 Reward: 77.33639526367188\n",
      "Test Episode 5 Reward: 77.33639526367188\n",
      "Test Episode 6 Reward: -65.4888916015625\n",
      "Test Episode 7 Reward: -64.31031799316406\n",
      "Test Episode 8 Reward: 58.32318115234375\n",
      "Test Episode 9 Reward: 77.33639526367188\n",
      "Test Episode 10 Reward: 77.33639526367188\n",
      "Average Test Reward (with depth buffer:) 55.36697692871094\n",
      "Epoch 260 test without depth buffer:\n",
      "Test Episode 1 Reward: -3.1613006591796875\n",
      "Test Episode 2 Reward: -112.77607727050781\n",
      "Test Episode 3 Reward: -75.07443237304688\n",
      "Test Episode 4 Reward: -85.22802734375\n",
      "Test Episode 5 Reward: -3.1613006591796875\n",
      "Test Episode 6 Reward: -3.1613006591796875\n",
      "Test Episode 7 Reward: -3.1613006591796875\n",
      "Test Episode 8 Reward: -115.70538330078125\n",
      "Test Episode 9 Reward: 183.71096801757812\n",
      "Test Episode 10 Reward: 1.058135986328125\n",
      "Average Test Reward (without depth buffer): -21.666001892089845\n"
     ]
    },
    {
     "name": "stderr",
     "output_type": "stream",
     "text": [
      "100%|██████████| 2000/2000 [01:51<00:00, 17.89it/s]\n"
     ]
    },
    {
     "name": "stdout",
     "output_type": "stream",
     "text": [
      "Epoch 261 Mean Reward: -58.54992919921875\n"
     ]
    },
    {
     "name": "stderr",
     "output_type": "stream",
     "text": [
      "100%|██████████| 2000/2000 [01:53<00:00, 17.65it/s]\n"
     ]
    },
    {
     "name": "stdout",
     "output_type": "stream",
     "text": [
      "Epoch 262 Mean Reward: -56.90250713348389\n"
     ]
    },
    {
     "name": "stderr",
     "output_type": "stream",
     "text": [
      "100%|██████████| 2000/2000 [01:53<00:00, 17.61it/s]\n"
     ]
    },
    {
     "name": "stdout",
     "output_type": "stream",
     "text": [
      "Epoch 263 Mean Reward: -57.21600937652588\n"
     ]
    },
    {
     "name": "stderr",
     "output_type": "stream",
     "text": [
      "100%|██████████| 2000/2000 [01:51<00:00, 18.00it/s]\n"
     ]
    },
    {
     "name": "stdout",
     "output_type": "stream",
     "text": [
      "Epoch 264 Mean Reward: -57.13267346191406\n"
     ]
    },
    {
     "name": "stderr",
     "output_type": "stream",
     "text": [
      "100%|██████████| 2000/2000 [01:50<00:00, 18.04it/s]\n"
     ]
    },
    {
     "name": "stdout",
     "output_type": "stream",
     "text": [
      "Epoch 265 Mean Reward: -61.0973081741333\n"
     ]
    },
    {
     "name": "stderr",
     "output_type": "stream",
     "text": [
      "100%|██████████| 2000/2000 [01:53<00:00, 17.58it/s]\n"
     ]
    },
    {
     "name": "stdout",
     "output_type": "stream",
     "text": [
      "Epoch 266 Mean Reward: -56.286922538757324\n"
     ]
    },
    {
     "name": "stderr",
     "output_type": "stream",
     "text": [
      "100%|██████████| 2000/2000 [01:53<00:00, 17.70it/s]\n"
     ]
    },
    {
     "name": "stdout",
     "output_type": "stream",
     "text": [
      "Epoch 267 Mean Reward: -58.12243658447266\n"
     ]
    },
    {
     "name": "stderr",
     "output_type": "stream",
     "text": [
      "100%|██████████| 2000/2000 [01:54<00:00, 17.40it/s]\n"
     ]
    },
    {
     "name": "stdout",
     "output_type": "stream",
     "text": [
      "Epoch 268 Mean Reward: -53.12682138824463\n"
     ]
    },
    {
     "name": "stderr",
     "output_type": "stream",
     "text": [
      "100%|██████████| 2000/2000 [01:55<00:00, 17.26it/s]\n"
     ]
    },
    {
     "name": "stdout",
     "output_type": "stream",
     "text": [
      "Epoch 269 Mean Reward: -53.797854530334476\n"
     ]
    },
    {
     "name": "stderr",
     "output_type": "stream",
     "text": [
      "100%|██████████| 2000/2000 [01:55<00:00, 17.37it/s]\n"
     ]
    },
    {
     "name": "stdout",
     "output_type": "stream",
     "text": [
      "Epoch 270 Mean Reward: -54.81971957397461\n"
     ]
    },
    {
     "name": "stderr",
     "output_type": "stream",
     "text": [
      "100%|██████████| 2000/2000 [02:04<00:00, 16.03it/s]\n"
     ]
    },
    {
     "name": "stdout",
     "output_type": "stream",
     "text": [
      "Epoch 271 Mean Reward: -51.366832321166996\n"
     ]
    },
    {
     "name": "stderr",
     "output_type": "stream",
     "text": [
      "100%|██████████| 2000/2000 [02:24<00:00, 13.82it/s]\n"
     ]
    },
    {
     "name": "stdout",
     "output_type": "stream",
     "text": [
      "Epoch 272 Mean Reward: -51.13732776641846\n"
     ]
    },
    {
     "name": "stderr",
     "output_type": "stream",
     "text": [
      "100%|██████████| 2000/2000 [02:02<00:00, 16.35it/s]\n"
     ]
    },
    {
     "name": "stdout",
     "output_type": "stream",
     "text": [
      "Epoch 273 Mean Reward: -47.33930623626709\n"
     ]
    },
    {
     "name": "stderr",
     "output_type": "stream",
     "text": [
      "100%|██████████| 2000/2000 [02:02<00:00, 16.35it/s]\n"
     ]
    },
    {
     "name": "stdout",
     "output_type": "stream",
     "text": [
      "Epoch 274 Mean Reward: -50.506453918457034\n"
     ]
    },
    {
     "name": "stderr",
     "output_type": "stream",
     "text": [
      "100%|██████████| 2000/2000 [01:58<00:00, 16.81it/s]\n"
     ]
    },
    {
     "name": "stdout",
     "output_type": "stream",
     "text": [
      "Epoch 275 Mean Reward: -47.030900382995604\n"
     ]
    },
    {
     "name": "stderr",
     "output_type": "stream",
     "text": [
      "100%|██████████| 2000/2000 [02:01<00:00, 16.44it/s]\n"
     ]
    },
    {
     "name": "stdout",
     "output_type": "stream",
     "text": [
      "Epoch 276 Mean Reward: -44.7530901260376\n"
     ]
    },
    {
     "name": "stderr",
     "output_type": "stream",
     "text": [
      "100%|██████████| 2000/2000 [02:03<00:00, 16.16it/s]\n"
     ]
    },
    {
     "name": "stdout",
     "output_type": "stream",
     "text": [
      "Epoch 277 Mean Reward: -45.94830931091309\n"
     ]
    },
    {
     "name": "stderr",
     "output_type": "stream",
     "text": [
      "100%|██████████| 2000/2000 [02:00<00:00, 16.66it/s]\n"
     ]
    },
    {
     "name": "stdout",
     "output_type": "stream",
     "text": [
      "Epoch 278 Mean Reward: -47.95554486846924\n"
     ]
    },
    {
     "name": "stderr",
     "output_type": "stream",
     "text": [
      "100%|██████████| 2000/2000 [02:01<00:00, 16.46it/s]\n"
     ]
    },
    {
     "name": "stdout",
     "output_type": "stream",
     "text": [
      "Epoch 279 Mean Reward: -44.04282928466797\n"
     ]
    },
    {
     "name": "stderr",
     "output_type": "stream",
     "text": [
      "100%|██████████| 2000/2000 [02:01<00:00, 16.47it/s]\n"
     ]
    },
    {
     "name": "stdout",
     "output_type": "stream",
     "text": [
      "Epoch 280 Mean Reward: -47.52275901794434\n",
      "Epoch 280 Model saved to ./checkpoints/deadly_corridor.ckpt\n",
      "Epoch 280 test with depth buffer:\n",
      "Test Episode 1 Reward: -0.8689422607421875\n",
      "Test Episode 2 Reward: 125.51893615722656\n",
      "Test Episode 3 Reward: 125.51893615722656\n",
      "Test Episode 4 Reward: 304.75669860839844\n",
      "Test Episode 5 Reward: -4.34051513671875\n",
      "Test Episode 6 Reward: -10.669601440429688\n",
      "Test Episode 7 Reward: 277.15916442871094\n",
      "Test Episode 8 Reward: 125.51893615722656\n",
      "Test Episode 9 Reward: 125.51893615722656\n",
      "Test Episode 10 Reward: 96.07530212402344\n",
      "Average Test Reward (with depth buffer:) 116.41878509521484\n",
      "Epoch 280 test without depth buffer:\n",
      "Test Episode 1 Reward: 233.43382263183594\n",
      "Test Episode 2 Reward: 83.87101745605469\n",
      "Test Episode 3 Reward: 57.01008605957031\n",
      "Test Episode 4 Reward: 57.01008605957031\n",
      "Test Episode 5 Reward: -10.48052978515625\n",
      "Test Episode 6 Reward: 57.01008605957031\n",
      "Test Episode 7 Reward: 4.655487060546875\n",
      "Test Episode 8 Reward: 119.79995727539062\n",
      "Test Episode 9 Reward: 57.01008605957031\n",
      "Test Episode 10 Reward: 310.9228973388672\n",
      "Average Test Reward (without depth buffer): 97.02429962158203\n"
     ]
    },
    {
     "name": "stderr",
     "output_type": "stream",
     "text": [
      "100%|██████████| 2000/2000 [02:08<00:00, 15.57it/s]\n"
     ]
    },
    {
     "name": "stdout",
     "output_type": "stream",
     "text": [
      "Epoch 281 Mean Reward: -44.75630953979492\n"
     ]
    },
    {
     "name": "stderr",
     "output_type": "stream",
     "text": [
      "100%|██████████| 2000/2000 [02:04<00:00, 16.01it/s]\n"
     ]
    },
    {
     "name": "stdout",
     "output_type": "stream",
     "text": [
      "Epoch 282 Mean Reward: -46.193312629699705\n"
     ]
    },
    {
     "name": "stderr",
     "output_type": "stream",
     "text": [
      "100%|██████████| 2000/2000 [02:01<00:00, 16.46it/s]\n"
     ]
    },
    {
     "name": "stdout",
     "output_type": "stream",
     "text": [
      "Epoch 283 Mean Reward: -49.47257395935058\n"
     ]
    },
    {
     "name": "stderr",
     "output_type": "stream",
     "text": [
      "100%|██████████| 2000/2000 [02:07<00:00, 15.65it/s]\n"
     ]
    },
    {
     "name": "stdout",
     "output_type": "stream",
     "text": [
      "Epoch 284 Mean Reward: -41.8058482208252\n"
     ]
    },
    {
     "name": "stderr",
     "output_type": "stream",
     "text": [
      "100%|██████████| 2000/2000 [02:06<00:00, 15.75it/s]\n"
     ]
    },
    {
     "name": "stdout",
     "output_type": "stream",
     "text": [
      "Epoch 285 Mean Reward: -42.954833358764645\n"
     ]
    },
    {
     "name": "stderr",
     "output_type": "stream",
     "text": [
      "100%|██████████| 2000/2000 [02:05<00:00, 15.88it/s]\n"
     ]
    },
    {
     "name": "stdout",
     "output_type": "stream",
     "text": [
      "Epoch 286 Mean Reward: -43.050649154663084\n"
     ]
    },
    {
     "name": "stderr",
     "output_type": "stream",
     "text": [
      "100%|██████████| 2000/2000 [02:04<00:00, 16.07it/s]\n"
     ]
    },
    {
     "name": "stdout",
     "output_type": "stream",
     "text": [
      "Epoch 287 Mean Reward: -43.932128730773925\n"
     ]
    },
    {
     "name": "stderr",
     "output_type": "stream",
     "text": [
      "100%|██████████| 2000/2000 [02:10<00:00, 15.36it/s]\n"
     ]
    },
    {
     "name": "stdout",
     "output_type": "stream",
     "text": [
      "Epoch 288 Mean Reward: -41.084288330078124\n"
     ]
    },
    {
     "name": "stderr",
     "output_type": "stream",
     "text": [
      "100%|██████████| 2000/2000 [02:07<00:00, 15.71it/s]\n"
     ]
    },
    {
     "name": "stdout",
     "output_type": "stream",
     "text": [
      "Epoch 289 Mean Reward: -48.66330610656738\n"
     ]
    },
    {
     "name": "stderr",
     "output_type": "stream",
     "text": [
      "100%|██████████| 2000/2000 [02:10<00:00, 15.28it/s]\n"
     ]
    },
    {
     "name": "stdout",
     "output_type": "stream",
     "text": [
      "Epoch 290 Mean Reward: -44.38966954040527\n"
     ]
    },
    {
     "name": "stderr",
     "output_type": "stream",
     "text": [
      "100%|██████████| 2000/2000 [02:08<00:00, 15.59it/s]\n"
     ]
    },
    {
     "name": "stdout",
     "output_type": "stream",
     "text": [
      "Epoch 291 Mean Reward: -47.41254302215576\n"
     ]
    },
    {
     "name": "stderr",
     "output_type": "stream",
     "text": [
      "100%|██████████| 2000/2000 [02:08<00:00, 15.62it/s]\n"
     ]
    },
    {
     "name": "stdout",
     "output_type": "stream",
     "text": [
      "Epoch 292 Mean Reward: -45.28600634002686\n"
     ]
    },
    {
     "name": "stderr",
     "output_type": "stream",
     "text": [
      "100%|██████████| 2000/2000 [02:07<00:00, 15.70it/s]\n"
     ]
    },
    {
     "name": "stdout",
     "output_type": "stream",
     "text": [
      "Epoch 293 Mean Reward: -45.157159736633304\n"
     ]
    },
    {
     "name": "stderr",
     "output_type": "stream",
     "text": [
      "100%|██████████| 2000/2000 [02:08<00:00, 15.54it/s]\n"
     ]
    },
    {
     "name": "stdout",
     "output_type": "stream",
     "text": [
      "Epoch 294 Mean Reward: -44.55884898376465\n"
     ]
    },
    {
     "name": "stderr",
     "output_type": "stream",
     "text": [
      "100%|██████████| 2000/2000 [02:09<00:00, 15.48it/s]\n"
     ]
    },
    {
     "name": "stdout",
     "output_type": "stream",
     "text": [
      "Epoch 295 Mean Reward: -44.00709506225586\n"
     ]
    },
    {
     "name": "stderr",
     "output_type": "stream",
     "text": [
      "100%|██████████| 2000/2000 [02:10<00:00, 15.38it/s]\n"
     ]
    },
    {
     "name": "stdout",
     "output_type": "stream",
     "text": [
      "Epoch 296 Mean Reward: -47.079160301208496\n"
     ]
    },
    {
     "name": "stderr",
     "output_type": "stream",
     "text": [
      "100%|██████████| 2000/2000 [02:13<00:00, 14.97it/s]\n"
     ]
    },
    {
     "name": "stdout",
     "output_type": "stream",
     "text": [
      "Epoch 297 Mean Reward: -41.635132362365724\n"
     ]
    },
    {
     "name": "stderr",
     "output_type": "stream",
     "text": [
      "100%|██████████| 2000/2000 [02:12<00:00, 15.12it/s]\n"
     ]
    },
    {
     "name": "stdout",
     "output_type": "stream",
     "text": [
      "Epoch 298 Mean Reward: -45.448249481201174\n"
     ]
    },
    {
     "name": "stderr",
     "output_type": "stream",
     "text": [
      "100%|██████████| 2000/2000 [02:09<00:00, 15.42it/s]\n"
     ]
    },
    {
     "name": "stdout",
     "output_type": "stream",
     "text": [
      "Epoch 299 Mean Reward: -43.784757835388184\n"
     ]
    },
    {
     "name": "stderr",
     "output_type": "stream",
     "text": [
      "100%|██████████| 2000/2000 [02:14<00:00, 14.86it/s]\n"
     ]
    },
    {
     "name": "stdout",
     "output_type": "stream",
     "text": [
      "Epoch 300 Mean Reward: -39.66772447967529\n",
      "Epoch 300 Model saved to ./checkpoints/deadly_corridor.ckpt\n",
      "Epoch 300 test with depth buffer:\n",
      "Test Episode 1 Reward: -59.45887756347656\n",
      "Test Episode 2 Reward: -50.623809814453125\n",
      "Test Episode 3 Reward: -50.623809814453125\n",
      "Test Episode 4 Reward: -50.623809814453125\n",
      "Test Episode 5 Reward: -83.035888671875\n",
      "Test Episode 6 Reward: -115.98536682128906\n",
      "Test Episode 7 Reward: -50.623809814453125\n",
      "Test Episode 8 Reward: -50.623809814453125\n",
      "Test Episode 9 Reward: -115.72959899902344\n",
      "Test Episode 10 Reward: -115.91278076171875\n",
      "Average Test Reward (with depth buffer:) -74.32415618896485\n",
      "Epoch 300 test without depth buffer:\n",
      "Test Episode 1 Reward: 48.82307434082031\n",
      "Test Episode 2 Reward: 48.82307434082031\n",
      "Test Episode 3 Reward: -76.95109558105469\n",
      "Test Episode 4 Reward: -115.99549865722656\n",
      "Test Episode 5 Reward: 48.82307434082031\n",
      "Test Episode 6 Reward: 24.258255004882812\n",
      "Test Episode 7 Reward: 48.82307434082031\n",
      "Test Episode 8 Reward: 48.82307434082031\n",
      "Test Episode 9 Reward: -95.72000122070312\n",
      "Test Episode 10 Reward: 48.82307434082031\n",
      "Average Test Reward (without depth buffer): 2.853010559082031\n"
     ]
    },
    {
     "name": "stderr",
     "output_type": "stream",
     "text": [
      "100%|██████████| 2000/2000 [02:13<00:00, 15.01it/s]\n"
     ]
    },
    {
     "name": "stdout",
     "output_type": "stream",
     "text": [
      "Epoch 301 Mean Reward: -45.22851705169678\n"
     ]
    },
    {
     "name": "stderr",
     "output_type": "stream",
     "text": [
      "100%|██████████| 2000/2000 [02:11<00:00, 15.25it/s]\n"
     ]
    },
    {
     "name": "stdout",
     "output_type": "stream",
     "text": [
      "Epoch 302 Mean Reward: -44.48801335144043\n"
     ]
    },
    {
     "name": "stderr",
     "output_type": "stream",
     "text": [
      "100%|██████████| 2000/2000 [02:14<00:00, 14.82it/s]\n"
     ]
    },
    {
     "name": "stdout",
     "output_type": "stream",
     "text": [
      "Epoch 303 Mean Reward: -39.50685321807861\n"
     ]
    },
    {
     "name": "stderr",
     "output_type": "stream",
     "text": [
      "100%|██████████| 2000/2000 [02:16<00:00, 14.61it/s]\n"
     ]
    },
    {
     "name": "stdout",
     "output_type": "stream",
     "text": [
      "Epoch 304 Mean Reward: -40.659690048217776\n"
     ]
    },
    {
     "name": "stderr",
     "output_type": "stream",
     "text": [
      "100%|██████████| 2000/2000 [02:14<00:00, 14.86it/s]\n"
     ]
    },
    {
     "name": "stdout",
     "output_type": "stream",
     "text": [
      "Epoch 305 Mean Reward: -38.622332298278806\n"
     ]
    },
    {
     "name": "stderr",
     "output_type": "stream",
     "text": [
      "100%|██████████| 2000/2000 [02:14<00:00, 14.82it/s]\n"
     ]
    },
    {
     "name": "stdout",
     "output_type": "stream",
     "text": [
      "Epoch 306 Mean Reward: -42.10381693267822\n"
     ]
    },
    {
     "name": "stderr",
     "output_type": "stream",
     "text": [
      "100%|██████████| 2000/2000 [02:16<00:00, 14.61it/s]\n"
     ]
    },
    {
     "name": "stdout",
     "output_type": "stream",
     "text": [
      "Epoch 307 Mean Reward: -37.13005727386474\n"
     ]
    },
    {
     "name": "stderr",
     "output_type": "stream",
     "text": [
      "100%|██████████| 2000/2000 [02:16<00:00, 14.64it/s]\n"
     ]
    },
    {
     "name": "stdout",
     "output_type": "stream",
     "text": [
      "Epoch 308 Mean Reward: -37.38165030670166\n"
     ]
    },
    {
     "name": "stderr",
     "output_type": "stream",
     "text": [
      "100%|██████████| 2000/2000 [02:17<00:00, 14.52it/s]\n"
     ]
    },
    {
     "name": "stdout",
     "output_type": "stream",
     "text": [
      "Epoch 309 Mean Reward: -39.92918202209473\n"
     ]
    },
    {
     "name": "stderr",
     "output_type": "stream",
     "text": [
      "100%|██████████| 2000/2000 [02:20<00:00, 14.28it/s]\n"
     ]
    },
    {
     "name": "stdout",
     "output_type": "stream",
     "text": [
      "Epoch 310 Mean Reward: -38.999618949890134\n"
     ]
    },
    {
     "name": "stderr",
     "output_type": "stream",
     "text": [
      "100%|██████████| 2000/2000 [02:31<00:00, 13.20it/s]\n"
     ]
    },
    {
     "name": "stdout",
     "output_type": "stream",
     "text": [
      "Epoch 311 Mean Reward: -31.302432945251464\n"
     ]
    },
    {
     "name": "stderr",
     "output_type": "stream",
     "text": [
      "100%|██████████| 2000/2000 [02:30<00:00, 13.26it/s]\n"
     ]
    },
    {
     "name": "stdout",
     "output_type": "stream",
     "text": [
      "Epoch 312 Mean Reward: -34.04190245819092\n"
     ]
    },
    {
     "name": "stderr",
     "output_type": "stream",
     "text": [
      "100%|██████████| 2000/2000 [02:31<00:00, 13.22it/s]\n"
     ]
    },
    {
     "name": "stdout",
     "output_type": "stream",
     "text": [
      "Epoch 313 Mean Reward: -32.34373671722412\n"
     ]
    },
    {
     "name": "stderr",
     "output_type": "stream",
     "text": [
      "100%|██████████| 2000/2000 [02:32<00:00, 13.09it/s]\n"
     ]
    },
    {
     "name": "stdout",
     "output_type": "stream",
     "text": [
      "Epoch 314 Mean Reward: -29.43504849243164\n"
     ]
    },
    {
     "name": "stderr",
     "output_type": "stream",
     "text": [
      "100%|██████████| 2000/2000 [02:32<00:00, 13.10it/s]\n"
     ]
    },
    {
     "name": "stdout",
     "output_type": "stream",
     "text": [
      "Epoch 315 Mean Reward: -33.01091938781738\n"
     ]
    },
    {
     "name": "stderr",
     "output_type": "stream",
     "text": [
      "100%|██████████| 2000/2000 [02:33<00:00, 13.03it/s]\n"
     ]
    },
    {
     "name": "stdout",
     "output_type": "stream",
     "text": [
      "Epoch 316 Mean Reward: -29.8219796295166\n"
     ]
    },
    {
     "name": "stderr",
     "output_type": "stream",
     "text": [
      "100%|██████████| 2000/2000 [02:26<00:00, 13.68it/s]\n"
     ]
    },
    {
     "name": "stdout",
     "output_type": "stream",
     "text": [
      "Epoch 317 Mean Reward: -39.40572668457031\n"
     ]
    },
    {
     "name": "stderr",
     "output_type": "stream",
     "text": [
      "100%|██████████| 2000/2000 [02:29<00:00, 13.38it/s]\n"
     ]
    },
    {
     "name": "stdout",
     "output_type": "stream",
     "text": [
      "Epoch 318 Mean Reward: -35.32775750732422\n"
     ]
    },
    {
     "name": "stderr",
     "output_type": "stream",
     "text": [
      "100%|██████████| 2000/2000 [02:31<00:00, 13.17it/s]\n"
     ]
    },
    {
     "name": "stdout",
     "output_type": "stream",
     "text": [
      "Epoch 319 Mean Reward: -30.471783058166505\n"
     ]
    },
    {
     "name": "stderr",
     "output_type": "stream",
     "text": [
      "100%|██████████| 2000/2000 [02:35<00:00, 12.86it/s]\n"
     ]
    },
    {
     "name": "stdout",
     "output_type": "stream",
     "text": [
      "Epoch 320 Mean Reward: -27.042687034606935\n",
      "Epoch 320 Model saved to ./checkpoints/deadly_corridor.ckpt\n",
      "Epoch 320 test with depth buffer:\n",
      "Test Episode 1 Reward: -101.19758605957031\n",
      "Test Episode 2 Reward: -101.19758605957031\n",
      "Test Episode 3 Reward: -100.76948547363281\n",
      "Test Episode 4 Reward: -107.39816284179688\n",
      "Test Episode 5 Reward: -101.19758605957031\n",
      "Test Episode 6 Reward: -101.19758605957031\n",
      "Test Episode 7 Reward: -101.19758605957031\n",
      "Test Episode 8 Reward: -101.19758605957031\n",
      "Test Episode 9 Reward: -101.19758605957031\n",
      "Test Episode 10 Reward: -115.9571533203125\n",
      "Average Test Reward (with depth buffer:) -103.25079040527343\n",
      "Epoch 320 test without depth buffer:\n",
      "Test Episode 1 Reward: 8.005813598632812\n",
      "Test Episode 2 Reward: -91.71945190429688\n",
      "Test Episode 3 Reward: -91.71945190429688\n",
      "Test Episode 4 Reward: -91.71945190429688\n",
      "Test Episode 5 Reward: -91.71945190429688\n",
      "Test Episode 6 Reward: -115.99623107910156\n",
      "Test Episode 7 Reward: -113.44981384277344\n",
      "Test Episode 8 Reward: -69.02473449707031\n",
      "Test Episode 9 Reward: -91.71945190429688\n",
      "Test Episode 10 Reward: -91.71945190429688\n",
      "Average Test Reward (without depth buffer): -84.07816772460937\n"
     ]
    },
    {
     "name": "stderr",
     "output_type": "stream",
     "text": [
      "100%|██████████| 2000/2000 [02:26<00:00, 13.68it/s]\n"
     ]
    },
    {
     "name": "stdout",
     "output_type": "stream",
     "text": [
      "Epoch 321 Mean Reward: -35.78165593719483\n"
     ]
    },
    {
     "name": "stderr",
     "output_type": "stream",
     "text": [
      "100%|██████████| 2000/2000 [02:32<00:00, 13.08it/s]\n"
     ]
    },
    {
     "name": "stdout",
     "output_type": "stream",
     "text": [
      "Epoch 322 Mean Reward: -32.81118886566162\n"
     ]
    },
    {
     "name": "stderr",
     "output_type": "stream",
     "text": [
      "100%|██████████| 2000/2000 [02:29<00:00, 13.41it/s]\n"
     ]
    },
    {
     "name": "stdout",
     "output_type": "stream",
     "text": [
      "Epoch 323 Mean Reward: -34.356118774414064\n"
     ]
    },
    {
     "name": "stderr",
     "output_type": "stream",
     "text": [
      "100%|██████████| 2000/2000 [02:32<00:00, 13.15it/s]\n"
     ]
    },
    {
     "name": "stdout",
     "output_type": "stream",
     "text": [
      "Epoch 324 Mean Reward: -34.757612968444825\n"
     ]
    },
    {
     "name": "stderr",
     "output_type": "stream",
     "text": [
      "100%|██████████| 2000/2000 [02:30<00:00, 13.31it/s]\n"
     ]
    },
    {
     "name": "stdout",
     "output_type": "stream",
     "text": [
      "Epoch 325 Mean Reward: -36.45879859924317\n"
     ]
    },
    {
     "name": "stderr",
     "output_type": "stream",
     "text": [
      "100%|██████████| 2000/2000 [02:30<00:00, 13.31it/s]\n"
     ]
    },
    {
     "name": "stdout",
     "output_type": "stream",
     "text": [
      "Epoch 326 Mean Reward: -40.02320554351807\n"
     ]
    },
    {
     "name": "stderr",
     "output_type": "stream",
     "text": [
      "100%|██████████| 2000/2000 [02:32<00:00, 13.09it/s]\n"
     ]
    },
    {
     "name": "stdout",
     "output_type": "stream",
     "text": [
      "Epoch 327 Mean Reward: -37.14059035491943\n"
     ]
    },
    {
     "name": "stderr",
     "output_type": "stream",
     "text": [
      "100%|██████████| 2000/2000 [02:33<00:00, 13.05it/s]\n"
     ]
    },
    {
     "name": "stdout",
     "output_type": "stream",
     "text": [
      "Epoch 328 Mean Reward: -35.43164837646484\n"
     ]
    },
    {
     "name": "stderr",
     "output_type": "stream",
     "text": [
      "100%|██████████| 2000/2000 [02:34<00:00, 12.92it/s]\n"
     ]
    },
    {
     "name": "stdout",
     "output_type": "stream",
     "text": [
      "Epoch 329 Mean Reward: -35.10780143737793\n"
     ]
    },
    {
     "name": "stderr",
     "output_type": "stream",
     "text": [
      "100%|██████████| 2000/2000 [02:30<00:00, 13.28it/s]\n"
     ]
    },
    {
     "name": "stdout",
     "output_type": "stream",
     "text": [
      "Epoch 330 Mean Reward: -40.2101840133667\n"
     ]
    },
    {
     "name": "stderr",
     "output_type": "stream",
     "text": [
      "100%|██████████| 2000/2000 [02:32<00:00, 13.11it/s]\n"
     ]
    },
    {
     "name": "stdout",
     "output_type": "stream",
     "text": [
      "Epoch 331 Mean Reward: -38.74173316192627\n"
     ]
    },
    {
     "name": "stderr",
     "output_type": "stream",
     "text": [
      "100%|██████████| 2000/2000 [02:43<00:00, 12.20it/s]\n"
     ]
    },
    {
     "name": "stdout",
     "output_type": "stream",
     "text": [
      "Epoch 332 Mean Reward: -33.514317665100094\n"
     ]
    },
    {
     "name": "stderr",
     "output_type": "stream",
     "text": [
      "100%|██████████| 2000/2000 [02:43<00:00, 12.20it/s]\n"
     ]
    },
    {
     "name": "stdout",
     "output_type": "stream",
     "text": [
      "Epoch 333 Mean Reward: -32.617498512268064\n"
     ]
    },
    {
     "name": "stderr",
     "output_type": "stream",
     "text": [
      "100%|██████████| 2000/2000 [02:42<00:00, 12.33it/s]\n"
     ]
    },
    {
     "name": "stdout",
     "output_type": "stream",
     "text": [
      "Epoch 334 Mean Reward: -32.80471300506592\n"
     ]
    },
    {
     "name": "stderr",
     "output_type": "stream",
     "text": [
      "100%|██████████| 2000/2000 [02:45<00:00, 12.09it/s]\n"
     ]
    },
    {
     "name": "stdout",
     "output_type": "stream",
     "text": [
      "Epoch 335 Mean Reward: -33.94796873474121\n"
     ]
    },
    {
     "name": "stderr",
     "output_type": "stream",
     "text": [
      "100%|██████████| 2000/2000 [02:46<00:00, 12.03it/s]\n"
     ]
    },
    {
     "name": "stdout",
     "output_type": "stream",
     "text": [
      "Epoch 336 Mean Reward: -32.19256338500976\n"
     ]
    },
    {
     "name": "stderr",
     "output_type": "stream",
     "text": [
      "100%|██████████| 2000/2000 [02:45<00:00, 12.11it/s]\n"
     ]
    },
    {
     "name": "stdout",
     "output_type": "stream",
     "text": [
      "Epoch 337 Mean Reward: -29.589170463562013\n"
     ]
    },
    {
     "name": "stderr",
     "output_type": "stream",
     "text": [
      "100%|██████████| 2000/2000 [02:43<00:00, 12.23it/s]\n"
     ]
    },
    {
     "name": "stdout",
     "output_type": "stream",
     "text": [
      "Epoch 338 Mean Reward: -33.53502532196045\n"
     ]
    },
    {
     "name": "stderr",
     "output_type": "stream",
     "text": [
      "100%|██████████| 2000/2000 [02:39<00:00, 12.56it/s]\n"
     ]
    },
    {
     "name": "stdout",
     "output_type": "stream",
     "text": [
      "Epoch 339 Mean Reward: -32.90150458526611\n"
     ]
    },
    {
     "name": "stderr",
     "output_type": "stream",
     "text": [
      "100%|██████████| 2000/2000 [02:41<00:00, 12.37it/s]\n"
     ]
    },
    {
     "name": "stdout",
     "output_type": "stream",
     "text": [
      "Epoch 340 Mean Reward: -33.8305905380249\n",
      "Epoch 340 Model saved to ./checkpoints/deadly_corridor.ckpt\n",
      "Epoch 340 test with depth buffer:\n",
      "Test Episode 1 Reward: -115.89210510253906\n",
      "Test Episode 2 Reward: -112.37985229492188\n",
      "Test Episode 3 Reward: -112.37985229492188\n",
      "Test Episode 4 Reward: -115.95631408691406\n",
      "Test Episode 5 Reward: -60.466033935546875\n",
      "Test Episode 6 Reward: -115.97789001464844\n",
      "Test Episode 7 Reward: -115.955810546875\n",
      "Test Episode 8 Reward: -112.37985229492188\n",
      "Test Episode 9 Reward: -115.99856567382812\n",
      "Test Episode 10 Reward: -74.06425476074219\n",
      "Average Test Reward (with depth buffer:) -105.14505310058594\n",
      "Epoch 340 test without depth buffer:\n",
      "Test Episode 1 Reward: -101.69076538085938\n",
      "Test Episode 2 Reward: -92.24763488769531\n",
      "Test Episode 3 Reward: -48.345703125\n",
      "Test Episode 4 Reward: -105.6875\n",
      "Test Episode 5 Reward: -110.1014404296875\n",
      "Test Episode 6 Reward: -48.345703125\n",
      "Test Episode 7 Reward: -114.36714172363281\n",
      "Test Episode 8 Reward: -112.87808227539062\n",
      "Test Episode 9 Reward: -94.53404235839844\n",
      "Test Episode 10 Reward: -48.345703125\n",
      "Average Test Reward (without depth buffer): -87.65437164306641\n"
     ]
    },
    {
     "name": "stderr",
     "output_type": "stream",
     "text": [
      "100%|██████████| 2000/2000 [02:45<00:00, 12.10it/s]\n"
     ]
    },
    {
     "name": "stdout",
     "output_type": "stream",
     "text": [
      "Epoch 341 Mean Reward: -32.646196754455566\n"
     ]
    },
    {
     "name": "stderr",
     "output_type": "stream",
     "text": [
      "100%|██████████| 2000/2000 [02:48<00:00, 11.88it/s]\n"
     ]
    },
    {
     "name": "stdout",
     "output_type": "stream",
     "text": [
      "Epoch 342 Mean Reward: -27.521873207092284\n"
     ]
    },
    {
     "name": "stderr",
     "output_type": "stream",
     "text": [
      "100%|██████████| 2000/2000 [02:46<00:00, 12.02it/s]\n"
     ]
    },
    {
     "name": "stdout",
     "output_type": "stream",
     "text": [
      "Epoch 343 Mean Reward: -25.53842600250244\n"
     ]
    },
    {
     "name": "stderr",
     "output_type": "stream",
     "text": [
      "100%|██████████| 2000/2000 [02:53<00:00, 11.55it/s]\n"
     ]
    },
    {
     "name": "stdout",
     "output_type": "stream",
     "text": [
      "Epoch 344 Mean Reward: -31.05707511138916\n"
     ]
    },
    {
     "name": "stderr",
     "output_type": "stream",
     "text": [
      "100%|██████████| 2000/2000 [02:49<00:00, 11.78it/s]\n"
     ]
    },
    {
     "name": "stdout",
     "output_type": "stream",
     "text": [
      "Epoch 345 Mean Reward: -30.95993618774414\n"
     ]
    },
    {
     "name": "stderr",
     "output_type": "stream",
     "text": [
      "100%|██████████| 2000/2000 [02:55<00:00, 11.42it/s]\n"
     ]
    },
    {
     "name": "stdout",
     "output_type": "stream",
     "text": [
      "Epoch 346 Mean Reward: -26.693217346191407\n"
     ]
    },
    {
     "name": "stderr",
     "output_type": "stream",
     "text": [
      "100%|██████████| 2000/2000 [02:50<00:00, 11.71it/s]\n"
     ]
    },
    {
     "name": "stdout",
     "output_type": "stream",
     "text": [
      "Epoch 347 Mean Reward: -31.67609061431885\n"
     ]
    },
    {
     "name": "stderr",
     "output_type": "stream",
     "text": [
      "100%|██████████| 2000/2000 [02:52<00:00, 11.59it/s]\n"
     ]
    },
    {
     "name": "stdout",
     "output_type": "stream",
     "text": [
      "Epoch 348 Mean Reward: -24.03287028503418\n"
     ]
    },
    {
     "name": "stderr",
     "output_type": "stream",
     "text": [
      "100%|██████████| 2000/2000 [02:53<00:00, 11.50it/s]\n"
     ]
    },
    {
     "name": "stdout",
     "output_type": "stream",
     "text": [
      "Epoch 349 Mean Reward: -25.976110626220702\n"
     ]
    },
    {
     "name": "stderr",
     "output_type": "stream",
     "text": [
      "100%|██████████| 2000/2000 [02:47<00:00, 11.95it/s]\n"
     ]
    },
    {
     "name": "stdout",
     "output_type": "stream",
     "text": [
      "Epoch 350 Mean Reward: -32.58780606842041\n"
     ]
    },
    {
     "name": "stderr",
     "output_type": "stream",
     "text": [
      "100%|██████████| 2000/2000 [02:54<00:00, 11.44it/s]\n"
     ]
    },
    {
     "name": "stdout",
     "output_type": "stream",
     "text": [
      "Epoch 351 Mean Reward: -24.34611589050293\n"
     ]
    },
    {
     "name": "stderr",
     "output_type": "stream",
     "text": [
      "100%|██████████| 2000/2000 [02:56<00:00, 11.34it/s]\n"
     ]
    },
    {
     "name": "stdout",
     "output_type": "stream",
     "text": [
      "Epoch 352 Mean Reward: -33.11117303466797\n"
     ]
    },
    {
     "name": "stderr",
     "output_type": "stream",
     "text": [
      "100%|██████████| 2000/2000 [02:51<00:00, 11.66it/s]\n"
     ]
    },
    {
     "name": "stdout",
     "output_type": "stream",
     "text": [
      "Epoch 353 Mean Reward: -29.51383708190918\n"
     ]
    },
    {
     "name": "stderr",
     "output_type": "stream",
     "text": [
      "100%|██████████| 2000/2000 [03:00<00:00, 11.11it/s]\n"
     ]
    },
    {
     "name": "stdout",
     "output_type": "stream",
     "text": [
      "Epoch 354 Mean Reward: -24.07830490875244\n"
     ]
    },
    {
     "name": "stderr",
     "output_type": "stream",
     "text": [
      "100%|██████████| 2000/2000 [02:57<00:00, 11.27it/s]\n"
     ]
    },
    {
     "name": "stdout",
     "output_type": "stream",
     "text": [
      "Epoch 355 Mean Reward: -25.522049446105957\n"
     ]
    },
    {
     "name": "stderr",
     "output_type": "stream",
     "text": [
      "100%|██████████| 2000/2000 [02:56<00:00, 11.35it/s]\n"
     ]
    },
    {
     "name": "stdout",
     "output_type": "stream",
     "text": [
      "Epoch 356 Mean Reward: -26.901173751831056\n"
     ]
    },
    {
     "name": "stderr",
     "output_type": "stream",
     "text": [
      "100%|██████████| 2000/2000 [03:05<00:00, 10.81it/s]\n"
     ]
    },
    {
     "name": "stdout",
     "output_type": "stream",
     "text": [
      "Epoch 357 Mean Reward: -23.55707893371582\n"
     ]
    },
    {
     "name": "stderr",
     "output_type": "stream",
     "text": [
      "100%|██████████| 2000/2000 [02:56<00:00, 11.32it/s]\n"
     ]
    },
    {
     "name": "stdout",
     "output_type": "stream",
     "text": [
      "Epoch 358 Mean Reward: -23.541461166381836\n"
     ]
    },
    {
     "name": "stderr",
     "output_type": "stream",
     "text": [
      "100%|██████████| 2000/2000 [03:01<00:00, 11.00it/s]\n"
     ]
    },
    {
     "name": "stdout",
     "output_type": "stream",
     "text": [
      "Epoch 359 Mean Reward: -29.887457374572755\n"
     ]
    },
    {
     "name": "stderr",
     "output_type": "stream",
     "text": [
      "100%|██████████| 2000/2000 [03:00<00:00, 11.11it/s]\n"
     ]
    },
    {
     "name": "stdout",
     "output_type": "stream",
     "text": [
      "Epoch 360 Mean Reward: -26.22022455596924\n",
      "Epoch 360 Model saved to ./checkpoints/deadly_corridor.ckpt\n",
      "Epoch 360 test with depth buffer:\n",
      "Test Episode 1 Reward: -115.99716186523438\n",
      "Test Episode 2 Reward: -115.97740173339844\n",
      "Test Episode 3 Reward: -115.97477722167969\n",
      "Test Episode 4 Reward: -115.97477722167969\n",
      "Test Episode 5 Reward: -86.50796508789062\n",
      "Test Episode 6 Reward: -115.90779113769531\n",
      "Test Episode 7 Reward: -115.91291809082031\n",
      "Test Episode 8 Reward: -89.8646240234375\n",
      "Test Episode 9 Reward: -109.56710815429688\n",
      "Test Episode 10 Reward: -115.97477722167969\n",
      "Average Test Reward (with depth buffer:) -109.76593017578125\n",
      "Epoch 360 test without depth buffer:\n",
      "Test Episode 1 Reward: -95.15676879882812\n",
      "Test Episode 2 Reward: -95.15676879882812\n",
      "Test Episode 3 Reward: -90.66635131835938\n",
      "Test Episode 4 Reward: -92.76126098632812\n",
      "Test Episode 5 Reward: -95.15676879882812\n",
      "Test Episode 6 Reward: -95.15676879882812\n",
      "Test Episode 7 Reward: -95.15676879882812\n",
      "Test Episode 8 Reward: -96.11308288574219\n",
      "Test Episode 9 Reward: -95.15676879882812\n",
      "Test Episode 10 Reward: -95.15676879882812\n",
      "Average Test Reward (without depth buffer): -94.56380767822266\n"
     ]
    },
    {
     "name": "stderr",
     "output_type": "stream",
     "text": [
      "100%|██████████| 2000/2000 [03:02<00:00, 10.94it/s]\n"
     ]
    },
    {
     "name": "stdout",
     "output_type": "stream",
     "text": [
      "Epoch 361 Mean Reward: -27.652457374572755\n"
     ]
    },
    {
     "name": "stderr",
     "output_type": "stream",
     "text": [
      "100%|██████████| 2000/2000 [03:02<00:00, 10.95it/s]\n"
     ]
    },
    {
     "name": "stdout",
     "output_type": "stream",
     "text": [
      "Epoch 362 Mean Reward: -27.230609161376954\n"
     ]
    },
    {
     "name": "stderr",
     "output_type": "stream",
     "text": [
      "100%|██████████| 2000/2000 [02:54<00:00, 11.48it/s]\n"
     ]
    },
    {
     "name": "stdout",
     "output_type": "stream",
     "text": [
      "Epoch 363 Mean Reward: -28.397612228393555\n"
     ]
    },
    {
     "name": "stderr",
     "output_type": "stream",
     "text": [
      "100%|██████████| 2000/2000 [03:02<00:00, 10.99it/s]\n"
     ]
    },
    {
     "name": "stdout",
     "output_type": "stream",
     "text": [
      "Epoch 364 Mean Reward: -24.52871368408203\n"
     ]
    },
    {
     "name": "stderr",
     "output_type": "stream",
     "text": [
      "100%|██████████| 2000/2000 [03:05<00:00, 10.78it/s]\n"
     ]
    },
    {
     "name": "stdout",
     "output_type": "stream",
     "text": [
      "Epoch 365 Mean Reward: -28.24755248260498\n"
     ]
    },
    {
     "name": "stderr",
     "output_type": "stream",
     "text": [
      "100%|██████████| 2000/2000 [03:05<00:00, 10.78it/s]\n"
     ]
    },
    {
     "name": "stdout",
     "output_type": "stream",
     "text": [
      "Epoch 366 Mean Reward: -26.2667820892334\n"
     ]
    },
    {
     "name": "stderr",
     "output_type": "stream",
     "text": [
      "100%|██████████| 2000/2000 [03:13<00:00, 10.31it/s]\n"
     ]
    },
    {
     "name": "stdout",
     "output_type": "stream",
     "text": [
      "Epoch 367 Mean Reward: -21.215468215942384\n"
     ]
    },
    {
     "name": "stderr",
     "output_type": "stream",
     "text": [
      "100%|██████████| 2000/2000 [03:03<00:00, 10.92it/s]\n"
     ]
    },
    {
     "name": "stdout",
     "output_type": "stream",
     "text": [
      "Epoch 368 Mean Reward: -28.277755012512205\n"
     ]
    },
    {
     "name": "stderr",
     "output_type": "stream",
     "text": [
      "100%|██████████| 2000/2000 [03:07<00:00, 10.68it/s]\n"
     ]
    },
    {
     "name": "stdout",
     "output_type": "stream",
     "text": [
      "Epoch 369 Mean Reward: -23.250159339904783\n"
     ]
    },
    {
     "name": "stderr",
     "output_type": "stream",
     "text": [
      "100%|██████████| 2000/2000 [03:11<00:00, 10.42it/s]\n"
     ]
    },
    {
     "name": "stdout",
     "output_type": "stream",
     "text": [
      "Epoch 370 Mean Reward: -19.4954019241333\n"
     ]
    },
    {
     "name": "stderr",
     "output_type": "stream",
     "text": [
      "100%|██████████| 2000/2000 [03:09<00:00, 10.55it/s]\n"
     ]
    },
    {
     "name": "stdout",
     "output_type": "stream",
     "text": [
      "Epoch 371 Mean Reward: -32.40404914855957\n"
     ]
    },
    {
     "name": "stderr",
     "output_type": "stream",
     "text": [
      "100%|██████████| 2000/2000 [03:08<00:00, 10.60it/s]\n"
     ]
    },
    {
     "name": "stdout",
     "output_type": "stream",
     "text": [
      "Epoch 372 Mean Reward: -30.393417800903322\n"
     ]
    },
    {
     "name": "stderr",
     "output_type": "stream",
     "text": [
      "100%|██████████| 2000/2000 [03:20<00:00,  9.99it/s]\n"
     ]
    },
    {
     "name": "stdout",
     "output_type": "stream",
     "text": [
      "Epoch 373 Mean Reward: -31.635911361694337\n"
     ]
    },
    {
     "name": "stderr",
     "output_type": "stream",
     "text": [
      "100%|██████████| 2000/2000 [03:11<00:00, 10.47it/s]\n"
     ]
    },
    {
     "name": "stdout",
     "output_type": "stream",
     "text": [
      "Epoch 374 Mean Reward: -31.45566967010498\n"
     ]
    },
    {
     "name": "stderr",
     "output_type": "stream",
     "text": [
      "100%|██████████| 2000/2000 [03:18<00:00, 10.09it/s]\n"
     ]
    },
    {
     "name": "stdout",
     "output_type": "stream",
     "text": [
      "Epoch 375 Mean Reward: -24.90693359375\n"
     ]
    },
    {
     "name": "stderr",
     "output_type": "stream",
     "text": [
      "100%|██████████| 2000/2000 [03:13<00:00, 10.35it/s]\n"
     ]
    },
    {
     "name": "stdout",
     "output_type": "stream",
     "text": [
      "Epoch 376 Mean Reward: -31.42431406402588\n"
     ]
    },
    {
     "name": "stderr",
     "output_type": "stream",
     "text": [
      "100%|██████████| 2000/2000 [03:13<00:00, 10.36it/s]\n"
     ]
    },
    {
     "name": "stdout",
     "output_type": "stream",
     "text": [
      "Epoch 377 Mean Reward: -24.87888592529297\n"
     ]
    },
    {
     "name": "stderr",
     "output_type": "stream",
     "text": [
      "100%|██████████| 2000/2000 [03:18<00:00, 10.09it/s]\n"
     ]
    },
    {
     "name": "stdout",
     "output_type": "stream",
     "text": [
      "Epoch 378 Mean Reward: -34.30138870239258\n"
     ]
    },
    {
     "name": "stderr",
     "output_type": "stream",
     "text": [
      "100%|██████████| 2000/2000 [03:20<00:00,  9.98it/s]\n"
     ]
    },
    {
     "name": "stdout",
     "output_type": "stream",
     "text": [
      "Epoch 379 Mean Reward: -24.203320220947266\n"
     ]
    },
    {
     "name": "stderr",
     "output_type": "stream",
     "text": [
      "100%|██████████| 2000/2000 [03:13<00:00, 10.34it/s]\n"
     ]
    },
    {
     "name": "stdout",
     "output_type": "stream",
     "text": [
      "Epoch 380 Mean Reward: -26.934408111572267\n",
      "Epoch 380 Model saved to ./checkpoints/deadly_corridor.ckpt\n",
      "Epoch 380 test with depth buffer:\n",
      "Test Episode 1 Reward: -115.97640991210938\n",
      "Test Episode 2 Reward: -115.97640991210938\n",
      "Test Episode 3 Reward: -110.997802734375\n",
      "Test Episode 4 Reward: -115.97640991210938\n",
      "Test Episode 5 Reward: -115.97640991210938\n",
      "Test Episode 6 Reward: -115.97640991210938\n",
      "Test Episode 7 Reward: -109.78236389160156\n",
      "Test Episode 8 Reward: -115.97640991210938\n",
      "Test Episode 9 Reward: -115.96528625488281\n",
      "Test Episode 10 Reward: -115.93206787109375\n",
      "Average Test Reward (with depth buffer:) -114.85359802246094\n",
      "Epoch 380 test without depth buffer:\n",
      "Test Episode 1 Reward: -115.99592590332031\n",
      "Test Episode 2 Reward: -115.99052429199219\n",
      "Test Episode 3 Reward: -111.138916015625\n",
      "Test Episode 4 Reward: -114.28689575195312\n",
      "Test Episode 5 Reward: -111.138916015625\n",
      "Test Episode 6 Reward: -111.138916015625\n",
      "Test Episode 7 Reward: -111.138916015625\n",
      "Test Episode 8 Reward: -111.138916015625\n",
      "Test Episode 9 Reward: -111.138916015625\n",
      "Test Episode 10 Reward: -115.99714660644531\n",
      "Average Test Reward (without depth buffer): -112.9103988647461\n"
     ]
    },
    {
     "name": "stderr",
     "output_type": "stream",
     "text": [
      "100%|██████████| 2000/2000 [03:10<00:00, 10.51it/s]\n"
     ]
    },
    {
     "name": "stdout",
     "output_type": "stream",
     "text": [
      "Epoch 381 Mean Reward: -34.97055963897705\n"
     ]
    },
    {
     "name": "stderr",
     "output_type": "stream",
     "text": [
      "100%|██████████| 2000/2000 [03:22<00:00,  9.86it/s]\n"
     ]
    },
    {
     "name": "stdout",
     "output_type": "stream",
     "text": [
      "Epoch 382 Mean Reward: -31.529389457702635\n"
     ]
    },
    {
     "name": "stderr",
     "output_type": "stream",
     "text": [
      "100%|██████████| 2000/2000 [03:17<00:00, 10.11it/s]\n"
     ]
    },
    {
     "name": "stdout",
     "output_type": "stream",
     "text": [
      "Epoch 383 Mean Reward: -29.611512229919434\n"
     ]
    },
    {
     "name": "stderr",
     "output_type": "stream",
     "text": [
      "100%|██████████| 2000/2000 [03:20<00:00, 10.00it/s]\n"
     ]
    },
    {
     "name": "stdout",
     "output_type": "stream",
     "text": [
      "Epoch 384 Mean Reward: -32.24065099334717\n"
     ]
    },
    {
     "name": "stderr",
     "output_type": "stream",
     "text": [
      "100%|██████████| 2000/2000 [03:23<00:00,  9.81it/s]\n"
     ]
    },
    {
     "name": "stdout",
     "output_type": "stream",
     "text": [
      "Epoch 385 Mean Reward: -27.084148231506347\n"
     ]
    },
    {
     "name": "stderr",
     "output_type": "stream",
     "text": [
      "100%|██████████| 2000/2000 [03:19<00:00, 10.02it/s]\n"
     ]
    },
    {
     "name": "stdout",
     "output_type": "stream",
     "text": [
      "Epoch 386 Mean Reward: -36.192392738342285\n"
     ]
    },
    {
     "name": "stderr",
     "output_type": "stream",
     "text": [
      "100%|██████████| 2000/2000 [03:14<00:00, 10.26it/s]\n"
     ]
    },
    {
     "name": "stdout",
     "output_type": "stream",
     "text": [
      "Epoch 387 Mean Reward: -32.00995294189453\n"
     ]
    },
    {
     "name": "stderr",
     "output_type": "stream",
     "text": [
      "100%|██████████| 2000/2000 [03:18<00:00, 10.09it/s]\n"
     ]
    },
    {
     "name": "stdout",
     "output_type": "stream",
     "text": [
      "Epoch 388 Mean Reward: -31.680898643493652\n"
     ]
    },
    {
     "name": "stderr",
     "output_type": "stream",
     "text": [
      "100%|██████████| 2000/2000 [03:19<00:00, 10.03it/s]\n"
     ]
    },
    {
     "name": "stdout",
     "output_type": "stream",
     "text": [
      "Epoch 389 Mean Reward: -29.58292876434326\n"
     ]
    },
    {
     "name": "stderr",
     "output_type": "stream",
     "text": [
      "100%|██████████| 2000/2000 [03:24<00:00,  9.76it/s]\n"
     ]
    },
    {
     "name": "stdout",
     "output_type": "stream",
     "text": [
      "Epoch 390 Mean Reward: -23.88666535949707\n"
     ]
    },
    {
     "name": "stderr",
     "output_type": "stream",
     "text": [
      "100%|██████████| 2000/2000 [03:19<00:00, 10.03it/s]\n"
     ]
    },
    {
     "name": "stdout",
     "output_type": "stream",
     "text": [
      "Epoch 391 Mean Reward: -35.01193212890625\n"
     ]
    },
    {
     "name": "stderr",
     "output_type": "stream",
     "text": [
      "100%|██████████| 2000/2000 [03:20<00:00,  9.99it/s]\n"
     ]
    },
    {
     "name": "stdout",
     "output_type": "stream",
     "text": [
      "Epoch 392 Mean Reward: -37.237622581481936\n"
     ]
    },
    {
     "name": "stderr",
     "output_type": "stream",
     "text": [
      "100%|██████████| 2000/2000 [03:22<00:00,  9.89it/s]\n"
     ]
    },
    {
     "name": "stdout",
     "output_type": "stream",
     "text": [
      "Epoch 393 Mean Reward: -38.45503940582275\n"
     ]
    },
    {
     "name": "stderr",
     "output_type": "stream",
     "text": [
      "100%|██████████| 2000/2000 [03:17<00:00, 10.11it/s]\n"
     ]
    },
    {
     "name": "stdout",
     "output_type": "stream",
     "text": [
      "Epoch 394 Mean Reward: -34.905222595214845\n"
     ]
    },
    {
     "name": "stderr",
     "output_type": "stream",
     "text": [
      "100%|██████████| 2000/2000 [03:28<00:00,  9.58it/s]\n"
     ]
    },
    {
     "name": "stdout",
     "output_type": "stream",
     "text": [
      "Epoch 395 Mean Reward: -32.51854473114014\n"
     ]
    },
    {
     "name": "stderr",
     "output_type": "stream",
     "text": [
      "100%|██████████| 2000/2000 [03:18<00:00, 10.08it/s]\n"
     ]
    },
    {
     "name": "stdout",
     "output_type": "stream",
     "text": [
      "Epoch 396 Mean Reward: -32.99785640716553\n"
     ]
    },
    {
     "name": "stderr",
     "output_type": "stream",
     "text": [
      "100%|██████████| 2000/2000 [03:22<00:00,  9.86it/s]\n"
     ]
    },
    {
     "name": "stdout",
     "output_type": "stream",
     "text": [
      "Epoch 397 Mean Reward: -33.31618029785156\n"
     ]
    },
    {
     "name": "stderr",
     "output_type": "stream",
     "text": [
      "100%|██████████| 2000/2000 [03:22<00:00,  9.86it/s]\n"
     ]
    },
    {
     "name": "stdout",
     "output_type": "stream",
     "text": [
      "Epoch 398 Mean Reward: -37.62375547790527\n"
     ]
    },
    {
     "name": "stderr",
     "output_type": "stream",
     "text": [
      "100%|██████████| 2000/2000 [03:30<00:00,  9.49it/s]\n"
     ]
    },
    {
     "name": "stdout",
     "output_type": "stream",
     "text": [
      "Epoch 399 Mean Reward: -35.34025357818604\n"
     ]
    },
    {
     "name": "stderr",
     "output_type": "stream",
     "text": [
      "100%|██████████| 2000/2000 [03:24<00:00,  9.78it/s]\n"
     ]
    },
    {
     "name": "stdout",
     "output_type": "stream",
     "text": [
      "Epoch 400 Mean Reward: -38.06660108184814\n",
      "Epoch 400 Model saved to ./checkpoints/deadly_corridor.ckpt\n",
      "Epoch 400 test with depth buffer:\n",
      "Test Episode 1 Reward: -102.6314697265625\n",
      "Test Episode 2 Reward: -115.99932861328125\n",
      "Test Episode 3 Reward: -115.99653625488281\n",
      "Test Episode 4 Reward: -115.9979248046875\n",
      "Test Episode 5 Reward: -109.87423706054688\n",
      "Test Episode 6 Reward: -109.87423706054688\n",
      "Test Episode 7 Reward: -109.87423706054688\n",
      "Test Episode 8 Reward: -109.87423706054688\n",
      "Test Episode 9 Reward: -109.87423706054688\n",
      "Test Episode 10 Reward: -109.87423706054688\n",
      "Average Test Reward (with depth buffer:) -110.98706817626953\n",
      "Epoch 400 test without depth buffer:\n",
      "Test Episode 1 Reward: -115.99089050292969\n",
      "Test Episode 2 Reward: -115.9862060546875\n",
      "Test Episode 3 Reward: -115.99729919433594\n",
      "Test Episode 4 Reward: -115.99729919433594\n",
      "Test Episode 5 Reward: -115.97721862792969\n",
      "Test Episode 6 Reward: -115.97633361816406\n",
      "Test Episode 7 Reward: -115.99729919433594\n",
      "Test Episode 8 Reward: -115.99729919433594\n",
      "Test Episode 9 Reward: -115.92570495605469\n",
      "Test Episode 10 Reward: -115.99729919433594\n",
      "Average Test Reward (without depth buffer): -115.98428497314453\n"
     ]
    },
    {
     "name": "stderr",
     "output_type": "stream",
     "text": [
      "100%|██████████| 2000/2000 [03:14<00:00, 10.28it/s]\n"
     ]
    },
    {
     "name": "stdout",
     "output_type": "stream",
     "text": [
      "Epoch 401 Mean Reward: -38.43157106781006\n"
     ]
    },
    {
     "name": "stderr",
     "output_type": "stream",
     "text": [
      "100%|██████████| 2000/2000 [03:27<00:00,  9.63it/s]\n"
     ]
    },
    {
     "name": "stdout",
     "output_type": "stream",
     "text": [
      "Epoch 402 Mean Reward: -31.64501976776123\n"
     ]
    },
    {
     "name": "stderr",
     "output_type": "stream",
     "text": [
      "100%|██████████| 2000/2000 [03:38<00:00,  9.15it/s]\n"
     ]
    },
    {
     "name": "stdout",
     "output_type": "stream",
     "text": [
      "Epoch 403 Mean Reward: -36.47940184020996\n"
     ]
    },
    {
     "name": "stderr",
     "output_type": "stream",
     "text": [
      "100%|██████████| 2000/2000 [03:31<00:00,  9.46it/s]\n"
     ]
    },
    {
     "name": "stdout",
     "output_type": "stream",
     "text": [
      "Epoch 404 Mean Reward: -30.82661959075928\n"
     ]
    },
    {
     "name": "stderr",
     "output_type": "stream",
     "text": [
      "100%|██████████| 2000/2000 [03:29<00:00,  9.56it/s]\n"
     ]
    },
    {
     "name": "stdout",
     "output_type": "stream",
     "text": [
      "Epoch 405 Mean Reward: -35.295952323913575\n"
     ]
    },
    {
     "name": "stderr",
     "output_type": "stream",
     "text": [
      "100%|██████████| 2000/2000 [03:31<00:00,  9.45it/s]\n"
     ]
    },
    {
     "name": "stdout",
     "output_type": "stream",
     "text": [
      "Epoch 406 Mean Reward: -34.88125381469727\n"
     ]
    },
    {
     "name": "stderr",
     "output_type": "stream",
     "text": [
      "100%|██████████| 2000/2000 [03:41<00:00,  9.03it/s]\n"
     ]
    },
    {
     "name": "stdout",
     "output_type": "stream",
     "text": [
      "Epoch 407 Mean Reward: -36.52744918060303\n"
     ]
    },
    {
     "name": "stderr",
     "output_type": "stream",
     "text": [
      "100%|██████████| 2000/2000 [03:31<00:00,  9.46it/s]\n"
     ]
    },
    {
     "name": "stdout",
     "output_type": "stream",
     "text": [
      "Epoch 408 Mean Reward: -31.36520429992676\n"
     ]
    },
    {
     "name": "stderr",
     "output_type": "stream",
     "text": [
      "100%|██████████| 2000/2000 [03:29<00:00,  9.55it/s]\n"
     ]
    },
    {
     "name": "stdout",
     "output_type": "stream",
     "text": [
      "Epoch 409 Mean Reward: -33.25043767547607\n"
     ]
    },
    {
     "name": "stderr",
     "output_type": "stream",
     "text": [
      "100%|██████████| 2000/2000 [03:32<00:00,  9.39it/s]\n"
     ]
    },
    {
     "name": "stdout",
     "output_type": "stream",
     "text": [
      "Epoch 410 Mean Reward: -34.33245909118652\n"
     ]
    },
    {
     "name": "stderr",
     "output_type": "stream",
     "text": [
      "100%|██████████| 2000/2000 [03:22<00:00,  9.88it/s]\n"
     ]
    },
    {
     "name": "stdout",
     "output_type": "stream",
     "text": [
      "Epoch 411 Mean Reward: -37.656940505981446\n"
     ]
    },
    {
     "name": "stderr",
     "output_type": "stream",
     "text": [
      "100%|██████████| 2000/2000 [03:26<00:00,  9.70it/s]\n"
     ]
    },
    {
     "name": "stdout",
     "output_type": "stream",
     "text": [
      "Epoch 412 Mean Reward: -38.57378840637207\n"
     ]
    },
    {
     "name": "stderr",
     "output_type": "stream",
     "text": [
      "100%|██████████| 2000/2000 [03:32<00:00,  9.41it/s]\n"
     ]
    },
    {
     "name": "stdout",
     "output_type": "stream",
     "text": [
      "Epoch 413 Mean Reward: -39.68615838623047\n"
     ]
    },
    {
     "name": "stderr",
     "output_type": "stream",
     "text": [
      "100%|██████████| 2000/2000 [03:26<00:00,  9.68it/s]\n"
     ]
    },
    {
     "name": "stdout",
     "output_type": "stream",
     "text": [
      "Epoch 414 Mean Reward: -37.88016465759277\n"
     ]
    },
    {
     "name": "stderr",
     "output_type": "stream",
     "text": [
      "100%|██████████| 2000/2000 [03:32<00:00,  9.40it/s]\n"
     ]
    },
    {
     "name": "stdout",
     "output_type": "stream",
     "text": [
      "Epoch 415 Mean Reward: -38.1417692565918\n"
     ]
    },
    {
     "name": "stderr",
     "output_type": "stream",
     "text": [
      "100%|██████████| 2000/2000 [03:37<00:00,  9.21it/s]\n"
     ]
    },
    {
     "name": "stdout",
     "output_type": "stream",
     "text": [
      "Epoch 416 Mean Reward: -32.19286315155029\n"
     ]
    },
    {
     "name": "stderr",
     "output_type": "stream",
     "text": [
      "100%|██████████| 2000/2000 [03:32<00:00,  9.41it/s]\n"
     ]
    },
    {
     "name": "stdout",
     "output_type": "stream",
     "text": [
      "Epoch 417 Mean Reward: -41.36688726043701\n"
     ]
    },
    {
     "name": "stderr",
     "output_type": "stream",
     "text": [
      "100%|██████████| 2000/2000 [03:20<00:00,  9.97it/s]\n"
     ]
    },
    {
     "name": "stdout",
     "output_type": "stream",
     "text": [
      "Epoch 418 Mean Reward: -35.29239236450195\n"
     ]
    },
    {
     "name": "stderr",
     "output_type": "stream",
     "text": [
      "100%|██████████| 2000/2000 [03:42<00:00,  9.00it/s]\n"
     ]
    },
    {
     "name": "stdout",
     "output_type": "stream",
     "text": [
      "Epoch 419 Mean Reward: -31.65098236846924\n"
     ]
    },
    {
     "name": "stderr",
     "output_type": "stream",
     "text": [
      "100%|██████████| 2000/2000 [03:39<00:00,  9.11it/s]\n"
     ]
    },
    {
     "name": "stdout",
     "output_type": "stream",
     "text": [
      "Epoch 420 Mean Reward: -31.17984655761719\n",
      "Epoch 420 Model saved to ./checkpoints/deadly_corridor.ckpt\n",
      "Epoch 420 test with depth buffer:\n",
      "Test Episode 1 Reward: -108.16288757324219\n",
      "Test Episode 2 Reward: 87.38067626953125\n",
      "Test Episode 3 Reward: -115.99713134765625\n",
      "Test Episode 4 Reward: -115.99713134765625\n",
      "Test Episode 5 Reward: -115.97563171386719\n",
      "Test Episode 6 Reward: -115.97563171386719\n",
      "Test Episode 7 Reward: -115.99935913085938\n",
      "Test Episode 8 Reward: -115.97563171386719\n",
      "Test Episode 9 Reward: -115.97563171386719\n",
      "Test Episode 10 Reward: -115.97563171386719\n",
      "Average Test Reward (with depth buffer:) -94.86539916992187\n",
      "Epoch 420 test without depth buffer:\n",
      "Test Episode 1 Reward: -115.99073791503906\n",
      "Test Episode 2 Reward: -115.98709106445312\n",
      "Test Episode 3 Reward: -104.62141418457031\n",
      "Test Episode 4 Reward: -115.98019409179688\n",
      "Test Episode 5 Reward: -104.62141418457031\n",
      "Test Episode 6 Reward: -104.62141418457031\n",
      "Test Episode 7 Reward: -115.93348693847656\n",
      "Test Episode 8 Reward: -104.62141418457031\n",
      "Test Episode 9 Reward: -104.62141418457031\n",
      "Test Episode 10 Reward: -104.62141418457031\n",
      "Average Test Reward (without depth buffer): -109.16199951171875\n"
     ]
    },
    {
     "name": "stderr",
     "output_type": "stream",
     "text": [
      "100%|██████████| 2000/2000 [03:46<00:00,  8.83it/s]\n"
     ]
    },
    {
     "name": "stdout",
     "output_type": "stream",
     "text": [
      "Epoch 421 Mean Reward: -43.9837864151001\n"
     ]
    },
    {
     "name": "stderr",
     "output_type": "stream",
     "text": [
      "100%|██████████| 2000/2000 [03:28<00:00,  9.61it/s]\n"
     ]
    },
    {
     "name": "stdout",
     "output_type": "stream",
     "text": [
      "Epoch 422 Mean Reward: -38.7937311706543\n"
     ]
    },
    {
     "name": "stderr",
     "output_type": "stream",
     "text": [
      "100%|██████████| 2000/2000 [03:31<00:00,  9.45it/s]\n"
     ]
    },
    {
     "name": "stdout",
     "output_type": "stream",
     "text": [
      "Epoch 423 Mean Reward: -32.879744972229005\n"
     ]
    },
    {
     "name": "stderr",
     "output_type": "stream",
     "text": [
      "100%|██████████| 2000/2000 [03:36<00:00,  9.22it/s]\n"
     ]
    },
    {
     "name": "stdout",
     "output_type": "stream",
     "text": [
      "Epoch 424 Mean Reward: -36.45558522796631\n"
     ]
    },
    {
     "name": "stderr",
     "output_type": "stream",
     "text": [
      "100%|██████████| 2000/2000 [03:32<00:00,  9.39it/s]\n"
     ]
    },
    {
     "name": "stdout",
     "output_type": "stream",
     "text": [
      "Epoch 425 Mean Reward: -39.039396530151365\n"
     ]
    },
    {
     "name": "stderr",
     "output_type": "stream",
     "text": [
      "100%|██████████| 2000/2000 [03:28<00:00,  9.60it/s]\n"
     ]
    },
    {
     "name": "stdout",
     "output_type": "stream",
     "text": [
      "Epoch 426 Mean Reward: -41.952655921936035\n"
     ]
    },
    {
     "name": "stderr",
     "output_type": "stream",
     "text": [
      "100%|██████████| 2000/2000 [03:29<00:00,  9.53it/s]\n"
     ]
    },
    {
     "name": "stdout",
     "output_type": "stream",
     "text": [
      "Epoch 427 Mean Reward: -40.636328071594235\n"
     ]
    },
    {
     "name": "stderr",
     "output_type": "stream",
     "text": [
      "100%|██████████| 2000/2000 [03:26<00:00,  9.69it/s]\n"
     ]
    },
    {
     "name": "stdout",
     "output_type": "stream",
     "text": [
      "Epoch 428 Mean Reward: -41.2952410736084\n"
     ]
    },
    {
     "name": "stderr",
     "output_type": "stream",
     "text": [
      "100%|██████████| 2000/2000 [03:33<00:00,  9.35it/s]\n"
     ]
    },
    {
     "name": "stdout",
     "output_type": "stream",
     "text": [
      "Epoch 429 Mean Reward: -33.86927709197998\n"
     ]
    },
    {
     "name": "stderr",
     "output_type": "stream",
     "text": [
      "100%|██████████| 2000/2000 [03:35<00:00,  9.27it/s]\n"
     ]
    },
    {
     "name": "stdout",
     "output_type": "stream",
     "text": [
      "Epoch 430 Mean Reward: -34.98720901489258\n"
     ]
    },
    {
     "name": "stderr",
     "output_type": "stream",
     "text": [
      "100%|██████████| 2000/2000 [03:30<00:00,  9.52it/s]\n"
     ]
    },
    {
     "name": "stdout",
     "output_type": "stream",
     "text": [
      "Epoch 431 Mean Reward: -33.95327301025391\n"
     ]
    },
    {
     "name": "stderr",
     "output_type": "stream",
     "text": [
      "100%|██████████| 2000/2000 [03:33<00:00,  9.38it/s]\n"
     ]
    },
    {
     "name": "stdout",
     "output_type": "stream",
     "text": [
      "Epoch 432 Mean Reward: -40.20089447784424\n"
     ]
    },
    {
     "name": "stderr",
     "output_type": "stream",
     "text": [
      "100%|██████████| 2000/2000 [03:25<00:00,  9.71it/s]\n"
     ]
    },
    {
     "name": "stdout",
     "output_type": "stream",
     "text": [
      "Epoch 433 Mean Reward: -38.46532740020752\n"
     ]
    },
    {
     "name": "stderr",
     "output_type": "stream",
     "text": [
      "100%|██████████| 2000/2000 [03:27<00:00,  9.63it/s]\n"
     ]
    },
    {
     "name": "stdout",
     "output_type": "stream",
     "text": [
      "Epoch 434 Mean Reward: -31.819330421447752\n"
     ]
    },
    {
     "name": "stderr",
     "output_type": "stream",
     "text": [
      "100%|██████████| 2000/2000 [03:30<00:00,  9.51it/s]\n"
     ]
    },
    {
     "name": "stdout",
     "output_type": "stream",
     "text": [
      "Epoch 435 Mean Reward: -36.428234924316406\n"
     ]
    },
    {
     "name": "stderr",
     "output_type": "stream",
     "text": [
      "100%|██████████| 2000/2000 [03:35<00:00,  9.30it/s]\n"
     ]
    },
    {
     "name": "stdout",
     "output_type": "stream",
     "text": [
      "Epoch 436 Mean Reward: -31.085716674804686\n"
     ]
    },
    {
     "name": "stderr",
     "output_type": "stream",
     "text": [
      "100%|██████████| 2000/2000 [03:38<00:00,  9.17it/s]\n"
     ]
    },
    {
     "name": "stdout",
     "output_type": "stream",
     "text": [
      "Epoch 437 Mean Reward: -27.56602680206299\n"
     ]
    },
    {
     "name": "stderr",
     "output_type": "stream",
     "text": [
      "100%|██████████| 2000/2000 [03:37<00:00,  9.19it/s]\n"
     ]
    },
    {
     "name": "stdout",
     "output_type": "stream",
     "text": [
      "Epoch 438 Mean Reward: -26.846944564819335\n"
     ]
    },
    {
     "name": "stderr",
     "output_type": "stream",
     "text": [
      "100%|██████████| 2000/2000 [03:33<00:00,  9.39it/s]\n"
     ]
    },
    {
     "name": "stdout",
     "output_type": "stream",
     "text": [
      "Epoch 439 Mean Reward: -28.288770011901857\n"
     ]
    },
    {
     "name": "stderr",
     "output_type": "stream",
     "text": [
      "100%|██████████| 2000/2000 [03:42<00:00,  8.98it/s]\n"
     ]
    },
    {
     "name": "stdout",
     "output_type": "stream",
     "text": [
      "Epoch 440 Mean Reward: -40.65008977508545\n",
      "Epoch 440 Model saved to ./checkpoints/deadly_corridor.ckpt\n",
      "Epoch 440 test with depth buffer:\n",
      "Test Episode 1 Reward: -62.182708740234375\n",
      "Test Episode 2 Reward: -86.7100830078125\n",
      "Test Episode 3 Reward: -115.99943542480469\n",
      "Test Episode 4 Reward: -62.182708740234375\n",
      "Test Episode 5 Reward: -102.49546813964844\n",
      "Test Episode 6 Reward: -53.44017028808594\n",
      "Test Episode 7 Reward: -62.182708740234375\n",
      "Test Episode 8 Reward: -25.3310546875\n",
      "Test Episode 9 Reward: -62.182708740234375\n",
      "Test Episode 10 Reward: -62.182708740234375\n",
      "Average Test Reward (with depth buffer:) -69.48897552490234\n",
      "Epoch 440 test without depth buffer:\n",
      "Test Episode 1 Reward: -104.77995300292969\n",
      "Test Episode 2 Reward: -102.58537292480469\n",
      "Test Episode 3 Reward: -104.77995300292969\n",
      "Test Episode 4 Reward: -72.48788452148438\n",
      "Test Episode 5 Reward: -114.0947265625\n",
      "Test Episode 6 Reward: -82.07557678222656\n",
      "Test Episode 7 Reward: -59.52455139160156\n",
      "Test Episode 8 Reward: -104.77995300292969\n",
      "Test Episode 9 Reward: -115.991943359375\n",
      "Test Episode 10 Reward: -110.24876403808594\n",
      "Average Test Reward (without depth buffer): -97.13486785888672\n"
     ]
    },
    {
     "name": "stderr",
     "output_type": "stream",
     "text": [
      "100%|██████████| 2000/2000 [03:30<00:00,  9.51it/s]\n"
     ]
    },
    {
     "name": "stdout",
     "output_type": "stream",
     "text": [
      "Epoch 441 Mean Reward: -33.80430165863037\n"
     ]
    },
    {
     "name": "stderr",
     "output_type": "stream",
     "text": [
      "100%|██████████| 2000/2000 [03:41<00:00,  9.04it/s]\n"
     ]
    },
    {
     "name": "stdout",
     "output_type": "stream",
     "text": [
      "Epoch 442 Mean Reward: -33.677018318176266\n"
     ]
    },
    {
     "name": "stderr",
     "output_type": "stream",
     "text": [
      "100%|██████████| 2000/2000 [04:00<00:00,  8.33it/s]\n"
     ]
    },
    {
     "name": "stdout",
     "output_type": "stream",
     "text": [
      "Epoch 443 Mean Reward: -38.25958854675293\n"
     ]
    },
    {
     "name": "stderr",
     "output_type": "stream",
     "text": [
      "100%|██████████| 2000/2000 [03:41<00:00,  9.02it/s]\n"
     ]
    },
    {
     "name": "stdout",
     "output_type": "stream",
     "text": [
      "Epoch 444 Mean Reward: -35.957056358337404\n"
     ]
    },
    {
     "name": "stderr",
     "output_type": "stream",
     "text": [
      "100%|██████████| 2000/2000 [03:34<00:00,  9.30it/s]\n"
     ]
    },
    {
     "name": "stdout",
     "output_type": "stream",
     "text": [
      "Epoch 445 Mean Reward: -30.42596706390381\n"
     ]
    },
    {
     "name": "stderr",
     "output_type": "stream",
     "text": [
      "100%|██████████| 2000/2000 [03:34<00:00,  9.30it/s]\n"
     ]
    },
    {
     "name": "stdout",
     "output_type": "stream",
     "text": [
      "Epoch 446 Mean Reward: -32.598663864135744\n"
     ]
    },
    {
     "name": "stderr",
     "output_type": "stream",
     "text": [
      "100%|██████████| 2000/2000 [04:06<00:00,  8.13it/s]\n"
     ]
    },
    {
     "name": "stdout",
     "output_type": "stream",
     "text": [
      "Epoch 447 Mean Reward: -29.21130947113037\n"
     ]
    },
    {
     "name": "stderr",
     "output_type": "stream",
     "text": [
      "100%|██████████| 2000/2000 [04:01<00:00,  8.28it/s]\n"
     ]
    },
    {
     "name": "stdout",
     "output_type": "stream",
     "text": [
      "Epoch 448 Mean Reward: -26.97224927520752\n"
     ]
    },
    {
     "name": "stderr",
     "output_type": "stream",
     "text": [
      "100%|██████████| 2000/2000 [03:37<00:00,  9.21it/s]\n"
     ]
    },
    {
     "name": "stdout",
     "output_type": "stream",
     "text": [
      "Epoch 449 Mean Reward: -31.135830894470214\n"
     ]
    },
    {
     "name": "stderr",
     "output_type": "stream",
     "text": [
      "100%|██████████| 2000/2000 [03:40<00:00,  9.06it/s]\n"
     ]
    },
    {
     "name": "stdout",
     "output_type": "stream",
     "text": [
      "Epoch 450 Mean Reward: -30.322738319396972\n"
     ]
    },
    {
     "name": "stderr",
     "output_type": "stream",
     "text": [
      "100%|██████████| 2000/2000 [03:30<00:00,  9.50it/s]\n"
     ]
    },
    {
     "name": "stdout",
     "output_type": "stream",
     "text": [
      "Epoch 451 Mean Reward: -41.94399678039551\n"
     ]
    },
    {
     "name": "stderr",
     "output_type": "stream",
     "text": [
      "100%|██████████| 2000/2000 [03:35<00:00,  9.30it/s]\n"
     ]
    },
    {
     "name": "stdout",
     "output_type": "stream",
     "text": [
      "Epoch 452 Mean Reward: -37.93806616210937\n"
     ]
    },
    {
     "name": "stderr",
     "output_type": "stream",
     "text": [
      "100%|██████████| 2000/2000 [03:39<00:00,  9.10it/s]\n"
     ]
    },
    {
     "name": "stdout",
     "output_type": "stream",
     "text": [
      "Epoch 453 Mean Reward: -37.07570001220703\n"
     ]
    },
    {
     "name": "stderr",
     "output_type": "stream",
     "text": [
      "100%|██████████| 2000/2000 [03:38<00:00,  9.17it/s]\n"
     ]
    },
    {
     "name": "stdout",
     "output_type": "stream",
     "text": [
      "Epoch 454 Mean Reward: -39.94145267486572\n"
     ]
    },
    {
     "name": "stderr",
     "output_type": "stream",
     "text": [
      "100%|██████████| 2000/2000 [03:33<00:00,  9.36it/s]\n"
     ]
    },
    {
     "name": "stdout",
     "output_type": "stream",
     "text": [
      "Epoch 455 Mean Reward: -35.368869300842285\n"
     ]
    },
    {
     "name": "stderr",
     "output_type": "stream",
     "text": [
      "100%|██████████| 2000/2000 [03:47<00:00,  8.79it/s]\n"
     ]
    },
    {
     "name": "stdout",
     "output_type": "stream",
     "text": [
      "Epoch 456 Mean Reward: -39.94254058074951\n"
     ]
    },
    {
     "name": "stderr",
     "output_type": "stream",
     "text": [
      "100%|██████████| 2000/2000 [03:32<00:00,  9.42it/s]\n"
     ]
    },
    {
     "name": "stdout",
     "output_type": "stream",
     "text": [
      "Epoch 457 Mean Reward: -41.813249565124515\n"
     ]
    },
    {
     "name": "stderr",
     "output_type": "stream",
     "text": [
      "100%|██████████| 2000/2000 [03:39<00:00,  9.10it/s]\n"
     ]
    },
    {
     "name": "stdout",
     "output_type": "stream",
     "text": [
      "Epoch 458 Mean Reward: -34.074758781433104\n"
     ]
    },
    {
     "name": "stderr",
     "output_type": "stream",
     "text": [
      "100%|██████████| 2000/2000 [03:41<00:00,  9.02it/s]\n"
     ]
    },
    {
     "name": "stdout",
     "output_type": "stream",
     "text": [
      "Epoch 459 Mean Reward: -33.29758042907715\n"
     ]
    },
    {
     "name": "stderr",
     "output_type": "stream",
     "text": [
      "100%|██████████| 2000/2000 [03:51<00:00,  8.63it/s]\n"
     ]
    },
    {
     "name": "stdout",
     "output_type": "stream",
     "text": [
      "Epoch 460 Mean Reward: -37.68725361633301\n",
      "Epoch 460 Model saved to ./checkpoints/deadly_corridor.ckpt\n",
      "Epoch 460 test with depth buffer:\n",
      "Test Episode 1 Reward: -113.73068237304688\n",
      "Test Episode 2 Reward: -113.73068237304688\n",
      "Test Episode 3 Reward: -115.9979248046875\n",
      "Test Episode 4 Reward: -115.99856567382812\n",
      "Test Episode 5 Reward: -115.99752807617188\n",
      "Test Episode 6 Reward: -113.73068237304688\n",
      "Test Episode 7 Reward: -115.99856567382812\n",
      "Test Episode 8 Reward: -113.73068237304688\n",
      "Test Episode 9 Reward: -115.90237426757812\n",
      "Test Episode 10 Reward: -113.73068237304688\n",
      "Average Test Reward (with depth buffer:) -114.8548370361328\n",
      "Epoch 460 test without depth buffer:\n",
      "Test Episode 1 Reward: -108.64530944824219\n",
      "Test Episode 2 Reward: 4.618927001953125\n",
      "Test Episode 3 Reward: -108.64530944824219\n",
      "Test Episode 4 Reward: -66.6949462890625\n",
      "Test Episode 5 Reward: -108.64530944824219\n",
      "Test Episode 6 Reward: -115.88919067382812\n",
      "Test Episode 7 Reward: -108.64530944824219\n",
      "Test Episode 8 Reward: -79.98838806152344\n",
      "Test Episode 9 Reward: -108.64530944824219\n",
      "Test Episode 10 Reward: -108.64530944824219\n",
      "Average Test Reward (without depth buffer): -90.9825454711914\n"
     ]
    },
    {
     "name": "stderr",
     "output_type": "stream",
     "text": [
      "100%|██████████| 2000/2000 [04:13<00:00,  7.89it/s]\n"
     ]
    },
    {
     "name": "stdout",
     "output_type": "stream",
     "text": [
      "Epoch 461 Mean Reward: -31.523199371337892\n"
     ]
    },
    {
     "name": "stderr",
     "output_type": "stream",
     "text": [
      "100%|██████████| 2000/2000 [04:12<00:00,  7.92it/s]\n"
     ]
    },
    {
     "name": "stdout",
     "output_type": "stream",
     "text": [
      "Epoch 462 Mean Reward: -36.08829192352295\n"
     ]
    },
    {
     "name": "stderr",
     "output_type": "stream",
     "text": [
      "100%|██████████| 2000/2000 [04:04<00:00,  8.19it/s]\n"
     ]
    },
    {
     "name": "stdout",
     "output_type": "stream",
     "text": [
      "Epoch 463 Mean Reward: -34.44896685028076\n"
     ]
    },
    {
     "name": "stderr",
     "output_type": "stream",
     "text": [
      "100%|██████████| 2000/2000 [04:05<00:00,  8.16it/s]\n"
     ]
    },
    {
     "name": "stdout",
     "output_type": "stream",
     "text": [
      "Epoch 464 Mean Reward: -34.892443336486814\n"
     ]
    },
    {
     "name": "stderr",
     "output_type": "stream",
     "text": [
      "100%|██████████| 2000/2000 [04:06<00:00,  8.12it/s]\n"
     ]
    },
    {
     "name": "stdout",
     "output_type": "stream",
     "text": [
      "Epoch 465 Mean Reward: -34.694820442199706\n"
     ]
    },
    {
     "name": "stderr",
     "output_type": "stream",
     "text": [
      "100%|██████████| 2000/2000 [04:06<00:00,  8.11it/s]\n"
     ]
    },
    {
     "name": "stdout",
     "output_type": "stream",
     "text": [
      "Epoch 466 Mean Reward: -36.991110374450685\n"
     ]
    },
    {
     "name": "stderr",
     "output_type": "stream",
     "text": [
      "100%|██████████| 2000/2000 [04:10<00:00,  7.98it/s]\n"
     ]
    },
    {
     "name": "stdout",
     "output_type": "stream",
     "text": [
      "Epoch 467 Mean Reward: -33.80912889099121\n"
     ]
    },
    {
     "name": "stderr",
     "output_type": "stream",
     "text": [
      "100%|██████████| 2000/2000 [04:13<00:00,  7.88it/s]\n"
     ]
    },
    {
     "name": "stdout",
     "output_type": "stream",
     "text": [
      "Epoch 468 Mean Reward: -32.13774709320068\n"
     ]
    },
    {
     "name": "stderr",
     "output_type": "stream",
     "text": [
      "100%|██████████| 2000/2000 [04:03<00:00,  8.20it/s]\n"
     ]
    },
    {
     "name": "stdout",
     "output_type": "stream",
     "text": [
      "Epoch 469 Mean Reward: -31.254660972595214\n"
     ]
    },
    {
     "name": "stderr",
     "output_type": "stream",
     "text": [
      "100%|██████████| 2000/2000 [04:18<00:00,  7.74it/s]\n"
     ]
    },
    {
     "name": "stdout",
     "output_type": "stream",
     "text": [
      "Epoch 470 Mean Reward: -30.489385932922364\n"
     ]
    },
    {
     "name": "stderr",
     "output_type": "stream",
     "text": [
      "100%|██████████| 2000/2000 [04:29<00:00,  7.43it/s]\n"
     ]
    },
    {
     "name": "stdout",
     "output_type": "stream",
     "text": [
      "Epoch 471 Mean Reward: -15.31807420349121\n"
     ]
    },
    {
     "name": "stderr",
     "output_type": "stream",
     "text": [
      "100%|██████████| 2000/2000 [04:27<00:00,  7.48it/s]\n"
     ]
    },
    {
     "name": "stdout",
     "output_type": "stream",
     "text": [
      "Epoch 472 Mean Reward: -20.523843841552733\n"
     ]
    },
    {
     "name": "stderr",
     "output_type": "stream",
     "text": [
      "100%|██████████| 2000/2000 [04:19<00:00,  7.70it/s]\n"
     ]
    },
    {
     "name": "stdout",
     "output_type": "stream",
     "text": [
      "Epoch 473 Mean Reward: -18.39831561279297\n"
     ]
    },
    {
     "name": "stderr",
     "output_type": "stream",
     "text": [
      "100%|██████████| 2000/2000 [04:29<00:00,  7.42it/s]\n"
     ]
    },
    {
     "name": "stdout",
     "output_type": "stream",
     "text": [
      "Epoch 474 Mean Reward: -19.857079010009766\n"
     ]
    },
    {
     "name": "stderr",
     "output_type": "stream",
     "text": [
      "100%|██████████| 2000/2000 [04:27<00:00,  7.48it/s]\n"
     ]
    },
    {
     "name": "stdout",
     "output_type": "stream",
     "text": [
      "Epoch 475 Mean Reward: -19.690598274230958\n"
     ]
    },
    {
     "name": "stderr",
     "output_type": "stream",
     "text": [
      "100%|██████████| 2000/2000 [04:33<00:00,  7.31it/s]\n"
     ]
    },
    {
     "name": "stdout",
     "output_type": "stream",
     "text": [
      "Epoch 476 Mean Reward: -20.17117123413086\n"
     ]
    },
    {
     "name": "stderr",
     "output_type": "stream",
     "text": [
      "100%|██████████| 2000/2000 [04:27<00:00,  7.47it/s]\n"
     ]
    },
    {
     "name": "stdout",
     "output_type": "stream",
     "text": [
      "Epoch 477 Mean Reward: -21.0938237991333\n"
     ]
    },
    {
     "name": "stderr",
     "output_type": "stream",
     "text": [
      "100%|██████████| 2000/2000 [04:43<00:00,  7.05it/s]\n"
     ]
    },
    {
     "name": "stdout",
     "output_type": "stream",
     "text": [
      "Epoch 478 Mean Reward: -16.32651732635498\n"
     ]
    },
    {
     "name": "stderr",
     "output_type": "stream",
     "text": [
      "100%|██████████| 2000/2000 [04:24<00:00,  7.56it/s]\n"
     ]
    },
    {
     "name": "stdout",
     "output_type": "stream",
     "text": [
      "Epoch 479 Mean Reward: -18.309625373840333\n"
     ]
    },
    {
     "name": "stderr",
     "output_type": "stream",
     "text": [
      "100%|██████████| 2000/2000 [04:24<00:00,  7.57it/s]\n"
     ]
    },
    {
     "name": "stdout",
     "output_type": "stream",
     "text": [
      "Epoch 480 Mean Reward: -21.67524546813965\n",
      "Epoch 480 Model saved to ./checkpoints/deadly_corridor.ckpt\n",
      "Epoch 480 test with depth buffer:\n",
      "Test Episode 1 Reward: -115.976318359375\n",
      "Test Episode 2 Reward: -113.43977355957031\n",
      "Test Episode 3 Reward: -113.43977355957031\n",
      "Test Episode 4 Reward: -115.95480346679688\n",
      "Test Episode 5 Reward: -113.43977355957031\n",
      "Test Episode 6 Reward: -113.43977355957031\n",
      "Test Episode 7 Reward: -113.43977355957031\n",
      "Test Episode 8 Reward: -113.43977355957031\n",
      "Test Episode 9 Reward: -115.99784851074219\n",
      "Test Episode 10 Reward: -112.34967041015625\n",
      "Average Test Reward (with depth buffer:) -114.09172821044922\n",
      "Epoch 480 test without depth buffer:\n",
      "Test Episode 1 Reward: -115.97911071777344\n",
      "Test Episode 2 Reward: -115.97819519042969\n",
      "Test Episode 3 Reward: -115.99856567382812\n",
      "Test Episode 4 Reward: -115.97576904296875\n",
      "Test Episode 5 Reward: -115.97616577148438\n",
      "Test Episode 6 Reward: -115.99856567382812\n",
      "Test Episode 7 Reward: -108.42454528808594\n",
      "Test Episode 8 Reward: -115.98213195800781\n",
      "Test Episode 9 Reward: -115.92890930175781\n",
      "Test Episode 10 Reward: -115.99856567382812\n",
      "Average Test Reward (without depth buffer): -115.22405242919922\n"
     ]
    },
    {
     "name": "stderr",
     "output_type": "stream",
     "text": [
      "100%|██████████| 2000/2000 [04:14<00:00,  7.85it/s]\n"
     ]
    },
    {
     "name": "stdout",
     "output_type": "stream",
     "text": [
      "Epoch 481 Mean Reward: -27.873634185791015\n"
     ]
    },
    {
     "name": "stderr",
     "output_type": "stream",
     "text": [
      "100%|██████████| 2000/2000 [04:34<00:00,  7.28it/s]\n"
     ]
    },
    {
     "name": "stdout",
     "output_type": "stream",
     "text": [
      "Epoch 482 Mean Reward: -31.961331916809083\n"
     ]
    },
    {
     "name": "stderr",
     "output_type": "stream",
     "text": [
      "100%|██████████| 2000/2000 [04:20<00:00,  7.68it/s]\n"
     ]
    },
    {
     "name": "stdout",
     "output_type": "stream",
     "text": [
      "Epoch 483 Mean Reward: -31.13677869415283\n"
     ]
    },
    {
     "name": "stderr",
     "output_type": "stream",
     "text": [
      "100%|██████████| 2000/2000 [04:41<00:00,  7.09it/s]\n"
     ]
    },
    {
     "name": "stdout",
     "output_type": "stream",
     "text": [
      "Epoch 484 Mean Reward: -25.686170516967774\n"
     ]
    },
    {
     "name": "stderr",
     "output_type": "stream",
     "text": [
      "100%|██████████| 2000/2000 [07:45<00:00,  4.30it/s]\n"
     ]
    },
    {
     "name": "stdout",
     "output_type": "stream",
     "text": [
      "Epoch 485 Mean Reward: -26.974840591430663\n"
     ]
    },
    {
     "name": "stderr",
     "output_type": "stream",
     "text": [
      "100%|██████████| 2000/2000 [10:24<00:00,  3.20it/s]\n"
     ]
    },
    {
     "name": "stdout",
     "output_type": "stream",
     "text": [
      "Epoch 486 Mean Reward: -27.488094406127928\n"
     ]
    },
    {
     "name": "stderr",
     "output_type": "stream",
     "text": [
      "100%|██████████| 2000/2000 [09:57<00:00,  3.34it/s]\n"
     ]
    },
    {
     "name": "stdout",
     "output_type": "stream",
     "text": [
      "Epoch 487 Mean Reward: -32.795298385620114\n"
     ]
    },
    {
     "name": "stderr",
     "output_type": "stream",
     "text": [
      "100%|██████████| 2000/2000 [10:02<00:00,  3.32it/s]\n"
     ]
    },
    {
     "name": "stdout",
     "output_type": "stream",
     "text": [
      "Epoch 488 Mean Reward: -25.513371459960936\n"
     ]
    },
    {
     "name": "stderr",
     "output_type": "stream",
     "text": [
      "100%|██████████| 2000/2000 [10:19<00:00,  3.23it/s]\n"
     ]
    },
    {
     "name": "stdout",
     "output_type": "stream",
     "text": [
      "Epoch 489 Mean Reward: -25.87875463104248\n"
     ]
    },
    {
     "name": "stderr",
     "output_type": "stream",
     "text": [
      "100%|██████████| 2000/2000 [10:20<00:00,  3.22it/s]\n"
     ]
    },
    {
     "name": "stdout",
     "output_type": "stream",
     "text": [
      "Epoch 490 Mean Reward: -30.44100170135498\n"
     ]
    },
    {
     "name": "stderr",
     "output_type": "stream",
     "text": [
      "100%|██████████| 2000/2000 [11:31<00:00,  2.89it/s]\n"
     ]
    },
    {
     "name": "stdout",
     "output_type": "stream",
     "text": [
      "Epoch 491 Mean Reward: -21.31141162109375\n"
     ]
    },
    {
     "name": "stderr",
     "output_type": "stream",
     "text": [
      "100%|██████████| 2000/2000 [06:02<00:00,  5.52it/s]\n"
     ]
    },
    {
     "name": "stdout",
     "output_type": "stream",
     "text": [
      "Epoch 492 Mean Reward: -23.187867729187012\n"
     ]
    },
    {
     "name": "stderr",
     "output_type": "stream",
     "text": [
      "100%|██████████| 2000/2000 [10:45<00:00,  3.10it/s]\n"
     ]
    },
    {
     "name": "stdout",
     "output_type": "stream",
     "text": [
      "Epoch 493 Mean Reward: -23.55420066833496\n"
     ]
    },
    {
     "name": "stderr",
     "output_type": "stream",
     "text": [
      "100%|██████████| 2000/2000 [11:55<00:00,  2.80it/s]\n"
     ]
    },
    {
     "name": "stdout",
     "output_type": "stream",
     "text": [
      "Epoch 494 Mean Reward: -15.573209487915038\n"
     ]
    },
    {
     "name": "stderr",
     "output_type": "stream",
     "text": [
      "100%|██████████| 2000/2000 [10:42<00:00,  3.11it/s]\n"
     ]
    },
    {
     "name": "stdout",
     "output_type": "stream",
     "text": [
      "Epoch 495 Mean Reward: -15.528522064208984\n"
     ]
    },
    {
     "name": "stderr",
     "output_type": "stream",
     "text": [
      "100%|██████████| 2000/2000 [12:07<00:00,  2.75it/s]\n"
     ]
    },
    {
     "name": "stdout",
     "output_type": "stream",
     "text": [
      "Epoch 496 Mean Reward: -15.891640716552734\n"
     ]
    },
    {
     "name": "stderr",
     "output_type": "stream",
     "text": [
      "100%|██████████| 2000/2000 [10:49<00:00,  3.08it/s]\n"
     ]
    },
    {
     "name": "stdout",
     "output_type": "stream",
     "text": [
      "Epoch 497 Mean Reward: -11.74090885925293\n"
     ]
    },
    {
     "name": "stderr",
     "output_type": "stream",
     "text": [
      "100%|██████████| 2000/2000 [09:49<00:00,  3.39it/s]\n"
     ]
    },
    {
     "name": "stdout",
     "output_type": "stream",
     "text": [
      "Epoch 498 Mean Reward: -13.175672821044921\n"
     ]
    },
    {
     "name": "stderr",
     "output_type": "stream",
     "text": [
      "100%|██████████| 2000/2000 [05:51<00:00,  5.70it/s]\n"
     ]
    },
    {
     "name": "stdout",
     "output_type": "stream",
     "text": [
      "Epoch 499 Mean Reward: -13.202534294128418\n"
     ]
    },
    {
     "name": "stderr",
     "output_type": "stream",
     "text": [
      "100%|██████████| 2000/2000 [05:21<00:00,  6.21it/s]\n"
     ]
    },
    {
     "name": "stdout",
     "output_type": "stream",
     "text": [
      "Epoch 500 Mean Reward: -20.067922904968263\n",
      "Epoch 500 Model saved to ./checkpoints/deadly_corridor.ckpt\n",
      "Epoch 500 test with depth buffer:\n",
      "Test Episode 1 Reward: -108.69290161132812\n",
      "Test Episode 2 Reward: -115.99874877929688\n",
      "Test Episode 3 Reward: -115.99874877929688\n",
      "Test Episode 4 Reward: -115.99874877929688\n",
      "Test Episode 5 Reward: -115.99874877929688\n",
      "Test Episode 6 Reward: -62.259307861328125\n",
      "Test Episode 7 Reward: -115.99874877929688\n",
      "Test Episode 8 Reward: -115.99874877929688\n",
      "Test Episode 9 Reward: -115.99574279785156\n",
      "Test Episode 10 Reward: -115.99874877929688\n",
      "Average Test Reward (with depth buffer:) -109.8939193725586\n",
      "Epoch 500 test without depth buffer:\n",
      "Test Episode 1 Reward: -115.9468994140625\n",
      "Test Episode 2 Reward: -115.9468994140625\n",
      "Test Episode 3 Reward: -40.38981628417969\n",
      "Test Episode 4 Reward: -101.36973571777344\n",
      "Test Episode 5 Reward: -115.9468994140625\n",
      "Test Episode 6 Reward: -115.9468994140625\n",
      "Test Episode 7 Reward: -115.9468994140625\n",
      "Test Episode 8 Reward: -115.9468994140625\n",
      "Test Episode 9 Reward: -115.9468994140625\n",
      "Test Episode 10 Reward: 7.170562744140625\n",
      "Average Test Reward (without depth buffer): -94.621728515625\n"
     ]
    },
    {
     "name": "stderr",
     "output_type": "stream",
     "text": [
      "100%|██████████| 2000/2000 [05:13<00:00,  6.37it/s]\n"
     ]
    },
    {
     "name": "stdout",
     "output_type": "stream",
     "text": [
      "Epoch 501 Mean Reward: -21.1052010345459\n"
     ]
    },
    {
     "name": "stderr",
     "output_type": "stream",
     "text": [
      "100%|██████████| 2000/2000 [04:53<00:00,  6.81it/s]\n"
     ]
    },
    {
     "name": "stdout",
     "output_type": "stream",
     "text": [
      "Epoch 502 Mean Reward: -25.92750121307373\n"
     ]
    },
    {
     "name": "stderr",
     "output_type": "stream",
     "text": [
      "100%|██████████| 2000/2000 [04:55<00:00,  6.76it/s]\n"
     ]
    },
    {
     "name": "stdout",
     "output_type": "stream",
     "text": [
      "Epoch 503 Mean Reward: -26.37253056335449\n"
     ]
    },
    {
     "name": "stderr",
     "output_type": "stream",
     "text": [
      "100%|██████████| 2000/2000 [05:28<00:00,  6.09it/s]\n"
     ]
    },
    {
     "name": "stdout",
     "output_type": "stream",
     "text": [
      "Epoch 504 Mean Reward: -17.795205375671387\n"
     ]
    },
    {
     "name": "stderr",
     "output_type": "stream",
     "text": [
      "100%|██████████| 2000/2000 [05:34<00:00,  5.99it/s]\n"
     ]
    },
    {
     "name": "stdout",
     "output_type": "stream",
     "text": [
      "Epoch 505 Mean Reward: -30.516867820739748\n"
     ]
    },
    {
     "name": "stderr",
     "output_type": "stream",
     "text": [
      "100%|██████████| 2000/2000 [05:54<00:00,  5.64it/s]\n"
     ]
    },
    {
     "name": "stdout",
     "output_type": "stream",
     "text": [
      "Epoch 506 Mean Reward: -26.1610167388916\n"
     ]
    },
    {
     "name": "stderr",
     "output_type": "stream",
     "text": [
      "100%|██████████| 2000/2000 [05:14<00:00,  6.36it/s]\n"
     ]
    },
    {
     "name": "stdout",
     "output_type": "stream",
     "text": [
      "Epoch 507 Mean Reward: -16.66488104248047\n"
     ]
    },
    {
     "name": "stderr",
     "output_type": "stream",
     "text": [
      "100%|██████████| 2000/2000 [04:52<00:00,  6.84it/s]\n"
     ]
    },
    {
     "name": "stdout",
     "output_type": "stream",
     "text": [
      "Epoch 508 Mean Reward: -20.049792175292968\n"
     ]
    },
    {
     "name": "stderr",
     "output_type": "stream",
     "text": [
      "100%|██████████| 2000/2000 [05:25<00:00,  6.14it/s]\n"
     ]
    },
    {
     "name": "stdout",
     "output_type": "stream",
     "text": [
      "Epoch 509 Mean Reward: -27.117468994140626\n"
     ]
    },
    {
     "name": "stderr",
     "output_type": "stream",
     "text": [
      "100%|██████████| 2000/2000 [05:15<00:00,  6.33it/s]\n"
     ]
    },
    {
     "name": "stdout",
     "output_type": "stream",
     "text": [
      "Epoch 510 Mean Reward: -24.678454681396484\n"
     ]
    },
    {
     "name": "stderr",
     "output_type": "stream",
     "text": [
      "100%|██████████| 2000/2000 [05:41<00:00,  5.85it/s]\n"
     ]
    },
    {
     "name": "stdout",
     "output_type": "stream",
     "text": [
      "Epoch 511 Mean Reward: -29.06347875213623\n"
     ]
    },
    {
     "name": "stderr",
     "output_type": "stream",
     "text": [
      "100%|██████████| 2000/2000 [05:37<00:00,  5.92it/s]\n"
     ]
    },
    {
     "name": "stdout",
     "output_type": "stream",
     "text": [
      "Epoch 512 Mean Reward: -23.57263973236084\n"
     ]
    },
    {
     "name": "stderr",
     "output_type": "stream",
     "text": [
      "100%|██████████| 2000/2000 [05:44<00:00,  5.80it/s]\n"
     ]
    },
    {
     "name": "stdout",
     "output_type": "stream",
     "text": [
      "Epoch 513 Mean Reward: -22.770856925964356\n"
     ]
    },
    {
     "name": "stderr",
     "output_type": "stream",
     "text": [
      "100%|██████████| 2000/2000 [05:32<00:00,  6.02it/s]\n"
     ]
    },
    {
     "name": "stdout",
     "output_type": "stream",
     "text": [
      "Epoch 514 Mean Reward: -22.813245513916016\n"
     ]
    },
    {
     "name": "stderr",
     "output_type": "stream",
     "text": [
      "100%|██████████| 2000/2000 [05:42<00:00,  5.85it/s]\n"
     ]
    },
    {
     "name": "stdout",
     "output_type": "stream",
     "text": [
      "Epoch 515 Mean Reward: -21.279313186645506\n"
     ]
    },
    {
     "name": "stderr",
     "output_type": "stream",
     "text": [
      "100%|██████████| 2000/2000 [05:41<00:00,  5.86it/s]\n"
     ]
    },
    {
     "name": "stdout",
     "output_type": "stream",
     "text": [
      "Epoch 516 Mean Reward: -9.294007583618164\n"
     ]
    },
    {
     "name": "stderr",
     "output_type": "stream",
     "text": [
      "100%|██████████| 2000/2000 [10:59<00:00,  3.03it/s]\n"
     ]
    },
    {
     "name": "stdout",
     "output_type": "stream",
     "text": [
      "Epoch 517 Mean Reward: -21.064762756347655\n"
     ]
    },
    {
     "name": "stderr",
     "output_type": "stream",
     "text": [
      "100%|██████████| 2000/2000 [05:43<00:00,  5.83it/s]\n"
     ]
    },
    {
     "name": "stdout",
     "output_type": "stream",
     "text": [
      "Epoch 518 Mean Reward: -22.914851440429686\n"
     ]
    },
    {
     "name": "stderr",
     "output_type": "stream",
     "text": [
      "100%|██████████| 2000/2000 [05:20<00:00,  6.23it/s]\n"
     ]
    },
    {
     "name": "stdout",
     "output_type": "stream",
     "text": [
      "Epoch 519 Mean Reward: -25.968849655151367\n"
     ]
    },
    {
     "name": "stderr",
     "output_type": "stream",
     "text": [
      "100%|██████████| 2000/2000 [05:32<00:00,  6.01it/s]\n"
     ]
    },
    {
     "name": "stdout",
     "output_type": "stream",
     "text": [
      "Epoch 520 Mean Reward: -17.747914749145508\n",
      "Epoch 520 Model saved to ./checkpoints/deadly_corridor.ckpt\n",
      "Epoch 520 test with depth buffer:\n",
      "Test Episode 1 Reward: -115.65211486816406\n",
      "Test Episode 2 Reward: -115.97601318359375\n",
      "Test Episode 3 Reward: -72.42137145996094\n",
      "Test Episode 4 Reward: -36.54450988769531\n",
      "Test Episode 5 Reward: -115.97601318359375\n",
      "Test Episode 6 Reward: -115.23477172851562\n",
      "Test Episode 7 Reward: -115.97601318359375\n",
      "Test Episode 8 Reward: -115.89714050292969\n",
      "Test Episode 9 Reward: 32.405731201171875\n",
      "Test Episode 10 Reward: -115.97601318359375\n",
      "Average Test Reward (with depth buffer:) -88.72482299804688\n",
      "Epoch 520 test without depth buffer:\n",
      "Test Episode 1 Reward: -111.61332702636719\n",
      "Test Episode 2 Reward: -111.61332702636719\n",
      "Test Episode 3 Reward: 0.58917236328125\n",
      "Test Episode 4 Reward: -111.61332702636719\n",
      "Test Episode 5 Reward: -111.61332702636719\n",
      "Test Episode 6 Reward: -41.727935791015625\n",
      "Test Episode 7 Reward: -111.61332702636719\n",
      "Test Episode 8 Reward: -111.61332702636719\n",
      "Test Episode 9 Reward: -111.61332702636719\n",
      "Test Episode 10 Reward: -111.61332702636719\n",
      "Average Test Reward (without depth buffer): -93.40453796386718\n"
     ]
    },
    {
     "name": "stderr",
     "output_type": "stream",
     "text": [
      "100%|██████████| 2000/2000 [04:51<00:00,  6.87it/s]\n"
     ]
    },
    {
     "name": "stdout",
     "output_type": "stream",
     "text": [
      "Epoch 521 Mean Reward: -28.1321135559082\n"
     ]
    },
    {
     "name": "stderr",
     "output_type": "stream",
     "text": [
      "100%|██████████| 2000/2000 [04:51<00:00,  6.86it/s]\n"
     ]
    },
    {
     "name": "stdout",
     "output_type": "stream",
     "text": [
      "Epoch 522 Mean Reward: -28.499124786376953\n"
     ]
    },
    {
     "name": "stderr",
     "output_type": "stream",
     "text": [
      "100%|██████████| 2000/2000 [08:22<00:00,  3.98it/s]\n"
     ]
    },
    {
     "name": "stdout",
     "output_type": "stream",
     "text": [
      "Epoch 523 Mean Reward: -23.593517318725585\n"
     ]
    },
    {
     "name": "stderr",
     "output_type": "stream",
     "text": [
      "100%|██████████| 2000/2000 [09:29<00:00,  3.51it/s]\n"
     ]
    },
    {
     "name": "stdout",
     "output_type": "stream",
     "text": [
      "Epoch 524 Mean Reward: -34.58235327911377\n"
     ]
    },
    {
     "name": "stderr",
     "output_type": "stream",
     "text": [
      "100%|██████████| 2000/2000 [04:57<00:00,  6.72it/s]\n"
     ]
    },
    {
     "name": "stdout",
     "output_type": "stream",
     "text": [
      "Epoch 525 Mean Reward: -35.61415897369385\n"
     ]
    },
    {
     "name": "stderr",
     "output_type": "stream",
     "text": [
      "100%|██████████| 2000/2000 [05:01<00:00,  6.64it/s]\n"
     ]
    },
    {
     "name": "stdout",
     "output_type": "stream",
     "text": [
      "Epoch 526 Mean Reward: -22.797484573364258\n"
     ]
    },
    {
     "name": "stderr",
     "output_type": "stream",
     "text": [
      "100%|██████████| 2000/2000 [04:45<00:00,  7.00it/s]\n"
     ]
    },
    {
     "name": "stdout",
     "output_type": "stream",
     "text": [
      "Epoch 527 Mean Reward: -27.144828895568846\n"
     ]
    },
    {
     "name": "stderr",
     "output_type": "stream",
     "text": [
      "100%|██████████| 2000/2000 [04:48<00:00,  6.93it/s]\n"
     ]
    },
    {
     "name": "stdout",
     "output_type": "stream",
     "text": [
      "Epoch 528 Mean Reward: -32.65018836212158\n"
     ]
    },
    {
     "name": "stderr",
     "output_type": "stream",
     "text": [
      "100%|██████████| 2000/2000 [04:54<00:00,  6.79it/s]\n"
     ]
    },
    {
     "name": "stdout",
     "output_type": "stream",
     "text": [
      "Epoch 529 Mean Reward: -28.083258239746094\n"
     ]
    },
    {
     "name": "stderr",
     "output_type": "stream",
     "text": [
      "100%|██████████| 2000/2000 [05:03<00:00,  6.60it/s]\n"
     ]
    },
    {
     "name": "stdout",
     "output_type": "stream",
     "text": [
      "Epoch 530 Mean Reward: -28.7046224899292\n"
     ]
    },
    {
     "name": "stderr",
     "output_type": "stream",
     "text": [
      "100%|██████████| 2000/2000 [05:36<00:00,  5.95it/s]\n"
     ]
    },
    {
     "name": "stdout",
     "output_type": "stream",
     "text": [
      "Epoch 531 Mean Reward: -29.157278274536132\n"
     ]
    },
    {
     "name": "stderr",
     "output_type": "stream",
     "text": [
      "100%|██████████| 2000/2000 [05:39<00:00,  5.89it/s]\n"
     ]
    },
    {
     "name": "stdout",
     "output_type": "stream",
     "text": [
      "Epoch 532 Mean Reward: -26.104815406799318\n"
     ]
    },
    {
     "name": "stderr",
     "output_type": "stream",
     "text": [
      "100%|██████████| 2000/2000 [05:28<00:00,  6.10it/s]\n"
     ]
    },
    {
     "name": "stdout",
     "output_type": "stream",
     "text": [
      "Epoch 533 Mean Reward: -25.042320823669435\n"
     ]
    },
    {
     "name": "stderr",
     "output_type": "stream",
     "text": [
      "100%|██████████| 2000/2000 [05:22<00:00,  6.21it/s]\n"
     ]
    },
    {
     "name": "stdout",
     "output_type": "stream",
     "text": [
      "Epoch 534 Mean Reward: -24.590625450134276\n"
     ]
    },
    {
     "name": "stderr",
     "output_type": "stream",
     "text": [
      "100%|██████████| 2000/2000 [05:29<00:00,  6.06it/s]\n"
     ]
    },
    {
     "name": "stdout",
     "output_type": "stream",
     "text": [
      "Epoch 535 Mean Reward: -27.84092008972168\n"
     ]
    },
    {
     "name": "stderr",
     "output_type": "stream",
     "text": [
      "100%|██████████| 2000/2000 [05:14<00:00,  6.36it/s]\n"
     ]
    },
    {
     "name": "stdout",
     "output_type": "stream",
     "text": [
      "Epoch 536 Mean Reward: -30.953601867675783\n"
     ]
    },
    {
     "name": "stderr",
     "output_type": "stream",
     "text": [
      "100%|██████████| 2000/2000 [06:07<00:00,  5.44it/s]\n"
     ]
    },
    {
     "name": "stdout",
     "output_type": "stream",
     "text": [
      "Epoch 537 Mean Reward: -28.59558233642578\n"
     ]
    },
    {
     "name": "stderr",
     "output_type": "stream",
     "text": [
      "100%|██████████| 2000/2000 [05:39<00:00,  5.89it/s]\n"
     ]
    },
    {
     "name": "stdout",
     "output_type": "stream",
     "text": [
      "Epoch 538 Mean Reward: -18.420840812683107\n"
     ]
    },
    {
     "name": "stderr",
     "output_type": "stream",
     "text": [
      "100%|██████████| 2000/2000 [05:50<00:00,  5.71it/s]\n"
     ]
    },
    {
     "name": "stdout",
     "output_type": "stream",
     "text": [
      "Epoch 539 Mean Reward: -27.38341638946533\n"
     ]
    },
    {
     "name": "stderr",
     "output_type": "stream",
     "text": [
      "100%|██████████| 2000/2000 [05:16<00:00,  6.32it/s]\n"
     ]
    },
    {
     "name": "stdout",
     "output_type": "stream",
     "text": [
      "Epoch 540 Mean Reward: -27.311406433105468\n",
      "Epoch 540 Model saved to ./checkpoints/deadly_corridor.ckpt\n",
      "Epoch 540 test with depth buffer:\n",
      "Test Episode 1 Reward: -115.99861145019531\n",
      "Test Episode 2 Reward: -115.99784851074219\n",
      "Test Episode 3 Reward: -115.99716186523438\n",
      "Test Episode 4 Reward: -114.69575500488281\n",
      "Test Episode 5 Reward: -115.01969909667969\n",
      "Test Episode 6 Reward: -115.99934387207031\n",
      "Test Episode 7 Reward: -115.99934387207031\n",
      "Test Episode 8 Reward: -115.99934387207031\n",
      "Test Episode 9 Reward: -115.99934387207031\n",
      "Test Episode 10 Reward: -115.99644470214844\n",
      "Average Test Reward (with depth buffer:) -115.77028961181641\n",
      "Epoch 540 test without depth buffer:\n",
      "Test Episode 1 Reward: -115.99716186523438\n",
      "Test Episode 2 Reward: -115.99716186523438\n",
      "Test Episode 3 Reward: -115.91152954101562\n",
      "Test Episode 4 Reward: -115.99716186523438\n",
      "Test Episode 5 Reward: -115.99699401855469\n",
      "Test Episode 6 Reward: -115.99931335449219\n",
      "Test Episode 7 Reward: -115.9786376953125\n",
      "Test Episode 8 Reward: -115.99716186523438\n",
      "Test Episode 9 Reward: -115.90785217285156\n",
      "Test Episode 10 Reward: -115.99716186523438\n",
      "Average Test Reward (without depth buffer): -115.97801361083984\n"
     ]
    },
    {
     "name": "stderr",
     "output_type": "stream",
     "text": [
      "100%|██████████| 2000/2000 [05:48<00:00,  5.74it/s]\n"
     ]
    },
    {
     "name": "stdout",
     "output_type": "stream",
     "text": [
      "Epoch 541 Mean Reward: -7.7143071746826175\n"
     ]
    },
    {
     "name": "stderr",
     "output_type": "stream",
     "text": [
      "100%|██████████| 2000/2000 [09:53<00:00,  3.37it/s]\n"
     ]
    },
    {
     "name": "stdout",
     "output_type": "stream",
     "text": [
      "Epoch 542 Mean Reward: -18.074112129211425\n"
     ]
    },
    {
     "name": "stderr",
     "output_type": "stream",
     "text": [
      "100%|██████████| 2000/2000 [09:45<00:00,  3.41it/s]\n"
     ]
    },
    {
     "name": "stdout",
     "output_type": "stream",
     "text": [
      "Epoch 543 Mean Reward: -12.653181671142578\n"
     ]
    },
    {
     "name": "stderr",
     "output_type": "stream",
     "text": [
      "100%|██████████| 2000/2000 [08:41<00:00,  3.84it/s]\n"
     ]
    },
    {
     "name": "stdout",
     "output_type": "stream",
     "text": [
      "Epoch 544 Mean Reward: -21.232218711853026\n"
     ]
    },
    {
     "name": "stderr",
     "output_type": "stream",
     "text": [
      "100%|██████████| 2000/2000 [12:40<00:00,  2.63it/s]\n"
     ]
    },
    {
     "name": "stdout",
     "output_type": "stream",
     "text": [
      "Epoch 545 Mean Reward: -21.267363868713378\n"
     ]
    },
    {
     "name": "stderr",
     "output_type": "stream",
     "text": [
      "100%|██████████| 2000/2000 [08:24<00:00,  3.97it/s]\n"
     ]
    },
    {
     "name": "stdout",
     "output_type": "stream",
     "text": [
      "Epoch 546 Mean Reward: -12.923787803649903\n"
     ]
    },
    {
     "name": "stderr",
     "output_type": "stream",
     "text": [
      "100%|██████████| 2000/2000 [05:38<00:00,  5.91it/s]\n"
     ]
    },
    {
     "name": "stdout",
     "output_type": "stream",
     "text": [
      "Epoch 547 Mean Reward: -19.85526290130615\n"
     ]
    },
    {
     "name": "stderr",
     "output_type": "stream",
     "text": [
      "100%|██████████| 2000/2000 [05:30<00:00,  6.04it/s]\n"
     ]
    },
    {
     "name": "stdout",
     "output_type": "stream",
     "text": [
      "Epoch 548 Mean Reward: -20.153049278259278\n"
     ]
    },
    {
     "name": "stderr",
     "output_type": "stream",
     "text": [
      "100%|██████████| 2000/2000 [05:28<00:00,  6.08it/s]\n"
     ]
    },
    {
     "name": "stdout",
     "output_type": "stream",
     "text": [
      "Epoch 549 Mean Reward: -17.444094596862794\n"
     ]
    },
    {
     "name": "stderr",
     "output_type": "stream",
     "text": [
      "100%|██████████| 2000/2000 [05:39<00:00,  5.89it/s]\n"
     ]
    },
    {
     "name": "stdout",
     "output_type": "stream",
     "text": [
      "Epoch 550 Mean Reward: -16.96741591644287\n"
     ]
    },
    {
     "name": "stderr",
     "output_type": "stream",
     "text": [
      "100%|██████████| 2000/2000 [05:08<00:00,  6.47it/s]\n"
     ]
    },
    {
     "name": "stdout",
     "output_type": "stream",
     "text": [
      "Epoch 551 Mean Reward: -25.58140195465088\n"
     ]
    },
    {
     "name": "stderr",
     "output_type": "stream",
     "text": [
      "100%|██████████| 2000/2000 [04:38<00:00,  7.18it/s]\n"
     ]
    },
    {
     "name": "stdout",
     "output_type": "stream",
     "text": [
      "Epoch 552 Mean Reward: -32.68248871612549\n"
     ]
    },
    {
     "name": "stderr",
     "output_type": "stream",
     "text": [
      "100%|██████████| 2000/2000 [04:50<00:00,  6.88it/s]\n"
     ]
    },
    {
     "name": "stdout",
     "output_type": "stream",
     "text": [
      "Epoch 553 Mean Reward: -37.825676940917965\n"
     ]
    },
    {
     "name": "stderr",
     "output_type": "stream",
     "text": [
      "100%|██████████| 2000/2000 [04:44<00:00,  7.03it/s]\n"
     ]
    },
    {
     "name": "stdout",
     "output_type": "stream",
     "text": [
      "Epoch 554 Mean Reward: -36.05006876373291\n"
     ]
    },
    {
     "name": "stderr",
     "output_type": "stream",
     "text": [
      "100%|██████████| 2000/2000 [04:33<00:00,  7.31it/s]\n"
     ]
    },
    {
     "name": "stdout",
     "output_type": "stream",
     "text": [
      "Epoch 555 Mean Reward: -31.759014083862304\n"
     ]
    },
    {
     "name": "stderr",
     "output_type": "stream",
     "text": [
      "100%|██████████| 2000/2000 [04:46<00:00,  6.97it/s]\n"
     ]
    },
    {
     "name": "stdout",
     "output_type": "stream",
     "text": [
      "Epoch 556 Mean Reward: -33.02496496582031\n"
     ]
    },
    {
     "name": "stderr",
     "output_type": "stream",
     "text": [
      "100%|██████████| 2000/2000 [04:48<00:00,  6.94it/s]\n"
     ]
    },
    {
     "name": "stdout",
     "output_type": "stream",
     "text": [
      "Epoch 557 Mean Reward: -36.45277153015137\n"
     ]
    },
    {
     "name": "stderr",
     "output_type": "stream",
     "text": [
      "100%|██████████| 2000/2000 [04:47<00:00,  6.95it/s]\n"
     ]
    },
    {
     "name": "stdout",
     "output_type": "stream",
     "text": [
      "Epoch 558 Mean Reward: -31.87604592895508\n"
     ]
    },
    {
     "name": "stderr",
     "output_type": "stream",
     "text": [
      "100%|██████████| 2000/2000 [04:47<00:00,  6.96it/s]\n"
     ]
    },
    {
     "name": "stdout",
     "output_type": "stream",
     "text": [
      "Epoch 559 Mean Reward: -37.022403244018555\n"
     ]
    },
    {
     "name": "stderr",
     "output_type": "stream",
     "text": [
      "100%|██████████| 2000/2000 [04:52<00:00,  6.83it/s]\n"
     ]
    },
    {
     "name": "stdout",
     "output_type": "stream",
     "text": [
      "Epoch 560 Mean Reward: -29.616390899658203\n",
      "Epoch 560 Model saved to ./checkpoints/deadly_corridor.ckpt\n",
      "Epoch 560 test with depth buffer:\n",
      "Test Episode 1 Reward: -107.37135314941406\n",
      "Test Episode 2 Reward: 112.11744689941406\n",
      "Test Episode 3 Reward: 112.11744689941406\n",
      "Test Episode 4 Reward: 130.87709045410156\n",
      "Test Episode 5 Reward: 250.6220245361328\n",
      "Test Episode 6 Reward: -96.40419006347656\n",
      "Test Episode 7 Reward: 112.11744689941406\n",
      "Test Episode 8 Reward: -105.68655395507812\n",
      "Test Episode 9 Reward: 19.5244140625\n",
      "Test Episode 10 Reward: 33.05741882324219\n",
      "Average Test Reward (with depth buffer:) 46.097119140625\n",
      "Epoch 560 test without depth buffer:\n",
      "Test Episode 1 Reward: -105.22201538085938\n",
      "Test Episode 2 Reward: -41.36119079589844\n",
      "Test Episode 3 Reward: -99.51533508300781\n",
      "Test Episode 4 Reward: -105.22201538085938\n",
      "Test Episode 5 Reward: -105.22201538085938\n",
      "Test Episode 6 Reward: -105.22201538085938\n",
      "Test Episode 7 Reward: -105.22201538085938\n",
      "Test Episode 8 Reward: -58.794708251953125\n",
      "Test Episode 9 Reward: -105.22201538085938\n",
      "Test Episode 10 Reward: -105.22201538085938\n",
      "Average Test Reward (without depth buffer): -93.6225341796875\n"
     ]
    },
    {
     "name": "stderr",
     "output_type": "stream",
     "text": [
      "100%|██████████| 2000/2000 [05:54<00:00,  5.64it/s]\n"
     ]
    },
    {
     "name": "stdout",
     "output_type": "stream",
     "text": [
      "Epoch 561 Mean Reward: -31.427516883850096\n"
     ]
    },
    {
     "name": "stderr",
     "output_type": "stream",
     "text": [
      "100%|██████████| 2000/2000 [06:24<00:00,  5.20it/s]\n"
     ]
    },
    {
     "name": "stdout",
     "output_type": "stream",
     "text": [
      "Epoch 562 Mean Reward: -37.22157648468018\n"
     ]
    },
    {
     "name": "stderr",
     "output_type": "stream",
     "text": [
      "100%|██████████| 2000/2000 [05:48<00:00,  5.73it/s]\n"
     ]
    },
    {
     "name": "stdout",
     "output_type": "stream",
     "text": [
      "Epoch 563 Mean Reward: -27.571703407287597\n"
     ]
    },
    {
     "name": "stderr",
     "output_type": "stream",
     "text": [
      "100%|██████████| 2000/2000 [05:47<00:00,  5.76it/s]\n"
     ]
    },
    {
     "name": "stdout",
     "output_type": "stream",
     "text": [
      "Epoch 564 Mean Reward: -23.851926597595217\n"
     ]
    },
    {
     "name": "stderr",
     "output_type": "stream",
     "text": [
      "100%|██████████| 2000/2000 [06:05<00:00,  5.47it/s]\n"
     ]
    },
    {
     "name": "stdout",
     "output_type": "stream",
     "text": [
      "Epoch 565 Mean Reward: -32.27171341705322\n"
     ]
    },
    {
     "name": "stderr",
     "output_type": "stream",
     "text": [
      "100%|██████████| 2000/2000 [05:32<00:00,  6.02it/s]\n"
     ]
    },
    {
     "name": "stdout",
     "output_type": "stream",
     "text": [
      "Epoch 566 Mean Reward: -25.87473346710205\n"
     ]
    },
    {
     "name": "stderr",
     "output_type": "stream",
     "text": [
      "100%|██████████| 2000/2000 [05:51<00:00,  5.68it/s]\n"
     ]
    },
    {
     "name": "stdout",
     "output_type": "stream",
     "text": [
      "Epoch 567 Mean Reward: -24.825918556213377\n"
     ]
    },
    {
     "name": "stderr",
     "output_type": "stream",
     "text": [
      "100%|██████████| 2000/2000 [05:52<00:00,  5.67it/s]\n"
     ]
    },
    {
     "name": "stdout",
     "output_type": "stream",
     "text": [
      "Epoch 568 Mean Reward: -31.57141284942627\n"
     ]
    },
    {
     "name": "stderr",
     "output_type": "stream",
     "text": [
      "100%|██████████| 2000/2000 [05:55<00:00,  5.62it/s]\n"
     ]
    },
    {
     "name": "stdout",
     "output_type": "stream",
     "text": [
      "Epoch 569 Mean Reward: -32.85192486572266\n"
     ]
    },
    {
     "name": "stderr",
     "output_type": "stream",
     "text": [
      "100%|██████████| 2000/2000 [06:22<00:00,  5.23it/s]\n"
     ]
    },
    {
     "name": "stdout",
     "output_type": "stream",
     "text": [
      "Epoch 570 Mean Reward: -24.39536393737793\n"
     ]
    },
    {
     "name": "stderr",
     "output_type": "stream",
     "text": [
      "100%|██████████| 2000/2000 [07:03<00:00,  4.73it/s]\n"
     ]
    },
    {
     "name": "stdout",
     "output_type": "stream",
     "text": [
      "Epoch 571 Mean Reward: -19.248069679260254\n"
     ]
    },
    {
     "name": "stderr",
     "output_type": "stream",
     "text": [
      "100%|██████████| 2000/2000 [07:07<00:00,  4.67it/s]\n"
     ]
    },
    {
     "name": "stdout",
     "output_type": "stream",
     "text": [
      "Epoch 572 Mean Reward: -10.619606300354004\n"
     ]
    },
    {
     "name": "stderr",
     "output_type": "stream",
     "text": [
      "100%|██████████| 2000/2000 [06:40<00:00,  4.99it/s]\n"
     ]
    },
    {
     "name": "stdout",
     "output_type": "stream",
     "text": [
      "Epoch 573 Mean Reward: -18.50229581451416\n"
     ]
    },
    {
     "name": "stderr",
     "output_type": "stream",
     "text": [
      "100%|██████████| 2000/2000 [07:00<00:00,  4.76it/s]\n"
     ]
    },
    {
     "name": "stdout",
     "output_type": "stream",
     "text": [
      "Epoch 574 Mean Reward: -4.969194480895996\n"
     ]
    },
    {
     "name": "stderr",
     "output_type": "stream",
     "text": [
      "100%|██████████| 2000/2000 [06:35<00:00,  5.06it/s]\n"
     ]
    },
    {
     "name": "stdout",
     "output_type": "stream",
     "text": [
      "Epoch 575 Mean Reward: -9.269871421813965\n"
     ]
    },
    {
     "name": "stderr",
     "output_type": "stream",
     "text": [
      "100%|██████████| 2000/2000 [06:44<00:00,  4.94it/s]\n"
     ]
    },
    {
     "name": "stdout",
     "output_type": "stream",
     "text": [
      "Epoch 576 Mean Reward: -22.093858268737794\n"
     ]
    },
    {
     "name": "stderr",
     "output_type": "stream",
     "text": [
      "100%|██████████| 2000/2000 [06:45<00:00,  4.94it/s]\n"
     ]
    },
    {
     "name": "stdout",
     "output_type": "stream",
     "text": [
      "Epoch 577 Mean Reward: -11.57086270904541\n"
     ]
    },
    {
     "name": "stderr",
     "output_type": "stream",
     "text": [
      "100%|██████████| 2000/2000 [06:43<00:00,  4.95it/s]\n"
     ]
    },
    {
     "name": "stdout",
     "output_type": "stream",
     "text": [
      "Epoch 578 Mean Reward: -25.903778030395507\n"
     ]
    },
    {
     "name": "stderr",
     "output_type": "stream",
     "text": [
      "100%|██████████| 2000/2000 [06:50<00:00,  4.87it/s]\n"
     ]
    },
    {
     "name": "stdout",
     "output_type": "stream",
     "text": [
      "Epoch 579 Mean Reward: -11.913596824645996\n"
     ]
    },
    {
     "name": "stderr",
     "output_type": "stream",
     "text": [
      "100%|██████████| 2000/2000 [06:35<00:00,  5.05it/s]\n"
     ]
    },
    {
     "name": "stdout",
     "output_type": "stream",
     "text": [
      "Epoch 580 Mean Reward: -12.76005728149414\n",
      "Epoch 580 Model saved to ./checkpoints/deadly_corridor.ckpt\n",
      "Epoch 580 test with depth buffer:\n",
      "Test Episode 1 Reward: -87.83280944824219\n",
      "Test Episode 2 Reward: -87.83280944824219\n",
      "Test Episode 3 Reward: -87.83280944824219\n",
      "Test Episode 4 Reward: 21.973846435546875\n",
      "Test Episode 5 Reward: -87.83280944824219\n",
      "Test Episode 6 Reward: -115.7344970703125\n",
      "Test Episode 7 Reward: 196.5331573486328\n",
      "Test Episode 8 Reward: -87.83280944824219\n",
      "Test Episode 9 Reward: -87.83280944824219\n",
      "Test Episode 10 Reward: -115.99441528320312\n",
      "Average Test Reward (with depth buffer:) -54.02187652587891\n",
      "Epoch 580 test without depth buffer:\n",
      "Test Episode 1 Reward: -114.70518493652344\n",
      "Test Episode 2 Reward: -115.95518493652344\n",
      "Test Episode 3 Reward: -50.374359130859375\n",
      "Test Episode 4 Reward: -114.70518493652344\n",
      "Test Episode 5 Reward: -115.99784851074219\n",
      "Test Episode 6 Reward: -107.14659118652344\n",
      "Test Episode 7 Reward: -114.70518493652344\n",
      "Test Episode 8 Reward: -76.72348022460938\n",
      "Test Episode 9 Reward: -115.99285888671875\n",
      "Test Episode 10 Reward: -115.99362182617188\n",
      "Average Test Reward (without depth buffer): -104.22994995117188\n"
     ]
    },
    {
     "name": "stderr",
     "output_type": "stream",
     "text": [
      "100%|██████████| 2000/2000 [06:58<00:00,  4.78it/s]\n"
     ]
    },
    {
     "name": "stdout",
     "output_type": "stream",
     "text": [
      "Epoch 581 Mean Reward: -21.901015563964844\n"
     ]
    },
    {
     "name": "stderr",
     "output_type": "stream",
     "text": [
      "100%|██████████| 2000/2000 [06:33<00:00,  5.08it/s]\n"
     ]
    },
    {
     "name": "stdout",
     "output_type": "stream",
     "text": [
      "Epoch 582 Mean Reward: -26.140925994873047\n"
     ]
    },
    {
     "name": "stderr",
     "output_type": "stream",
     "text": [
      "100%|██████████| 2000/2000 [06:44<00:00,  4.94it/s]\n"
     ]
    },
    {
     "name": "stdout",
     "output_type": "stream",
     "text": [
      "Epoch 583 Mean Reward: -15.2725708694458\n"
     ]
    },
    {
     "name": "stderr",
     "output_type": "stream",
     "text": [
      "100%|██████████| 2000/2000 [06:40<00:00,  4.99it/s]\n"
     ]
    },
    {
     "name": "stdout",
     "output_type": "stream",
     "text": [
      "Epoch 584 Mean Reward: -31.84737351989746\n"
     ]
    },
    {
     "name": "stderr",
     "output_type": "stream",
     "text": [
      "100%|██████████| 2000/2000 [06:10<00:00,  5.40it/s]\n"
     ]
    },
    {
     "name": "stdout",
     "output_type": "stream",
     "text": [
      "Epoch 585 Mean Reward: -28.439908531188966\n"
     ]
    },
    {
     "name": "stderr",
     "output_type": "stream",
     "text": [
      "100%|██████████| 2000/2000 [06:11<00:00,  5.38it/s]\n"
     ]
    },
    {
     "name": "stdout",
     "output_type": "stream",
     "text": [
      "Epoch 586 Mean Reward: -26.469877799987792\n"
     ]
    },
    {
     "name": "stderr",
     "output_type": "stream",
     "text": [
      "100%|██████████| 2000/2000 [06:33<00:00,  5.09it/s]\n"
     ]
    },
    {
     "name": "stdout",
     "output_type": "stream",
     "text": [
      "Epoch 587 Mean Reward: -23.744424194335938\n"
     ]
    },
    {
     "name": "stderr",
     "output_type": "stream",
     "text": [
      "100%|██████████| 2000/2000 [06:49<00:00,  4.88it/s]\n"
     ]
    },
    {
     "name": "stdout",
     "output_type": "stream",
     "text": [
      "Epoch 588 Mean Reward: -30.954875953674318\n"
     ]
    },
    {
     "name": "stderr",
     "output_type": "stream",
     "text": [
      "100%|██████████| 2000/2000 [06:21<00:00,  5.25it/s]\n"
     ]
    },
    {
     "name": "stdout",
     "output_type": "stream",
     "text": [
      "Epoch 589 Mean Reward: -19.74197612762451\n"
     ]
    },
    {
     "name": "stderr",
     "output_type": "stream",
     "text": [
      "100%|██████████| 2000/2000 [06:37<00:00,  5.03it/s]\n"
     ]
    },
    {
     "name": "stdout",
     "output_type": "stream",
     "text": [
      "Epoch 590 Mean Reward: -22.741231391906737\n"
     ]
    },
    {
     "name": "stderr",
     "output_type": "stream",
     "text": [
      "100%|██████████| 2000/2000 [07:00<00:00,  4.75it/s]\n"
     ]
    },
    {
     "name": "stdout",
     "output_type": "stream",
     "text": [
      "Epoch 591 Mean Reward: -22.624493507385253\n"
     ]
    },
    {
     "name": "stderr",
     "output_type": "stream",
     "text": [
      "100%|██████████| 2000/2000 [07:06<00:00,  4.68it/s]\n"
     ]
    },
    {
     "name": "stdout",
     "output_type": "stream",
     "text": [
      "Epoch 592 Mean Reward: -23.306741325378418\n"
     ]
    },
    {
     "name": "stderr",
     "output_type": "stream",
     "text": [
      "100%|██████████| 2000/2000 [07:02<00:00,  4.73it/s]\n"
     ]
    },
    {
     "name": "stdout",
     "output_type": "stream",
     "text": [
      "Epoch 593 Mean Reward: -31.374283576965333\n"
     ]
    },
    {
     "name": "stderr",
     "output_type": "stream",
     "text": [
      "100%|██████████| 2000/2000 [07:05<00:00,  4.70it/s]\n"
     ]
    },
    {
     "name": "stdout",
     "output_type": "stream",
     "text": [
      "Epoch 594 Mean Reward: -23.077870414733887\n"
     ]
    },
    {
     "name": "stderr",
     "output_type": "stream",
     "text": [
      "100%|██████████| 2000/2000 [07:09<00:00,  4.66it/s]\n"
     ]
    },
    {
     "name": "stdout",
     "output_type": "stream",
     "text": [
      "Epoch 595 Mean Reward: -25.508467514038085\n"
     ]
    },
    {
     "name": "stderr",
     "output_type": "stream",
     "text": [
      "100%|██████████| 2000/2000 [07:32<00:00,  4.42it/s]\n"
     ]
    },
    {
     "name": "stdout",
     "output_type": "stream",
     "text": [
      "Epoch 596 Mean Reward: -17.140939796447753\n"
     ]
    },
    {
     "name": "stderr",
     "output_type": "stream",
     "text": [
      "100%|██████████| 2000/2000 [07:07<00:00,  4.68it/s]\n"
     ]
    },
    {
     "name": "stdout",
     "output_type": "stream",
     "text": [
      "Epoch 597 Mean Reward: -26.348237548828124\n"
     ]
    },
    {
     "name": "stderr",
     "output_type": "stream",
     "text": [
      "100%|██████████| 2000/2000 [07:30<00:00,  4.43it/s]\n"
     ]
    },
    {
     "name": "stdout",
     "output_type": "stream",
     "text": [
      "Epoch 598 Mean Reward: -28.26548416900635\n"
     ]
    },
    {
     "name": "stderr",
     "output_type": "stream",
     "text": [
      "100%|██████████| 2000/2000 [07:28<00:00,  4.45it/s]\n"
     ]
    },
    {
     "name": "stdout",
     "output_type": "stream",
     "text": [
      "Epoch 599 Mean Reward: -17.510422302246095\n"
     ]
    },
    {
     "name": "stderr",
     "output_type": "stream",
     "text": [
      "100%|██████████| 2000/2000 [07:31<00:00,  4.43it/s]\n"
     ]
    },
    {
     "name": "stdout",
     "output_type": "stream",
     "text": [
      "Epoch 600 Mean Reward: -29.271932739257814\n",
      "Epoch 600 Model saved to ./checkpoints/deadly_corridor.ckpt\n",
      "Epoch 600 test with depth buffer:\n",
      "Test Episode 1 Reward: -115.96055603027344\n",
      "Test Episode 2 Reward: -115.99794006347656\n",
      "Test Episode 3 Reward: -63.83341979980469\n",
      "Test Episode 4 Reward: -63.83341979980469\n",
      "Test Episode 5 Reward: -115.99786376953125\n",
      "Test Episode 6 Reward: -115.36758422851562\n",
      "Test Episode 7 Reward: -115.99430847167969\n",
      "Test Episode 8 Reward: -115.97885131835938\n",
      "Test Episode 9 Reward: -115.99784851074219\n",
      "Test Episode 10 Reward: -115.99787902832031\n",
      "Average Test Reward (with depth buffer:) -105.49596710205078\n",
      "Epoch 600 test without depth buffer:\n",
      "Test Episode 1 Reward: -115.97599792480469\n",
      "Test Episode 2 Reward: -111.90060424804688\n",
      "Test Episode 3 Reward: -75.63905334472656\n",
      "Test Episode 4 Reward: -99.62202453613281\n",
      "Test Episode 5 Reward: -114.048095703125\n",
      "Test Episode 6 Reward: -115.92611694335938\n",
      "Test Episode 7 Reward: -115.99856567382812\n",
      "Test Episode 8 Reward: -115.92611694335938\n",
      "Test Episode 9 Reward: -115.92611694335938\n",
      "Test Episode 10 Reward: -115.92611694335938\n",
      "Average Test Reward (without depth buffer): -109.68888092041016\n"
     ]
    },
    {
     "name": "stderr",
     "output_type": "stream",
     "text": [
      "100%|██████████| 2000/2000 [07:45<00:00,  4.29it/s]\n"
     ]
    },
    {
     "name": "stdout",
     "output_type": "stream",
     "text": [
      "Epoch 601 Mean Reward: -14.061149459838868\n"
     ]
    },
    {
     "name": "stderr",
     "output_type": "stream",
     "text": [
      "100%|██████████| 2000/2000 [07:16<00:00,  4.58it/s]\n"
     ]
    },
    {
     "name": "stdout",
     "output_type": "stream",
     "text": [
      "Epoch 602 Mean Reward: -34.22644275665283\n"
     ]
    },
    {
     "name": "stderr",
     "output_type": "stream",
     "text": [
      "100%|██████████| 2000/2000 [07:23<00:00,  4.51it/s]\n"
     ]
    },
    {
     "name": "stdout",
     "output_type": "stream",
     "text": [
      "Epoch 603 Mean Reward: -24.696617149353028\n"
     ]
    },
    {
     "name": "stderr",
     "output_type": "stream",
     "text": [
      "100%|██████████| 2000/2000 [07:05<00:00,  4.70it/s]\n"
     ]
    },
    {
     "name": "stdout",
     "output_type": "stream",
     "text": [
      "Epoch 604 Mean Reward: -30.185918006896973\n"
     ]
    },
    {
     "name": "stderr",
     "output_type": "stream",
     "text": [
      "100%|██████████| 2000/2000 [07:08<00:00,  4.67it/s]\n"
     ]
    },
    {
     "name": "stdout",
     "output_type": "stream",
     "text": [
      "Epoch 605 Mean Reward: -22.862389778137207\n"
     ]
    },
    {
     "name": "stderr",
     "output_type": "stream",
     "text": [
      "100%|██████████| 2000/2000 [07:19<00:00,  4.55it/s]\n"
     ]
    },
    {
     "name": "stdout",
     "output_type": "stream",
     "text": [
      "Epoch 606 Mean Reward: -25.198102615356444\n"
     ]
    },
    {
     "name": "stderr",
     "output_type": "stream",
     "text": [
      "100%|██████████| 2000/2000 [07:26<00:00,  4.48it/s]\n"
     ]
    },
    {
     "name": "stdout",
     "output_type": "stream",
     "text": [
      "Epoch 607 Mean Reward: -23.653157218933107\n"
     ]
    },
    {
     "name": "stderr",
     "output_type": "stream",
     "text": [
      "100%|██████████| 2000/2000 [07:49<00:00,  4.26it/s]\n"
     ]
    },
    {
     "name": "stdout",
     "output_type": "stream",
     "text": [
      "Epoch 608 Mean Reward: -27.69972886657715\n"
     ]
    },
    {
     "name": "stderr",
     "output_type": "stream",
     "text": [
      "100%|██████████| 2000/2000 [07:07<00:00,  4.68it/s]\n"
     ]
    },
    {
     "name": "stdout",
     "output_type": "stream",
     "text": [
      "Epoch 609 Mean Reward: -30.091037460327147\n"
     ]
    },
    {
     "name": "stderr",
     "output_type": "stream",
     "text": [
      "100%|██████████| 2000/2000 [07:36<00:00,  4.39it/s]\n"
     ]
    },
    {
     "name": "stdout",
     "output_type": "stream",
     "text": [
      "Epoch 610 Mean Reward: -36.11789861297608\n"
     ]
    },
    {
     "name": "stderr",
     "output_type": "stream",
     "text": [
      "100%|██████████| 2000/2000 [08:26<00:00,  3.95it/s]\n"
     ]
    },
    {
     "name": "stdout",
     "output_type": "stream",
     "text": [
      "Epoch 611 Mean Reward: -20.57448336791992\n"
     ]
    },
    {
     "name": "stderr",
     "output_type": "stream",
     "text": [
      "100%|██████████| 2000/2000 [08:49<00:00,  3.78it/s]\n"
     ]
    },
    {
     "name": "stdout",
     "output_type": "stream",
     "text": [
      "Epoch 612 Mean Reward: -27.002954963684083\n"
     ]
    },
    {
     "name": "stderr",
     "output_type": "stream",
     "text": [
      "100%|██████████| 2000/2000 [08:27<00:00,  3.94it/s]\n"
     ]
    },
    {
     "name": "stdout",
     "output_type": "stream",
     "text": [
      "Epoch 613 Mean Reward: -16.88640087890625\n"
     ]
    },
    {
     "name": "stderr",
     "output_type": "stream",
     "text": [
      "100%|██████████| 2000/2000 [08:48<00:00,  3.78it/s]\n"
     ]
    },
    {
     "name": "stdout",
     "output_type": "stream",
     "text": [
      "Epoch 614 Mean Reward: -21.226140586853028\n"
     ]
    },
    {
     "name": "stderr",
     "output_type": "stream",
     "text": [
      "100%|██████████| 2000/2000 [09:07<00:00,  3.65it/s]\n"
     ]
    },
    {
     "name": "stdout",
     "output_type": "stream",
     "text": [
      "Epoch 615 Mean Reward: -20.881309745788574\n"
     ]
    },
    {
     "name": "stderr",
     "output_type": "stream",
     "text": [
      "100%|██████████| 2000/2000 [08:31<00:00,  3.91it/s]\n"
     ]
    },
    {
     "name": "stdout",
     "output_type": "stream",
     "text": [
      "Epoch 616 Mean Reward: -19.19382907104492\n"
     ]
    },
    {
     "name": "stderr",
     "output_type": "stream",
     "text": [
      "100%|██████████| 2000/2000 [08:12<00:00,  4.06it/s]\n"
     ]
    },
    {
     "name": "stdout",
     "output_type": "stream",
     "text": [
      "Epoch 617 Mean Reward: -18.805766036987304\n"
     ]
    },
    {
     "name": "stderr",
     "output_type": "stream",
     "text": [
      "100%|██████████| 2000/2000 [08:17<00:00,  4.02it/s]\n"
     ]
    },
    {
     "name": "stdout",
     "output_type": "stream",
     "text": [
      "Epoch 618 Mean Reward: -24.758430198669434\n"
     ]
    },
    {
     "name": "stderr",
     "output_type": "stream",
     "text": [
      "100%|██████████| 2000/2000 [08:35<00:00,  3.88it/s]\n"
     ]
    },
    {
     "name": "stdout",
     "output_type": "stream",
     "text": [
      "Epoch 619 Mean Reward: -15.557927230834961\n"
     ]
    },
    {
     "name": "stderr",
     "output_type": "stream",
     "text": [
      "100%|██████████| 2000/2000 [08:13<00:00,  4.05it/s]\n"
     ]
    },
    {
     "name": "stdout",
     "output_type": "stream",
     "text": [
      "Epoch 620 Mean Reward: -21.747771141052247\n",
      "Epoch 620 Model saved to ./checkpoints/deadly_corridor.ckpt\n",
      "Epoch 620 test with depth buffer:\n",
      "Test Episode 1 Reward: -115.99092102050781\n",
      "Test Episode 2 Reward: -115.99092102050781\n",
      "Test Episode 3 Reward: -115.99092102050781\n",
      "Test Episode 4 Reward: -115.99363708496094\n",
      "Test Episode 5 Reward: -115.99858093261719\n",
      "Test Episode 6 Reward: -115.94114685058594\n",
      "Test Episode 7 Reward: -115.99092102050781\n",
      "Test Episode 8 Reward: -115.97599792480469\n",
      "Test Episode 9 Reward: -115.99092102050781\n",
      "Test Episode 10 Reward: -115.91966247558594\n",
      "Average Test Reward (with depth buffer:) -115.97836303710938\n",
      "Epoch 620 test without depth buffer:\n",
      "Test Episode 1 Reward: -115.97872924804688\n",
      "Test Episode 2 Reward: -96.34049987792969\n",
      "Test Episode 3 Reward: -115.97563171386719\n",
      "Test Episode 4 Reward: -96.34049987792969\n",
      "Test Episode 5 Reward: 111.14576721191406\n",
      "Test Episode 6 Reward: -96.34049987792969\n",
      "Test Episode 7 Reward: -96.34049987792969\n",
      "Test Episode 8 Reward: -96.34049987792969\n",
      "Test Episode 9 Reward: -96.34049987792969\n",
      "Test Episode 10 Reward: -115.98019409179688\n",
      "Average Test Reward (without depth buffer): -81.4831787109375\n"
     ]
    },
    {
     "name": "stderr",
     "output_type": "stream",
     "text": [
      "100%|██████████| 2000/2000 [08:44<00:00,  3.81it/s]\n"
     ]
    },
    {
     "name": "stdout",
     "output_type": "stream",
     "text": [
      "Epoch 621 Mean Reward: -8.102358680725098\n"
     ]
    },
    {
     "name": "stderr",
     "output_type": "stream",
     "text": [
      "100%|██████████| 2000/2000 [08:31<00:00,  3.91it/s]\n"
     ]
    },
    {
     "name": "stdout",
     "output_type": "stream",
     "text": [
      "Epoch 622 Mean Reward: -7.948390625\n"
     ]
    },
    {
     "name": "stderr",
     "output_type": "stream",
     "text": [
      "100%|██████████| 2000/2000 [07:50<00:00,  4.25it/s]\n"
     ]
    },
    {
     "name": "stdout",
     "output_type": "stream",
     "text": [
      "Epoch 623 Mean Reward: -6.505032524108887\n"
     ]
    },
    {
     "name": "stderr",
     "output_type": "stream",
     "text": [
      "100%|██████████| 2000/2000 [08:10<00:00,  4.08it/s]\n"
     ]
    },
    {
     "name": "stdout",
     "output_type": "stream",
     "text": [
      "Epoch 624 Mean Reward: 2.591687973022461\n"
     ]
    },
    {
     "name": "stderr",
     "output_type": "stream",
     "text": [
      "100%|██████████| 2000/2000 [08:03<00:00,  4.13it/s]\n"
     ]
    },
    {
     "name": "stdout",
     "output_type": "stream",
     "text": [
      "Epoch 625 Mean Reward: -17.10397013092041\n"
     ]
    },
    {
     "name": "stderr",
     "output_type": "stream",
     "text": [
      "100%|██████████| 2000/2000 [07:57<00:00,  4.19it/s]\n"
     ]
    },
    {
     "name": "stdout",
     "output_type": "stream",
     "text": [
      "Epoch 626 Mean Reward: -10.671664710998535\n"
     ]
    },
    {
     "name": "stderr",
     "output_type": "stream",
     "text": [
      "100%|██████████| 2000/2000 [07:58<00:00,  4.18it/s]\n"
     ]
    },
    {
     "name": "stdout",
     "output_type": "stream",
     "text": [
      "Epoch 627 Mean Reward: -8.649547973632812\n"
     ]
    },
    {
     "name": "stderr",
     "output_type": "stream",
     "text": [
      "100%|██████████| 2000/2000 [08:05<00:00,  4.12it/s]\n"
     ]
    },
    {
     "name": "stdout",
     "output_type": "stream",
     "text": [
      "Epoch 628 Mean Reward: -4.907215103149414\n"
     ]
    },
    {
     "name": "stderr",
     "output_type": "stream",
     "text": [
      "100%|██████████| 2000/2000 [08:26<00:00,  3.95it/s]\n"
     ]
    },
    {
     "name": "stdout",
     "output_type": "stream",
     "text": [
      "Epoch 629 Mean Reward: -15.835559410095215\n"
     ]
    },
    {
     "name": "stderr",
     "output_type": "stream",
     "text": [
      "100%|██████████| 2000/2000 [08:29<00:00,  3.92it/s]\n"
     ]
    },
    {
     "name": "stdout",
     "output_type": "stream",
     "text": [
      "Epoch 630 Mean Reward: -11.239941329956055\n"
     ]
    },
    {
     "name": "stderr",
     "output_type": "stream",
     "text": [
      "100%|██████████| 2000/2000 [08:04<00:00,  4.13it/s]\n"
     ]
    },
    {
     "name": "stdout",
     "output_type": "stream",
     "text": [
      "Epoch 631 Mean Reward: -10.749901489257812\n"
     ]
    },
    {
     "name": "stderr",
     "output_type": "stream",
     "text": [
      "100%|██████████| 2000/2000 [08:26<00:00,  3.95it/s]\n"
     ]
    },
    {
     "name": "stdout",
     "output_type": "stream",
     "text": [
      "Epoch 632 Mean Reward: -3.3273730773925783\n"
     ]
    },
    {
     "name": "stderr",
     "output_type": "stream",
     "text": [
      "100%|██████████| 2000/2000 [08:23<00:00,  3.98it/s]\n"
     ]
    },
    {
     "name": "stdout",
     "output_type": "stream",
     "text": [
      "Epoch 633 Mean Reward: -11.135578750610351\n"
     ]
    },
    {
     "name": "stderr",
     "output_type": "stream",
     "text": [
      "100%|██████████| 2000/2000 [08:12<00:00,  4.06it/s]\n"
     ]
    },
    {
     "name": "stdout",
     "output_type": "stream",
     "text": [
      "Epoch 634 Mean Reward: -5.8196666717529295\n"
     ]
    },
    {
     "name": "stderr",
     "output_type": "stream",
     "text": [
      "100%|██████████| 2000/2000 [08:25<00:00,  3.96it/s]\n"
     ]
    },
    {
     "name": "stdout",
     "output_type": "stream",
     "text": [
      "Epoch 635 Mean Reward: -13.346652114868164\n"
     ]
    },
    {
     "name": "stderr",
     "output_type": "stream",
     "text": [
      "100%|██████████| 2000/2000 [08:24<00:00,  3.96it/s]\n"
     ]
    },
    {
     "name": "stdout",
     "output_type": "stream",
     "text": [
      "Epoch 636 Mean Reward: 3.529417091369629\n"
     ]
    },
    {
     "name": "stderr",
     "output_type": "stream",
     "text": [
      "100%|██████████| 2000/2000 [08:25<00:00,  3.96it/s]\n"
     ]
    },
    {
     "name": "stdout",
     "output_type": "stream",
     "text": [
      "Epoch 637 Mean Reward: -5.223247047424317\n"
     ]
    },
    {
     "name": "stderr",
     "output_type": "stream",
     "text": [
      "100%|██████████| 2000/2000 [08:24<00:00,  3.97it/s]\n"
     ]
    },
    {
     "name": "stdout",
     "output_type": "stream",
     "text": [
      "Epoch 638 Mean Reward: -7.661084228515625\n"
     ]
    },
    {
     "name": "stderr",
     "output_type": "stream",
     "text": [
      "100%|██████████| 2000/2000 [08:21<00:00,  3.99it/s]\n"
     ]
    },
    {
     "name": "stdout",
     "output_type": "stream",
     "text": [
      "Epoch 639 Mean Reward: -1.038700065612793\n"
     ]
    },
    {
     "name": "stderr",
     "output_type": "stream",
     "text": [
      "100%|██████████| 2000/2000 [08:30<00:00,  3.92it/s]\n"
     ]
    },
    {
     "name": "stdout",
     "output_type": "stream",
     "text": [
      "Epoch 640 Mean Reward: 0.9357165832519532\n",
      "Epoch 640 Model saved to ./checkpoints/deadly_corridor.ckpt\n",
      "Epoch 640 test with depth buffer:\n",
      "Test Episode 1 Reward: -115.99794006347656\n",
      "Test Episode 2 Reward: -112.43791198730469\n",
      "Test Episode 3 Reward: -115.99119567871094\n",
      "Test Episode 4 Reward: -115.81806945800781\n",
      "Test Episode 5 Reward: -115.99813842773438\n",
      "Test Episode 6 Reward: -115.9979248046875\n",
      "Test Episode 7 Reward: -112.43791198730469\n",
      "Test Episode 8 Reward: 40.50836181640625\n",
      "Test Episode 9 Reward: -115.93948364257812\n",
      "Test Episode 10 Reward: -88.72373962402344\n",
      "Average Test Reward (with depth buffer:) -96.88339538574219\n",
      "Epoch 640 test without depth buffer:\n",
      "Test Episode 1 Reward: -52.2601318359375\n",
      "Test Episode 2 Reward: -115.59890747070312\n",
      "Test Episode 3 Reward: -115.59890747070312\n",
      "Test Episode 4 Reward: -115.59890747070312\n",
      "Test Episode 5 Reward: -115.59890747070312\n",
      "Test Episode 6 Reward: -115.59890747070312\n",
      "Test Episode 7 Reward: -52.51817321777344\n",
      "Test Episode 8 Reward: -115.99928283691406\n",
      "Test Episode 9 Reward: -115.59890747070312\n",
      "Test Episode 10 Reward: -115.59890747070312\n",
      "Average Test Reward (without depth buffer): -102.99699401855469\n"
     ]
    },
    {
     "name": "stderr",
     "output_type": "stream",
     "text": [
      "100%|██████████| 2000/2000 [08:46<00:00,  3.80it/s]\n"
     ]
    },
    {
     "name": "stdout",
     "output_type": "stream",
     "text": [
      "Epoch 641 Mean Reward: -16.51516005706787\n"
     ]
    },
    {
     "name": "stderr",
     "output_type": "stream",
     "text": [
      "100%|██████████| 2000/2000 [09:10<00:00,  3.63it/s]\n"
     ]
    },
    {
     "name": "stdout",
     "output_type": "stream",
     "text": [
      "Epoch 642 Mean Reward: -6.655869102478027\n"
     ]
    },
    {
     "name": "stderr",
     "output_type": "stream",
     "text": [
      "100%|██████████| 2000/2000 [09:30<00:00,  3.51it/s]\n"
     ]
    },
    {
     "name": "stdout",
     "output_type": "stream",
     "text": [
      "Epoch 643 Mean Reward: -12.295326698303223\n"
     ]
    },
    {
     "name": "stderr",
     "output_type": "stream",
     "text": [
      "100%|██████████| 2000/2000 [09:23<00:00,  3.55it/s]\n"
     ]
    },
    {
     "name": "stdout",
     "output_type": "stream",
     "text": [
      "Epoch 644 Mean Reward: -18.653095878601075\n"
     ]
    },
    {
     "name": "stderr",
     "output_type": "stream",
     "text": [
      "100%|██████████| 2000/2000 [08:57<00:00,  3.72it/s]\n"
     ]
    },
    {
     "name": "stdout",
     "output_type": "stream",
     "text": [
      "Epoch 645 Mean Reward: -10.757683784484863\n"
     ]
    },
    {
     "name": "stderr",
     "output_type": "stream",
     "text": [
      "100%|██████████| 2000/2000 [09:15<00:00,  3.60it/s]\n"
     ]
    },
    {
     "name": "stdout",
     "output_type": "stream",
     "text": [
      "Epoch 646 Mean Reward: -21.987171752929687\n"
     ]
    },
    {
     "name": "stderr",
     "output_type": "stream",
     "text": [
      "100%|██████████| 2000/2000 [09:03<00:00,  3.68it/s]\n"
     ]
    },
    {
     "name": "stdout",
     "output_type": "stream",
     "text": [
      "Epoch 647 Mean Reward: -8.049201156616212\n"
     ]
    },
    {
     "name": "stderr",
     "output_type": "stream",
     "text": [
      "100%|██████████| 2000/2000 [09:53<00:00,  3.37it/s]\n"
     ]
    },
    {
     "name": "stdout",
     "output_type": "stream",
     "text": [
      "Epoch 648 Mean Reward: -27.404122650146483\n"
     ]
    },
    {
     "name": "stderr",
     "output_type": "stream",
     "text": [
      "100%|██████████| 2000/2000 [09:13<00:00,  3.61it/s]\n"
     ]
    },
    {
     "name": "stdout",
     "output_type": "stream",
     "text": [
      "Epoch 649 Mean Reward: -14.293848579406738\n"
     ]
    },
    {
     "name": "stderr",
     "output_type": "stream",
     "text": [
      "100%|██████████| 2000/2000 [09:22<00:00,  3.56it/s]\n"
     ]
    },
    {
     "name": "stdout",
     "output_type": "stream",
     "text": [
      "Epoch 650 Mean Reward: -8.949256401062012\n"
     ]
    },
    {
     "name": "stderr",
     "output_type": "stream",
     "text": [
      "100%|██████████| 2000/2000 [09:30<00:00,  3.50it/s]\n"
     ]
    },
    {
     "name": "stdout",
     "output_type": "stream",
     "text": [
      "Epoch 651 Mean Reward: -7.668739974975586\n"
     ]
    },
    {
     "name": "stderr",
     "output_type": "stream",
     "text": [
      "100%|██████████| 2000/2000 [10:03<00:00,  3.32it/s]\n"
     ]
    },
    {
     "name": "stdout",
     "output_type": "stream",
     "text": [
      "Epoch 652 Mean Reward: -14.26384375\n"
     ]
    },
    {
     "name": "stderr",
     "output_type": "stream",
     "text": [
      "100%|██████████| 2000/2000 [09:38<00:00,  3.46it/s]\n"
     ]
    },
    {
     "name": "stdout",
     "output_type": "stream",
     "text": [
      "Epoch 653 Mean Reward: -12.766297668457032\n"
     ]
    },
    {
     "name": "stderr",
     "output_type": "stream",
     "text": [
      "100%|██████████| 2000/2000 [09:26<00:00,  3.53it/s]\n"
     ]
    },
    {
     "name": "stdout",
     "output_type": "stream",
     "text": [
      "Epoch 654 Mean Reward: -5.51850749206543\n"
     ]
    },
    {
     "name": "stderr",
     "output_type": "stream",
     "text": [
      "100%|██████████| 2000/2000 [09:34<00:00,  3.48it/s]\n"
     ]
    },
    {
     "name": "stdout",
     "output_type": "stream",
     "text": [
      "Epoch 655 Mean Reward: -13.636462203979493\n"
     ]
    },
    {
     "name": "stderr",
     "output_type": "stream",
     "text": [
      "100%|██████████| 2000/2000 [10:05<00:00,  3.30it/s]\n"
     ]
    },
    {
     "name": "stdout",
     "output_type": "stream",
     "text": [
      "Epoch 656 Mean Reward: -13.362224807739258\n"
     ]
    },
    {
     "name": "stderr",
     "output_type": "stream",
     "text": [
      "100%|██████████| 2000/2000 [09:48<00:00,  3.40it/s]\n"
     ]
    },
    {
     "name": "stdout",
     "output_type": "stream",
     "text": [
      "Epoch 657 Mean Reward: -7.800055435180664\n"
     ]
    },
    {
     "name": "stderr",
     "output_type": "stream",
     "text": [
      "100%|██████████| 2000/2000 [10:04<00:00,  3.31it/s]\n"
     ]
    },
    {
     "name": "stdout",
     "output_type": "stream",
     "text": [
      "Epoch 658 Mean Reward: -3.087134864807129\n"
     ]
    },
    {
     "name": "stderr",
     "output_type": "stream",
     "text": [
      "100%|██████████| 2000/2000 [10:33<00:00,  3.16it/s]\n"
     ]
    },
    {
     "name": "stdout",
     "output_type": "stream",
     "text": [
      "Epoch 659 Mean Reward: -8.902830146789551\n"
     ]
    },
    {
     "name": "stderr",
     "output_type": "stream",
     "text": [
      "100%|██████████| 2000/2000 [09:48<00:00,  3.40it/s]\n"
     ]
    },
    {
     "name": "stdout",
     "output_type": "stream",
     "text": [
      "Epoch 660 Mean Reward: -12.825188941955567\n",
      "Epoch 660 Model saved to ./checkpoints/deadly_corridor.ckpt\n",
      "Epoch 660 test with depth buffer:\n",
      "Test Episode 1 Reward: -115.99813842773438\n",
      "Test Episode 2 Reward: -115.99813842773438\n",
      "Test Episode 3 Reward: -115.99934387207031\n",
      "Test Episode 4 Reward: -115.93583679199219\n",
      "Test Episode 5 Reward: -115.99864196777344\n",
      "Test Episode 6 Reward: -115.83575439453125\n",
      "Test Episode 7 Reward: -115.99862670898438\n",
      "Test Episode 8 Reward: -115.99795532226562\n",
      "Test Episode 9 Reward: -115.98898315429688\n",
      "Test Episode 10 Reward: -115.99813842773438\n",
      "Average Test Reward (with depth buffer:) -115.97495574951172\n",
      "Epoch 660 test without depth buffer:\n",
      "Test Episode 1 Reward: -115.98005676269531\n",
      "Test Episode 2 Reward: -115.98530578613281\n",
      "Test Episode 3 Reward: -115.99824523925781\n",
      "Test Episode 4 Reward: -115.98094177246094\n",
      "Test Episode 5 Reward: -68.5010986328125\n",
      "Test Episode 6 Reward: -115.99040222167969\n",
      "Test Episode 7 Reward: -106.76052856445312\n",
      "Test Episode 8 Reward: -115.99571228027344\n",
      "Test Episode 9 Reward: -106.76052856445312\n",
      "Test Episode 10 Reward: -106.76052856445312\n",
      "Average Test Reward (without depth buffer): -108.4713348388672\n"
     ]
    },
    {
     "name": "stderr",
     "output_type": "stream",
     "text": [
      "100%|██████████| 2000/2000 [09:16<00:00,  3.59it/s]\n"
     ]
    },
    {
     "name": "stdout",
     "output_type": "stream",
     "text": [
      "Epoch 661 Mean Reward: -6.970952560424805\n"
     ]
    },
    {
     "name": "stderr",
     "output_type": "stream",
     "text": [
      "100%|██████████| 2000/2000 [09:48<00:00,  3.40it/s]\n"
     ]
    },
    {
     "name": "stdout",
     "output_type": "stream",
     "text": [
      "Epoch 662 Mean Reward: -25.489435424804686\n"
     ]
    },
    {
     "name": "stderr",
     "output_type": "stream",
     "text": [
      "100%|██████████| 2000/2000 [09:00<00:00,  3.70it/s]\n"
     ]
    },
    {
     "name": "stdout",
     "output_type": "stream",
     "text": [
      "Epoch 663 Mean Reward: -17.98829779815674\n"
     ]
    },
    {
     "name": "stderr",
     "output_type": "stream",
     "text": [
      "100%|██████████| 2000/2000 [08:47<00:00,  3.79it/s]\n"
     ]
    },
    {
     "name": "stdout",
     "output_type": "stream",
     "text": [
      "Epoch 664 Mean Reward: -18.577844268798827\n"
     ]
    },
    {
     "name": "stderr",
     "output_type": "stream",
     "text": [
      "100%|██████████| 2000/2000 [09:20<00:00,  3.57it/s]\n"
     ]
    },
    {
     "name": "stdout",
     "output_type": "stream",
     "text": [
      "Epoch 665 Mean Reward: -20.641888633728026\n"
     ]
    },
    {
     "name": "stderr",
     "output_type": "stream",
     "text": [
      "100%|██████████| 2000/2000 [08:53<00:00,  3.75it/s]\n"
     ]
    },
    {
     "name": "stdout",
     "output_type": "stream",
     "text": [
      "Epoch 666 Mean Reward: -28.6017395401001\n"
     ]
    },
    {
     "name": "stderr",
     "output_type": "stream",
     "text": [
      "100%|██████████| 2000/2000 [09:36<00:00,  3.47it/s]\n"
     ]
    },
    {
     "name": "stdout",
     "output_type": "stream",
     "text": [
      "Epoch 667 Mean Reward: -31.255288787841796\n"
     ]
    },
    {
     "name": "stderr",
     "output_type": "stream",
     "text": [
      "100%|██████████| 2000/2000 [09:37<00:00,  3.46it/s]\n"
     ]
    },
    {
     "name": "stdout",
     "output_type": "stream",
     "text": [
      "Epoch 668 Mean Reward: -13.107696166992188\n"
     ]
    },
    {
     "name": "stderr",
     "output_type": "stream",
     "text": [
      "100%|██████████| 2000/2000 [10:06<00:00,  3.30it/s]\n"
     ]
    },
    {
     "name": "stdout",
     "output_type": "stream",
     "text": [
      "Epoch 669 Mean Reward: -22.179699775695802\n"
     ]
    },
    {
     "name": "stderr",
     "output_type": "stream",
     "text": [
      "100%|██████████| 2000/2000 [09:20<00:00,  3.57it/s]\n"
     ]
    },
    {
     "name": "stdout",
     "output_type": "stream",
     "text": [
      "Epoch 670 Mean Reward: -14.463779586791992\n"
     ]
    },
    {
     "name": "stderr",
     "output_type": "stream",
     "text": [
      "100%|██████████| 2000/2000 [10:12<00:00,  3.27it/s]\n"
     ]
    },
    {
     "name": "stdout",
     "output_type": "stream",
     "text": [
      "Epoch 671 Mean Reward: -33.50402543640137\n"
     ]
    },
    {
     "name": "stderr",
     "output_type": "stream",
     "text": [
      "100%|██████████| 2000/2000 [10:01<00:00,  3.32it/s]\n"
     ]
    },
    {
     "name": "stdout",
     "output_type": "stream",
     "text": [
      "Epoch 672 Mean Reward: -25.554723770141603\n"
     ]
    },
    {
     "name": "stderr",
     "output_type": "stream",
     "text": [
      "100%|██████████| 2000/2000 [10:58<00:00,  3.04it/s]\n"
     ]
    },
    {
     "name": "stdout",
     "output_type": "stream",
     "text": [
      "Epoch 673 Mean Reward: -54.89013272857666\n"
     ]
    },
    {
     "name": "stderr",
     "output_type": "stream",
     "text": [
      "100%|██████████| 2000/2000 [10:42<00:00,  3.11it/s]\n"
     ]
    },
    {
     "name": "stdout",
     "output_type": "stream",
     "text": [
      "Epoch 674 Mean Reward: -36.06250629425049\n"
     ]
    },
    {
     "name": "stderr",
     "output_type": "stream",
     "text": [
      "100%|██████████| 2000/2000 [18:48<00:00,  1.77it/s]\n"
     ]
    },
    {
     "name": "stdout",
     "output_type": "stream",
     "text": [
      "Epoch 675 Mean Reward: -39.12291702270508\n"
     ]
    },
    {
     "name": "stderr",
     "output_type": "stream",
     "text": [
      "100%|██████████| 2000/2000 [25:44<00:00,  1.29it/s]\n"
     ]
    },
    {
     "name": "stdout",
     "output_type": "stream",
     "text": [
      "Epoch 676 Mean Reward: -32.78951109313965\n"
     ]
    },
    {
     "name": "stderr",
     "output_type": "stream",
     "text": [
      "100%|██████████| 2000/2000 [24:36<00:00,  1.35it/s]\n"
     ]
    },
    {
     "name": "stdout",
     "output_type": "stream",
     "text": [
      "Epoch 677 Mean Reward: -44.52436025238037\n"
     ]
    },
    {
     "name": "stderr",
     "output_type": "stream",
     "text": [
      "100%|██████████| 2000/2000 [22:10<00:00,  1.50it/s]\n"
     ]
    },
    {
     "name": "stdout",
     "output_type": "stream",
     "text": [
      "Epoch 678 Mean Reward: -36.567862365722654\n"
     ]
    },
    {
     "name": "stderr",
     "output_type": "stream",
     "text": [
      "100%|██████████| 2000/2000 [22:08<00:00,  1.51it/s]\n"
     ]
    },
    {
     "name": "stdout",
     "output_type": "stream",
     "text": [
      "Epoch 679 Mean Reward: -48.147163818359374\n"
     ]
    },
    {
     "name": "stderr",
     "output_type": "stream",
     "text": [
      "100%|██████████| 2000/2000 [23:17<00:00,  1.43it/s]\n"
     ]
    },
    {
     "name": "stdout",
     "output_type": "stream",
     "text": [
      "Epoch 680 Mean Reward: -57.28933960723877\n",
      "Epoch 680 Model saved to ./checkpoints/deadly_corridor.ckpt\n",
      "Epoch 680 test with depth buffer:\n",
      "Test Episode 1 Reward: -115.99714660644531\n",
      "Test Episode 2 Reward: -115.99714660644531\n",
      "Test Episode 3 Reward: -115.99714660644531\n",
      "Test Episode 4 Reward: -115.99714660644531\n",
      "Test Episode 5 Reward: -115.99714660644531\n",
      "Test Episode 6 Reward: -115.9781494140625\n",
      "Test Episode 7 Reward: -115.99714660644531\n",
      "Test Episode 8 Reward: -115.28787231445312\n",
      "Test Episode 9 Reward: -115.99714660644531\n",
      "Test Episode 10 Reward: -115.97709655761719\n",
      "Average Test Reward (with depth buffer:) -115.922314453125\n",
      "Epoch 680 test without depth buffer:\n",
      "Test Episode 1 Reward: -113.36573791503906\n",
      "Test Episode 2 Reward: -113.36573791503906\n",
      "Test Episode 3 Reward: -106.64779663085938\n",
      "Test Episode 4 Reward: -115.89132690429688\n",
      "Test Episode 5 Reward: -115.99644470214844\n",
      "Test Episode 6 Reward: -110.55894470214844\n",
      "Test Episode 7 Reward: -88.99050903320312\n",
      "Test Episode 8 Reward: -115.99038696289062\n",
      "Test Episode 9 Reward: -83.46015930175781\n",
      "Test Episode 10 Reward: -113.36573791503906\n",
      "Average Test Reward (without depth buffer): -107.76327819824219\n"
     ]
    },
    {
     "name": "stderr",
     "output_type": "stream",
     "text": [
      "100%|██████████| 2000/2000 [11:03<00:00,  3.01it/s]\n"
     ]
    },
    {
     "name": "stdout",
     "output_type": "stream",
     "text": [
      "Epoch 681 Mean Reward: -33.682544090270994\n"
     ]
    },
    {
     "name": "stderr",
     "output_type": "stream",
     "text": [
      "100%|██████████| 2000/2000 [11:04<00:00,  3.01it/s]\n"
     ]
    },
    {
     "name": "stdout",
     "output_type": "stream",
     "text": [
      "Epoch 682 Mean Reward: -28.21117153930664\n"
     ]
    },
    {
     "name": "stderr",
     "output_type": "stream",
     "text": [
      "100%|██████████| 2000/2000 [11:01<00:00,  3.02it/s]\n"
     ]
    },
    {
     "name": "stdout",
     "output_type": "stream",
     "text": [
      "Epoch 683 Mean Reward: -24.670774543762207\n"
     ]
    },
    {
     "name": "stderr",
     "output_type": "stream",
     "text": [
      "100%|██████████| 2000/2000 [13:04<00:00,  2.55it/s]\n"
     ]
    },
    {
     "name": "stdout",
     "output_type": "stream",
     "text": [
      "Epoch 684 Mean Reward: -26.261703926086426\n"
     ]
    },
    {
     "name": "stderr",
     "output_type": "stream",
     "text": [
      "100%|██████████| 2000/2000 [12:56<00:00,  2.58it/s]\n"
     ]
    },
    {
     "name": "stdout",
     "output_type": "stream",
     "text": [
      "Epoch 685 Mean Reward: -39.06342402648926\n"
     ]
    },
    {
     "name": "stderr",
     "output_type": "stream",
     "text": [
      "100%|██████████| 2000/2000 [11:44<00:00,  2.84it/s]\n"
     ]
    },
    {
     "name": "stdout",
     "output_type": "stream",
     "text": [
      "Epoch 686 Mean Reward: -53.20532769012451\n"
     ]
    },
    {
     "name": "stderr",
     "output_type": "stream",
     "text": [
      "100%|██████████| 2000/2000 [10:36<00:00,  3.14it/s]\n"
     ]
    },
    {
     "name": "stdout",
     "output_type": "stream",
     "text": [
      "Epoch 687 Mean Reward: -51.08886731719971\n"
     ]
    },
    {
     "name": "stderr",
     "output_type": "stream",
     "text": [
      "100%|██████████| 2000/2000 [10:07<00:00,  3.29it/s]\n"
     ]
    },
    {
     "name": "stdout",
     "output_type": "stream",
     "text": [
      "Epoch 688 Mean Reward: -30.363683372497558\n"
     ]
    },
    {
     "name": "stderr",
     "output_type": "stream",
     "text": [
      "100%|██████████| 2000/2000 [10:54<00:00,  3.05it/s]\n"
     ]
    },
    {
     "name": "stdout",
     "output_type": "stream",
     "text": [
      "Epoch 689 Mean Reward: -42.451775650024416\n"
     ]
    },
    {
     "name": "stderr",
     "output_type": "stream",
     "text": [
      "100%|██████████| 2000/2000 [10:46<00:00,  3.10it/s]\n"
     ]
    },
    {
     "name": "stdout",
     "output_type": "stream",
     "text": [
      "Epoch 690 Mean Reward: -40.997785934448245\n"
     ]
    },
    {
     "name": "stderr",
     "output_type": "stream",
     "text": [
      "100%|██████████| 2000/2000 [11:02<00:00,  3.02it/s]\n"
     ]
    },
    {
     "name": "stdout",
     "output_type": "stream",
     "text": [
      "Epoch 691 Mean Reward: -34.91390914154053\n"
     ]
    },
    {
     "name": "stderr",
     "output_type": "stream",
     "text": [
      "100%|██████████| 2000/2000 [14:01<00:00,  2.38it/s]\n"
     ]
    },
    {
     "name": "stdout",
     "output_type": "stream",
     "text": [
      "Epoch 692 Mean Reward: -34.00491593170166\n"
     ]
    },
    {
     "name": "stderr",
     "output_type": "stream",
     "text": [
      "100%|██████████| 2000/2000 [12:56<00:00,  2.58it/s]\n"
     ]
    },
    {
     "name": "stdout",
     "output_type": "stream",
     "text": [
      "Epoch 693 Mean Reward: -51.891307342529295\n"
     ]
    },
    {
     "name": "stderr",
     "output_type": "stream",
     "text": [
      "100%|██████████| 2000/2000 [10:54<00:00,  3.05it/s]\n"
     ]
    },
    {
     "name": "stdout",
     "output_type": "stream",
     "text": [
      "Epoch 694 Mean Reward: -48.270130645751955\n"
     ]
    },
    {
     "name": "stderr",
     "output_type": "stream",
     "text": [
      "100%|██████████| 2000/2000 [11:27<00:00,  2.91it/s]\n"
     ]
    },
    {
     "name": "stdout",
     "output_type": "stream",
     "text": [
      "Epoch 695 Mean Reward: -50.11734259033203\n"
     ]
    },
    {
     "name": "stderr",
     "output_type": "stream",
     "text": [
      "100%|██████████| 2000/2000 [13:58<00:00,  2.39it/s]\n"
     ]
    },
    {
     "name": "stdout",
     "output_type": "stream",
     "text": [
      "Epoch 696 Mean Reward: -41.349265907287595\n"
     ]
    },
    {
     "name": "stderr",
     "output_type": "stream",
     "text": [
      "100%|██████████| 2000/2000 [10:39<00:00,  3.13it/s]\n"
     ]
    },
    {
     "name": "stdout",
     "output_type": "stream",
     "text": [
      "Epoch 697 Mean Reward: -43.901524795532225\n"
     ]
    },
    {
     "name": "stderr",
     "output_type": "stream",
     "text": [
      "100%|██████████| 2000/2000 [10:41<00:00,  3.12it/s]\n"
     ]
    },
    {
     "name": "stdout",
     "output_type": "stream",
     "text": [
      "Epoch 698 Mean Reward: -47.854216255187985\n"
     ]
    },
    {
     "name": "stderr",
     "output_type": "stream",
     "text": [
      "100%|██████████| 2000/2000 [10:15<00:00,  3.25it/s]\n"
     ]
    },
    {
     "name": "stdout",
     "output_type": "stream",
     "text": [
      "Epoch 699 Mean Reward: -35.796328346252444\n"
     ]
    },
    {
     "name": "stderr",
     "output_type": "stream",
     "text": [
      "100%|██████████| 2000/2000 [20:22<00:00,  1.64it/s]\n"
     ]
    },
    {
     "name": "stdout",
     "output_type": "stream",
     "text": [
      "Epoch 700 Mean Reward: -35.626420135498044\n",
      "Epoch 700 Model saved to ./checkpoints/deadly_corridor.ckpt\n",
      "Epoch 700 test with depth buffer:\n",
      "Test Episode 1 Reward: -115.99163818359375\n",
      "Test Episode 2 Reward: -115.99163818359375\n",
      "Test Episode 3 Reward: -115.99163818359375\n",
      "Test Episode 4 Reward: -115.97836303710938\n",
      "Test Episode 5 Reward: -115.98023986816406\n",
      "Test Episode 6 Reward: -115.99163818359375\n",
      "Test Episode 7 Reward: -115.99163818359375\n",
      "Test Episode 8 Reward: -115.99859619140625\n",
      "Test Episode 9 Reward: -115.99163818359375\n",
      "Test Episode 10 Reward: -115.9769287109375\n",
      "Average Test Reward (with depth buffer:) -115.98839569091797\n",
      "Epoch 700 test without depth buffer:\n",
      "Test Episode 1 Reward: -115.98295593261719\n",
      "Test Episode 2 Reward: -111.61497497558594\n",
      "Test Episode 3 Reward: -115.98898315429688\n",
      "Test Episode 4 Reward: -115.98295593261719\n",
      "Test Episode 5 Reward: -115.02093505859375\n",
      "Test Episode 6 Reward: -115.98295593261719\n",
      "Test Episode 7 Reward: -115.97853088378906\n",
      "Test Episode 8 Reward: -81.77412414550781\n",
      "Test Episode 9 Reward: -115.98295593261719\n",
      "Test Episode 10 Reward: -115.98295593261719\n",
      "Average Test Reward (without depth buffer): -112.02923278808593\n"
     ]
    },
    {
     "name": "stderr",
     "output_type": "stream",
     "text": [
      "100%|██████████| 2000/2000 [13:21<00:00,  2.50it/s]\n"
     ]
    },
    {
     "name": "stdout",
     "output_type": "stream",
     "text": [
      "Epoch 701 Mean Reward: -44.643205703735354\n"
     ]
    },
    {
     "name": "stderr",
     "output_type": "stream",
     "text": [
      "100%|██████████| 2000/2000 [09:51<00:00,  3.38it/s]\n"
     ]
    },
    {
     "name": "stdout",
     "output_type": "stream",
     "text": [
      "Epoch 702 Mean Reward: -19.363418251037597\n"
     ]
    },
    {
     "name": "stderr",
     "output_type": "stream",
     "text": [
      "100%|██████████| 2000/2000 [12:59<00:00,  2.57it/s]\n"
     ]
    },
    {
     "name": "stdout",
     "output_type": "stream",
     "text": [
      "Epoch 703 Mean Reward: -34.34923129272461\n"
     ]
    },
    {
     "name": "stderr",
     "output_type": "stream",
     "text": [
      "100%|██████████| 2000/2000 [10:16<00:00,  3.24it/s]\n"
     ]
    },
    {
     "name": "stdout",
     "output_type": "stream",
     "text": [
      "Epoch 704 Mean Reward: -30.765112335205078\n"
     ]
    },
    {
     "name": "stderr",
     "output_type": "stream",
     "text": [
      "100%|██████████| 2000/2000 [10:38<00:00,  3.13it/s]\n"
     ]
    },
    {
     "name": "stdout",
     "output_type": "stream",
     "text": [
      "Epoch 705 Mean Reward: -34.775920555114745\n"
     ]
    },
    {
     "name": "stderr",
     "output_type": "stream",
     "text": [
      "100%|██████████| 2000/2000 [09:26<00:00,  3.53it/s]\n"
     ]
    },
    {
     "name": "stdout",
     "output_type": "stream",
     "text": [
      "Epoch 706 Mean Reward: -23.10088591003418\n"
     ]
    },
    {
     "name": "stderr",
     "output_type": "stream",
     "text": [
      "100%|██████████| 2000/2000 [10:33<00:00,  3.16it/s]\n"
     ]
    },
    {
     "name": "stdout",
     "output_type": "stream",
     "text": [
      "Epoch 707 Mean Reward: -24.322781188964843\n"
     ]
    },
    {
     "name": "stderr",
     "output_type": "stream",
     "text": [
      "100%|██████████| 2000/2000 [10:51<00:00,  3.07it/s]\n"
     ]
    },
    {
     "name": "stdout",
     "output_type": "stream",
     "text": [
      "Epoch 708 Mean Reward: -34.13313599395752\n"
     ]
    },
    {
     "name": "stderr",
     "output_type": "stream",
     "text": [
      "100%|██████████| 2000/2000 [10:30<00:00,  3.17it/s]\n"
     ]
    },
    {
     "name": "stdout",
     "output_type": "stream",
     "text": [
      "Epoch 709 Mean Reward: -11.995031272888184\n"
     ]
    },
    {
     "name": "stderr",
     "output_type": "stream",
     "text": [
      "100%|██████████| 2000/2000 [10:42<00:00,  3.11it/s]\n"
     ]
    },
    {
     "name": "stdout",
     "output_type": "stream",
     "text": [
      "Epoch 710 Mean Reward: -31.68059558105469\n"
     ]
    },
    {
     "name": "stderr",
     "output_type": "stream",
     "text": [
      "100%|██████████| 2000/2000 [11:52<00:00,  2.81it/s]\n"
     ]
    },
    {
     "name": "stdout",
     "output_type": "stream",
     "text": [
      "Epoch 711 Mean Reward: -42.54398519897461\n"
     ]
    },
    {
     "name": "stderr",
     "output_type": "stream",
     "text": [
      "100%|██████████| 2000/2000 [12:07<00:00,  2.75it/s]\n"
     ]
    },
    {
     "name": "stdout",
     "output_type": "stream",
     "text": [
      "Epoch 712 Mean Reward: -48.23879759216309\n"
     ]
    },
    {
     "name": "stderr",
     "output_type": "stream",
     "text": [
      "100%|██████████| 2000/2000 [11:47<00:00,  2.83it/s]\n"
     ]
    },
    {
     "name": "stdout",
     "output_type": "stream",
     "text": [
      "Epoch 713 Mean Reward: -42.63678240203858\n"
     ]
    },
    {
     "name": "stderr",
     "output_type": "stream",
     "text": [
      "100%|██████████| 2000/2000 [11:56<00:00,  2.79it/s]\n"
     ]
    },
    {
     "name": "stdout",
     "output_type": "stream",
     "text": [
      "Epoch 714 Mean Reward: -38.64177394866943\n"
     ]
    },
    {
     "name": "stderr",
     "output_type": "stream",
     "text": [
      "100%|██████████| 2000/2000 [11:18<00:00,  2.95it/s]\n"
     ]
    },
    {
     "name": "stdout",
     "output_type": "stream",
     "text": [
      "Epoch 715 Mean Reward: -43.02235707855225\n"
     ]
    },
    {
     "name": "stderr",
     "output_type": "stream",
     "text": [
      "100%|██████████| 2000/2000 [11:29<00:00,  2.90it/s]\n"
     ]
    },
    {
     "name": "stdout",
     "output_type": "stream",
     "text": [
      "Epoch 716 Mean Reward: -42.44579554748535\n"
     ]
    },
    {
     "name": "stderr",
     "output_type": "stream",
     "text": [
      "100%|██████████| 2000/2000 [11:30<00:00,  2.90it/s]\n"
     ]
    },
    {
     "name": "stdout",
     "output_type": "stream",
     "text": [
      "Epoch 717 Mean Reward: -23.7350178527832\n"
     ]
    },
    {
     "name": "stderr",
     "output_type": "stream",
     "text": [
      "100%|██████████| 2000/2000 [11:22<00:00,  2.93it/s]\n"
     ]
    },
    {
     "name": "stdout",
     "output_type": "stream",
     "text": [
      "Epoch 718 Mean Reward: -53.56666312408447\n"
     ]
    },
    {
     "name": "stderr",
     "output_type": "stream",
     "text": [
      "100%|██████████| 2000/2000 [11:40<00:00,  2.86it/s]\n"
     ]
    },
    {
     "name": "stdout",
     "output_type": "stream",
     "text": [
      "Epoch 719 Mean Reward: -34.46010736083984\n"
     ]
    },
    {
     "name": "stderr",
     "output_type": "stream",
     "text": [
      "100%|██████████| 2000/2000 [11:35<00:00,  2.87it/s]\n"
     ]
    },
    {
     "name": "stdout",
     "output_type": "stream",
     "text": [
      "Epoch 720 Mean Reward: -38.03135709381103\n",
      "Epoch 720 Model saved to ./checkpoints/deadly_corridor.ckpt\n",
      "Epoch 720 test with depth buffer:\n",
      "Test Episode 1 Reward: -115.99166870117188\n",
      "Test Episode 2 Reward: -113.41349792480469\n",
      "Test Episode 3 Reward: -113.41349792480469\n",
      "Test Episode 4 Reward: -115.99935913085938\n",
      "Test Episode 5 Reward: -115.56820678710938\n",
      "Test Episode 6 Reward: -115.99858093261719\n",
      "Test Episode 7 Reward: -113.41349792480469\n",
      "Test Episode 8 Reward: -115.82647705078125\n",
      "Test Episode 9 Reward: -113.41349792480469\n",
      "Test Episode 10 Reward: -115.9993896484375\n",
      "Average Test Reward (with depth buffer:) -114.90376739501953\n",
      "Epoch 720 test without depth buffer:\n",
      "Test Episode 1 Reward: -115.97801208496094\n",
      "Test Episode 2 Reward: -115.9796142578125\n",
      "Test Episode 3 Reward: -115.97569274902344\n",
      "Test Episode 4 Reward: -115.99501037597656\n",
      "Test Episode 5 Reward: -115.99259948730469\n",
      "Test Episode 6 Reward: -115.9796142578125\n",
      "Test Episode 7 Reward: -115.9796142578125\n",
      "Test Episode 8 Reward: -114.94686889648438\n",
      "Test Episode 9 Reward: -115.99867248535156\n",
      "Test Episode 10 Reward: -115.9796142578125\n",
      "Average Test Reward (without depth buffer): -115.88053131103516\n"
     ]
    },
    {
     "name": "stderr",
     "output_type": "stream",
     "text": [
      "100%|██████████| 2000/2000 [13:31<00:00,  2.47it/s]\n"
     ]
    },
    {
     "name": "stdout",
     "output_type": "stream",
     "text": [
      "Epoch 721 Mean Reward: -48.10835633087158\n"
     ]
    },
    {
     "name": "stderr",
     "output_type": "stream",
     "text": [
      "100%|██████████| 2000/2000 [13:30<00:00,  2.47it/s]\n"
     ]
    },
    {
     "name": "stdout",
     "output_type": "stream",
     "text": [
      "Epoch 722 Mean Reward: -57.42065301513672\n"
     ]
    },
    {
     "name": "stderr",
     "output_type": "stream",
     "text": [
      "100%|██████████| 2000/2000 [12:50<00:00,  2.60it/s]\n"
     ]
    },
    {
     "name": "stdout",
     "output_type": "stream",
     "text": [
      "Epoch 723 Mean Reward: -30.442440017700196\n"
     ]
    },
    {
     "name": "stderr",
     "output_type": "stream",
     "text": [
      "100%|██████████| 2000/2000 [13:21<00:00,  2.49it/s]\n"
     ]
    },
    {
     "name": "stdout",
     "output_type": "stream",
     "text": [
      "Epoch 724 Mean Reward: -45.978985816955564\n"
     ]
    },
    {
     "name": "stderr",
     "output_type": "stream",
     "text": [
      "100%|██████████| 2000/2000 [13:02<00:00,  2.56it/s]\n"
     ]
    },
    {
     "name": "stdout",
     "output_type": "stream",
     "text": [
      "Epoch 725 Mean Reward: -43.34428973388672\n"
     ]
    },
    {
     "name": "stderr",
     "output_type": "stream",
     "text": [
      "100%|██████████| 2000/2000 [13:12<00:00,  2.52it/s]\n"
     ]
    },
    {
     "name": "stdout",
     "output_type": "stream",
     "text": [
      "Epoch 726 Mean Reward: -44.851543090820314\n"
     ]
    },
    {
     "name": "stderr",
     "output_type": "stream",
     "text": [
      "100%|██████████| 2000/2000 [13:24<00:00,  2.49it/s]\n"
     ]
    },
    {
     "name": "stdout",
     "output_type": "stream",
     "text": [
      "Epoch 727 Mean Reward: -50.48967370605469\n"
     ]
    },
    {
     "name": "stderr",
     "output_type": "stream",
     "text": [
      "100%|██████████| 2000/2000 [14:04<00:00,  2.37it/s]\n"
     ]
    },
    {
     "name": "stdout",
     "output_type": "stream",
     "text": [
      "Epoch 728 Mean Reward: -45.31905266571045\n"
     ]
    },
    {
     "name": "stderr",
     "output_type": "stream",
     "text": [
      "100%|██████████| 2000/2000 [14:09<00:00,  2.35it/s]\n"
     ]
    },
    {
     "name": "stdout",
     "output_type": "stream",
     "text": [
      "Epoch 729 Mean Reward: -51.483812034606935\n"
     ]
    },
    {
     "name": "stderr",
     "output_type": "stream",
     "text": [
      "100%|██████████| 2000/2000 [13:24<00:00,  2.48it/s]\n"
     ]
    },
    {
     "name": "stdout",
     "output_type": "stream",
     "text": [
      "Epoch 730 Mean Reward: -52.4908616104126\n"
     ]
    },
    {
     "name": "stderr",
     "output_type": "stream",
     "text": [
      "100%|██████████| 2000/2000 [12:47<00:00,  2.61it/s]\n"
     ]
    },
    {
     "name": "stdout",
     "output_type": "stream",
     "text": [
      "Epoch 731 Mean Reward: -35.800778007507326\n"
     ]
    },
    {
     "name": "stderr",
     "output_type": "stream",
     "text": [
      "100%|██████████| 2000/2000 [13:20<00:00,  2.50it/s]\n"
     ]
    },
    {
     "name": "stdout",
     "output_type": "stream",
     "text": [
      "Epoch 732 Mean Reward: -48.68484605407715\n"
     ]
    },
    {
     "name": "stderr",
     "output_type": "stream",
     "text": [
      "100%|██████████| 2000/2000 [11:52<00:00,  2.81it/s]\n"
     ]
    },
    {
     "name": "stdout",
     "output_type": "stream",
     "text": [
      "Epoch 733 Mean Reward: -35.93817172241211\n"
     ]
    },
    {
     "name": "stderr",
     "output_type": "stream",
     "text": [
      "100%|██████████| 2000/2000 [12:25<00:00,  2.68it/s]\n"
     ]
    },
    {
     "name": "stdout",
     "output_type": "stream",
     "text": [
      "Epoch 734 Mean Reward: -32.19082038116455\n"
     ]
    },
    {
     "name": "stderr",
     "output_type": "stream",
     "text": [
      "100%|██████████| 2000/2000 [12:28<00:00,  2.67it/s]\n"
     ]
    },
    {
     "name": "stdout",
     "output_type": "stream",
     "text": [
      "Epoch 735 Mean Reward: -21.54393748474121\n"
     ]
    },
    {
     "name": "stderr",
     "output_type": "stream",
     "text": [
      "100%|██████████| 2000/2000 [12:15<00:00,  2.72it/s]\n"
     ]
    },
    {
     "name": "stdout",
     "output_type": "stream",
     "text": [
      "Epoch 736 Mean Reward: -42.09173331451416\n"
     ]
    },
    {
     "name": "stderr",
     "output_type": "stream",
     "text": [
      "100%|██████████| 2000/2000 [12:15<00:00,  2.72it/s]\n"
     ]
    },
    {
     "name": "stdout",
     "output_type": "stream",
     "text": [
      "Epoch 737 Mean Reward: -29.64660915374756\n"
     ]
    },
    {
     "name": "stderr",
     "output_type": "stream",
     "text": [
      "100%|██████████| 2000/2000 [12:21<00:00,  2.70it/s]\n"
     ]
    },
    {
     "name": "stdout",
     "output_type": "stream",
     "text": [
      "Epoch 738 Mean Reward: -29.556450439453126\n"
     ]
    },
    {
     "name": "stderr",
     "output_type": "stream",
     "text": [
      "100%|██████████| 2000/2000 [11:43<00:00,  2.84it/s]\n"
     ]
    },
    {
     "name": "stdout",
     "output_type": "stream",
     "text": [
      "Epoch 739 Mean Reward: -3.4641528015136718\n"
     ]
    },
    {
     "name": "stderr",
     "output_type": "stream",
     "text": [
      "100%|██████████| 2000/2000 [11:42<00:00,  2.85it/s]\n"
     ]
    },
    {
     "name": "stdout",
     "output_type": "stream",
     "text": [
      "Epoch 740 Mean Reward: -3.3135249557495117\n",
      "Epoch 740 Model saved to ./checkpoints/deadly_corridor.ckpt\n",
      "Epoch 740 test with depth buffer:\n",
      "Test Episode 1 Reward: -96.89295959472656\n",
      "Test Episode 2 Reward: -96.89295959472656\n",
      "Test Episode 3 Reward: -79.08297729492188\n",
      "Test Episode 4 Reward: -22.3876953125\n",
      "Test Episode 5 Reward: -104.22125244140625\n",
      "Test Episode 6 Reward: -96.89295959472656\n",
      "Test Episode 7 Reward: -20.21307373046875\n",
      "Test Episode 8 Reward: -96.89295959472656\n",
      "Test Episode 9 Reward: -96.89295959472656\n",
      "Test Episode 10 Reward: -96.89295959472656\n",
      "Average Test Reward (with depth buffer:) -80.72627563476563\n",
      "Epoch 740 test without depth buffer:\n",
      "Test Episode 1 Reward: -115.97564697265625\n",
      "Test Episode 2 Reward: -114.72431945800781\n",
      "Test Episode 3 Reward: -115.97817993164062\n",
      "Test Episode 4 Reward: -115.97817993164062\n",
      "Test Episode 5 Reward: -115.99925231933594\n",
      "Test Episode 6 Reward: -115.97817993164062\n",
      "Test Episode 7 Reward: -115.97817993164062\n",
      "Test Episode 8 Reward: -115.97817993164062\n",
      "Test Episode 9 Reward: -115.97817993164062\n",
      "Test Episode 10 Reward: -115.70890808105469\n",
      "Average Test Reward (without depth buffer): -115.82772064208984\n"
     ]
    },
    {
     "name": "stderr",
     "output_type": "stream",
     "text": [
      "100%|██████████| 2000/2000 [11:42<00:00,  2.85it/s]\n"
     ]
    },
    {
     "name": "stdout",
     "output_type": "stream",
     "text": [
      "Epoch 741 Mean Reward: -20.392927719116212\n"
     ]
    },
    {
     "name": "stderr",
     "output_type": "stream",
     "text": [
      "100%|██████████| 2000/2000 [17:55<00:00,  1.86it/s]\n"
     ]
    },
    {
     "name": "stdout",
     "output_type": "stream",
     "text": [
      "Epoch 742 Mean Reward: -37.87980696105957\n"
     ]
    },
    {
     "name": "stderr",
     "output_type": "stream",
     "text": [
      "100%|██████████| 2000/2000 [19:17<00:00,  1.73it/s]\n"
     ]
    },
    {
     "name": "stdout",
     "output_type": "stream",
     "text": [
      "Epoch 743 Mean Reward: -30.29063307952881\n"
     ]
    },
    {
     "name": "stderr",
     "output_type": "stream",
     "text": [
      "100%|██████████| 2000/2000 [10:50<00:00,  3.08it/s]\n"
     ]
    },
    {
     "name": "stdout",
     "output_type": "stream",
     "text": [
      "Epoch 744 Mean Reward: -12.797115928649902\n"
     ]
    },
    {
     "name": "stderr",
     "output_type": "stream",
     "text": [
      "100%|██████████| 2000/2000 [11:02<00:00,  3.02it/s]\n"
     ]
    },
    {
     "name": "stdout",
     "output_type": "stream",
     "text": [
      "Epoch 745 Mean Reward: -17.385441040039062\n"
     ]
    },
    {
     "name": "stderr",
     "output_type": "stream",
     "text": [
      "100%|██████████| 2000/2000 [11:02<00:00,  3.02it/s]\n"
     ]
    },
    {
     "name": "stdout",
     "output_type": "stream",
     "text": [
      "Epoch 746 Mean Reward: -1.0256227340698243\n"
     ]
    },
    {
     "name": "stderr",
     "output_type": "stream",
     "text": [
      "100%|██████████| 2000/2000 [10:18<00:00,  3.23it/s]\n"
     ]
    },
    {
     "name": "stdout",
     "output_type": "stream",
     "text": [
      "Epoch 747 Mean Reward: -16.431918991088867\n"
     ]
    },
    {
     "name": "stderr",
     "output_type": "stream",
     "text": [
      "100%|██████████| 2000/2000 [10:38<00:00,  3.13it/s]\n"
     ]
    },
    {
     "name": "stdout",
     "output_type": "stream",
     "text": [
      "Epoch 748 Mean Reward: -16.738638938903808\n"
     ]
    },
    {
     "name": "stderr",
     "output_type": "stream",
     "text": [
      "100%|██████████| 2000/2000 [10:50<00:00,  3.08it/s]\n"
     ]
    },
    {
     "name": "stdout",
     "output_type": "stream",
     "text": [
      "Epoch 749 Mean Reward: -19.565614067077636\n"
     ]
    },
    {
     "name": "stderr",
     "output_type": "stream",
     "text": [
      "100%|██████████| 2000/2000 [10:31<00:00,  3.17it/s]\n"
     ]
    },
    {
     "name": "stdout",
     "output_type": "stream",
     "text": [
      "Epoch 750 Mean Reward: -38.201765632629396\n"
     ]
    },
    {
     "name": "stderr",
     "output_type": "stream",
     "text": [
      "100%|██████████| 2000/2000 [12:14<00:00,  2.72it/s]\n"
     ]
    },
    {
     "name": "stdout",
     "output_type": "stream",
     "text": [
      "Epoch 751 Mean Reward: -57.83257931518555\n"
     ]
    },
    {
     "name": "stderr",
     "output_type": "stream",
     "text": [
      "100%|██████████| 2000/2000 [11:41<00:00,  2.85it/s]\n"
     ]
    },
    {
     "name": "stdout",
     "output_type": "stream",
     "text": [
      "Epoch 752 Mean Reward: -56.15983968353272\n"
     ]
    },
    {
     "name": "stderr",
     "output_type": "stream",
     "text": [
      "100%|██████████| 2000/2000 [10:50<00:00,  3.07it/s]\n"
     ]
    },
    {
     "name": "stdout",
     "output_type": "stream",
     "text": [
      "Epoch 753 Mean Reward: -32.71646997833252\n"
     ]
    },
    {
     "name": "stderr",
     "output_type": "stream",
     "text": [
      "100%|██████████| 2000/2000 [11:13<00:00,  2.97it/s]\n"
     ]
    },
    {
     "name": "stdout",
     "output_type": "stream",
     "text": [
      "Epoch 754 Mean Reward: -45.59731706237793\n"
     ]
    },
    {
     "name": "stderr",
     "output_type": "stream",
     "text": [
      "100%|██████████| 2000/2000 [11:07<00:00,  3.00it/s]\n"
     ]
    },
    {
     "name": "stdout",
     "output_type": "stream",
     "text": [
      "Epoch 755 Mean Reward: -43.30981259918213\n"
     ]
    },
    {
     "name": "stderr",
     "output_type": "stream",
     "text": [
      "100%|██████████| 2000/2000 [11:10<00:00,  2.98it/s]\n"
     ]
    },
    {
     "name": "stdout",
     "output_type": "stream",
     "text": [
      "Epoch 756 Mean Reward: -49.93185069274902\n"
     ]
    },
    {
     "name": "stderr",
     "output_type": "stream",
     "text": [
      "100%|██████████| 2000/2000 [10:57<00:00,  3.04it/s]\n"
     ]
    },
    {
     "name": "stdout",
     "output_type": "stream",
     "text": [
      "Epoch 757 Mean Reward: -51.34954048919678\n"
     ]
    },
    {
     "name": "stderr",
     "output_type": "stream",
     "text": [
      "100%|██████████| 2000/2000 [11:54<00:00,  2.80it/s]\n"
     ]
    },
    {
     "name": "stdout",
     "output_type": "stream",
     "text": [
      "Epoch 758 Mean Reward: -40.83267673492432\n"
     ]
    },
    {
     "name": "stderr",
     "output_type": "stream",
     "text": [
      "100%|██████████| 2000/2000 [12:16<00:00,  2.72it/s]\n"
     ]
    },
    {
     "name": "stdout",
     "output_type": "stream",
     "text": [
      "Epoch 759 Mean Reward: -29.967863876342772\n"
     ]
    },
    {
     "name": "stderr",
     "output_type": "stream",
     "text": [
      "100%|██████████| 2000/2000 [11:24<00:00,  2.92it/s]\n"
     ]
    },
    {
     "name": "stdout",
     "output_type": "stream",
     "text": [
      "Epoch 760 Mean Reward: -62.38746867370605\n",
      "Epoch 760 Model saved to ./checkpoints/deadly_corridor.ckpt\n",
      "Epoch 760 test with depth buffer:\n",
      "Test Episode 1 Reward: -103.20834350585938\n",
      "Test Episode 2 Reward: -115.99858093261719\n",
      "Test Episode 3 Reward: -115.99858093261719\n",
      "Test Episode 4 Reward: -115.99858093261719\n",
      "Test Episode 5 Reward: -115.99858093261719\n",
      "Test Episode 6 Reward: -115.99858093261719\n",
      "Test Episode 7 Reward: -115.99858093261719\n",
      "Test Episode 8 Reward: -115.83531188964844\n",
      "Test Episode 9 Reward: -115.99858093261719\n",
      "Test Episode 10 Reward: -115.93740844726562\n",
      "Average Test Reward (with depth buffer:) -114.69711303710938\n",
      "Epoch 760 test without depth buffer:\n",
      "Test Episode 1 Reward: -115.9957275390625\n",
      "Test Episode 2 Reward: -101.34579467773438\n",
      "Test Episode 3 Reward: -101.34579467773438\n",
      "Test Episode 4 Reward: -110.20396423339844\n",
      "Test Episode 5 Reward: -115.88352966308594\n",
      "Test Episode 6 Reward: -101.34579467773438\n",
      "Test Episode 7 Reward: -115.80021667480469\n",
      "Test Episode 8 Reward: -114.40321350097656\n",
      "Test Episode 9 Reward: -115.97682189941406\n",
      "Test Episode 10 Reward: -114.5174560546875\n",
      "Average Test Reward (without depth buffer): -110.68183135986328\n"
     ]
    },
    {
     "name": "stderr",
     "output_type": "stream",
     "text": [
      "100%|██████████| 2000/2000 [11:02<00:00,  3.02it/s]\n"
     ]
    },
    {
     "name": "stdout",
     "output_type": "stream",
     "text": [
      "Epoch 761 Mean Reward: -50.11657884216309\n"
     ]
    },
    {
     "name": "stderr",
     "output_type": "stream",
     "text": [
      "100%|██████████| 2000/2000 [10:56<00:00,  3.05it/s]\n"
     ]
    },
    {
     "name": "stdout",
     "output_type": "stream",
     "text": [
      "Epoch 762 Mean Reward: -30.97782154083252\n"
     ]
    },
    {
     "name": "stderr",
     "output_type": "stream",
     "text": [
      "100%|██████████| 2000/2000 [10:07<00:00,  3.29it/s]\n"
     ]
    },
    {
     "name": "stdout",
     "output_type": "stream",
     "text": [
      "Epoch 763 Mean Reward: -54.55990482330322\n"
     ]
    },
    {
     "name": "stderr",
     "output_type": "stream",
     "text": [
      "100%|██████████| 2000/2000 [10:13<00:00,  3.26it/s]\n"
     ]
    },
    {
     "name": "stdout",
     "output_type": "stream",
     "text": [
      "Epoch 764 Mean Reward: -58.960647087097165\n"
     ]
    },
    {
     "name": "stderr",
     "output_type": "stream",
     "text": [
      "100%|██████████| 2000/2000 [10:09<00:00,  3.28it/s]\n"
     ]
    },
    {
     "name": "stdout",
     "output_type": "stream",
     "text": [
      "Epoch 765 Mean Reward: -55.71756838989258\n"
     ]
    },
    {
     "name": "stderr",
     "output_type": "stream",
     "text": [
      "100%|██████████| 2000/2000 [09:37<00:00,  3.47it/s]\n"
     ]
    },
    {
     "name": "stdout",
     "output_type": "stream",
     "text": [
      "Epoch 766 Mean Reward: -60.165120780944825\n"
     ]
    },
    {
     "name": "stderr",
     "output_type": "stream",
     "text": [
      "100%|██████████| 2000/2000 [09:54<00:00,  3.36it/s]\n"
     ]
    },
    {
     "name": "stdout",
     "output_type": "stream",
     "text": [
      "Epoch 767 Mean Reward: -49.41376145172119\n"
     ]
    },
    {
     "name": "stderr",
     "output_type": "stream",
     "text": [
      "100%|██████████| 2000/2000 [09:33<00:00,  3.49it/s]\n"
     ]
    },
    {
     "name": "stdout",
     "output_type": "stream",
     "text": [
      "Epoch 768 Mean Reward: -60.97206776428223\n"
     ]
    },
    {
     "name": "stderr",
     "output_type": "stream",
     "text": [
      "100%|██████████| 2000/2000 [10:00<00:00,  3.33it/s]\n"
     ]
    },
    {
     "name": "stdout",
     "output_type": "stream",
     "text": [
      "Epoch 769 Mean Reward: -71.91215118408203\n"
     ]
    },
    {
     "name": "stderr",
     "output_type": "stream",
     "text": [
      "100%|██████████| 2000/2000 [09:53<00:00,  3.37it/s]\n"
     ]
    },
    {
     "name": "stdout",
     "output_type": "stream",
     "text": [
      "Epoch 770 Mean Reward: -71.81192533111572\n"
     ]
    },
    {
     "name": "stderr",
     "output_type": "stream",
     "text": [
      "100%|██████████| 2000/2000 [10:51<00:00,  3.07it/s]\n"
     ]
    },
    {
     "name": "stdout",
     "output_type": "stream",
     "text": [
      "Epoch 771 Mean Reward: -67.70002166748047\n"
     ]
    },
    {
     "name": "stderr",
     "output_type": "stream",
     "text": [
      "100%|██████████| 2000/2000 [10:43<00:00,  3.11it/s]\n"
     ]
    },
    {
     "name": "stdout",
     "output_type": "stream",
     "text": [
      "Epoch 772 Mean Reward: -63.992627571105956\n"
     ]
    },
    {
     "name": "stderr",
     "output_type": "stream",
     "text": [
      "100%|██████████| 2000/2000 [11:12<00:00,  2.97it/s]\n"
     ]
    },
    {
     "name": "stdout",
     "output_type": "stream",
     "text": [
      "Epoch 773 Mean Reward: -59.56561919403076\n"
     ]
    },
    {
     "name": "stderr",
     "output_type": "stream",
     "text": [
      "100%|██████████| 2000/2000 [11:08<00:00,  2.99it/s]\n"
     ]
    },
    {
     "name": "stdout",
     "output_type": "stream",
     "text": [
      "Epoch 774 Mean Reward: -68.10856203460693\n"
     ]
    },
    {
     "name": "stderr",
     "output_type": "stream",
     "text": [
      "100%|██████████| 2000/2000 [11:09<00:00,  2.99it/s]\n"
     ]
    },
    {
     "name": "stdout",
     "output_type": "stream",
     "text": [
      "Epoch 775 Mean Reward: -65.7479390335083\n"
     ]
    },
    {
     "name": "stderr",
     "output_type": "stream",
     "text": [
      "100%|██████████| 2000/2000 [10:24<00:00,  3.20it/s]\n"
     ]
    },
    {
     "name": "stdout",
     "output_type": "stream",
     "text": [
      "Epoch 776 Mean Reward: -59.26793618774414\n"
     ]
    },
    {
     "name": "stderr",
     "output_type": "stream",
     "text": [
      "100%|██████████| 2000/2000 [11:09<00:00,  2.99it/s]\n"
     ]
    },
    {
     "name": "stdout",
     "output_type": "stream",
     "text": [
      "Epoch 777 Mean Reward: -68.78692948150635\n"
     ]
    },
    {
     "name": "stderr",
     "output_type": "stream",
     "text": [
      "100%|██████████| 2000/2000 [10:56<00:00,  3.05it/s]\n"
     ]
    },
    {
     "name": "stdout",
     "output_type": "stream",
     "text": [
      "Epoch 778 Mean Reward: -59.775965629577634\n"
     ]
    },
    {
     "name": "stderr",
     "output_type": "stream",
     "text": [
      "100%|██████████| 2000/2000 [10:47<00:00,  3.09it/s]\n"
     ]
    },
    {
     "name": "stdout",
     "output_type": "stream",
     "text": [
      "Epoch 779 Mean Reward: -70.58516298675536\n"
     ]
    },
    {
     "name": "stderr",
     "output_type": "stream",
     "text": [
      "100%|██████████| 2000/2000 [10:39<00:00,  3.13it/s]\n"
     ]
    },
    {
     "name": "stdout",
     "output_type": "stream",
     "text": [
      "Epoch 780 Mean Reward: -66.22523876953124\n",
      "Epoch 780 Model saved to ./checkpoints/deadly_corridor.ckpt\n",
      "Epoch 780 test with depth buffer:\n",
      "Test Episode 1 Reward: -115.99610900878906\n",
      "Test Episode 2 Reward: -115.99026489257812\n",
      "Test Episode 3 Reward: -115.99432373046875\n",
      "Test Episode 4 Reward: -115.99610900878906\n",
      "Test Episode 5 Reward: -115.99519348144531\n",
      "Test Episode 6 Reward: -115.99610900878906\n",
      "Test Episode 7 Reward: -115.99610900878906\n",
      "Test Episode 8 Reward: -115.99610900878906\n",
      "Test Episode 9 Reward: -115.99610900878906\n",
      "Test Episode 10 Reward: -115.99610900878906\n",
      "Average Test Reward (with depth buffer:) -115.99525451660156\n",
      "Epoch 780 test without depth buffer:\n",
      "Test Episode 1 Reward: -115.98890686035156\n",
      "Test Episode 2 Reward: -115.98368835449219\n",
      "Test Episode 3 Reward: -115.98368835449219\n",
      "Test Episode 4 Reward: -115.98960876464844\n",
      "Test Episode 5 Reward: -115.98368835449219\n",
      "Test Episode 6 Reward: -88.09933471679688\n",
      "Test Episode 7 Reward: -115.98931884765625\n",
      "Test Episode 8 Reward: -115.98368835449219\n",
      "Test Episode 9 Reward: -115.99896240234375\n",
      "Test Episode 10 Reward: -115.46177673339844\n",
      "Average Test Reward (without depth buffer): -113.14626617431641\n"
     ]
    },
    {
     "name": "stderr",
     "output_type": "stream",
     "text": [
      "100%|██████████| 2000/2000 [11:51<00:00,  2.81it/s]\n"
     ]
    },
    {
     "name": "stdout",
     "output_type": "stream",
     "text": [
      "Epoch 781 Mean Reward: -53.78012596130371\n"
     ]
    },
    {
     "name": "stderr",
     "output_type": "stream",
     "text": [
      "100%|██████████| 2000/2000 [08:27<00:00,  3.94it/s]\n"
     ]
    },
    {
     "name": "stdout",
     "output_type": "stream",
     "text": [
      "Epoch 782 Mean Reward: -64.10131370544434\n"
     ]
    },
    {
     "name": "stderr",
     "output_type": "stream",
     "text": [
      "100%|██████████| 2000/2000 [07:56<00:00,  4.20it/s]\n"
     ]
    },
    {
     "name": "stdout",
     "output_type": "stream",
     "text": [
      "Epoch 783 Mean Reward: -67.74681202697754\n"
     ]
    },
    {
     "name": "stderr",
     "output_type": "stream",
     "text": [
      "100%|██████████| 2000/2000 [08:36<00:00,  3.87it/s]\n"
     ]
    },
    {
     "name": "stdout",
     "output_type": "stream",
     "text": [
      "Epoch 784 Mean Reward: -68.63411178588868\n"
     ]
    },
    {
     "name": "stderr",
     "output_type": "stream",
     "text": [
      "100%|██████████| 2000/2000 [08:15<00:00,  4.03it/s]\n"
     ]
    },
    {
     "name": "stdout",
     "output_type": "stream",
     "text": [
      "Epoch 785 Mean Reward: -74.55933180999756\n"
     ]
    },
    {
     "name": "stderr",
     "output_type": "stream",
     "text": [
      "100%|██████████| 2000/2000 [09:41<00:00,  3.44it/s]\n"
     ]
    },
    {
     "name": "stdout",
     "output_type": "stream",
     "text": [
      "Epoch 786 Mean Reward: -63.5928794631958\n"
     ]
    },
    {
     "name": "stderr",
     "output_type": "stream",
     "text": [
      "100%|██████████| 2000/2000 [08:41<00:00,  3.84it/s]\n"
     ]
    },
    {
     "name": "stdout",
     "output_type": "stream",
     "text": [
      "Epoch 787 Mean Reward: -71.28302139282226\n"
     ]
    },
    {
     "name": "stderr",
     "output_type": "stream",
     "text": [
      "100%|██████████| 2000/2000 [08:06<00:00,  4.11it/s]\n"
     ]
    },
    {
     "name": "stdout",
     "output_type": "stream",
     "text": [
      "Epoch 788 Mean Reward: -74.2202608718872\n"
     ]
    },
    {
     "name": "stderr",
     "output_type": "stream",
     "text": [
      "100%|██████████| 2000/2000 [08:19<00:00,  4.00it/s]\n"
     ]
    },
    {
     "name": "stdout",
     "output_type": "stream",
     "text": [
      "Epoch 789 Mean Reward: -76.64887561035157\n"
     ]
    },
    {
     "name": "stderr",
     "output_type": "stream",
     "text": [
      "100%|██████████| 2000/2000 [11:16<00:00,  2.96it/s]\n"
     ]
    },
    {
     "name": "stdout",
     "output_type": "stream",
     "text": [
      "Epoch 790 Mean Reward: -76.11675702667236\n"
     ]
    },
    {
     "name": "stderr",
     "output_type": "stream",
     "text": [
      "100%|██████████| 2000/2000 [20:38<00:00,  1.61it/s]\n"
     ]
    },
    {
     "name": "stdout",
     "output_type": "stream",
     "text": [
      "Epoch 791 Mean Reward: -53.846071144104\n"
     ]
    },
    {
     "name": "stderr",
     "output_type": "stream",
     "text": [
      "100%|██████████| 2000/2000 [13:49<00:00,  2.41it/s]\n"
     ]
    },
    {
     "name": "stdout",
     "output_type": "stream",
     "text": [
      "Epoch 792 Mean Reward: -56.16392221832275\n"
     ]
    },
    {
     "name": "stderr",
     "output_type": "stream",
     "text": [
      "100%|██████████| 2000/2000 [13:30<00:00,  2.47it/s]\n"
     ]
    },
    {
     "name": "stdout",
     "output_type": "stream",
     "text": [
      "Epoch 793 Mean Reward: -51.33667993927002\n"
     ]
    },
    {
     "name": "stderr",
     "output_type": "stream",
     "text": [
      "100%|██████████| 2000/2000 [12:41<00:00,  2.63it/s]\n"
     ]
    },
    {
     "name": "stdout",
     "output_type": "stream",
     "text": [
      "Epoch 794 Mean Reward: -49.566622360229495\n"
     ]
    },
    {
     "name": "stderr",
     "output_type": "stream",
     "text": [
      "100%|██████████| 2000/2000 [24:00<00:00,  1.39it/s]\n"
     ]
    },
    {
     "name": "stdout",
     "output_type": "stream",
     "text": [
      "Epoch 795 Mean Reward: -44.98227840423584\n"
     ]
    },
    {
     "name": "stderr",
     "output_type": "stream",
     "text": [
      "100%|██████████| 2000/2000 [26:16<00:00,  1.27it/s]\n"
     ]
    },
    {
     "name": "stdout",
     "output_type": "stream",
     "text": [
      "Epoch 796 Mean Reward: -46.08407411956787\n"
     ]
    },
    {
     "name": "stderr",
     "output_type": "stream",
     "text": [
      "100%|██████████| 2000/2000 [22:18<00:00,  1.49it/s]\n"
     ]
    },
    {
     "name": "stdout",
     "output_type": "stream",
     "text": [
      "Epoch 797 Mean Reward: -54.69232089996338\n"
     ]
    },
    {
     "name": "stderr",
     "output_type": "stream",
     "text": [
      "100%|██████████| 2000/2000 [15:56<00:00,  2.09it/s]\n"
     ]
    },
    {
     "name": "stdout",
     "output_type": "stream",
     "text": [
      "Epoch 798 Mean Reward: -36.44768576812744\n"
     ]
    },
    {
     "name": "stderr",
     "output_type": "stream",
     "text": [
      "100%|██████████| 2000/2000 [12:14<00:00,  2.72it/s]\n"
     ]
    },
    {
     "name": "stdout",
     "output_type": "stream",
     "text": [
      "Epoch 799 Mean Reward: -57.536512367248534\n"
     ]
    },
    {
     "name": "stderr",
     "output_type": "stream",
     "text": [
      "100%|██████████| 2000/2000 [12:05<00:00,  2.76it/s]\n"
     ]
    },
    {
     "name": "stdout",
     "output_type": "stream",
     "text": [
      "Epoch 800 Mean Reward: -54.70565338134766\n",
      "Epoch 800 Model saved to ./checkpoints/deadly_corridor.ckpt\n",
      "Epoch 800 test with depth buffer:\n",
      "Test Episode 1 Reward: -115.99856567382812\n",
      "Test Episode 2 Reward: -110.75105285644531\n",
      "Test Episode 3 Reward: -110.17874145507812\n",
      "Test Episode 4 Reward: -109.16941833496094\n",
      "Test Episode 5 Reward: -70.90591430664062\n",
      "Test Episode 6 Reward: -115.97561645507812\n",
      "Test Episode 7 Reward: -109.16941833496094\n",
      "Test Episode 8 Reward: -109.16941833496094\n",
      "Test Episode 9 Reward: -115.09323120117188\n",
      "Test Episode 10 Reward: -109.16941833496094\n",
      "Average Test Reward (with depth buffer:) -107.55807952880859\n",
      "Epoch 800 test without depth buffer:\n",
      "Test Episode 1 Reward: -101.87973022460938\n",
      "Test Episode 2 Reward: -89.53477478027344\n",
      "Test Episode 3 Reward: -89.53477478027344\n",
      "Test Episode 4 Reward: -89.53477478027344\n",
      "Test Episode 5 Reward: -103.35087585449219\n",
      "Test Episode 6 Reward: -115.99821472167969\n",
      "Test Episode 7 Reward: -105.72991943359375\n",
      "Test Episode 8 Reward: -115.99609375\n",
      "Test Episode 9 Reward: -89.53477478027344\n",
      "Test Episode 10 Reward: -89.53477478027344\n",
      "Average Test Reward (without depth buffer): -99.06287078857422\n",
      "[(106.45014190673828, 140), (97.02429962158203, 280), (61.877830505371094, 20), (54.808143615722656, 120), (52.22151184082031, 80), (36.19515686035156, 160), (31.601609802246095, 40), (12.507887268066407, 100), (2.853010559082031, 300), (2.5036331176757813, 60), (-12.479173278808593, 200), (-21.666001892089845, 260), (-40.25828247070312, 180), (-72.57677001953125, 240), (-81.4831787109375, 620), (-84.07816772460937, 320), (-87.65437164306641, 340), (-90.9825454711914, 460), (-93.40453796386718, 520), (-93.6225341796875, 560), (-94.56380767822266, 360), (-94.621728515625, 500), (-97.13486785888672, 440), (-99.06287078857422, 800), (-102.99699401855469, 640), (-104.22994995117188, 580), (-107.76327819824219, 680), (-108.4713348388672, 660), (-109.16199951171875, 420), (-109.68888092041016, 600), (-110.68183135986328, 760), (-112.02923278808593, 700), (-112.9103988647461, 380), (-113.14626617431641, 780), (-115.22405242919922, 480), (-115.39786529541016, 220), (-115.82772064208984, 740), (-115.88053131103516, 720), (-115.97801361083984, 540), (-115.98428497314453, 400)]\n",
      "48960047 time steps experienced during training\n"
     ]
    }
   ],
   "source": [
    "#For each time step, collect the following data:\n",
    "#The current game state\n",
    "#The action that was taken taken\n",
    "#The reward obtained from the chosen action\n",
    "#The next game state (store the first game state if the previous action ends the episode)\n",
    "#A variable indicating whether the episode is over yet\n",
    "\n",
    "\n",
    "tf.reset_default_graph()\n",
    "\n",
    "#Instantiate the target network before the online network so that it's updated correctly\n",
    "\n",
    "target_net = Q_network(network_name='target',\n",
    "                       learning_rate=learning_rate,\n",
    "                       height=height,\n",
    "                       width=width,\n",
    "                       channels=channels)\n",
    "DQN = Q_network(network_name='online',\n",
    "                learning_rate=learning_rate,\n",
    "                height=height,\n",
    "                width=width,\n",
    "                channels=channels)\n",
    "\n",
    "exp_buffer = Buffer(size=buffer_size)\n",
    "session = tf.Session()\n",
    "saver = tf.train.Saver(max_to_keep=num_ckpts, reshape=True)\n",
    "weights = tf.trainable_variables()\n",
    "\n",
    "update_ops = update_graph(weights)\n",
    "\n",
    "if load_model == True:\n",
    "    print('Loading model from', model_dir)\n",
    "    tf.train.Saver().restore(session, model_dir)\n",
    "    \n",
    "elif load_model == False:\n",
    "    session.run(tf.global_variables_initializer())\n",
    "\n",
    "game.set_sound_enabled(False)\n",
    "game.init()\n",
    "\n",
    "t = 0\n",
    "epoch_rank = list()\n",
    "epoch_rank_depth = list()\n",
    "\n",
    "#Accumulate experiences in the buffer using an epsilon-greedy strategy with three training phases\n",
    "\n",
    "for epoch in range(epochs):\n",
    "    epoch_rewards = list()\n",
    "    \n",
    "    for step in trange(steps_per_epoch, leave=True):\n",
    "        experience = list()\n",
    "        game.new_episode()\n",
    "        \n",
    "        while not game.is_episode_finished():\n",
    "            state = game.get_state()\n",
    "            \n",
    "#Substitute an array of zeros for the depth buffer if that setting is disabled\n",
    "\n",
    "            if game.is_depth_buffer_enabled() == False:\n",
    "                depth_buffer = np.zeros(state.screen_buffer.shape)\n",
    "            else:\n",
    "                depth_buffer = state.depth_buffer\n",
    "            \n",
    "            state1_buffer = np.stack((state.screen_buffer, depth_buffer), axis=-1)\n",
    "            state1 = preprocess(state1_buffer, down_sample_ratio)\n",
    "            \n",
    "#Explore the environment by choosing random actions with 100% probability for the first phase of training\n",
    "\n",
    "            if epoch < 0.3*epochs:\n",
    "                action = np.random.randint(num_actions)\n",
    "            \n",
    "#Increase the probability of greedily choosing an action by a constant amount at each epoch in the second phase\n",
    "            \n",
    "            elif epoch < 0.9*epochs:\n",
    "                epsilon = start_epsilon - (epoch + 1 - 0.2*epochs)*(start_epsilon-end_epsilon)/(0.7*epochs)\n",
    "            \n",
    "                if np.random.uniform(0, 1) <= epsilon:\n",
    "                    action = np.random.randint(num_actions)\n",
    "                else:\n",
    "                    action = DQN.choose_action(session, state1)[0]\n",
    "\n",
    "#Select a random action with 10% probability in the final phase of training\n",
    "                \n",
    "            else:\n",
    "                if np.random.uniform(0, 1) <= end_epsilon:\n",
    "                    action = np.random.randint(num_actions)\n",
    "                else:\n",
    "                    action = DQN.choose_action(session, state1)[0]\n",
    "\n",
    "            reward = game.make_action(actions[action], frame_delay)\n",
    "            done = game.is_episode_finished()\n",
    "            \n",
    "            if done == False:\n",
    "                state = game.get_state()\n",
    "                state2_buffer = np.stack((state.screen_buffer, state.depth_buffer), axis=-1)\n",
    "                state2 = preprocess(state2_buffer, down_sample_ratio)\n",
    "                \n",
    "            elif done == True:\n",
    "                state2 = state1\n",
    "        \n",
    "#Add the experience obtained from each time step to the buffer\n",
    "\n",
    "            t += 1\n",
    "            exp_buffer.add_experience((state1, action, reward, state2, done))\n",
    "        \n",
    "#Sample a minibatch from the buffer if there are enough experiences in the buffer\n",
    "\n",
    "        if exp_buffer.length > batch_size:\n",
    "            s1, a, r, s2, terminal = exp_buffer.sample_buffer(batch_size)\n",
    "            \n",
    "#Get the target values from the target Q-network\n",
    "            \n",
    "            target_Q = np.max(target_net.get_Q_values(session, s2), axis=1)\n",
    "            \n",
    "#Train the online Q-network by using a minibatch to update the action-value function\n",
    "            \n",
    "            Q2 = DQN.get_Q_values(session, s1)\n",
    "            Q2[np.arange(batch_size), a] = r + gamma*(1 - terminal)*target_Q\n",
    "            DQN.calculate_loss(session, s1, Q2)\n",
    "            \n",
    "        epoch_rewards.append(game.get_total_reward())\n",
    "        \n",
    "#Increase the discount factor at each epoch until it reaches 0.99\n",
    "    \n",
    "    if gamma < 0.99:\n",
    "        gamma = 1-.98*(1-gamma)\n",
    "    elif gamma >= 0.99:\n",
    "        gamma = 0.99\n",
    "        \n",
    "#Decrease the learning rate at each epoch\n",
    "\n",
    "    DQN.update_lr()\n",
    "    target_net.update_lr()\n",
    "    \n",
    "    print('Epoch {} Mean Reward: {}'.format(epoch + 1, np.mean(epoch_rewards)))\n",
    "    \n",
    "#Update the target network every 10 epochs\n",
    "    \n",
    "    if (epoch + 1) % 10 == 0 and epoch > 0:\n",
    "        update_target(update_ops, session)\n",
    "        \n",
    "#Save the model and test the agent for 10 episodes every 20 epochs\n",
    "    \n",
    "    if (epoch + 1) % 20 == 0 and epoch > 0:\n",
    "        if save_model == True:\n",
    "            checkpoint = model_dir + '-' + str(epoch + 1)\n",
    "            print('Epoch {} Model saved to {}'.format(epoch + 1, model_dir))\n",
    "            saver.save(session, model_dir, global_step=epoch + 1)\n",
    "            \n",
    "        update_target(update_ops, session)\n",
    "\n",
    "#Test the agent both with and without the depth buffer given\n",
    "        \n",
    "        print('Epoch {} test with depth buffer:'.format(epoch + 1))\n",
    "        test_reward_depth = test_agent(DQN, num_episodes=10,\n",
    "                                       training=True,\n",
    "                                       load_model=False,\n",
    "                                       depth=True,\n",
    "                                       session=session,\n",
    "                                       model_dir=model_dir)\n",
    "        print('Average Test Reward (with depth buffer:)', test_reward_depth)\n",
    "        \n",
    "        print('Epoch {} test without depth buffer:'.format(epoch + 1))\n",
    "        test_reward = test_agent(DQN, num_episodes=10,\n",
    "                                 training=True,\n",
    "                                 load_model=False,\n",
    "                                 depth=False,\n",
    "                                 session=session,\n",
    "                                 model_dir=model_dir)\n",
    "        print('Average Test Reward (without depth buffer):', test_reward)\n",
    "        \n",
    "        epoch_rank_depth.append((test_reward_depth, epoch + 1))\n",
    "        epoch_rank.append((test_reward, epoch + 1))\n",
    "        \n",
    "#Return a sorted list of epoch checkpoints based on average test episode reward\n",
    "        \n",
    "print(sorted(epoch_rank, reverse=True))\n",
    "print('{} time steps experienced during training'.format(t))\n",
    "game.close()\n",
    "    "
   ]
  },
  {
   "cell_type": "code",
   "execution_count": 6,
   "metadata": {
    "ExecuteTime": {
     "end_time": "2018-02-03T03:30:56.258691Z",
     "start_time": "2018-02-03T02:32:01.722474Z"
    },
    "run_control": {
     "frozen": false,
     "read_only": false
    },
    "scrolled": true
   },
   "outputs": [
    {
     "name": "stdout",
     "output_type": "stream",
     "text": [
      "Loading model from checkpoints\\deadly_corridor.ckpt-420\n",
      "INFO:tensorflow:Restoring parameters from checkpoints\\deadly_corridor.ckpt-420\n",
      "Test Episode 1 Reward: -115.99806213378906\n",
      "Test Episode 2 Reward: -115.99806213378906\n",
      "Test Episode 3 Reward: -115.99806213378906\n",
      "Test Episode 4 Reward: -115.99806213378906\n",
      "Test Episode 5 Reward: -115.99713134765625\n",
      "Test Episode 6 Reward: 14.74700927734375\n",
      "Test Episode 7 Reward: -102.05650329589844\n",
      "Test Episode 8 Reward: -115.99806213378906\n",
      "Test Episode 9 Reward: -115.97842407226562\n",
      "Test Episode 10 Reward: -115.99806213378906\n",
      "Test Episode 11 Reward: -115.99806213378906\n",
      "Test Episode 12 Reward: -115.99806213378906\n",
      "Test Episode 13 Reward: -115.99571228027344\n",
      "Test Episode 14 Reward: -115.99806213378906\n",
      "Test Episode 15 Reward: -115.99856567382812\n",
      "Test Episode 16 Reward: -115.99806213378906\n",
      "Test Episode 17 Reward: 277.2981872558594\n",
      "Test Episode 18 Reward: -115.99784851074219\n",
      "Test Episode 19 Reward: -115.99642944335938\n",
      "Test Episode 20 Reward: -115.99806213378906\n",
      "Average Test Reward (with depth buffer): -89.097705078125\n",
      "Loading model from checkpoints\\deadly_corridor.ckpt-420\n",
      "INFO:tensorflow:Restoring parameters from checkpoints\\deadly_corridor.ckpt-420\n",
      "Test Episode 1 Reward: -108.27351379394531\n",
      "Test Episode 2 Reward: -108.27351379394531\n",
      "Test Episode 3 Reward: -108.27351379394531\n",
      "Test Episode 4 Reward: -107.48741149902344\n",
      "Test Episode 5 Reward: -115.50465393066406\n",
      "Test Episode 6 Reward: -115.99493408203125\n",
      "Test Episode 7 Reward: -115.98426818847656\n",
      "Test Episode 8 Reward: -108.27351379394531\n",
      "Test Episode 9 Reward: -115.95573425292969\n",
      "Test Episode 10 Reward: -108.27351379394531\n",
      "Test Episode 11 Reward: -108.27351379394531\n",
      "Test Episode 12 Reward: -108.27351379394531\n",
      "Test Episode 13 Reward: -115.99642944335938\n",
      "Test Episode 14 Reward: -115.91075134277344\n",
      "Test Episode 15 Reward: -108.27351379394531\n",
      "Test Episode 16 Reward: -115.97802734375\n",
      "Test Episode 17 Reward: -108.27351379394531\n",
      "Test Episode 18 Reward: -115.88740539550781\n",
      "Test Episode 19 Reward: -108.27351379394531\n",
      "Test Episode 20 Reward: -108.27351379394531\n",
      "Average Test Reward (without depth buffer): -111.2854133605957\n",
      "Loading model from checkpoints\\deadly_corridor.ckpt-440\n",
      "INFO:tensorflow:Restoring parameters from checkpoints\\deadly_corridor.ckpt-440\n",
      "Test Episode 1 Reward: -108.31510925292969\n",
      "Test Episode 2 Reward: -115.975341796875\n",
      "Test Episode 3 Reward: -66.42643737792969\n",
      "Test Episode 4 Reward: -94.78778076171875\n",
      "Test Episode 5 Reward: -115.99862670898438\n",
      "Test Episode 6 Reward: -80.29838562011719\n",
      "Test Episode 7 Reward: -66.42643737792969\n",
      "Test Episode 8 Reward: -66.42643737792969\n",
      "Test Episode 9 Reward: -115.9656982421875\n",
      "Test Episode 10 Reward: -66.42643737792969\n",
      "Test Episode 11 Reward: -66.42643737792969\n",
      "Test Episode 12 Reward: -115.99830627441406\n",
      "Test Episode 13 Reward: -115.99713134765625\n",
      "Test Episode 14 Reward: -66.42643737792969\n",
      "Test Episode 15 Reward: -66.42643737792969\n",
      "Test Episode 16 Reward: -66.42643737792969\n",
      "Test Episode 17 Reward: -66.42643737792969\n",
      "Test Episode 18 Reward: -115.99862670898438\n",
      "Test Episode 19 Reward: -66.42643737792969\n",
      "Test Episode 20 Reward: -67.01194763183594\n",
      "Average Test Reward (with depth buffer): -85.53056640625\n",
      "Loading model from checkpoints\\deadly_corridor.ckpt-440\n",
      "INFO:tensorflow:Restoring parameters from checkpoints\\deadly_corridor.ckpt-440\n",
      "Test Episode 1 Reward: -115.9544677734375\n",
      "Test Episode 2 Reward: -104.25022888183594\n",
      "Test Episode 3 Reward: 73.20417785644531\n",
      "Test Episode 4 Reward: -104.25022888183594\n",
      "Test Episode 5 Reward: -104.25022888183594\n",
      "Test Episode 6 Reward: -104.25022888183594\n",
      "Test Episode 7 Reward: -93.66230773925781\n",
      "Test Episode 8 Reward: -104.25022888183594\n",
      "Test Episode 9 Reward: 26.577346801757812\n",
      "Test Episode 10 Reward: -2.270263671875\n",
      "Test Episode 11 Reward: -99.92649841308594\n",
      "Test Episode 12 Reward: -104.25022888183594\n",
      "Test Episode 13 Reward: -0.7160186767578125\n",
      "Test Episode 14 Reward: -104.25022888183594\n",
      "Test Episode 15 Reward: -115.91827392578125\n",
      "Test Episode 16 Reward: 39.23736572265625\n",
      "Test Episode 17 Reward: -90.02908325195312\n",
      "Test Episode 18 Reward: -115.97779846191406\n",
      "Test Episode 19 Reward: -104.25022888183594\n",
      "Test Episode 20 Reward: -104.25022888183594\n",
      "Average Test Reward (without depth buffer): -71.68439407348633\n",
      "Loading model from checkpoints\\deadly_corridor.ckpt-460\n",
      "INFO:tensorflow:Restoring parameters from checkpoints\\deadly_corridor.ckpt-460\n",
      "Test Episode 1 Reward: -112.4271240234375\n",
      "Test Episode 2 Reward: -115.99861145019531\n",
      "Test Episode 3 Reward: -115.99858093261719\n",
      "Test Episode 4 Reward: -115.99713134765625\n",
      "Test Episode 5 Reward: -115.99873352050781\n",
      "Test Episode 6 Reward: -112.4271240234375\n",
      "Test Episode 7 Reward: -115.99784851074219\n",
      "Test Episode 8 Reward: -112.4271240234375\n",
      "Test Episode 9 Reward: -115.9979248046875\n",
      "Test Episode 10 Reward: -115.99787902832031\n",
      "Test Episode 11 Reward: -112.4271240234375\n",
      "Test Episode 12 Reward: -115.99784851074219\n",
      "Test Episode 13 Reward: -112.4271240234375\n",
      "Test Episode 14 Reward: -115.9979248046875\n",
      "Test Episode 15 Reward: -115.9986572265625\n",
      "Test Episode 16 Reward: -112.4271240234375\n",
      "Test Episode 17 Reward: -115.99935913085938\n",
      "Test Episode 18 Reward: -112.4271240234375\n",
      "Test Episode 19 Reward: -115.99693298339844\n",
      "Test Episode 20 Reward: -112.4271240234375\n",
      "Average Test Reward (with depth buffer): -114.56972122192383\n",
      "Loading model from checkpoints\\deadly_corridor.ckpt-460\n",
      "INFO:tensorflow:Restoring parameters from checkpoints\\deadly_corridor.ckpt-460\n",
      "Test Episode 1 Reward: -115.98776245117188\n",
      "Test Episode 2 Reward: -115.98776245117188\n",
      "Test Episode 3 Reward: -97.070068359375\n",
      "Test Episode 4 Reward: -115.98776245117188\n",
      "Test Episode 5 Reward: -57.37947082519531\n",
      "Test Episode 6 Reward: -115.98776245117188\n",
      "Test Episode 7 Reward: -80.60432434082031\n",
      "Test Episode 8 Reward: -115.98776245117188\n",
      "Test Episode 9 Reward: -115.98776245117188\n",
      "Test Episode 10 Reward: -115.99884033203125\n",
      "Test Episode 11 Reward: -115.98776245117188\n",
      "Test Episode 12 Reward: -115.98776245117188\n",
      "Test Episode 13 Reward: -115.98776245117188\n",
      "Test Episode 14 Reward: -115.993408203125\n",
      "Test Episode 15 Reward: -115.96890258789062\n",
      "Test Episode 16 Reward: -115.98776245117188\n",
      "Test Episode 17 Reward: -115.98776245117188\n",
      "Test Episode 18 Reward: -115.90884399414062\n",
      "Test Episode 19 Reward: -88.55674743652344\n",
      "Test Episode 20 Reward: -115.98776245117188\n",
      "Average Test Reward (without depth buffer): -108.9666877746582\n",
      "Loading model from checkpoints\\deadly_corridor.ckpt-480\n",
      "INFO:tensorflow:Restoring parameters from checkpoints\\deadly_corridor.ckpt-480\n",
      "Test Episode 1 Reward: -115.97770690917969\n",
      "Test Episode 2 Reward: -115.99232482910156\n",
      "Test Episode 3 Reward: -115.9979248046875\n",
      "Test Episode 4 Reward: -115.66505432128906\n",
      "Test Episode 5 Reward: -115.976318359375\n",
      "Test Episode 6 Reward: -115.9979248046875\n",
      "Test Episode 7 Reward: -115.9979248046875\n",
      "Test Episode 8 Reward: -115.9979248046875\n",
      "Test Episode 9 Reward: -115.9979248046875\n",
      "Test Episode 10 Reward: -115.9979248046875\n",
      "Test Episode 11 Reward: -115.97569274902344\n",
      "Test Episode 12 Reward: -115.99574279785156\n",
      "Test Episode 13 Reward: -115.9979248046875\n",
      "Test Episode 14 Reward: -115.99824523925781\n",
      "Test Episode 15 Reward: -115.99716186523438\n",
      "Test Episode 16 Reward: -115.9979248046875\n",
      "Test Episode 17 Reward: -115.9979248046875\n",
      "Test Episode 18 Reward: -115.99784851074219\n",
      "Test Episode 19 Reward: -115.99784851074219\n",
      "Test Episode 20 Reward: -115.9979248046875\n",
      "Average Test Reward (with depth buffer): -115.9776596069336\n",
      "Loading model from checkpoints\\deadly_corridor.ckpt-480\n",
      "INFO:tensorflow:Restoring parameters from checkpoints\\deadly_corridor.ckpt-480\n",
      "Test Episode 1 Reward: -115.97787475585938\n",
      "Test Episode 2 Reward: -115.7144775390625\n",
      "Test Episode 3 Reward: -53.816864013671875\n",
      "Test Episode 4 Reward: -53.816864013671875\n",
      "Test Episode 5 Reward: -53.816864013671875\n",
      "Test Episode 6 Reward: -110.53219604492188\n",
      "Test Episode 7 Reward: -115.97744750976562\n",
      "Test Episode 8 Reward: -53.816864013671875\n",
      "Test Episode 9 Reward: -53.816864013671875\n",
      "Test Episode 10 Reward: -53.816864013671875\n",
      "Test Episode 11 Reward: -53.816864013671875\n",
      "Test Episode 12 Reward: -53.816864013671875\n",
      "Test Episode 13 Reward: -115.9818115234375\n",
      "Test Episode 14 Reward: -53.816864013671875\n",
      "Test Episode 15 Reward: -115.97578430175781\n"
     ]
    },
    {
     "name": "stdout",
     "output_type": "stream",
     "text": [
      "Test Episode 16 Reward: -115.72340393066406\n",
      "Test Episode 17 Reward: -53.816864013671875\n",
      "Test Episode 18 Reward: -115.97564697265625\n",
      "Test Episode 19 Reward: -53.816864013671875\n",
      "Test Episode 20 Reward: -115.99501037597656\n",
      "Average Test Reward (without depth buffer): -81.49195785522461\n",
      "Loading model from checkpoints\\deadly_corridor.ckpt-500\n",
      "INFO:tensorflow:Restoring parameters from checkpoints\\deadly_corridor.ckpt-500\n",
      "Test Episode 1 Reward: -115.6474609375\n",
      "Test Episode 2 Reward: -115.84262084960938\n",
      "Test Episode 3 Reward: -115.99574279785156\n",
      "Test Episode 4 Reward: -115.17738342285156\n",
      "Test Episode 5 Reward: -115.99432373046875\n",
      "Test Episode 6 Reward: -115.99432373046875\n",
      "Test Episode 7 Reward: -115.99432373046875\n",
      "Test Episode 8 Reward: -115.99774169921875\n",
      "Test Episode 9 Reward: -115.91317749023438\n",
      "Test Episode 10 Reward: -115.99864196777344\n",
      "Test Episode 11 Reward: -115.99432373046875\n",
      "Test Episode 12 Reward: -115.99432373046875\n",
      "Test Episode 13 Reward: -115.99432373046875\n",
      "Test Episode 14 Reward: -115.99432373046875\n",
      "Test Episode 15 Reward: -115.91094970703125\n",
      "Test Episode 16 Reward: -115.99432373046875\n",
      "Test Episode 17 Reward: -115.99809265136719\n",
      "Test Episode 18 Reward: -115.99432373046875\n",
      "Test Episode 19 Reward: -115.99432373046875\n",
      "Test Episode 20 Reward: -115.99588012695312\n",
      "Average Test Reward (with depth buffer): -115.92104644775391\n",
      "Loading model from checkpoints\\deadly_corridor.ckpt-500\n",
      "INFO:tensorflow:Restoring parameters from checkpoints\\deadly_corridor.ckpt-500\n",
      "Test Episode 1 Reward: 17.986557006835938\n",
      "Test Episode 2 Reward: -115.99913024902344\n",
      "Test Episode 3 Reward: -15.9814453125\n",
      "Test Episode 4 Reward: -115.99913024902344\n",
      "Test Episode 5 Reward: -115.99913024902344\n",
      "Test Episode 6 Reward: -115.99629211425781\n",
      "Test Episode 7 Reward: -15.4539794921875\n",
      "Test Episode 8 Reward: -115.99501037597656\n",
      "Test Episode 9 Reward: -115.99913024902344\n",
      "Test Episode 10 Reward: -115.99913024902344\n",
      "Test Episode 11 Reward: -61.64704895019531\n",
      "Test Episode 12 Reward: -115.99913024902344\n",
      "Test Episode 13 Reward: -115.99913024902344\n",
      "Test Episode 14 Reward: -115.99913024902344\n",
      "Test Episode 15 Reward: -115.99913024902344\n",
      "Test Episode 16 Reward: -115.9935302734375\n",
      "Test Episode 17 Reward: -115.98583984375\n",
      "Test Episode 18 Reward: -115.99913024902344\n",
      "Test Episode 19 Reward: -115.99609375\n",
      "Test Episode 20 Reward: -115.99913024902344\n",
      "Average Test Reward (without depth buffer): -96.55265579223632\n",
      "Loading model from checkpoints\\deadly_corridor.ckpt-520\n",
      "INFO:tensorflow:Restoring parameters from checkpoints\\deadly_corridor.ckpt-520\n",
      "Test Episode 1 Reward: -64.28622436523438\n",
      "Test Episode 2 Reward: -64.28622436523438\n",
      "Test Episode 3 Reward: -64.28622436523438\n",
      "Test Episode 4 Reward: -64.28622436523438\n",
      "Test Episode 5 Reward: -75.31790161132812\n",
      "Test Episode 6 Reward: -115.99806213378906\n",
      "Test Episode 7 Reward: -18.5701904296875\n",
      "Test Episode 8 Reward: -115.43173217773438\n",
      "Test Episode 9 Reward: -64.28622436523438\n",
      "Test Episode 10 Reward: -64.28622436523438\n",
      "Test Episode 11 Reward: -89.62026977539062\n",
      "Test Episode 12 Reward: -93.42021179199219\n",
      "Test Episode 13 Reward: -115.92619323730469\n",
      "Test Episode 14 Reward: 23.936111450195312\n",
      "Test Episode 15 Reward: -99.97575378417969\n",
      "Test Episode 16 Reward: -111.81007385253906\n",
      "Test Episode 17 Reward: -64.28622436523438\n",
      "Test Episode 18 Reward: -91.77497863769531\n",
      "Test Episode 19 Reward: -37.722076416015625\n",
      "Test Episode 20 Reward: -64.28622436523438\n",
      "Average Test Reward (with depth buffer): -72.79605636596679\n",
      "Loading model from checkpoints\\deadly_corridor.ckpt-520\n",
      "INFO:tensorflow:Restoring parameters from checkpoints\\deadly_corridor.ckpt-520\n",
      "Test Episode 1 Reward: -115.95115661621094\n",
      "Test Episode 2 Reward: -19.382293701171875\n",
      "Test Episode 3 Reward: -68.98495483398438\n",
      "Test Episode 4 Reward: -68.98495483398438\n",
      "Test Episode 5 Reward: -68.98495483398438\n",
      "Test Episode 6 Reward: -68.98495483398438\n",
      "Test Episode 7 Reward: -106.27552795410156\n",
      "Test Episode 8 Reward: -35.77766418457031\n",
      "Test Episode 9 Reward: -59.42681884765625\n",
      "Test Episode 10 Reward: -38.58270263671875\n",
      "Test Episode 11 Reward: -68.98495483398438\n",
      "Test Episode 12 Reward: -111.71800231933594\n",
      "Test Episode 13 Reward: 43.047332763671875\n",
      "Test Episode 14 Reward: -68.98495483398438\n",
      "Test Episode 15 Reward: -68.98495483398438\n",
      "Test Episode 16 Reward: -68.98495483398438\n",
      "Test Episode 17 Reward: -55.28343200683594\n",
      "Test Episode 18 Reward: -115.9906005859375\n",
      "Test Episode 19 Reward: -68.98495483398438\n",
      "Test Episode 20 Reward: -68.98495483398438\n",
      "Average Test Reward (without depth buffer): -65.25952072143555\n",
      "Loading model from checkpoints\\deadly_corridor.ckpt-540\n",
      "INFO:tensorflow:Restoring parameters from checkpoints\\deadly_corridor.ckpt-540\n",
      "Test Episode 1 Reward: -115.97589111328125\n",
      "Test Episode 2 Reward: -115.97645568847656\n",
      "Test Episode 3 Reward: -115.97645568847656\n",
      "Test Episode 4 Reward: -115.97645568847656\n",
      "Test Episode 5 Reward: -115.97645568847656\n",
      "Test Episode 6 Reward: -115.965087890625\n",
      "Test Episode 7 Reward: -115.99317932128906\n",
      "Test Episode 8 Reward: -115.97645568847656\n",
      "Test Episode 9 Reward: -115.97645568847656\n",
      "Test Episode 10 Reward: -115.97645568847656\n",
      "Test Episode 11 Reward: -115.97645568847656\n",
      "Test Episode 12 Reward: -115.99644470214844\n",
      "Test Episode 13 Reward: -115.97645568847656\n",
      "Test Episode 14 Reward: -115.99502563476562\n",
      "Test Episode 15 Reward: -115.97645568847656\n",
      "Test Episode 16 Reward: -115.97645568847656\n",
      "Test Episode 17 Reward: -115.97645568847656\n",
      "Test Episode 18 Reward: -115.97645568847656\n",
      "Test Episode 19 Reward: -115.99501037597656\n",
      "Test Episode 20 Reward: -115.99784851074219\n",
      "Average Test Reward (with depth buffer): -115.98062057495117\n",
      "Loading model from checkpoints\\deadly_corridor.ckpt-540\n",
      "INFO:tensorflow:Restoring parameters from checkpoints\\deadly_corridor.ckpt-540\n",
      "Test Episode 1 Reward: -115.99423217773438\n",
      "Test Episode 2 Reward: -113.44769287109375\n",
      "Test Episode 3 Reward: -75.56997680664062\n",
      "Test Episode 4 Reward: -115.99423217773438\n",
      "Test Episode 5 Reward: -115.97802734375\n",
      "Test Episode 6 Reward: -115.99423217773438\n",
      "Test Episode 7 Reward: -115.99423217773438\n",
      "Test Episode 8 Reward: 86.49696350097656\n",
      "Test Episode 9 Reward: -115.99423217773438\n",
      "Test Episode 10 Reward: -115.98773193359375\n",
      "Test Episode 11 Reward: -88.71955871582031\n",
      "Test Episode 12 Reward: -115.97770690917969\n",
      "Test Episode 13 Reward: -115.99423217773438\n",
      "Test Episode 14 Reward: -115.99423217773438\n",
      "Test Episode 15 Reward: -115.51321411132812\n",
      "Test Episode 16 Reward: -115.99642944335938\n",
      "Test Episode 17 Reward: -115.99423217773438\n",
      "Test Episode 18 Reward: -115.99423217773438\n",
      "Test Episode 19 Reward: -115.99423217773438\n",
      "Test Episode 20 Reward: -115.99423217773438\n",
      "Average Test Reward (without depth buffer): -102.33149642944336\n",
      "Loading model from checkpoints\\deadly_corridor.ckpt-560\n",
      "INFO:tensorflow:Restoring parameters from checkpoints\\deadly_corridor.ckpt-560\n",
      "Test Episode 1 Reward: -32.08184814453125\n",
      "Test Episode 2 Reward: 57.67701721191406\n",
      "Test Episode 3 Reward: 57.67701721191406\n",
      "Test Episode 4 Reward: 57.67701721191406\n",
      "Test Episode 5 Reward: 213.2723846435547\n",
      "Test Episode 6 Reward: 57.67701721191406\n",
      "Test Episode 7 Reward: 114.56340026855469\n",
      "Test Episode 8 Reward: 57.67701721191406\n",
      "Test Episode 9 Reward: 188.11907958984375\n",
      "Test Episode 10 Reward: 237.656982421875\n",
      "Test Episode 11 Reward: 57.67701721191406\n",
      "Test Episode 12 Reward: -114.17103576660156\n",
      "Test Episode 13 Reward: -115.97569274902344\n",
      "Test Episode 14 Reward: 283.8655548095703\n",
      "Test Episode 15 Reward: 57.67701721191406\n",
      "Test Episode 16 Reward: 57.67701721191406\n",
      "Test Episode 17 Reward: -55.90074157714844\n",
      "Test Episode 18 Reward: 25.23394775390625\n",
      "Test Episode 19 Reward: 57.67701721191406\n",
      "Test Episode 20 Reward: -97.53271484375\n",
      "Average Test Reward (with depth buffer): 58.30712356567383\n",
      "Loading model from checkpoints\\deadly_corridor.ckpt-560\n",
      "INFO:tensorflow:Restoring parameters from checkpoints\\deadly_corridor.ckpt-560\n",
      "Test Episode 1 Reward: -91.11805725097656\n",
      "Test Episode 2 Reward: -91.11805725097656\n",
      "Test Episode 3 Reward: -113.47683715820312\n",
      "Test Episode 4 Reward: -48.90748596191406\n",
      "Test Episode 5 Reward: 163.79310607910156\n",
      "Test Episode 6 Reward: -78.23452758789062\n",
      "Test Episode 7 Reward: -95.59733581542969\n",
      "Test Episode 8 Reward: -91.57720947265625\n",
      "Test Episode 9 Reward: -81.57504272460938\n"
     ]
    },
    {
     "name": "stdout",
     "output_type": "stream",
     "text": [
      "Test Episode 10 Reward: -115.01789855957031\n",
      "Test Episode 11 Reward: -65.34127807617188\n",
      "Test Episode 12 Reward: 225.2841796875\n",
      "Test Episode 13 Reward: 163.730712890625\n",
      "Test Episode 14 Reward: -91.11805725097656\n",
      "Test Episode 15 Reward: -91.11805725097656\n",
      "Test Episode 16 Reward: -80.94488525390625\n",
      "Test Episode 17 Reward: -37.03651428222656\n",
      "Test Episode 18 Reward: -91.11805725097656\n",
      "Test Episode 19 Reward: -94.33491516113281\n",
      "Test Episode 20 Reward: 50.174560546875\n",
      "Average Test Reward (without depth buffer): -37.73258285522461\n",
      "Loading model from checkpoints\\deadly_corridor.ckpt-580\n",
      "INFO:tensorflow:Restoring parameters from checkpoints\\deadly_corridor.ckpt-580\n",
      "Test Episode 1 Reward: -115.99642944335938\n",
      "Test Episode 2 Reward: -113.44442749023438\n",
      "Test Episode 3 Reward: -115.99809265136719\n",
      "Test Episode 4 Reward: -115.99642944335938\n",
      "Test Episode 5 Reward: -115.99642944335938\n",
      "Test Episode 6 Reward: -115.95332336425781\n",
      "Test Episode 7 Reward: -115.99642944335938\n",
      "Test Episode 8 Reward: -115.99642944335938\n",
      "Test Episode 9 Reward: -115.99642944335938\n",
      "Test Episode 10 Reward: -115.99642944335938\n",
      "Test Episode 11 Reward: -115.9986572265625\n",
      "Test Episode 12 Reward: -115.99642944335938\n",
      "Test Episode 13 Reward: -115.99642944335938\n",
      "Test Episode 14 Reward: -115.99642944335938\n",
      "Test Episode 15 Reward: -115.99642944335938\n",
      "Test Episode 16 Reward: -115.99642944335938\n",
      "Test Episode 17 Reward: -115.99642944335938\n",
      "Test Episode 18 Reward: -115.99726867675781\n",
      "Test Episode 19 Reward: -115.99795532226562\n",
      "Test Episode 20 Reward: -115.99884033203125\n",
      "Average Test Reward (with depth buffer): -115.86710739135742\n",
      "Loading model from checkpoints\\deadly_corridor.ckpt-580\n",
      "INFO:tensorflow:Restoring parameters from checkpoints\\deadly_corridor.ckpt-580\n",
      "Test Episode 1 Reward: -115.84683227539062\n",
      "Test Episode 2 Reward: -105.27375793457031\n",
      "Test Episode 3 Reward: -105.27375793457031\n",
      "Test Episode 4 Reward: -105.27375793457031\n",
      "Test Episode 5 Reward: -105.27375793457031\n",
      "Test Episode 6 Reward: -105.27375793457031\n",
      "Test Episode 7 Reward: -105.27375793457031\n",
      "Test Episode 8 Reward: -105.27375793457031\n",
      "Test Episode 9 Reward: -105.27375793457031\n",
      "Test Episode 10 Reward: -105.27375793457031\n",
      "Test Episode 11 Reward: 10.948333740234375\n",
      "Test Episode 12 Reward: -105.27375793457031\n",
      "Test Episode 13 Reward: -105.27375793457031\n",
      "Test Episode 14 Reward: -105.27375793457031\n",
      "Test Episode 15 Reward: -112.28025817871094\n",
      "Test Episode 16 Reward: -115.95477294921875\n",
      "Test Episode 17 Reward: -105.27375793457031\n",
      "Test Episode 18 Reward: -105.27375793457031\n",
      "Test Episode 19 Reward: -89.70130920410156\n",
      "Test Episode 20 Reward: -115.99076843261719\n",
      "Average Test Reward (without depth buffer): -100.63291091918946\n",
      "Loading model from checkpoints\\deadly_corridor.ckpt-600\n",
      "INFO:tensorflow:Restoring parameters from checkpoints\\deadly_corridor.ckpt-600\n",
      "Test Episode 1 Reward: -115.95660400390625\n",
      "Test Episode 2 Reward: -80.08023071289062\n",
      "Test Episode 3 Reward: -115.98365783691406\n",
      "Test Episode 4 Reward: -115.97688293457031\n",
      "Test Episode 5 Reward: -115.98365783691406\n",
      "Test Episode 6 Reward: -115.98365783691406\n",
      "Test Episode 7 Reward: -115.98365783691406\n",
      "Test Episode 8 Reward: -115.98365783691406\n",
      "Test Episode 9 Reward: -115.90255737304688\n",
      "Test Episode 10 Reward: -115.98365783691406\n",
      "Test Episode 11 Reward: -87.80638122558594\n",
      "Test Episode 12 Reward: -115.98365783691406\n",
      "Test Episode 13 Reward: -115.98365783691406\n",
      "Test Episode 14 Reward: -114.36181640625\n",
      "Test Episode 15 Reward: -115.92839050292969\n",
      "Test Episode 16 Reward: -113.66424560546875\n",
      "Test Episode 17 Reward: -115.98365783691406\n",
      "Test Episode 18 Reward: -115.95489501953125\n",
      "Test Episode 19 Reward: -115.98365783691406\n",
      "Test Episode 20 Reward: -95.50386047363281\n",
      "Average Test Reward (with depth buffer): -111.54862213134766\n",
      "Loading model from checkpoints\\deadly_corridor.ckpt-600\n",
      "INFO:tensorflow:Restoring parameters from checkpoints\\deadly_corridor.ckpt-600\n",
      "Test Episode 1 Reward: -107.19972229003906\n",
      "Test Episode 2 Reward: -115.99703979492188\n",
      "Test Episode 3 Reward: -90.3375244140625\n",
      "Test Episode 4 Reward: -115.8388671875\n",
      "Test Episode 5 Reward: -115.99882507324219\n",
      "Test Episode 6 Reward: -115.99928283691406\n",
      "Test Episode 7 Reward: -115.9825439453125\n",
      "Test Episode 8 Reward: -105.43614196777344\n",
      "Test Episode 9 Reward: -115.99882507324219\n",
      "Test Episode 10 Reward: -115.97633361816406\n",
      "Test Episode 11 Reward: -115.99882507324219\n",
      "Test Episode 12 Reward: -115.99882507324219\n",
      "Test Episode 13 Reward: -115.97576904296875\n",
      "Test Episode 14 Reward: -112.26029968261719\n",
      "Test Episode 15 Reward: -115.99713134765625\n",
      "Test Episode 16 Reward: -115.89239501953125\n",
      "Test Episode 17 Reward: -114.9556884765625\n",
      "Test Episode 18 Reward: -115.99882507324219\n",
      "Test Episode 19 Reward: -115.91897583007812\n",
      "Test Episode 20 Reward: -115.99882507324219\n",
      "Average Test Reward (without depth buffer): -113.48803329467773\n",
      "Loading model from checkpoints\\deadly_corridor.ckpt-620\n",
      "INFO:tensorflow:Restoring parameters from checkpoints\\deadly_corridor.ckpt-620\n",
      "Test Episode 1 Reward: -115.98870849609375\n",
      "Test Episode 2 Reward: -115.98834228515625\n",
      "Test Episode 3 Reward: -115.98594665527344\n",
      "Test Episode 4 Reward: -110.82269287109375\n",
      "Test Episode 5 Reward: -115.99713134765625\n",
      "Test Episode 6 Reward: -115.99713134765625\n",
      "Test Episode 7 Reward: -115.99713134765625\n",
      "Test Episode 8 Reward: -115.99713134765625\n",
      "Test Episode 9 Reward: -115.99786376953125\n",
      "Test Episode 10 Reward: -115.97962951660156\n",
      "Test Episode 11 Reward: -115.99713134765625\n",
      "Test Episode 12 Reward: -115.99713134765625\n",
      "Test Episode 13 Reward: -115.99713134765625\n",
      "Test Episode 14 Reward: -115.99159240722656\n",
      "Test Episode 15 Reward: -115.99713134765625\n",
      "Test Episode 16 Reward: -5.8606414794921875\n",
      "Test Episode 17 Reward: -115.99713134765625\n",
      "Test Episode 18 Reward: -115.99713134765625\n",
      "Test Episode 19 Reward: -115.99713134765625\n",
      "Test Episode 20 Reward: -115.99713134765625\n",
      "Average Test Reward (with depth buffer): -110.22904968261719\n",
      "Loading model from checkpoints\\deadly_corridor.ckpt-620\n",
      "INFO:tensorflow:Restoring parameters from checkpoints\\deadly_corridor.ckpt-620\n",
      "Test Episode 1 Reward: -115.97560119628906\n",
      "Test Episode 2 Reward: -115.9796142578125\n",
      "Test Episode 3 Reward: -115.97560119628906\n",
      "Test Episode 4 Reward: -115.97564697265625\n",
      "Test Episode 5 Reward: -115.97560119628906\n",
      "Test Episode 6 Reward: -115.97914123535156\n",
      "Test Episode 7 Reward: -115.97987365722656\n",
      "Test Episode 8 Reward: -115.99345397949219\n",
      "Test Episode 9 Reward: -115.97560119628906\n",
      "Test Episode 10 Reward: -106.39755249023438\n",
      "Test Episode 11 Reward: -115.98484802246094\n",
      "Test Episode 12 Reward: -115.98104858398438\n",
      "Test Episode 13 Reward: -85.32182312011719\n",
      "Test Episode 14 Reward: -115.99668884277344\n",
      "Test Episode 15 Reward: -115.97560119628906\n",
      "Test Episode 16 Reward: -115.97560119628906\n",
      "Test Episode 17 Reward: -115.97560119628906\n",
      "Test Episode 18 Reward: -112.70039367675781\n",
      "Test Episode 19 Reward: -115.97578430175781\n",
      "Test Episode 20 Reward: -115.97560119628906\n",
      "Average Test Reward (without depth buffer): -113.80353393554688\n",
      "Loading model from checkpoints\\deadly_corridor.ckpt-640\n",
      "INFO:tensorflow:Restoring parameters from checkpoints\\deadly_corridor.ckpt-640\n",
      "Test Episode 1 Reward: -115.99856567382812\n",
      "Test Episode 2 Reward: -115.99810791015625\n",
      "Test Episode 3 Reward: -115.99810791015625\n",
      "Test Episode 4 Reward: -115.99810791015625\n",
      "Test Episode 5 Reward: -115.99937438964844\n",
      "Test Episode 6 Reward: -115.97560119628906\n",
      "Test Episode 7 Reward: -115.99862670898438\n",
      "Test Episode 8 Reward: -115.99810791015625\n",
      "Test Episode 9 Reward: -115.99810791015625\n",
      "Test Episode 10 Reward: -115.99810791015625\n",
      "Test Episode 11 Reward: -115.99810791015625\n",
      "Test Episode 12 Reward: -115.71749877929688\n",
      "Test Episode 13 Reward: -115.99810791015625\n",
      "Test Episode 14 Reward: -115.99931335449219\n",
      "Test Episode 15 Reward: -115.99810791015625\n",
      "Test Episode 16 Reward: -115.99932861328125\n",
      "Test Episode 17 Reward: -115.99810791015625\n",
      "Test Episode 18 Reward: -115.99784851074219\n",
      "Test Episode 19 Reward: -115.99810791015625\n",
      "Test Episode 20 Reward: -115.95938110351562\n",
      "Average Test Reward (with depth buffer): -115.98123626708984\n",
      "Loading model from checkpoints\\deadly_corridor.ckpt-640\n",
      "INFO:tensorflow:Restoring parameters from checkpoints\\deadly_corridor.ckpt-640\n",
      "Test Episode 1 Reward: -115.99815368652344\n"
     ]
    },
    {
     "name": "stdout",
     "output_type": "stream",
     "text": [
      "Test Episode 2 Reward: -115.99815368652344\n",
      "Test Episode 3 Reward: -115.97972106933594\n",
      "Test Episode 4 Reward: -115.98426818847656\n",
      "Test Episode 5 Reward: -115.99119567871094\n",
      "Test Episode 6 Reward: -115.99815368652344\n",
      "Test Episode 7 Reward: -115.99815368652344\n",
      "Test Episode 8 Reward: -115.99916076660156\n",
      "Test Episode 9 Reward: -115.99815368652344\n",
      "Test Episode 10 Reward: -115.99815368652344\n",
      "Test Episode 11 Reward: -115.99815368652344\n",
      "Test Episode 12 Reward: -115.99815368652344\n",
      "Test Episode 13 Reward: -115.99815368652344\n",
      "Test Episode 14 Reward: -114.97669982910156\n",
      "Test Episode 15 Reward: -115.9766845703125\n",
      "Test Episode 16 Reward: -115.99815368652344\n",
      "Test Episode 17 Reward: -115.99815368652344\n",
      "Test Episode 18 Reward: -115.84794616699219\n",
      "Test Episode 19 Reward: -103.24835205078125\n",
      "Test Episode 20 Reward: -115.99815368652344\n",
      "Average Test Reward (without depth buffer): -115.2990936279297\n",
      "Loading model from checkpoints\\deadly_corridor.ckpt-660\n",
      "INFO:tensorflow:Restoring parameters from checkpoints\\deadly_corridor.ckpt-660\n",
      "Test Episode 1 Reward: -115.99862670898438\n",
      "Test Episode 2 Reward: -115.98594665527344\n",
      "Test Episode 3 Reward: -115.5047607421875\n",
      "Test Episode 4 Reward: -115.99588012695312\n",
      "Test Episode 5 Reward: -115.99862670898438\n",
      "Test Episode 6 Reward: -115.912841796875\n",
      "Test Episode 7 Reward: -115.99862670898438\n",
      "Test Episode 8 Reward: -115.99844360351562\n",
      "Test Episode 9 Reward: -115.99862670898438\n",
      "Test Episode 10 Reward: -115.99862670898438\n",
      "Test Episode 11 Reward: -115.99862670898438\n",
      "Test Episode 12 Reward: -115.99708557128906\n",
      "Test Episode 13 Reward: -114.98036193847656\n",
      "Test Episode 14 Reward: -115.99862670898438\n",
      "Test Episode 15 Reward: -115.99862670898438\n",
      "Test Episode 16 Reward: -115.99862670898438\n",
      "Test Episode 17 Reward: -115.98797607421875\n",
      "Test Episode 18 Reward: -115.99862670898438\n",
      "Test Episode 19 Reward: -115.98773193359375\n",
      "Test Episode 20 Reward: -115.99716186523438\n",
      "Average Test Reward (with depth buffer): -115.91672286987304\n",
      "Loading model from checkpoints\\deadly_corridor.ckpt-660\n",
      "INFO:tensorflow:Restoring parameters from checkpoints\\deadly_corridor.ckpt-660\n",
      "Test Episode 1 Reward: -109.57882690429688\n",
      "Test Episode 2 Reward: -115.89060974121094\n",
      "Test Episode 3 Reward: -115.96145629882812\n",
      "Test Episode 4 Reward: -109.57882690429688\n",
      "Test Episode 5 Reward: -109.57882690429688\n",
      "Test Episode 6 Reward: -115.99432373046875\n",
      "Test Episode 7 Reward: -115.99092102050781\n",
      "Test Episode 8 Reward: -115.26924133300781\n",
      "Test Episode 9 Reward: -109.57882690429688\n",
      "Test Episode 10 Reward: -109.57882690429688\n",
      "Test Episode 11 Reward: -115.97776794433594\n",
      "Test Episode 12 Reward: -94.17384338378906\n",
      "Test Episode 13 Reward: -109.57882690429688\n",
      "Test Episode 14 Reward: -109.57882690429688\n",
      "Test Episode 15 Reward: -115.99432373046875\n",
      "Test Episode 16 Reward: -115.97813415527344\n",
      "Test Episode 17 Reward: -109.57882690429688\n",
      "Test Episode 18 Reward: -109.57882690429688\n",
      "Test Episode 19 Reward: -109.57882690429688\n",
      "Test Episode 20 Reward: -115.99862670898438\n",
      "Average Test Reward (without depth buffer): -111.65087585449218\n",
      "Loading model from checkpoints\\deadly_corridor.ckpt-680\n",
      "INFO:tensorflow:Restoring parameters from checkpoints\\deadly_corridor.ckpt-680\n",
      "Test Episode 1 Reward: -115.99932861328125\n",
      "Test Episode 2 Reward: -115.99642944335938\n",
      "Test Episode 3 Reward: -115.97969055175781\n",
      "Test Episode 4 Reward: -115.99784851074219\n",
      "Test Episode 5 Reward: -115.99618530273438\n",
      "Test Episode 6 Reward: -115.99861145019531\n",
      "Test Episode 7 Reward: -115.99618530273438\n",
      "Test Episode 8 Reward: -115.99618530273438\n",
      "Test Episode 9 Reward: -115.99618530273438\n",
      "Test Episode 10 Reward: -115.99856567382812\n",
      "Test Episode 11 Reward: -115.53787231445312\n",
      "Test Episode 12 Reward: -115.9979248046875\n",
      "Test Episode 13 Reward: -114.22909545898438\n",
      "Test Episode 14 Reward: 99.68414306640625\n",
      "Test Episode 15 Reward: -115.99571228027344\n",
      "Test Episode 16 Reward: -115.86106872558594\n",
      "Test Episode 17 Reward: -115.99931335449219\n",
      "Test Episode 18 Reward: -115.99618530273438\n",
      "Test Episode 19 Reward: -115.95515441894531\n",
      "Test Episode 20 Reward: -115.99618530273438\n",
      "Average Test Reward (with depth buffer): -105.0919792175293\n",
      "Loading model from checkpoints\\deadly_corridor.ckpt-680\n",
      "INFO:tensorflow:Restoring parameters from checkpoints\\deadly_corridor.ckpt-680\n",
      "Test Episode 1 Reward: -22.846893310546875\n",
      "Test Episode 2 Reward: -22.846893310546875\n",
      "Test Episode 3 Reward: -115.444580078125\n",
      "Test Episode 4 Reward: -22.846893310546875\n",
      "Test Episode 5 Reward: -75.93341064453125\n",
      "Test Episode 6 Reward: -86.82644653320312\n",
      "Test Episode 7 Reward: -22.846893310546875\n",
      "Test Episode 8 Reward: -22.846893310546875\n",
      "Test Episode 9 Reward: -99.554443359375\n",
      "Test Episode 10 Reward: -22.846893310546875\n",
      "Test Episode 11 Reward: -105.56857299804688\n",
      "Test Episode 12 Reward: -22.846893310546875\n",
      "Test Episode 13 Reward: -115.77224731445312\n",
      "Test Episode 14 Reward: -22.846893310546875\n",
      "Test Episode 15 Reward: -113.44682312011719\n",
      "Test Episode 16 Reward: -22.846893310546875\n",
      "Test Episode 17 Reward: -22.846893310546875\n",
      "Test Episode 18 Reward: -22.846893310546875\n",
      "Test Episode 19 Reward: -85.78240966796875\n",
      "Test Episode 20 Reward: -22.846893310546875\n",
      "Average Test Reward (without depth buffer): -53.62458267211914\n",
      "Loading model from checkpoints\\deadly_corridor.ckpt-700\n",
      "INFO:tensorflow:Restoring parameters from checkpoints\\deadly_corridor.ckpt-700\n",
      "Test Episode 1 Reward: -115.99859619140625\n",
      "Test Episode 2 Reward: -115.9852294921875\n",
      "Test Episode 3 Reward: -115.9852294921875\n",
      "Test Episode 4 Reward: -115.85249328613281\n",
      "Test Episode 5 Reward: -115.9852294921875\n",
      "Test Episode 6 Reward: -115.99858093261719\n",
      "Test Episode 7 Reward: -115.68585205078125\n",
      "Test Episode 8 Reward: -115.9852294921875\n",
      "Test Episode 9 Reward: -115.9852294921875\n",
      "Test Episode 10 Reward: -115.99858093261719\n",
      "Test Episode 11 Reward: -115.9852294921875\n",
      "Test Episode 12 Reward: -115.9852294921875\n",
      "Test Episode 13 Reward: -106.38140869140625\n",
      "Test Episode 14 Reward: -115.99932861328125\n",
      "Test Episode 15 Reward: -115.9852294921875\n",
      "Test Episode 16 Reward: -115.97763061523438\n",
      "Test Episode 17 Reward: -115.9852294921875\n",
      "Test Episode 18 Reward: -114.90426635742188\n",
      "Test Episode 19 Reward: -115.9852294921875\n",
      "Test Episode 20 Reward: -115.99858093261719\n",
      "Average Test Reward (with depth buffer): -115.43238067626953\n",
      "Loading model from checkpoints\\deadly_corridor.ckpt-700\n",
      "INFO:tensorflow:Restoring parameters from checkpoints\\deadly_corridor.ckpt-700\n",
      "Test Episode 1 Reward: -110.01095581054688\n",
      "Test Episode 2 Reward: -115.99159240722656\n",
      "Test Episode 3 Reward: -110.01095581054688\n",
      "Test Episode 4 Reward: -115.99224853515625\n",
      "Test Episode 5 Reward: -110.01095581054688\n",
      "Test Episode 6 Reward: -115.95050048828125\n",
      "Test Episode 7 Reward: -115.97657775878906\n",
      "Test Episode 8 Reward: -114.83106994628906\n",
      "Test Episode 9 Reward: -115.98066711425781\n",
      "Test Episode 10 Reward: -115.99807739257812\n",
      "Test Episode 11 Reward: -110.01095581054688\n",
      "Test Episode 12 Reward: -115.99931335449219\n",
      "Test Episode 13 Reward: -115.98960876464844\n",
      "Test Episode 14 Reward: -110.01095581054688\n",
      "Test Episode 15 Reward: -110.01095581054688\n",
      "Test Episode 16 Reward: -110.01095581054688\n",
      "Test Episode 17 Reward: -115.97627258300781\n",
      "Test Episode 18 Reward: -110.01095581054688\n",
      "Test Episode 19 Reward: -110.01095581054688\n",
      "Test Episode 20 Reward: -110.01095581054688\n",
      "Average Test Reward (without depth buffer): -112.93977432250976\n",
      "Loading model from checkpoints\\deadly_corridor.ckpt-720\n",
      "INFO:tensorflow:Restoring parameters from checkpoints\\deadly_corridor.ckpt-720\n",
      "Test Episode 1 Reward: -112.0914306640625\n",
      "Test Episode 2 Reward: -115.99935913085938\n",
      "Test Episode 3 Reward: -115.99882507324219\n",
      "Test Episode 4 Reward: -115.99858093261719\n",
      "Test Episode 5 Reward: -112.0914306640625\n",
      "Test Episode 6 Reward: -115.99928283691406\n",
      "Test Episode 7 Reward: -112.0914306640625\n",
      "Test Episode 8 Reward: -112.0914306640625\n",
      "Test Episode 9 Reward: -112.0914306640625\n",
      "Test Episode 10 Reward: -115.97721862792969\n",
      "Test Episode 11 Reward: -112.0914306640625\n",
      "Test Episode 12 Reward: -112.0914306640625\n",
      "Test Episode 13 Reward: -112.0914306640625\n",
      "Test Episode 14 Reward: -112.0914306640625\n",
      "Test Episode 15 Reward: -115.98207092285156\n",
      "Test Episode 16 Reward: -115.98463439941406\n",
      "Test Episode 17 Reward: -115.986083984375\n",
      "Test Episode 18 Reward: -112.0914306640625\n"
     ]
    },
    {
     "name": "stdout",
     "output_type": "stream",
     "text": [
      "Test Episode 19 Reward: -115.97813415527344\n",
      "Test Episode 20 Reward: -115.99856567382812\n",
      "Average Test Reward (with depth buffer): -114.04085311889648\n",
      "Loading model from checkpoints\\deadly_corridor.ckpt-720\n",
      "INFO:tensorflow:Restoring parameters from checkpoints\\deadly_corridor.ckpt-720\n",
      "Test Episode 1 Reward: -109.87702941894531\n",
      "Test Episode 2 Reward: -109.87702941894531\n",
      "Test Episode 3 Reward: -109.87702941894531\n",
      "Test Episode 4 Reward: -115.99571228027344\n",
      "Test Episode 5 Reward: -109.87702941894531\n",
      "Test Episode 6 Reward: -109.87702941894531\n",
      "Test Episode 7 Reward: -115.99977111816406\n",
      "Test Episode 8 Reward: -115.99786376953125\n",
      "Test Episode 9 Reward: -109.87702941894531\n",
      "Test Episode 10 Reward: -109.87702941894531\n",
      "Test Episode 11 Reward: -93.2083740234375\n",
      "Test Episode 12 Reward: -109.87702941894531\n",
      "Test Episode 13 Reward: -109.87702941894531\n",
      "Test Episode 14 Reward: -115.97560119628906\n",
      "Test Episode 15 Reward: -115.97564697265625\n",
      "Test Episode 16 Reward: -109.87702941894531\n",
      "Test Episode 17 Reward: -109.87702941894531\n",
      "Test Episode 18 Reward: -115.98971557617188\n",
      "Test Episode 19 Reward: -109.87702941894531\n",
      "Test Episode 20 Reward: -115.93379211425781\n",
      "Average Test Reward (without depth buffer): -111.18004150390625\n",
      "Loading model from checkpoints\\deadly_corridor.ckpt-740\n",
      "INFO:tensorflow:Restoring parameters from checkpoints\\deadly_corridor.ckpt-740\n",
      "Test Episode 1 Reward: -93.37310791015625\n",
      "Test Episode 2 Reward: -106.794677734375\n",
      "Test Episode 3 Reward: -86.37094116210938\n",
      "Test Episode 4 Reward: -86.37094116210938\n",
      "Test Episode 5 Reward: -86.37094116210938\n",
      "Test Episode 6 Reward: 177.60372924804688\n",
      "Test Episode 7 Reward: -114.38114929199219\n",
      "Test Episode 8 Reward: -62.60371398925781\n",
      "Test Episode 9 Reward: -61.95722961425781\n",
      "Test Episode 10 Reward: -86.37094116210938\n",
      "Test Episode 11 Reward: -86.37094116210938\n",
      "Test Episode 12 Reward: 102.81657409667969\n",
      "Test Episode 13 Reward: -108.4969482421875\n",
      "Test Episode 14 Reward: -73.90560913085938\n",
      "Test Episode 15 Reward: -86.37094116210938\n",
      "Test Episode 16 Reward: -86.37094116210938\n",
      "Test Episode 17 Reward: -86.37094116210938\n",
      "Test Episode 18 Reward: -104.39437866210938\n",
      "Test Episode 19 Reward: -86.37094116210938\n",
      "Test Episode 20 Reward: -86.37094116210938\n",
      "Average Test Reward (with depth buffer): -65.45979614257813\n",
      "Loading model from checkpoints\\deadly_corridor.ckpt-740\n",
      "INFO:tensorflow:Restoring parameters from checkpoints\\deadly_corridor.ckpt-740\n",
      "Test Episode 1 Reward: -102.17608642578125\n",
      "Test Episode 2 Reward: -115.86647033691406\n",
      "Test Episode 3 Reward: -115.97560119628906\n",
      "Test Episode 4 Reward: -64.66656494140625\n",
      "Test Episode 5 Reward: -102.17608642578125\n",
      "Test Episode 6 Reward: -115.9327392578125\n",
      "Test Episode 7 Reward: -115.93551635742188\n",
      "Test Episode 8 Reward: -102.17608642578125\n",
      "Test Episode 9 Reward: -115.99928283691406\n",
      "Test Episode 10 Reward: -102.17608642578125\n",
      "Test Episode 11 Reward: -115.97624206542969\n",
      "Test Episode 12 Reward: -102.17608642578125\n",
      "Test Episode 13 Reward: -102.17608642578125\n",
      "Test Episode 14 Reward: -115.99862670898438\n",
      "Test Episode 15 Reward: -115.807861328125\n",
      "Test Episode 16 Reward: -30.567794799804688\n",
      "Test Episode 17 Reward: -83.11701965332031\n",
      "Test Episode 18 Reward: -115.65286254882812\n",
      "Test Episode 19 Reward: -104.76335144042969\n",
      "Test Episode 20 Reward: -102.17608642578125\n",
      "Average Test Reward (without depth buffer): -102.07462692260742\n",
      "Loading model from checkpoints\\deadly_corridor.ckpt-760\n",
      "INFO:tensorflow:Restoring parameters from checkpoints\\deadly_corridor.ckpt-760\n",
      "Test Episode 1 Reward: -115.99862670898438\n",
      "Test Episode 2 Reward: -115.99928283691406\n",
      "Test Episode 3 Reward: -115.17494201660156\n",
      "Test Episode 4 Reward: -113.78671264648438\n",
      "Test Episode 5 Reward: -115.99862670898438\n",
      "Test Episode 6 Reward: -115.99862670898438\n",
      "Test Episode 7 Reward: -115.99862670898438\n",
      "Test Episode 8 Reward: -115.99862670898438\n",
      "Test Episode 9 Reward: -115.99931335449219\n",
      "Test Episode 10 Reward: -115.7861328125\n",
      "Test Episode 11 Reward: -115.99862670898438\n",
      "Test Episode 12 Reward: -112.79879760742188\n",
      "Test Episode 13 Reward: -113.89620971679688\n",
      "Test Episode 14 Reward: -115.43202209472656\n",
      "Test Episode 15 Reward: -115.99862670898438\n",
      "Test Episode 16 Reward: -115.97587585449219\n",
      "Test Episode 17 Reward: -115.99862670898438\n",
      "Test Episode 18 Reward: -93.24591064453125\n",
      "Test Episode 19 Reward: -115.99862670898438\n",
      "Test Episode 20 Reward: -98.4957275390625\n",
      "Average Test Reward (with depth buffer): -113.52892837524413\n",
      "Loading model from checkpoints\\deadly_corridor.ckpt-760\n",
      "INFO:tensorflow:Restoring parameters from checkpoints\\deadly_corridor.ckpt-760\n",
      "Test Episode 1 Reward: -98.77935791015625\n",
      "Test Episode 2 Reward: -104.9896240234375\n",
      "Test Episode 3 Reward: -98.77935791015625\n",
      "Test Episode 4 Reward: -98.77935791015625\n",
      "Test Episode 5 Reward: -98.77935791015625\n",
      "Test Episode 6 Reward: -98.77935791015625\n",
      "Test Episode 7 Reward: -115.99798583984375\n",
      "Test Episode 8 Reward: -115.87942504882812\n",
      "Test Episode 9 Reward: -98.77935791015625\n",
      "Test Episode 10 Reward: -114.8001708984375\n",
      "Test Episode 11 Reward: -98.77935791015625\n",
      "Test Episode 12 Reward: -115.58099365234375\n",
      "Test Episode 13 Reward: -91.80842590332031\n",
      "Test Episode 14 Reward: -108.87564086914062\n",
      "Test Episode 15 Reward: -98.77935791015625\n",
      "Test Episode 16 Reward: -98.77935791015625\n",
      "Test Episode 17 Reward: -98.1922607421875\n",
      "Test Episode 18 Reward: -98.77935791015625\n",
      "Test Episode 19 Reward: -98.77935791015625\n",
      "Test Episode 20 Reward: -98.77935791015625\n",
      "Average Test Reward (without depth buffer): -102.5738410949707\n",
      "Loading model from checkpoints\\deadly_corridor.ckpt-780\n",
      "INFO:tensorflow:Restoring parameters from checkpoints\\deadly_corridor.ckpt-780\n",
      "Test Episode 1 Reward: -115.95339965820312\n",
      "Test Episode 2 Reward: -115.98292541503906\n",
      "Test Episode 3 Reward: -115.99716186523438\n",
      "Test Episode 4 Reward: -115.99295043945312\n",
      "Test Episode 5 Reward: -115.98736572265625\n",
      "Test Episode 6 Reward: -115.99655151367188\n",
      "Test Episode 7 Reward: -65.89476013183594\n",
      "Test Episode 8 Reward: -115.99655151367188\n",
      "Test Episode 9 Reward: -115.99716186523438\n",
      "Test Episode 10 Reward: -115.99517822265625\n",
      "Test Episode 11 Reward: -115.99655151367188\n",
      "Test Episode 12 Reward: -115.99655151367188\n",
      "Test Episode 13 Reward: -115.99655151367188\n",
      "Test Episode 14 Reward: -115.9981689453125\n",
      "Test Episode 15 Reward: -115.99655151367188\n",
      "Test Episode 16 Reward: -115.99655151367188\n",
      "Test Episode 17 Reward: -115.99812316894531\n",
      "Test Episode 18 Reward: -115.99858093261719\n",
      "Test Episode 19 Reward: -115.99655151367188\n",
      "Test Episode 20 Reward: -115.99655151367188\n",
      "Average Test Reward (with depth buffer): -113.48823699951171\n",
      "Loading model from checkpoints\\deadly_corridor.ckpt-780\n",
      "INFO:tensorflow:Restoring parameters from checkpoints\\deadly_corridor.ckpt-780\n",
      "Test Episode 1 Reward: -115.99177551269531\n",
      "Test Episode 2 Reward: -115.98049926757812\n",
      "Test Episode 3 Reward: -115.64010620117188\n",
      "Test Episode 4 Reward: -80.29415893554688\n",
      "Test Episode 5 Reward: -115.98939514160156\n",
      "Test Episode 6 Reward: -115.98771667480469\n",
      "Test Episode 7 Reward: -115.99502563476562\n",
      "Test Episode 8 Reward: -115.97564697265625\n",
      "Test Episode 9 Reward: -115.98939514160156\n",
      "Test Episode 10 Reward: -115.99700927734375\n",
      "Test Episode 11 Reward: -115.98939514160156\n",
      "Test Episode 12 Reward: -115.98939514160156\n",
      "Test Episode 13 Reward: -115.98939514160156\n",
      "Test Episode 14 Reward: -115.9913330078125\n",
      "Test Episode 15 Reward: -115.98939514160156\n",
      "Test Episode 16 Reward: -115.98939514160156\n",
      "Test Episode 17 Reward: -115.98939514160156\n",
      "Test Episode 18 Reward: -115.98939514160156\n",
      "Test Episode 19 Reward: -115.98939514160156\n",
      "Test Episode 20 Reward: -114.43669128417969\n",
      "Average Test Reward (without depth buffer): -114.10919570922852\n",
      "Loading model from checkpoints\\deadly_corridor.ckpt-800\n",
      "INFO:tensorflow:Restoring parameters from checkpoints\\deadly_corridor.ckpt-800\n",
      "Test Episode 1 Reward: -102.97532653808594\n",
      "Test Episode 2 Reward: -102.97532653808594\n",
      "Test Episode 3 Reward: -102.97532653808594\n",
      "Test Episode 4 Reward: -115.99861145019531\n",
      "Test Episode 5 Reward: -102.97532653808594\n",
      "Test Episode 6 Reward: -102.97532653808594\n",
      "Test Episode 7 Reward: -115.9979248046875\n",
      "Test Episode 8 Reward: -115.99644470214844\n",
      "Test Episode 9 Reward: -102.97532653808594\n",
      "Test Episode 10 Reward: -115.99864196777344\n",
      "Test Episode 11 Reward: -115.998779296875\n"
     ]
    },
    {
     "name": "stdout",
     "output_type": "stream",
     "text": [
      "Test Episode 12 Reward: -115.998779296875\n",
      "Test Episode 13 Reward: -115.16998291015625\n",
      "Test Episode 14 Reward: -102.97532653808594\n",
      "Test Episode 15 Reward: -115.99856567382812\n",
      "Test Episode 16 Reward: -115.9791259765625\n",
      "Test Episode 17 Reward: -115.92585754394531\n",
      "Test Episode 18 Reward: -102.97532653808594\n",
      "Test Episode 19 Reward: -115.99876403808594\n",
      "Test Episode 20 Reward: -115.98017883300781\n",
      "Average Test Reward (with depth buffer): -110.74221343994141\n",
      "Loading model from checkpoints\\deadly_corridor.ckpt-800\n",
      "INFO:tensorflow:Restoring parameters from checkpoints\\deadly_corridor.ckpt-800\n",
      "Test Episode 1 Reward: -115.99688720703125\n",
      "Test Episode 2 Reward: -29.837112426757812\n",
      "Test Episode 3 Reward: -29.837112426757812\n",
      "Test Episode 4 Reward: -29.837112426757812\n",
      "Test Episode 5 Reward: -115.99935913085938\n",
      "Test Episode 6 Reward: -29.837112426757812\n",
      "Test Episode 7 Reward: -29.837112426757812\n",
      "Test Episode 8 Reward: -106.13905334472656\n",
      "Test Episode 9 Reward: -115.98345947265625\n",
      "Test Episode 10 Reward: -115.99024963378906\n",
      "Test Episode 11 Reward: -29.837112426757812\n",
      "Test Episode 12 Reward: -29.837112426757812\n",
      "Test Episode 13 Reward: -112.71723937988281\n",
      "Test Episode 14 Reward: -76.09452819824219\n",
      "Test Episode 15 Reward: -29.837112426757812\n",
      "Test Episode 16 Reward: -29.837112426757812\n",
      "Test Episode 17 Reward: -115.98709106445312\n",
      "Test Episode 18 Reward: -115.99937438964844\n",
      "Test Episode 19 Reward: -107.50112915039062\n",
      "Test Episode 20 Reward: -29.837112426757812\n",
      "Average Test Reward (without depth buffer): -69.83897476196289\n"
     ]
    }
   ],
   "source": [
    "#Get a list of checkpoints saved during training\n",
    "\n",
    "ckpts = tf.train.get_checkpoint_state('checkpoints').all_model_checkpoint_paths\n",
    "\n",
    "#Test the trained model from a certain checkpoint by only choosing actions with a greedy strategy\n",
    "\n",
    "for i in range(len(ckpts)):\n",
    "    test_reward = test_agent(DQN, num_episodes=20,\n",
    "                             training=False,\n",
    "                             load_model=True,\n",
    "                             depth=True,\n",
    "                             model_dir=ckpts[i])\n",
    "    print('Average Test Reward (with depth buffer):', test_reward)\n",
    "\n",
    "    test_reward = test_agent(DQN, num_episodes=20,\n",
    "                             training=False,\n",
    "                             load_model=True,\n",
    "                             depth=False,\n",
    "                             model_dir=ckpts[i])\n",
    "    print('Average Test Reward (without depth buffer):', test_reward)\n"
   ]
  }
 ],
 "metadata": {
  "kernelspec": {
   "display_name": "Python 3 (Spyder)",
   "language": "python3",
   "name": "python3"
  },
  "language_info": {
   "codemirror_mode": {
    "name": "ipython",
    "version": 3
   },
   "file_extension": ".py",
   "mimetype": "text/x-python",
   "name": "python",
   "nbconvert_exporter": "python",
   "pygments_lexer": "ipython3",
   "version": "3.6.3"
  },
  "notify_time": "30"
 },
 "nbformat": 4,
 "nbformat_minor": 2
}
