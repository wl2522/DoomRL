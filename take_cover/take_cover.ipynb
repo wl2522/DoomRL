{
 "cells": [
  {
   "cell_type": "code",
   "execution_count": 1,
   "metadata": {
    "ExecuteTime": {
     "end_time": "2018-02-18T00:42:59.474788Z",
     "start_time": "2018-02-18T00:42:58.019384Z"
    },
    "run_control": {
     "frozen": false,
     "read_only": false
    }
   },
   "outputs": [],
   "source": [
    "import time\n",
    "\n",
    "import tensorflow as tf\n",
    "import numpy as np\n",
    "import vizdoom as vd\n",
    "\n",
    "from skimage.transform import rescale\n",
    "from tqdm import trange\n",
    "from IPython.display import HTML\n"
   ]
  },
  {
   "cell_type": "code",
   "execution_count": 2,
   "metadata": {
    "ExecuteTime": {
     "end_time": "2018-02-18T00:42:59.619929Z",
     "start_time": "2018-02-18T00:42:59.475789Z"
    },
    "run_control": {
     "frozen": false,
     "read_only": false
    }
   },
   "outputs": [],
   "source": [
    "#Specify the game scenario and the screen format/resolution\n",
    "\n",
    "game = vd.DoomGame()\n",
    "game.set_screen_format(vd.ScreenFormat.BGR24)\n",
    "game.set_screen_resolution(vd.ScreenResolution.RES_320X240)\n",
    "game.set_depth_buffer_enabled(False)\n",
    "game.load_config('take_cover.cfg')\n",
    "\n",
    "down_sample_ratio = 0.25\n",
    "width = int(game.get_screen_width()*down_sample_ratio)\n",
    "height = int(game.get_screen_height()*down_sample_ratio)\n",
    "channels = game.get_screen_channels() + int(game.is_depth_buffer_enabled())\n",
    "\n",
    "#Specify the available actions in the scenario\n",
    "\n",
    "available_actions = game.get_available_buttons()\n",
    "actions = [list(ohe) for ohe in list(np.identity(len(available_actions)))]\n",
    "num_actions = len(available_actions)\n",
    "\n",
    "#Specify the Q-network learning parameters\n",
    "\n",
    "frame_delay = 12\n",
    "buffer_size = 50000\n",
    "epochs = 400\n",
    "steps_per_epoch = 2000\n",
    "learning_rate = 0.0025\n",
    "gamma = 0\n",
    "start_epsilon = 1.0\n",
    "end_epsilon = 0.1\n",
    "batch_size = 100\n",
    "load_model = False\n",
    "save_model = True\n",
    "model_dir = './checkpoints/take_cover.ckpt'\n",
    "num_ckpts = 40\n"
   ]
  },
  {
   "cell_type": "code",
   "execution_count": 3,
   "metadata": {
    "ExecuteTime": {
     "end_time": "2018-02-18T00:42:59.969266Z",
     "start_time": "2018-02-18T00:42:59.620930Z"
    },
    "run_control": {
     "frozen": false,
     "read_only": false
    }
   },
   "outputs": [],
   "source": [
    "#Create a buffer object that holds a set of training experiences (state-action-reward tuples)\n",
    "\n",
    "class Buffer():\n",
    "    def __init__(self, size=1000):\n",
    "        self.buffer = list()\n",
    "        self.length = len(self.buffer)\n",
    "        self.size = size\n",
    "        \n",
    "#Add a new experience to the buffer (remove the oldest experience if the buffer is already full)\n",
    "        \n",
    "    def add_experience(self, experience):\n",
    "        if self.length + 1 >= self.size:\n",
    "            self.buffer[0:(self.length + 1) - self.size] = []\n",
    "        \n",
    "        self.buffer.append(experience)\n",
    "        self.length = len(self.buffer)\n",
    "            \n",
    "#Return a batch of experience arrays randomly sampled from the buffer\n",
    "            \n",
    "    def sample_buffer(self, sample_size):\n",
    "        sample = np.random.randint(self.length, size=sample_size)\n",
    "        s1 = np.concatenate([self.buffer[idx][0] for idx in sample], axis=0)\n",
    "        a = np.array([self.buffer[idx][1] for idx in sample])\n",
    "        r = np.array([self.buffer[idx][2] for idx in sample])\n",
    "        s2 = np.concatenate([self.buffer[idx][3] for idx in sample], axis=0)\n",
    "        terminal = np.array([self.buffer[idx][4] for idx in sample], dtype=np.int32)\n",
    "        \n",
    "        return s1, a, r, s2, terminal\n",
    "\n",
    "#Downsample and normalize an image array representing the game state at a given time stamp\n",
    "\n",
    "def preprocess(image, down_sample_ratio=1):\n",
    "    if float(down_sample_ratio) != 1.0:\n",
    "        image = rescale(image=image,\n",
    "                        scale=(down_sample_ratio,\n",
    "                               down_sample_ratio),\n",
    "                        mode='reflect')\n",
    "    image = image.astype(np.float32)\n",
    "    image = np.expand_dims(image, axis=0)\n",
    "\n",
    "    return image\n",
    "\n",
    "#Test the agent using a currently training or previously trained model\n",
    "\n",
    "def test_agent(model, num_episodes, load_model, depth, training=True, session=None, model_dir=None):\n",
    "    if load_model == True:\n",
    "        sess = tf.Session()\n",
    "        print('Loading model from', model_dir)\n",
    "        tf.train.Saver().restore(sess, model_dir)\n",
    "        \n",
    "#Require an existing session if a pretrained model isn't provided\n",
    "        \n",
    "    elif load_model == False:\n",
    "        sess = session\n",
    "\n",
    "    game.set_sound_enabled(True)\n",
    "    episode_rewards = list()\n",
    "    \n",
    "#Avoid reinitializing the game if this was already done by the training process\n",
    "    \n",
    "    if training == False:\n",
    "        game.init()\n",
    "\n",
    "    for i in range(num_episodes):\n",
    "        game.new_episode()\n",
    "    \n",
    "        while not game.is_episode_finished():\n",
    "            state = game.get_state()\n",
    "            \n",
    "            if depth == False:\n",
    "                state_buffer = np.moveaxis(state.screen_buffer, 0, 2)\n",
    "            \n",
    "            elif depth == True:\n",
    "                depth_buffer = state.depth_buffer\n",
    "                state_buffer = np.stack((state.screen_buffer,\n",
    "                                         depth_buffer), axis=-1)\n",
    "                \n",
    "            state1 = preprocess(state_buffer, down_sample_ratio)\n",
    "            action = model.choose_action(sess, state1)[0]\n",
    "            reward = game.make_action(actions[action])\n",
    "            \n",
    "#Add a delay between each time step so that the episodes occur at normal speed\n",
    "\n",
    "            time.sleep(0.02)\n",
    "        \n",
    "        episode_rewards.append(game.get_total_reward())\n",
    "        print('Test Episode {} Reward: {}'.format(i + 1, game.get_total_reward()))\n",
    "        time.sleep(1)\n",
    "    \n",
    "#Avoid ending the game so that the training process can continue\n",
    "    \n",
    "    if training == False:\n",
    "        game.close()\n",
    "    \n",
    "    return np.mean(episode_rewards)\n"
   ]
  },
  {
   "cell_type": "code",
   "execution_count": 4,
   "metadata": {
    "ExecuteTime": {
     "end_time": "2018-02-18T00:43:00.273560Z",
     "start_time": "2018-02-18T00:42:59.970267Z"
    },
    "run_control": {
     "frozen": false,
     "read_only": false
    }
   },
   "outputs": [],
   "source": [
    "#Create a Q-network to estimate values and choose actions for a given state\n",
    "\n",
    "class Q_network():\n",
    "    def __init__(self, network_name, height, width, channels, learning_rate=0.001):\n",
    "        self.learning_rate = learning_rate\n",
    "        self.s_t = tf.placeholder(tf.float32,\n",
    "                                  shape=[None, height, width, channels],\n",
    "                                  name=network_name + '_state'\n",
    "                                 )\n",
    "        self.a_t = tf.placeholder(tf.int32,\n",
    "                                  shape=[None],\n",
    "                                  name=network_name + '_action'\n",
    "                                 )\n",
    "        self.Q_target = tf.placeholder(tf.float32,\n",
    "                                       shape=[None, num_actions],\n",
    "                                       name=network_name + '_Q_target'\n",
    "                                      )\n",
    "\n",
    "        self.input_layer = tf.reshape(self.s_t,\n",
    "                                      [-1, height, width, channels],\n",
    "                                      name=network_name + '_input_layer'\n",
    "                                     )\n",
    "        self.conv1 = tf.layers.conv2d(inputs=self.input_layer,\n",
    "                                      filters=32,\n",
    "                                      kernel_size=[8, 8],\n",
    "                                      strides=[4, 4],\n",
    "                                      padding='valid',\n",
    "                                      activation=tf.nn.relu,\n",
    "                                      name=network_name + '_conv1_layer'\n",
    "                                     )\n",
    "        self.conv2 = tf.layers.conv2d(inputs=self.conv1,\n",
    "                                      filters=64,\n",
    "                                      kernel_size=[4, 4],\n",
    "                                      strides=[2, 2],\n",
    "                                      padding='valid',\n",
    "                                      activation=tf.nn.relu,\n",
    "                                      name=network_name + '_conv2_layer'\n",
    "                                     )\n",
    "        self.flatten = tf.layers.flatten(self.conv2,\n",
    "                                         name=network_name + '_flatten'\n",
    "                                        )\n",
    "        self.dense = tf.layers.dense(inputs=self.flatten,\n",
    "                                      units=512,\n",
    "                                      activation=tf.nn.relu,\n",
    "                                      name=network_name + '_dense1_layer'\n",
    "                                    )\n",
    "        self.Q_values = tf.layers.dense(inputs=self.dense,\n",
    "                                        units=len(actions),\n",
    "                                        activation=None,\n",
    "                                        name=network_name + '_output_layer'\n",
    "                                       )        \n",
    "    \n",
    "        self.best_action = tf.argmax(self.Q_values, 1)\n",
    "        self.loss = tf.losses.mean_squared_error(self.Q_values,\n",
    "                                                 self.Q_target)\n",
    "        self.adam = tf.train.AdamOptimizer(learning_rate=self.learning_rate,\n",
    "                                           name=network_name + '_adam'\n",
    "                                          )\n",
    "        self.train = self.adam.minimize(self.loss)\n",
    "        \n",
    "    def update_lr(self):\n",
    "        self.learning_rate = 0.98*self.learning_rate\n",
    "        \n",
    "        return self.learning_rate\n",
    "\n",
    "    def calculate_loss(self, session, s, q):\n",
    "        L, _ = session.run([self.loss, self.train],\n",
    "                           feed_dict={self.s_t: s,\n",
    "                                      self.Q_target: q})\n",
    "    \n",
    "        return L\n",
    "\n",
    "#Return the array of Q-values and the best action associated with a given state\n",
    "\n",
    "    def get_Q_values(self, session, s):\n",
    "        Q = session.run(self.Q_values,\n",
    "                        feed_dict={self.s_t: s})\n",
    "\n",
    "        return Q\n",
    "    \n",
    "    def choose_action(self, session, s):\n",
    "        a = session.run(self.best_action,\n",
    "                        feed_dict={self.s_t: s})\n",
    "    \n",
    "        return a\n",
    "    \n",
    "#Create a list of variable update operations\n",
    "\n",
    "def update_graph(variables):\n",
    "    update_ops = list()\n",
    "    \n",
    "#Assign weight values from the network created first to the one created second\n",
    "    \n",
    "    for idx, variable in enumerate(variables[:len(variables)//2]):\n",
    "        op = variable.assign(variables[idx + len(variables)//2].value())\n",
    "        update_ops.append(op)\n",
    "    \n",
    "    return update_ops\n",
    "\n",
    "#Update the target network parameters to match those of the online network\n",
    "\n",
    "def update_target(ops, session):\n",
    "    for op in update_ops:\n",
    "        session.run(op)\n"
   ]
  },
  {
   "cell_type": "code",
   "execution_count": 5,
   "metadata": {
    "ExecuteTime": {
     "end_time": "2018-02-18T00:43:03.332514Z",
     "start_time": "2018-02-18T00:43:00.274561Z"
    }
   },
   "outputs": [],
   "source": [
    "#For each time step, collect the following data:\n",
    "#The current game state\n",
    "#The action that was taken taken\n",
    "#The reward obtained from the chosen action\n",
    "#The next game state (store the first game state if the previous action ends the episode)\n",
    "#A variable indicating whether the episode is over yet\n",
    "\n",
    "\n",
    "tf.reset_default_graph()\n",
    "\n",
    "#Instantiate the target network before the online network so that it's updated correctly\n",
    "\n",
    "target_net = Q_network(network_name='target',\n",
    "                       learning_rate=learning_rate,\n",
    "                       height=height,\n",
    "                       width=width,\n",
    "                       channels=channels)\n",
    "DQN = Q_network(network_name='online',\n",
    "                learning_rate=learning_rate,\n",
    "                height=height,\n",
    "                width=width,\n",
    "                channels=channels)\n",
    "\n",
    "exp_buffer = Buffer(size=buffer_size)\n",
    "session = tf.Session()\n",
    "saver = tf.train.Saver(max_to_keep=num_ckpts, reshape=True)\n",
    "weights = tf.trainable_variables()\n",
    "\n",
    "update_ops = update_graph(weights)\n",
    "\n",
    "if load_model == True:\n",
    "    print('Loading model from', model_dir)\n",
    "    tf.train.Saver().restore(session, model_dir)\n",
    "    \n",
    "elif load_model == False:\n",
    "    session.run(tf.global_variables_initializer())\n",
    "\n",
    "game.set_sound_enabled(False)\n",
    "game.init()\n",
    "\n",
    "t = 0\n",
    "epoch_rank = list()\n",
    "epoch_rank_depth = list()\n"
   ]
  },
  {
   "cell_type": "code",
   "execution_count": 6,
   "metadata": {
    "ExecuteTime": {
     "end_time": "2018-02-22T08:50:47.849885Z",
     "start_time": "2018-02-18T00:43:03.333515Z"
    },
    "run_control": {
     "frozen": false,
     "read_only": false
    },
    "scrolled": true
   },
   "outputs": [
    {
     "name": "stderr",
     "output_type": "stream",
     "text": [
      "100%|██████████| 2000/2000 [16:17<00:00,  2.05it/s]\n"
     ]
    },
    {
     "name": "stdout",
     "output_type": "stream",
     "text": [
      "Epoch 1 Mean Reward: 389.122\n"
     ]
    },
    {
     "name": "stderr",
     "output_type": "stream",
     "text": [
      "100%|██████████| 2000/2000 [21:24<00:00,  1.56it/s]\n"
     ]
    },
    {
     "name": "stdout",
     "output_type": "stream",
     "text": [
      "Epoch 2 Mean Reward: 395.356\n"
     ]
    },
    {
     "name": "stderr",
     "output_type": "stream",
     "text": [
      "100%|██████████| 2000/2000 [22:12<00:00,  1.50it/s]\n"
     ]
    },
    {
     "name": "stdout",
     "output_type": "stream",
     "text": [
      "Epoch 3 Mean Reward: 390.7265\n"
     ]
    },
    {
     "name": "stderr",
     "output_type": "stream",
     "text": [
      "100%|██████████| 2000/2000 [20:36<00:00,  1.62it/s]\n"
     ]
    },
    {
     "name": "stdout",
     "output_type": "stream",
     "text": [
      "Epoch 4 Mean Reward: 391.9595\n"
     ]
    },
    {
     "name": "stderr",
     "output_type": "stream",
     "text": [
      "100%|██████████| 2000/2000 [18:38<00:00,  1.79it/s]\n"
     ]
    },
    {
     "name": "stdout",
     "output_type": "stream",
     "text": [
      "Epoch 5 Mean Reward: 389.1615\n"
     ]
    },
    {
     "name": "stderr",
     "output_type": "stream",
     "text": [
      "100%|██████████| 2000/2000 [19:32<00:00,  1.71it/s]\n"
     ]
    },
    {
     "name": "stdout",
     "output_type": "stream",
     "text": [
      "Epoch 6 Mean Reward: 389.381\n"
     ]
    },
    {
     "name": "stderr",
     "output_type": "stream",
     "text": [
      "100%|██████████| 2000/2000 [19:07<00:00,  1.74it/s]\n"
     ]
    },
    {
     "name": "stdout",
     "output_type": "stream",
     "text": [
      "Epoch 7 Mean Reward: 388.452\n"
     ]
    },
    {
     "name": "stderr",
     "output_type": "stream",
     "text": [
      "100%|██████████| 2000/2000 [19:45<00:00,  1.69it/s]\n"
     ]
    },
    {
     "name": "stdout",
     "output_type": "stream",
     "text": [
      "Epoch 8 Mean Reward: 392.664\n"
     ]
    },
    {
     "name": "stderr",
     "output_type": "stream",
     "text": [
      "100%|██████████| 2000/2000 [18:55<00:00,  1.76it/s]\n"
     ]
    },
    {
     "name": "stdout",
     "output_type": "stream",
     "text": [
      "Epoch 9 Mean Reward: 389.938\n"
     ]
    },
    {
     "name": "stderr",
     "output_type": "stream",
     "text": [
      "100%|██████████| 2000/2000 [16:36<00:00,  2.01it/s]\n"
     ]
    },
    {
     "name": "stdout",
     "output_type": "stream",
     "text": [
      "Epoch 10 Mean Reward: 395.3535\n",
      "Epoch 10 Model saved to ./checkpoints/take_cover.ckpt\n",
      "Epoch 10 test:\n",
      "Test Episode 1 Reward: 299.0\n",
      "Test Episode 2 Reward: 353.0\n",
      "Test Episode 3 Reward: 299.0\n",
      "Test Episode 4 Reward: 213.0\n",
      "Test Episode 5 Reward: 299.0\n",
      "Test Episode 6 Reward: 228.0\n",
      "Test Episode 7 Reward: 299.0\n",
      "Test Episode 8 Reward: 299.0\n",
      "Test Episode 9 Reward: 299.0\n",
      "Test Episode 10 Reward: 570.0\n",
      "Average Test Reward: 315.8\n"
     ]
    },
    {
     "name": "stderr",
     "output_type": "stream",
     "text": [
      "100%|██████████| 2000/2000 [16:03<00:00,  2.07it/s]\n"
     ]
    },
    {
     "name": "stdout",
     "output_type": "stream",
     "text": [
      "Epoch 11 Mean Reward: 388.7745\n"
     ]
    },
    {
     "name": "stderr",
     "output_type": "stream",
     "text": [
      "100%|██████████| 2000/2000 [17:28<00:00,  1.91it/s]\n"
     ]
    },
    {
     "name": "stdout",
     "output_type": "stream",
     "text": [
      "Epoch 12 Mean Reward: 392.209\n"
     ]
    },
    {
     "name": "stderr",
     "output_type": "stream",
     "text": [
      "100%|██████████| 2000/2000 [16:33<00:00,  2.01it/s]\n"
     ]
    },
    {
     "name": "stdout",
     "output_type": "stream",
     "text": [
      "Epoch 13 Mean Reward: 392.429\n"
     ]
    },
    {
     "name": "stderr",
     "output_type": "stream",
     "text": [
      "100%|██████████| 2000/2000 [16:48<00:00,  1.98it/s]\n"
     ]
    },
    {
     "name": "stdout",
     "output_type": "stream",
     "text": [
      "Epoch 14 Mean Reward: 394.291\n"
     ]
    },
    {
     "name": "stderr",
     "output_type": "stream",
     "text": [
      "100%|██████████| 2000/2000 [14:13<00:00,  2.34it/s]\n"
     ]
    },
    {
     "name": "stdout",
     "output_type": "stream",
     "text": [
      "Epoch 15 Mean Reward: 387.9165\n"
     ]
    },
    {
     "name": "stderr",
     "output_type": "stream",
     "text": [
      "100%|██████████| 2000/2000 [17:03<00:00,  1.95it/s]\n"
     ]
    },
    {
     "name": "stdout",
     "output_type": "stream",
     "text": [
      "Epoch 16 Mean Reward: 394.2385\n"
     ]
    },
    {
     "name": "stderr",
     "output_type": "stream",
     "text": [
      "100%|██████████| 2000/2000 [13:41<00:00,  2.43it/s]\n"
     ]
    },
    {
     "name": "stdout",
     "output_type": "stream",
     "text": [
      "Epoch 17 Mean Reward: 389.223\n"
     ]
    },
    {
     "name": "stderr",
     "output_type": "stream",
     "text": [
      "100%|██████████| 2000/2000 [16:08<00:00,  2.06it/s]\n"
     ]
    },
    {
     "name": "stdout",
     "output_type": "stream",
     "text": [
      "Epoch 18 Mean Reward: 389.468\n"
     ]
    },
    {
     "name": "stderr",
     "output_type": "stream",
     "text": [
      "100%|██████████| 2000/2000 [13:17<00:00,  2.51it/s]\n"
     ]
    },
    {
     "name": "stdout",
     "output_type": "stream",
     "text": [
      "Epoch 19 Mean Reward: 392.2875\n"
     ]
    },
    {
     "name": "stderr",
     "output_type": "stream",
     "text": [
      "100%|██████████| 2000/2000 [14:22<00:00,  2.32it/s]\n"
     ]
    },
    {
     "name": "stdout",
     "output_type": "stream",
     "text": [
      "Epoch 20 Mean Reward: 390.289\n",
      "Epoch 20 Model saved to ./checkpoints/take_cover.ckpt\n",
      "Epoch 20 test:\n",
      "Test Episode 1 Reward: 219.0\n",
      "Test Episode 2 Reward: 219.0\n",
      "Test Episode 3 Reward: 154.0\n",
      "Test Episode 4 Reward: 115.0\n",
      "Test Episode 5 Reward: 219.0\n",
      "Test Episode 6 Reward: 219.0\n",
      "Test Episode 7 Reward: 168.0\n",
      "Test Episode 8 Reward: 278.0\n",
      "Test Episode 9 Reward: 124.0\n",
      "Test Episode 10 Reward: 219.0\n",
      "Average Test Reward: 193.4\n"
     ]
    },
    {
     "name": "stderr",
     "output_type": "stream",
     "text": [
      "100%|██████████| 2000/2000 [13:55<00:00,  2.39it/s]\n"
     ]
    },
    {
     "name": "stdout",
     "output_type": "stream",
     "text": [
      "Epoch 21 Mean Reward: 393.0915\n"
     ]
    },
    {
     "name": "stderr",
     "output_type": "stream",
     "text": [
      "100%|██████████| 2000/2000 [15:16<00:00,  2.18it/s]\n"
     ]
    },
    {
     "name": "stdout",
     "output_type": "stream",
     "text": [
      "Epoch 22 Mean Reward: 389.602\n"
     ]
    },
    {
     "name": "stderr",
     "output_type": "stream",
     "text": [
      "100%|██████████| 2000/2000 [14:49<00:00,  2.25it/s]\n"
     ]
    },
    {
     "name": "stdout",
     "output_type": "stream",
     "text": [
      "Epoch 23 Mean Reward: 398.6955\n"
     ]
    },
    {
     "name": "stderr",
     "output_type": "stream",
     "text": [
      "100%|██████████| 2000/2000 [14:38<00:00,  2.28it/s]\n"
     ]
    },
    {
     "name": "stdout",
     "output_type": "stream",
     "text": [
      "Epoch 24 Mean Reward: 396.5275\n"
     ]
    },
    {
     "name": "stderr",
     "output_type": "stream",
     "text": [
      "100%|██████████| 2000/2000 [13:47<00:00,  2.42it/s]\n"
     ]
    },
    {
     "name": "stdout",
     "output_type": "stream",
     "text": [
      "Epoch 25 Mean Reward: 388.404\n"
     ]
    },
    {
     "name": "stderr",
     "output_type": "stream",
     "text": [
      "100%|██████████| 2000/2000 [14:03<00:00,  2.37it/s]\n"
     ]
    },
    {
     "name": "stdout",
     "output_type": "stream",
     "text": [
      "Epoch 26 Mean Reward: 399.8665\n"
     ]
    },
    {
     "name": "stderr",
     "output_type": "stream",
     "text": [
      "100%|██████████| 2000/2000 [13:57<00:00,  2.39it/s]\n"
     ]
    },
    {
     "name": "stdout",
     "output_type": "stream",
     "text": [
      "Epoch 27 Mean Reward: 399.53\n"
     ]
    },
    {
     "name": "stderr",
     "output_type": "stream",
     "text": [
      "100%|██████████| 2000/2000 [12:34<00:00,  2.65it/s]\n"
     ]
    },
    {
     "name": "stdout",
     "output_type": "stream",
     "text": [
      "Epoch 28 Mean Reward: 387.3755\n"
     ]
    },
    {
     "name": "stderr",
     "output_type": "stream",
     "text": [
      "100%|██████████| 2000/2000 [11:37<00:00,  2.87it/s]\n"
     ]
    },
    {
     "name": "stdout",
     "output_type": "stream",
     "text": [
      "Epoch 29 Mean Reward: 394.0365\n"
     ]
    },
    {
     "name": "stderr",
     "output_type": "stream",
     "text": [
      "100%|██████████| 2000/2000 [11:16<00:00,  2.96it/s]\n"
     ]
    },
    {
     "name": "stdout",
     "output_type": "stream",
     "text": [
      "Epoch 30 Mean Reward: 396.1665\n",
      "Epoch 30 Model saved to ./checkpoints/take_cover.ckpt\n",
      "Epoch 30 test:\n",
      "Test Episode 1 Reward: 246.0\n",
      "Test Episode 2 Reward: 232.0\n",
      "Test Episode 3 Reward: 232.0\n",
      "Test Episode 4 Reward: 232.0\n",
      "Test Episode 5 Reward: 232.0\n",
      "Test Episode 6 Reward: 232.0\n",
      "Test Episode 7 Reward: 212.0\n",
      "Test Episode 8 Reward: 232.0\n",
      "Test Episode 9 Reward: 232.0\n",
      "Test Episode 10 Reward: 232.0\n",
      "Average Test Reward: 231.4\n"
     ]
    },
    {
     "name": "stderr",
     "output_type": "stream",
     "text": [
      "100%|██████████| 2000/2000 [10:42<00:00,  3.11it/s]\n"
     ]
    },
    {
     "name": "stdout",
     "output_type": "stream",
     "text": [
      "Epoch 31 Mean Reward: 389.0145\n"
     ]
    },
    {
     "name": "stderr",
     "output_type": "stream",
     "text": [
      "100%|██████████| 2000/2000 [10:54<00:00,  3.06it/s]\n"
     ]
    },
    {
     "name": "stdout",
     "output_type": "stream",
     "text": [
      "Epoch 32 Mean Reward: 394.5945\n"
     ]
    },
    {
     "name": "stderr",
     "output_type": "stream",
     "text": [
      "100%|██████████| 2000/2000 [10:43<00:00,  3.11it/s]\n"
     ]
    },
    {
     "name": "stdout",
     "output_type": "stream",
     "text": [
      "Epoch 33 Mean Reward: 392.9555\n"
     ]
    },
    {
     "name": "stderr",
     "output_type": "stream",
     "text": [
      "100%|██████████| 2000/2000 [10:35<00:00,  3.15it/s]\n"
     ]
    },
    {
     "name": "stdout",
     "output_type": "stream",
     "text": [
      "Epoch 34 Mean Reward: 389.4195\n"
     ]
    },
    {
     "name": "stderr",
     "output_type": "stream",
     "text": [
      "100%|██████████| 2000/2000 [10:41<00:00,  3.12it/s]\n"
     ]
    },
    {
     "name": "stdout",
     "output_type": "stream",
     "text": [
      "Epoch 35 Mean Reward: 395.108\n"
     ]
    },
    {
     "name": "stderr",
     "output_type": "stream",
     "text": [
      "100%|██████████| 2000/2000 [10:29<00:00,  3.18it/s]\n"
     ]
    },
    {
     "name": "stdout",
     "output_type": "stream",
     "text": [
      "Epoch 36 Mean Reward: 387.7295\n"
     ]
    },
    {
     "name": "stderr",
     "output_type": "stream",
     "text": [
      "100%|██████████| 2000/2000 [10:22<00:00,  3.21it/s]\n"
     ]
    },
    {
     "name": "stdout",
     "output_type": "stream",
     "text": [
      "Epoch 37 Mean Reward: 384.555\n"
     ]
    },
    {
     "name": "stderr",
     "output_type": "stream",
     "text": [
      "100%|██████████| 2000/2000 [10:26<00:00,  3.19it/s]\n"
     ]
    },
    {
     "name": "stdout",
     "output_type": "stream",
     "text": [
      "Epoch 38 Mean Reward: 387.015\n"
     ]
    },
    {
     "name": "stderr",
     "output_type": "stream",
     "text": [
      "100%|██████████| 2000/2000 [10:41<00:00,  3.12it/s]\n"
     ]
    },
    {
     "name": "stdout",
     "output_type": "stream",
     "text": [
      "Epoch 39 Mean Reward: 396.882\n"
     ]
    },
    {
     "name": "stderr",
     "output_type": "stream",
     "text": [
      "100%|██████████| 2000/2000 [10:52<00:00,  3.07it/s]\n"
     ]
    },
    {
     "name": "stdout",
     "output_type": "stream",
     "text": [
      "Epoch 40 Mean Reward: 392.4485\n",
      "Epoch 40 Model saved to ./checkpoints/take_cover.ckpt\n",
      "Epoch 40 test:\n",
      "Test Episode 1 Reward: 557.0\n",
      "Test Episode 2 Reward: 557.0\n",
      "Test Episode 3 Reward: 557.0\n",
      "Test Episode 4 Reward: 557.0\n",
      "Test Episode 5 Reward: 261.0\n",
      "Test Episode 6 Reward: 557.0\n",
      "Test Episode 7 Reward: 557.0\n",
      "Test Episode 8 Reward: 557.0\n",
      "Test Episode 9 Reward: 106.0\n",
      "Test Episode 10 Reward: 199.0\n",
      "Average Test Reward: 446.5\n"
     ]
    },
    {
     "name": "stderr",
     "output_type": "stream",
     "text": [
      "100%|██████████| 2000/2000 [13:26<00:00,  2.48it/s]\n"
     ]
    },
    {
     "name": "stdout",
     "output_type": "stream",
     "text": [
      "Epoch 41 Mean Reward: 398.473\n"
     ]
    },
    {
     "name": "stderr",
     "output_type": "stream",
     "text": [
      "100%|██████████| 2000/2000 [14:24<00:00,  2.31it/s]\n"
     ]
    },
    {
     "name": "stdout",
     "output_type": "stream",
     "text": [
      "Epoch 42 Mean Reward: 394.4135\n"
     ]
    },
    {
     "name": "stderr",
     "output_type": "stream",
     "text": [
      "100%|██████████| 2000/2000 [14:46<00:00,  2.26it/s]\n"
     ]
    },
    {
     "name": "stdout",
     "output_type": "stream",
     "text": [
      "Epoch 43 Mean Reward: 387.8135\n"
     ]
    },
    {
     "name": "stderr",
     "output_type": "stream",
     "text": [
      "100%|██████████| 2000/2000 [15:07<00:00,  2.20it/s]\n"
     ]
    },
    {
     "name": "stdout",
     "output_type": "stream",
     "text": [
      "Epoch 44 Mean Reward: 398.0195\n"
     ]
    },
    {
     "name": "stderr",
     "output_type": "stream",
     "text": [
      "100%|██████████| 2000/2000 [14:12<00:00,  2.34it/s]\n"
     ]
    },
    {
     "name": "stdout",
     "output_type": "stream",
     "text": [
      "Epoch 45 Mean Reward: 382.0595\n"
     ]
    },
    {
     "name": "stderr",
     "output_type": "stream",
     "text": [
      "100%|██████████| 2000/2000 [14:21<00:00,  2.32it/s]\n"
     ]
    },
    {
     "name": "stdout",
     "output_type": "stream",
     "text": [
      "Epoch 46 Mean Reward: 391.6165\n"
     ]
    },
    {
     "name": "stderr",
     "output_type": "stream",
     "text": [
      "100%|██████████| 2000/2000 [13:57<00:00,  2.39it/s]\n"
     ]
    },
    {
     "name": "stdout",
     "output_type": "stream",
     "text": [
      "Epoch 47 Mean Reward: 386.827\n"
     ]
    },
    {
     "name": "stderr",
     "output_type": "stream",
     "text": [
      "100%|██████████| 2000/2000 [14:15<00:00,  2.34it/s]\n"
     ]
    },
    {
     "name": "stdout",
     "output_type": "stream",
     "text": [
      "Epoch 48 Mean Reward: 399.0215\n"
     ]
    },
    {
     "name": "stderr",
     "output_type": "stream",
     "text": [
      "100%|██████████| 2000/2000 [13:49<00:00,  2.41it/s]\n"
     ]
    },
    {
     "name": "stdout",
     "output_type": "stream",
     "text": [
      "Epoch 49 Mean Reward: 394.1125\n"
     ]
    },
    {
     "name": "stderr",
     "output_type": "stream",
     "text": [
      "100%|██████████| 2000/2000 [13:44<00:00,  2.42it/s]\n"
     ]
    },
    {
     "name": "stdout",
     "output_type": "stream",
     "text": [
      "Epoch 50 Mean Reward: 394.006\n",
      "Epoch 50 Model saved to ./checkpoints/take_cover.ckpt\n",
      "Epoch 50 test:\n",
      "Test Episode 1 Reward: 286.0\n",
      "Test Episode 2 Reward: 173.0\n",
      "Test Episode 3 Reward: 142.0\n",
      "Test Episode 4 Reward: 146.0\n",
      "Test Episode 5 Reward: 138.0\n",
      "Test Episode 6 Reward: 286.0\n",
      "Test Episode 7 Reward: 236.0\n",
      "Test Episode 8 Reward: 286.0\n",
      "Test Episode 9 Reward: 286.0\n",
      "Test Episode 10 Reward: 110.0\n",
      "Average Test Reward: 208.9\n"
     ]
    },
    {
     "name": "stderr",
     "output_type": "stream",
     "text": [
      "100%|██████████| 2000/2000 [13:40<00:00,  2.44it/s]\n"
     ]
    },
    {
     "name": "stdout",
     "output_type": "stream",
     "text": [
      "Epoch 51 Mean Reward: 394.8465\n"
     ]
    },
    {
     "name": "stderr",
     "output_type": "stream",
     "text": [
      "100%|██████████| 2000/2000 [13:47<00:00,  2.42it/s]\n"
     ]
    },
    {
     "name": "stdout",
     "output_type": "stream",
     "text": [
      "Epoch 52 Mean Reward: 394.2535\n"
     ]
    },
    {
     "name": "stderr",
     "output_type": "stream",
     "text": [
      "100%|██████████| 2000/2000 [13:26<00:00,  2.48it/s]\n"
     ]
    },
    {
     "name": "stdout",
     "output_type": "stream",
     "text": [
      "Epoch 53 Mean Reward: 390.7505\n"
     ]
    },
    {
     "name": "stderr",
     "output_type": "stream",
     "text": [
      "100%|██████████| 2000/2000 [13:42<00:00,  2.43it/s]\n"
     ]
    },
    {
     "name": "stdout",
     "output_type": "stream",
     "text": [
      "Epoch 54 Mean Reward: 394.964\n"
     ]
    },
    {
     "name": "stderr",
     "output_type": "stream",
     "text": [
      "100%|██████████| 2000/2000 [13:39<00:00,  2.44it/s]\n"
     ]
    },
    {
     "name": "stdout",
     "output_type": "stream",
     "text": [
      "Epoch 55 Mean Reward: 393.0025\n"
     ]
    },
    {
     "name": "stderr",
     "output_type": "stream",
     "text": [
      "100%|██████████| 2000/2000 [13:42<00:00,  2.43it/s]\n"
     ]
    },
    {
     "name": "stdout",
     "output_type": "stream",
     "text": [
      "Epoch 56 Mean Reward: 395.311\n"
     ]
    },
    {
     "name": "stderr",
     "output_type": "stream",
     "text": [
      "100%|██████████| 2000/2000 [13:14<00:00,  2.52it/s]\n"
     ]
    },
    {
     "name": "stdout",
     "output_type": "stream",
     "text": [
      "Epoch 57 Mean Reward: 388.574\n"
     ]
    },
    {
     "name": "stderr",
     "output_type": "stream",
     "text": [
      "100%|██████████| 2000/2000 [13:46<00:00,  2.42it/s]\n"
     ]
    },
    {
     "name": "stdout",
     "output_type": "stream",
     "text": [
      "Epoch 58 Mean Reward: 401.725\n"
     ]
    },
    {
     "name": "stderr",
     "output_type": "stream",
     "text": [
      "100%|██████████| 2000/2000 [13:18<00:00,  2.50it/s]\n"
     ]
    },
    {
     "name": "stdout",
     "output_type": "stream",
     "text": [
      "Epoch 59 Mean Reward: 390.315\n"
     ]
    },
    {
     "name": "stderr",
     "output_type": "stream",
     "text": [
      "100%|██████████| 2000/2000 [14:49<00:00,  2.25it/s]\n"
     ]
    },
    {
     "name": "stdout",
     "output_type": "stream",
     "text": [
      "Epoch 60 Mean Reward: 392.1375\n",
      "Epoch 60 Model saved to ./checkpoints/take_cover.ckpt\n",
      "Epoch 60 test:\n",
      "Test Episode 1 Reward: 249.0\n",
      "Test Episode 2 Reward: 288.0\n",
      "Test Episode 3 Reward: 288.0\n",
      "Test Episode 4 Reward: 288.0\n",
      "Test Episode 5 Reward: 186.0\n",
      "Test Episode 6 Reward: 185.0\n",
      "Test Episode 7 Reward: 146.0\n",
      "Test Episode 8 Reward: 188.0\n",
      "Test Episode 9 Reward: 205.0\n",
      "Test Episode 10 Reward: 190.0\n",
      "Average Test Reward: 221.3\n"
     ]
    },
    {
     "name": "stderr",
     "output_type": "stream",
     "text": [
      "100%|██████████| 2000/2000 [13:49<00:00,  2.41it/s]\n"
     ]
    },
    {
     "name": "stdout",
     "output_type": "stream",
     "text": [
      "Epoch 61 Mean Reward: 389.831\n"
     ]
    },
    {
     "name": "stderr",
     "output_type": "stream",
     "text": [
      "100%|██████████| 2000/2000 [13:12<00:00,  2.53it/s]\n"
     ]
    },
    {
     "name": "stdout",
     "output_type": "stream",
     "text": [
      "Epoch 62 Mean Reward: 392.9045\n"
     ]
    },
    {
     "name": "stderr",
     "output_type": "stream",
     "text": [
      "100%|██████████| 2000/2000 [12:46<00:00,  2.61it/s]\n"
     ]
    },
    {
     "name": "stdout",
     "output_type": "stream",
     "text": [
      "Epoch 63 Mean Reward: 385.657\n"
     ]
    },
    {
     "name": "stderr",
     "output_type": "stream",
     "text": [
      "100%|██████████| 2000/2000 [13:00<00:00,  2.56it/s]\n"
     ]
    },
    {
     "name": "stdout",
     "output_type": "stream",
     "text": [
      "Epoch 64 Mean Reward: 392.008\n"
     ]
    },
    {
     "name": "stderr",
     "output_type": "stream",
     "text": [
      "100%|██████████| 2000/2000 [13:06<00:00,  2.54it/s]\n"
     ]
    },
    {
     "name": "stdout",
     "output_type": "stream",
     "text": [
      "Epoch 65 Mean Reward: 395.3055\n"
     ]
    },
    {
     "name": "stderr",
     "output_type": "stream",
     "text": [
      "100%|██████████| 2000/2000 [12:55<00:00,  2.58it/s]\n"
     ]
    },
    {
     "name": "stdout",
     "output_type": "stream",
     "text": [
      "Epoch 66 Mean Reward: 391.5155\n"
     ]
    },
    {
     "name": "stderr",
     "output_type": "stream",
     "text": [
      "100%|██████████| 2000/2000 [14:01<00:00,  2.38it/s]\n"
     ]
    },
    {
     "name": "stdout",
     "output_type": "stream",
     "text": [
      "Epoch 67 Mean Reward: 388.7495\n"
     ]
    },
    {
     "name": "stderr",
     "output_type": "stream",
     "text": [
      "100%|██████████| 2000/2000 [12:57<00:00,  2.57it/s]\n"
     ]
    },
    {
     "name": "stdout",
     "output_type": "stream",
     "text": [
      "Epoch 68 Mean Reward: 389.7435\n"
     ]
    },
    {
     "name": "stderr",
     "output_type": "stream",
     "text": [
      "100%|██████████| 2000/2000 [13:06<00:00,  2.54it/s]\n"
     ]
    },
    {
     "name": "stdout",
     "output_type": "stream",
     "text": [
      "Epoch 69 Mean Reward: 391.4855\n"
     ]
    },
    {
     "name": "stderr",
     "output_type": "stream",
     "text": [
      "100%|██████████| 2000/2000 [12:55<00:00,  2.58it/s]\n"
     ]
    },
    {
     "name": "stdout",
     "output_type": "stream",
     "text": [
      "Epoch 70 Mean Reward: 389.7815\n",
      "Epoch 70 Model saved to ./checkpoints/take_cover.ckpt\n",
      "Epoch 70 test:\n",
      "Test Episode 1 Reward: 172.0\n",
      "Test Episode 2 Reward: 378.0\n",
      "Test Episode 3 Reward: 136.0\n",
      "Test Episode 4 Reward: 269.0\n",
      "Test Episode 5 Reward: 269.0\n",
      "Test Episode 6 Reward: 284.0\n",
      "Test Episode 7 Reward: 172.0\n",
      "Test Episode 8 Reward: 225.0\n",
      "Test Episode 9 Reward: 121.0\n",
      "Test Episode 10 Reward: 269.0\n",
      "Average Test Reward: 229.5\n"
     ]
    },
    {
     "name": "stderr",
     "output_type": "stream",
     "text": [
      "100%|██████████| 2000/2000 [13:15<00:00,  2.51it/s]\n"
     ]
    },
    {
     "name": "stdout",
     "output_type": "stream",
     "text": [
      "Epoch 71 Mean Reward: 400.071\n"
     ]
    },
    {
     "name": "stderr",
     "output_type": "stream",
     "text": [
      "100%|██████████| 2000/2000 [14:07<00:00,  2.36it/s]\n"
     ]
    },
    {
     "name": "stdout",
     "output_type": "stream",
     "text": [
      "Epoch 72 Mean Reward: 386.6995\n"
     ]
    },
    {
     "name": "stderr",
     "output_type": "stream",
     "text": [
      "100%|██████████| 2000/2000 [13:16<00:00,  2.51it/s]\n"
     ]
    },
    {
     "name": "stdout",
     "output_type": "stream",
     "text": [
      "Epoch 73 Mean Reward: 396.1675\n"
     ]
    },
    {
     "name": "stderr",
     "output_type": "stream",
     "text": [
      "100%|██████████| 2000/2000 [12:27<00:00,  2.68it/s]\n"
     ]
    },
    {
     "name": "stdout",
     "output_type": "stream",
     "text": [
      "Epoch 74 Mean Reward: 393.573\n"
     ]
    },
    {
     "name": "stderr",
     "output_type": "stream",
     "text": [
      "100%|██████████| 2000/2000 [12:20<00:00,  2.70it/s]\n"
     ]
    },
    {
     "name": "stdout",
     "output_type": "stream",
     "text": [
      "Epoch 75 Mean Reward: 394.5315\n"
     ]
    },
    {
     "name": "stderr",
     "output_type": "stream",
     "text": [
      "100%|██████████| 2000/2000 [12:56<00:00,  2.58it/s]\n"
     ]
    },
    {
     "name": "stdout",
     "output_type": "stream",
     "text": [
      "Epoch 76 Mean Reward: 389.5065\n"
     ]
    },
    {
     "name": "stderr",
     "output_type": "stream",
     "text": [
      "100%|██████████| 2000/2000 [12:58<00:00,  2.57it/s]\n"
     ]
    },
    {
     "name": "stdout",
     "output_type": "stream",
     "text": [
      "Epoch 77 Mean Reward: 393.255\n"
     ]
    },
    {
     "name": "stderr",
     "output_type": "stream",
     "text": [
      "100%|██████████| 2000/2000 [14:47<00:00,  2.25it/s]\n"
     ]
    },
    {
     "name": "stdout",
     "output_type": "stream",
     "text": [
      "Epoch 78 Mean Reward: 398.517\n"
     ]
    },
    {
     "name": "stderr",
     "output_type": "stream",
     "text": [
      "100%|██████████| 2000/2000 [12:35<00:00,  2.65it/s]\n"
     ]
    },
    {
     "name": "stdout",
     "output_type": "stream",
     "text": [
      "Epoch 79 Mean Reward: 390.417\n"
     ]
    },
    {
     "name": "stderr",
     "output_type": "stream",
     "text": [
      "100%|██████████| 2000/2000 [13:17<00:00,  2.51it/s]\n"
     ]
    },
    {
     "name": "stdout",
     "output_type": "stream",
     "text": [
      "Epoch 80 Mean Reward: 396.586\n",
      "Epoch 80 Model saved to ./checkpoints/take_cover.ckpt\n",
      "Epoch 80 test:\n",
      "Test Episode 1 Reward: 502.0\n",
      "Test Episode 2 Reward: 154.0\n",
      "Test Episode 3 Reward: 239.0\n",
      "Test Episode 4 Reward: 239.0\n",
      "Test Episode 5 Reward: 302.0\n",
      "Test Episode 6 Reward: 239.0\n",
      "Test Episode 7 Reward: 281.0\n",
      "Test Episode 8 Reward: 239.0\n",
      "Test Episode 9 Reward: 222.0\n",
      "Test Episode 10 Reward: 239.0\n",
      "Average Test Reward: 265.6\n"
     ]
    },
    {
     "name": "stderr",
     "output_type": "stream",
     "text": [
      "100%|██████████| 2000/2000 [12:55<00:00,  2.58it/s]\n"
     ]
    },
    {
     "name": "stdout",
     "output_type": "stream",
     "text": [
      "Epoch 81 Mean Reward: 397.224\n"
     ]
    },
    {
     "name": "stderr",
     "output_type": "stream",
     "text": [
      "100%|██████████| 2000/2000 [12:59<00:00,  2.56it/s]\n"
     ]
    },
    {
     "name": "stdout",
     "output_type": "stream",
     "text": [
      "Epoch 82 Mean Reward: 397.4485\n"
     ]
    },
    {
     "name": "stderr",
     "output_type": "stream",
     "text": [
      "100%|██████████| 2000/2000 [12:55<00:00,  2.58it/s]\n"
     ]
    },
    {
     "name": "stdout",
     "output_type": "stream",
     "text": [
      "Epoch 83 Mean Reward: 394.8745\n"
     ]
    },
    {
     "name": "stderr",
     "output_type": "stream",
     "text": [
      "100%|██████████| 2000/2000 [13:33<00:00,  2.46it/s]\n"
     ]
    },
    {
     "name": "stdout",
     "output_type": "stream",
     "text": [
      "Epoch 84 Mean Reward: 393.9455\n"
     ]
    },
    {
     "name": "stderr",
     "output_type": "stream",
     "text": [
      "100%|██████████| 2000/2000 [19:38<00:00,  1.70it/s]\n"
     ]
    },
    {
     "name": "stdout",
     "output_type": "stream",
     "text": [
      "Epoch 85 Mean Reward: 385.6405\n"
     ]
    },
    {
     "name": "stderr",
     "output_type": "stream",
     "text": [
      "100%|██████████| 2000/2000 [21:57<00:00,  1.52it/s]\n"
     ]
    },
    {
     "name": "stdout",
     "output_type": "stream",
     "text": [
      "Epoch 86 Mean Reward: 392.7255\n"
     ]
    },
    {
     "name": "stderr",
     "output_type": "stream",
     "text": [
      "100%|██████████| 2000/2000 [21:56<00:00,  1.52it/s]\n"
     ]
    },
    {
     "name": "stdout",
     "output_type": "stream",
     "text": [
      "Epoch 87 Mean Reward: 394.1375\n"
     ]
    },
    {
     "name": "stderr",
     "output_type": "stream",
     "text": [
      "100%|██████████| 2000/2000 [21:57<00:00,  1.52it/s]\n"
     ]
    },
    {
     "name": "stdout",
     "output_type": "stream",
     "text": [
      "Epoch 88 Mean Reward: 391.712\n"
     ]
    },
    {
     "name": "stderr",
     "output_type": "stream",
     "text": [
      "100%|██████████| 2000/2000 [21:21<00:00,  1.56it/s]\n"
     ]
    },
    {
     "name": "stdout",
     "output_type": "stream",
     "text": [
      "Epoch 89 Mean Reward: 383.965\n"
     ]
    },
    {
     "name": "stderr",
     "output_type": "stream",
     "text": [
      "100%|██████████| 2000/2000 [18:22<00:00,  1.81it/s]\n"
     ]
    },
    {
     "name": "stdout",
     "output_type": "stream",
     "text": [
      "Epoch 90 Mean Reward: 400.9575\n",
      "Epoch 90 Model saved to ./checkpoints/take_cover.ckpt\n",
      "Epoch 90 test:\n",
      "Test Episode 1 Reward: 1158.0\n",
      "Test Episode 2 Reward: 1158.0\n",
      "Test Episode 3 Reward: 1158.0\n",
      "Test Episode 4 Reward: 548.0\n",
      "Test Episode 5 Reward: 1158.0\n",
      "Test Episode 6 Reward: 1158.0\n",
      "Test Episode 7 Reward: 466.0\n",
      "Test Episode 8 Reward: 220.0\n",
      "Test Episode 9 Reward: 1158.0\n",
      "Test Episode 10 Reward: 1158.0\n",
      "Average Test Reward: 934.0\n"
     ]
    },
    {
     "name": "stderr",
     "output_type": "stream",
     "text": [
      "100%|██████████| 2000/2000 [12:54<00:00,  2.58it/s]\n"
     ]
    },
    {
     "name": "stdout",
     "output_type": "stream",
     "text": [
      "Epoch 91 Mean Reward: 396.301\n"
     ]
    },
    {
     "name": "stderr",
     "output_type": "stream",
     "text": [
      "100%|██████████| 2000/2000 [13:05<00:00,  2.55it/s]\n"
     ]
    },
    {
     "name": "stdout",
     "output_type": "stream",
     "text": [
      "Epoch 92 Mean Reward: 397.8385\n"
     ]
    },
    {
     "name": "stderr",
     "output_type": "stream",
     "text": [
      "100%|██████████| 2000/2000 [13:03<00:00,  2.55it/s]\n"
     ]
    },
    {
     "name": "stdout",
     "output_type": "stream",
     "text": [
      "Epoch 93 Mean Reward: 397.3265\n"
     ]
    },
    {
     "name": "stderr",
     "output_type": "stream",
     "text": [
      "100%|██████████| 2000/2000 [12:31<00:00,  2.66it/s]\n"
     ]
    },
    {
     "name": "stdout",
     "output_type": "stream",
     "text": [
      "Epoch 94 Mean Reward: 404.8235\n"
     ]
    },
    {
     "name": "stderr",
     "output_type": "stream",
     "text": [
      "100%|██████████| 2000/2000 [12:38<00:00,  2.64it/s]\n"
     ]
    },
    {
     "name": "stdout",
     "output_type": "stream",
     "text": [
      "Epoch 95 Mean Reward: 393.763\n"
     ]
    },
    {
     "name": "stderr",
     "output_type": "stream",
     "text": [
      "100%|██████████| 2000/2000 [12:09<00:00,  2.74it/s]\n"
     ]
    },
    {
     "name": "stdout",
     "output_type": "stream",
     "text": [
      "Epoch 96 Mean Reward: 391.726\n"
     ]
    },
    {
     "name": "stderr",
     "output_type": "stream",
     "text": [
      "100%|██████████| 2000/2000 [12:22<00:00,  2.70it/s]\n"
     ]
    },
    {
     "name": "stdout",
     "output_type": "stream",
     "text": [
      "Epoch 97 Mean Reward: 398.939\n"
     ]
    },
    {
     "name": "stderr",
     "output_type": "stream",
     "text": [
      "100%|██████████| 2000/2000 [12:10<00:00,  2.74it/s]\n"
     ]
    },
    {
     "name": "stdout",
     "output_type": "stream",
     "text": [
      "Epoch 98 Mean Reward: 393.5215\n"
     ]
    },
    {
     "name": "stderr",
     "output_type": "stream",
     "text": [
      "100%|██████████| 2000/2000 [12:37<00:00,  2.64it/s]\n"
     ]
    },
    {
     "name": "stdout",
     "output_type": "stream",
     "text": [
      "Epoch 99 Mean Reward: 399.684\n"
     ]
    },
    {
     "name": "stderr",
     "output_type": "stream",
     "text": [
      "100%|██████████| 2000/2000 [12:45<00:00,  2.61it/s]\n"
     ]
    },
    {
     "name": "stdout",
     "output_type": "stream",
     "text": [
      "Epoch 100 Mean Reward: 395.925\n",
      "Epoch 100 Model saved to ./checkpoints/take_cover.ckpt\n",
      "Epoch 100 test:\n",
      "Test Episode 1 Reward: 232.0\n",
      "Test Episode 2 Reward: 205.0\n",
      "Test Episode 3 Reward: 157.0\n",
      "Test Episode 4 Reward: 232.0\n",
      "Test Episode 5 Reward: 232.0\n",
      "Test Episode 6 Reward: 351.0\n",
      "Test Episode 7 Reward: 232.0\n",
      "Test Episode 8 Reward: 232.0\n",
      "Test Episode 9 Reward: 260.0\n",
      "Test Episode 10 Reward: 232.0\n",
      "Average Test Reward: 236.5\n"
     ]
    },
    {
     "name": "stderr",
     "output_type": "stream",
     "text": [
      "100%|██████████| 2000/2000 [12:45<00:00,  2.61it/s]\n"
     ]
    },
    {
     "name": "stdout",
     "output_type": "stream",
     "text": [
      "Epoch 101 Mean Reward: 401.211\n"
     ]
    },
    {
     "name": "stderr",
     "output_type": "stream",
     "text": [
      "100%|██████████| 2000/2000 [12:28<00:00,  2.67it/s]\n"
     ]
    },
    {
     "name": "stdout",
     "output_type": "stream",
     "text": [
      "Epoch 102 Mean Reward: 396.783\n"
     ]
    },
    {
     "name": "stderr",
     "output_type": "stream",
     "text": [
      "100%|██████████| 2000/2000 [12:49<00:00,  2.60it/s]\n"
     ]
    },
    {
     "name": "stdout",
     "output_type": "stream",
     "text": [
      "Epoch 103 Mean Reward: 401.0915\n"
     ]
    },
    {
     "name": "stderr",
     "output_type": "stream",
     "text": [
      "100%|██████████| 2000/2000 [14:11<00:00,  2.35it/s]\n"
     ]
    },
    {
     "name": "stdout",
     "output_type": "stream",
     "text": [
      "Epoch 104 Mean Reward: 396.5345\n"
     ]
    },
    {
     "name": "stderr",
     "output_type": "stream",
     "text": [
      "100%|██████████| 2000/2000 [15:16<00:00,  2.18it/s]\n"
     ]
    },
    {
     "name": "stdout",
     "output_type": "stream",
     "text": [
      "Epoch 105 Mean Reward: 401.2895\n"
     ]
    },
    {
     "name": "stderr",
     "output_type": "stream",
     "text": [
      "100%|██████████| 2000/2000 [19:06<00:00,  1.74it/s]\n"
     ]
    },
    {
     "name": "stdout",
     "output_type": "stream",
     "text": [
      "Epoch 106 Mean Reward: 404.9975\n"
     ]
    },
    {
     "name": "stderr",
     "output_type": "stream",
     "text": [
      "100%|██████████| 2000/2000 [14:05<00:00,  2.36it/s]\n"
     ]
    },
    {
     "name": "stdout",
     "output_type": "stream",
     "text": [
      "Epoch 107 Mean Reward: 407.042\n"
     ]
    },
    {
     "name": "stderr",
     "output_type": "stream",
     "text": [
      "100%|██████████| 2000/2000 [12:31<00:00,  2.66it/s]\n"
     ]
    },
    {
     "name": "stdout",
     "output_type": "stream",
     "text": [
      "Epoch 108 Mean Reward: 401.5925\n"
     ]
    },
    {
     "name": "stderr",
     "output_type": "stream",
     "text": [
      "100%|██████████| 2000/2000 [12:53<00:00,  2.59it/s]\n"
     ]
    },
    {
     "name": "stdout",
     "output_type": "stream",
     "text": [
      "Epoch 109 Mean Reward: 407.6955\n"
     ]
    },
    {
     "name": "stderr",
     "output_type": "stream",
     "text": [
      "100%|██████████| 2000/2000 [13:05<00:00,  2.55it/s]\n"
     ]
    },
    {
     "name": "stdout",
     "output_type": "stream",
     "text": [
      "Epoch 110 Mean Reward: 398.264\n",
      "Epoch 110 Model saved to ./checkpoints/take_cover.ckpt\n",
      "Epoch 110 test:\n",
      "Test Episode 1 Reward: 257.0\n",
      "Test Episode 2 Reward: 476.0\n",
      "Test Episode 3 Reward: 625.0\n",
      "Test Episode 4 Reward: 476.0\n",
      "Test Episode 5 Reward: 167.0\n",
      "Test Episode 6 Reward: 327.0\n",
      "Test Episode 7 Reward: 396.0\n",
      "Test Episode 8 Reward: 339.0\n",
      "Test Episode 9 Reward: 243.0\n",
      "Test Episode 10 Reward: 476.0\n",
      "Average Test Reward: 378.2\n"
     ]
    },
    {
     "name": "stderr",
     "output_type": "stream",
     "text": [
      "100%|██████████| 2000/2000 [14:22<00:00,  2.32it/s]\n"
     ]
    },
    {
     "name": "stdout",
     "output_type": "stream",
     "text": [
      "Epoch 111 Mean Reward: 398.9185\n"
     ]
    },
    {
     "name": "stderr",
     "output_type": "stream",
     "text": [
      "100%|██████████| 2000/2000 [12:19<00:00,  2.70it/s]\n"
     ]
    },
    {
     "name": "stdout",
     "output_type": "stream",
     "text": [
      "Epoch 112 Mean Reward: 399.5905\n"
     ]
    },
    {
     "name": "stderr",
     "output_type": "stream",
     "text": [
      "100%|██████████| 2000/2000 [12:44<00:00,  2.62it/s]\n"
     ]
    },
    {
     "name": "stdout",
     "output_type": "stream",
     "text": [
      "Epoch 113 Mean Reward: 408.1905\n"
     ]
    },
    {
     "name": "stderr",
     "output_type": "stream",
     "text": [
      "100%|██████████| 2000/2000 [12:25<00:00,  2.68it/s]\n"
     ]
    },
    {
     "name": "stdout",
     "output_type": "stream",
     "text": [
      "Epoch 114 Mean Reward: 403.8415\n"
     ]
    },
    {
     "name": "stderr",
     "output_type": "stream",
     "text": [
      "100%|██████████| 2000/2000 [12:19<00:00,  2.70it/s]\n"
     ]
    },
    {
     "name": "stdout",
     "output_type": "stream",
     "text": [
      "Epoch 115 Mean Reward: 400.322\n"
     ]
    },
    {
     "name": "stderr",
     "output_type": "stream",
     "text": [
      "100%|██████████| 2000/2000 [12:33<00:00,  2.65it/s]\n"
     ]
    },
    {
     "name": "stdout",
     "output_type": "stream",
     "text": [
      "Epoch 116 Mean Reward: 404.6615\n"
     ]
    },
    {
     "name": "stderr",
     "output_type": "stream",
     "text": [
      "100%|██████████| 2000/2000 [12:29<00:00,  2.67it/s]\n"
     ]
    },
    {
     "name": "stdout",
     "output_type": "stream",
     "text": [
      "Epoch 117 Mean Reward: 400.0945\n"
     ]
    },
    {
     "name": "stderr",
     "output_type": "stream",
     "text": [
      "100%|██████████| 2000/2000 [12:05<00:00,  2.76it/s]\n"
     ]
    },
    {
     "name": "stdout",
     "output_type": "stream",
     "text": [
      "Epoch 118 Mean Reward: 403.643\n"
     ]
    },
    {
     "name": "stderr",
     "output_type": "stream",
     "text": [
      "100%|██████████| 2000/2000 [11:59<00:00,  2.78it/s]\n"
     ]
    },
    {
     "name": "stdout",
     "output_type": "stream",
     "text": [
      "Epoch 119 Mean Reward: 406.49\n"
     ]
    },
    {
     "name": "stderr",
     "output_type": "stream",
     "text": [
      "100%|██████████| 2000/2000 [14:27<00:00,  2.30it/s]\n"
     ]
    },
    {
     "name": "stdout",
     "output_type": "stream",
     "text": [
      "Epoch 120 Mean Reward: 402.3935\n",
      "Epoch 120 Model saved to ./checkpoints/take_cover.ckpt\n",
      "Epoch 120 test:\n",
      "Test Episode 1 Reward: 101.0\n",
      "Test Episode 2 Reward: 493.0\n",
      "Test Episode 3 Reward: 379.0\n",
      "Test Episode 4 Reward: 493.0\n",
      "Test Episode 5 Reward: 493.0\n",
      "Test Episode 6 Reward: 395.0\n",
      "Test Episode 7 Reward: 327.0\n",
      "Test Episode 8 Reward: 277.0\n",
      "Test Episode 9 Reward: 493.0\n",
      "Test Episode 10 Reward: 493.0\n",
      "Average Test Reward: 394.4\n"
     ]
    },
    {
     "name": "stderr",
     "output_type": "stream",
     "text": [
      "100%|██████████| 2000/2000 [14:15<00:00,  2.34it/s]\n"
     ]
    },
    {
     "name": "stdout",
     "output_type": "stream",
     "text": [
      "Epoch 121 Mean Reward: 406.179\n"
     ]
    },
    {
     "name": "stderr",
     "output_type": "stream",
     "text": [
      "100%|██████████| 2000/2000 [14:11<00:00,  2.35it/s]\n"
     ]
    },
    {
     "name": "stdout",
     "output_type": "stream",
     "text": [
      "Epoch 122 Mean Reward: 409.2225\n"
     ]
    },
    {
     "name": "stderr",
     "output_type": "stream",
     "text": [
      "100%|██████████| 2000/2000 [12:03<00:00,  2.76it/s]\n"
     ]
    },
    {
     "name": "stdout",
     "output_type": "stream",
     "text": [
      "Epoch 123 Mean Reward: 402.3875\n"
     ]
    },
    {
     "name": "stderr",
     "output_type": "stream",
     "text": [
      "100%|██████████| 2000/2000 [12:00<00:00,  2.78it/s]\n"
     ]
    },
    {
     "name": "stdout",
     "output_type": "stream",
     "text": [
      "Epoch 124 Mean Reward: 413.609\n"
     ]
    },
    {
     "name": "stderr",
     "output_type": "stream",
     "text": [
      "100%|██████████| 2000/2000 [12:07<00:00,  2.75it/s]\n"
     ]
    },
    {
     "name": "stdout",
     "output_type": "stream",
     "text": [
      "Epoch 125 Mean Reward: 418.1745\n"
     ]
    },
    {
     "name": "stderr",
     "output_type": "stream",
     "text": [
      "100%|██████████| 2000/2000 [12:04<00:00,  2.76it/s]\n"
     ]
    },
    {
     "name": "stdout",
     "output_type": "stream",
     "text": [
      "Epoch 126 Mean Reward: 414.763\n"
     ]
    },
    {
     "name": "stderr",
     "output_type": "stream",
     "text": [
      "100%|██████████| 2000/2000 [11:59<00:00,  2.78it/s]\n"
     ]
    },
    {
     "name": "stdout",
     "output_type": "stream",
     "text": [
      "Epoch 127 Mean Reward: 413.377\n"
     ]
    },
    {
     "name": "stderr",
     "output_type": "stream",
     "text": [
      "100%|██████████| 2000/2000 [11:50<00:00,  2.82it/s]\n"
     ]
    },
    {
     "name": "stdout",
     "output_type": "stream",
     "text": [
      "Epoch 128 Mean Reward: 407.432\n"
     ]
    },
    {
     "name": "stderr",
     "output_type": "stream",
     "text": [
      "100%|██████████| 2000/2000 [12:02<00:00,  2.77it/s]\n"
     ]
    },
    {
     "name": "stdout",
     "output_type": "stream",
     "text": [
      "Epoch 129 Mean Reward: 415.106\n"
     ]
    },
    {
     "name": "stderr",
     "output_type": "stream",
     "text": [
      "100%|██████████| 2000/2000 [11:55<00:00,  2.80it/s]\n"
     ]
    },
    {
     "name": "stdout",
     "output_type": "stream",
     "text": [
      "Epoch 130 Mean Reward: 410.4415\n",
      "Epoch 130 Model saved to ./checkpoints/take_cover.ckpt\n",
      "Epoch 130 test:\n",
      "Test Episode 1 Reward: 102.0\n",
      "Test Episode 2 Reward: 309.0\n",
      "Test Episode 3 Reward: 534.0\n",
      "Test Episode 4 Reward: 534.0\n",
      "Test Episode 5 Reward: 534.0\n",
      "Test Episode 6 Reward: 306.0\n",
      "Test Episode 7 Reward: 534.0\n",
      "Test Episode 8 Reward: 230.0\n",
      "Test Episode 9 Reward: 255.0\n",
      "Test Episode 10 Reward: 534.0\n",
      "Average Test Reward: 387.2\n"
     ]
    },
    {
     "name": "stderr",
     "output_type": "stream",
     "text": [
      "100%|██████████| 2000/2000 [11:51<00:00,  2.81it/s]\n"
     ]
    },
    {
     "name": "stdout",
     "output_type": "stream",
     "text": [
      "Epoch 131 Mean Reward: 409.637\n"
     ]
    },
    {
     "name": "stderr",
     "output_type": "stream",
     "text": [
      "100%|██████████| 2000/2000 [11:55<00:00,  2.80it/s]\n"
     ]
    },
    {
     "name": "stdout",
     "output_type": "stream",
     "text": [
      "Epoch 132 Mean Reward: 411.2955\n"
     ]
    },
    {
     "name": "stderr",
     "output_type": "stream",
     "text": [
      "100%|██████████| 2000/2000 [11:53<00:00,  2.80it/s]\n"
     ]
    },
    {
     "name": "stdout",
     "output_type": "stream",
     "text": [
      "Epoch 133 Mean Reward: 409.9565\n"
     ]
    },
    {
     "name": "stderr",
     "output_type": "stream",
     "text": [
      "100%|██████████| 2000/2000 [11:48<00:00,  2.82it/s]\n"
     ]
    },
    {
     "name": "stdout",
     "output_type": "stream",
     "text": [
      "Epoch 134 Mean Reward: 408.0905\n"
     ]
    },
    {
     "name": "stderr",
     "output_type": "stream",
     "text": [
      "100%|██████████| 2000/2000 [12:02<00:00,  2.77it/s]\n"
     ]
    },
    {
     "name": "stdout",
     "output_type": "stream",
     "text": [
      "Epoch 135 Mean Reward: 416.944\n"
     ]
    },
    {
     "name": "stderr",
     "output_type": "stream",
     "text": [
      "100%|██████████| 2000/2000 [12:03<00:00,  2.76it/s]\n"
     ]
    },
    {
     "name": "stdout",
     "output_type": "stream",
     "text": [
      "Epoch 136 Mean Reward: 416.517\n"
     ]
    },
    {
     "name": "stderr",
     "output_type": "stream",
     "text": [
      "100%|██████████| 2000/2000 [12:07<00:00,  2.75it/s]\n"
     ]
    },
    {
     "name": "stdout",
     "output_type": "stream",
     "text": [
      "Epoch 137 Mean Reward: 418.1515\n"
     ]
    },
    {
     "name": "stderr",
     "output_type": "stream",
     "text": [
      "100%|██████████| 2000/2000 [12:06<00:00,  2.75it/s]\n"
     ]
    },
    {
     "name": "stdout",
     "output_type": "stream",
     "text": [
      "Epoch 138 Mean Reward: 418.5\n"
     ]
    },
    {
     "name": "stderr",
     "output_type": "stream",
     "text": [
      "100%|██████████| 2000/2000 [12:11<00:00,  2.73it/s]\n"
     ]
    },
    {
     "name": "stdout",
     "output_type": "stream",
     "text": [
      "Epoch 139 Mean Reward: 421.853\n"
     ]
    },
    {
     "name": "stderr",
     "output_type": "stream",
     "text": [
      "100%|██████████| 2000/2000 [12:06<00:00,  2.75it/s]\n"
     ]
    },
    {
     "name": "stdout",
     "output_type": "stream",
     "text": [
      "Epoch 140 Mean Reward: 419.0085\n",
      "Epoch 140 Model saved to ./checkpoints/take_cover.ckpt\n",
      "Epoch 140 test:\n",
      "Test Episode 1 Reward: 137.0\n",
      "Test Episode 2 Reward: 330.0\n",
      "Test Episode 3 Reward: 190.0\n",
      "Test Episode 4 Reward: 112.0\n",
      "Test Episode 5 Reward: 550.0\n",
      "Test Episode 6 Reward: 330.0\n",
      "Test Episode 7 Reward: 172.0\n",
      "Test Episode 8 Reward: 330.0\n",
      "Test Episode 9 Reward: 150.0\n",
      "Test Episode 10 Reward: 330.0\n",
      "Average Test Reward: 263.1\n"
     ]
    },
    {
     "name": "stderr",
     "output_type": "stream",
     "text": [
      "100%|██████████| 2000/2000 [11:36<00:00,  2.87it/s]\n"
     ]
    },
    {
     "name": "stdout",
     "output_type": "stream",
     "text": [
      "Epoch 141 Mean Reward: 400.816\n"
     ]
    },
    {
     "name": "stderr",
     "output_type": "stream",
     "text": [
      "100%|██████████| 2000/2000 [12:21<00:00,  2.70it/s]\n"
     ]
    },
    {
     "name": "stdout",
     "output_type": "stream",
     "text": [
      "Epoch 142 Mean Reward: 424.941\n"
     ]
    },
    {
     "name": "stderr",
     "output_type": "stream",
     "text": [
      "100%|██████████| 2000/2000 [12:02<00:00,  2.77it/s]\n"
     ]
    },
    {
     "name": "stdout",
     "output_type": "stream",
     "text": [
      "Epoch 143 Mean Reward: 416.6675\n"
     ]
    },
    {
     "name": "stderr",
     "output_type": "stream",
     "text": [
      "100%|██████████| 2000/2000 [11:58<00:00,  2.79it/s]\n"
     ]
    },
    {
     "name": "stdout",
     "output_type": "stream",
     "text": [
      "Epoch 144 Mean Reward: 414.181\n"
     ]
    },
    {
     "name": "stderr",
     "output_type": "stream",
     "text": [
      "100%|██████████| 2000/2000 [11:56<00:00,  2.79it/s]\n"
     ]
    },
    {
     "name": "stdout",
     "output_type": "stream",
     "text": [
      "Epoch 145 Mean Reward: 413.6425\n"
     ]
    },
    {
     "name": "stderr",
     "output_type": "stream",
     "text": [
      "100%|██████████| 2000/2000 [11:48<00:00,  2.82it/s]\n"
     ]
    },
    {
     "name": "stdout",
     "output_type": "stream",
     "text": [
      "Epoch 146 Mean Reward: 407.0105\n"
     ]
    },
    {
     "name": "stderr",
     "output_type": "stream",
     "text": [
      "100%|██████████| 2000/2000 [11:50<00:00,  2.81it/s]\n"
     ]
    },
    {
     "name": "stdout",
     "output_type": "stream",
     "text": [
      "Epoch 147 Mean Reward: 409.223\n"
     ]
    },
    {
     "name": "stderr",
     "output_type": "stream",
     "text": [
      "100%|██████████| 2000/2000 [11:46<00:00,  2.83it/s]\n"
     ]
    },
    {
     "name": "stdout",
     "output_type": "stream",
     "text": [
      "Epoch 148 Mean Reward: 406.1525\n"
     ]
    },
    {
     "name": "stderr",
     "output_type": "stream",
     "text": [
      "100%|██████████| 2000/2000 [12:00<00:00,  2.78it/s]\n"
     ]
    },
    {
     "name": "stdout",
     "output_type": "stream",
     "text": [
      "Epoch 149 Mean Reward: 415.4045\n"
     ]
    },
    {
     "name": "stderr",
     "output_type": "stream",
     "text": [
      "100%|██████████| 2000/2000 [11:53<00:00,  2.80it/s]\n"
     ]
    },
    {
     "name": "stdout",
     "output_type": "stream",
     "text": [
      "Epoch 150 Mean Reward: 411.1315\n",
      "Epoch 150 Model saved to ./checkpoints/take_cover.ckpt\n",
      "Epoch 150 test:\n",
      "Test Episode 1 Reward: 672.0\n",
      "Test Episode 2 Reward: 478.0\n",
      "Test Episode 3 Reward: 672.0\n",
      "Test Episode 4 Reward: 672.0\n",
      "Test Episode 5 Reward: 672.0\n",
      "Test Episode 6 Reward: 672.0\n",
      "Test Episode 7 Reward: 118.0\n",
      "Test Episode 8 Reward: 672.0\n",
      "Test Episode 9 Reward: 672.0\n",
      "Test Episode 10 Reward: 148.0\n",
      "Average Test Reward: 544.8\n"
     ]
    },
    {
     "name": "stderr",
     "output_type": "stream",
     "text": [
      "100%|██████████| 2000/2000 [11:57<00:00,  2.79it/s]\n"
     ]
    },
    {
     "name": "stdout",
     "output_type": "stream",
     "text": [
      "Epoch 151 Mean Reward: 412.974\n"
     ]
    },
    {
     "name": "stderr",
     "output_type": "stream",
     "text": [
      "100%|██████████| 2000/2000 [12:21<00:00,  2.70it/s]\n"
     ]
    },
    {
     "name": "stdout",
     "output_type": "stream",
     "text": [
      "Epoch 152 Mean Reward: 428.9755\n"
     ]
    },
    {
     "name": "stderr",
     "output_type": "stream",
     "text": [
      "100%|██████████| 2000/2000 [12:09<00:00,  2.74it/s]\n"
     ]
    },
    {
     "name": "stdout",
     "output_type": "stream",
     "text": [
      "Epoch 153 Mean Reward: 420.8705\n"
     ]
    },
    {
     "name": "stderr",
     "output_type": "stream",
     "text": [
      "100%|██████████| 2000/2000 [12:03<00:00,  2.76it/s]\n"
     ]
    },
    {
     "name": "stdout",
     "output_type": "stream",
     "text": [
      "Epoch 154 Mean Reward: 418.1225\n"
     ]
    },
    {
     "name": "stderr",
     "output_type": "stream",
     "text": [
      "100%|██████████| 2000/2000 [12:15<00:00,  2.72it/s]\n"
     ]
    },
    {
     "name": "stdout",
     "output_type": "stream",
     "text": [
      "Epoch 155 Mean Reward: 424.915\n"
     ]
    },
    {
     "name": "stderr",
     "output_type": "stream",
     "text": [
      "100%|██████████| 2000/2000 [12:10<00:00,  2.74it/s]\n"
     ]
    },
    {
     "name": "stdout",
     "output_type": "stream",
     "text": [
      "Epoch 156 Mean Reward: 421.545\n"
     ]
    },
    {
     "name": "stderr",
     "output_type": "stream",
     "text": [
      "100%|██████████| 2000/2000 [12:17<00:00,  2.71it/s]\n"
     ]
    },
    {
     "name": "stdout",
     "output_type": "stream",
     "text": [
      "Epoch 157 Mean Reward: 426.447\n"
     ]
    },
    {
     "name": "stderr",
     "output_type": "stream",
     "text": [
      "100%|██████████| 2000/2000 [12:08<00:00,  2.75it/s]\n"
     ]
    },
    {
     "name": "stdout",
     "output_type": "stream",
     "text": [
      "Epoch 158 Mean Reward: 420.876\n"
     ]
    },
    {
     "name": "stderr",
     "output_type": "stream",
     "text": [
      "100%|██████████| 2000/2000 [12:23<00:00,  2.69it/s]\n"
     ]
    },
    {
     "name": "stdout",
     "output_type": "stream",
     "text": [
      "Epoch 159 Mean Reward: 429.915\n"
     ]
    },
    {
     "name": "stderr",
     "output_type": "stream",
     "text": [
      "100%|██████████| 2000/2000 [12:13<00:00,  2.73it/s]\n"
     ]
    },
    {
     "name": "stdout",
     "output_type": "stream",
     "text": [
      "Epoch 160 Mean Reward: 423.6265\n",
      "Epoch 160 Model saved to ./checkpoints/take_cover.ckpt\n",
      "Epoch 160 test:\n",
      "Test Episode 1 Reward: 381.0\n",
      "Test Episode 2 Reward: 378.0\n",
      "Test Episode 3 Reward: 346.0\n",
      "Test Episode 4 Reward: 309.0\n",
      "Test Episode 5 Reward: 346.0\n",
      "Test Episode 6 Reward: 286.0\n",
      "Test Episode 7 Reward: 559.0\n",
      "Test Episode 8 Reward: 127.0\n",
      "Test Episode 9 Reward: 346.0\n",
      "Test Episode 10 Reward: 246.0\n",
      "Average Test Reward: 332.4\n"
     ]
    },
    {
     "name": "stderr",
     "output_type": "stream",
     "text": [
      "100%|██████████| 2000/2000 [12:21<00:00,  2.70it/s]\n"
     ]
    },
    {
     "name": "stdout",
     "output_type": "stream",
     "text": [
      "Epoch 161 Mean Reward: 430.0125\n"
     ]
    },
    {
     "name": "stderr",
     "output_type": "stream",
     "text": [
      "100%|██████████| 2000/2000 [12:22<00:00,  2.69it/s]\n"
     ]
    },
    {
     "name": "stdout",
     "output_type": "stream",
     "text": [
      "Epoch 162 Mean Reward: 430.7775\n"
     ]
    },
    {
     "name": "stderr",
     "output_type": "stream",
     "text": [
      "100%|██████████| 2000/2000 [12:22<00:00,  2.69it/s]\n"
     ]
    },
    {
     "name": "stdout",
     "output_type": "stream",
     "text": [
      "Epoch 163 Mean Reward: 431.325\n"
     ]
    },
    {
     "name": "stderr",
     "output_type": "stream",
     "text": [
      "100%|██████████| 2000/2000 [12:06<00:00,  2.75it/s]\n"
     ]
    },
    {
     "name": "stdout",
     "output_type": "stream",
     "text": [
      "Epoch 164 Mean Reward: 421.493\n"
     ]
    },
    {
     "name": "stderr",
     "output_type": "stream",
     "text": [
      "100%|██████████| 2000/2000 [12:23<00:00,  2.69it/s]\n"
     ]
    },
    {
     "name": "stdout",
     "output_type": "stream",
     "text": [
      "Epoch 165 Mean Reward: 432.008\n"
     ]
    },
    {
     "name": "stderr",
     "output_type": "stream",
     "text": [
      "100%|██████████| 2000/2000 [12:32<00:00,  2.66it/s]\n"
     ]
    },
    {
     "name": "stdout",
     "output_type": "stream",
     "text": [
      "Epoch 166 Mean Reward: 437.294\n"
     ]
    },
    {
     "name": "stderr",
     "output_type": "stream",
     "text": [
      "100%|██████████| 2000/2000 [12:31<00:00,  2.66it/s]\n"
     ]
    },
    {
     "name": "stdout",
     "output_type": "stream",
     "text": [
      "Epoch 167 Mean Reward: 436.474\n"
     ]
    },
    {
     "name": "stderr",
     "output_type": "stream",
     "text": [
      "100%|██████████| 2000/2000 [12:28<00:00,  2.67it/s]\n"
     ]
    },
    {
     "name": "stdout",
     "output_type": "stream",
     "text": [
      "Epoch 168 Mean Reward: 435.4925\n"
     ]
    },
    {
     "name": "stderr",
     "output_type": "stream",
     "text": [
      "100%|██████████| 2000/2000 [12:35<00:00,  2.65it/s]\n"
     ]
    },
    {
     "name": "stdout",
     "output_type": "stream",
     "text": [
      "Epoch 169 Mean Reward: 439.2925\n"
     ]
    },
    {
     "name": "stderr",
     "output_type": "stream",
     "text": [
      "100%|██████████| 2000/2000 [12:35<00:00,  2.65it/s]\n"
     ]
    },
    {
     "name": "stdout",
     "output_type": "stream",
     "text": [
      "Epoch 170 Mean Reward: 439.028\n",
      "Epoch 170 Model saved to ./checkpoints/take_cover.ckpt\n",
      "Epoch 170 test:\n",
      "Test Episode 1 Reward: 299.0\n",
      "Test Episode 2 Reward: 299.0\n",
      "Test Episode 3 Reward: 257.0\n",
      "Test Episode 4 Reward: 299.0\n",
      "Test Episode 5 Reward: 226.0\n",
      "Test Episode 6 Reward: 299.0\n",
      "Test Episode 7 Reward: 299.0\n",
      "Test Episode 8 Reward: 299.0\n",
      "Test Episode 9 Reward: 280.0\n",
      "Test Episode 10 Reward: 465.0\n",
      "Average Test Reward: 302.2\n"
     ]
    },
    {
     "name": "stderr",
     "output_type": "stream",
     "text": [
      "100%|██████████| 2000/2000 [12:35<00:00,  2.65it/s]\n"
     ]
    },
    {
     "name": "stdout",
     "output_type": "stream",
     "text": [
      "Epoch 171 Mean Reward: 435.164\n"
     ]
    },
    {
     "name": "stderr",
     "output_type": "stream",
     "text": [
      "100%|██████████| 2000/2000 [12:37<00:00,  2.64it/s]\n"
     ]
    },
    {
     "name": "stdout",
     "output_type": "stream",
     "text": [
      "Epoch 172 Mean Reward: 416.8435\n"
     ]
    },
    {
     "name": "stderr",
     "output_type": "stream",
     "text": [
      "100%|██████████| 2000/2000 [14:57<00:00,  2.23it/s]\n"
     ]
    },
    {
     "name": "stdout",
     "output_type": "stream",
     "text": [
      "Epoch 173 Mean Reward: 424.598\n"
     ]
    },
    {
     "name": "stderr",
     "output_type": "stream",
     "text": [
      "100%|██████████| 2000/2000 [17:37<00:00,  1.89it/s]\n"
     ]
    },
    {
     "name": "stdout",
     "output_type": "stream",
     "text": [
      "Epoch 174 Mean Reward: 433.8715\n"
     ]
    },
    {
     "name": "stderr",
     "output_type": "stream",
     "text": [
      "100%|██████████| 2000/2000 [14:44<00:00,  2.26it/s]\n"
     ]
    },
    {
     "name": "stdout",
     "output_type": "stream",
     "text": [
      "Epoch 175 Mean Reward: 431.5775\n"
     ]
    },
    {
     "name": "stderr",
     "output_type": "stream",
     "text": [
      "100%|██████████| 2000/2000 [12:52<00:00,  2.59it/s]\n"
     ]
    },
    {
     "name": "stdout",
     "output_type": "stream",
     "text": [
      "Epoch 176 Mean Reward: 431.7795\n"
     ]
    },
    {
     "name": "stderr",
     "output_type": "stream",
     "text": [
      "100%|██████████| 2000/2000 [12:44<00:00,  2.62it/s]\n"
     ]
    },
    {
     "name": "stdout",
     "output_type": "stream",
     "text": [
      "Epoch 177 Mean Reward: 426.7965\n"
     ]
    },
    {
     "name": "stderr",
     "output_type": "stream",
     "text": [
      "100%|██████████| 2000/2000 [12:52<00:00,  2.59it/s]\n"
     ]
    },
    {
     "name": "stdout",
     "output_type": "stream",
     "text": [
      "Epoch 178 Mean Reward: 433.3835\n"
     ]
    },
    {
     "name": "stderr",
     "output_type": "stream",
     "text": [
      "100%|██████████| 2000/2000 [13:01<00:00,  2.56it/s]\n"
     ]
    },
    {
     "name": "stdout",
     "output_type": "stream",
     "text": [
      "Epoch 179 Mean Reward: 436.378\n"
     ]
    },
    {
     "name": "stderr",
     "output_type": "stream",
     "text": [
      "100%|██████████| 2000/2000 [12:50<00:00,  2.60it/s]\n"
     ]
    },
    {
     "name": "stdout",
     "output_type": "stream",
     "text": [
      "Epoch 180 Mean Reward: 429.4465\n",
      "Epoch 180 Model saved to ./checkpoints/take_cover.ckpt\n",
      "Epoch 180 test:\n",
      "Test Episode 1 Reward: 411.0\n",
      "Test Episode 2 Reward: 474.0\n",
      "Test Episode 3 Reward: 474.0\n",
      "Test Episode 4 Reward: 474.0\n",
      "Test Episode 5 Reward: 474.0\n",
      "Test Episode 6 Reward: 474.0\n",
      "Test Episode 7 Reward: 474.0\n",
      "Test Episode 8 Reward: 474.0\n",
      "Test Episode 9 Reward: 280.0\n",
      "Test Episode 10 Reward: 508.0\n",
      "Average Test Reward: 451.7\n"
     ]
    },
    {
     "name": "stderr",
     "output_type": "stream",
     "text": [
      "100%|██████████| 2000/2000 [12:57<00:00,  2.57it/s]\n"
     ]
    },
    {
     "name": "stdout",
     "output_type": "stream",
     "text": [
      "Epoch 181 Mean Reward: 429.067\n"
     ]
    },
    {
     "name": "stderr",
     "output_type": "stream",
     "text": [
      "100%|██████████| 2000/2000 [14:49<00:00,  2.25it/s]\n"
     ]
    },
    {
     "name": "stdout",
     "output_type": "stream",
     "text": [
      "Epoch 182 Mean Reward: 434.055\n"
     ]
    },
    {
     "name": "stderr",
     "output_type": "stream",
     "text": [
      "100%|██████████| 2000/2000 [14:43<00:00,  2.26it/s]\n"
     ]
    },
    {
     "name": "stdout",
     "output_type": "stream",
     "text": [
      "Epoch 183 Mean Reward: 449.711\n"
     ]
    },
    {
     "name": "stderr",
     "output_type": "stream",
     "text": [
      "100%|██████████| 2000/2000 [13:04<00:00,  2.55it/s]\n"
     ]
    },
    {
     "name": "stdout",
     "output_type": "stream",
     "text": [
      "Epoch 184 Mean Reward: 446.5035\n"
     ]
    },
    {
     "name": "stderr",
     "output_type": "stream",
     "text": [
      "100%|██████████| 2000/2000 [12:25<00:00,  2.68it/s]\n"
     ]
    },
    {
     "name": "stdout",
     "output_type": "stream",
     "text": [
      "Epoch 185 Mean Reward: 429.103\n"
     ]
    },
    {
     "name": "stderr",
     "output_type": "stream",
     "text": [
      "100%|██████████| 2000/2000 [12:38<00:00,  2.64it/s]\n"
     ]
    },
    {
     "name": "stdout",
     "output_type": "stream",
     "text": [
      "Epoch 186 Mean Reward: 439.5265\n"
     ]
    },
    {
     "name": "stderr",
     "output_type": "stream",
     "text": [
      "100%|██████████| 2000/2000 [13:14<00:00,  2.52it/s]\n"
     ]
    },
    {
     "name": "stdout",
     "output_type": "stream",
     "text": [
      "Epoch 187 Mean Reward: 448.7955\n"
     ]
    },
    {
     "name": "stderr",
     "output_type": "stream",
     "text": [
      "100%|██████████| 2000/2000 [13:06<00:00,  2.54it/s]\n"
     ]
    },
    {
     "name": "stdout",
     "output_type": "stream",
     "text": [
      "Epoch 188 Mean Reward: 444.961\n"
     ]
    },
    {
     "name": "stderr",
     "output_type": "stream",
     "text": [
      "100%|██████████| 2000/2000 [13:05<00:00,  2.55it/s]\n"
     ]
    },
    {
     "name": "stdout",
     "output_type": "stream",
     "text": [
      "Epoch 189 Mean Reward: 448.548\n"
     ]
    },
    {
     "name": "stderr",
     "output_type": "stream",
     "text": [
      "100%|██████████| 2000/2000 [12:51<00:00,  2.59it/s]\n"
     ]
    },
    {
     "name": "stdout",
     "output_type": "stream",
     "text": [
      "Epoch 190 Mean Reward: 436.688\n",
      "Epoch 190 Model saved to ./checkpoints/take_cover.ckpt\n",
      "Epoch 190 test:\n",
      "Test Episode 1 Reward: 366.0\n",
      "Test Episode 2 Reward: 232.0\n",
      "Test Episode 3 Reward: 197.0\n",
      "Test Episode 4 Reward: 200.0\n",
      "Test Episode 5 Reward: 222.0\n",
      "Test Episode 6 Reward: 232.0\n",
      "Test Episode 7 Reward: 175.0\n",
      "Test Episode 8 Reward: 139.0\n",
      "Test Episode 9 Reward: 173.0\n",
      "Test Episode 10 Reward: 135.0\n",
      "Average Test Reward: 207.1\n"
     ]
    },
    {
     "name": "stderr",
     "output_type": "stream",
     "text": [
      "100%|██████████| 2000/2000 [12:58<00:00,  2.57it/s]\n"
     ]
    },
    {
     "name": "stdout",
     "output_type": "stream",
     "text": [
      "Epoch 191 Mean Reward: 445.7345\n"
     ]
    },
    {
     "name": "stderr",
     "output_type": "stream",
     "text": [
      "100%|██████████| 2000/2000 [13:16<00:00,  2.51it/s]\n"
     ]
    },
    {
     "name": "stdout",
     "output_type": "stream",
     "text": [
      "Epoch 192 Mean Reward: 449.9925\n"
     ]
    },
    {
     "name": "stderr",
     "output_type": "stream",
     "text": [
      "100%|██████████| 2000/2000 [13:12<00:00,  2.53it/s]\n"
     ]
    },
    {
     "name": "stdout",
     "output_type": "stream",
     "text": [
      "Epoch 193 Mean Reward: 454.8005\n"
     ]
    },
    {
     "name": "stderr",
     "output_type": "stream",
     "text": [
      "100%|██████████| 2000/2000 [12:55<00:00,  2.58it/s]\n"
     ]
    },
    {
     "name": "stdout",
     "output_type": "stream",
     "text": [
      "Epoch 194 Mean Reward: 441.657\n"
     ]
    },
    {
     "name": "stderr",
     "output_type": "stream",
     "text": [
      "100%|██████████| 2000/2000 [12:57<00:00,  2.57it/s]\n"
     ]
    },
    {
     "name": "stdout",
     "output_type": "stream",
     "text": [
      "Epoch 195 Mean Reward: 441.035\n"
     ]
    },
    {
     "name": "stderr",
     "output_type": "stream",
     "text": [
      "100%|██████████| 2000/2000 [13:17<00:00,  2.51it/s]\n"
     ]
    },
    {
     "name": "stdout",
     "output_type": "stream",
     "text": [
      "Epoch 196 Mean Reward: 445.003\n"
     ]
    },
    {
     "name": "stderr",
     "output_type": "stream",
     "text": [
      "100%|██████████| 2000/2000 [13:02<00:00,  2.56it/s]\n"
     ]
    },
    {
     "name": "stdout",
     "output_type": "stream",
     "text": [
      "Epoch 197 Mean Reward: 452.3185\n"
     ]
    },
    {
     "name": "stderr",
     "output_type": "stream",
     "text": [
      "100%|██████████| 2000/2000 [12:51<00:00,  2.59it/s]\n"
     ]
    },
    {
     "name": "stdout",
     "output_type": "stream",
     "text": [
      "Epoch 198 Mean Reward: 442.8945\n"
     ]
    },
    {
     "name": "stderr",
     "output_type": "stream",
     "text": [
      "100%|██████████| 2000/2000 [13:25<00:00,  2.48it/s]\n"
     ]
    },
    {
     "name": "stdout",
     "output_type": "stream",
     "text": [
      "Epoch 199 Mean Reward: 451.024\n"
     ]
    },
    {
     "name": "stderr",
     "output_type": "stream",
     "text": [
      "100%|██████████| 2000/2000 [13:10<00:00,  2.53it/s]\n"
     ]
    },
    {
     "name": "stdout",
     "output_type": "stream",
     "text": [
      "Epoch 200 Mean Reward: 448.322\n",
      "Epoch 200 Model saved to ./checkpoints/take_cover.ckpt\n",
      "Epoch 200 test:\n",
      "Test Episode 1 Reward: 232.0\n",
      "Test Episode 2 Reward: 172.0\n",
      "Test Episode 3 Reward: 130.0\n",
      "Test Episode 4 Reward: 191.0\n",
      "Test Episode 5 Reward: 232.0\n",
      "Test Episode 6 Reward: 311.0\n",
      "Test Episode 7 Reward: 232.0\n",
      "Test Episode 8 Reward: 232.0\n",
      "Test Episode 9 Reward: 232.0\n",
      "Test Episode 10 Reward: 284.0\n",
      "Average Test Reward: 224.8\n"
     ]
    },
    {
     "name": "stderr",
     "output_type": "stream",
     "text": [
      "100%|██████████| 2000/2000 [13:19<00:00,  2.50it/s]\n"
     ]
    },
    {
     "name": "stdout",
     "output_type": "stream",
     "text": [
      "Epoch 201 Mean Reward: 453.4285\n"
     ]
    },
    {
     "name": "stderr",
     "output_type": "stream",
     "text": [
      "100%|██████████| 2000/2000 [13:04<00:00,  2.55it/s]\n"
     ]
    },
    {
     "name": "stdout",
     "output_type": "stream",
     "text": [
      "Epoch 202 Mean Reward: 451.56\n"
     ]
    },
    {
     "name": "stderr",
     "output_type": "stream",
     "text": [
      "100%|██████████| 2000/2000 [13:15<00:00,  2.51it/s]\n"
     ]
    },
    {
     "name": "stdout",
     "output_type": "stream",
     "text": [
      "Epoch 203 Mean Reward: 446.6145\n"
     ]
    },
    {
     "name": "stderr",
     "output_type": "stream",
     "text": [
      "100%|██████████| 2000/2000 [13:03<00:00,  2.55it/s]\n"
     ]
    },
    {
     "name": "stdout",
     "output_type": "stream",
     "text": [
      "Epoch 204 Mean Reward: 446.236\n"
     ]
    },
    {
     "name": "stderr",
     "output_type": "stream",
     "text": [
      "100%|██████████| 2000/2000 [13:28<00:00,  2.47it/s]\n"
     ]
    },
    {
     "name": "stdout",
     "output_type": "stream",
     "text": [
      "Epoch 205 Mean Reward: 458.297\n"
     ]
    },
    {
     "name": "stderr",
     "output_type": "stream",
     "text": [
      "100%|██████████| 2000/2000 [13:13<00:00,  2.52it/s]\n"
     ]
    },
    {
     "name": "stdout",
     "output_type": "stream",
     "text": [
      "Epoch 206 Mean Reward: 454.9505\n"
     ]
    },
    {
     "name": "stderr",
     "output_type": "stream",
     "text": [
      "100%|██████████| 2000/2000 [12:32<00:00,  2.66it/s]\n"
     ]
    },
    {
     "name": "stdout",
     "output_type": "stream",
     "text": [
      "Epoch 207 Mean Reward: 436.263\n"
     ]
    },
    {
     "name": "stderr",
     "output_type": "stream",
     "text": [
      "100%|██████████| 2000/2000 [12:47<00:00,  2.61it/s]\n"
     ]
    },
    {
     "name": "stdout",
     "output_type": "stream",
     "text": [
      "Epoch 208 Mean Reward: 443.3035\n"
     ]
    },
    {
     "name": "stderr",
     "output_type": "stream",
     "text": [
      "100%|██████████| 2000/2000 [13:30<00:00,  2.47it/s]\n"
     ]
    },
    {
     "name": "stdout",
     "output_type": "stream",
     "text": [
      "Epoch 209 Mean Reward: 441.373\n"
     ]
    },
    {
     "name": "stderr",
     "output_type": "stream",
     "text": [
      "100%|██████████| 2000/2000 [13:06<00:00,  2.54it/s]\n"
     ]
    },
    {
     "name": "stdout",
     "output_type": "stream",
     "text": [
      "Epoch 210 Mean Reward: 450.904\n",
      "Epoch 210 Model saved to ./checkpoints/take_cover.ckpt\n",
      "Epoch 210 test:\n",
      "Test Episode 1 Reward: 464.0\n",
      "Test Episode 2 Reward: 574.0\n",
      "Test Episode 3 Reward: 437.0\n",
      "Test Episode 4 Reward: 656.0\n",
      "Test Episode 5 Reward: 464.0\n",
      "Test Episode 6 Reward: 464.0\n",
      "Test Episode 7 Reward: 205.0\n",
      "Test Episode 8 Reward: 135.0\n",
      "Test Episode 9 Reward: 431.0\n",
      "Test Episode 10 Reward: 464.0\n",
      "Average Test Reward: 429.4\n"
     ]
    },
    {
     "name": "stderr",
     "output_type": "stream",
     "text": [
      "100%|██████████| 2000/2000 [15:10<00:00,  2.20it/s]\n"
     ]
    },
    {
     "name": "stdout",
     "output_type": "stream",
     "text": [
      "Epoch 211 Mean Reward: 436.8415\n"
     ]
    },
    {
     "name": "stderr",
     "output_type": "stream",
     "text": [
      "100%|██████████| 2000/2000 [14:15<00:00,  2.34it/s]\n"
     ]
    },
    {
     "name": "stdout",
     "output_type": "stream",
     "text": [
      "Epoch 212 Mean Reward: 450.6905\n"
     ]
    },
    {
     "name": "stderr",
     "output_type": "stream",
     "text": [
      "100%|██████████| 2000/2000 [13:40<00:00,  2.44it/s]\n"
     ]
    },
    {
     "name": "stdout",
     "output_type": "stream",
     "text": [
      "Epoch 213 Mean Reward: 454.297\n"
     ]
    },
    {
     "name": "stderr",
     "output_type": "stream",
     "text": [
      "100%|██████████| 2000/2000 [13:47<00:00,  2.42it/s]\n"
     ]
    },
    {
     "name": "stdout",
     "output_type": "stream",
     "text": [
      "Epoch 214 Mean Reward: 451.2615\n"
     ]
    },
    {
     "name": "stderr",
     "output_type": "stream",
     "text": [
      "100%|██████████| 2000/2000 [12:56<00:00,  2.58it/s]\n"
     ]
    },
    {
     "name": "stdout",
     "output_type": "stream",
     "text": [
      "Epoch 215 Mean Reward: 451.0485\n"
     ]
    },
    {
     "name": "stderr",
     "output_type": "stream",
     "text": [
      "100%|██████████| 2000/2000 [13:24<00:00,  2.49it/s]\n"
     ]
    },
    {
     "name": "stdout",
     "output_type": "stream",
     "text": [
      "Epoch 216 Mean Reward: 465.363\n"
     ]
    },
    {
     "name": "stderr",
     "output_type": "stream",
     "text": [
      "100%|██████████| 2000/2000 [14:22<00:00,  2.32it/s]\n"
     ]
    },
    {
     "name": "stdout",
     "output_type": "stream",
     "text": [
      "Epoch 217 Mean Reward: 462.7335\n"
     ]
    },
    {
     "name": "stderr",
     "output_type": "stream",
     "text": [
      "100%|██████████| 2000/2000 [16:47<00:00,  1.98it/s]\n"
     ]
    },
    {
     "name": "stdout",
     "output_type": "stream",
     "text": [
      "Epoch 218 Mean Reward: 465.9765\n"
     ]
    },
    {
     "name": "stderr",
     "output_type": "stream",
     "text": [
      "100%|██████████| 2000/2000 [13:19<00:00,  2.50it/s]\n"
     ]
    },
    {
     "name": "stdout",
     "output_type": "stream",
     "text": [
      "Epoch 219 Mean Reward: 456.968\n"
     ]
    },
    {
     "name": "stderr",
     "output_type": "stream",
     "text": [
      "100%|██████████| 2000/2000 [14:43<00:00,  2.26it/s]\n"
     ]
    },
    {
     "name": "stdout",
     "output_type": "stream",
     "text": [
      "Epoch 220 Mean Reward: 458.5995\n",
      "Epoch 220 Model saved to ./checkpoints/take_cover.ckpt\n",
      "Epoch 220 test:\n",
      "Test Episode 1 Reward: 412.0\n",
      "Test Episode 2 Reward: 234.0\n",
      "Test Episode 3 Reward: 232.0\n",
      "Test Episode 4 Reward: 190.0\n",
      "Test Episode 5 Reward: 200.0\n",
      "Test Episode 6 Reward: 232.0\n",
      "Test Episode 7 Reward: 232.0\n",
      "Test Episode 8 Reward: 110.0\n",
      "Test Episode 9 Reward: 232.0\n",
      "Test Episode 10 Reward: 232.0\n",
      "Average Test Reward: 230.6\n"
     ]
    },
    {
     "name": "stderr",
     "output_type": "stream",
     "text": [
      "100%|██████████| 2000/2000 [16:53<00:00,  1.97it/s]\n"
     ]
    },
    {
     "name": "stdout",
     "output_type": "stream",
     "text": [
      "Epoch 221 Mean Reward: 461.7975\n"
     ]
    },
    {
     "name": "stderr",
     "output_type": "stream",
     "text": [
      "100%|██████████| 2000/2000 [13:51<00:00,  2.41it/s]\n"
     ]
    },
    {
     "name": "stdout",
     "output_type": "stream",
     "text": [
      "Epoch 222 Mean Reward: 457.4295\n"
     ]
    },
    {
     "name": "stderr",
     "output_type": "stream",
     "text": [
      "100%|██████████| 2000/2000 [14:24<00:00,  2.31it/s]\n"
     ]
    },
    {
     "name": "stdout",
     "output_type": "stream",
     "text": [
      "Epoch 223 Mean Reward: 470.1445\n"
     ]
    },
    {
     "name": "stderr",
     "output_type": "stream",
     "text": [
      "100%|██████████| 2000/2000 [15:34<00:00,  2.14it/s]\n"
     ]
    },
    {
     "name": "stdout",
     "output_type": "stream",
     "text": [
      "Epoch 224 Mean Reward: 469.258\n"
     ]
    },
    {
     "name": "stderr",
     "output_type": "stream",
     "text": [
      "100%|██████████| 2000/2000 [17:53<00:00,  1.86it/s]\n"
     ]
    },
    {
     "name": "stdout",
     "output_type": "stream",
     "text": [
      "Epoch 225 Mean Reward: 470.7795\n"
     ]
    },
    {
     "name": "stderr",
     "output_type": "stream",
     "text": [
      "100%|██████████| 2000/2000 [17:23<00:00,  1.92it/s]\n"
     ]
    },
    {
     "name": "stdout",
     "output_type": "stream",
     "text": [
      "Epoch 226 Mean Reward: 465.7995\n"
     ]
    },
    {
     "name": "stderr",
     "output_type": "stream",
     "text": [
      "100%|██████████| 2000/2000 [17:48<00:00,  1.87it/s]\n"
     ]
    },
    {
     "name": "stdout",
     "output_type": "stream",
     "text": [
      "Epoch 227 Mean Reward: 467.991\n"
     ]
    },
    {
     "name": "stderr",
     "output_type": "stream",
     "text": [
      "100%|██████████| 2000/2000 [13:59<00:00,  2.38it/s]\n"
     ]
    },
    {
     "name": "stdout",
     "output_type": "stream",
     "text": [
      "Epoch 228 Mean Reward: 485.505\n"
     ]
    },
    {
     "name": "stderr",
     "output_type": "stream",
     "text": [
      "100%|██████████| 2000/2000 [13:54<00:00,  2.40it/s]\n"
     ]
    },
    {
     "name": "stdout",
     "output_type": "stream",
     "text": [
      "Epoch 229 Mean Reward: 482.835\n"
     ]
    },
    {
     "name": "stderr",
     "output_type": "stream",
     "text": [
      "100%|██████████| 2000/2000 [14:06<00:00,  2.36it/s]\n"
     ]
    },
    {
     "name": "stdout",
     "output_type": "stream",
     "text": [
      "Epoch 230 Mean Reward: 481.018\n",
      "Epoch 230 Model saved to ./checkpoints/take_cover.ckpt\n",
      "Epoch 230 test:\n",
      "Test Episode 1 Reward: 668.0\n",
      "Test Episode 2 Reward: 449.0\n",
      "Test Episode 3 Reward: 668.0\n",
      "Test Episode 4 Reward: 125.0\n",
      "Test Episode 5 Reward: 144.0\n",
      "Test Episode 6 Reward: 171.0\n",
      "Test Episode 7 Reward: 150.0\n",
      "Test Episode 8 Reward: 668.0\n",
      "Test Episode 9 Reward: 158.0\n",
      "Test Episode 10 Reward: 170.0\n",
      "Average Test Reward: 337.1\n"
     ]
    },
    {
     "name": "stderr",
     "output_type": "stream",
     "text": [
      "100%|██████████| 2000/2000 [14:27<00:00,  2.30it/s]\n"
     ]
    },
    {
     "name": "stdout",
     "output_type": "stream",
     "text": [
      "Epoch 231 Mean Reward: 480.4545\n"
     ]
    },
    {
     "name": "stderr",
     "output_type": "stream",
     "text": [
      "100%|██████████| 2000/2000 [13:50<00:00,  2.41it/s]\n"
     ]
    },
    {
     "name": "stdout",
     "output_type": "stream",
     "text": [
      "Epoch 232 Mean Reward: 474.049\n"
     ]
    },
    {
     "name": "stderr",
     "output_type": "stream",
     "text": [
      "100%|██████████| 2000/2000 [14:04<00:00,  2.37it/s]\n"
     ]
    },
    {
     "name": "stdout",
     "output_type": "stream",
     "text": [
      "Epoch 233 Mean Reward: 487.977\n"
     ]
    },
    {
     "name": "stderr",
     "output_type": "stream",
     "text": [
      "100%|██████████| 2000/2000 [13:54<00:00,  2.40it/s]\n"
     ]
    },
    {
     "name": "stdout",
     "output_type": "stream",
     "text": [
      "Epoch 234 Mean Reward: 482.974\n"
     ]
    },
    {
     "name": "stderr",
     "output_type": "stream",
     "text": [
      "100%|██████████| 2000/2000 [13:20<00:00,  2.50it/s]\n"
     ]
    },
    {
     "name": "stdout",
     "output_type": "stream",
     "text": [
      "Epoch 235 Mean Reward: 461.817\n"
     ]
    },
    {
     "name": "stderr",
     "output_type": "stream",
     "text": [
      "100%|██████████| 2000/2000 [13:47<00:00,  2.42it/s]\n"
     ]
    },
    {
     "name": "stdout",
     "output_type": "stream",
     "text": [
      "Epoch 236 Mean Reward: 479.827\n"
     ]
    },
    {
     "name": "stderr",
     "output_type": "stream",
     "text": [
      "100%|██████████| 2000/2000 [13:39<00:00,  2.44it/s]\n"
     ]
    },
    {
     "name": "stdout",
     "output_type": "stream",
     "text": [
      "Epoch 237 Mean Reward: 474.043\n"
     ]
    },
    {
     "name": "stderr",
     "output_type": "stream",
     "text": [
      "100%|██████████| 2000/2000 [13:41<00:00,  2.43it/s]\n"
     ]
    },
    {
     "name": "stdout",
     "output_type": "stream",
     "text": [
      "Epoch 238 Mean Reward: 475.06\n"
     ]
    },
    {
     "name": "stderr",
     "output_type": "stream",
     "text": [
      "100%|██████████| 2000/2000 [13:27<00:00,  2.48it/s]\n"
     ]
    },
    {
     "name": "stdout",
     "output_type": "stream",
     "text": [
      "Epoch 239 Mean Reward: 466.206\n"
     ]
    },
    {
     "name": "stderr",
     "output_type": "stream",
     "text": [
      "100%|██████████| 2000/2000 [13:58<00:00,  2.39it/s]\n"
     ]
    },
    {
     "name": "stdout",
     "output_type": "stream",
     "text": [
      "Epoch 240 Mean Reward: 485.9765\n",
      "Epoch 240 Model saved to ./checkpoints/take_cover.ckpt\n",
      "Epoch 240 test:\n",
      "Test Episode 1 Reward: 995.0\n",
      "Test Episode 2 Reward: 173.0\n",
      "Test Episode 3 Reward: 176.0\n",
      "Test Episode 4 Reward: 995.0\n",
      "Test Episode 5 Reward: 995.0\n",
      "Test Episode 6 Reward: 995.0\n",
      "Test Episode 7 Reward: 148.0\n",
      "Test Episode 8 Reward: 200.0\n",
      "Test Episode 9 Reward: 995.0\n",
      "Test Episode 10 Reward: 411.0\n",
      "Average Test Reward: 608.3\n"
     ]
    },
    {
     "name": "stderr",
     "output_type": "stream",
     "text": [
      "100%|██████████| 2000/2000 [14:07<00:00,  2.36it/s]\n"
     ]
    },
    {
     "name": "stdout",
     "output_type": "stream",
     "text": [
      "Epoch 241 Mean Reward: 489.3625\n"
     ]
    },
    {
     "name": "stderr",
     "output_type": "stream",
     "text": [
      "100%|██████████| 2000/2000 [13:42<00:00,  2.43it/s]\n"
     ]
    },
    {
     "name": "stdout",
     "output_type": "stream",
     "text": [
      "Epoch 242 Mean Reward: 475.973\n"
     ]
    },
    {
     "name": "stderr",
     "output_type": "stream",
     "text": [
      "100%|██████████| 2000/2000 [13:47<00:00,  2.42it/s]\n"
     ]
    },
    {
     "name": "stdout",
     "output_type": "stream",
     "text": [
      "Epoch 243 Mean Reward: 474.047\n"
     ]
    },
    {
     "name": "stderr",
     "output_type": "stream",
     "text": [
      "100%|██████████| 2000/2000 [13:55<00:00,  2.39it/s]\n"
     ]
    },
    {
     "name": "stdout",
     "output_type": "stream",
     "text": [
      "Epoch 244 Mean Reward: 481.868\n"
     ]
    },
    {
     "name": "stderr",
     "output_type": "stream",
     "text": [
      "100%|██████████| 2000/2000 [13:25<00:00,  2.48it/s]\n"
     ]
    },
    {
     "name": "stdout",
     "output_type": "stream",
     "text": [
      "Epoch 245 Mean Reward: 466.005\n"
     ]
    },
    {
     "name": "stderr",
     "output_type": "stream",
     "text": [
      "100%|██████████| 2000/2000 [13:58<00:00,  2.39it/s]\n"
     ]
    },
    {
     "name": "stdout",
     "output_type": "stream",
     "text": [
      "Epoch 246 Mean Reward: 485.653\n"
     ]
    },
    {
     "name": "stderr",
     "output_type": "stream",
     "text": [
      "100%|██████████| 2000/2000 [13:51<00:00,  2.41it/s]\n"
     ]
    },
    {
     "name": "stdout",
     "output_type": "stream",
     "text": [
      "Epoch 247 Mean Reward: 482.1765\n"
     ]
    },
    {
     "name": "stderr",
     "output_type": "stream",
     "text": [
      "100%|██████████| 2000/2000 [14:05<00:00,  2.37it/s]\n"
     ]
    },
    {
     "name": "stdout",
     "output_type": "stream",
     "text": [
      "Epoch 248 Mean Reward: 489.861\n"
     ]
    },
    {
     "name": "stderr",
     "output_type": "stream",
     "text": [
      "100%|██████████| 2000/2000 [14:13<00:00,  2.34it/s]\n"
     ]
    },
    {
     "name": "stdout",
     "output_type": "stream",
     "text": [
      "Epoch 249 Mean Reward: 495.5475\n"
     ]
    },
    {
     "name": "stderr",
     "output_type": "stream",
     "text": [
      "100%|██████████| 2000/2000 [14:06<00:00,  2.36it/s]\n"
     ]
    },
    {
     "name": "stdout",
     "output_type": "stream",
     "text": [
      "Epoch 250 Mean Reward: 491.6415\n",
      "Epoch 250 Model saved to ./checkpoints/take_cover.ckpt\n",
      "Epoch 250 test:\n",
      "Test Episode 1 Reward: 340.0\n",
      "Test Episode 2 Reward: 316.0\n",
      "Test Episode 3 Reward: 443.0\n",
      "Test Episode 4 Reward: 285.0\n",
      "Test Episode 5 Reward: 340.0\n",
      "Test Episode 6 Reward: 320.0\n",
      "Test Episode 7 Reward: 340.0\n",
      "Test Episode 8 Reward: 340.0\n",
      "Test Episode 9 Reward: 328.0\n",
      "Test Episode 10 Reward: 340.0\n",
      "Average Test Reward: 339.2\n"
     ]
    },
    {
     "name": "stderr",
     "output_type": "stream",
     "text": [
      "100%|██████████| 2000/2000 [13:26<00:00,  2.48it/s]\n"
     ]
    },
    {
     "name": "stdout",
     "output_type": "stream",
     "text": [
      "Epoch 251 Mean Reward: 469.409\n"
     ]
    },
    {
     "name": "stderr",
     "output_type": "stream",
     "text": [
      "100%|██████████| 2000/2000 [14:02<00:00,  2.37it/s]\n"
     ]
    },
    {
     "name": "stdout",
     "output_type": "stream",
     "text": [
      "Epoch 252 Mean Reward: 488.4915\n"
     ]
    },
    {
     "name": "stderr",
     "output_type": "stream",
     "text": [
      "100%|██████████| 2000/2000 [13:39<00:00,  2.44it/s]\n"
     ]
    },
    {
     "name": "stdout",
     "output_type": "stream",
     "text": [
      "Epoch 253 Mean Reward: 474.1515\n"
     ]
    },
    {
     "name": "stderr",
     "output_type": "stream",
     "text": [
      "100%|██████████| 2000/2000 [13:46<00:00,  2.42it/s]\n"
     ]
    },
    {
     "name": "stdout",
     "output_type": "stream",
     "text": [
      "Epoch 254 Mean Reward: 480.5325\n"
     ]
    },
    {
     "name": "stderr",
     "output_type": "stream",
     "text": [
      "100%|██████████| 2000/2000 [13:46<00:00,  2.42it/s]\n"
     ]
    },
    {
     "name": "stdout",
     "output_type": "stream",
     "text": [
      "Epoch 255 Mean Reward: 482.007\n"
     ]
    },
    {
     "name": "stderr",
     "output_type": "stream",
     "text": [
      "100%|██████████| 2000/2000 [13:47<00:00,  2.42it/s]\n"
     ]
    },
    {
     "name": "stdout",
     "output_type": "stream",
     "text": [
      "Epoch 256 Mean Reward: 482.551\n"
     ]
    },
    {
     "name": "stderr",
     "output_type": "stream",
     "text": [
      "100%|██████████| 2000/2000 [13:55<00:00,  2.39it/s]\n"
     ]
    },
    {
     "name": "stdout",
     "output_type": "stream",
     "text": [
      "Epoch 257 Mean Reward: 488.8475\n"
     ]
    },
    {
     "name": "stderr",
     "output_type": "stream",
     "text": [
      "100%|██████████| 2000/2000 [13:55<00:00,  2.39it/s]\n"
     ]
    },
    {
     "name": "stdout",
     "output_type": "stream",
     "text": [
      "Epoch 258 Mean Reward: 488.6115\n"
     ]
    },
    {
     "name": "stderr",
     "output_type": "stream",
     "text": [
      "100%|██████████| 2000/2000 [13:44<00:00,  2.43it/s]\n"
     ]
    },
    {
     "name": "stdout",
     "output_type": "stream",
     "text": [
      "Epoch 259 Mean Reward: 480.7645\n"
     ]
    },
    {
     "name": "stderr",
     "output_type": "stream",
     "text": [
      "100%|██████████| 2000/2000 [13:44<00:00,  2.43it/s]\n"
     ]
    },
    {
     "name": "stdout",
     "output_type": "stream",
     "text": [
      "Epoch 260 Mean Reward: 475.9195\n",
      "Epoch 260 Model saved to ./checkpoints/take_cover.ckpt\n",
      "Epoch 260 test:\n",
      "Test Episode 1 Reward: 532.0\n",
      "Test Episode 2 Reward: 313.0\n",
      "Test Episode 3 Reward: 122.0\n",
      "Test Episode 4 Reward: 128.0\n",
      "Test Episode 5 Reward: 560.0\n",
      "Test Episode 6 Reward: 445.0\n",
      "Test Episode 7 Reward: 532.0\n",
      "Test Episode 8 Reward: 532.0\n",
      "Test Episode 9 Reward: 532.0\n",
      "Test Episode 10 Reward: 532.0\n",
      "Average Test Reward: 422.8\n"
     ]
    },
    {
     "name": "stderr",
     "output_type": "stream",
     "text": [
      "100%|██████████| 2000/2000 [14:08<00:00,  2.36it/s]\n"
     ]
    },
    {
     "name": "stdout",
     "output_type": "stream",
     "text": [
      "Epoch 261 Mean Reward: 482.465\n"
     ]
    },
    {
     "name": "stderr",
     "output_type": "stream",
     "text": [
      "100%|██████████| 2000/2000 [14:55<00:00,  2.23it/s]\n"
     ]
    },
    {
     "name": "stdout",
     "output_type": "stream",
     "text": [
      "Epoch 262 Mean Reward: 501.5645\n"
     ]
    },
    {
     "name": "stderr",
     "output_type": "stream",
     "text": [
      "100%|██████████| 2000/2000 [14:20<00:00,  2.32it/s]\n"
     ]
    },
    {
     "name": "stdout",
     "output_type": "stream",
     "text": [
      "Epoch 263 Mean Reward: 488.524\n"
     ]
    },
    {
     "name": "stderr",
     "output_type": "stream",
     "text": [
      "100%|██████████| 2000/2000 [14:07<00:00,  2.36it/s]\n"
     ]
    },
    {
     "name": "stdout",
     "output_type": "stream",
     "text": [
      "Epoch 264 Mean Reward: 495.6665\n"
     ]
    },
    {
     "name": "stderr",
     "output_type": "stream",
     "text": [
      "100%|██████████| 2000/2000 [14:13<00:00,  2.34it/s]\n"
     ]
    },
    {
     "name": "stdout",
     "output_type": "stream",
     "text": [
      "Epoch 265 Mean Reward: 499.423\n"
     ]
    },
    {
     "name": "stderr",
     "output_type": "stream",
     "text": [
      "100%|██████████| 2000/2000 [14:00<00:00,  2.38it/s]\n"
     ]
    },
    {
     "name": "stdout",
     "output_type": "stream",
     "text": [
      "Epoch 266 Mean Reward: 490.905\n"
     ]
    },
    {
     "name": "stderr",
     "output_type": "stream",
     "text": [
      "100%|██████████| 2000/2000 [14:18<00:00,  2.33it/s]\n"
     ]
    },
    {
     "name": "stdout",
     "output_type": "stream",
     "text": [
      "Epoch 267 Mean Reward: 503.6275\n"
     ]
    },
    {
     "name": "stderr",
     "output_type": "stream",
     "text": [
      "100%|██████████| 2000/2000 [14:19<00:00,  2.33it/s]\n"
     ]
    },
    {
     "name": "stdout",
     "output_type": "stream",
     "text": [
      "Epoch 268 Mean Reward: 503.7585\n"
     ]
    },
    {
     "name": "stderr",
     "output_type": "stream",
     "text": [
      "100%|██████████| 2000/2000 [14:07<00:00,  2.36it/s]\n"
     ]
    },
    {
     "name": "stdout",
     "output_type": "stream",
     "text": [
      "Epoch 269 Mean Reward: 496.0865\n"
     ]
    },
    {
     "name": "stderr",
     "output_type": "stream",
     "text": [
      "100%|██████████| 2000/2000 [14:46<00:00,  2.26it/s]\n"
     ]
    },
    {
     "name": "stdout",
     "output_type": "stream",
     "text": [
      "Epoch 270 Mean Reward: 515.2145\n",
      "Epoch 270 Model saved to ./checkpoints/take_cover.ckpt\n",
      "Epoch 270 test:\n",
      "Test Episode 1 Reward: 500.0\n",
      "Test Episode 2 Reward: 226.0\n",
      "Test Episode 3 Reward: 457.0\n",
      "Test Episode 4 Reward: 227.0\n",
      "Test Episode 5 Reward: 500.0\n",
      "Test Episode 6 Reward: 500.0\n",
      "Test Episode 7 Reward: 138.0\n",
      "Test Episode 8 Reward: 119.0\n",
      "Test Episode 9 Reward: 500.0\n",
      "Test Episode 10 Reward: 198.0\n",
      "Average Test Reward: 336.5\n"
     ]
    },
    {
     "name": "stderr",
     "output_type": "stream",
     "text": [
      "100%|██████████| 2000/2000 [14:35<00:00,  2.29it/s]\n"
     ]
    },
    {
     "name": "stdout",
     "output_type": "stream",
     "text": [
      "Epoch 271 Mean Reward: 511.5955\n"
     ]
    },
    {
     "name": "stderr",
     "output_type": "stream",
     "text": [
      "100%|██████████| 2000/2000 [14:10<00:00,  2.35it/s]\n"
     ]
    },
    {
     "name": "stdout",
     "output_type": "stream",
     "text": [
      "Epoch 272 Mean Reward: 498.437\n"
     ]
    },
    {
     "name": "stderr",
     "output_type": "stream",
     "text": [
      "100%|██████████| 2000/2000 [14:24<00:00,  2.31it/s]\n"
     ]
    },
    {
     "name": "stdout",
     "output_type": "stream",
     "text": [
      "Epoch 273 Mean Reward: 506.681\n"
     ]
    },
    {
     "name": "stderr",
     "output_type": "stream",
     "text": [
      "100%|██████████| 2000/2000 [14:25<00:00,  2.31it/s]\n"
     ]
    },
    {
     "name": "stdout",
     "output_type": "stream",
     "text": [
      "Epoch 274 Mean Reward: 505.511\n"
     ]
    },
    {
     "name": "stderr",
     "output_type": "stream",
     "text": [
      "100%|██████████| 2000/2000 [14:24<00:00,  2.31it/s]\n"
     ]
    },
    {
     "name": "stdout",
     "output_type": "stream",
     "text": [
      "Epoch 275 Mean Reward: 507.6545\n"
     ]
    },
    {
     "name": "stderr",
     "output_type": "stream",
     "text": [
      "100%|██████████| 2000/2000 [14:21<00:00,  2.32it/s]\n"
     ]
    },
    {
     "name": "stdout",
     "output_type": "stream",
     "text": [
      "Epoch 276 Mean Reward: 505.483\n"
     ]
    },
    {
     "name": "stderr",
     "output_type": "stream",
     "text": [
      "100%|██████████| 2000/2000 [14:27<00:00,  2.30it/s]\n"
     ]
    },
    {
     "name": "stdout",
     "output_type": "stream",
     "text": [
      "Epoch 277 Mean Reward: 509.9375\n"
     ]
    },
    {
     "name": "stderr",
     "output_type": "stream",
     "text": [
      "100%|██████████| 2000/2000 [14:29<00:00,  2.30it/s]\n"
     ]
    },
    {
     "name": "stdout",
     "output_type": "stream",
     "text": [
      "Epoch 278 Mean Reward: 511.786\n"
     ]
    },
    {
     "name": "stderr",
     "output_type": "stream",
     "text": [
      "100%|██████████| 2000/2000 [14:49<00:00,  2.25it/s]\n"
     ]
    },
    {
     "name": "stdout",
     "output_type": "stream",
     "text": [
      "Epoch 279 Mean Reward: 524.0935\n"
     ]
    },
    {
     "name": "stderr",
     "output_type": "stream",
     "text": [
      "100%|██████████| 2000/2000 [14:52<00:00,  2.24it/s]\n"
     ]
    },
    {
     "name": "stdout",
     "output_type": "stream",
     "text": [
      "Epoch 280 Mean Reward: 526.076\n",
      "Epoch 280 Model saved to ./checkpoints/take_cover.ckpt\n",
      "Epoch 280 test:\n",
      "Test Episode 1 Reward: 309.0\n",
      "Test Episode 2 Reward: 515.0\n",
      "Test Episode 3 Reward: 296.0\n",
      "Test Episode 4 Reward: 421.0\n",
      "Test Episode 5 Reward: 215.0\n",
      "Test Episode 6 Reward: 515.0\n",
      "Test Episode 7 Reward: 208.0\n",
      "Test Episode 8 Reward: 515.0\n",
      "Test Episode 9 Reward: 261.0\n",
      "Test Episode 10 Reward: 288.0\n",
      "Average Test Reward: 354.3\n"
     ]
    },
    {
     "name": "stderr",
     "output_type": "stream",
     "text": [
      "100%|██████████| 2000/2000 [14:49<00:00,  2.25it/s]\n"
     ]
    },
    {
     "name": "stdout",
     "output_type": "stream",
     "text": [
      "Epoch 281 Mean Reward: 522.93\n"
     ]
    },
    {
     "name": "stderr",
     "output_type": "stream",
     "text": [
      "100%|██████████| 2000/2000 [14:41<00:00,  2.27it/s]\n"
     ]
    },
    {
     "name": "stdout",
     "output_type": "stream",
     "text": [
      "Epoch 282 Mean Reward: 518.745\n"
     ]
    },
    {
     "name": "stderr",
     "output_type": "stream",
     "text": [
      "100%|██████████| 2000/2000 [14:34<00:00,  2.29it/s]\n"
     ]
    },
    {
     "name": "stdout",
     "output_type": "stream",
     "text": [
      "Epoch 283 Mean Reward: 515.414\n"
     ]
    },
    {
     "name": "stderr",
     "output_type": "stream",
     "text": [
      "100%|██████████| 2000/2000 [14:43<00:00,  2.26it/s]\n"
     ]
    },
    {
     "name": "stdout",
     "output_type": "stream",
     "text": [
      "Epoch 284 Mean Reward: 523.001\n"
     ]
    },
    {
     "name": "stderr",
     "output_type": "stream",
     "text": [
      "100%|██████████| 2000/2000 [14:41<00:00,  2.27it/s]\n"
     ]
    },
    {
     "name": "stdout",
     "output_type": "stream",
     "text": [
      "Epoch 285 Mean Reward: 520.649\n"
     ]
    },
    {
     "name": "stderr",
     "output_type": "stream",
     "text": [
      "100%|██████████| 2000/2000 [14:12<00:00,  2.34it/s]\n"
     ]
    },
    {
     "name": "stdout",
     "output_type": "stream",
     "text": [
      "Epoch 286 Mean Reward: 503.037\n"
     ]
    },
    {
     "name": "stderr",
     "output_type": "stream",
     "text": [
      "100%|██████████| 2000/2000 [14:20<00:00,  2.33it/s]\n"
     ]
    },
    {
     "name": "stdout",
     "output_type": "stream",
     "text": [
      "Epoch 287 Mean Reward: 507.826\n"
     ]
    },
    {
     "name": "stderr",
     "output_type": "stream",
     "text": [
      "100%|██████████| 2000/2000 [14:52<00:00,  2.24it/s]\n"
     ]
    },
    {
     "name": "stdout",
     "output_type": "stream",
     "text": [
      "Epoch 288 Mean Reward: 527.4735\n"
     ]
    },
    {
     "name": "stderr",
     "output_type": "stream",
     "text": [
      "100%|██████████| 2000/2000 [14:57<00:00,  2.23it/s]\n"
     ]
    },
    {
     "name": "stdout",
     "output_type": "stream",
     "text": [
      "Epoch 289 Mean Reward: 530.815\n"
     ]
    },
    {
     "name": "stderr",
     "output_type": "stream",
     "text": [
      "100%|██████████| 2000/2000 [15:04<00:00,  2.21it/s]\n"
     ]
    },
    {
     "name": "stdout",
     "output_type": "stream",
     "text": [
      "Epoch 290 Mean Reward: 535.768\n",
      "Epoch 290 Model saved to ./checkpoints/take_cover.ckpt\n",
      "Epoch 290 test:\n",
      "Test Episode 1 Reward: 499.0\n",
      "Test Episode 2 Reward: 499.0\n",
      "Test Episode 3 Reward: 499.0\n",
      "Test Episode 4 Reward: 638.0\n",
      "Test Episode 5 Reward: 499.0\n",
      "Test Episode 6 Reward: 431.0\n",
      "Test Episode 7 Reward: 499.0\n",
      "Test Episode 8 Reward: 499.0\n",
      "Test Episode 9 Reward: 121.0\n",
      "Test Episode 10 Reward: 282.0\n",
      "Average Test Reward: 446.6\n"
     ]
    },
    {
     "name": "stderr",
     "output_type": "stream",
     "text": [
      "100%|██████████| 2000/2000 [14:15<00:00,  2.34it/s]\n"
     ]
    },
    {
     "name": "stdout",
     "output_type": "stream",
     "text": [
      "Epoch 291 Mean Reward: 502.591\n"
     ]
    },
    {
     "name": "stderr",
     "output_type": "stream",
     "text": [
      "100%|██████████| 2000/2000 [14:35<00:00,  2.28it/s]\n"
     ]
    },
    {
     "name": "stdout",
     "output_type": "stream",
     "text": [
      "Epoch 292 Mean Reward: 516.226\n"
     ]
    },
    {
     "name": "stderr",
     "output_type": "stream",
     "text": [
      "100%|██████████| 2000/2000 [14:33<00:00,  2.29it/s]\n"
     ]
    },
    {
     "name": "stdout",
     "output_type": "stream",
     "text": [
      "Epoch 293 Mean Reward: 517.0175\n"
     ]
    },
    {
     "name": "stderr",
     "output_type": "stream",
     "text": [
      "100%|██████████| 2000/2000 [14:38<00:00,  2.28it/s]\n"
     ]
    },
    {
     "name": "stdout",
     "output_type": "stream",
     "text": [
      "Epoch 294 Mean Reward: 519.774\n"
     ]
    },
    {
     "name": "stderr",
     "output_type": "stream",
     "text": [
      "100%|██████████| 2000/2000 [14:45<00:00,  2.26it/s]\n"
     ]
    },
    {
     "name": "stdout",
     "output_type": "stream",
     "text": [
      "Epoch 295 Mean Reward: 525.9135\n"
     ]
    },
    {
     "name": "stderr",
     "output_type": "stream",
     "text": [
      "100%|██████████| 2000/2000 [14:57<00:00,  2.23it/s]\n"
     ]
    },
    {
     "name": "stdout",
     "output_type": "stream",
     "text": [
      "Epoch 296 Mean Reward: 532.912\n"
     ]
    },
    {
     "name": "stderr",
     "output_type": "stream",
     "text": [
      "100%|██████████| 2000/2000 [15:12<00:00,  2.19it/s]\n"
     ]
    },
    {
     "name": "stdout",
     "output_type": "stream",
     "text": [
      "Epoch 297 Mean Reward: 532.3585\n"
     ]
    },
    {
     "name": "stderr",
     "output_type": "stream",
     "text": [
      "100%|██████████| 2000/2000 [14:41<00:00,  2.27it/s]\n"
     ]
    },
    {
     "name": "stdout",
     "output_type": "stream",
     "text": [
      "Epoch 298 Mean Reward: 519.0455\n"
     ]
    },
    {
     "name": "stderr",
     "output_type": "stream",
     "text": [
      "100%|██████████| 2000/2000 [14:39<00:00,  2.27it/s]\n"
     ]
    },
    {
     "name": "stdout",
     "output_type": "stream",
     "text": [
      "Epoch 299 Mean Reward: 519.648\n"
     ]
    },
    {
     "name": "stderr",
     "output_type": "stream",
     "text": [
      "100%|██████████| 2000/2000 [14:56<00:00,  2.23it/s]\n"
     ]
    },
    {
     "name": "stdout",
     "output_type": "stream",
     "text": [
      "Epoch 300 Mean Reward: 529.9865\n",
      "Epoch 300 Model saved to ./checkpoints/take_cover.ckpt\n",
      "Epoch 300 test:\n",
      "Test Episode 1 Reward: 435.0\n",
      "Test Episode 2 Reward: 348.0\n",
      "Test Episode 3 Reward: 348.0\n",
      "Test Episode 4 Reward: 265.0\n",
      "Test Episode 5 Reward: 390.0\n",
      "Test Episode 6 Reward: 348.0\n",
      "Test Episode 7 Reward: 599.0\n",
      "Test Episode 8 Reward: 348.0\n",
      "Test Episode 9 Reward: 355.0\n",
      "Test Episode 10 Reward: 348.0\n",
      "Average Test Reward: 378.4\n"
     ]
    },
    {
     "name": "stderr",
     "output_type": "stream",
     "text": [
      "100%|██████████| 2000/2000 [14:45<00:00,  2.26it/s]\n"
     ]
    },
    {
     "name": "stdout",
     "output_type": "stream",
     "text": [
      "Epoch 301 Mean Reward: 521.148\n"
     ]
    },
    {
     "name": "stderr",
     "output_type": "stream",
     "text": [
      "100%|██████████| 2000/2000 [15:02<00:00,  2.22it/s]\n"
     ]
    },
    {
     "name": "stdout",
     "output_type": "stream",
     "text": [
      "Epoch 302 Mean Reward: 531.104\n"
     ]
    },
    {
     "name": "stderr",
     "output_type": "stream",
     "text": [
      "100%|██████████| 2000/2000 [14:31<00:00,  2.30it/s]\n"
     ]
    },
    {
     "name": "stdout",
     "output_type": "stream",
     "text": [
      "Epoch 303 Mean Reward: 511.6125\n"
     ]
    },
    {
     "name": "stderr",
     "output_type": "stream",
     "text": [
      "100%|██████████| 2000/2000 [14:48<00:00,  2.25it/s]\n"
     ]
    },
    {
     "name": "stdout",
     "output_type": "stream",
     "text": [
      "Epoch 304 Mean Reward: 526.0255\n"
     ]
    },
    {
     "name": "stderr",
     "output_type": "stream",
     "text": [
      "100%|██████████| 2000/2000 [14:33<00:00,  2.29it/s]\n"
     ]
    },
    {
     "name": "stdout",
     "output_type": "stream",
     "text": [
      "Epoch 305 Mean Reward: 516.611\n"
     ]
    },
    {
     "name": "stderr",
     "output_type": "stream",
     "text": [
      "100%|██████████| 2000/2000 [14:57<00:00,  2.23it/s]\n"
     ]
    },
    {
     "name": "stdout",
     "output_type": "stream",
     "text": [
      "Epoch 306 Mean Reward: 534.477\n"
     ]
    },
    {
     "name": "stderr",
     "output_type": "stream",
     "text": [
      "100%|██████████| 2000/2000 [15:06<00:00,  2.21it/s]\n"
     ]
    },
    {
     "name": "stdout",
     "output_type": "stream",
     "text": [
      "Epoch 307 Mean Reward: 539.8685\n"
     ]
    },
    {
     "name": "stderr",
     "output_type": "stream",
     "text": [
      "100%|██████████| 2000/2000 [14:35<00:00,  2.28it/s]\n"
     ]
    },
    {
     "name": "stdout",
     "output_type": "stream",
     "text": [
      "Epoch 308 Mean Reward: 521.593\n"
     ]
    },
    {
     "name": "stderr",
     "output_type": "stream",
     "text": [
      "100%|██████████| 2000/2000 [15:11<00:00,  2.19it/s]\n"
     ]
    },
    {
     "name": "stdout",
     "output_type": "stream",
     "text": [
      "Epoch 309 Mean Reward: 541.577\n"
     ]
    },
    {
     "name": "stderr",
     "output_type": "stream",
     "text": [
      "100%|██████████| 2000/2000 [15:09<00:00,  2.20it/s]\n"
     ]
    },
    {
     "name": "stdout",
     "output_type": "stream",
     "text": [
      "Epoch 310 Mean Reward: 542.413\n",
      "Epoch 310 Model saved to ./checkpoints/take_cover.ckpt\n",
      "Epoch 310 test:\n",
      "Test Episode 1 Reward: 547.0\n",
      "Test Episode 2 Reward: 532.0\n",
      "Test Episode 3 Reward: 327.0\n",
      "Test Episode 4 Reward: 519.0\n",
      "Test Episode 5 Reward: 532.0\n",
      "Test Episode 6 Reward: 108.0\n",
      "Test Episode 7 Reward: 193.0\n",
      "Test Episode 8 Reward: 745.0\n",
      "Test Episode 9 Reward: 532.0\n",
      "Test Episode 10 Reward: 532.0\n",
      "Average Test Reward: 456.7\n"
     ]
    },
    {
     "name": "stderr",
     "output_type": "stream",
     "text": [
      "100%|██████████| 2000/2000 [14:47<00:00,  2.25it/s]\n"
     ]
    },
    {
     "name": "stdout",
     "output_type": "stream",
     "text": [
      "Epoch 311 Mean Reward: 526.827\n"
     ]
    },
    {
     "name": "stderr",
     "output_type": "stream",
     "text": [
      "100%|██████████| 2000/2000 [15:43<00:00,  2.12it/s]\n"
     ]
    },
    {
     "name": "stdout",
     "output_type": "stream",
     "text": [
      "Epoch 312 Mean Reward: 561.5215\n"
     ]
    },
    {
     "name": "stderr",
     "output_type": "stream",
     "text": [
      "100%|██████████| 2000/2000 [15:02<00:00,  2.22it/s]\n"
     ]
    },
    {
     "name": "stdout",
     "output_type": "stream",
     "text": [
      "Epoch 313 Mean Reward: 536.4975\n"
     ]
    },
    {
     "name": "stderr",
     "output_type": "stream",
     "text": [
      "100%|██████████| 2000/2000 [15:40<00:00,  2.13it/s]\n"
     ]
    },
    {
     "name": "stdout",
     "output_type": "stream",
     "text": [
      "Epoch 314 Mean Reward: 562.997\n"
     ]
    },
    {
     "name": "stderr",
     "output_type": "stream",
     "text": [
      "100%|██████████| 2000/2000 [15:35<00:00,  2.14it/s]\n"
     ]
    },
    {
     "name": "stdout",
     "output_type": "stream",
     "text": [
      "Epoch 315 Mean Reward: 557.538\n"
     ]
    },
    {
     "name": "stderr",
     "output_type": "stream",
     "text": [
      "100%|██████████| 2000/2000 [15:30<00:00,  2.15it/s]\n"
     ]
    },
    {
     "name": "stdout",
     "output_type": "stream",
     "text": [
      "Epoch 316 Mean Reward: 555.808\n"
     ]
    },
    {
     "name": "stderr",
     "output_type": "stream",
     "text": [
      "100%|██████████| 2000/2000 [15:25<00:00,  2.16it/s]\n"
     ]
    },
    {
     "name": "stdout",
     "output_type": "stream",
     "text": [
      "Epoch 317 Mean Reward: 553.1215\n"
     ]
    },
    {
     "name": "stderr",
     "output_type": "stream",
     "text": [
      "100%|██████████| 2000/2000 [17:39<00:00,  1.89it/s]\n"
     ]
    },
    {
     "name": "stdout",
     "output_type": "stream",
     "text": [
      "Epoch 318 Mean Reward: 550.2225\n"
     ]
    },
    {
     "name": "stderr",
     "output_type": "stream",
     "text": [
      "100%|██████████| 2000/2000 [17:16<00:00,  1.93it/s]\n"
     ]
    },
    {
     "name": "stdout",
     "output_type": "stream",
     "text": [
      "Epoch 319 Mean Reward: 569.3675\n"
     ]
    },
    {
     "name": "stderr",
     "output_type": "stream",
     "text": [
      "100%|██████████| 2000/2000 [15:40<00:00,  2.13it/s]\n"
     ]
    },
    {
     "name": "stdout",
     "output_type": "stream",
     "text": [
      "Epoch 320 Mean Reward: 563.201\n",
      "Epoch 320 Model saved to ./checkpoints/take_cover.ckpt\n",
      "Epoch 320 test:\n",
      "Test Episode 1 Reward: 324.0\n",
      "Test Episode 2 Reward: 324.0\n",
      "Test Episode 3 Reward: 192.0\n",
      "Test Episode 4 Reward: 324.0\n",
      "Test Episode 5 Reward: 324.0\n",
      "Test Episode 6 Reward: 324.0\n",
      "Test Episode 7 Reward: 324.0\n",
      "Test Episode 8 Reward: 324.0\n",
      "Test Episode 9 Reward: 386.0\n",
      "Test Episode 10 Reward: 142.0\n",
      "Average Test Reward: 298.8\n"
     ]
    },
    {
     "name": "stderr",
     "output_type": "stream",
     "text": [
      "100%|██████████| 2000/2000 [15:13<00:00,  2.19it/s]\n"
     ]
    },
    {
     "name": "stdout",
     "output_type": "stream",
     "text": [
      "Epoch 321 Mean Reward: 547.042\n"
     ]
    },
    {
     "name": "stderr",
     "output_type": "stream",
     "text": [
      "100%|██████████| 2000/2000 [15:48<00:00,  2.11it/s]\n"
     ]
    },
    {
     "name": "stdout",
     "output_type": "stream",
     "text": [
      "Epoch 322 Mean Reward: 557.922\n"
     ]
    },
    {
     "name": "stderr",
     "output_type": "stream",
     "text": [
      "100%|██████████| 2000/2000 [16:38<00:00,  2.00it/s]\n"
     ]
    },
    {
     "name": "stdout",
     "output_type": "stream",
     "text": [
      "Epoch 323 Mean Reward: 559.5065\n"
     ]
    },
    {
     "name": "stderr",
     "output_type": "stream",
     "text": [
      "100%|██████████| 2000/2000 [17:14<00:00,  1.93it/s]\n"
     ]
    },
    {
     "name": "stdout",
     "output_type": "stream",
     "text": [
      "Epoch 324 Mean Reward: 555.838\n"
     ]
    },
    {
     "name": "stderr",
     "output_type": "stream",
     "text": [
      "100%|██████████| 2000/2000 [16:14<00:00,  2.05it/s]\n"
     ]
    },
    {
     "name": "stdout",
     "output_type": "stream",
     "text": [
      "Epoch 325 Mean Reward: 553.614\n"
     ]
    },
    {
     "name": "stderr",
     "output_type": "stream",
     "text": [
      "100%|██████████| 2000/2000 [18:13<00:00,  1.83it/s]\n"
     ]
    },
    {
     "name": "stdout",
     "output_type": "stream",
     "text": [
      "Epoch 326 Mean Reward: 543.255\n"
     ]
    },
    {
     "name": "stderr",
     "output_type": "stream",
     "text": [
      "100%|██████████| 2000/2000 [21:02<00:00,  1.58it/s]\n"
     ]
    },
    {
     "name": "stdout",
     "output_type": "stream",
     "text": [
      "Epoch 327 Mean Reward: 561.9355\n"
     ]
    },
    {
     "name": "stderr",
     "output_type": "stream",
     "text": [
      "100%|██████████| 2000/2000 [20:45<00:00,  1.61it/s]\n"
     ]
    },
    {
     "name": "stdout",
     "output_type": "stream",
     "text": [
      "Epoch 328 Mean Reward: 556.851\n"
     ]
    },
    {
     "name": "stderr",
     "output_type": "stream",
     "text": [
      "100%|██████████| 2000/2000 [18:09<00:00,  1.84it/s]\n"
     ]
    },
    {
     "name": "stdout",
     "output_type": "stream",
     "text": [
      "Epoch 329 Mean Reward: 558.054\n"
     ]
    },
    {
     "name": "stderr",
     "output_type": "stream",
     "text": [
      "100%|██████████| 2000/2000 [18:37<00:00,  1.79it/s]\n"
     ]
    },
    {
     "name": "stdout",
     "output_type": "stream",
     "text": [
      "Epoch 330 Mean Reward: 563.3635\n",
      "Epoch 330 Model saved to ./checkpoints/take_cover.ckpt\n",
      "Epoch 330 test:\n",
      "Test Episode 1 Reward: 117.0\n",
      "Test Episode 2 Reward: 530.0\n",
      "Test Episode 3 Reward: 470.0\n",
      "Test Episode 4 Reward: 535.0\n",
      "Test Episode 5 Reward: 249.0\n",
      "Test Episode 6 Reward: 236.0\n",
      "Test Episode 7 Reward: 218.0\n",
      "Test Episode 8 Reward: 245.0\n",
      "Test Episode 9 Reward: 372.0\n",
      "Test Episode 10 Reward: 535.0\n",
      "Average Test Reward: 350.7\n"
     ]
    },
    {
     "name": "stderr",
     "output_type": "stream",
     "text": [
      "100%|██████████| 2000/2000 [19:14<00:00,  1.73it/s]\n"
     ]
    },
    {
     "name": "stdout",
     "output_type": "stream",
     "text": [
      "Epoch 331 Mean Reward: 560.385\n"
     ]
    },
    {
     "name": "stderr",
     "output_type": "stream",
     "text": [
      "100%|██████████| 2000/2000 [20:05<00:00,  1.66it/s]\n"
     ]
    },
    {
     "name": "stdout",
     "output_type": "stream",
     "text": [
      "Epoch 332 Mean Reward: 565.6345\n"
     ]
    },
    {
     "name": "stderr",
     "output_type": "stream",
     "text": [
      "100%|██████████| 2000/2000 [19:52<00:00,  1.68it/s]\n"
     ]
    },
    {
     "name": "stdout",
     "output_type": "stream",
     "text": [
      "Epoch 333 Mean Reward: 562.345\n"
     ]
    },
    {
     "name": "stderr",
     "output_type": "stream",
     "text": [
      "100%|██████████| 2000/2000 [20:08<00:00,  1.65it/s]\n"
     ]
    },
    {
     "name": "stdout",
     "output_type": "stream",
     "text": [
      "Epoch 334 Mean Reward: 559.922\n"
     ]
    },
    {
     "name": "stderr",
     "output_type": "stream",
     "text": [
      "100%|██████████| 2000/2000 [20:53<00:00,  1.60it/s]\n"
     ]
    },
    {
     "name": "stdout",
     "output_type": "stream",
     "text": [
      "Epoch 335 Mean Reward: 578.7165\n"
     ]
    },
    {
     "name": "stderr",
     "output_type": "stream",
     "text": [
      "100%|██████████| 2000/2000 [20:37<00:00,  1.62it/s]\n"
     ]
    },
    {
     "name": "stdout",
     "output_type": "stream",
     "text": [
      "Epoch 336 Mean Reward: 578.3055\n"
     ]
    },
    {
     "name": "stderr",
     "output_type": "stream",
     "text": [
      "100%|██████████| 2000/2000 [20:19<00:00,  1.64it/s]\n"
     ]
    },
    {
     "name": "stdout",
     "output_type": "stream",
     "text": [
      "Epoch 337 Mean Reward: 565.2555\n"
     ]
    },
    {
     "name": "stderr",
     "output_type": "stream",
     "text": [
      "100%|██████████| 2000/2000 [20:46<00:00,  1.60it/s]\n"
     ]
    },
    {
     "name": "stdout",
     "output_type": "stream",
     "text": [
      "Epoch 338 Mean Reward: 573.5865\n"
     ]
    },
    {
     "name": "stderr",
     "output_type": "stream",
     "text": [
      "100%|██████████| 2000/2000 [20:53<00:00,  1.60it/s]\n"
     ]
    },
    {
     "name": "stdout",
     "output_type": "stream",
     "text": [
      "Epoch 339 Mean Reward: 588.693\n"
     ]
    },
    {
     "name": "stderr",
     "output_type": "stream",
     "text": [
      "100%|██████████| 2000/2000 [21:24<00:00,  1.56it/s]\n"
     ]
    },
    {
     "name": "stdout",
     "output_type": "stream",
     "text": [
      "Epoch 340 Mean Reward: 591.423\n",
      "Epoch 340 Model saved to ./checkpoints/take_cover.ckpt\n",
      "Epoch 340 test:\n",
      "Test Episode 1 Reward: 181.0\n",
      "Test Episode 2 Reward: 410.0\n",
      "Test Episode 3 Reward: 410.0\n",
      "Test Episode 4 Reward: 410.0\n",
      "Test Episode 5 Reward: 106.0\n",
      "Test Episode 6 Reward: 342.0\n",
      "Test Episode 7 Reward: 124.0\n",
      "Test Episode 8 Reward: 410.0\n",
      "Test Episode 9 Reward: 179.0\n",
      "Test Episode 10 Reward: 135.0\n",
      "Average Test Reward: 270.7\n"
     ]
    },
    {
     "name": "stderr",
     "output_type": "stream",
     "text": [
      "100%|██████████| 2000/2000 [20:59<00:00,  1.59it/s]\n"
     ]
    },
    {
     "name": "stdout",
     "output_type": "stream",
     "text": [
      "Epoch 341 Mean Reward: 586.1015\n"
     ]
    },
    {
     "name": "stderr",
     "output_type": "stream",
     "text": [
      "100%|██████████| 2000/2000 [17:30<00:00,  1.90it/s]\n"
     ]
    },
    {
     "name": "stdout",
     "output_type": "stream",
     "text": [
      "Epoch 342 Mean Reward: 577.155\n"
     ]
    },
    {
     "name": "stderr",
     "output_type": "stream",
     "text": [
      "100%|██████████| 2000/2000 [16:35<00:00,  2.01it/s]\n"
     ]
    },
    {
     "name": "stdout",
     "output_type": "stream",
     "text": [
      "Epoch 343 Mean Reward: 556.5405\n"
     ]
    },
    {
     "name": "stderr",
     "output_type": "stream",
     "text": [
      "100%|██████████| 2000/2000 [18:01<00:00,  1.85it/s]\n"
     ]
    },
    {
     "name": "stdout",
     "output_type": "stream",
     "text": [
      "Epoch 344 Mean Reward: 568.673\n"
     ]
    },
    {
     "name": "stderr",
     "output_type": "stream",
     "text": [
      "100%|██████████| 2000/2000 [20:46<00:00,  1.60it/s]\n"
     ]
    },
    {
     "name": "stdout",
     "output_type": "stream",
     "text": [
      "Epoch 345 Mean Reward: 587.6185\n"
     ]
    },
    {
     "name": "stderr",
     "output_type": "stream",
     "text": [
      "100%|██████████| 2000/2000 [21:08<00:00,  1.58it/s]\n"
     ]
    },
    {
     "name": "stdout",
     "output_type": "stream",
     "text": [
      "Epoch 346 Mean Reward: 594.543\n"
     ]
    },
    {
     "name": "stderr",
     "output_type": "stream",
     "text": [
      "100%|██████████| 2000/2000 [21:47<00:00,  1.53it/s]\n"
     ]
    },
    {
     "name": "stdout",
     "output_type": "stream",
     "text": [
      "Epoch 347 Mean Reward: 612.7835\n"
     ]
    },
    {
     "name": "stderr",
     "output_type": "stream",
     "text": [
      "100%|██████████| 2000/2000 [20:23<00:00,  1.63it/s]\n"
     ]
    },
    {
     "name": "stdout",
     "output_type": "stream",
     "text": [
      "Epoch 348 Mean Reward: 600.855\n"
     ]
    },
    {
     "name": "stderr",
     "output_type": "stream",
     "text": [
      "100%|██████████| 2000/2000 [20:39<00:00,  1.61it/s]\n"
     ]
    },
    {
     "name": "stdout",
     "output_type": "stream",
     "text": [
      "Epoch 349 Mean Reward: 612.0675\n"
     ]
    },
    {
     "name": "stderr",
     "output_type": "stream",
     "text": [
      "100%|██████████| 2000/2000 [20:28<00:00,  1.63it/s]\n"
     ]
    },
    {
     "name": "stdout",
     "output_type": "stream",
     "text": [
      "Epoch 350 Mean Reward: 603.004\n",
      "Epoch 350 Model saved to ./checkpoints/take_cover.ckpt\n",
      "Epoch 350 test:\n",
      "Test Episode 1 Reward: 337.0\n",
      "Test Episode 2 Reward: 495.0\n",
      "Test Episode 3 Reward: 430.0\n",
      "Test Episode 4 Reward: 410.0\n",
      "Test Episode 5 Reward: 495.0\n",
      "Test Episode 6 Reward: 495.0\n",
      "Test Episode 7 Reward: 577.0\n",
      "Test Episode 8 Reward: 163.0\n",
      "Test Episode 9 Reward: 495.0\n",
      "Test Episode 10 Reward: 307.0\n",
      "Average Test Reward: 420.4\n"
     ]
    },
    {
     "name": "stderr",
     "output_type": "stream",
     "text": [
      "100%|██████████| 2000/2000 [19:28<00:00,  1.71it/s]\n"
     ]
    },
    {
     "name": "stdout",
     "output_type": "stream",
     "text": [
      "Epoch 351 Mean Reward: 591.096\n"
     ]
    },
    {
     "name": "stderr",
     "output_type": "stream",
     "text": [
      "100%|██████████| 2000/2000 [19:13<00:00,  1.73it/s]\n"
     ]
    },
    {
     "name": "stdout",
     "output_type": "stream",
     "text": [
      "Epoch 352 Mean Reward: 574.53\n"
     ]
    },
    {
     "name": "stderr",
     "output_type": "stream",
     "text": [
      "100%|██████████| 2000/2000 [19:26<00:00,  1.71it/s]\n"
     ]
    },
    {
     "name": "stdout",
     "output_type": "stream",
     "text": [
      "Epoch 353 Mean Reward: 605.6585\n"
     ]
    },
    {
     "name": "stderr",
     "output_type": "stream",
     "text": [
      "100%|██████████| 2000/2000 [19:17<00:00,  1.73it/s]\n"
     ]
    },
    {
     "name": "stdout",
     "output_type": "stream",
     "text": [
      "Epoch 354 Mean Reward: 584.1115\n"
     ]
    },
    {
     "name": "stderr",
     "output_type": "stream",
     "text": [
      "100%|██████████| 2000/2000 [19:30<00:00,  1.71it/s]\n"
     ]
    },
    {
     "name": "stdout",
     "output_type": "stream",
     "text": [
      "Epoch 355 Mean Reward: 583.987\n"
     ]
    },
    {
     "name": "stderr",
     "output_type": "stream",
     "text": [
      "100%|██████████| 2000/2000 [19:41<00:00,  1.69it/s]\n"
     ]
    },
    {
     "name": "stdout",
     "output_type": "stream",
     "text": [
      "Epoch 356 Mean Reward: 589.8035\n"
     ]
    },
    {
     "name": "stderr",
     "output_type": "stream",
     "text": [
      "100%|██████████| 2000/2000 [19:20<00:00,  1.72it/s]\n"
     ]
    },
    {
     "name": "stdout",
     "output_type": "stream",
     "text": [
      "Epoch 357 Mean Reward: 587.303\n"
     ]
    },
    {
     "name": "stderr",
     "output_type": "stream",
     "text": [
      "100%|██████████| 2000/2000 [21:11<00:00,  1.57it/s]\n"
     ]
    },
    {
     "name": "stdout",
     "output_type": "stream",
     "text": [
      "Epoch 358 Mean Reward: 608.769\n"
     ]
    },
    {
     "name": "stderr",
     "output_type": "stream",
     "text": [
      "100%|██████████| 2000/2000 [21:51<00:00,  1.52it/s]\n"
     ]
    },
    {
     "name": "stdout",
     "output_type": "stream",
     "text": [
      "Epoch 359 Mean Reward: 598.214\n"
     ]
    },
    {
     "name": "stderr",
     "output_type": "stream",
     "text": [
      "100%|██████████| 2000/2000 [21:22<00:00,  1.56it/s]\n"
     ]
    },
    {
     "name": "stdout",
     "output_type": "stream",
     "text": [
      "Epoch 360 Mean Reward: 590.081\n",
      "Epoch 360 Model saved to ./checkpoints/take_cover.ckpt\n",
      "Epoch 360 test:\n",
      "Test Episode 1 Reward: 238.0\n",
      "Test Episode 2 Reward: 332.0\n",
      "Test Episode 3 Reward: 332.0\n",
      "Test Episode 4 Reward: 332.0\n",
      "Test Episode 5 Reward: 332.0\n",
      "Test Episode 6 Reward: 390.0\n",
      "Test Episode 7 Reward: 332.0\n",
      "Test Episode 8 Reward: 301.0\n",
      "Test Episode 9 Reward: 332.0\n",
      "Test Episode 10 Reward: 332.0\n",
      "Average Test Reward: 325.3\n"
     ]
    },
    {
     "name": "stderr",
     "output_type": "stream",
     "text": [
      "100%|██████████| 2000/2000 [22:51<00:00,  1.46it/s]\n"
     ]
    },
    {
     "name": "stdout",
     "output_type": "stream",
     "text": [
      "Epoch 361 Mean Reward: 633.936\n"
     ]
    },
    {
     "name": "stderr",
     "output_type": "stream",
     "text": [
      "100%|██████████| 2000/2000 [22:37<00:00,  1.47it/s]\n"
     ]
    },
    {
     "name": "stdout",
     "output_type": "stream",
     "text": [
      "Epoch 362 Mean Reward: 624.153\n"
     ]
    },
    {
     "name": "stderr",
     "output_type": "stream",
     "text": [
      "100%|██████████| 2000/2000 [23:31<00:00,  1.42it/s]\n"
     ]
    },
    {
     "name": "stdout",
     "output_type": "stream",
     "text": [
      "Epoch 363 Mean Reward: 642.511\n"
     ]
    },
    {
     "name": "stderr",
     "output_type": "stream",
     "text": [
      "100%|██████████| 2000/2000 [23:04<00:00,  1.44it/s]\n"
     ]
    },
    {
     "name": "stdout",
     "output_type": "stream",
     "text": [
      "Epoch 364 Mean Reward: 634.682\n"
     ]
    },
    {
     "name": "stderr",
     "output_type": "stream",
     "text": [
      "100%|██████████| 2000/2000 [21:15<00:00,  1.57it/s]\n"
     ]
    },
    {
     "name": "stdout",
     "output_type": "stream",
     "text": [
      "Epoch 365 Mean Reward: 602.515\n"
     ]
    },
    {
     "name": "stderr",
     "output_type": "stream",
     "text": [
      "100%|██████████| 2000/2000 [22:31<00:00,  1.48it/s]\n"
     ]
    },
    {
     "name": "stdout",
     "output_type": "stream",
     "text": [
      "Epoch 366 Mean Reward: 633.085\n"
     ]
    },
    {
     "name": "stderr",
     "output_type": "stream",
     "text": [
      "100%|██████████| 2000/2000 [22:44<00:00,  1.47it/s]\n"
     ]
    },
    {
     "name": "stdout",
     "output_type": "stream",
     "text": [
      "Epoch 367 Mean Reward: 634.379\n"
     ]
    },
    {
     "name": "stderr",
     "output_type": "stream",
     "text": [
      "100%|██████████| 2000/2000 [21:47<00:00,  1.53it/s]\n"
     ]
    },
    {
     "name": "stdout",
     "output_type": "stream",
     "text": [
      "Epoch 368 Mean Reward: 607.656\n"
     ]
    },
    {
     "name": "stderr",
     "output_type": "stream",
     "text": [
      "100%|██████████| 2000/2000 [22:13<00:00,  1.50it/s]\n"
     ]
    },
    {
     "name": "stdout",
     "output_type": "stream",
     "text": [
      "Epoch 369 Mean Reward: 625.799\n"
     ]
    },
    {
     "name": "stderr",
     "output_type": "stream",
     "text": [
      "100%|██████████| 2000/2000 [21:58<00:00,  1.52it/s]\n"
     ]
    },
    {
     "name": "stdout",
     "output_type": "stream",
     "text": [
      "Epoch 370 Mean Reward: 621.0245\n",
      "Epoch 370 Model saved to ./checkpoints/take_cover.ckpt\n",
      "Epoch 370 test:\n",
      "Test Episode 1 Reward: 338.0\n",
      "Test Episode 2 Reward: 338.0\n",
      "Test Episode 3 Reward: 167.0\n",
      "Test Episode 4 Reward: 338.0\n",
      "Test Episode 5 Reward: 385.0\n",
      "Test Episode 6 Reward: 371.0\n",
      "Test Episode 7 Reward: 338.0\n",
      "Test Episode 8 Reward: 338.0\n",
      "Test Episode 9 Reward: 338.0\n",
      "Test Episode 10 Reward: 536.0\n",
      "Average Test Reward: 348.7\n"
     ]
    },
    {
     "name": "stderr",
     "output_type": "stream",
     "text": [
      "100%|██████████| 2000/2000 [22:17<00:00,  1.49it/s]\n"
     ]
    },
    {
     "name": "stdout",
     "output_type": "stream",
     "text": [
      "Epoch 371 Mean Reward: 608.293\n"
     ]
    },
    {
     "name": "stderr",
     "output_type": "stream",
     "text": [
      "100%|██████████| 2000/2000 [22:20<00:00,  1.49it/s]\n"
     ]
    },
    {
     "name": "stdout",
     "output_type": "stream",
     "text": [
      "Epoch 372 Mean Reward: 608.82\n"
     ]
    },
    {
     "name": "stderr",
     "output_type": "stream",
     "text": [
      "100%|██████████| 2000/2000 [22:45<00:00,  1.46it/s]\n"
     ]
    },
    {
     "name": "stdout",
     "output_type": "stream",
     "text": [
      "Epoch 373 Mean Reward: 619.6255\n"
     ]
    },
    {
     "name": "stderr",
     "output_type": "stream",
     "text": [
      "100%|██████████| 2000/2000 [22:43<00:00,  1.47it/s]\n"
     ]
    },
    {
     "name": "stdout",
     "output_type": "stream",
     "text": [
      "Epoch 374 Mean Reward: 623.957\n"
     ]
    },
    {
     "name": "stderr",
     "output_type": "stream",
     "text": [
      "100%|██████████| 2000/2000 [22:10<00:00,  1.50it/s]\n"
     ]
    },
    {
     "name": "stdout",
     "output_type": "stream",
     "text": [
      "Epoch 375 Mean Reward: 605.958\n"
     ]
    },
    {
     "name": "stderr",
     "output_type": "stream",
     "text": [
      "100%|██████████| 2000/2000 [22:43<00:00,  1.47it/s]\n"
     ]
    },
    {
     "name": "stdout",
     "output_type": "stream",
     "text": [
      "Epoch 376 Mean Reward: 643.961\n"
     ]
    },
    {
     "name": "stderr",
     "output_type": "stream",
     "text": [
      "100%|██████████| 2000/2000 [21:52<00:00,  1.52it/s]\n"
     ]
    },
    {
     "name": "stdout",
     "output_type": "stream",
     "text": [
      "Epoch 377 Mean Reward: 596.7905\n"
     ]
    },
    {
     "name": "stderr",
     "output_type": "stream",
     "text": [
      "100%|██████████| 2000/2000 [22:26<00:00,  1.48it/s]\n"
     ]
    },
    {
     "name": "stdout",
     "output_type": "stream",
     "text": [
      "Epoch 378 Mean Reward: 629.817\n"
     ]
    },
    {
     "name": "stderr",
     "output_type": "stream",
     "text": [
      "100%|██████████| 2000/2000 [22:27<00:00,  1.48it/s]\n"
     ]
    },
    {
     "name": "stdout",
     "output_type": "stream",
     "text": [
      "Epoch 379 Mean Reward: 628.1085\n"
     ]
    },
    {
     "name": "stderr",
     "output_type": "stream",
     "text": [
      "100%|██████████| 2000/2000 [22:43<00:00,  1.47it/s]\n"
     ]
    },
    {
     "name": "stdout",
     "output_type": "stream",
     "text": [
      "Epoch 380 Mean Reward: 622.948\n",
      "Epoch 380 Model saved to ./checkpoints/take_cover.ckpt\n",
      "Epoch 380 test:\n",
      "Test Episode 1 Reward: 505.0\n",
      "Test Episode 2 Reward: 231.0\n",
      "Test Episode 3 Reward: 118.0\n",
      "Test Episode 4 Reward: 160.0\n",
      "Test Episode 5 Reward: 343.0\n",
      "Test Episode 6 Reward: 567.0\n",
      "Test Episode 7 Reward: 170.0\n",
      "Test Episode 8 Reward: 343.0\n",
      "Test Episode 9 Reward: 343.0\n",
      "Test Episode 10 Reward: 343.0\n",
      "Average Test Reward: 312.3\n"
     ]
    },
    {
     "name": "stderr",
     "output_type": "stream",
     "text": [
      "100%|██████████| 2000/2000 [29:57<00:00,  1.11it/s]\n"
     ]
    },
    {
     "name": "stdout",
     "output_type": "stream",
     "text": [
      "Epoch 381 Mean Reward: 634.277\n"
     ]
    },
    {
     "name": "stderr",
     "output_type": "stream",
     "text": [
      "100%|██████████| 2000/2000 [29:27<00:00,  1.13it/s]\n"
     ]
    },
    {
     "name": "stdout",
     "output_type": "stream",
     "text": [
      "Epoch 382 Mean Reward: 635.5835\n"
     ]
    },
    {
     "name": "stderr",
     "output_type": "stream",
     "text": [
      "100%|██████████| 2000/2000 [30:51<00:00,  1.08it/s]\n"
     ]
    },
    {
     "name": "stdout",
     "output_type": "stream",
     "text": [
      "Epoch 383 Mean Reward: 643.113\n"
     ]
    },
    {
     "name": "stderr",
     "output_type": "stream",
     "text": [
      "100%|██████████| 2000/2000 [29:28<00:00,  1.13it/s]\n"
     ]
    },
    {
     "name": "stdout",
     "output_type": "stream",
     "text": [
      "Epoch 384 Mean Reward: 630.359\n"
     ]
    },
    {
     "name": "stderr",
     "output_type": "stream",
     "text": [
      "100%|██████████| 2000/2000 [27:53<00:00,  1.20it/s]\n"
     ]
    },
    {
     "name": "stdout",
     "output_type": "stream",
     "text": [
      "Epoch 385 Mean Reward: 615.224\n"
     ]
    },
    {
     "name": "stderr",
     "output_type": "stream",
     "text": [
      "100%|██████████| 2000/2000 [26:23<00:00,  1.26it/s]\n"
     ]
    },
    {
     "name": "stdout",
     "output_type": "stream",
     "text": [
      "Epoch 386 Mean Reward: 609.3495\n"
     ]
    },
    {
     "name": "stderr",
     "output_type": "stream",
     "text": [
      "100%|██████████| 2000/2000 [29:54<00:00,  1.11it/s]\n"
     ]
    },
    {
     "name": "stdout",
     "output_type": "stream",
     "text": [
      "Epoch 387 Mean Reward: 632.3405\n"
     ]
    },
    {
     "name": "stderr",
     "output_type": "stream",
     "text": [
      "100%|██████████| 2000/2000 [28:53<00:00,  1.15it/s]\n"
     ]
    },
    {
     "name": "stdout",
     "output_type": "stream",
     "text": [
      "Epoch 388 Mean Reward: 622.898\n"
     ]
    },
    {
     "name": "stderr",
     "output_type": "stream",
     "text": [
      "100%|██████████| 2000/2000 [21:45<00:00,  1.53it/s]\n"
     ]
    },
    {
     "name": "stdout",
     "output_type": "stream",
     "text": [
      "Epoch 389 Mean Reward: 622.9805\n"
     ]
    },
    {
     "name": "stderr",
     "output_type": "stream",
     "text": [
      "100%|██████████| 2000/2000 [21:46<00:00,  1.53it/s]\n"
     ]
    },
    {
     "name": "stdout",
     "output_type": "stream",
     "text": [
      "Epoch 390 Mean Reward: 652.555\n",
      "Epoch 390 Model saved to ./checkpoints/take_cover.ckpt\n",
      "Epoch 390 test:\n",
      "Test Episode 1 Reward: 114.0\n",
      "Test Episode 2 Reward: 543.0\n",
      "Test Episode 3 Reward: 110.0\n",
      "Test Episode 4 Reward: 271.0\n",
      "Test Episode 5 Reward: 543.0\n",
      "Test Episode 6 Reward: 543.0\n",
      "Test Episode 7 Reward: 137.0\n",
      "Test Episode 8 Reward: 543.0\n",
      "Test Episode 9 Reward: 164.0\n",
      "Test Episode 10 Reward: 185.0\n",
      "Average Test Reward: 315.3\n"
     ]
    },
    {
     "name": "stderr",
     "output_type": "stream",
     "text": [
      "100%|██████████| 2000/2000 [25:27<00:00,  1.31it/s]\n"
     ]
    },
    {
     "name": "stdout",
     "output_type": "stream",
     "text": [
      "Epoch 391 Mean Reward: 619.793\n"
     ]
    },
    {
     "name": "stderr",
     "output_type": "stream",
     "text": [
      "100%|██████████| 2000/2000 [22:23<00:00,  1.49it/s]\n"
     ]
    },
    {
     "name": "stdout",
     "output_type": "stream",
     "text": [
      "Epoch 392 Mean Reward: 600.2665\n"
     ]
    },
    {
     "name": "stderr",
     "output_type": "stream",
     "text": [
      "100%|██████████| 2000/2000 [20:43<00:00,  1.61it/s]\n"
     ]
    },
    {
     "name": "stdout",
     "output_type": "stream",
     "text": [
      "Epoch 393 Mean Reward: 613.803\n"
     ]
    },
    {
     "name": "stderr",
     "output_type": "stream",
     "text": [
      "100%|██████████| 2000/2000 [19:45<00:00,  1.69it/s]\n"
     ]
    },
    {
     "name": "stdout",
     "output_type": "stream",
     "text": [
      "Epoch 394 Mean Reward: 587.1965\n"
     ]
    },
    {
     "name": "stderr",
     "output_type": "stream",
     "text": [
      "100%|██████████| 2000/2000 [20:14<00:00,  1.65it/s]\n"
     ]
    },
    {
     "name": "stdout",
     "output_type": "stream",
     "text": [
      "Epoch 395 Mean Reward: 613.256\n"
     ]
    },
    {
     "name": "stderr",
     "output_type": "stream",
     "text": [
      "100%|██████████| 2000/2000 [21:49<00:00,  1.53it/s]\n"
     ]
    },
    {
     "name": "stdout",
     "output_type": "stream",
     "text": [
      "Epoch 396 Mean Reward: 626.2715\n"
     ]
    },
    {
     "name": "stderr",
     "output_type": "stream",
     "text": [
      "100%|██████████| 2000/2000 [21:53<00:00,  1.52it/s]\n"
     ]
    },
    {
     "name": "stdout",
     "output_type": "stream",
     "text": [
      "Epoch 397 Mean Reward: 606.238\n"
     ]
    },
    {
     "name": "stderr",
     "output_type": "stream",
     "text": [
      "100%|██████████| 2000/2000 [21:23<00:00,  1.56it/s]\n"
     ]
    },
    {
     "name": "stdout",
     "output_type": "stream",
     "text": [
      "Epoch 398 Mean Reward: 583.7705\n"
     ]
    },
    {
     "name": "stderr",
     "output_type": "stream",
     "text": [
      "100%|██████████| 2000/2000 [22:12<00:00,  1.50it/s]\n"
     ]
    },
    {
     "name": "stdout",
     "output_type": "stream",
     "text": [
      "Epoch 399 Mean Reward: 615.035\n"
     ]
    },
    {
     "name": "stderr",
     "output_type": "stream",
     "text": [
      "100%|██████████| 2000/2000 [22:06<00:00,  1.51it/s]\n"
     ]
    },
    {
     "name": "stdout",
     "output_type": "stream",
     "text": [
      "Epoch 400 Mean Reward: 618.7065\n",
      "Epoch 400 Model saved to ./checkpoints/take_cover.ckpt\n",
      "Epoch 400 test:\n",
      "Test Episode 1 Reward: 438.0\n",
      "Test Episode 2 Reward: 274.0\n",
      "Test Episode 3 Reward: 196.0\n",
      "Test Episode 4 Reward: 421.0\n",
      "Test Episode 5 Reward: 421.0\n",
      "Test Episode 6 Reward: 421.0\n",
      "Test Episode 7 Reward: 421.0\n",
      "Test Episode 8 Reward: 585.0\n",
      "Test Episode 9 Reward: 421.0\n",
      "Test Episode 10 Reward: 421.0\n",
      "Average Test Reward: 401.9\n",
      "[(934.0, 90), (608.3, 240), (544.8, 150), (456.7, 310), (451.7, 180), (446.6, 290), (446.5, 40), (429.4, 210), (422.8, 260), (420.4, 350), (401.9, 400), (394.4, 120), (387.2, 130), (378.4, 300), (378.2, 110), (354.3, 280), (350.7, 330), (348.7, 370), (339.2, 250), (337.1, 230), (336.5, 270), (332.4, 160), (325.3, 360), (315.8, 10), (315.3, 390), (312.3, 380), (302.2, 170), (298.8, 320), (270.7, 340), (265.6, 80), (263.1, 140), (236.5, 100), (231.4, 30), (230.6, 220), (229.5, 70), (224.8, 200), (221.3, 60), (208.9, 50), (207.1, 190), (193.4, 20)]\n",
      "31843289 time steps experienced during training\n"
     ]
    }
   ],
   "source": [
    "#Accumulate experiences in the buffer using an epsilon-greedy strategy with three training phases\n",
    "\n",
    "for epoch in range(epochs):\n",
    "    epoch_rewards = list()\n",
    "    \n",
    "    for step in trange(steps_per_epoch, leave=True):\n",
    "        experience = list()\n",
    "        game.new_episode()\n",
    "        \n",
    "        while not game.is_episode_finished():\n",
    "            state = game.get_state()\n",
    "            \n",
    "#Substitute an array of zeros for the depth buffer if that setting is disabled\n",
    "\n",
    "            if game.is_depth_buffer_enabled() == False:\n",
    "                state1_buffer = np.moveaxis(state.screen_buffer, 0, 2)\n",
    "            else:\n",
    "                depth_buffer = state.depth_buffer\n",
    "                state1_buffer = np.stack((state.screen_buffer,\n",
    "                                          depth_buffer), axis=-1)\n",
    "                \n",
    "            state1 = preprocess(state1_buffer, down_sample_ratio)\n",
    "            \n",
    "#Explore the environment by choosing random actions with 100% probability for the first phase of training\n",
    "\n",
    "            if epoch < 0.2*epochs:\n",
    "                action = np.random.randint(num_actions)\n",
    "            \n",
    "#Increase the probability of greedily choosing an action by a constant amount at each epoch in the second phase\n",
    "            \n",
    "            elif epoch < 0.9*epochs:\n",
    "                epsilon = start_epsilon - (epoch + 1 - 0.2*epochs)*(start_epsilon-end_epsilon)/(0.7*epochs)\n",
    "            \n",
    "                if np.random.uniform(0, 1) <= epsilon:\n",
    "                    action = np.random.randint(num_actions)\n",
    "                else:\n",
    "                    action = DQN.choose_action(session, state1)[0]\n",
    "\n",
    "#Select a random action with 10% probability in the final phase of training\n",
    "                \n",
    "            else:\n",
    "                if np.random.uniform(0, 1) <= end_epsilon:\n",
    "                    action = np.random.randint(num_actions)\n",
    "                else:\n",
    "                    action = DQN.choose_action(session, state1)[0]\n",
    "\n",
    "            reward = game.make_action(actions[action], frame_delay)\n",
    "            done = game.is_episode_finished()\n",
    "            \n",
    "            if done == False:\n",
    "                state = game.get_state()\n",
    "                \n",
    "                if game.is_depth_buffer_enabled() == False:\n",
    "                    state2_buffer = np.moveaxis(state.screen_buffer, 0, 2)\n",
    "                else:\n",
    "                    depth_buffer = state.depth_buffer\n",
    "                    state2_buffer = np.stack((state.screen_buffer,\n",
    "                                              depth_buffer), axis=-1)\n",
    "                \n",
    "                state2 = preprocess(state2_buffer, down_sample_ratio)\n",
    "                \n",
    "            elif done == True:\n",
    "                state2 = state1\n",
    "        \n",
    "#Add the experience obtained from each time step to the buffer\n",
    "\n",
    "            t += 1\n",
    "            exp_buffer.add_experience((state1, action, reward, state2, done))\n",
    "        \n",
    "#Sample a minibatch from the buffer if there are enough experiences in the buffer\n",
    "\n",
    "        if exp_buffer.length > batch_size:\n",
    "            s1, a, r, s2, terminal = exp_buffer.sample_buffer(batch_size)\n",
    "            \n",
    "#Get the target values from the target Q-network\n",
    "            \n",
    "            target_Q = np.max(target_net.get_Q_values(session, s2), axis=1)\n",
    "            \n",
    "#Train the online Q-network by using a minibatch to update the action-value function\n",
    "            \n",
    "            Q2 = DQN.get_Q_values(session, s1)\n",
    "            Q2[np.arange(batch_size), a] = r + gamma*(1 - terminal)*target_Q\n",
    "            DQN.calculate_loss(session, s1, Q2)\n",
    "            \n",
    "        epoch_rewards.append(game.get_total_reward())\n",
    "        \n",
    "#Increase the discount factor at each epoch until it reaches 0.99\n",
    "    \n",
    "    if gamma < 0.99:\n",
    "        gamma = 1-.98*(1-gamma)\n",
    "    elif gamma >= 0.99:\n",
    "        gamma = 0.99\n",
    "        \n",
    "#Decrease the learning rate at each epoch\n",
    "\n",
    "    DQN.update_lr()\n",
    "    target_net.update_lr()\n",
    "    \n",
    "    print('Epoch {} Mean Reward: {}'.format(epoch + 1, np.mean(epoch_rewards)))\n",
    "    \n",
    "#Update the target network every 10 epochs\n",
    "    \n",
    "    if (epoch + 1) % 10 == 0 and epoch > 0:\n",
    "        update_target(update_ops, session)\n",
    "        \n",
    "#Save the model and test the agent for 10 episodes every 20 epochs\n",
    "    \n",
    "    if (epoch + 1) % 10 == 0 and epoch > 0:\n",
    "        if save_model == True:\n",
    "            checkpoint = model_dir + '-' + str(epoch + 1)\n",
    "            print('Epoch {} Model saved to {}'.format(epoch + 1, model_dir))\n",
    "            saver.save(session, model_dir, global_step=epoch + 1)\n",
    "            \n",
    "        update_target(update_ops, session)\n",
    "\n",
    "#Test the agent both with and without the depth buffer given\n",
    "        \n",
    "        print('Epoch {} test:'.format(epoch + 1))\n",
    "        test_reward = test_agent(DQN, num_episodes=10,\n",
    "                                 training=True,\n",
    "                                 load_model=False,\n",
    "                                 depth=False,\n",
    "                                 session=session,\n",
    "                                 model_dir=model_dir)\n",
    "        print('Average Test Reward:', test_reward)\n",
    "        \n",
    "        epoch_rank_depth.append((test_reward, epoch + 1))\n",
    "        epoch_rank.append((test_reward, epoch + 1))\n",
    "        \n",
    "#Return a sorted list of epoch checkpoints based on average test episode reward\n",
    "        \n",
    "print(sorted(epoch_rank, reverse=True))\n",
    "print('{} time steps experienced during training'.format(t))\n",
    "game.close()\n",
    "    "
   ]
  },
  {
   "cell_type": "code",
   "execution_count": 9,
   "metadata": {
    "ExecuteTime": {
     "end_time": "2018-02-22T14:48:31.781735Z",
     "start_time": "2018-02-22T12:26:16.203111Z"
    },
    "run_control": {
     "frozen": false,
     "read_only": false
    },
    "scrolled": false
   },
   "outputs": [
    {
     "name": "stdout",
     "output_type": "stream",
     "text": [
      "Loading model from checkpoints\\take_cover.ckpt-10\n",
      "INFO:tensorflow:Restoring parameters from checkpoints\\take_cover.ckpt-10\n",
      "Test Episode 1 Reward: 284.0\n",
      "Test Episode 2 Reward: 299.0\n",
      "Test Episode 3 Reward: 793.0\n",
      "Test Episode 4 Reward: 299.0\n",
      "Test Episode 5 Reward: 299.0\n",
      "Test Episode 6 Reward: 584.0\n",
      "Test Episode 7 Reward: 570.0\n",
      "Test Episode 8 Reward: 299.0\n",
      "Test Episode 9 Reward: 299.0\n",
      "Test Episode 10 Reward: 299.0\n",
      "Test Episode 11 Reward: 299.0\n",
      "Test Episode 12 Reward: 258.0\n",
      "Test Episode 13 Reward: 830.0\n",
      "Test Episode 14 Reward: 299.0\n",
      "Test Episode 15 Reward: 220.0\n",
      "Test Episode 16 Reward: 244.0\n",
      "Test Episode 17 Reward: 319.0\n",
      "Test Episode 18 Reward: 282.0\n",
      "Test Episode 19 Reward: 299.0\n",
      "Test Episode 20 Reward: 289.0\n",
      "Epoch checkpoints\\take_cover.ckpt-10 Average Test Reward: 368.2\n",
      "Loading model from checkpoints\\take_cover.ckpt-20\n",
      "INFO:tensorflow:Restoring parameters from checkpoints\\take_cover.ckpt-20\n",
      "Test Episode 1 Reward: 219.0\n",
      "Test Episode 2 Reward: 219.0\n",
      "Test Episode 3 Reward: 219.0\n",
      "Test Episode 4 Reward: 187.0\n",
      "Test Episode 5 Reward: 176.0\n",
      "Test Episode 6 Reward: 219.0\n",
      "Test Episode 7 Reward: 219.0\n",
      "Test Episode 8 Reward: 219.0\n",
      "Test Episode 9 Reward: 219.0\n",
      "Test Episode 10 Reward: 186.0\n",
      "Test Episode 11 Reward: 139.0\n",
      "Test Episode 12 Reward: 219.0\n",
      "Test Episode 13 Reward: 115.0\n",
      "Test Episode 14 Reward: 219.0\n",
      "Test Episode 15 Reward: 135.0\n",
      "Test Episode 16 Reward: 151.0\n",
      "Test Episode 17 Reward: 124.0\n",
      "Test Episode 18 Reward: 219.0\n",
      "Test Episode 19 Reward: 219.0\n",
      "Test Episode 20 Reward: 169.0\n",
      "Epoch checkpoints\\take_cover.ckpt-20 Average Test Reward: 189.55\n",
      "Loading model from checkpoints\\take_cover.ckpt-30\n",
      "INFO:tensorflow:Restoring parameters from checkpoints\\take_cover.ckpt-30\n",
      "Test Episode 1 Reward: 130.0\n",
      "Test Episode 2 Reward: 240.0\n",
      "Test Episode 3 Reward: 252.0\n",
      "Test Episode 4 Reward: 260.0\n",
      "Test Episode 5 Reward: 144.0\n",
      "Test Episode 6 Reward: 208.0\n",
      "Test Episode 7 Reward: 232.0\n",
      "Test Episode 8 Reward: 164.0\n",
      "Test Episode 9 Reward: 232.0\n",
      "Test Episode 10 Reward: 215.0\n",
      "Test Episode 11 Reward: 110.0\n",
      "Test Episode 12 Reward: 175.0\n",
      "Test Episode 13 Reward: 232.0\n",
      "Test Episode 14 Reward: 175.0\n",
      "Test Episode 15 Reward: 232.0\n",
      "Test Episode 16 Reward: 131.0\n",
      "Test Episode 17 Reward: 232.0\n",
      "Test Episode 18 Reward: 151.0\n",
      "Test Episode 19 Reward: 256.0\n",
      "Test Episode 20 Reward: 166.0\n",
      "Epoch checkpoints\\take_cover.ckpt-30 Average Test Reward: 196.85\n",
      "Loading model from checkpoints\\take_cover.ckpt-40\n",
      "INFO:tensorflow:Restoring parameters from checkpoints\\take_cover.ckpt-40\n",
      "Test Episode 1 Reward: 164.0\n",
      "Test Episode 2 Reward: 226.0\n",
      "Test Episode 3 Reward: 408.0\n",
      "Test Episode 4 Reward: 466.0\n",
      "Test Episode 5 Reward: 557.0\n",
      "Test Episode 6 Reward: 351.0\n",
      "Test Episode 7 Reward: 557.0\n",
      "Test Episode 8 Reward: 565.0\n",
      "Test Episode 9 Reward: 557.0\n",
      "Test Episode 10 Reward: 348.0\n",
      "Test Episode 11 Reward: 328.0\n",
      "Test Episode 12 Reward: 419.0\n",
      "Test Episode 13 Reward: 557.0\n",
      "Test Episode 14 Reward: 557.0\n",
      "Test Episode 15 Reward: 426.0\n",
      "Test Episode 16 Reward: 239.0\n",
      "Test Episode 17 Reward: 557.0\n",
      "Test Episode 18 Reward: 175.0\n",
      "Test Episode 19 Reward: 243.0\n",
      "Test Episode 20 Reward: 262.0\n",
      "Epoch checkpoints\\take_cover.ckpt-40 Average Test Reward: 398.1\n",
      "Loading model from checkpoints\\take_cover.ckpt-50\n",
      "INFO:tensorflow:Restoring parameters from checkpoints\\take_cover.ckpt-50\n",
      "Test Episode 1 Reward: 286.0\n",
      "Test Episode 2 Reward: 216.0\n",
      "Test Episode 3 Reward: 286.0\n",
      "Test Episode 4 Reward: 137.0\n",
      "Test Episode 5 Reward: 286.0\n",
      "Test Episode 6 Reward: 286.0\n",
      "Test Episode 7 Reward: 286.0\n",
      "Test Episode 8 Reward: 216.0\n",
      "Test Episode 9 Reward: 122.0\n",
      "Test Episode 10 Reward: 286.0\n",
      "Test Episode 11 Reward: 286.0\n",
      "Test Episode 12 Reward: 286.0\n",
      "Test Episode 13 Reward: 286.0\n",
      "Test Episode 14 Reward: 286.0\n",
      "Test Episode 15 Reward: 231.0\n",
      "Test Episode 16 Reward: 286.0\n",
      "Test Episode 17 Reward: 286.0\n",
      "Test Episode 18 Reward: 142.0\n",
      "Test Episode 19 Reward: 286.0\n",
      "Test Episode 20 Reward: 286.0\n",
      "Epoch checkpoints\\take_cover.ckpt-50 Average Test Reward: 253.4\n",
      "Loading model from checkpoints\\take_cover.ckpt-60\n",
      "INFO:tensorflow:Restoring parameters from checkpoints\\take_cover.ckpt-60\n",
      "Test Episode 1 Reward: 380.0\n",
      "Test Episode 2 Reward: 288.0\n",
      "Test Episode 3 Reward: 288.0\n",
      "Test Episode 4 Reward: 288.0\n",
      "Test Episode 5 Reward: 288.0\n",
      "Test Episode 6 Reward: 181.0\n",
      "Test Episode 7 Reward: 296.0\n",
      "Test Episode 8 Reward: 133.0\n",
      "Test Episode 9 Reward: 288.0\n",
      "Test Episode 10 Reward: 167.0\n",
      "Test Episode 11 Reward: 288.0\n",
      "Test Episode 12 Reward: 125.0\n",
      "Test Episode 13 Reward: 158.0\n",
      "Test Episode 14 Reward: 288.0\n",
      "Test Episode 15 Reward: 177.0\n",
      "Test Episode 16 Reward: 288.0\n",
      "Test Episode 17 Reward: 131.0\n",
      "Test Episode 18 Reward: 288.0\n",
      "Test Episode 19 Reward: 271.0\n",
      "Test Episode 20 Reward: 288.0\n",
      "Epoch checkpoints\\take_cover.ckpt-60 Average Test Reward: 244.95\n",
      "Loading model from checkpoints\\take_cover.ckpt-70\n",
      "INFO:tensorflow:Restoring parameters from checkpoints\\take_cover.ckpt-70\n",
      "Test Episode 1 Reward: 269.0\n",
      "Test Episode 2 Reward: 269.0\n",
      "Test Episode 3 Reward: 217.0\n",
      "Test Episode 4 Reward: 269.0\n",
      "Test Episode 5 Reward: 176.0\n",
      "Test Episode 6 Reward: 222.0\n",
      "Test Episode 7 Reward: 269.0\n",
      "Test Episode 8 Reward: 269.0\n",
      "Test Episode 9 Reward: 227.0\n",
      "Test Episode 10 Reward: 155.0\n",
      "Test Episode 11 Reward: 180.0\n",
      "Test Episode 12 Reward: 188.0\n",
      "Test Episode 13 Reward: 133.0\n",
      "Test Episode 14 Reward: 269.0\n",
      "Test Episode 15 Reward: 152.0\n",
      "Test Episode 16 Reward: 181.0\n",
      "Test Episode 17 Reward: 269.0\n",
      "Test Episode 18 Reward: 269.0\n",
      "Test Episode 19 Reward: 269.0\n",
      "Test Episode 20 Reward: 269.0\n",
      "Epoch checkpoints\\take_cover.ckpt-70 Average Test Reward: 226.05\n",
      "Loading model from checkpoints\\take_cover.ckpt-80\n",
      "INFO:tensorflow:Restoring parameters from checkpoints\\take_cover.ckpt-80\n",
      "Test Episode 1 Reward: 239.0\n",
      "Test Episode 2 Reward: 239.0\n",
      "Test Episode 3 Reward: 239.0\n",
      "Test Episode 4 Reward: 157.0\n",
      "Test Episode 5 Reward: 289.0\n",
      "Test Episode 6 Reward: 239.0\n",
      "Test Episode 7 Reward: 168.0\n",
      "Test Episode 8 Reward: 239.0\n",
      "Test Episode 9 Reward: 354.0\n",
      "Test Episode 10 Reward: 239.0\n",
      "Test Episode 11 Reward: 390.0\n",
      "Test Episode 12 Reward: 239.0\n",
      "Test Episode 13 Reward: 126.0\n",
      "Test Episode 14 Reward: 416.0\n",
      "Test Episode 15 Reward: 149.0\n",
      "Test Episode 16 Reward: 128.0\n",
      "Test Episode 17 Reward: 373.0\n",
      "Test Episode 18 Reward: 212.0\n",
      "Test Episode 19 Reward: 262.0\n",
      "Test Episode 20 Reward: 239.0\n",
      "Epoch checkpoints\\take_cover.ckpt-80 Average Test Reward: 246.8\n",
      "Loading model from checkpoints\\take_cover.ckpt-90\n",
      "INFO:tensorflow:Restoring parameters from checkpoints\\take_cover.ckpt-90\n",
      "Test Episode 1 Reward: 345.0\n",
      "Test Episode 2 Reward: 1158.0\n",
      "Test Episode 3 Reward: 1158.0\n",
      "Test Episode 4 Reward: 1158.0\n",
      "Test Episode 5 Reward: 1158.0\n",
      "Test Episode 6 Reward: 1158.0\n",
      "Test Episode 7 Reward: 1158.0\n",
      "Test Episode 8 Reward: 282.0\n",
      "Test Episode 9 Reward: 605.0\n",
      "Test Episode 10 Reward: 1158.0\n",
      "Test Episode 11 Reward: 383.0\n",
      "Test Episode 12 Reward: 116.0\n",
      "Test Episode 13 Reward: 331.0\n",
      "Test Episode 14 Reward: 1158.0\n",
      "Test Episode 15 Reward: 1158.0\n",
      "Test Episode 16 Reward: 1158.0\n",
      "Test Episode 17 Reward: 1158.0\n",
      "Test Episode 18 Reward: 1158.0\n",
      "Test Episode 19 Reward: 895.0\n",
      "Test Episode 20 Reward: 203.0\n",
      "Epoch checkpoints\\take_cover.ckpt-90 Average Test Reward: 852.8\n",
      "Loading model from checkpoints\\take_cover.ckpt-100\n",
      "INFO:tensorflow:Restoring parameters from checkpoints\\take_cover.ckpt-100\n",
      "Test Episode 1 Reward: 162.0\n",
      "Test Episode 2 Reward: 174.0\n",
      "Test Episode 3 Reward: 331.0\n",
      "Test Episode 4 Reward: 163.0\n",
      "Test Episode 5 Reward: 232.0\n",
      "Test Episode 6 Reward: 219.0\n",
      "Test Episode 7 Reward: 173.0\n",
      "Test Episode 8 Reward: 232.0\n",
      "Test Episode 9 Reward: 269.0\n",
      "Test Episode 10 Reward: 232.0\n",
      "Test Episode 11 Reward: 235.0\n",
      "Test Episode 12 Reward: 203.0\n",
      "Test Episode 13 Reward: 225.0\n",
      "Test Episode 14 Reward: 196.0\n",
      "Test Episode 15 Reward: 232.0\n",
      "Test Episode 16 Reward: 232.0\n",
      "Test Episode 17 Reward: 157.0\n",
      "Test Episode 18 Reward: 292.0\n",
      "Test Episode 19 Reward: 249.0\n",
      "Test Episode 20 Reward: 202.0\n",
      "Epoch checkpoints\\take_cover.ckpt-100 Average Test Reward: 220.5\n",
      "Loading model from checkpoints\\take_cover.ckpt-110\n",
      "INFO:tensorflow:Restoring parameters from checkpoints\\take_cover.ckpt-110\n",
      "Test Episode 1 Reward: 476.0\n",
      "Test Episode 2 Reward: 476.0\n",
      "Test Episode 3 Reward: 476.0\n",
      "Test Episode 4 Reward: 476.0\n",
      "Test Episode 5 Reward: 423.0\n",
      "Test Episode 6 Reward: 476.0\n",
      "Test Episode 7 Reward: 380.0\n",
      "Test Episode 8 Reward: 476.0\n",
      "Test Episode 9 Reward: 476.0\n"
     ]
    },
    {
     "name": "stdout",
     "output_type": "stream",
     "text": [
      "Test Episode 10 Reward: 476.0\n",
      "Test Episode 11 Reward: 108.0\n",
      "Test Episode 12 Reward: 263.0\n",
      "Test Episode 13 Reward: 476.0\n",
      "Test Episode 14 Reward: 476.0\n",
      "Test Episode 15 Reward: 181.0\n",
      "Test Episode 16 Reward: 517.0\n",
      "Test Episode 17 Reward: 476.0\n",
      "Test Episode 18 Reward: 476.0\n",
      "Test Episode 19 Reward: 126.0\n",
      "Test Episode 20 Reward: 643.0\n",
      "Epoch checkpoints\\take_cover.ckpt-110 Average Test Reward: 417.65\n",
      "Loading model from checkpoints\\take_cover.ckpt-120\n",
      "INFO:tensorflow:Restoring parameters from checkpoints\\take_cover.ckpt-120\n",
      "Test Episode 1 Reward: 255.0\n",
      "Test Episode 2 Reward: 493.0\n",
      "Test Episode 3 Reward: 357.0\n",
      "Test Episode 4 Reward: 493.0\n",
      "Test Episode 5 Reward: 493.0\n",
      "Test Episode 6 Reward: 493.0\n",
      "Test Episode 7 Reward: 388.0\n",
      "Test Episode 8 Reward: 192.0\n",
      "Test Episode 9 Reward: 493.0\n",
      "Test Episode 10 Reward: 493.0\n",
      "Test Episode 11 Reward: 129.0\n",
      "Test Episode 12 Reward: 233.0\n",
      "Test Episode 13 Reward: 493.0\n",
      "Test Episode 14 Reward: 662.0\n",
      "Test Episode 15 Reward: 356.0\n",
      "Test Episode 16 Reward: 256.0\n",
      "Test Episode 17 Reward: 493.0\n",
      "Test Episode 18 Reward: 273.0\n",
      "Test Episode 19 Reward: 493.0\n",
      "Test Episode 20 Reward: 493.0\n",
      "Epoch checkpoints\\take_cover.ckpt-120 Average Test Reward: 401.55\n",
      "Loading model from checkpoints\\take_cover.ckpt-130\n",
      "INFO:tensorflow:Restoring parameters from checkpoints\\take_cover.ckpt-130\n",
      "Test Episode 1 Reward: 241.0\n",
      "Test Episode 2 Reward: 534.0\n",
      "Test Episode 3 Reward: 534.0\n",
      "Test Episode 4 Reward: 270.0\n",
      "Test Episode 5 Reward: 534.0\n",
      "Test Episode 6 Reward: 534.0\n",
      "Test Episode 7 Reward: 534.0\n",
      "Test Episode 8 Reward: 630.0\n",
      "Test Episode 9 Reward: 235.0\n",
      "Test Episode 10 Reward: 534.0\n",
      "Test Episode 11 Reward: 534.0\n",
      "Test Episode 12 Reward: 534.0\n",
      "Test Episode 13 Reward: 175.0\n",
      "Test Episode 14 Reward: 281.0\n",
      "Test Episode 15 Reward: 145.0\n",
      "Test Episode 16 Reward: 307.0\n",
      "Test Episode 17 Reward: 130.0\n",
      "Test Episode 18 Reward: 574.0\n",
      "Test Episode 19 Reward: 534.0\n",
      "Test Episode 20 Reward: 534.0\n",
      "Epoch checkpoints\\take_cover.ckpt-130 Average Test Reward: 416.4\n",
      "Loading model from checkpoints\\take_cover.ckpt-140\n",
      "INFO:tensorflow:Restoring parameters from checkpoints\\take_cover.ckpt-140\n",
      "Test Episode 1 Reward: 271.0\n",
      "Test Episode 2 Reward: 552.0\n",
      "Test Episode 3 Reward: 197.0\n",
      "Test Episode 4 Reward: 212.0\n",
      "Test Episode 5 Reward: 121.0\n",
      "Test Episode 6 Reward: 318.0\n",
      "Test Episode 7 Reward: 330.0\n",
      "Test Episode 8 Reward: 192.0\n",
      "Test Episode 9 Reward: 340.0\n",
      "Test Episode 10 Reward: 330.0\n",
      "Test Episode 11 Reward: 330.0\n",
      "Test Episode 12 Reward: 216.0\n",
      "Test Episode 13 Reward: 330.0\n",
      "Test Episode 14 Reward: 539.0\n",
      "Test Episode 15 Reward: 374.0\n",
      "Test Episode 16 Reward: 358.0\n",
      "Test Episode 17 Reward: 330.0\n",
      "Test Episode 18 Reward: 433.0\n",
      "Test Episode 19 Reward: 370.0\n",
      "Test Episode 20 Reward: 311.0\n",
      "Epoch checkpoints\\take_cover.ckpt-140 Average Test Reward: 322.7\n",
      "Loading model from checkpoints\\take_cover.ckpt-150\n",
      "INFO:tensorflow:Restoring parameters from checkpoints\\take_cover.ckpt-150\n",
      "Test Episode 1 Reward: 308.0\n",
      "Test Episode 2 Reward: 267.0\n",
      "Test Episode 3 Reward: 672.0\n",
      "Test Episode 4 Reward: 672.0\n",
      "Test Episode 5 Reward: 672.0\n",
      "Test Episode 6 Reward: 672.0\n",
      "Test Episode 7 Reward: 560.0\n",
      "Test Episode 8 Reward: 672.0\n",
      "Test Episode 9 Reward: 323.0\n",
      "Test Episode 10 Reward: 672.0\n",
      "Test Episode 11 Reward: 432.0\n",
      "Test Episode 12 Reward: 672.0\n",
      "Test Episode 13 Reward: 270.0\n",
      "Test Episode 14 Reward: 672.0\n",
      "Test Episode 15 Reward: 672.0\n",
      "Test Episode 16 Reward: 672.0\n",
      "Test Episode 17 Reward: 672.0\n",
      "Test Episode 18 Reward: 264.0\n",
      "Test Episode 19 Reward: 672.0\n",
      "Test Episode 20 Reward: 672.0\n",
      "Epoch checkpoints\\take_cover.ckpt-150 Average Test Reward: 558.0\n",
      "Loading model from checkpoints\\take_cover.ckpt-160\n",
      "INFO:tensorflow:Restoring parameters from checkpoints\\take_cover.ckpt-160\n",
      "Test Episode 1 Reward: 217.0\n",
      "Test Episode 2 Reward: 346.0\n",
      "Test Episode 3 Reward: 346.0\n",
      "Test Episode 4 Reward: 346.0\n",
      "Test Episode 5 Reward: 169.0\n",
      "Test Episode 6 Reward: 432.0\n",
      "Test Episode 7 Reward: 495.0\n",
      "Test Episode 8 Reward: 217.0\n",
      "Test Episode 9 Reward: 115.0\n",
      "Test Episode 10 Reward: 703.0\n",
      "Test Episode 11 Reward: 182.0\n",
      "Test Episode 12 Reward: 346.0\n",
      "Test Episode 13 Reward: 346.0\n",
      "Test Episode 14 Reward: 346.0\n",
      "Test Episode 15 Reward: 346.0\n",
      "Test Episode 16 Reward: 346.0\n",
      "Test Episode 17 Reward: 384.0\n",
      "Test Episode 18 Reward: 346.0\n",
      "Test Episode 19 Reward: 477.0\n",
      "Test Episode 20 Reward: 346.0\n",
      "Epoch checkpoints\\take_cover.ckpt-160 Average Test Reward: 342.55\n",
      "Loading model from checkpoints\\take_cover.ckpt-170\n",
      "INFO:tensorflow:Restoring parameters from checkpoints\\take_cover.ckpt-170\n",
      "Test Episode 1 Reward: 299.0\n",
      "Test Episode 2 Reward: 299.0\n",
      "Test Episode 3 Reward: 355.0\n",
      "Test Episode 4 Reward: 228.0\n",
      "Test Episode 5 Reward: 299.0\n",
      "Test Episode 6 Reward: 303.0\n",
      "Test Episode 7 Reward: 268.0\n",
      "Test Episode 8 Reward: 299.0\n",
      "Test Episode 9 Reward: 318.0\n",
      "Test Episode 10 Reward: 170.0\n",
      "Test Episode 11 Reward: 299.0\n",
      "Test Episode 12 Reward: 299.0\n",
      "Test Episode 13 Reward: 299.0\n",
      "Test Episode 14 Reward: 556.0\n",
      "Test Episode 15 Reward: 557.0\n",
      "Test Episode 16 Reward: 299.0\n",
      "Test Episode 17 Reward: 188.0\n",
      "Test Episode 18 Reward: 260.0\n",
      "Test Episode 19 Reward: 282.0\n",
      "Test Episode 20 Reward: 299.0\n",
      "Epoch checkpoints\\take_cover.ckpt-170 Average Test Reward: 308.8\n",
      "Loading model from checkpoints\\take_cover.ckpt-180\n",
      "INFO:tensorflow:Restoring parameters from checkpoints\\take_cover.ckpt-180\n",
      "Test Episode 1 Reward: 222.0\n",
      "Test Episode 2 Reward: 378.0\n",
      "Test Episode 3 Reward: 324.0\n",
      "Test Episode 4 Reward: 169.0\n",
      "Test Episode 5 Reward: 187.0\n",
      "Test Episode 6 Reward: 474.0\n",
      "Test Episode 7 Reward: 474.0\n",
      "Test Episode 8 Reward: 290.0\n",
      "Test Episode 9 Reward: 130.0\n",
      "Test Episode 10 Reward: 474.0\n",
      "Test Episode 11 Reward: 111.0\n",
      "Test Episode 12 Reward: 474.0\n",
      "Test Episode 13 Reward: 474.0\n",
      "Test Episode 14 Reward: 474.0\n",
      "Test Episode 15 Reward: 474.0\n",
      "Test Episode 16 Reward: 474.0\n",
      "Test Episode 17 Reward: 159.0\n",
      "Test Episode 18 Reward: 474.0\n",
      "Test Episode 19 Reward: 474.0\n",
      "Test Episode 20 Reward: 474.0\n",
      "Epoch checkpoints\\take_cover.ckpt-180 Average Test Reward: 359.2\n",
      "Loading model from checkpoints\\take_cover.ckpt-190\n",
      "INFO:tensorflow:Restoring parameters from checkpoints\\take_cover.ckpt-190\n",
      "Test Episode 1 Reward: 295.0\n",
      "Test Episode 2 Reward: 191.0\n",
      "Test Episode 3 Reward: 248.0\n",
      "Test Episode 4 Reward: 180.0\n",
      "Test Episode 5 Reward: 232.0\n",
      "Test Episode 6 Reward: 380.0\n",
      "Test Episode 7 Reward: 149.0\n",
      "Test Episode 8 Reward: 232.0\n",
      "Test Episode 9 Reward: 232.0\n",
      "Test Episode 10 Reward: 193.0\n",
      "Test Episode 11 Reward: 232.0\n",
      "Test Episode 12 Reward: 248.0\n",
      "Test Episode 13 Reward: 222.0\n",
      "Test Episode 14 Reward: 407.0\n",
      "Test Episode 15 Reward: 232.0\n",
      "Test Episode 16 Reward: 179.0\n",
      "Test Episode 17 Reward: 229.0\n",
      "Test Episode 18 Reward: 232.0\n",
      "Test Episode 19 Reward: 169.0\n",
      "Test Episode 20 Reward: 160.0\n",
      "Epoch checkpoints\\take_cover.ckpt-190 Average Test Reward: 232.1\n",
      "Loading model from checkpoints\\take_cover.ckpt-200\n",
      "INFO:tensorflow:Restoring parameters from checkpoints\\take_cover.ckpt-200\n",
      "Test Episode 1 Reward: 232.0\n",
      "Test Episode 2 Reward: 232.0\n",
      "Test Episode 3 Reward: 322.0\n",
      "Test Episode 4 Reward: 194.0\n",
      "Test Episode 5 Reward: 199.0\n",
      "Test Episode 6 Reward: 232.0\n",
      "Test Episode 7 Reward: 297.0\n",
      "Test Episode 8 Reward: 202.0\n",
      "Test Episode 9 Reward: 232.0\n",
      "Test Episode 10 Reward: 187.0\n",
      "Test Episode 11 Reward: 232.0\n",
      "Test Episode 12 Reward: 469.0\n",
      "Test Episode 13 Reward: 346.0\n",
      "Test Episode 14 Reward: 232.0\n",
      "Test Episode 15 Reward: 232.0\n",
      "Test Episode 16 Reward: 232.0\n",
      "Test Episode 17 Reward: 232.0\n",
      "Test Episode 18 Reward: 232.0\n",
      "Test Episode 19 Reward: 232.0\n",
      "Test Episode 20 Reward: 219.0\n",
      "Epoch checkpoints\\take_cover.ckpt-200 Average Test Reward: 249.35\n",
      "Loading model from checkpoints\\take_cover.ckpt-210\n",
      "INFO:tensorflow:Restoring parameters from checkpoints\\take_cover.ckpt-210\n",
      "Test Episode 1 Reward: 464.0\n",
      "Test Episode 2 Reward: 464.0\n",
      "Test Episode 3 Reward: 146.0\n",
      "Test Episode 4 Reward: 230.0\n",
      "Test Episode 5 Reward: 464.0\n",
      "Test Episode 6 Reward: 298.0\n",
      "Test Episode 7 Reward: 464.0\n",
      "Test Episode 8 Reward: 129.0\n",
      "Test Episode 9 Reward: 464.0\n",
      "Test Episode 10 Reward: 464.0\n",
      "Test Episode 11 Reward: 464.0\n",
      "Test Episode 12 Reward: 464.0\n",
      "Test Episode 13 Reward: 752.0\n",
      "Test Episode 14 Reward: 271.0\n",
      "Test Episode 15 Reward: 464.0\n",
      "Test Episode 16 Reward: 310.0\n",
      "Test Episode 17 Reward: 218.0\n",
      "Test Episode 18 Reward: 464.0\n",
      "Test Episode 19 Reward: 464.0\n",
      "Test Episode 20 Reward: 204.0\n"
     ]
    },
    {
     "name": "stdout",
     "output_type": "stream",
     "text": [
      "Epoch checkpoints\\take_cover.ckpt-210 Average Test Reward: 383.1\n",
      "Loading model from checkpoints\\take_cover.ckpt-220\n",
      "INFO:tensorflow:Restoring parameters from checkpoints\\take_cover.ckpt-220\n",
      "Test Episode 1 Reward: 232.0\n",
      "Test Episode 2 Reward: 117.0\n",
      "Test Episode 3 Reward: 232.0\n",
      "Test Episode 4 Reward: 232.0\n",
      "Test Episode 5 Reward: 232.0\n",
      "Test Episode 6 Reward: 124.0\n",
      "Test Episode 7 Reward: 224.0\n",
      "Test Episode 8 Reward: 232.0\n",
      "Test Episode 9 Reward: 232.0\n",
      "Test Episode 10 Reward: 277.0\n",
      "Test Episode 11 Reward: 232.0\n",
      "Test Episode 12 Reward: 232.0\n",
      "Test Episode 13 Reward: 135.0\n",
      "Test Episode 14 Reward: 248.0\n",
      "Test Episode 15 Reward: 232.0\n",
      "Test Episode 16 Reward: 181.0\n",
      "Test Episode 17 Reward: 232.0\n",
      "Test Episode 18 Reward: 232.0\n",
      "Test Episode 19 Reward: 232.0\n",
      "Test Episode 20 Reward: 208.0\n",
      "Epoch checkpoints\\take_cover.ckpt-220 Average Test Reward: 214.9\n",
      "Loading model from checkpoints\\take_cover.ckpt-230\n",
      "INFO:tensorflow:Restoring parameters from checkpoints\\take_cover.ckpt-230\n",
      "Test Episode 1 Reward: 668.0\n",
      "Test Episode 2 Reward: 185.0\n",
      "Test Episode 3 Reward: 668.0\n",
      "Test Episode 4 Reward: 668.0\n",
      "Test Episode 5 Reward: 280.0\n",
      "Test Episode 6 Reward: 668.0\n",
      "Test Episode 7 Reward: 114.0\n",
      "Test Episode 8 Reward: 191.0\n",
      "Test Episode 9 Reward: 159.0\n",
      "Test Episode 10 Reward: 236.0\n",
      "Test Episode 11 Reward: 409.0\n",
      "Test Episode 12 Reward: 668.0\n",
      "Test Episode 13 Reward: 668.0\n",
      "Test Episode 14 Reward: 138.0\n",
      "Test Episode 15 Reward: 488.0\n",
      "Test Episode 16 Reward: 107.0\n",
      "Test Episode 17 Reward: 668.0\n",
      "Test Episode 18 Reward: 668.0\n",
      "Test Episode 19 Reward: 158.0\n",
      "Test Episode 20 Reward: 265.0\n",
      "Epoch checkpoints\\take_cover.ckpt-230 Average Test Reward: 403.7\n",
      "Loading model from checkpoints\\take_cover.ckpt-240\n",
      "INFO:tensorflow:Restoring parameters from checkpoints\\take_cover.ckpt-240\n",
      "Test Episode 1 Reward: 995.0\n",
      "Test Episode 2 Reward: 995.0\n",
      "Test Episode 3 Reward: 109.0\n",
      "Test Episode 4 Reward: 995.0\n",
      "Test Episode 5 Reward: 471.0\n",
      "Test Episode 6 Reward: 176.0\n",
      "Test Episode 7 Reward: 188.0\n",
      "Test Episode 8 Reward: 995.0\n",
      "Test Episode 9 Reward: 995.0\n",
      "Test Episode 10 Reward: 995.0\n",
      "Test Episode 11 Reward: 995.0\n",
      "Test Episode 12 Reward: 190.0\n",
      "Test Episode 13 Reward: 995.0\n",
      "Test Episode 14 Reward: 271.0\n",
      "Test Episode 15 Reward: 299.0\n",
      "Test Episode 16 Reward: 995.0\n",
      "Test Episode 17 Reward: 995.0\n",
      "Test Episode 18 Reward: 122.0\n",
      "Test Episode 19 Reward: 995.0\n",
      "Test Episode 20 Reward: 379.0\n",
      "Epoch checkpoints\\take_cover.ckpt-240 Average Test Reward: 657.5\n",
      "Loading model from checkpoints\\take_cover.ckpt-250\n",
      "INFO:tensorflow:Restoring parameters from checkpoints\\take_cover.ckpt-250\n",
      "Test Episode 1 Reward: 340.0\n",
      "Test Episode 2 Reward: 443.0\n",
      "Test Episode 3 Reward: 340.0\n",
      "Test Episode 4 Reward: 340.0\n",
      "Test Episode 5 Reward: 295.0\n",
      "Test Episode 6 Reward: 164.0\n",
      "Test Episode 7 Reward: 200.0\n",
      "Test Episode 8 Reward: 340.0\n",
      "Test Episode 9 Reward: 340.0\n",
      "Test Episode 10 Reward: 470.0\n",
      "Test Episode 11 Reward: 210.0\n",
      "Test Episode 12 Reward: 340.0\n",
      "Test Episode 13 Reward: 268.0\n",
      "Test Episode 14 Reward: 340.0\n",
      "Test Episode 15 Reward: 160.0\n",
      "Test Episode 16 Reward: 252.0\n",
      "Test Episode 17 Reward: 340.0\n",
      "Test Episode 18 Reward: 303.0\n",
      "Test Episode 19 Reward: 340.0\n",
      "Test Episode 20 Reward: 340.0\n",
      "Epoch checkpoints\\take_cover.ckpt-250 Average Test Reward: 308.25\n",
      "Loading model from checkpoints\\take_cover.ckpt-260\n",
      "INFO:tensorflow:Restoring parameters from checkpoints\\take_cover.ckpt-260\n",
      "Test Episode 1 Reward: 312.0\n",
      "Test Episode 2 Reward: 532.0\n",
      "Test Episode 3 Reward: 164.0\n",
      "Test Episode 4 Reward: 223.0\n",
      "Test Episode 5 Reward: 532.0\n",
      "Test Episode 6 Reward: 459.0\n",
      "Test Episode 7 Reward: 391.0\n",
      "Test Episode 8 Reward: 532.0\n",
      "Test Episode 9 Reward: 532.0\n",
      "Test Episode 10 Reward: 286.0\n",
      "Test Episode 11 Reward: 205.0\n",
      "Test Episode 12 Reward: 532.0\n",
      "Test Episode 13 Reward: 532.0\n",
      "Test Episode 14 Reward: 349.0\n",
      "Test Episode 15 Reward: 269.0\n",
      "Test Episode 16 Reward: 364.0\n",
      "Test Episode 17 Reward: 532.0\n",
      "Test Episode 18 Reward: 289.0\n",
      "Test Episode 19 Reward: 238.0\n",
      "Test Episode 20 Reward: 532.0\n",
      "Epoch checkpoints\\take_cover.ckpt-260 Average Test Reward: 390.25\n",
      "Loading model from checkpoints\\take_cover.ckpt-270\n",
      "INFO:tensorflow:Restoring parameters from checkpoints\\take_cover.ckpt-270\n",
      "Test Episode 1 Reward: 215.0\n",
      "Test Episode 2 Reward: 500.0\n",
      "Test Episode 3 Reward: 500.0\n",
      "Test Episode 4 Reward: 500.0\n",
      "Test Episode 5 Reward: 225.0\n",
      "Test Episode 6 Reward: 500.0\n",
      "Test Episode 7 Reward: 1101.0\n",
      "Test Episode 8 Reward: 473.0\n",
      "Test Episode 9 Reward: 304.0\n",
      "Test Episode 10 Reward: 245.0\n",
      "Test Episode 11 Reward: 500.0\n",
      "Test Episode 12 Reward: 500.0\n",
      "Test Episode 13 Reward: 630.0\n",
      "Test Episode 14 Reward: 500.0\n",
      "Test Episode 15 Reward: 194.0\n",
      "Test Episode 16 Reward: 209.0\n",
      "Test Episode 17 Reward: 245.0\n",
      "Test Episode 18 Reward: 109.0\n",
      "Test Episode 19 Reward: 175.0\n",
      "Test Episode 20 Reward: 266.0\n",
      "Epoch checkpoints\\take_cover.ckpt-270 Average Test Reward: 394.55\n",
      "Loading model from checkpoints\\take_cover.ckpt-280\n",
      "INFO:tensorflow:Restoring parameters from checkpoints\\take_cover.ckpt-280\n",
      "Test Episode 1 Reward: 515.0\n",
      "Test Episode 2 Reward: 175.0\n",
      "Test Episode 3 Reward: 475.0\n",
      "Test Episode 4 Reward: 515.0\n",
      "Test Episode 5 Reward: 515.0\n",
      "Test Episode 6 Reward: 252.0\n",
      "Test Episode 7 Reward: 479.0\n",
      "Test Episode 8 Reward: 376.0\n",
      "Test Episode 9 Reward: 515.0\n",
      "Test Episode 10 Reward: 515.0\n",
      "Test Episode 11 Reward: 570.0\n",
      "Test Episode 12 Reward: 671.0\n",
      "Test Episode 13 Reward: 515.0\n",
      "Test Episode 14 Reward: 274.0\n",
      "Test Episode 15 Reward: 515.0\n",
      "Test Episode 16 Reward: 161.0\n",
      "Test Episode 17 Reward: 515.0\n",
      "Test Episode 18 Reward: 515.0\n",
      "Test Episode 19 Reward: 515.0\n",
      "Test Episode 20 Reward: 515.0\n",
      "Epoch checkpoints\\take_cover.ckpt-280 Average Test Reward: 454.9\n",
      "Loading model from checkpoints\\take_cover.ckpt-290\n",
      "INFO:tensorflow:Restoring parameters from checkpoints\\take_cover.ckpt-290\n",
      "Test Episode 1 Reward: 156.0\n",
      "Test Episode 2 Reward: 238.0\n",
      "Test Episode 3 Reward: 224.0\n",
      "Test Episode 4 Reward: 252.0\n",
      "Test Episode 5 Reward: 499.0\n",
      "Test Episode 6 Reward: 192.0\n",
      "Test Episode 7 Reward: 273.0\n",
      "Test Episode 8 Reward: 202.0\n",
      "Test Episode 9 Reward: 688.0\n",
      "Test Episode 10 Reward: 499.0\n",
      "Test Episode 11 Reward: 499.0\n",
      "Test Episode 12 Reward: 388.0\n",
      "Test Episode 13 Reward: 172.0\n",
      "Test Episode 14 Reward: 309.0\n",
      "Test Episode 15 Reward: 499.0\n",
      "Test Episode 16 Reward: 499.0\n",
      "Test Episode 17 Reward: 109.0\n",
      "Test Episode 18 Reward: 491.0\n",
      "Test Episode 19 Reward: 499.0\n",
      "Test Episode 20 Reward: 238.0\n",
      "Epoch checkpoints\\take_cover.ckpt-290 Average Test Reward: 346.3\n",
      "Loading model from checkpoints\\take_cover.ckpt-300\n",
      "INFO:tensorflow:Restoring parameters from checkpoints\\take_cover.ckpt-300\n",
      "Test Episode 1 Reward: 348.0\n",
      "Test Episode 2 Reward: 348.0\n",
      "Test Episode 3 Reward: 170.0\n",
      "Test Episode 4 Reward: 492.0\n",
      "Test Episode 5 Reward: 348.0\n",
      "Test Episode 6 Reward: 348.0\n",
      "Test Episode 7 Reward: 147.0\n",
      "Test Episode 8 Reward: 173.0\n",
      "Test Episode 9 Reward: 348.0\n",
      "Test Episode 10 Reward: 205.0\n",
      "Test Episode 11 Reward: 348.0\n",
      "Test Episode 12 Reward: 348.0\n",
      "Test Episode 13 Reward: 396.0\n",
      "Test Episode 14 Reward: 348.0\n",
      "Test Episode 15 Reward: 317.0\n",
      "Test Episode 16 Reward: 348.0\n",
      "Test Episode 17 Reward: 348.0\n",
      "Test Episode 18 Reward: 348.0\n",
      "Test Episode 19 Reward: 227.0\n",
      "Test Episode 20 Reward: 208.0\n",
      "Epoch checkpoints\\take_cover.ckpt-300 Average Test Reward: 308.15\n",
      "Loading model from checkpoints\\take_cover.ckpt-310\n",
      "INFO:tensorflow:Restoring parameters from checkpoints\\take_cover.ckpt-310\n",
      "Test Episode 1 Reward: 532.0\n",
      "Test Episode 2 Reward: 532.0\n",
      "Test Episode 3 Reward: 713.0\n",
      "Test Episode 4 Reward: 247.0\n",
      "Test Episode 5 Reward: 109.0\n",
      "Test Episode 6 Reward: 299.0\n",
      "Test Episode 7 Reward: 641.0\n",
      "Test Episode 8 Reward: 532.0\n",
      "Test Episode 9 Reward: 532.0\n",
      "Test Episode 10 Reward: 532.0\n",
      "Test Episode 11 Reward: 532.0\n",
      "Test Episode 12 Reward: 532.0\n",
      "Test Episode 13 Reward: 532.0\n",
      "Test Episode 14 Reward: 409.0\n",
      "Test Episode 15 Reward: 419.0\n",
      "Test Episode 16 Reward: 572.0\n",
      "Test Episode 17 Reward: 227.0\n",
      "Test Episode 18 Reward: 532.0\n",
      "Test Episode 19 Reward: 304.0\n",
      "Test Episode 20 Reward: 532.0\n",
      "Epoch checkpoints\\take_cover.ckpt-310 Average Test Reward: 463.0\n",
      "Loading model from checkpoints\\take_cover.ckpt-320\n",
      "INFO:tensorflow:Restoring parameters from checkpoints\\take_cover.ckpt-320\n",
      "Test Episode 1 Reward: 107.0\n",
      "Test Episode 2 Reward: 139.0\n",
      "Test Episode 3 Reward: 113.0\n",
      "Test Episode 4 Reward: 326.0\n",
      "Test Episode 5 Reward: 271.0\n",
      "Test Episode 6 Reward: 119.0\n"
     ]
    },
    {
     "name": "stdout",
     "output_type": "stream",
     "text": [
      "Test Episode 7 Reward: 267.0\n",
      "Test Episode 8 Reward: 324.0\n",
      "Test Episode 9 Reward: 341.0\n",
      "Test Episode 10 Reward: 132.0\n",
      "Test Episode 11 Reward: 324.0\n",
      "Test Episode 12 Reward: 324.0\n",
      "Test Episode 13 Reward: 324.0\n",
      "Test Episode 14 Reward: 225.0\n",
      "Test Episode 15 Reward: 324.0\n",
      "Test Episode 16 Reward: 126.0\n",
      "Test Episode 17 Reward: 324.0\n",
      "Test Episode 18 Reward: 162.0\n",
      "Test Episode 19 Reward: 193.0\n",
      "Test Episode 20 Reward: 324.0\n",
      "Epoch checkpoints\\take_cover.ckpt-320 Average Test Reward: 239.45\n",
      "Loading model from checkpoints\\take_cover.ckpt-330\n",
      "INFO:tensorflow:Restoring parameters from checkpoints\\take_cover.ckpt-330\n",
      "Test Episode 1 Reward: 288.0\n",
      "Test Episode 2 Reward: 535.0\n",
      "Test Episode 3 Reward: 535.0\n",
      "Test Episode 4 Reward: 344.0\n",
      "Test Episode 5 Reward: 126.0\n",
      "Test Episode 6 Reward: 535.0\n",
      "Test Episode 7 Reward: 611.0\n",
      "Test Episode 8 Reward: 535.0\n",
      "Test Episode 9 Reward: 119.0\n",
      "Test Episode 10 Reward: 307.0\n",
      "Test Episode 11 Reward: 321.0\n",
      "Test Episode 12 Reward: 535.0\n",
      "Test Episode 13 Reward: 535.0\n",
      "Test Episode 14 Reward: 535.0\n",
      "Test Episode 15 Reward: 223.0\n",
      "Test Episode 16 Reward: 535.0\n",
      "Test Episode 17 Reward: 535.0\n",
      "Test Episode 18 Reward: 535.0\n",
      "Test Episode 19 Reward: 535.0\n",
      "Test Episode 20 Reward: 535.0\n",
      "Epoch checkpoints\\take_cover.ckpt-330 Average Test Reward: 437.95\n",
      "Loading model from checkpoints\\take_cover.ckpt-340\n",
      "INFO:tensorflow:Restoring parameters from checkpoints\\take_cover.ckpt-340\n",
      "Test Episode 1 Reward: 130.0\n",
      "Test Episode 2 Reward: 410.0\n",
      "Test Episode 3 Reward: 201.0\n",
      "Test Episode 4 Reward: 410.0\n",
      "Test Episode 5 Reward: 410.0\n",
      "Test Episode 6 Reward: 336.0\n",
      "Test Episode 7 Reward: 410.0\n",
      "Test Episode 8 Reward: 236.0\n",
      "Test Episode 9 Reward: 410.0\n",
      "Test Episode 10 Reward: 475.0\n",
      "Test Episode 11 Reward: 410.0\n",
      "Test Episode 12 Reward: 410.0\n",
      "Test Episode 13 Reward: 403.0\n",
      "Test Episode 14 Reward: 410.0\n",
      "Test Episode 15 Reward: 126.0\n",
      "Test Episode 16 Reward: 416.0\n",
      "Test Episode 17 Reward: 410.0\n",
      "Test Episode 18 Reward: 410.0\n",
      "Test Episode 19 Reward: 362.0\n",
      "Test Episode 20 Reward: 410.0\n",
      "Epoch checkpoints\\take_cover.ckpt-340 Average Test Reward: 359.75\n",
      "Loading model from checkpoints\\take_cover.ckpt-350\n",
      "INFO:tensorflow:Restoring parameters from checkpoints\\take_cover.ckpt-350\n",
      "Test Episode 1 Reward: 495.0\n",
      "Test Episode 2 Reward: 495.0\n",
      "Test Episode 3 Reward: 210.0\n",
      "Test Episode 4 Reward: 157.0\n",
      "Test Episode 5 Reward: 495.0\n",
      "Test Episode 6 Reward: 326.0\n",
      "Test Episode 7 Reward: 495.0\n",
      "Test Episode 8 Reward: 633.0\n",
      "Test Episode 9 Reward: 495.0\n",
      "Test Episode 10 Reward: 463.0\n",
      "Test Episode 11 Reward: 495.0\n",
      "Test Episode 12 Reward: 495.0\n",
      "Test Episode 13 Reward: 495.0\n",
      "Test Episode 14 Reward: 268.0\n",
      "Test Episode 15 Reward: 159.0\n",
      "Test Episode 16 Reward: 469.0\n",
      "Test Episode 17 Reward: 495.0\n",
      "Test Episode 18 Reward: 204.0\n",
      "Test Episode 19 Reward: 495.0\n",
      "Test Episode 20 Reward: 495.0\n",
      "Epoch checkpoints\\take_cover.ckpt-350 Average Test Reward: 416.7\n",
      "Loading model from checkpoints\\take_cover.ckpt-360\n",
      "INFO:tensorflow:Restoring parameters from checkpoints\\take_cover.ckpt-360\n",
      "Test Episode 1 Reward: 332.0\n",
      "Test Episode 2 Reward: 332.0\n",
      "Test Episode 3 Reward: 201.0\n",
      "Test Episode 4 Reward: 112.0\n",
      "Test Episode 5 Reward: 123.0\n",
      "Test Episode 6 Reward: 128.0\n",
      "Test Episode 7 Reward: 332.0\n",
      "Test Episode 8 Reward: 332.0\n",
      "Test Episode 9 Reward: 332.0\n",
      "Test Episode 10 Reward: 332.0\n",
      "Test Episode 11 Reward: 332.0\n",
      "Test Episode 12 Reward: 155.0\n",
      "Test Episode 13 Reward: 332.0\n",
      "Test Episode 14 Reward: 332.0\n",
      "Test Episode 15 Reward: 120.0\n",
      "Test Episode 16 Reward: 194.0\n",
      "Test Episode 17 Reward: 175.0\n",
      "Test Episode 18 Reward: 110.0\n",
      "Test Episode 19 Reward: 332.0\n",
      "Test Episode 20 Reward: 332.0\n",
      "Epoch checkpoints\\take_cover.ckpt-360 Average Test Reward: 248.5\n",
      "Loading model from checkpoints\\take_cover.ckpt-370\n",
      "INFO:tensorflow:Restoring parameters from checkpoints\\take_cover.ckpt-370\n",
      "Test Episode 1 Reward: 338.0\n",
      "Test Episode 2 Reward: 338.0\n",
      "Test Episode 3 Reward: 343.0\n",
      "Test Episode 4 Reward: 577.0\n",
      "Test Episode 5 Reward: 133.0\n",
      "Test Episode 6 Reward: 338.0\n",
      "Test Episode 7 Reward: 338.0\n",
      "Test Episode 8 Reward: 237.0\n",
      "Test Episode 9 Reward: 267.0\n",
      "Test Episode 10 Reward: 227.0\n",
      "Test Episode 11 Reward: 164.0\n",
      "Test Episode 12 Reward: 204.0\n",
      "Test Episode 13 Reward: 124.0\n",
      "Test Episode 14 Reward: 338.0\n",
      "Test Episode 15 Reward: 338.0\n",
      "Test Episode 16 Reward: 125.0\n",
      "Test Episode 17 Reward: 338.0\n",
      "Test Episode 18 Reward: 968.0\n",
      "Test Episode 19 Reward: 338.0\n",
      "Test Episode 20 Reward: 338.0\n",
      "Epoch checkpoints\\take_cover.ckpt-370 Average Test Reward: 320.55\n",
      "Loading model from checkpoints\\take_cover.ckpt-380\n",
      "INFO:tensorflow:Restoring parameters from checkpoints\\take_cover.ckpt-380\n",
      "Test Episode 1 Reward: 343.0\n",
      "Test Episode 2 Reward: 343.0\n",
      "Test Episode 3 Reward: 141.0\n",
      "Test Episode 4 Reward: 453.0\n",
      "Test Episode 5 Reward: 343.0\n",
      "Test Episode 6 Reward: 643.0\n",
      "Test Episode 7 Reward: 125.0\n",
      "Test Episode 8 Reward: 300.0\n",
      "Test Episode 9 Reward: 343.0\n",
      "Test Episode 10 Reward: 171.0\n",
      "Test Episode 11 Reward: 343.0\n",
      "Test Episode 12 Reward: 144.0\n",
      "Test Episode 13 Reward: 343.0\n",
      "Test Episode 14 Reward: 343.0\n",
      "Test Episode 15 Reward: 343.0\n",
      "Test Episode 16 Reward: 343.0\n",
      "Test Episode 17 Reward: 712.0\n",
      "Test Episode 18 Reward: 458.0\n",
      "Test Episode 19 Reward: 97.0\n",
      "Test Episode 20 Reward: 343.0\n",
      "Epoch checkpoints\\take_cover.ckpt-380 Average Test Reward: 333.7\n",
      "Loading model from checkpoints\\take_cover.ckpt-390\n",
      "INFO:tensorflow:Restoring parameters from checkpoints\\take_cover.ckpt-390\n",
      "Test Episode 1 Reward: 543.0\n",
      "Test Episode 2 Reward: 508.0\n",
      "Test Episode 3 Reward: 543.0\n",
      "Test Episode 4 Reward: 543.0\n",
      "Test Episode 5 Reward: 370.0\n",
      "Test Episode 6 Reward: 467.0\n",
      "Test Episode 7 Reward: 543.0\n",
      "Test Episode 8 Reward: 288.0\n",
      "Test Episode 9 Reward: 543.0\n",
      "Test Episode 10 Reward: 543.0\n",
      "Test Episode 11 Reward: 197.0\n",
      "Test Episode 12 Reward: 495.0\n",
      "Test Episode 13 Reward: 267.0\n",
      "Test Episode 14 Reward: 168.0\n",
      "Test Episode 15 Reward: 264.0\n",
      "Test Episode 16 Reward: 543.0\n",
      "Test Episode 17 Reward: 543.0\n",
      "Test Episode 18 Reward: 543.0\n",
      "Test Episode 19 Reward: 543.0\n",
      "Test Episode 20 Reward: 716.0\n",
      "Epoch checkpoints\\take_cover.ckpt-390 Average Test Reward: 458.5\n",
      "Loading model from checkpoints\\take_cover.ckpt-400\n",
      "INFO:tensorflow:Restoring parameters from checkpoints\\take_cover.ckpt-400\n",
      "Test Episode 1 Reward: 351.0\n",
      "Test Episode 2 Reward: 421.0\n",
      "Test Episode 3 Reward: 421.0\n",
      "Test Episode 4 Reward: 421.0\n",
      "Test Episode 5 Reward: 434.0\n",
      "Test Episode 6 Reward: 421.0\n",
      "Test Episode 7 Reward: 421.0\n",
      "Test Episode 8 Reward: 286.0\n",
      "Test Episode 9 Reward: 399.0\n",
      "Test Episode 10 Reward: 421.0\n",
      "Test Episode 11 Reward: 421.0\n",
      "Test Episode 12 Reward: 421.0\n",
      "Test Episode 13 Reward: 152.0\n",
      "Test Episode 14 Reward: 159.0\n",
      "Test Episode 15 Reward: 421.0\n",
      "Test Episode 16 Reward: 421.0\n",
      "Test Episode 17 Reward: 445.0\n",
      "Test Episode 18 Reward: 421.0\n",
      "Test Episode 19 Reward: 343.0\n",
      "Test Episode 20 Reward: 222.0\n",
      "Epoch checkpoints\\take_cover.ckpt-400 Average Test Reward: 371.1\n"
     ]
    }
   ],
   "source": [
    "\"\"\"\n",
    "Delete the \"checkpoint\" file in model directory and manually specify a checkpoint file path\n",
    "if a screen resolution that's different from the one that the agent was trained on is to be used.\n",
    "\"\"\"\n",
    "\n",
    "#Get a list of checkpoints saved during training\n",
    "\n",
    "ckpts = tf.train.get_checkpoint_state('checkpoints').all_model_checkpoint_paths\n",
    "\n",
    "#Test the trained model from a certain checkpoint by only choosing actions with a greedy strategy\n",
    "\n",
    "for checkpoint in ckpts:\n",
    "    test_reward = test_agent(DQN, num_episodes=20,\n",
    "                                 training=False,\n",
    "                                 load_model=True,\n",
    "                                 depth=False,\n",
    "                                 model_dir=checkpoint)\n",
    "    print('Epoch {} Average Test Reward: {}'.format(checkpoint, test_reward))\n"
   ]
  },
  {
   "cell_type": "code",
   "execution_count": null,
   "metadata": {},
   "outputs": [],
   "source": []
  }
 ],
 "metadata": {
  "kernelspec": {
   "display_name": "Python 3 (Spyder)",
   "language": "python3",
   "name": "python3"
  },
  "language_info": {
   "codemirror_mode": {
    "name": "ipython",
    "version": 3
   },
   "file_extension": ".py",
   "mimetype": "text/x-python",
   "name": "python",
   "nbconvert_exporter": "python",
   "pygments_lexer": "ipython3",
   "version": "3.6.3"
  },
  "notify_time": "30"
 },
 "nbformat": 4,
 "nbformat_minor": 2
}
