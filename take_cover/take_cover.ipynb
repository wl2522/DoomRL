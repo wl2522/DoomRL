{
 "cells": [
  {
   "cell_type": "code",
   "execution_count": 1,
   "metadata": {
    "ExecuteTime": {
     "end_time": "2018-02-22T15:59:37.390865Z",
     "start_time": "2018-02-22T15:59:22.766515Z"
    },
    "run_control": {
     "frozen": false,
     "read_only": false
    }
   },
   "outputs": [],
   "source": [
    "import time\n",
    "\n",
    "import tensorflow as tf\n",
    "import numpy as np\n",
    "import vizdoom as vd\n",
    "\n",
    "from skimage.transform import rescale\n",
    "from tqdm import trange\n",
    "from IPython.display import HTML\n"
   ]
  },
  {
   "cell_type": "code",
   "execution_count": 2,
   "metadata": {
    "ExecuteTime": {
     "end_time": "2018-02-22T15:59:37.541015Z",
     "start_time": "2018-02-22T15:59:37.391867Z"
    },
    "run_control": {
     "frozen": false,
     "read_only": false
    }
   },
   "outputs": [],
   "source": [
    "#Specify the game scenario and the screen format/resolution\n",
    "\n",
    "game = vd.DoomGame()\n",
    "game.set_screen_format(vd.ScreenFormat.BGR24)\n",
    "game.set_screen_resolution(vd.ScreenResolution.RES_320X240)\n",
    "game.set_depth_buffer_enabled(False)\n",
    "game.load_config('take_cover.cfg')\n",
    "\n",
    "down_sample_ratio = 0.25\n",
    "width = int(game.get_screen_width()*down_sample_ratio)\n",
    "height = int(game.get_screen_height()*down_sample_ratio)\n",
    "channels = game.get_screen_channels() + int(game.is_depth_buffer_enabled())\n",
    "\n",
    "#Specify the available actions in the scenario\n",
    "\n",
    "available_actions = game.get_available_buttons()\n",
    "actions = [list(ohe) for ohe in list(np.identity(len(available_actions)))]\n",
    "num_actions = len(available_actions)\n",
    "\n",
    "#Specify the Q-network learning parameters\n",
    "\n",
    "frame_delay = 12\n",
    "buffer_size = 25000\n",
    "epochs = 400\n",
    "steps_per_epoch = 2000\n",
    "learning_rate = 0.0025\n",
    "gamma = 0\n",
    "start_epsilon = 1.0\n",
    "end_epsilon = 0.1\n",
    "batch_size = 100\n",
    "load_model = False\n",
    "save_model = True\n",
    "model_dir = './checkpoints/take_cover.ckpt'\n",
    "num_ckpts = 40\n"
   ]
  },
  {
   "cell_type": "code",
   "execution_count": 3,
   "metadata": {
    "ExecuteTime": {
     "end_time": "2018-02-22T15:59:37.894365Z",
     "start_time": "2018-02-22T15:59:37.542017Z"
    },
    "run_control": {
     "frozen": false,
     "read_only": false
    }
   },
   "outputs": [],
   "source": [
    "#Create a buffer object that holds a set of training experiences (state-action-reward tuples)\n",
    "\n",
    "class Buffer():\n",
    "    def __init__(self, size=1000):\n",
    "        self.buffer = list()\n",
    "        self.length = len(self.buffer)\n",
    "        self.size = size\n",
    "        \n",
    "#Add a new experience to the buffer (remove the oldest experience if the buffer is already full)\n",
    "        \n",
    "    def add_experience(self, experience):\n",
    "        if self.length + 1 >= self.size:\n",
    "            self.buffer[0:(self.length + 1) - self.size] = []\n",
    "        \n",
    "        self.buffer.append(experience)\n",
    "        self.length = len(self.buffer)\n",
    "            \n",
    "#Return a batch of experience arrays randomly sampled from the buffer\n",
    "            \n",
    "    def sample_buffer(self, sample_size):\n",
    "        sample = np.random.randint(self.length, size=sample_size)\n",
    "        s1 = np.concatenate([self.buffer[idx][0] for idx in sample], axis=0)\n",
    "        a = np.array([self.buffer[idx][1] for idx in sample])\n",
    "        r = np.array([self.buffer[idx][2] for idx in sample])\n",
    "        s2 = np.concatenate([self.buffer[idx][3] for idx in sample], axis=0)\n",
    "        terminal = np.array([self.buffer[idx][4] for idx in sample], dtype=np.int32)\n",
    "        \n",
    "        return s1, a, r, s2, terminal\n",
    "\n",
    "#Downsample and normalize an image array representing the game state at a given time stamp\n",
    "\n",
    "def preprocess(image, down_sample_ratio=1):\n",
    "    if float(down_sample_ratio) != 1.0:\n",
    "        image = rescale(image=image,\n",
    "                        scale=(down_sample_ratio,\n",
    "                               down_sample_ratio),\n",
    "                        mode='reflect')\n",
    "    image = image.astype(np.float32)\n",
    "    image = np.expand_dims(image, axis=0)\n",
    "\n",
    "    return image\n",
    "\n",
    "#Test the agent using a currently training or previously trained model\n",
    "\n",
    "def test_agent(model, num_episodes, load_model, depth, training=True, session=None, model_dir=None):\n",
    "    if load_model == True:\n",
    "        sess = tf.Session()\n",
    "        print('Loading model from', model_dir)\n",
    "        tf.train.Saver().restore(sess, model_dir)\n",
    "        \n",
    "#Require an existing session if a pretrained model isn't provided\n",
    "        \n",
    "    elif load_model == False:\n",
    "        sess = session\n",
    "\n",
    "    game.set_sound_enabled(True)\n",
    "    episode_rewards = list()\n",
    "    \n",
    "#Avoid reinitializing the game if this was already done by the training process\n",
    "    \n",
    "    if training == False:\n",
    "        game.init()\n",
    "\n",
    "    for i in range(num_episodes):\n",
    "        game.new_episode()\n",
    "    \n",
    "        while not game.is_episode_finished():\n",
    "            state = game.get_state()\n",
    "            \n",
    "            if depth == False:\n",
    "                state_buffer = np.moveaxis(state.screen_buffer, 0, 2)\n",
    "            \n",
    "            elif depth == True:\n",
    "                depth_buffer = state.depth_buffer\n",
    "                state_buffer = np.stack((state.screen_buffer,\n",
    "                                         depth_buffer), axis=-1)\n",
    "                \n",
    "            state1 = preprocess(state_buffer, down_sample_ratio)\n",
    "            action = model.choose_action(sess, state1)[0]\n",
    "            reward = game.make_action(actions[action])\n",
    "            \n",
    "#Add a delay between each time step so that the episodes occur at normal speed\n",
    "\n",
    "            time.sleep(0.02)\n",
    "        \n",
    "        episode_rewards.append(game.get_total_reward())\n",
    "        print('Test Episode {} Reward: {}'.format(i + 1, game.get_total_reward()))\n",
    "        time.sleep(1)\n",
    "    \n",
    "#Avoid ending the game so that the training process can continue\n",
    "    \n",
    "    if training == False:\n",
    "        game.close()\n",
    "    \n",
    "    return np.mean(episode_rewards)\n"
   ]
  },
  {
   "cell_type": "code",
   "execution_count": 4,
   "metadata": {
    "ExecuteTime": {
     "end_time": "2018-02-22T15:59:38.201672Z",
     "start_time": "2018-02-22T15:59:37.895367Z"
    },
    "run_control": {
     "frozen": false,
     "read_only": false
    }
   },
   "outputs": [],
   "source": [
    "#Create a Q-network to estimate values and choose actions for a given state\n",
    "\n",
    "class Q_network():\n",
    "    def __init__(self, network_name, height, width, channels, learning_rate=0.001):\n",
    "        self.learning_rate = learning_rate\n",
    "        self.s_t = tf.placeholder(tf.float32,\n",
    "                                  shape=[None, height, width, channels],\n",
    "                                  name=network_name + '_state'\n",
    "                                 )\n",
    "        self.a_t = tf.placeholder(tf.int32,\n",
    "                                  shape=[None],\n",
    "                                  name=network_name + '_action'\n",
    "                                 )\n",
    "        self.Q_target = tf.placeholder(tf.float32,\n",
    "                                       shape=[None, num_actions],\n",
    "                                       name=network_name + '_Q_target'\n",
    "                                      )\n",
    "\n",
    "        self.input_layer = tf.reshape(self.s_t,\n",
    "                                      [-1, height, width, channels],\n",
    "                                      name=network_name + '_input_layer'\n",
    "                                     )\n",
    "        self.conv1 = tf.layers.conv2d(inputs=self.input_layer,\n",
    "                                      filters=32,\n",
    "                                      kernel_size=[8, 8],\n",
    "                                      strides=[4, 4],\n",
    "                                      padding='valid',\n",
    "                                      activation=tf.nn.relu,\n",
    "                                      name=network_name + '_conv1_layer'\n",
    "                                     )\n",
    "        self.conv2 = tf.layers.conv2d(inputs=self.conv1,\n",
    "                                      filters=64,\n",
    "                                      kernel_size=[4, 4],\n",
    "                                      strides=[2, 2],\n",
    "                                      padding='valid',\n",
    "                                      activation=tf.nn.relu,\n",
    "                                      name=network_name + '_conv2_layer'\n",
    "                                     )\n",
    "        self.flatten = tf.layers.flatten(self.conv2,\n",
    "                                         name=network_name + '_flatten'\n",
    "                                        )\n",
    "        self.dense = tf.layers.dense(inputs=self.flatten,\n",
    "                                      units=512,\n",
    "                                      activation=tf.nn.relu,\n",
    "                                      name=network_name + '_dense1_layer'\n",
    "                                    )\n",
    "        self.Q_values = tf.layers.dense(inputs=self.dense,\n",
    "                                        units=len(actions),\n",
    "                                        activation=None,\n",
    "                                        name=network_name + '_output_layer'\n",
    "                                       )        \n",
    "    \n",
    "        self.best_action = tf.argmax(self.Q_values, 1)\n",
    "        self.loss = tf.losses.mean_squared_error(self.Q_values,\n",
    "                                                 self.Q_target)\n",
    "        self.adam = tf.train.AdamOptimizer(learning_rate=self.learning_rate,\n",
    "                                           name=network_name + '_adam'\n",
    "                                          )\n",
    "        self.train = self.adam.minimize(self.loss)\n",
    "        \n",
    "    def update_lr(self):\n",
    "        self.learning_rate = 0.98*self.learning_rate\n",
    "        \n",
    "        return self.learning_rate\n",
    "\n",
    "    def calculate_loss(self, session, s, q):\n",
    "        L, _ = session.run([self.loss, self.train],\n",
    "                           feed_dict={self.s_t: s,\n",
    "                                      self.Q_target: q})\n",
    "    \n",
    "        return L\n",
    "\n",
    "#Return the array of Q-values and the best action associated with a given state\n",
    "\n",
    "    def get_Q_values(self, session, s):\n",
    "        Q = session.run(self.Q_values,\n",
    "                        feed_dict={self.s_t: s})\n",
    "\n",
    "        return Q\n",
    "    \n",
    "    def choose_action(self, session, s):\n",
    "        a = session.run(self.best_action,\n",
    "                        feed_dict={self.s_t: s})\n",
    "    \n",
    "        return a\n",
    "    \n",
    "#Create a list of variable update operations\n",
    "\n",
    "def update_graph(variables):\n",
    "    update_ops = list()\n",
    "    \n",
    "#Assign weight values from the network created first to the one created second\n",
    "    \n",
    "    for idx, variable in enumerate(variables[:len(variables)//2]):\n",
    "        op = variable.assign(variables[idx + len(variables)//2].value())\n",
    "        update_ops.append(op)\n",
    "    \n",
    "    return update_ops\n",
    "\n",
    "#Update the target network parameters to match those of the online network\n",
    "\n",
    "def update_target(ops, session):\n",
    "    for op in update_ops:\n",
    "        session.run(op)\n"
   ]
  },
  {
   "cell_type": "code",
   "execution_count": 5,
   "metadata": {
    "ExecuteTime": {
     "end_time": "2018-02-22T15:59:41.910331Z",
     "start_time": "2018-02-22T15:59:38.202673Z"
    }
   },
   "outputs": [],
   "source": [
    "#For each time step, collect the following data:\n",
    "#The current game state\n",
    "#The action that was taken taken\n",
    "#The reward obtained from the chosen action\n",
    "#The next game state (store the first game state if the previous action ends the episode)\n",
    "#A variable indicating whether the episode is over yet\n",
    "\n",
    "\n",
    "tf.reset_default_graph()\n",
    "\n",
    "#Instantiate the target network before the online network so that it's updated correctly\n",
    "\n",
    "target_net = Q_network(network_name='target',\n",
    "                       learning_rate=learning_rate,\n",
    "                       height=height,\n",
    "                       width=width,\n",
    "                       channels=channels)\n",
    "DQN = Q_network(network_name='online',\n",
    "                learning_rate=learning_rate,\n",
    "                height=height,\n",
    "                width=width,\n",
    "                channels=channels)\n",
    "\n",
    "exp_buffer = Buffer(size=buffer_size)\n",
    "session = tf.Session()\n",
    "saver = tf.train.Saver(max_to_keep=num_ckpts, reshape=True)\n",
    "weights = tf.trainable_variables()\n",
    "\n",
    "update_ops = update_graph(weights)\n",
    "\n",
    "if load_model == True:\n",
    "    print('Loading model from', model_dir)\n",
    "    tf.train.Saver().restore(session, model_dir)\n",
    "    \n",
    "elif load_model == False:\n",
    "    session.run(tf.global_variables_initializer())\n",
    "\n",
    "game.set_sound_enabled(False)\n",
    "game.init()\n",
    "\n",
    "t = 0\n",
    "epoch_rank = list()\n"
   ]
  },
  {
   "cell_type": "code",
   "execution_count": 6,
   "metadata": {
    "ExecuteTime": {
     "end_time": "2018-02-27T02:29:12.828138Z",
     "start_time": "2018-02-22T15:59:41.911333Z"
    },
    "run_control": {
     "frozen": false,
     "read_only": false
    },
    "scrolled": true
   },
   "outputs": [
    {
     "name": "stderr",
     "output_type": "stream",
     "text": [
      "100%|██████████| 2000/2000 [15:04<00:00,  2.21it/s]\n"
     ]
    },
    {
     "name": "stdout",
     "output_type": "stream",
     "text": [
      "Epoch 1 Mean Reward: 391.6775\n"
     ]
    },
    {
     "name": "stderr",
     "output_type": "stream",
     "text": [
      "100%|██████████| 2000/2000 [15:27<00:00,  2.16it/s]\n"
     ]
    },
    {
     "name": "stdout",
     "output_type": "stream",
     "text": [
      "Epoch 2 Mean Reward: 385.7275\n"
     ]
    },
    {
     "name": "stderr",
     "output_type": "stream",
     "text": [
      "100%|██████████| 2000/2000 [13:27<00:00,  2.48it/s]\n"
     ]
    },
    {
     "name": "stdout",
     "output_type": "stream",
     "text": [
      "Epoch 3 Mean Reward: 393.2265\n"
     ]
    },
    {
     "name": "stderr",
     "output_type": "stream",
     "text": [
      "100%|██████████| 2000/2000 [12:51<00:00,  2.59it/s]\n"
     ]
    },
    {
     "name": "stdout",
     "output_type": "stream",
     "text": [
      "Epoch 4 Mean Reward: 391.9855\n"
     ]
    },
    {
     "name": "stderr",
     "output_type": "stream",
     "text": [
      "100%|██████████| 2000/2000 [15:04<00:00,  2.21it/s]\n"
     ]
    },
    {
     "name": "stdout",
     "output_type": "stream",
     "text": [
      "Epoch 5 Mean Reward: 391.52\n"
     ]
    },
    {
     "name": "stderr",
     "output_type": "stream",
     "text": [
      "100%|██████████| 2000/2000 [14:21<00:00,  2.32it/s]\n"
     ]
    },
    {
     "name": "stdout",
     "output_type": "stream",
     "text": [
      "Epoch 6 Mean Reward: 386.9865\n"
     ]
    },
    {
     "name": "stderr",
     "output_type": "stream",
     "text": [
      "100%|██████████| 2000/2000 [13:56<00:00,  2.39it/s]\n"
     ]
    },
    {
     "name": "stdout",
     "output_type": "stream",
     "text": [
      "Epoch 7 Mean Reward: 392.118\n"
     ]
    },
    {
     "name": "stderr",
     "output_type": "stream",
     "text": [
      "100%|██████████| 2000/2000 [13:36<00:00,  2.45it/s]\n"
     ]
    },
    {
     "name": "stdout",
     "output_type": "stream",
     "text": [
      "Epoch 8 Mean Reward: 389.67\n"
     ]
    },
    {
     "name": "stderr",
     "output_type": "stream",
     "text": [
      "100%|██████████| 2000/2000 [12:36<00:00,  2.64it/s]\n"
     ]
    },
    {
     "name": "stdout",
     "output_type": "stream",
     "text": [
      "Epoch 9 Mean Reward: 390.4615\n"
     ]
    },
    {
     "name": "stderr",
     "output_type": "stream",
     "text": [
      "100%|██████████| 2000/2000 [10:58<00:00,  3.04it/s]\n"
     ]
    },
    {
     "name": "stdout",
     "output_type": "stream",
     "text": [
      "Epoch 10 Mean Reward: 391.58\n",
      "Epoch 10 Model saved to ./checkpoints/take_cover.ckpt\n",
      "Epoch 10 test:\n",
      "Test Episode 1 Reward: 219.0\n",
      "Test Episode 2 Reward: 163.0\n",
      "Test Episode 3 Reward: 219.0\n",
      "Test Episode 4 Reward: 194.0\n",
      "Test Episode 5 Reward: 219.0\n",
      "Test Episode 6 Reward: 149.0\n",
      "Test Episode 7 Reward: 186.0\n",
      "Test Episode 8 Reward: 219.0\n",
      "Test Episode 9 Reward: 178.0\n",
      "Test Episode 10 Reward: 219.0\n",
      "Average Test Reward: 196.5\n"
     ]
    },
    {
     "name": "stderr",
     "output_type": "stream",
     "text": [
      "100%|██████████| 2000/2000 [10:41<00:00,  3.12it/s]\n"
     ]
    },
    {
     "name": "stdout",
     "output_type": "stream",
     "text": [
      "Epoch 11 Mean Reward: 392.217\n"
     ]
    },
    {
     "name": "stderr",
     "output_type": "stream",
     "text": [
      "100%|██████████| 2000/2000 [10:24<00:00,  3.20it/s]\n"
     ]
    },
    {
     "name": "stdout",
     "output_type": "stream",
     "text": [
      "Epoch 12 Mean Reward: 384.265\n"
     ]
    },
    {
     "name": "stderr",
     "output_type": "stream",
     "text": [
      "100%|██████████| 2000/2000 [10:37<00:00,  3.14it/s]\n"
     ]
    },
    {
     "name": "stdout",
     "output_type": "stream",
     "text": [
      "Epoch 13 Mean Reward: 393.5685\n"
     ]
    },
    {
     "name": "stderr",
     "output_type": "stream",
     "text": [
      "100%|██████████| 2000/2000 [12:10<00:00,  2.74it/s]\n"
     ]
    },
    {
     "name": "stdout",
     "output_type": "stream",
     "text": [
      "Epoch 14 Mean Reward: 392.9395\n"
     ]
    },
    {
     "name": "stderr",
     "output_type": "stream",
     "text": [
      "100%|██████████| 2000/2000 [11:46<00:00,  2.83it/s]\n"
     ]
    },
    {
     "name": "stdout",
     "output_type": "stream",
     "text": [
      "Epoch 15 Mean Reward: 390.406\n"
     ]
    },
    {
     "name": "stderr",
     "output_type": "stream",
     "text": [
      "100%|██████████| 2000/2000 [11:32<00:00,  2.89it/s]\n"
     ]
    },
    {
     "name": "stdout",
     "output_type": "stream",
     "text": [
      "Epoch 16 Mean Reward: 390.1075\n"
     ]
    },
    {
     "name": "stderr",
     "output_type": "stream",
     "text": [
      "100%|██████████| 2000/2000 [11:32<00:00,  2.89it/s]\n"
     ]
    },
    {
     "name": "stdout",
     "output_type": "stream",
     "text": [
      "Epoch 17 Mean Reward: 391.4195\n"
     ]
    },
    {
     "name": "stderr",
     "output_type": "stream",
     "text": [
      "100%|██████████| 2000/2000 [11:31<00:00,  2.89it/s]\n"
     ]
    },
    {
     "name": "stdout",
     "output_type": "stream",
     "text": [
      "Epoch 18 Mean Reward: 391.823\n"
     ]
    },
    {
     "name": "stderr",
     "output_type": "stream",
     "text": [
      "100%|██████████| 2000/2000 [11:18<00:00,  2.95it/s]\n"
     ]
    },
    {
     "name": "stdout",
     "output_type": "stream",
     "text": [
      "Epoch 19 Mean Reward: 385.63\n"
     ]
    },
    {
     "name": "stderr",
     "output_type": "stream",
     "text": [
      "100%|██████████| 2000/2000 [11:31<00:00,  2.89it/s]\n"
     ]
    },
    {
     "name": "stdout",
     "output_type": "stream",
     "text": [
      "Epoch 20 Mean Reward: 393.8265\n",
      "Epoch 20 Model saved to ./checkpoints/take_cover.ckpt\n",
      "Epoch 20 test:\n",
      "Test Episode 1 Reward: 219.0\n",
      "Test Episode 2 Reward: 170.0\n",
      "Test Episode 3 Reward: 118.0\n",
      "Test Episode 4 Reward: 219.0\n",
      "Test Episode 5 Reward: 195.0\n",
      "Test Episode 6 Reward: 227.0\n",
      "Test Episode 7 Reward: 219.0\n",
      "Test Episode 8 Reward: 219.0\n",
      "Test Episode 9 Reward: 219.0\n",
      "Test Episode 10 Reward: 219.0\n",
      "Average Test Reward: 202.4\n"
     ]
    },
    {
     "name": "stderr",
     "output_type": "stream",
     "text": [
      "100%|██████████| 2000/2000 [11:27<00:00,  2.91it/s]\n"
     ]
    },
    {
     "name": "stdout",
     "output_type": "stream",
     "text": [
      "Epoch 21 Mean Reward: 391.0555\n"
     ]
    },
    {
     "name": "stderr",
     "output_type": "stream",
     "text": [
      "100%|██████████| 2000/2000 [11:26<00:00,  2.91it/s]\n"
     ]
    },
    {
     "name": "stdout",
     "output_type": "stream",
     "text": [
      "Epoch 22 Mean Reward: 390.7535\n"
     ]
    },
    {
     "name": "stderr",
     "output_type": "stream",
     "text": [
      "100%|██████████| 2000/2000 [11:24<00:00,  2.92it/s]\n"
     ]
    },
    {
     "name": "stdout",
     "output_type": "stream",
     "text": [
      "Epoch 23 Mean Reward: 390.13\n"
     ]
    },
    {
     "name": "stderr",
     "output_type": "stream",
     "text": [
      "100%|██████████| 2000/2000 [11:17<00:00,  2.95it/s]\n"
     ]
    },
    {
     "name": "stdout",
     "output_type": "stream",
     "text": [
      "Epoch 24 Mean Reward: 385.7235\n"
     ]
    },
    {
     "name": "stderr",
     "output_type": "stream",
     "text": [
      "100%|██████████| 2000/2000 [11:20<00:00,  2.94it/s]\n"
     ]
    },
    {
     "name": "stdout",
     "output_type": "stream",
     "text": [
      "Epoch 25 Mean Reward: 388.4035\n"
     ]
    },
    {
     "name": "stderr",
     "output_type": "stream",
     "text": [
      "100%|██████████| 2000/2000 [11:23<00:00,  2.93it/s]\n"
     ]
    },
    {
     "name": "stdout",
     "output_type": "stream",
     "text": [
      "Epoch 26 Mean Reward: 390.113\n"
     ]
    },
    {
     "name": "stderr",
     "output_type": "stream",
     "text": [
      "100%|██████████| 2000/2000 [11:19<00:00,  2.94it/s]\n"
     ]
    },
    {
     "name": "stdout",
     "output_type": "stream",
     "text": [
      "Epoch 27 Mean Reward: 387.451\n"
     ]
    },
    {
     "name": "stderr",
     "output_type": "stream",
     "text": [
      "100%|██████████| 2000/2000 [11:24<00:00,  2.92it/s]\n"
     ]
    },
    {
     "name": "stdout",
     "output_type": "stream",
     "text": [
      "Epoch 28 Mean Reward: 390.3595\n"
     ]
    },
    {
     "name": "stderr",
     "output_type": "stream",
     "text": [
      "100%|██████████| 2000/2000 [11:32<00:00,  2.89it/s]\n"
     ]
    },
    {
     "name": "stdout",
     "output_type": "stream",
     "text": [
      "Epoch 29 Mean Reward: 395.301\n"
     ]
    },
    {
     "name": "stderr",
     "output_type": "stream",
     "text": [
      "100%|██████████| 2000/2000 [11:13<00:00,  2.97it/s]\n"
     ]
    },
    {
     "name": "stdout",
     "output_type": "stream",
     "text": [
      "Epoch 30 Mean Reward: 383.825\n",
      "Epoch 30 Model saved to ./checkpoints/take_cover.ckpt\n",
      "Epoch 30 test:\n",
      "Test Episode 1 Reward: 119.0\n",
      "Test Episode 2 Reward: 232.0\n",
      "Test Episode 3 Reward: 119.0\n",
      "Test Episode 4 Reward: 110.0\n",
      "Test Episode 5 Reward: 232.0\n",
      "Test Episode 6 Reward: 130.0\n",
      "Test Episode 7 Reward: 232.0\n",
      "Test Episode 8 Reward: 232.0\n",
      "Test Episode 9 Reward: 249.0\n",
      "Test Episode 10 Reward: 301.0\n",
      "Average Test Reward: 195.6\n"
     ]
    },
    {
     "name": "stderr",
     "output_type": "stream",
     "text": [
      "100%|██████████| 2000/2000 [12:05<00:00,  2.76it/s]\n"
     ]
    },
    {
     "name": "stdout",
     "output_type": "stream",
     "text": [
      "Epoch 31 Mean Reward: 387.1475\n"
     ]
    },
    {
     "name": "stderr",
     "output_type": "stream",
     "text": [
      "100%|██████████| 2000/2000 [16:22<00:00,  2.03it/s]\n"
     ]
    },
    {
     "name": "stdout",
     "output_type": "stream",
     "text": [
      "Epoch 32 Mean Reward: 395.2575\n"
     ]
    },
    {
     "name": "stderr",
     "output_type": "stream",
     "text": [
      "100%|██████████| 2000/2000 [13:21<00:00,  2.49it/s]\n"
     ]
    },
    {
     "name": "stdout",
     "output_type": "stream",
     "text": [
      "Epoch 33 Mean Reward: 395.5375\n"
     ]
    },
    {
     "name": "stderr",
     "output_type": "stream",
     "text": [
      "100%|██████████| 2000/2000 [15:04<00:00,  2.21it/s]\n"
     ]
    },
    {
     "name": "stdout",
     "output_type": "stream",
     "text": [
      "Epoch 34 Mean Reward: 392.932\n"
     ]
    },
    {
     "name": "stderr",
     "output_type": "stream",
     "text": [
      "100%|██████████| 2000/2000 [15:20<00:00,  2.17it/s]\n"
     ]
    },
    {
     "name": "stdout",
     "output_type": "stream",
     "text": [
      "Epoch 35 Mean Reward: 397.2085\n"
     ]
    },
    {
     "name": "stderr",
     "output_type": "stream",
     "text": [
      "100%|██████████| 2000/2000 [13:37<00:00,  2.45it/s]\n"
     ]
    },
    {
     "name": "stdout",
     "output_type": "stream",
     "text": [
      "Epoch 36 Mean Reward: 384.709\n"
     ]
    },
    {
     "name": "stderr",
     "output_type": "stream",
     "text": [
      "100%|██████████| 2000/2000 [14:26<00:00,  2.31it/s]\n"
     ]
    },
    {
     "name": "stdout",
     "output_type": "stream",
     "text": [
      "Epoch 37 Mean Reward: 390.3095\n"
     ]
    },
    {
     "name": "stderr",
     "output_type": "stream",
     "text": [
      "100%|██████████| 2000/2000 [14:49<00:00,  2.25it/s]\n"
     ]
    },
    {
     "name": "stdout",
     "output_type": "stream",
     "text": [
      "Epoch 38 Mean Reward: 392.396\n"
     ]
    },
    {
     "name": "stderr",
     "output_type": "stream",
     "text": [
      "100%|██████████| 2000/2000 [13:25<00:00,  2.48it/s]\n"
     ]
    },
    {
     "name": "stdout",
     "output_type": "stream",
     "text": [
      "Epoch 39 Mean Reward: 403.3835\n"
     ]
    },
    {
     "name": "stderr",
     "output_type": "stream",
     "text": [
      "100%|██████████| 2000/2000 [13:00<00:00,  2.56it/s]\n"
     ]
    },
    {
     "name": "stdout",
     "output_type": "stream",
     "text": [
      "Epoch 40 Mean Reward: 391.0105\n",
      "Epoch 40 Model saved to ./checkpoints/take_cover.ckpt\n",
      "Epoch 40 test:\n",
      "Test Episode 1 Reward: 308.0\n",
      "Test Episode 2 Reward: 217.0\n",
      "Test Episode 3 Reward: 219.0\n",
      "Test Episode 4 Reward: 147.0\n",
      "Test Episode 5 Reward: 199.0\n",
      "Test Episode 6 Reward: 219.0\n",
      "Test Episode 7 Reward: 219.0\n",
      "Test Episode 8 Reward: 136.0\n",
      "Test Episode 9 Reward: 157.0\n",
      "Test Episode 10 Reward: 249.0\n",
      "Average Test Reward: 207.0\n"
     ]
    },
    {
     "name": "stderr",
     "output_type": "stream",
     "text": [
      "100%|██████████| 2000/2000 [13:07<00:00,  2.54it/s]\n"
     ]
    },
    {
     "name": "stdout",
     "output_type": "stream",
     "text": [
      "Epoch 41 Mean Reward: 395.302\n"
     ]
    },
    {
     "name": "stderr",
     "output_type": "stream",
     "text": [
      "100%|██████████| 2000/2000 [12:43<00:00,  2.62it/s]\n"
     ]
    },
    {
     "name": "stdout",
     "output_type": "stream",
     "text": [
      "Epoch 42 Mean Reward: 383.043\n"
     ]
    },
    {
     "name": "stderr",
     "output_type": "stream",
     "text": [
      "100%|██████████| 2000/2000 [15:27<00:00,  2.16it/s]\n"
     ]
    },
    {
     "name": "stdout",
     "output_type": "stream",
     "text": [
      "Epoch 43 Mean Reward: 393.9055\n"
     ]
    },
    {
     "name": "stderr",
     "output_type": "stream",
     "text": [
      "100%|██████████| 2000/2000 [20:20<00:00,  1.64it/s]\n"
     ]
    },
    {
     "name": "stdout",
     "output_type": "stream",
     "text": [
      "Epoch 44 Mean Reward: 388.3985\n"
     ]
    },
    {
     "name": "stderr",
     "output_type": "stream",
     "text": [
      "100%|██████████| 2000/2000 [20:40<00:00,  1.61it/s]\n"
     ]
    },
    {
     "name": "stdout",
     "output_type": "stream",
     "text": [
      "Epoch 45 Mean Reward: 387.984\n"
     ]
    },
    {
     "name": "stderr",
     "output_type": "stream",
     "text": [
      "100%|██████████| 2000/2000 [19:20<00:00,  1.72it/s]\n"
     ]
    },
    {
     "name": "stdout",
     "output_type": "stream",
     "text": [
      "Epoch 46 Mean Reward: 394.326\n"
     ]
    },
    {
     "name": "stderr",
     "output_type": "stream",
     "text": [
      "100%|██████████| 2000/2000 [16:15<00:00,  2.05it/s]\n"
     ]
    },
    {
     "name": "stdout",
     "output_type": "stream",
     "text": [
      "Epoch 47 Mean Reward: 391.119\n"
     ]
    },
    {
     "name": "stderr",
     "output_type": "stream",
     "text": [
      "100%|██████████| 2000/2000 [15:51<00:00,  2.10it/s]\n"
     ]
    },
    {
     "name": "stdout",
     "output_type": "stream",
     "text": [
      "Epoch 48 Mean Reward: 391.421\n"
     ]
    },
    {
     "name": "stderr",
     "output_type": "stream",
     "text": [
      "100%|██████████| 2000/2000 [15:37<00:00,  2.13it/s]\n"
     ]
    },
    {
     "name": "stdout",
     "output_type": "stream",
     "text": [
      "Epoch 49 Mean Reward: 391.1695\n"
     ]
    },
    {
     "name": "stderr",
     "output_type": "stream",
     "text": [
      "100%|██████████| 2000/2000 [17:29<00:00,  1.91it/s]\n"
     ]
    },
    {
     "name": "stdout",
     "output_type": "stream",
     "text": [
      "Epoch 50 Mean Reward: 393.085\n",
      "Epoch 50 Model saved to ./checkpoints/take_cover.ckpt\n",
      "Epoch 50 test:\n",
      "Test Episode 1 Reward: 248.0\n",
      "Test Episode 2 Reward: 292.0\n",
      "Test Episode 3 Reward: 159.0\n",
      "Test Episode 4 Reward: 292.0\n",
      "Test Episode 5 Reward: 258.0\n",
      "Test Episode 6 Reward: 292.0\n",
      "Test Episode 7 Reward: 292.0\n",
      "Test Episode 8 Reward: 178.0\n",
      "Test Episode 9 Reward: 292.0\n",
      "Test Episode 10 Reward: 242.0\n",
      "Average Test Reward: 254.5\n"
     ]
    },
    {
     "name": "stderr",
     "output_type": "stream",
     "text": [
      "100%|██████████| 2000/2000 [17:01<00:00,  1.96it/s]\n"
     ]
    },
    {
     "name": "stdout",
     "output_type": "stream",
     "text": [
      "Epoch 51 Mean Reward: 389.652\n"
     ]
    },
    {
     "name": "stderr",
     "output_type": "stream",
     "text": [
      "100%|██████████| 2000/2000 [16:08<00:00,  2.07it/s]\n"
     ]
    },
    {
     "name": "stdout",
     "output_type": "stream",
     "text": [
      "Epoch 52 Mean Reward: 394.495\n"
     ]
    },
    {
     "name": "stderr",
     "output_type": "stream",
     "text": [
      "100%|██████████| 2000/2000 [16:43<00:00,  1.99it/s]\n"
     ]
    },
    {
     "name": "stdout",
     "output_type": "stream",
     "text": [
      "Epoch 53 Mean Reward: 389.662\n"
     ]
    },
    {
     "name": "stderr",
     "output_type": "stream",
     "text": [
      "100%|██████████| 2000/2000 [15:49<00:00,  2.11it/s]\n"
     ]
    },
    {
     "name": "stdout",
     "output_type": "stream",
     "text": [
      "Epoch 54 Mean Reward: 394.032\n"
     ]
    },
    {
     "name": "stderr",
     "output_type": "stream",
     "text": [
      "100%|██████████| 2000/2000 [16:11<00:00,  2.06it/s]\n"
     ]
    },
    {
     "name": "stdout",
     "output_type": "stream",
     "text": [
      "Epoch 55 Mean Reward: 383.7985\n"
     ]
    },
    {
     "name": "stderr",
     "output_type": "stream",
     "text": [
      "100%|██████████| 2000/2000 [13:34<00:00,  2.46it/s]\n"
     ]
    },
    {
     "name": "stdout",
     "output_type": "stream",
     "text": [
      "Epoch 56 Mean Reward: 393.7775\n"
     ]
    },
    {
     "name": "stderr",
     "output_type": "stream",
     "text": [
      "100%|██████████| 2000/2000 [11:07<00:00,  3.00it/s]\n"
     ]
    },
    {
     "name": "stdout",
     "output_type": "stream",
     "text": [
      "Epoch 57 Mean Reward: 383.1675\n"
     ]
    },
    {
     "name": "stderr",
     "output_type": "stream",
     "text": [
      "100%|██████████| 2000/2000 [12:49<00:00,  2.60it/s]\n"
     ]
    },
    {
     "name": "stdout",
     "output_type": "stream",
     "text": [
      "Epoch 58 Mean Reward: 395.763\n"
     ]
    },
    {
     "name": "stderr",
     "output_type": "stream",
     "text": [
      "100%|██████████| 2000/2000 [15:14<00:00,  2.19it/s]\n"
     ]
    },
    {
     "name": "stdout",
     "output_type": "stream",
     "text": [
      "Epoch 59 Mean Reward: 385.286\n"
     ]
    },
    {
     "name": "stderr",
     "output_type": "stream",
     "text": [
      "100%|██████████| 2000/2000 [14:20<00:00,  2.32it/s]\n"
     ]
    },
    {
     "name": "stdout",
     "output_type": "stream",
     "text": [
      "Epoch 60 Mean Reward: 392.1875\n",
      "Epoch 60 Model saved to ./checkpoints/take_cover.ckpt\n",
      "Epoch 60 test:\n",
      "Test Episode 1 Reward: 557.0\n",
      "Test Episode 2 Reward: 557.0\n",
      "Test Episode 3 Reward: 262.0\n",
      "Test Episode 4 Reward: 557.0\n",
      "Test Episode 5 Reward: 557.0\n",
      "Test Episode 6 Reward: 557.0\n",
      "Test Episode 7 Reward: 374.0\n",
      "Test Episode 8 Reward: 557.0\n",
      "Test Episode 9 Reward: 539.0\n",
      "Test Episode 10 Reward: 445.0\n",
      "Average Test Reward: 496.2\n"
     ]
    },
    {
     "name": "stderr",
     "output_type": "stream",
     "text": [
      "100%|██████████| 2000/2000 [14:56<00:00,  2.23it/s]\n"
     ]
    },
    {
     "name": "stdout",
     "output_type": "stream",
     "text": [
      "Epoch 61 Mean Reward: 396.536\n"
     ]
    },
    {
     "name": "stderr",
     "output_type": "stream",
     "text": [
      "100%|██████████| 2000/2000 [14:04<00:00,  2.37it/s]\n"
     ]
    },
    {
     "name": "stdout",
     "output_type": "stream",
     "text": [
      "Epoch 62 Mean Reward: 393.2365\n"
     ]
    },
    {
     "name": "stderr",
     "output_type": "stream",
     "text": [
      "100%|██████████| 2000/2000 [13:30<00:00,  2.47it/s]\n"
     ]
    },
    {
     "name": "stdout",
     "output_type": "stream",
     "text": [
      "Epoch 63 Mean Reward: 390.6275\n"
     ]
    },
    {
     "name": "stderr",
     "output_type": "stream",
     "text": [
      "100%|██████████| 2000/2000 [11:39<00:00,  2.86it/s]\n"
     ]
    },
    {
     "name": "stdout",
     "output_type": "stream",
     "text": [
      "Epoch 64 Mean Reward: 391.7255\n"
     ]
    },
    {
     "name": "stderr",
     "output_type": "stream",
     "text": [
      "100%|██████████| 2000/2000 [11:22<00:00,  2.93it/s]\n"
     ]
    },
    {
     "name": "stdout",
     "output_type": "stream",
     "text": [
      "Epoch 65 Mean Reward: 394.01\n"
     ]
    },
    {
     "name": "stderr",
     "output_type": "stream",
     "text": [
      "100%|██████████| 2000/2000 [11:21<00:00,  2.94it/s]\n"
     ]
    },
    {
     "name": "stdout",
     "output_type": "stream",
     "text": [
      "Epoch 66 Mean Reward: 394.782\n"
     ]
    },
    {
     "name": "stderr",
     "output_type": "stream",
     "text": [
      "100%|██████████| 2000/2000 [11:24<00:00,  2.92it/s]\n"
     ]
    },
    {
     "name": "stdout",
     "output_type": "stream",
     "text": [
      "Epoch 67 Mean Reward: 397.082\n"
     ]
    },
    {
     "name": "stderr",
     "output_type": "stream",
     "text": [
      "100%|██████████| 2000/2000 [11:15<00:00,  2.96it/s]\n"
     ]
    },
    {
     "name": "stdout",
     "output_type": "stream",
     "text": [
      "Epoch 68 Mean Reward: 391.3185\n"
     ]
    },
    {
     "name": "stderr",
     "output_type": "stream",
     "text": [
      "100%|██████████| 2000/2000 [11:17<00:00,  2.95it/s]\n"
     ]
    },
    {
     "name": "stdout",
     "output_type": "stream",
     "text": [
      "Epoch 69 Mean Reward: 394.93\n"
     ]
    },
    {
     "name": "stderr",
     "output_type": "stream",
     "text": [
      "100%|██████████| 2000/2000 [11:18<00:00,  2.95it/s]\n"
     ]
    },
    {
     "name": "stdout",
     "output_type": "stream",
     "text": [
      "Epoch 70 Mean Reward: 397.106\n",
      "Epoch 70 Model saved to ./checkpoints/take_cover.ckpt\n",
      "Epoch 70 test:\n",
      "Test Episode 1 Reward: 340.0\n",
      "Test Episode 2 Reward: 163.0\n",
      "Test Episode 3 Reward: 295.0\n",
      "Test Episode 4 Reward: 232.0\n",
      "Test Episode 5 Reward: 232.0\n",
      "Test Episode 6 Reward: 232.0\n",
      "Test Episode 7 Reward: 232.0\n",
      "Test Episode 8 Reward: 237.0\n",
      "Test Episode 9 Reward: 232.0\n",
      "Test Episode 10 Reward: 250.0\n",
      "Average Test Reward: 244.5\n"
     ]
    },
    {
     "name": "stderr",
     "output_type": "stream",
     "text": [
      "100%|██████████| 2000/2000 [11:26<00:00,  2.91it/s]\n"
     ]
    },
    {
     "name": "stdout",
     "output_type": "stream",
     "text": [
      "Epoch 71 Mean Reward: 391.621\n"
     ]
    },
    {
     "name": "stderr",
     "output_type": "stream",
     "text": [
      "100%|██████████| 2000/2000 [11:20<00:00,  2.94it/s]\n"
     ]
    },
    {
     "name": "stdout",
     "output_type": "stream",
     "text": [
      "Epoch 72 Mean Reward: 386.6465\n"
     ]
    },
    {
     "name": "stderr",
     "output_type": "stream",
     "text": [
      "100%|██████████| 2000/2000 [11:18<00:00,  2.95it/s]\n"
     ]
    },
    {
     "name": "stdout",
     "output_type": "stream",
     "text": [
      "Epoch 73 Mean Reward: 386.31\n"
     ]
    },
    {
     "name": "stderr",
     "output_type": "stream",
     "text": [
      "100%|██████████| 2000/2000 [11:25<00:00,  2.92it/s]\n"
     ]
    },
    {
     "name": "stdout",
     "output_type": "stream",
     "text": [
      "Epoch 74 Mean Reward: 390.1185\n"
     ]
    },
    {
     "name": "stderr",
     "output_type": "stream",
     "text": [
      "100%|██████████| 2000/2000 [11:22<00:00,  2.93it/s]\n"
     ]
    },
    {
     "name": "stdout",
     "output_type": "stream",
     "text": [
      "Epoch 75 Mean Reward: 387.6415\n"
     ]
    },
    {
     "name": "stderr",
     "output_type": "stream",
     "text": [
      "100%|██████████| 2000/2000 [11:23<00:00,  2.93it/s]\n"
     ]
    },
    {
     "name": "stdout",
     "output_type": "stream",
     "text": [
      "Epoch 76 Mean Reward: 388.481\n"
     ]
    },
    {
     "name": "stderr",
     "output_type": "stream",
     "text": [
      "100%|██████████| 2000/2000 [11:40<00:00,  2.85it/s]\n"
     ]
    },
    {
     "name": "stdout",
     "output_type": "stream",
     "text": [
      "Epoch 77 Mean Reward: 399.5755\n"
     ]
    },
    {
     "name": "stderr",
     "output_type": "stream",
     "text": [
      "100%|██████████| 2000/2000 [11:27<00:00,  2.91it/s]\n"
     ]
    },
    {
     "name": "stdout",
     "output_type": "stream",
     "text": [
      "Epoch 78 Mean Reward: 391.863\n"
     ]
    },
    {
     "name": "stderr",
     "output_type": "stream",
     "text": [
      "100%|██████████| 2000/2000 [11:23<00:00,  2.93it/s]\n"
     ]
    },
    {
     "name": "stdout",
     "output_type": "stream",
     "text": [
      "Epoch 79 Mean Reward: 389.2995\n"
     ]
    },
    {
     "name": "stderr",
     "output_type": "stream",
     "text": [
      "100%|██████████| 2000/2000 [11:27<00:00,  2.91it/s]\n"
     ]
    },
    {
     "name": "stdout",
     "output_type": "stream",
     "text": [
      "Epoch 80 Mean Reward: 391.066\n",
      "Epoch 80 Model saved to ./checkpoints/take_cover.ckpt\n",
      "Epoch 80 test:\n",
      "Test Episode 1 Reward: 291.0\n",
      "Test Episode 2 Reward: 291.0\n",
      "Test Episode 3 Reward: 291.0\n",
      "Test Episode 4 Reward: 291.0\n",
      "Test Episode 5 Reward: 291.0\n",
      "Test Episode 6 Reward: 288.0\n",
      "Test Episode 7 Reward: 211.0\n",
      "Test Episode 8 Reward: 291.0\n",
      "Test Episode 9 Reward: 291.0\n",
      "Test Episode 10 Reward: 291.0\n",
      "Average Test Reward: 282.7\n"
     ]
    },
    {
     "name": "stderr",
     "output_type": "stream",
     "text": [
      "100%|██████████| 2000/2000 [11:09<00:00,  2.99it/s]\n"
     ]
    },
    {
     "name": "stdout",
     "output_type": "stream",
     "text": [
      "Epoch 81 Mean Reward: 387.2785\n"
     ]
    },
    {
     "name": "stderr",
     "output_type": "stream",
     "text": [
      "100%|██████████| 2000/2000 [11:19<00:00,  2.94it/s]\n"
     ]
    },
    {
     "name": "stdout",
     "output_type": "stream",
     "text": [
      "Epoch 82 Mean Reward: 390.0845\n"
     ]
    },
    {
     "name": "stderr",
     "output_type": "stream",
     "text": [
      "100%|██████████| 2000/2000 [11:22<00:00,  2.93it/s]\n"
     ]
    },
    {
     "name": "stdout",
     "output_type": "stream",
     "text": [
      "Epoch 83 Mean Reward: 393.135\n"
     ]
    },
    {
     "name": "stderr",
     "output_type": "stream",
     "text": [
      "100%|██████████| 2000/2000 [11:40<00:00,  2.86it/s]\n"
     ]
    },
    {
     "name": "stdout",
     "output_type": "stream",
     "text": [
      "Epoch 84 Mean Reward: 401.8295\n"
     ]
    },
    {
     "name": "stderr",
     "output_type": "stream",
     "text": [
      "100%|██████████| 2000/2000 [11:17<00:00,  2.95it/s]\n"
     ]
    },
    {
     "name": "stdout",
     "output_type": "stream",
     "text": [
      "Epoch 85 Mean Reward: 388.486\n"
     ]
    },
    {
     "name": "stderr",
     "output_type": "stream",
     "text": [
      "100%|██████████| 2000/2000 [11:29<00:00,  2.90it/s]\n"
     ]
    },
    {
     "name": "stdout",
     "output_type": "stream",
     "text": [
      "Epoch 86 Mean Reward: 395.4105\n"
     ]
    },
    {
     "name": "stderr",
     "output_type": "stream",
     "text": [
      "100%|██████████| 2000/2000 [11:23<00:00,  2.93it/s]\n"
     ]
    },
    {
     "name": "stdout",
     "output_type": "stream",
     "text": [
      "Epoch 87 Mean Reward: 393.5245\n"
     ]
    },
    {
     "name": "stderr",
     "output_type": "stream",
     "text": [
      "100%|██████████| 2000/2000 [11:30<00:00,  2.90it/s]\n"
     ]
    },
    {
     "name": "stdout",
     "output_type": "stream",
     "text": [
      "Epoch 88 Mean Reward: 395.2995\n"
     ]
    },
    {
     "name": "stderr",
     "output_type": "stream",
     "text": [
      "100%|██████████| 2000/2000 [11:36<00:00,  2.87it/s]\n"
     ]
    },
    {
     "name": "stdout",
     "output_type": "stream",
     "text": [
      "Epoch 89 Mean Reward: 399.6835\n"
     ]
    },
    {
     "name": "stderr",
     "output_type": "stream",
     "text": [
      "100%|██████████| 2000/2000 [11:19<00:00,  2.94it/s]\n"
     ]
    },
    {
     "name": "stdout",
     "output_type": "stream",
     "text": [
      "Epoch 90 Mean Reward: 390.58\n",
      "Epoch 90 Model saved to ./checkpoints/take_cover.ckpt\n",
      "Epoch 90 test:\n",
      "Test Episode 1 Reward: 232.0\n",
      "Test Episode 2 Reward: 124.0\n",
      "Test Episode 3 Reward: 125.0\n",
      "Test Episode 4 Reward: 229.0\n",
      "Test Episode 5 Reward: 232.0\n",
      "Test Episode 6 Reward: 232.0\n",
      "Test Episode 7 Reward: 232.0\n",
      "Test Episode 8 Reward: 232.0\n",
      "Test Episode 9 Reward: 195.0\n",
      "Test Episode 10 Reward: 199.0\n",
      "Average Test Reward: 203.2\n"
     ]
    },
    {
     "name": "stderr",
     "output_type": "stream",
     "text": [
      "100%|██████████| 2000/2000 [11:29<00:00,  2.90it/s]\n"
     ]
    },
    {
     "name": "stdout",
     "output_type": "stream",
     "text": [
      "Epoch 91 Mean Reward: 394.524\n"
     ]
    },
    {
     "name": "stderr",
     "output_type": "stream",
     "text": [
      "100%|██████████| 2000/2000 [11:44<00:00,  2.84it/s]\n"
     ]
    },
    {
     "name": "stdout",
     "output_type": "stream",
     "text": [
      "Epoch 92 Mean Reward: 400.6295\n"
     ]
    },
    {
     "name": "stderr",
     "output_type": "stream",
     "text": [
      "100%|██████████| 2000/2000 [11:23<00:00,  2.93it/s]\n"
     ]
    },
    {
     "name": "stdout",
     "output_type": "stream",
     "text": [
      "Epoch 93 Mean Reward: 392.263\n"
     ]
    },
    {
     "name": "stderr",
     "output_type": "stream",
     "text": [
      "100%|██████████| 2000/2000 [11:28<00:00,  2.90it/s]\n"
     ]
    },
    {
     "name": "stdout",
     "output_type": "stream",
     "text": [
      "Epoch 94 Mean Reward: 393.9555\n"
     ]
    },
    {
     "name": "stderr",
     "output_type": "stream",
     "text": [
      "100%|██████████| 2000/2000 [12:14<00:00,  2.72it/s]\n"
     ]
    },
    {
     "name": "stdout",
     "output_type": "stream",
     "text": [
      "Epoch 95 Mean Reward: 401.4235\n"
     ]
    },
    {
     "name": "stderr",
     "output_type": "stream",
     "text": [
      "100%|██████████| 2000/2000 [11:25<00:00,  2.92it/s]\n"
     ]
    },
    {
     "name": "stdout",
     "output_type": "stream",
     "text": [
      "Epoch 96 Mean Reward: 395.1975\n"
     ]
    },
    {
     "name": "stderr",
     "output_type": "stream",
     "text": [
      "100%|██████████| 2000/2000 [11:22<00:00,  2.93it/s]\n"
     ]
    },
    {
     "name": "stdout",
     "output_type": "stream",
     "text": [
      "Epoch 97 Mean Reward: 398.716\n"
     ]
    },
    {
     "name": "stderr",
     "output_type": "stream",
     "text": [
      "100%|██████████| 2000/2000 [11:22<00:00,  2.93it/s]\n"
     ]
    },
    {
     "name": "stdout",
     "output_type": "stream",
     "text": [
      "Epoch 98 Mean Reward: 397.6405\n"
     ]
    },
    {
     "name": "stderr",
     "output_type": "stream",
     "text": [
      "100%|██████████| 2000/2000 [11:47<00:00,  2.83it/s]\n"
     ]
    },
    {
     "name": "stdout",
     "output_type": "stream",
     "text": [
      "Epoch 99 Mean Reward: 409.8985\n"
     ]
    },
    {
     "name": "stderr",
     "output_type": "stream",
     "text": [
      "100%|██████████| 2000/2000 [11:32<00:00,  2.89it/s]\n"
     ]
    },
    {
     "name": "stdout",
     "output_type": "stream",
     "text": [
      "Epoch 100 Mean Reward: 400.765\n",
      "Epoch 100 Model saved to ./checkpoints/take_cover.ckpt\n",
      "Epoch 100 test:\n",
      "Test Episode 1 Reward: 326.0\n",
      "Test Episode 2 Reward: 326.0\n",
      "Test Episode 3 Reward: 246.0\n",
      "Test Episode 4 Reward: 326.0\n",
      "Test Episode 5 Reward: 102.0\n",
      "Test Episode 6 Reward: 268.0\n",
      "Test Episode 7 Reward: 251.0\n",
      "Test Episode 8 Reward: 493.0\n",
      "Test Episode 9 Reward: 326.0\n",
      "Test Episode 10 Reward: 193.0\n",
      "Average Test Reward: 285.7\n"
     ]
    },
    {
     "name": "stderr",
     "output_type": "stream",
     "text": [
      "100%|██████████| 2000/2000 [11:29<00:00,  2.90it/s]\n"
     ]
    },
    {
     "name": "stdout",
     "output_type": "stream",
     "text": [
      "Epoch 101 Mean Reward: 399.421\n"
     ]
    },
    {
     "name": "stderr",
     "output_type": "stream",
     "text": [
      "100%|██████████| 2000/2000 [11:32<00:00,  2.89it/s]\n"
     ]
    },
    {
     "name": "stdout",
     "output_type": "stream",
     "text": [
      "Epoch 102 Mean Reward: 400.6765\n"
     ]
    },
    {
     "name": "stderr",
     "output_type": "stream",
     "text": [
      "100%|██████████| 2000/2000 [11:30<00:00,  2.90it/s]\n"
     ]
    },
    {
     "name": "stdout",
     "output_type": "stream",
     "text": [
      "Epoch 103 Mean Reward: 398.925\n"
     ]
    },
    {
     "name": "stderr",
     "output_type": "stream",
     "text": [
      "100%|██████████| 2000/2000 [11:26<00:00,  2.91it/s]\n"
     ]
    },
    {
     "name": "stdout",
     "output_type": "stream",
     "text": [
      "Epoch 104 Mean Reward: 397.475\n"
     ]
    },
    {
     "name": "stderr",
     "output_type": "stream",
     "text": [
      "100%|██████████| 2000/2000 [11:45<00:00,  2.84it/s]\n"
     ]
    },
    {
     "name": "stdout",
     "output_type": "stream",
     "text": [
      "Epoch 105 Mean Reward: 406.535\n"
     ]
    },
    {
     "name": "stderr",
     "output_type": "stream",
     "text": [
      "100%|██████████| 2000/2000 [11:32<00:00,  2.89it/s]\n"
     ]
    },
    {
     "name": "stdout",
     "output_type": "stream",
     "text": [
      "Epoch 106 Mean Reward: 401.9585\n"
     ]
    },
    {
     "name": "stderr",
     "output_type": "stream",
     "text": [
      "100%|██████████| 2000/2000 [11:29<00:00,  2.90it/s]\n"
     ]
    },
    {
     "name": "stdout",
     "output_type": "stream",
     "text": [
      "Epoch 107 Mean Reward: 399.111\n"
     ]
    },
    {
     "name": "stderr",
     "output_type": "stream",
     "text": [
      "100%|██████████| 2000/2000 [11:35<00:00,  2.88it/s]\n"
     ]
    },
    {
     "name": "stdout",
     "output_type": "stream",
     "text": [
      "Epoch 108 Mean Reward: 404.7185\n"
     ]
    },
    {
     "name": "stderr",
     "output_type": "stream",
     "text": [
      "100%|██████████| 2000/2000 [11:33<00:00,  2.89it/s]\n"
     ]
    },
    {
     "name": "stdout",
     "output_type": "stream",
     "text": [
      "Epoch 109 Mean Reward: 404.9855\n"
     ]
    },
    {
     "name": "stderr",
     "output_type": "stream",
     "text": [
      "100%|██████████| 2000/2000 [11:18<00:00,  2.95it/s]\n"
     ]
    },
    {
     "name": "stdout",
     "output_type": "stream",
     "text": [
      "Epoch 110 Mean Reward: 399.171\n",
      "Epoch 110 Model saved to ./checkpoints/take_cover.ckpt\n",
      "Epoch 110 test:\n",
      "Test Episode 1 Reward: 232.0\n",
      "Test Episode 2 Reward: 401.0\n",
      "Test Episode 3 Reward: 145.0\n",
      "Test Episode 4 Reward: 232.0\n",
      "Test Episode 5 Reward: 232.0\n",
      "Test Episode 6 Reward: 229.0\n",
      "Test Episode 7 Reward: 366.0\n",
      "Test Episode 8 Reward: 492.0\n",
      "Test Episode 9 Reward: 242.0\n",
      "Test Episode 10 Reward: 232.0\n",
      "Average Test Reward: 280.3\n"
     ]
    },
    {
     "name": "stderr",
     "output_type": "stream",
     "text": [
      "100%|██████████| 2000/2000 [11:35<00:00,  2.88it/s]\n"
     ]
    },
    {
     "name": "stdout",
     "output_type": "stream",
     "text": [
      "Epoch 111 Mean Reward: 393.5365\n"
     ]
    },
    {
     "name": "stderr",
     "output_type": "stream",
     "text": [
      "100%|██████████| 2000/2000 [11:53<00:00,  2.80it/s]\n"
     ]
    },
    {
     "name": "stdout",
     "output_type": "stream",
     "text": [
      "Epoch 112 Mean Reward: 402.3475\n"
     ]
    },
    {
     "name": "stderr",
     "output_type": "stream",
     "text": [
      "100%|██████████| 2000/2000 [11:59<00:00,  2.78it/s]\n"
     ]
    },
    {
     "name": "stdout",
     "output_type": "stream",
     "text": [
      "Epoch 113 Mean Reward: 403.3125\n"
     ]
    },
    {
     "name": "stderr",
     "output_type": "stream",
     "text": [
      "100%|██████████| 2000/2000 [11:50<00:00,  2.81it/s]\n"
     ]
    },
    {
     "name": "stdout",
     "output_type": "stream",
     "text": [
      "Epoch 114 Mean Reward: 398.1775\n"
     ]
    },
    {
     "name": "stderr",
     "output_type": "stream",
     "text": [
      "100%|██████████| 2000/2000 [12:01<00:00,  2.77it/s]\n"
     ]
    },
    {
     "name": "stdout",
     "output_type": "stream",
     "text": [
      "Epoch 115 Mean Reward: 406.1355\n"
     ]
    },
    {
     "name": "stderr",
     "output_type": "stream",
     "text": [
      "100%|██████████| 2000/2000 [11:39<00:00,  2.86it/s]\n"
     ]
    },
    {
     "name": "stdout",
     "output_type": "stream",
     "text": [
      "Epoch 116 Mean Reward: 393.987\n"
     ]
    },
    {
     "name": "stderr",
     "output_type": "stream",
     "text": [
      "100%|██████████| 2000/2000 [12:25<00:00,  2.68it/s]\n"
     ]
    },
    {
     "name": "stdout",
     "output_type": "stream",
     "text": [
      "Epoch 117 Mean Reward: 418.877\n"
     ]
    },
    {
     "name": "stderr",
     "output_type": "stream",
     "text": [
      "100%|██████████| 2000/2000 [12:02<00:00,  2.77it/s]\n"
     ]
    },
    {
     "name": "stdout",
     "output_type": "stream",
     "text": [
      "Epoch 118 Mean Reward: 404.2125\n"
     ]
    },
    {
     "name": "stderr",
     "output_type": "stream",
     "text": [
      "100%|██████████| 2000/2000 [12:00<00:00,  2.78it/s]\n"
     ]
    },
    {
     "name": "stdout",
     "output_type": "stream",
     "text": [
      "Epoch 119 Mean Reward: 402.552\n"
     ]
    },
    {
     "name": "stderr",
     "output_type": "stream",
     "text": [
      "100%|██████████| 2000/2000 [11:59<00:00,  2.78it/s]\n"
     ]
    },
    {
     "name": "stdout",
     "output_type": "stream",
     "text": [
      "Epoch 120 Mean Reward: 403.027\n",
      "Epoch 120 Model saved to ./checkpoints/take_cover.ckpt\n",
      "Epoch 120 test:\n",
      "Test Episode 1 Reward: 296.0\n",
      "Test Episode 2 Reward: 145.0\n",
      "Test Episode 3 Reward: 171.0\n",
      "Test Episode 4 Reward: 296.0\n",
      "Test Episode 5 Reward: 215.0\n",
      "Test Episode 6 Reward: 311.0\n",
      "Test Episode 7 Reward: 296.0\n",
      "Test Episode 8 Reward: 296.0\n",
      "Test Episode 9 Reward: 171.0\n",
      "Test Episode 10 Reward: 415.0\n",
      "Average Test Reward: 261.2\n"
     ]
    },
    {
     "name": "stderr",
     "output_type": "stream",
     "text": [
      "100%|██████████| 2000/2000 [12:08<00:00,  2.75it/s]\n"
     ]
    },
    {
     "name": "stdout",
     "output_type": "stream",
     "text": [
      "Epoch 121 Mean Reward: 412.221\n"
     ]
    },
    {
     "name": "stderr",
     "output_type": "stream",
     "text": [
      "100%|██████████| 2000/2000 [11:59<00:00,  2.78it/s]\n"
     ]
    },
    {
     "name": "stdout",
     "output_type": "stream",
     "text": [
      "Epoch 122 Mean Reward: 407.4635\n"
     ]
    },
    {
     "name": "stderr",
     "output_type": "stream",
     "text": [
      "100%|██████████| 2000/2000 [12:03<00:00,  2.76it/s]\n"
     ]
    },
    {
     "name": "stdout",
     "output_type": "stream",
     "text": [
      "Epoch 123 Mean Reward: 409.0835\n"
     ]
    },
    {
     "name": "stderr",
     "output_type": "stream",
     "text": [
      "100%|██████████| 2000/2000 [11:55<00:00,  2.80it/s]\n"
     ]
    },
    {
     "name": "stdout",
     "output_type": "stream",
     "text": [
      "Epoch 124 Mean Reward: 404.373\n"
     ]
    },
    {
     "name": "stderr",
     "output_type": "stream",
     "text": [
      "100%|██████████| 2000/2000 [11:55<00:00,  2.80it/s]\n"
     ]
    },
    {
     "name": "stdout",
     "output_type": "stream",
     "text": [
      "Epoch 125 Mean Reward: 405.803\n"
     ]
    },
    {
     "name": "stderr",
     "output_type": "stream",
     "text": [
      "100%|██████████| 2000/2000 [12:03<00:00,  2.76it/s]\n"
     ]
    },
    {
     "name": "stdout",
     "output_type": "stream",
     "text": [
      "Epoch 126 Mean Reward: 410.729\n"
     ]
    },
    {
     "name": "stderr",
     "output_type": "stream",
     "text": [
      "100%|██████████| 2000/2000 [12:07<00:00,  2.75it/s]\n"
     ]
    },
    {
     "name": "stdout",
     "output_type": "stream",
     "text": [
      "Epoch 127 Mean Reward: 410.4805\n"
     ]
    },
    {
     "name": "stderr",
     "output_type": "stream",
     "text": [
      "100%|██████████| 2000/2000 [12:06<00:00,  2.75it/s]\n"
     ]
    },
    {
     "name": "stdout",
     "output_type": "stream",
     "text": [
      "Epoch 128 Mean Reward: 411.301\n"
     ]
    },
    {
     "name": "stderr",
     "output_type": "stream",
     "text": [
      "100%|██████████| 2000/2000 [12:13<00:00,  2.73it/s]\n"
     ]
    },
    {
     "name": "stdout",
     "output_type": "stream",
     "text": [
      "Epoch 129 Mean Reward: 412.076\n"
     ]
    },
    {
     "name": "stderr",
     "output_type": "stream",
     "text": [
      "100%|██████████| 2000/2000 [12:03<00:00,  2.77it/s]\n"
     ]
    },
    {
     "name": "stdout",
     "output_type": "stream",
     "text": [
      "Epoch 130 Mean Reward: 411.676\n",
      "Epoch 130 Model saved to ./checkpoints/take_cover.ckpt\n",
      "Epoch 130 test:\n",
      "Test Episode 1 Reward: 383.0\n",
      "Test Episode 2 Reward: 163.0\n",
      "Test Episode 3 Reward: 699.0\n",
      "Test Episode 4 Reward: 119.0\n",
      "Test Episode 5 Reward: 370.0\n",
      "Test Episode 6 Reward: 120.0\n",
      "Test Episode 7 Reward: 699.0\n",
      "Test Episode 8 Reward: 699.0\n",
      "Test Episode 9 Reward: 699.0\n",
      "Test Episode 10 Reward: 699.0\n",
      "Average Test Reward: 465.0\n"
     ]
    },
    {
     "name": "stderr",
     "output_type": "stream",
     "text": [
      "100%|██████████| 2000/2000 [12:19<00:00,  2.71it/s]\n"
     ]
    },
    {
     "name": "stdout",
     "output_type": "stream",
     "text": [
      "Epoch 131 Mean Reward: 421.73\n"
     ]
    },
    {
     "name": "stderr",
     "output_type": "stream",
     "text": [
      "100%|██████████| 2000/2000 [12:03<00:00,  2.77it/s]\n"
     ]
    },
    {
     "name": "stdout",
     "output_type": "stream",
     "text": [
      "Epoch 132 Mean Reward: 412.3845\n"
     ]
    },
    {
     "name": "stderr",
     "output_type": "stream",
     "text": [
      "100%|██████████| 2000/2000 [12:15<00:00,  2.72it/s]\n"
     ]
    },
    {
     "name": "stdout",
     "output_type": "stream",
     "text": [
      "Epoch 133 Mean Reward: 418.0895\n"
     ]
    },
    {
     "name": "stderr",
     "output_type": "stream",
     "text": [
      "100%|██████████| 2000/2000 [12:22<00:00,  2.69it/s]\n"
     ]
    },
    {
     "name": "stdout",
     "output_type": "stream",
     "text": [
      "Epoch 134 Mean Reward: 420.7385\n"
     ]
    },
    {
     "name": "stderr",
     "output_type": "stream",
     "text": [
      "100%|██████████| 2000/2000 [12:16<00:00,  2.71it/s]\n"
     ]
    },
    {
     "name": "stdout",
     "output_type": "stream",
     "text": [
      "Epoch 135 Mean Reward: 413.362\n"
     ]
    },
    {
     "name": "stderr",
     "output_type": "stream",
     "text": [
      "100%|██████████| 2000/2000 [12:03<00:00,  2.76it/s]\n"
     ]
    },
    {
     "name": "stdout",
     "output_type": "stream",
     "text": [
      "Epoch 136 Mean Reward: 408.1805\n"
     ]
    },
    {
     "name": "stderr",
     "output_type": "stream",
     "text": [
      "100%|██████████| 2000/2000 [12:24<00:00,  2.69it/s]\n"
     ]
    },
    {
     "name": "stdout",
     "output_type": "stream",
     "text": [
      "Epoch 137 Mean Reward: 420.928\n"
     ]
    },
    {
     "name": "stderr",
     "output_type": "stream",
     "text": [
      "100%|██████████| 2000/2000 [12:04<00:00,  2.76it/s]\n"
     ]
    },
    {
     "name": "stdout",
     "output_type": "stream",
     "text": [
      "Epoch 138 Mean Reward: 410.072\n"
     ]
    },
    {
     "name": "stderr",
     "output_type": "stream",
     "text": [
      "100%|██████████| 2000/2000 [12:28<00:00,  2.67it/s]\n"
     ]
    },
    {
     "name": "stdout",
     "output_type": "stream",
     "text": [
      "Epoch 139 Mean Reward: 422.7315\n"
     ]
    },
    {
     "name": "stderr",
     "output_type": "stream",
     "text": [
      "100%|██████████| 2000/2000 [12:16<00:00,  2.71it/s]\n"
     ]
    },
    {
     "name": "stdout",
     "output_type": "stream",
     "text": [
      "Epoch 140 Mean Reward: 416.759\n",
      "Epoch 140 Model saved to ./checkpoints/take_cover.ckpt\n",
      "Epoch 140 test:\n",
      "Test Episode 1 Reward: 525.0\n",
      "Test Episode 2 Reward: 525.0\n",
      "Test Episode 3 Reward: 155.0\n",
      "Test Episode 4 Reward: 352.0\n",
      "Test Episode 5 Reward: 331.0\n",
      "Test Episode 6 Reward: 239.0\n",
      "Test Episode 7 Reward: 525.0\n",
      "Test Episode 8 Reward: 525.0\n",
      "Test Episode 9 Reward: 525.0\n",
      "Test Episode 10 Reward: 525.0\n",
      "Average Test Reward: 422.7\n"
     ]
    },
    {
     "name": "stderr",
     "output_type": "stream",
     "text": [
      "100%|██████████| 2000/2000 [12:26<00:00,  2.68it/s]\n"
     ]
    },
    {
     "name": "stdout",
     "output_type": "stream",
     "text": [
      "Epoch 141 Mean Reward: 422.131\n"
     ]
    },
    {
     "name": "stderr",
     "output_type": "stream",
     "text": [
      "100%|██████████| 2000/2000 [12:22<00:00,  2.69it/s]\n"
     ]
    },
    {
     "name": "stdout",
     "output_type": "stream",
     "text": [
      "Epoch 142 Mean Reward: 421.262\n"
     ]
    },
    {
     "name": "stderr",
     "output_type": "stream",
     "text": [
      "100%|██████████| 2000/2000 [12:18<00:00,  2.71it/s]\n"
     ]
    },
    {
     "name": "stdout",
     "output_type": "stream",
     "text": [
      "Epoch 143 Mean Reward: 417.269\n"
     ]
    },
    {
     "name": "stderr",
     "output_type": "stream",
     "text": [
      "100%|██████████| 2000/2000 [12:23<00:00,  2.69it/s]\n"
     ]
    },
    {
     "name": "stdout",
     "output_type": "stream",
     "text": [
      "Epoch 144 Mean Reward: 421.943\n"
     ]
    },
    {
     "name": "stderr",
     "output_type": "stream",
     "text": [
      "100%|██████████| 2000/2000 [12:33<00:00,  2.65it/s]\n"
     ]
    },
    {
     "name": "stdout",
     "output_type": "stream",
     "text": [
      "Epoch 145 Mean Reward: 430.1215\n"
     ]
    },
    {
     "name": "stderr",
     "output_type": "stream",
     "text": [
      "100%|██████████| 2000/2000 [12:11<00:00,  2.73it/s]\n"
     ]
    },
    {
     "name": "stdout",
     "output_type": "stream",
     "text": [
      "Epoch 146 Mean Reward: 419.6885\n"
     ]
    },
    {
     "name": "stderr",
     "output_type": "stream",
     "text": [
      "100%|██████████| 2000/2000 [12:40<00:00,  2.63it/s]\n"
     ]
    },
    {
     "name": "stdout",
     "output_type": "stream",
     "text": [
      "Epoch 147 Mean Reward: 427.465\n"
     ]
    },
    {
     "name": "stderr",
     "output_type": "stream",
     "text": [
      "100%|██████████| 2000/2000 [12:31<00:00,  2.66it/s]\n"
     ]
    },
    {
     "name": "stdout",
     "output_type": "stream",
     "text": [
      "Epoch 148 Mean Reward: 429.8805\n"
     ]
    },
    {
     "name": "stderr",
     "output_type": "stream",
     "text": [
      "100%|██████████| 2000/2000 [12:36<00:00,  2.64it/s]\n"
     ]
    },
    {
     "name": "stdout",
     "output_type": "stream",
     "text": [
      "Epoch 149 Mean Reward: 429.753\n"
     ]
    },
    {
     "name": "stderr",
     "output_type": "stream",
     "text": [
      "100%|██████████| 2000/2000 [12:29<00:00,  2.67it/s]\n"
     ]
    },
    {
     "name": "stdout",
     "output_type": "stream",
     "text": [
      "Epoch 150 Mean Reward: 424.7765\n",
      "Epoch 150 Model saved to ./checkpoints/take_cover.ckpt\n",
      "Epoch 150 test:\n",
      "Test Episode 1 Reward: 1194.0\n",
      "Test Episode 2 Reward: 388.0\n",
      "Test Episode 3 Reward: 250.0\n",
      "Test Episode 4 Reward: 267.0\n",
      "Test Episode 5 Reward: 1194.0\n",
      "Test Episode 6 Reward: 287.0\n",
      "Test Episode 7 Reward: 1194.0\n",
      "Test Episode 8 Reward: 208.0\n",
      "Test Episode 9 Reward: 368.0\n",
      "Test Episode 10 Reward: 1194.0\n",
      "Average Test Reward: 654.4\n"
     ]
    },
    {
     "name": "stderr",
     "output_type": "stream",
     "text": [
      "100%|██████████| 2000/2000 [12:14<00:00,  2.72it/s]\n"
     ]
    },
    {
     "name": "stdout",
     "output_type": "stream",
     "text": [
      "Epoch 151 Mean Reward: 420.1605\n"
     ]
    },
    {
     "name": "stderr",
     "output_type": "stream",
     "text": [
      "100%|██████████| 2000/2000 [12:07<00:00,  2.75it/s]\n"
     ]
    },
    {
     "name": "stdout",
     "output_type": "stream",
     "text": [
      "Epoch 152 Mean Reward: 416.506\n"
     ]
    },
    {
     "name": "stderr",
     "output_type": "stream",
     "text": [
      "100%|██████████| 2000/2000 [12:24<00:00,  2.69it/s]\n"
     ]
    },
    {
     "name": "stdout",
     "output_type": "stream",
     "text": [
      "Epoch 153 Mean Reward: 426.2115\n"
     ]
    },
    {
     "name": "stderr",
     "output_type": "stream",
     "text": [
      "100%|██████████| 2000/2000 [12:07<00:00,  2.75it/s]\n"
     ]
    },
    {
     "name": "stdout",
     "output_type": "stream",
     "text": [
      "Epoch 154 Mean Reward: 419.2535\n"
     ]
    },
    {
     "name": "stderr",
     "output_type": "stream",
     "text": [
      "100%|██████████| 2000/2000 [12:30<00:00,  2.66it/s]\n"
     ]
    },
    {
     "name": "stdout",
     "output_type": "stream",
     "text": [
      "Epoch 155 Mean Reward: 432.7625\n"
     ]
    },
    {
     "name": "stderr",
     "output_type": "stream",
     "text": [
      "100%|██████████| 2000/2000 [12:11<00:00,  2.73it/s]\n"
     ]
    },
    {
     "name": "stdout",
     "output_type": "stream",
     "text": [
      "Epoch 156 Mean Reward: 420.315\n"
     ]
    },
    {
     "name": "stderr",
     "output_type": "stream",
     "text": [
      "100%|██████████| 2000/2000 [12:04<00:00,  2.76it/s]\n"
     ]
    },
    {
     "name": "stdout",
     "output_type": "stream",
     "text": [
      "Epoch 157 Mean Reward: 420.182\n"
     ]
    },
    {
     "name": "stderr",
     "output_type": "stream",
     "text": [
      "100%|██████████| 2000/2000 [12:22<00:00,  2.69it/s]\n"
     ]
    },
    {
     "name": "stdout",
     "output_type": "stream",
     "text": [
      "Epoch 158 Mean Reward: 428.2205\n"
     ]
    },
    {
     "name": "stderr",
     "output_type": "stream",
     "text": [
      "100%|██████████| 2000/2000 [12:15<00:00,  2.72it/s]\n"
     ]
    },
    {
     "name": "stdout",
     "output_type": "stream",
     "text": [
      "Epoch 159 Mean Reward: 422.984\n"
     ]
    },
    {
     "name": "stderr",
     "output_type": "stream",
     "text": [
      "100%|██████████| 2000/2000 [12:12<00:00,  2.73it/s]\n"
     ]
    },
    {
     "name": "stdout",
     "output_type": "stream",
     "text": [
      "Epoch 160 Mean Reward: 419.5065\n",
      "Epoch 160 Model saved to ./checkpoints/take_cover.ckpt\n",
      "Epoch 160 test:\n",
      "Test Episode 1 Reward: 333.0\n",
      "Test Episode 2 Reward: 983.0\n",
      "Test Episode 3 Reward: 333.0\n",
      "Test Episode 4 Reward: 333.0\n",
      "Test Episode 5 Reward: 437.0\n",
      "Test Episode 6 Reward: 745.0\n",
      "Test Episode 7 Reward: 333.0\n",
      "Test Episode 8 Reward: 693.0\n",
      "Test Episode 9 Reward: 333.0\n",
      "Test Episode 10 Reward: 333.0\n",
      "Average Test Reward: 485.6\n"
     ]
    },
    {
     "name": "stderr",
     "output_type": "stream",
     "text": [
      "100%|██████████| 2000/2000 [12:18<00:00,  2.71it/s]\n"
     ]
    },
    {
     "name": "stdout",
     "output_type": "stream",
     "text": [
      "Epoch 161 Mean Reward: 427.432\n"
     ]
    },
    {
     "name": "stderr",
     "output_type": "stream",
     "text": [
      "100%|██████████| 2000/2000 [12:09<00:00,  2.74it/s]\n"
     ]
    },
    {
     "name": "stdout",
     "output_type": "stream",
     "text": [
      "Epoch 162 Mean Reward: 419.8695\n"
     ]
    },
    {
     "name": "stderr",
     "output_type": "stream",
     "text": [
      "100%|██████████| 2000/2000 [12:27<00:00,  2.68it/s]\n"
     ]
    },
    {
     "name": "stdout",
     "output_type": "stream",
     "text": [
      "Epoch 163 Mean Reward: 432.7225\n"
     ]
    },
    {
     "name": "stderr",
     "output_type": "stream",
     "text": [
      "100%|██████████| 2000/2000 [12:03<00:00,  2.77it/s]\n"
     ]
    },
    {
     "name": "stdout",
     "output_type": "stream",
     "text": [
      "Epoch 164 Mean Reward: 422.0675\n"
     ]
    },
    {
     "name": "stderr",
     "output_type": "stream",
     "text": [
      "100%|██████████| 2000/2000 [12:08<00:00,  2.75it/s]\n"
     ]
    },
    {
     "name": "stdout",
     "output_type": "stream",
     "text": [
      "Epoch 165 Mean Reward: 423.0175\n"
     ]
    },
    {
     "name": "stderr",
     "output_type": "stream",
     "text": [
      "100%|██████████| 2000/2000 [13:21<00:00,  2.50it/s]\n"
     ]
    },
    {
     "name": "stdout",
     "output_type": "stream",
     "text": [
      "Epoch 166 Mean Reward: 437.7945\n"
     ]
    },
    {
     "name": "stderr",
     "output_type": "stream",
     "text": [
      "100%|██████████| 2000/2000 [12:38<00:00,  2.64it/s]\n"
     ]
    },
    {
     "name": "stdout",
     "output_type": "stream",
     "text": [
      "Epoch 167 Mean Reward: 422.2305\n"
     ]
    },
    {
     "name": "stderr",
     "output_type": "stream",
     "text": [
      "100%|██████████| 2000/2000 [12:49<00:00,  2.60it/s]\n"
     ]
    },
    {
     "name": "stdout",
     "output_type": "stream",
     "text": [
      "Epoch 168 Mean Reward: 431.2535\n"
     ]
    },
    {
     "name": "stderr",
     "output_type": "stream",
     "text": [
      "100%|██████████| 2000/2000 [12:23<00:00,  2.69it/s]\n"
     ]
    },
    {
     "name": "stdout",
     "output_type": "stream",
     "text": [
      "Epoch 169 Mean Reward: 430.6245\n"
     ]
    },
    {
     "name": "stderr",
     "output_type": "stream",
     "text": [
      "100%|██████████| 2000/2000 [12:36<00:00,  2.64it/s]\n"
     ]
    },
    {
     "name": "stdout",
     "output_type": "stream",
     "text": [
      "Epoch 170 Mean Reward: 436.0485\n",
      "Epoch 170 Model saved to ./checkpoints/take_cover.ckpt\n",
      "Epoch 170 test:\n",
      "Test Episode 1 Reward: 364.0\n",
      "Test Episode 2 Reward: 167.0\n",
      "Test Episode 3 Reward: 270.0\n",
      "Test Episode 4 Reward: 284.0\n",
      "Test Episode 5 Reward: 270.0\n",
      "Test Episode 6 Reward: 270.0\n",
      "Test Episode 7 Reward: 270.0\n",
      "Test Episode 8 Reward: 246.0\n",
      "Test Episode 9 Reward: 148.0\n",
      "Test Episode 10 Reward: 139.0\n",
      "Average Test Reward: 242.8\n"
     ]
    },
    {
     "name": "stderr",
     "output_type": "stream",
     "text": [
      "100%|██████████| 2000/2000 [12:26<00:00,  2.68it/s]\n"
     ]
    },
    {
     "name": "stdout",
     "output_type": "stream",
     "text": [
      "Epoch 171 Mean Reward: 439.3715\n"
     ]
    },
    {
     "name": "stderr",
     "output_type": "stream",
     "text": [
      "100%|██████████| 2000/2000 [18:59<00:00,  1.76it/s]\n"
     ]
    },
    {
     "name": "stdout",
     "output_type": "stream",
     "text": [
      "Epoch 172 Mean Reward: 434.968\n"
     ]
    },
    {
     "name": "stderr",
     "output_type": "stream",
     "text": [
      "100%|██████████| 2000/2000 [19:22<00:00,  1.72it/s]\n"
     ]
    },
    {
     "name": "stdout",
     "output_type": "stream",
     "text": [
      "Epoch 173 Mean Reward: 442.752\n"
     ]
    },
    {
     "name": "stderr",
     "output_type": "stream",
     "text": [
      "100%|██████████| 2000/2000 [18:51<00:00,  1.77it/s]\n"
     ]
    },
    {
     "name": "stdout",
     "output_type": "stream",
     "text": [
      "Epoch 174 Mean Reward: 433.642\n"
     ]
    },
    {
     "name": "stderr",
     "output_type": "stream",
     "text": [
      "100%|██████████| 2000/2000 [16:13<00:00,  2.05it/s]\n"
     ]
    },
    {
     "name": "stdout",
     "output_type": "stream",
     "text": [
      "Epoch 175 Mean Reward: 433.1455\n"
     ]
    },
    {
     "name": "stderr",
     "output_type": "stream",
     "text": [
      "100%|██████████| 2000/2000 [18:54<00:00,  1.76it/s]\n"
     ]
    },
    {
     "name": "stdout",
     "output_type": "stream",
     "text": [
      "Epoch 176 Mean Reward: 439.8255\n"
     ]
    },
    {
     "name": "stderr",
     "output_type": "stream",
     "text": [
      "100%|██████████| 2000/2000 [18:13<00:00,  1.83it/s]\n"
     ]
    },
    {
     "name": "stdout",
     "output_type": "stream",
     "text": [
      "Epoch 177 Mean Reward: 441.3085\n"
     ]
    },
    {
     "name": "stderr",
     "output_type": "stream",
     "text": [
      "100%|██████████| 2000/2000 [18:37<00:00,  1.79it/s]\n"
     ]
    },
    {
     "name": "stdout",
     "output_type": "stream",
     "text": [
      "Epoch 178 Mean Reward: 443.0475\n"
     ]
    },
    {
     "name": "stderr",
     "output_type": "stream",
     "text": [
      "100%|██████████| 2000/2000 [15:15<00:00,  2.19it/s]\n"
     ]
    },
    {
     "name": "stdout",
     "output_type": "stream",
     "text": [
      "Epoch 179 Mean Reward: 439.8565\n"
     ]
    },
    {
     "name": "stderr",
     "output_type": "stream",
     "text": [
      "100%|██████████| 2000/2000 [12:50<00:00,  2.60it/s]\n"
     ]
    },
    {
     "name": "stdout",
     "output_type": "stream",
     "text": [
      "Epoch 180 Mean Reward: 439.155\n",
      "Epoch 180 Model saved to ./checkpoints/take_cover.ckpt\n",
      "Epoch 180 test:\n",
      "Test Episode 1 Reward: 474.0\n",
      "Test Episode 2 Reward: 474.0\n",
      "Test Episode 3 Reward: 107.0\n",
      "Test Episode 4 Reward: 306.0\n",
      "Test Episode 5 Reward: 474.0\n",
      "Test Episode 6 Reward: 474.0\n",
      "Test Episode 7 Reward: 474.0\n",
      "Test Episode 8 Reward: 137.0\n",
      "Test Episode 9 Reward: 392.0\n",
      "Test Episode 10 Reward: 351.0\n",
      "Average Test Reward: 366.3\n"
     ]
    },
    {
     "name": "stderr",
     "output_type": "stream",
     "text": [
      "100%|██████████| 2000/2000 [12:36<00:00,  2.64it/s]\n"
     ]
    },
    {
     "name": "stdout",
     "output_type": "stream",
     "text": [
      "Epoch 181 Mean Reward: 435.5515\n"
     ]
    },
    {
     "name": "stderr",
     "output_type": "stream",
     "text": [
      "100%|██████████| 2000/2000 [13:52<00:00,  2.40it/s]\n"
     ]
    },
    {
     "name": "stdout",
     "output_type": "stream",
     "text": [
      "Epoch 182 Mean Reward: 454.977\n"
     ]
    },
    {
     "name": "stderr",
     "output_type": "stream",
     "text": [
      "100%|██████████| 2000/2000 [13:17<00:00,  2.51it/s]\n"
     ]
    },
    {
     "name": "stdout",
     "output_type": "stream",
     "text": [
      "Epoch 183 Mean Reward: 445.659\n"
     ]
    },
    {
     "name": "stderr",
     "output_type": "stream",
     "text": [
      "100%|██████████| 2000/2000 [12:52<00:00,  2.59it/s]\n"
     ]
    },
    {
     "name": "stdout",
     "output_type": "stream",
     "text": [
      "Epoch 184 Mean Reward: 440.817\n"
     ]
    },
    {
     "name": "stderr",
     "output_type": "stream",
     "text": [
      "100%|██████████| 2000/2000 [12:55<00:00,  2.58it/s]\n"
     ]
    },
    {
     "name": "stdout",
     "output_type": "stream",
     "text": [
      "Epoch 185 Mean Reward: 443.3955\n"
     ]
    },
    {
     "name": "stderr",
     "output_type": "stream",
     "text": [
      "100%|██████████| 2000/2000 [12:38<00:00,  2.64it/s]\n"
     ]
    },
    {
     "name": "stdout",
     "output_type": "stream",
     "text": [
      "Epoch 186 Mean Reward: 432.8405\n"
     ]
    },
    {
     "name": "stderr",
     "output_type": "stream",
     "text": [
      "100%|██████████| 2000/2000 [13:00<00:00,  2.56it/s]\n"
     ]
    },
    {
     "name": "stdout",
     "output_type": "stream",
     "text": [
      "Epoch 187 Mean Reward: 448.278\n"
     ]
    },
    {
     "name": "stderr",
     "output_type": "stream",
     "text": [
      "100%|██████████| 2000/2000 [12:58<00:00,  2.57it/s]\n"
     ]
    },
    {
     "name": "stdout",
     "output_type": "stream",
     "text": [
      "Epoch 188 Mean Reward: 445.233\n"
     ]
    },
    {
     "name": "stderr",
     "output_type": "stream",
     "text": [
      "100%|██████████| 2000/2000 [12:56<00:00,  2.57it/s]\n"
     ]
    },
    {
     "name": "stdout",
     "output_type": "stream",
     "text": [
      "Epoch 189 Mean Reward: 442.5325\n"
     ]
    },
    {
     "name": "stderr",
     "output_type": "stream",
     "text": [
      "100%|██████████| 2000/2000 [13:09<00:00,  2.53it/s]\n"
     ]
    },
    {
     "name": "stdout",
     "output_type": "stream",
     "text": [
      "Epoch 190 Mean Reward: 448.0045\n",
      "Epoch 190 Model saved to ./checkpoints/take_cover.ckpt\n",
      "Epoch 190 test:\n",
      "Test Episode 1 Reward: 306.0\n",
      "Test Episode 2 Reward: 1128.0\n",
      "Test Episode 3 Reward: 268.0\n",
      "Test Episode 4 Reward: 120.0\n",
      "Test Episode 5 Reward: 252.0\n",
      "Test Episode 6 Reward: 234.0\n",
      "Test Episode 7 Reward: 273.0\n",
      "Test Episode 8 Reward: 311.0\n",
      "Test Episode 9 Reward: 127.0\n",
      "Test Episode 10 Reward: 1128.0\n",
      "Average Test Reward: 414.7\n"
     ]
    },
    {
     "name": "stderr",
     "output_type": "stream",
     "text": [
      "100%|██████████| 2000/2000 [13:30<00:00,  2.47it/s]\n"
     ]
    },
    {
     "name": "stdout",
     "output_type": "stream",
     "text": [
      "Epoch 191 Mean Reward: 449.0655\n"
     ]
    },
    {
     "name": "stderr",
     "output_type": "stream",
     "text": [
      "100%|██████████| 2000/2000 [13:44<00:00,  2.43it/s]\n"
     ]
    },
    {
     "name": "stdout",
     "output_type": "stream",
     "text": [
      "Epoch 192 Mean Reward: 458.4205\n"
     ]
    },
    {
     "name": "stderr",
     "output_type": "stream",
     "text": [
      "100%|██████████| 2000/2000 [13:49<00:00,  2.41it/s]\n"
     ]
    },
    {
     "name": "stdout",
     "output_type": "stream",
     "text": [
      "Epoch 193 Mean Reward: 460.0125\n"
     ]
    },
    {
     "name": "stderr",
     "output_type": "stream",
     "text": [
      "100%|██████████| 2000/2000 [13:29<00:00,  2.47it/s]\n"
     ]
    },
    {
     "name": "stdout",
     "output_type": "stream",
     "text": [
      "Epoch 194 Mean Reward: 449.5355\n"
     ]
    },
    {
     "name": "stderr",
     "output_type": "stream",
     "text": [
      "100%|██████████| 2000/2000 [13:34<00:00,  2.46it/s]\n"
     ]
    },
    {
     "name": "stdout",
     "output_type": "stream",
     "text": [
      "Epoch 195 Mean Reward: 452.374\n"
     ]
    },
    {
     "name": "stderr",
     "output_type": "stream",
     "text": [
      "100%|██████████| 2000/2000 [13:35<00:00,  2.45it/s]\n"
     ]
    },
    {
     "name": "stdout",
     "output_type": "stream",
     "text": [
      "Epoch 196 Mean Reward: 454.336\n"
     ]
    },
    {
     "name": "stderr",
     "output_type": "stream",
     "text": [
      "100%|██████████| 2000/2000 [13:37<00:00,  2.45it/s]\n"
     ]
    },
    {
     "name": "stdout",
     "output_type": "stream",
     "text": [
      "Epoch 197 Mean Reward: 454.0285\n"
     ]
    },
    {
     "name": "stderr",
     "output_type": "stream",
     "text": [
      "100%|██████████| 2000/2000 [13:22<00:00,  2.49it/s]\n"
     ]
    },
    {
     "name": "stdout",
     "output_type": "stream",
     "text": [
      "Epoch 198 Mean Reward: 443.8925\n"
     ]
    },
    {
     "name": "stderr",
     "output_type": "stream",
     "text": [
      "100%|██████████| 2000/2000 [13:52<00:00,  2.40it/s]\n"
     ]
    },
    {
     "name": "stdout",
     "output_type": "stream",
     "text": [
      "Epoch 199 Mean Reward: 457.7365\n"
     ]
    },
    {
     "name": "stderr",
     "output_type": "stream",
     "text": [
      "100%|██████████| 2000/2000 [13:35<00:00,  2.45it/s]\n"
     ]
    },
    {
     "name": "stdout",
     "output_type": "stream",
     "text": [
      "Epoch 200 Mean Reward: 453.0005\n",
      "Epoch 200 Model saved to ./checkpoints/take_cover.ckpt\n",
      "Epoch 200 test:\n",
      "Test Episode 1 Reward: 368.0\n",
      "Test Episode 2 Reward: 331.0\n",
      "Test Episode 3 Reward: 331.0\n",
      "Test Episode 4 Reward: 408.0\n",
      "Test Episode 5 Reward: 826.0\n",
      "Test Episode 6 Reward: 260.0\n",
      "Test Episode 7 Reward: 331.0\n",
      "Test Episode 8 Reward: 99.0\n",
      "Test Episode 9 Reward: 486.0\n",
      "Test Episode 10 Reward: 205.0\n",
      "Average Test Reward: 364.5\n"
     ]
    },
    {
     "name": "stderr",
     "output_type": "stream",
     "text": [
      "100%|██████████| 2000/2000 [13:17<00:00,  2.51it/s]\n"
     ]
    },
    {
     "name": "stdout",
     "output_type": "stream",
     "text": [
      "Epoch 201 Mean Reward: 455.2915\n"
     ]
    },
    {
     "name": "stderr",
     "output_type": "stream",
     "text": [
      "100%|██████████| 2000/2000 [13:28<00:00,  2.47it/s]\n"
     ]
    },
    {
     "name": "stdout",
     "output_type": "stream",
     "text": [
      "Epoch 202 Mean Reward: 459.5075\n"
     ]
    },
    {
     "name": "stderr",
     "output_type": "stream",
     "text": [
      "100%|██████████| 2000/2000 [13:20<00:00,  2.50it/s]\n"
     ]
    },
    {
     "name": "stdout",
     "output_type": "stream",
     "text": [
      "Epoch 203 Mean Reward: 456.3135\n"
     ]
    },
    {
     "name": "stderr",
     "output_type": "stream",
     "text": [
      "100%|██████████| 2000/2000 [13:32<00:00,  2.46it/s]\n"
     ]
    },
    {
     "name": "stdout",
     "output_type": "stream",
     "text": [
      "Epoch 204 Mean Reward: 465.5185\n"
     ]
    },
    {
     "name": "stderr",
     "output_type": "stream",
     "text": [
      "100%|██████████| 2000/2000 [13:39<00:00,  2.44it/s]\n"
     ]
    },
    {
     "name": "stdout",
     "output_type": "stream",
     "text": [
      "Epoch 205 Mean Reward: 468.0245\n"
     ]
    },
    {
     "name": "stderr",
     "output_type": "stream",
     "text": [
      "100%|██████████| 2000/2000 [13:36<00:00,  2.45it/s]\n"
     ]
    },
    {
     "name": "stdout",
     "output_type": "stream",
     "text": [
      "Epoch 206 Mean Reward: 466.5795\n"
     ]
    },
    {
     "name": "stderr",
     "output_type": "stream",
     "text": [
      "100%|██████████| 2000/2000 [13:31<00:00,  2.46it/s]\n"
     ]
    },
    {
     "name": "stdout",
     "output_type": "stream",
     "text": [
      "Epoch 207 Mean Reward: 462.8595\n"
     ]
    },
    {
     "name": "stderr",
     "output_type": "stream",
     "text": [
      "100%|██████████| 2000/2000 [13:43<00:00,  2.43it/s]\n"
     ]
    },
    {
     "name": "stdout",
     "output_type": "stream",
     "text": [
      "Epoch 208 Mean Reward: 466.7765\n"
     ]
    },
    {
     "name": "stderr",
     "output_type": "stream",
     "text": [
      "100%|██████████| 2000/2000 [13:27<00:00,  2.48it/s]\n"
     ]
    },
    {
     "name": "stdout",
     "output_type": "stream",
     "text": [
      "Epoch 209 Mean Reward: 460.0335\n"
     ]
    },
    {
     "name": "stderr",
     "output_type": "stream",
     "text": [
      "100%|██████████| 2000/2000 [13:51<00:00,  2.41it/s]\n"
     ]
    },
    {
     "name": "stdout",
     "output_type": "stream",
     "text": [
      "Epoch 210 Mean Reward: 476.85\n",
      "Epoch 210 Model saved to ./checkpoints/take_cover.ckpt\n",
      "Epoch 210 test:\n",
      "Test Episode 1 Reward: 317.0\n",
      "Test Episode 2 Reward: 501.0\n",
      "Test Episode 3 Reward: 133.0\n",
      "Test Episode 4 Reward: 501.0\n",
      "Test Episode 5 Reward: 501.0\n",
      "Test Episode 6 Reward: 501.0\n",
      "Test Episode 7 Reward: 501.0\n",
      "Test Episode 8 Reward: 501.0\n",
      "Test Episode 9 Reward: 501.0\n",
      "Test Episode 10 Reward: 265.0\n",
      "Average Test Reward: 422.2\n"
     ]
    },
    {
     "name": "stderr",
     "output_type": "stream",
     "text": [
      "100%|██████████| 2000/2000 [13:56<00:00,  2.39it/s]\n"
     ]
    },
    {
     "name": "stdout",
     "output_type": "stream",
     "text": [
      "Epoch 211 Mean Reward: 462.912\n"
     ]
    },
    {
     "name": "stderr",
     "output_type": "stream",
     "text": [
      "100%|██████████| 2000/2000 [14:02<00:00,  2.37it/s]\n"
     ]
    },
    {
     "name": "stdout",
     "output_type": "stream",
     "text": [
      "Epoch 212 Mean Reward: 462.1345\n"
     ]
    },
    {
     "name": "stderr",
     "output_type": "stream",
     "text": [
      "100%|██████████| 2000/2000 [13:54<00:00,  2.40it/s]\n"
     ]
    },
    {
     "name": "stdout",
     "output_type": "stream",
     "text": [
      "Epoch 213 Mean Reward: 460.502\n"
     ]
    },
    {
     "name": "stderr",
     "output_type": "stream",
     "text": [
      "100%|██████████| 2000/2000 [14:15<00:00,  2.34it/s]\n"
     ]
    },
    {
     "name": "stdout",
     "output_type": "stream",
     "text": [
      "Epoch 214 Mean Reward: 468.5095\n"
     ]
    },
    {
     "name": "stderr",
     "output_type": "stream",
     "text": [
      "100%|██████████| 2000/2000 [14:37<00:00,  2.28it/s]\n"
     ]
    },
    {
     "name": "stdout",
     "output_type": "stream",
     "text": [
      "Epoch 215 Mean Reward: 477.2705\n"
     ]
    },
    {
     "name": "stderr",
     "output_type": "stream",
     "text": [
      "100%|██████████| 2000/2000 [14:45<00:00,  2.26it/s]\n"
     ]
    },
    {
     "name": "stdout",
     "output_type": "stream",
     "text": [
      "Epoch 216 Mean Reward: 478.414\n"
     ]
    },
    {
     "name": "stderr",
     "output_type": "stream",
     "text": [
      "100%|██████████| 2000/2000 [14:46<00:00,  2.26it/s]\n"
     ]
    },
    {
     "name": "stdout",
     "output_type": "stream",
     "text": [
      "Epoch 217 Mean Reward: 470.3615\n"
     ]
    },
    {
     "name": "stderr",
     "output_type": "stream",
     "text": [
      "100%|██████████| 2000/2000 [14:43<00:00,  2.26it/s]\n"
     ]
    },
    {
     "name": "stdout",
     "output_type": "stream",
     "text": [
      "Epoch 218 Mean Reward: 472.1345\n"
     ]
    },
    {
     "name": "stderr",
     "output_type": "stream",
     "text": [
      "100%|██████████| 2000/2000 [14:40<00:00,  2.27it/s]\n"
     ]
    },
    {
     "name": "stdout",
     "output_type": "stream",
     "text": [
      "Epoch 219 Mean Reward: 471.0365\n"
     ]
    },
    {
     "name": "stderr",
     "output_type": "stream",
     "text": [
      "100%|██████████| 2000/2000 [14:17<00:00,  2.33it/s]\n"
     ]
    },
    {
     "name": "stdout",
     "output_type": "stream",
     "text": [
      "Epoch 220 Mean Reward: 462.7005\n",
      "Epoch 220 Model saved to ./checkpoints/take_cover.ckpt\n",
      "Epoch 220 test:\n",
      "Test Episode 1 Reward: 112.0\n",
      "Test Episode 2 Reward: 527.0\n",
      "Test Episode 3 Reward: 510.0\n",
      "Test Episode 4 Reward: 527.0\n",
      "Test Episode 5 Reward: 527.0\n",
      "Test Episode 6 Reward: 145.0\n",
      "Test Episode 7 Reward: 216.0\n",
      "Test Episode 8 Reward: 527.0\n",
      "Test Episode 9 Reward: 527.0\n",
      "Test Episode 10 Reward: 131.0\n",
      "Average Test Reward: 374.9\n"
     ]
    },
    {
     "name": "stderr",
     "output_type": "stream",
     "text": [
      "100%|██████████| 2000/2000 [14:33<00:00,  2.29it/s]\n"
     ]
    },
    {
     "name": "stdout",
     "output_type": "stream",
     "text": [
      "Epoch 221 Mean Reward: 483.407\n"
     ]
    },
    {
     "name": "stderr",
     "output_type": "stream",
     "text": [
      "100%|██████████| 2000/2000 [14:28<00:00,  2.30it/s]\n"
     ]
    },
    {
     "name": "stdout",
     "output_type": "stream",
     "text": [
      "Epoch 222 Mean Reward: 476.206\n"
     ]
    },
    {
     "name": "stderr",
     "output_type": "stream",
     "text": [
      "100%|██████████| 2000/2000 [14:56<00:00,  2.23it/s]\n"
     ]
    },
    {
     "name": "stdout",
     "output_type": "stream",
     "text": [
      "Epoch 223 Mean Reward: 486.9495\n"
     ]
    },
    {
     "name": "stderr",
     "output_type": "stream",
     "text": [
      "100%|██████████| 2000/2000 [14:18<00:00,  2.33it/s]\n"
     ]
    },
    {
     "name": "stdout",
     "output_type": "stream",
     "text": [
      "Epoch 224 Mean Reward: 463.4425\n"
     ]
    },
    {
     "name": "stderr",
     "output_type": "stream",
     "text": [
      "100%|██████████| 2000/2000 [14:47<00:00,  2.25it/s]\n"
     ]
    },
    {
     "name": "stdout",
     "output_type": "stream",
     "text": [
      "Epoch 225 Mean Reward: 487.3705\n"
     ]
    },
    {
     "name": "stderr",
     "output_type": "stream",
     "text": [
      "100%|██████████| 2000/2000 [14:37<00:00,  2.28it/s]\n"
     ]
    },
    {
     "name": "stdout",
     "output_type": "stream",
     "text": [
      "Epoch 226 Mean Reward: 482.6545\n"
     ]
    },
    {
     "name": "stderr",
     "output_type": "stream",
     "text": [
      "100%|██████████| 2000/2000 [14:15<00:00,  2.34it/s]\n"
     ]
    },
    {
     "name": "stdout",
     "output_type": "stream",
     "text": [
      "Epoch 227 Mean Reward: 484.6945\n"
     ]
    },
    {
     "name": "stderr",
     "output_type": "stream",
     "text": [
      "100%|██████████| 2000/2000 [15:44<00:00,  2.12it/s]\n"
     ]
    },
    {
     "name": "stdout",
     "output_type": "stream",
     "text": [
      "Epoch 228 Mean Reward: 475.812\n"
     ]
    },
    {
     "name": "stderr",
     "output_type": "stream",
     "text": [
      "100%|██████████| 2000/2000 [16:29<00:00,  2.02it/s]\n"
     ]
    },
    {
     "name": "stdout",
     "output_type": "stream",
     "text": [
      "Epoch 229 Mean Reward: 470.2555\n"
     ]
    },
    {
     "name": "stderr",
     "output_type": "stream",
     "text": [
      "100%|██████████| 2000/2000 [14:16<00:00,  2.34it/s]\n"
     ]
    },
    {
     "name": "stdout",
     "output_type": "stream",
     "text": [
      "Epoch 230 Mean Reward: 478.086\n",
      "Epoch 230 Model saved to ./checkpoints/take_cover.ckpt\n",
      "Epoch 230 test:\n",
      "Test Episode 1 Reward: 148.0\n",
      "Test Episode 2 Reward: 466.0\n",
      "Test Episode 3 Reward: 471.0\n",
      "Test Episode 4 Reward: 446.0\n",
      "Test Episode 5 Reward: 316.0\n",
      "Test Episode 6 Reward: 471.0\n",
      "Test Episode 7 Reward: 510.0\n",
      "Test Episode 8 Reward: 471.0\n",
      "Test Episode 9 Reward: 224.0\n",
      "Test Episode 10 Reward: 471.0\n",
      "Average Test Reward: 399.4\n"
     ]
    },
    {
     "name": "stderr",
     "output_type": "stream",
     "text": [
      "100%|██████████| 2000/2000 [14:14<00:00,  2.34it/s]\n"
     ]
    },
    {
     "name": "stdout",
     "output_type": "stream",
     "text": [
      "Epoch 231 Mean Reward: 467.2985\n"
     ]
    },
    {
     "name": "stderr",
     "output_type": "stream",
     "text": [
      "100%|██████████| 2000/2000 [15:43<00:00,  2.12it/s]\n"
     ]
    },
    {
     "name": "stdout",
     "output_type": "stream",
     "text": [
      "Epoch 232 Mean Reward: 493.383\n"
     ]
    },
    {
     "name": "stderr",
     "output_type": "stream",
     "text": [
      "100%|██████████| 2000/2000 [14:50<00:00,  2.25it/s]\n"
     ]
    },
    {
     "name": "stdout",
     "output_type": "stream",
     "text": [
      "Epoch 233 Mean Reward: 478.923\n"
     ]
    },
    {
     "name": "stderr",
     "output_type": "stream",
     "text": [
      "100%|██████████| 2000/2000 [15:01<00:00,  2.22it/s]\n"
     ]
    },
    {
     "name": "stdout",
     "output_type": "stream",
     "text": [
      "Epoch 234 Mean Reward: 482.6105\n"
     ]
    },
    {
     "name": "stderr",
     "output_type": "stream",
     "text": [
      "100%|██████████| 2000/2000 [15:19<00:00,  2.17it/s]\n"
     ]
    },
    {
     "name": "stdout",
     "output_type": "stream",
     "text": [
      "Epoch 235 Mean Reward: 490.522\n"
     ]
    },
    {
     "name": "stderr",
     "output_type": "stream",
     "text": [
      "100%|██████████| 2000/2000 [15:25<00:00,  2.16it/s]\n"
     ]
    },
    {
     "name": "stdout",
     "output_type": "stream",
     "text": [
      "Epoch 236 Mean Reward: 492.357\n"
     ]
    },
    {
     "name": "stderr",
     "output_type": "stream",
     "text": [
      "100%|██████████| 2000/2000 [15:13<00:00,  2.19it/s]\n"
     ]
    },
    {
     "name": "stdout",
     "output_type": "stream",
     "text": [
      "Epoch 237 Mean Reward: 489.1225\n"
     ]
    },
    {
     "name": "stderr",
     "output_type": "stream",
     "text": [
      "100%|██████████| 2000/2000 [15:11<00:00,  2.19it/s]\n"
     ]
    },
    {
     "name": "stdout",
     "output_type": "stream",
     "text": [
      "Epoch 238 Mean Reward: 486.989\n"
     ]
    },
    {
     "name": "stderr",
     "output_type": "stream",
     "text": [
      "100%|██████████| 2000/2000 [15:29<00:00,  2.15it/s]\n"
     ]
    },
    {
     "name": "stdout",
     "output_type": "stream",
     "text": [
      "Epoch 239 Mean Reward: 495.846\n"
     ]
    },
    {
     "name": "stderr",
     "output_type": "stream",
     "text": [
      "100%|██████████| 2000/2000 [15:14<00:00,  2.19it/s]\n"
     ]
    },
    {
     "name": "stdout",
     "output_type": "stream",
     "text": [
      "Epoch 240 Mean Reward: 483.075\n",
      "Epoch 240 Model saved to ./checkpoints/take_cover.ckpt\n",
      "Epoch 240 test:\n",
      "Test Episode 1 Reward: 338.0\n",
      "Test Episode 2 Reward: 1038.0\n",
      "Test Episode 3 Reward: 338.0\n",
      "Test Episode 4 Reward: 338.0\n",
      "Test Episode 5 Reward: 338.0\n",
      "Test Episode 6 Reward: 119.0\n",
      "Test Episode 7 Reward: 500.0\n",
      "Test Episode 8 Reward: 296.0\n",
      "Test Episode 9 Reward: 488.0\n",
      "Test Episode 10 Reward: 428.0\n",
      "Average Test Reward: 422.1\n"
     ]
    },
    {
     "name": "stderr",
     "output_type": "stream",
     "text": [
      "100%|██████████| 2000/2000 [15:06<00:00,  2.21it/s]\n"
     ]
    },
    {
     "name": "stdout",
     "output_type": "stream",
     "text": [
      "Epoch 241 Mean Reward: 487.5875\n"
     ]
    },
    {
     "name": "stderr",
     "output_type": "stream",
     "text": [
      "100%|██████████| 2000/2000 [15:21<00:00,  2.17it/s]\n"
     ]
    },
    {
     "name": "stdout",
     "output_type": "stream",
     "text": [
      "Epoch 242 Mean Reward: 501.319\n"
     ]
    },
    {
     "name": "stderr",
     "output_type": "stream",
     "text": [
      "100%|██████████| 2000/2000 [15:18<00:00,  2.18it/s]\n"
     ]
    },
    {
     "name": "stdout",
     "output_type": "stream",
     "text": [
      "Epoch 243 Mean Reward: 492.534\n"
     ]
    },
    {
     "name": "stderr",
     "output_type": "stream",
     "text": [
      "100%|██████████| 2000/2000 [15:32<00:00,  2.15it/s]\n"
     ]
    },
    {
     "name": "stdout",
     "output_type": "stream",
     "text": [
      "Epoch 244 Mean Reward: 500.3515\n"
     ]
    },
    {
     "name": "stderr",
     "output_type": "stream",
     "text": [
      "100%|██████████| 2000/2000 [15:48<00:00,  2.11it/s]\n"
     ]
    },
    {
     "name": "stdout",
     "output_type": "stream",
     "text": [
      "Epoch 245 Mean Reward: 507.628\n"
     ]
    },
    {
     "name": "stderr",
     "output_type": "stream",
     "text": [
      "100%|██████████| 2000/2000 [15:06<00:00,  2.21it/s]\n"
     ]
    },
    {
     "name": "stdout",
     "output_type": "stream",
     "text": [
      "Epoch 246 Mean Reward: 488.6495\n"
     ]
    },
    {
     "name": "stderr",
     "output_type": "stream",
     "text": [
      "100%|██████████| 2000/2000 [15:15<00:00,  2.18it/s]\n"
     ]
    },
    {
     "name": "stdout",
     "output_type": "stream",
     "text": [
      "Epoch 247 Mean Reward: 498.8075\n"
     ]
    },
    {
     "name": "stderr",
     "output_type": "stream",
     "text": [
      "100%|██████████| 2000/2000 [15:03<00:00,  2.21it/s]\n"
     ]
    },
    {
     "name": "stdout",
     "output_type": "stream",
     "text": [
      "Epoch 248 Mean Reward: 492.492\n"
     ]
    },
    {
     "name": "stderr",
     "output_type": "stream",
     "text": [
      "100%|██████████| 2000/2000 [15:07<00:00,  2.20it/s]\n"
     ]
    },
    {
     "name": "stdout",
     "output_type": "stream",
     "text": [
      "Epoch 249 Mean Reward: 499.266\n"
     ]
    },
    {
     "name": "stderr",
     "output_type": "stream",
     "text": [
      "100%|██████████| 2000/2000 [14:58<00:00,  2.23it/s]\n"
     ]
    },
    {
     "name": "stdout",
     "output_type": "stream",
     "text": [
      "Epoch 250 Mean Reward: 493.7195\n",
      "Epoch 250 Model saved to ./checkpoints/take_cover.ckpt\n",
      "Epoch 250 test:\n",
      "Test Episode 1 Reward: 258.0\n",
      "Test Episode 2 Reward: 530.0\n",
      "Test Episode 3 Reward: 530.0\n",
      "Test Episode 4 Reward: 530.0\n",
      "Test Episode 5 Reward: 530.0\n",
      "Test Episode 6 Reward: 288.0\n",
      "Test Episode 7 Reward: 341.0\n",
      "Test Episode 8 Reward: 242.0\n",
      "Test Episode 9 Reward: 530.0\n",
      "Test Episode 10 Reward: 166.0\n",
      "Average Test Reward: 394.5\n"
     ]
    },
    {
     "name": "stderr",
     "output_type": "stream",
     "text": [
      "100%|██████████| 2000/2000 [15:35<00:00,  2.14it/s]\n"
     ]
    },
    {
     "name": "stdout",
     "output_type": "stream",
     "text": [
      "Epoch 251 Mean Reward: 506.801\n"
     ]
    },
    {
     "name": "stderr",
     "output_type": "stream",
     "text": [
      "100%|██████████| 2000/2000 [15:52<00:00,  2.10it/s]\n"
     ]
    },
    {
     "name": "stdout",
     "output_type": "stream",
     "text": [
      "Epoch 252 Mean Reward: 511.034\n"
     ]
    },
    {
     "name": "stderr",
     "output_type": "stream",
     "text": [
      "100%|██████████| 2000/2000 [16:07<00:00,  2.07it/s]\n"
     ]
    },
    {
     "name": "stdout",
     "output_type": "stream",
     "text": [
      "Epoch 253 Mean Reward: 512.6235\n"
     ]
    },
    {
     "name": "stderr",
     "output_type": "stream",
     "text": [
      "100%|██████████| 2000/2000 [15:59<00:00,  2.08it/s]\n"
     ]
    },
    {
     "name": "stdout",
     "output_type": "stream",
     "text": [
      "Epoch 254 Mean Reward: 508.998\n"
     ]
    },
    {
     "name": "stderr",
     "output_type": "stream",
     "text": [
      "100%|██████████| 2000/2000 [16:32<00:00,  2.02it/s]\n"
     ]
    },
    {
     "name": "stdout",
     "output_type": "stream",
     "text": [
      "Epoch 255 Mean Reward: 523.764\n"
     ]
    },
    {
     "name": "stderr",
     "output_type": "stream",
     "text": [
      "100%|██████████| 2000/2000 [16:07<00:00,  2.07it/s]\n"
     ]
    },
    {
     "name": "stdout",
     "output_type": "stream",
     "text": [
      "Epoch 256 Mean Reward: 504.965\n"
     ]
    },
    {
     "name": "stderr",
     "output_type": "stream",
     "text": [
      "100%|██████████| 2000/2000 [16:22<00:00,  2.04it/s]\n"
     ]
    },
    {
     "name": "stdout",
     "output_type": "stream",
     "text": [
      "Epoch 257 Mean Reward: 518.3645\n"
     ]
    },
    {
     "name": "stderr",
     "output_type": "stream",
     "text": [
      "100%|██████████| 2000/2000 [16:31<00:00,  2.02it/s]\n"
     ]
    },
    {
     "name": "stdout",
     "output_type": "stream",
     "text": [
      "Epoch 258 Mean Reward: 524.6285\n"
     ]
    },
    {
     "name": "stderr",
     "output_type": "stream",
     "text": [
      "100%|██████████| 2000/2000 [16:31<00:00,  2.02it/s]\n"
     ]
    },
    {
     "name": "stdout",
     "output_type": "stream",
     "text": [
      "Epoch 259 Mean Reward: 522.8985\n"
     ]
    },
    {
     "name": "stderr",
     "output_type": "stream",
     "text": [
      "100%|██████████| 2000/2000 [16:06<00:00,  2.07it/s]\n"
     ]
    },
    {
     "name": "stdout",
     "output_type": "stream",
     "text": [
      "Epoch 260 Mean Reward: 503.2405\n",
      "Epoch 260 Model saved to ./checkpoints/take_cover.ckpt\n",
      "Epoch 260 test:\n",
      "Test Episode 1 Reward: 117.0\n",
      "Test Episode 2 Reward: 273.0\n",
      "Test Episode 3 Reward: 121.0\n",
      "Test Episode 4 Reward: 1101.0\n",
      "Test Episode 5 Reward: 1101.0\n",
      "Test Episode 6 Reward: 358.0\n",
      "Test Episode 7 Reward: 1101.0\n",
      "Test Episode 8 Reward: 1101.0\n",
      "Test Episode 9 Reward: 1101.0\n",
      "Test Episode 10 Reward: 189.0\n",
      "Average Test Reward: 656.3\n"
     ]
    },
    {
     "name": "stderr",
     "output_type": "stream",
     "text": [
      "100%|██████████| 2000/2000 [15:38<00:00,  2.13it/s]\n"
     ]
    },
    {
     "name": "stdout",
     "output_type": "stream",
     "text": [
      "Epoch 261 Mean Reward: 503.865\n"
     ]
    },
    {
     "name": "stderr",
     "output_type": "stream",
     "text": [
      "100%|██████████| 2000/2000 [15:44<00:00,  2.12it/s]\n"
     ]
    },
    {
     "name": "stdout",
     "output_type": "stream",
     "text": [
      "Epoch 262 Mean Reward: 504.5265\n"
     ]
    },
    {
     "name": "stderr",
     "output_type": "stream",
     "text": [
      "100%|██████████| 2000/2000 [16:03<00:00,  2.07it/s]\n"
     ]
    },
    {
     "name": "stdout",
     "output_type": "stream",
     "text": [
      "Epoch 263 Mean Reward: 509.2015\n"
     ]
    },
    {
     "name": "stderr",
     "output_type": "stream",
     "text": [
      "100%|██████████| 2000/2000 [16:24<00:00,  2.03it/s]\n"
     ]
    },
    {
     "name": "stdout",
     "output_type": "stream",
     "text": [
      "Epoch 264 Mean Reward: 529.004\n"
     ]
    },
    {
     "name": "stderr",
     "output_type": "stream",
     "text": [
      "100%|██████████| 2000/2000 [16:14<00:00,  2.05it/s]\n"
     ]
    },
    {
     "name": "stdout",
     "output_type": "stream",
     "text": [
      "Epoch 265 Mean Reward: 512.261\n"
     ]
    },
    {
     "name": "stderr",
     "output_type": "stream",
     "text": [
      "100%|██████████| 2000/2000 [16:25<00:00,  2.03it/s]\n"
     ]
    },
    {
     "name": "stdout",
     "output_type": "stream",
     "text": [
      "Epoch 266 Mean Reward: 514.776\n"
     ]
    },
    {
     "name": "stderr",
     "output_type": "stream",
     "text": [
      "100%|██████████| 2000/2000 [16:13<00:00,  2.05it/s]\n"
     ]
    },
    {
     "name": "stdout",
     "output_type": "stream",
     "text": [
      "Epoch 267 Mean Reward: 508.8345\n"
     ]
    },
    {
     "name": "stderr",
     "output_type": "stream",
     "text": [
      "100%|██████████| 2000/2000 [16:45<00:00,  1.99it/s]\n"
     ]
    },
    {
     "name": "stdout",
     "output_type": "stream",
     "text": [
      "Epoch 268 Mean Reward: 524.0585\n"
     ]
    },
    {
     "name": "stderr",
     "output_type": "stream",
     "text": [
      "100%|██████████| 2000/2000 [16:57<00:00,  1.97it/s]\n"
     ]
    },
    {
     "name": "stdout",
     "output_type": "stream",
     "text": [
      "Epoch 269 Mean Reward: 525.92\n"
     ]
    },
    {
     "name": "stderr",
     "output_type": "stream",
     "text": [
      "100%|██████████| 2000/2000 [16:26<00:00,  2.03it/s]\n"
     ]
    },
    {
     "name": "stdout",
     "output_type": "stream",
     "text": [
      "Epoch 270 Mean Reward: 533.73\n",
      "Epoch 270 Model saved to ./checkpoints/take_cover.ckpt\n",
      "Epoch 270 test:\n",
      "Test Episode 1 Reward: 1037.0\n",
      "Test Episode 2 Reward: 1037.0\n",
      "Test Episode 3 Reward: 1037.0\n",
      "Test Episode 4 Reward: 260.0\n",
      "Test Episode 5 Reward: 289.0\n",
      "Test Episode 6 Reward: 1037.0\n",
      "Test Episode 7 Reward: 609.0\n",
      "Test Episode 8 Reward: 175.0\n",
      "Test Episode 9 Reward: 1037.0\n",
      "Test Episode 10 Reward: 1037.0\n",
      "Average Test Reward: 755.5\n"
     ]
    },
    {
     "name": "stderr",
     "output_type": "stream",
     "text": [
      "100%|██████████| 2000/2000 [16:49<00:00,  1.98it/s]\n"
     ]
    },
    {
     "name": "stdout",
     "output_type": "stream",
     "text": [
      "Epoch 271 Mean Reward: 521.962\n"
     ]
    },
    {
     "name": "stderr",
     "output_type": "stream",
     "text": [
      "100%|██████████| 2000/2000 [20:53<00:00,  1.60it/s]\n"
     ]
    },
    {
     "name": "stdout",
     "output_type": "stream",
     "text": [
      "Epoch 272 Mean Reward: 527.918\n"
     ]
    },
    {
     "name": "stderr",
     "output_type": "stream",
     "text": [
      "100%|██████████| 2000/2000 [16:27<00:00,  2.03it/s]\n"
     ]
    },
    {
     "name": "stdout",
     "output_type": "stream",
     "text": [
      "Epoch 273 Mean Reward: 525.7325\n"
     ]
    },
    {
     "name": "stderr",
     "output_type": "stream",
     "text": [
      "100%|██████████| 2000/2000 [16:08<00:00,  2.06it/s]\n"
     ]
    },
    {
     "name": "stdout",
     "output_type": "stream",
     "text": [
      "Epoch 274 Mean Reward: 517.4145\n"
     ]
    },
    {
     "name": "stderr",
     "output_type": "stream",
     "text": [
      "100%|██████████| 2000/2000 [19:35<00:00,  1.70it/s]\n"
     ]
    },
    {
     "name": "stdout",
     "output_type": "stream",
     "text": [
      "Epoch 275 Mean Reward: 523.458\n"
     ]
    },
    {
     "name": "stderr",
     "output_type": "stream",
     "text": [
      "100%|██████████| 2000/2000 [16:37<00:00,  2.00it/s]\n"
     ]
    },
    {
     "name": "stdout",
     "output_type": "stream",
     "text": [
      "Epoch 276 Mean Reward: 534.1395\n"
     ]
    },
    {
     "name": "stderr",
     "output_type": "stream",
     "text": [
      "100%|██████████| 2000/2000 [15:54<00:00,  2.10it/s]\n"
     ]
    },
    {
     "name": "stdout",
     "output_type": "stream",
     "text": [
      "Epoch 277 Mean Reward: 527.208\n"
     ]
    },
    {
     "name": "stderr",
     "output_type": "stream",
     "text": [
      "100%|██████████| 2000/2000 [15:44<00:00,  2.12it/s]\n"
     ]
    },
    {
     "name": "stdout",
     "output_type": "stream",
     "text": [
      "Epoch 278 Mean Reward: 527.6805\n"
     ]
    },
    {
     "name": "stderr",
     "output_type": "stream",
     "text": [
      "100%|██████████| 2000/2000 [16:39<00:00,  2.00it/s]\n"
     ]
    },
    {
     "name": "stdout",
     "output_type": "stream",
     "text": [
      "Epoch 279 Mean Reward: 539.781\n"
     ]
    },
    {
     "name": "stderr",
     "output_type": "stream",
     "text": [
      "100%|██████████| 2000/2000 [17:05<00:00,  1.95it/s]\n"
     ]
    },
    {
     "name": "stdout",
     "output_type": "stream",
     "text": [
      "Epoch 280 Mean Reward: 534.277\n",
      "Epoch 280 Model saved to ./checkpoints/take_cover.ckpt\n",
      "Epoch 280 test:\n",
      "Test Episode 1 Reward: 133.0\n",
      "Test Episode 2 Reward: 936.0\n",
      "Test Episode 3 Reward: 936.0\n",
      "Test Episode 4 Reward: 105.0\n",
      "Test Episode 5 Reward: 936.0\n",
      "Test Episode 6 Reward: 936.0\n",
      "Test Episode 7 Reward: 127.0\n",
      "Test Episode 8 Reward: 120.0\n",
      "Test Episode 9 Reward: 936.0\n",
      "Test Episode 10 Reward: 936.0\n",
      "Average Test Reward: 610.1\n"
     ]
    },
    {
     "name": "stderr",
     "output_type": "stream",
     "text": [
      "100%|██████████| 2000/2000 [16:41<00:00,  2.00it/s]\n"
     ]
    },
    {
     "name": "stdout",
     "output_type": "stream",
     "text": [
      "Epoch 281 Mean Reward: 524.565\n"
     ]
    },
    {
     "name": "stderr",
     "output_type": "stream",
     "text": [
      "100%|██████████| 2000/2000 [16:31<00:00,  2.02it/s]\n"
     ]
    },
    {
     "name": "stdout",
     "output_type": "stream",
     "text": [
      "Epoch 282 Mean Reward: 527.848\n"
     ]
    },
    {
     "name": "stderr",
     "output_type": "stream",
     "text": [
      "100%|██████████| 2000/2000 [16:37<00:00,  2.00it/s]\n"
     ]
    },
    {
     "name": "stdout",
     "output_type": "stream",
     "text": [
      "Epoch 283 Mean Reward: 531.062\n"
     ]
    },
    {
     "name": "stderr",
     "output_type": "stream",
     "text": [
      "100%|██████████| 2000/2000 [16:27<00:00,  2.03it/s]\n"
     ]
    },
    {
     "name": "stdout",
     "output_type": "stream",
     "text": [
      "Epoch 284 Mean Reward: 527.547\n"
     ]
    },
    {
     "name": "stderr",
     "output_type": "stream",
     "text": [
      "100%|██████████| 2000/2000 [17:01<00:00,  1.96it/s]\n"
     ]
    },
    {
     "name": "stdout",
     "output_type": "stream",
     "text": [
      "Epoch 285 Mean Reward: 540.411\n"
     ]
    },
    {
     "name": "stderr",
     "output_type": "stream",
     "text": [
      "100%|██████████| 2000/2000 [16:38<00:00,  2.00it/s]\n"
     ]
    },
    {
     "name": "stdout",
     "output_type": "stream",
     "text": [
      "Epoch 286 Mean Reward: 531.066\n"
     ]
    },
    {
     "name": "stderr",
     "output_type": "stream",
     "text": [
      "100%|██████████| 2000/2000 [16:52<00:00,  1.98it/s]\n"
     ]
    },
    {
     "name": "stdout",
     "output_type": "stream",
     "text": [
      "Epoch 287 Mean Reward: 535.108\n"
     ]
    },
    {
     "name": "stderr",
     "output_type": "stream",
     "text": [
      "100%|██████████| 2000/2000 [16:38<00:00,  2.00it/s]\n"
     ]
    },
    {
     "name": "stdout",
     "output_type": "stream",
     "text": [
      "Epoch 288 Mean Reward: 525.1425\n"
     ]
    },
    {
     "name": "stderr",
     "output_type": "stream",
     "text": [
      "100%|██████████| 2000/2000 [16:50<00:00,  1.98it/s]\n"
     ]
    },
    {
     "name": "stdout",
     "output_type": "stream",
     "text": [
      "Epoch 289 Mean Reward: 535.42\n"
     ]
    },
    {
     "name": "stderr",
     "output_type": "stream",
     "text": [
      "100%|██████████| 2000/2000 [16:37<00:00,  2.01it/s]\n"
     ]
    },
    {
     "name": "stdout",
     "output_type": "stream",
     "text": [
      "Epoch 290 Mean Reward: 531.667\n",
      "Epoch 290 Model saved to ./checkpoints/take_cover.ckpt\n",
      "Epoch 290 test:\n",
      "Test Episode 1 Reward: 155.0\n",
      "Test Episode 2 Reward: 314.0\n",
      "Test Episode 3 Reward: 411.0\n",
      "Test Episode 4 Reward: 296.0\n",
      "Test Episode 5 Reward: 209.0\n",
      "Test Episode 6 Reward: 221.0\n",
      "Test Episode 7 Reward: 111.0\n",
      "Test Episode 8 Reward: 393.0\n",
      "Test Episode 9 Reward: 211.0\n",
      "Test Episode 10 Reward: 408.0\n",
      "Average Test Reward: 272.9\n"
     ]
    },
    {
     "name": "stderr",
     "output_type": "stream",
     "text": [
      "100%|██████████| 2000/2000 [16:55<00:00,  1.97it/s]\n"
     ]
    },
    {
     "name": "stdout",
     "output_type": "stream",
     "text": [
      "Epoch 291 Mean Reward: 518.7375\n"
     ]
    },
    {
     "name": "stderr",
     "output_type": "stream",
     "text": [
      "100%|██████████| 2000/2000 [17:31<00:00,  1.90it/s]\n"
     ]
    },
    {
     "name": "stdout",
     "output_type": "stream",
     "text": [
      "Epoch 292 Mean Reward: 531.746\n"
     ]
    },
    {
     "name": "stderr",
     "output_type": "stream",
     "text": [
      "100%|██████████| 2000/2000 [17:52<00:00,  1.86it/s]\n"
     ]
    },
    {
     "name": "stdout",
     "output_type": "stream",
     "text": [
      "Epoch 293 Mean Reward: 535.766\n"
     ]
    },
    {
     "name": "stderr",
     "output_type": "stream",
     "text": [
      "100%|██████████| 2000/2000 [17:53<00:00,  1.86it/s]\n"
     ]
    },
    {
     "name": "stdout",
     "output_type": "stream",
     "text": [
      "Epoch 294 Mean Reward: 536.058\n"
     ]
    },
    {
     "name": "stderr",
     "output_type": "stream",
     "text": [
      "100%|██████████| 2000/2000 [18:11<00:00,  1.83it/s]\n"
     ]
    },
    {
     "name": "stdout",
     "output_type": "stream",
     "text": [
      "Epoch 295 Mean Reward: 542.169\n"
     ]
    },
    {
     "name": "stderr",
     "output_type": "stream",
     "text": [
      "100%|██████████| 2000/2000 [17:30<00:00,  1.90it/s]\n"
     ]
    },
    {
     "name": "stdout",
     "output_type": "stream",
     "text": [
      "Epoch 296 Mean Reward: 518.781\n"
     ]
    },
    {
     "name": "stderr",
     "output_type": "stream",
     "text": [
      "100%|██████████| 2000/2000 [17:48<00:00,  1.87it/s]\n"
     ]
    },
    {
     "name": "stdout",
     "output_type": "stream",
     "text": [
      "Epoch 297 Mean Reward: 535.107\n"
     ]
    },
    {
     "name": "stderr",
     "output_type": "stream",
     "text": [
      "100%|██████████| 2000/2000 [17:33<00:00,  1.90it/s]\n"
     ]
    },
    {
     "name": "stdout",
     "output_type": "stream",
     "text": [
      "Epoch 298 Mean Reward: 535.4525\n"
     ]
    },
    {
     "name": "stderr",
     "output_type": "stream",
     "text": [
      "100%|██████████| 2000/2000 [17:23<00:00,  1.92it/s]\n"
     ]
    },
    {
     "name": "stdout",
     "output_type": "stream",
     "text": [
      "Epoch 299 Mean Reward: 530.942\n"
     ]
    },
    {
     "name": "stderr",
     "output_type": "stream",
     "text": [
      "100%|██████████| 2000/2000 [17:51<00:00,  1.87it/s]\n"
     ]
    },
    {
     "name": "stdout",
     "output_type": "stream",
     "text": [
      "Epoch 300 Mean Reward: 529.2635\n",
      "Epoch 300 Model saved to ./checkpoints/take_cover.ckpt\n",
      "Epoch 300 test:\n",
      "Test Episode 1 Reward: 463.0\n",
      "Test Episode 2 Reward: 305.0\n",
      "Test Episode 3 Reward: 463.0\n",
      "Test Episode 4 Reward: 463.0\n",
      "Test Episode 5 Reward: 198.0\n",
      "Test Episode 6 Reward: 463.0\n",
      "Test Episode 7 Reward: 463.0\n",
      "Test Episode 8 Reward: 276.0\n",
      "Test Episode 9 Reward: 390.0\n",
      "Test Episode 10 Reward: 209.0\n",
      "Average Test Reward: 369.3\n"
     ]
    },
    {
     "name": "stderr",
     "output_type": "stream",
     "text": [
      "100%|██████████| 2000/2000 [18:17<00:00,  1.82it/s]\n"
     ]
    },
    {
     "name": "stdout",
     "output_type": "stream",
     "text": [
      "Epoch 301 Mean Reward: 540.2335\n"
     ]
    },
    {
     "name": "stderr",
     "output_type": "stream",
     "text": [
      "100%|██████████| 2000/2000 [18:53<00:00,  1.76it/s]\n"
     ]
    },
    {
     "name": "stdout",
     "output_type": "stream",
     "text": [
      "Epoch 302 Mean Reward: 553.1675\n"
     ]
    },
    {
     "name": "stderr",
     "output_type": "stream",
     "text": [
      "100%|██████████| 2000/2000 [19:21<00:00,  1.72it/s]\n"
     ]
    },
    {
     "name": "stdout",
     "output_type": "stream",
     "text": [
      "Epoch 303 Mean Reward: 561.463\n"
     ]
    },
    {
     "name": "stderr",
     "output_type": "stream",
     "text": [
      "100%|██████████| 2000/2000 [19:13<00:00,  1.73it/s]\n"
     ]
    },
    {
     "name": "stdout",
     "output_type": "stream",
     "text": [
      "Epoch 304 Mean Reward: 558.1315\n"
     ]
    },
    {
     "name": "stderr",
     "output_type": "stream",
     "text": [
      "100%|██████████| 2000/2000 [18:33<00:00,  1.80it/s]\n"
     ]
    },
    {
     "name": "stdout",
     "output_type": "stream",
     "text": [
      "Epoch 305 Mean Reward: 538.042\n"
     ]
    },
    {
     "name": "stderr",
     "output_type": "stream",
     "text": [
      "100%|██████████| 2000/2000 [18:42<00:00,  1.78it/s]\n"
     ]
    },
    {
     "name": "stdout",
     "output_type": "stream",
     "text": [
      "Epoch 306 Mean Reward: 539.142\n"
     ]
    },
    {
     "name": "stderr",
     "output_type": "stream",
     "text": [
      "100%|██████████| 2000/2000 [18:49<00:00,  1.77it/s]\n"
     ]
    },
    {
     "name": "stdout",
     "output_type": "stream",
     "text": [
      "Epoch 307 Mean Reward: 557.162\n"
     ]
    },
    {
     "name": "stderr",
     "output_type": "stream",
     "text": [
      "100%|██████████| 2000/2000 [19:30<00:00,  1.71it/s]\n"
     ]
    },
    {
     "name": "stdout",
     "output_type": "stream",
     "text": [
      "Epoch 308 Mean Reward: 559.6335\n"
     ]
    },
    {
     "name": "stderr",
     "output_type": "stream",
     "text": [
      "100%|██████████| 2000/2000 [19:36<00:00,  1.70it/s]\n"
     ]
    },
    {
     "name": "stdout",
     "output_type": "stream",
     "text": [
      "Epoch 309 Mean Reward: 561.0825\n"
     ]
    },
    {
     "name": "stderr",
     "output_type": "stream",
     "text": [
      "100%|██████████| 2000/2000 [18:09<00:00,  1.84it/s]\n"
     ]
    },
    {
     "name": "stdout",
     "output_type": "stream",
     "text": [
      "Epoch 310 Mean Reward: 565.0785\n",
      "Epoch 310 Model saved to ./checkpoints/take_cover.ckpt\n",
      "Epoch 310 test:\n",
      "Test Episode 1 Reward: 258.0\n",
      "Test Episode 2 Reward: 335.0\n",
      "Test Episode 3 Reward: 335.0\n",
      "Test Episode 4 Reward: 335.0\n",
      "Test Episode 5 Reward: 165.0\n",
      "Test Episode 6 Reward: 335.0\n",
      "Test Episode 7 Reward: 335.0\n",
      "Test Episode 8 Reward: 335.0\n",
      "Test Episode 9 Reward: 169.0\n",
      "Test Episode 10 Reward: 335.0\n",
      "Average Test Reward: 293.7\n"
     ]
    },
    {
     "name": "stderr",
     "output_type": "stream",
     "text": [
      "100%|██████████| 2000/2000 [17:26<00:00,  1.91it/s]\n"
     ]
    },
    {
     "name": "stdout",
     "output_type": "stream",
     "text": [
      "Epoch 311 Mean Reward: 564.2965\n"
     ]
    },
    {
     "name": "stderr",
     "output_type": "stream",
     "text": [
      "100%|██████████| 2000/2000 [18:00<00:00,  1.85it/s]\n"
     ]
    },
    {
     "name": "stdout",
     "output_type": "stream",
     "text": [
      "Epoch 312 Mean Reward: 575.9015\n"
     ]
    },
    {
     "name": "stderr",
     "output_type": "stream",
     "text": [
      "100%|██████████| 2000/2000 [17:53<00:00,  1.86it/s]\n"
     ]
    },
    {
     "name": "stdout",
     "output_type": "stream",
     "text": [
      "Epoch 313 Mean Reward: 567.94\n"
     ]
    },
    {
     "name": "stderr",
     "output_type": "stream",
     "text": [
      "100%|██████████| 2000/2000 [18:03<00:00,  1.85it/s]\n"
     ]
    },
    {
     "name": "stdout",
     "output_type": "stream",
     "text": [
      "Epoch 314 Mean Reward: 559.0035\n"
     ]
    },
    {
     "name": "stderr",
     "output_type": "stream",
     "text": [
      "100%|██████████| 2000/2000 [20:31<00:00,  1.62it/s]\n"
     ]
    },
    {
     "name": "stdout",
     "output_type": "stream",
     "text": [
      "Epoch 315 Mean Reward: 577.805\n"
     ]
    },
    {
     "name": "stderr",
     "output_type": "stream",
     "text": [
      "100%|██████████| 2000/2000 [18:23<00:00,  1.81it/s]\n"
     ]
    },
    {
     "name": "stdout",
     "output_type": "stream",
     "text": [
      "Epoch 316 Mean Reward: 561.94\n"
     ]
    },
    {
     "name": "stderr",
     "output_type": "stream",
     "text": [
      "100%|██████████| 2000/2000 [19:14<00:00,  1.73it/s]\n"
     ]
    },
    {
     "name": "stdout",
     "output_type": "stream",
     "text": [
      "Epoch 317 Mean Reward: 582.019\n"
     ]
    },
    {
     "name": "stderr",
     "output_type": "stream",
     "text": [
      "100%|██████████| 2000/2000 [17:31<00:00,  1.90it/s]\n"
     ]
    },
    {
     "name": "stdout",
     "output_type": "stream",
     "text": [
      "Epoch 318 Mean Reward: 557.4595\n"
     ]
    },
    {
     "name": "stderr",
     "output_type": "stream",
     "text": [
      "100%|██████████| 2000/2000 [18:58<00:00,  1.76it/s]\n"
     ]
    },
    {
     "name": "stdout",
     "output_type": "stream",
     "text": [
      "Epoch 319 Mean Reward: 575.568\n"
     ]
    },
    {
     "name": "stderr",
     "output_type": "stream",
     "text": [
      "100%|██████████| 2000/2000 [17:47<00:00,  1.87it/s]\n"
     ]
    },
    {
     "name": "stdout",
     "output_type": "stream",
     "text": [
      "Epoch 320 Mean Reward: 573.8195\n",
      "Epoch 320 Model saved to ./checkpoints/take_cover.ckpt\n",
      "Epoch 320 test:\n",
      "Test Episode 1 Reward: 342.0\n",
      "Test Episode 2 Reward: 342.0\n",
      "Test Episode 3 Reward: 342.0\n",
      "Test Episode 4 Reward: 128.0\n",
      "Test Episode 5 Reward: 342.0\n",
      "Test Episode 6 Reward: 342.0\n",
      "Test Episode 7 Reward: 191.0\n",
      "Test Episode 8 Reward: 342.0\n",
      "Test Episode 9 Reward: 233.0\n",
      "Test Episode 10 Reward: 294.0\n",
      "Average Test Reward: 289.8\n"
     ]
    },
    {
     "name": "stderr",
     "output_type": "stream",
     "text": [
      "100%|██████████| 2000/2000 [19:30<00:00,  1.71it/s]\n"
     ]
    },
    {
     "name": "stdout",
     "output_type": "stream",
     "text": [
      "Epoch 321 Mean Reward: 574.109\n"
     ]
    },
    {
     "name": "stderr",
     "output_type": "stream",
     "text": [
      "100%|██████████| 2000/2000 [19:38<00:00,  1.70it/s]\n"
     ]
    },
    {
     "name": "stdout",
     "output_type": "stream",
     "text": [
      "Epoch 322 Mean Reward: 586.902\n"
     ]
    },
    {
     "name": "stderr",
     "output_type": "stream",
     "text": [
      "100%|██████████| 2000/2000 [16:57<00:00,  1.96it/s]\n"
     ]
    },
    {
     "name": "stdout",
     "output_type": "stream",
     "text": [
      "Epoch 323 Mean Reward: 577.5255\n"
     ]
    },
    {
     "name": "stderr",
     "output_type": "stream",
     "text": [
      "100%|██████████| 2000/2000 [16:55<00:00,  1.97it/s]\n"
     ]
    },
    {
     "name": "stdout",
     "output_type": "stream",
     "text": [
      "Epoch 324 Mean Reward: 580.239\n"
     ]
    },
    {
     "name": "stderr",
     "output_type": "stream",
     "text": [
      "100%|██████████| 2000/2000 [17:30<00:00,  1.90it/s]\n"
     ]
    },
    {
     "name": "stdout",
     "output_type": "stream",
     "text": [
      "Epoch 325 Mean Reward: 600.237\n"
     ]
    },
    {
     "name": "stderr",
     "output_type": "stream",
     "text": [
      "100%|██████████| 2000/2000 [17:04<00:00,  1.95it/s]\n"
     ]
    },
    {
     "name": "stdout",
     "output_type": "stream",
     "text": [
      "Epoch 326 Mean Reward: 584.7765\n"
     ]
    },
    {
     "name": "stderr",
     "output_type": "stream",
     "text": [
      "100%|██████████| 2000/2000 [17:10<00:00,  1.94it/s]\n"
     ]
    },
    {
     "name": "stdout",
     "output_type": "stream",
     "text": [
      "Epoch 327 Mean Reward: 588.9435\n"
     ]
    },
    {
     "name": "stderr",
     "output_type": "stream",
     "text": [
      "100%|██████████| 2000/2000 [17:56<00:00,  1.86it/s]\n"
     ]
    },
    {
     "name": "stdout",
     "output_type": "stream",
     "text": [
      "Epoch 328 Mean Reward: 613.5105\n"
     ]
    },
    {
     "name": "stderr",
     "output_type": "stream",
     "text": [
      "100%|██████████| 2000/2000 [17:47<00:00,  1.87it/s]\n"
     ]
    },
    {
     "name": "stdout",
     "output_type": "stream",
     "text": [
      "Epoch 329 Mean Reward: 610.8845\n"
     ]
    },
    {
     "name": "stderr",
     "output_type": "stream",
     "text": [
      "100%|██████████| 2000/2000 [18:25<00:00,  1.81it/s]\n"
     ]
    },
    {
     "name": "stdout",
     "output_type": "stream",
     "text": [
      "Epoch 330 Mean Reward: 612.704\n",
      "Epoch 330 Model saved to ./checkpoints/take_cover.ckpt\n",
      "Epoch 330 test:\n",
      "Test Episode 1 Reward: 333.0\n",
      "Test Episode 2 Reward: 333.0\n",
      "Test Episode 3 Reward: 333.0\n",
      "Test Episode 4 Reward: 945.0\n",
      "Test Episode 5 Reward: 333.0\n",
      "Test Episode 6 Reward: 333.0\n",
      "Test Episode 7 Reward: 333.0\n",
      "Test Episode 8 Reward: 333.0\n",
      "Test Episode 9 Reward: 333.0\n",
      "Test Episode 10 Reward: 333.0\n",
      "Average Test Reward: 394.2\n"
     ]
    },
    {
     "name": "stderr",
     "output_type": "stream",
     "text": [
      "100%|██████████| 2000/2000 [18:01<00:00,  1.85it/s]\n"
     ]
    },
    {
     "name": "stdout",
     "output_type": "stream",
     "text": [
      "Epoch 331 Mean Reward: 583.8245\n"
     ]
    },
    {
     "name": "stderr",
     "output_type": "stream",
     "text": [
      "100%|██████████| 2000/2000 [18:05<00:00,  1.84it/s]\n"
     ]
    },
    {
     "name": "stdout",
     "output_type": "stream",
     "text": [
      "Epoch 332 Mean Reward: 601.402\n"
     ]
    },
    {
     "name": "stderr",
     "output_type": "stream",
     "text": [
      "100%|██████████| 2000/2000 [17:35<00:00,  1.90it/s]\n"
     ]
    },
    {
     "name": "stdout",
     "output_type": "stream",
     "text": [
      "Epoch 333 Mean Reward: 604.629\n"
     ]
    },
    {
     "name": "stderr",
     "output_type": "stream",
     "text": [
      "100%|██████████| 2000/2000 [17:41<00:00,  1.88it/s]\n"
     ]
    },
    {
     "name": "stdout",
     "output_type": "stream",
     "text": [
      "Epoch 334 Mean Reward: 609.168\n"
     ]
    },
    {
     "name": "stderr",
     "output_type": "stream",
     "text": [
      "100%|██████████| 2000/2000 [19:42<00:00,  1.69it/s]\n"
     ]
    },
    {
     "name": "stdout",
     "output_type": "stream",
     "text": [
      "Epoch 335 Mean Reward: 624.0435\n"
     ]
    },
    {
     "name": "stderr",
     "output_type": "stream",
     "text": [
      "100%|██████████| 2000/2000 [18:24<00:00,  1.81it/s]\n"
     ]
    },
    {
     "name": "stdout",
     "output_type": "stream",
     "text": [
      "Epoch 336 Mean Reward: 586.6165\n"
     ]
    },
    {
     "name": "stderr",
     "output_type": "stream",
     "text": [
      "100%|██████████| 2000/2000 [18:25<00:00,  1.81it/s]\n"
     ]
    },
    {
     "name": "stdout",
     "output_type": "stream",
     "text": [
      "Epoch 337 Mean Reward: 598.576\n"
     ]
    },
    {
     "name": "stderr",
     "output_type": "stream",
     "text": [
      "100%|██████████| 2000/2000 [17:53<00:00,  1.86it/s]\n"
     ]
    },
    {
     "name": "stdout",
     "output_type": "stream",
     "text": [
      "Epoch 338 Mean Reward: 592.0135\n"
     ]
    },
    {
     "name": "stderr",
     "output_type": "stream",
     "text": [
      "100%|██████████| 2000/2000 [19:13<00:00,  1.73it/s]\n"
     ]
    },
    {
     "name": "stdout",
     "output_type": "stream",
     "text": [
      "Epoch 339 Mean Reward: 607.9155\n"
     ]
    },
    {
     "name": "stderr",
     "output_type": "stream",
     "text": [
      "100%|██████████| 2000/2000 [18:47<00:00,  1.77it/s]\n"
     ]
    },
    {
     "name": "stdout",
     "output_type": "stream",
     "text": [
      "Epoch 340 Mean Reward: 603.9705\n",
      "Epoch 340 Model saved to ./checkpoints/take_cover.ckpt\n",
      "Epoch 340 test:\n",
      "Test Episode 1 Reward: 242.0\n",
      "Test Episode 2 Reward: 515.0\n",
      "Test Episode 3 Reward: 515.0\n",
      "Test Episode 4 Reward: 392.0\n",
      "Test Episode 5 Reward: 670.0\n",
      "Test Episode 6 Reward: 515.0\n",
      "Test Episode 7 Reward: 208.0\n",
      "Test Episode 8 Reward: 515.0\n",
      "Test Episode 9 Reward: 515.0\n",
      "Test Episode 10 Reward: 515.0\n",
      "Average Test Reward: 460.2\n"
     ]
    },
    {
     "name": "stderr",
     "output_type": "stream",
     "text": [
      "100%|██████████| 2000/2000 [21:51<00:00,  1.53it/s]\n"
     ]
    },
    {
     "name": "stdout",
     "output_type": "stream",
     "text": [
      "Epoch 341 Mean Reward: 627.1785\n"
     ]
    },
    {
     "name": "stderr",
     "output_type": "stream",
     "text": [
      "100%|██████████| 2000/2000 [19:02<00:00,  1.75it/s]\n"
     ]
    },
    {
     "name": "stdout",
     "output_type": "stream",
     "text": [
      "Epoch 342 Mean Reward: 624.191\n"
     ]
    },
    {
     "name": "stderr",
     "output_type": "stream",
     "text": [
      "100%|██████████| 2000/2000 [17:58<00:00,  1.85it/s]\n"
     ]
    },
    {
     "name": "stdout",
     "output_type": "stream",
     "text": [
      "Epoch 343 Mean Reward: 621.623\n"
     ]
    },
    {
     "name": "stderr",
     "output_type": "stream",
     "text": [
      "100%|██████████| 2000/2000 [31:34<00:00,  1.06it/s]\n"
     ]
    },
    {
     "name": "stdout",
     "output_type": "stream",
     "text": [
      "Epoch 344 Mean Reward: 618.82\n"
     ]
    },
    {
     "name": "stderr",
     "output_type": "stream",
     "text": [
      "100%|██████████| 2000/2000 [20:36<00:00,  1.62it/s]\n"
     ]
    },
    {
     "name": "stdout",
     "output_type": "stream",
     "text": [
      "Epoch 345 Mean Reward: 623.504\n"
     ]
    },
    {
     "name": "stderr",
     "output_type": "stream",
     "text": [
      "100%|██████████| 2000/2000 [22:19<00:00,  1.49it/s]\n"
     ]
    },
    {
     "name": "stdout",
     "output_type": "stream",
     "text": [
      "Epoch 346 Mean Reward: 628.617\n"
     ]
    },
    {
     "name": "stderr",
     "output_type": "stream",
     "text": [
      "100%|██████████| 2000/2000 [19:49<00:00,  1.68it/s]\n"
     ]
    },
    {
     "name": "stdout",
     "output_type": "stream",
     "text": [
      "Epoch 347 Mean Reward: 618.887\n"
     ]
    },
    {
     "name": "stderr",
     "output_type": "stream",
     "text": [
      "100%|██████████| 2000/2000 [18:44<00:00,  1.78it/s]\n"
     ]
    },
    {
     "name": "stdout",
     "output_type": "stream",
     "text": [
      "Epoch 348 Mean Reward: 608.2425\n"
     ]
    },
    {
     "name": "stderr",
     "output_type": "stream",
     "text": [
      "100%|██████████| 2000/2000 [33:57<00:00,  1.02s/it]\n"
     ]
    },
    {
     "name": "stdout",
     "output_type": "stream",
     "text": [
      "Epoch 349 Mean Reward: 644.6915\n"
     ]
    },
    {
     "name": "stderr",
     "output_type": "stream",
     "text": [
      "100%|██████████| 2000/2000 [21:34<00:00,  1.54it/s]\n"
     ]
    },
    {
     "name": "stdout",
     "output_type": "stream",
     "text": [
      "Epoch 350 Mean Reward: 644.835\n",
      "Epoch 350 Model saved to ./checkpoints/take_cover.ckpt\n",
      "Epoch 350 test:\n",
      "Test Episode 1 Reward: 424.0\n",
      "Test Episode 2 Reward: 466.0\n",
      "Test Episode 3 Reward: 466.0\n",
      "Test Episode 4 Reward: 609.0\n",
      "Test Episode 5 Reward: 314.0\n",
      "Test Episode 6 Reward: 635.0\n",
      "Test Episode 7 Reward: 616.0\n",
      "Test Episode 8 Reward: 295.0\n",
      "Test Episode 9 Reward: 466.0\n",
      "Test Episode 10 Reward: 466.0\n",
      "Average Test Reward: 475.7\n"
     ]
    },
    {
     "name": "stderr",
     "output_type": "stream",
     "text": [
      "100%|██████████| 2000/2000 [19:11<00:00,  1.74it/s]\n"
     ]
    },
    {
     "name": "stdout",
     "output_type": "stream",
     "text": [
      "Epoch 351 Mean Reward: 635.5565\n"
     ]
    },
    {
     "name": "stderr",
     "output_type": "stream",
     "text": [
      "100%|██████████| 2000/2000 [20:55<00:00,  1.59it/s]\n"
     ]
    },
    {
     "name": "stdout",
     "output_type": "stream",
     "text": [
      "Epoch 352 Mean Reward: 647.424\n"
     ]
    },
    {
     "name": "stderr",
     "output_type": "stream",
     "text": [
      "100%|██████████| 2000/2000 [20:53<00:00,  1.60it/s]\n"
     ]
    },
    {
     "name": "stdout",
     "output_type": "stream",
     "text": [
      "Epoch 353 Mean Reward: 632.847\n"
     ]
    },
    {
     "name": "stderr",
     "output_type": "stream",
     "text": [
      "100%|██████████| 2000/2000 [21:13<00:00,  1.57it/s]\n"
     ]
    },
    {
     "name": "stdout",
     "output_type": "stream",
     "text": [
      "Epoch 354 Mean Reward: 656.553\n"
     ]
    },
    {
     "name": "stderr",
     "output_type": "stream",
     "text": [
      "100%|██████████| 2000/2000 [20:27<00:00,  1.63it/s]\n"
     ]
    },
    {
     "name": "stdout",
     "output_type": "stream",
     "text": [
      "Epoch 355 Mean Reward: 636.1265\n"
     ]
    },
    {
     "name": "stderr",
     "output_type": "stream",
     "text": [
      "100%|██████████| 2000/2000 [20:49<00:00,  1.60it/s]\n"
     ]
    },
    {
     "name": "stdout",
     "output_type": "stream",
     "text": [
      "Epoch 356 Mean Reward: 658.203\n"
     ]
    },
    {
     "name": "stderr",
     "output_type": "stream",
     "text": [
      "100%|██████████| 2000/2000 [20:49<00:00,  1.60it/s]\n"
     ]
    },
    {
     "name": "stdout",
     "output_type": "stream",
     "text": [
      "Epoch 357 Mean Reward: 656.9865\n"
     ]
    },
    {
     "name": "stderr",
     "output_type": "stream",
     "text": [
      "100%|██████████| 2000/2000 [20:44<00:00,  1.61it/s]\n"
     ]
    },
    {
     "name": "stdout",
     "output_type": "stream",
     "text": [
      "Epoch 358 Mean Reward: 659.296\n"
     ]
    },
    {
     "name": "stderr",
     "output_type": "stream",
     "text": [
      "100%|██████████| 2000/2000 [21:13<00:00,  1.57it/s]\n"
     ]
    },
    {
     "name": "stdout",
     "output_type": "stream",
     "text": [
      "Epoch 359 Mean Reward: 666.1415\n"
     ]
    },
    {
     "name": "stderr",
     "output_type": "stream",
     "text": [
      "100%|██████████| 2000/2000 [21:40<00:00,  1.54it/s]\n"
     ]
    },
    {
     "name": "stdout",
     "output_type": "stream",
     "text": [
      "Epoch 360 Mean Reward: 661.9655\n",
      "Epoch 360 Model saved to ./checkpoints/take_cover.ckpt\n",
      "Epoch 360 test:\n",
      "Test Episode 1 Reward: 115.0\n",
      "Test Episode 2 Reward: 522.0\n",
      "Test Episode 3 Reward: 522.0\n",
      "Test Episode 4 Reward: 522.0\n",
      "Test Episode 5 Reward: 146.0\n",
      "Test Episode 6 Reward: 522.0\n",
      "Test Episode 7 Reward: 522.0\n",
      "Test Episode 8 Reward: 352.0\n",
      "Test Episode 9 Reward: 522.0\n",
      "Test Episode 10 Reward: 522.0\n",
      "Average Test Reward: 426.7\n"
     ]
    },
    {
     "name": "stderr",
     "output_type": "stream",
     "text": [
      "100%|██████████| 2000/2000 [21:24<00:00,  1.56it/s]\n"
     ]
    },
    {
     "name": "stdout",
     "output_type": "stream",
     "text": [
      "Epoch 361 Mean Reward: 659.843\n"
     ]
    },
    {
     "name": "stderr",
     "output_type": "stream",
     "text": [
      "100%|██████████| 2000/2000 [22:25<00:00,  1.49it/s]\n"
     ]
    },
    {
     "name": "stdout",
     "output_type": "stream",
     "text": [
      "Epoch 362 Mean Reward: 690.281\n"
     ]
    },
    {
     "name": "stderr",
     "output_type": "stream",
     "text": [
      "100%|██████████| 2000/2000 [22:29<00:00,  1.48it/s]\n"
     ]
    },
    {
     "name": "stdout",
     "output_type": "stream",
     "text": [
      "Epoch 363 Mean Reward: 694.0345\n"
     ]
    },
    {
     "name": "stderr",
     "output_type": "stream",
     "text": [
      "100%|██████████| 2000/2000 [21:34<00:00,  1.55it/s]\n"
     ]
    },
    {
     "name": "stdout",
     "output_type": "stream",
     "text": [
      "Epoch 364 Mean Reward: 679.6275\n"
     ]
    },
    {
     "name": "stderr",
     "output_type": "stream",
     "text": [
      "100%|██████████| 2000/2000 [21:47<00:00,  1.53it/s]\n"
     ]
    },
    {
     "name": "stdout",
     "output_type": "stream",
     "text": [
      "Epoch 365 Mean Reward: 685.963\n"
     ]
    },
    {
     "name": "stderr",
     "output_type": "stream",
     "text": [
      "100%|██████████| 2000/2000 [21:50<00:00,  1.53it/s]\n"
     ]
    },
    {
     "name": "stdout",
     "output_type": "stream",
     "text": [
      "Epoch 366 Mean Reward: 684.561\n"
     ]
    },
    {
     "name": "stderr",
     "output_type": "stream",
     "text": [
      "100%|██████████| 2000/2000 [21:35<00:00,  1.54it/s]\n"
     ]
    },
    {
     "name": "stdout",
     "output_type": "stream",
     "text": [
      "Epoch 367 Mean Reward: 681.322\n"
     ]
    },
    {
     "name": "stderr",
     "output_type": "stream",
     "text": [
      "100%|██████████| 2000/2000 [22:01<00:00,  1.51it/s]\n"
     ]
    },
    {
     "name": "stdout",
     "output_type": "stream",
     "text": [
      "Epoch 368 Mean Reward: 691.377\n"
     ]
    },
    {
     "name": "stderr",
     "output_type": "stream",
     "text": [
      "100%|██████████| 2000/2000 [22:54<00:00,  1.45it/s]\n"
     ]
    },
    {
     "name": "stdout",
     "output_type": "stream",
     "text": [
      "Epoch 369 Mean Reward: 658.8045\n"
     ]
    },
    {
     "name": "stderr",
     "output_type": "stream",
     "text": [
      "100%|██████████| 2000/2000 [25:03<00:00,  1.33it/s]\n"
     ]
    },
    {
     "name": "stdout",
     "output_type": "stream",
     "text": [
      "Epoch 370 Mean Reward: 682.6455\n",
      "Epoch 370 Model saved to ./checkpoints/take_cover.ckpt\n",
      "Epoch 370 test:\n",
      "Test Episode 1 Reward: 339.0\n",
      "Test Episode 2 Reward: 339.0\n",
      "Test Episode 3 Reward: 256.0\n",
      "Test Episode 4 Reward: 118.0\n",
      "Test Episode 5 Reward: 339.0\n",
      "Test Episode 6 Reward: 339.0\n",
      "Test Episode 7 Reward: 339.0\n",
      "Test Episode 8 Reward: 261.0\n",
      "Test Episode 9 Reward: 179.0\n",
      "Test Episode 10 Reward: 284.0\n",
      "Average Test Reward: 279.3\n"
     ]
    },
    {
     "name": "stderr",
     "output_type": "stream",
     "text": [
      "100%|██████████| 2000/2000 [23:14<00:00,  1.43it/s]\n"
     ]
    },
    {
     "name": "stdout",
     "output_type": "stream",
     "text": [
      "Epoch 371 Mean Reward: 675.127\n"
     ]
    },
    {
     "name": "stderr",
     "output_type": "stream",
     "text": [
      "100%|██████████| 2000/2000 [24:16<00:00,  1.37it/s]\n"
     ]
    },
    {
     "name": "stdout",
     "output_type": "stream",
     "text": [
      "Epoch 372 Mean Reward: 676.458\n"
     ]
    },
    {
     "name": "stderr",
     "output_type": "stream",
     "text": [
      "100%|██████████| 2000/2000 [24:27<00:00,  1.36it/s]\n"
     ]
    },
    {
     "name": "stdout",
     "output_type": "stream",
     "text": [
      "Epoch 373 Mean Reward: 677.7365\n"
     ]
    },
    {
     "name": "stderr",
     "output_type": "stream",
     "text": [
      "100%|██████████| 2000/2000 [24:29<00:00,  1.36it/s]\n"
     ]
    },
    {
     "name": "stdout",
     "output_type": "stream",
     "text": [
      "Epoch 374 Mean Reward: 675.9895\n"
     ]
    },
    {
     "name": "stderr",
     "output_type": "stream",
     "text": [
      "100%|██████████| 2000/2000 [24:47<00:00,  1.34it/s]\n"
     ]
    },
    {
     "name": "stdout",
     "output_type": "stream",
     "text": [
      "Epoch 375 Mean Reward: 685.2285\n"
     ]
    },
    {
     "name": "stderr",
     "output_type": "stream",
     "text": [
      "100%|██████████| 2000/2000 [24:51<00:00,  1.34it/s]\n"
     ]
    },
    {
     "name": "stdout",
     "output_type": "stream",
     "text": [
      "Epoch 376 Mean Reward: 682.633\n"
     ]
    },
    {
     "name": "stderr",
     "output_type": "stream",
     "text": [
      "100%|██████████| 2000/2000 [24:13<00:00,  1.38it/s]\n"
     ]
    },
    {
     "name": "stdout",
     "output_type": "stream",
     "text": [
      "Epoch 377 Mean Reward: 658.9215\n"
     ]
    },
    {
     "name": "stderr",
     "output_type": "stream",
     "text": [
      "100%|██████████| 2000/2000 [24:30<00:00,  1.36it/s]\n"
     ]
    },
    {
     "name": "stdout",
     "output_type": "stream",
     "text": [
      "Epoch 378 Mean Reward: 661.0345\n"
     ]
    },
    {
     "name": "stderr",
     "output_type": "stream",
     "text": [
      "100%|██████████| 2000/2000 [24:32<00:00,  1.36it/s]\n"
     ]
    },
    {
     "name": "stdout",
     "output_type": "stream",
     "text": [
      "Epoch 379 Mean Reward: 658.857\n"
     ]
    },
    {
     "name": "stderr",
     "output_type": "stream",
     "text": [
      "100%|██████████| 2000/2000 [24:31<00:00,  1.36it/s]\n"
     ]
    },
    {
     "name": "stdout",
     "output_type": "stream",
     "text": [
      "Epoch 380 Mean Reward: 655.3895\n",
      "Epoch 380 Model saved to ./checkpoints/take_cover.ckpt\n",
      "Epoch 380 test:\n",
      "Test Episode 1 Reward: 144.0\n",
      "Test Episode 2 Reward: 328.0\n",
      "Test Episode 3 Reward: 328.0\n",
      "Test Episode 4 Reward: 121.0\n",
      "Test Episode 5 Reward: 328.0\n",
      "Test Episode 6 Reward: 328.0\n",
      "Test Episode 7 Reward: 328.0\n",
      "Test Episode 8 Reward: 328.0\n",
      "Test Episode 9 Reward: 638.0\n",
      "Test Episode 10 Reward: 328.0\n",
      "Average Test Reward: 319.9\n"
     ]
    },
    {
     "name": "stderr",
     "output_type": "stream",
     "text": [
      "100%|██████████| 2000/2000 [25:42<00:00,  1.30it/s]\n"
     ]
    },
    {
     "name": "stdout",
     "output_type": "stream",
     "text": [
      "Epoch 381 Mean Reward: 687.338\n"
     ]
    },
    {
     "name": "stderr",
     "output_type": "stream",
     "text": [
      "100%|██████████| 2000/2000 [25:19<00:00,  1.32it/s]\n"
     ]
    },
    {
     "name": "stdout",
     "output_type": "stream",
     "text": [
      "Epoch 382 Mean Reward: 676.6155\n"
     ]
    },
    {
     "name": "stderr",
     "output_type": "stream",
     "text": [
      "100%|██████████| 2000/2000 [25:21<00:00,  1.31it/s]\n"
     ]
    },
    {
     "name": "stdout",
     "output_type": "stream",
     "text": [
      "Epoch 383 Mean Reward: 681.232\n"
     ]
    },
    {
     "name": "stderr",
     "output_type": "stream",
     "text": [
      "100%|██████████| 2000/2000 [25:09<00:00,  1.32it/s]\n"
     ]
    },
    {
     "name": "stdout",
     "output_type": "stream",
     "text": [
      "Epoch 384 Mean Reward: 674.5565\n"
     ]
    },
    {
     "name": "stderr",
     "output_type": "stream",
     "text": [
      "100%|██████████| 2000/2000 [25:14<00:00,  1.32it/s]\n"
     ]
    },
    {
     "name": "stdout",
     "output_type": "stream",
     "text": [
      "Epoch 385 Mean Reward: 679.1565\n"
     ]
    },
    {
     "name": "stderr",
     "output_type": "stream",
     "text": [
      "100%|██████████| 2000/2000 [25:24<00:00,  1.31it/s]\n"
     ]
    },
    {
     "name": "stdout",
     "output_type": "stream",
     "text": [
      "Epoch 386 Mean Reward: 688.45\n"
     ]
    },
    {
     "name": "stderr",
     "output_type": "stream",
     "text": [
      "100%|██████████| 2000/2000 [26:26<00:00,  1.26it/s]\n"
     ]
    },
    {
     "name": "stdout",
     "output_type": "stream",
     "text": [
      "Epoch 387 Mean Reward: 711.659\n"
     ]
    },
    {
     "name": "stderr",
     "output_type": "stream",
     "text": [
      "100%|██████████| 2000/2000 [25:25<00:00,  1.31it/s]\n"
     ]
    },
    {
     "name": "stdout",
     "output_type": "stream",
     "text": [
      "Epoch 388 Mean Reward: 691.595\n"
     ]
    },
    {
     "name": "stderr",
     "output_type": "stream",
     "text": [
      "100%|██████████| 2000/2000 [25:59<00:00,  1.28it/s]\n"
     ]
    },
    {
     "name": "stdout",
     "output_type": "stream",
     "text": [
      "Epoch 389 Mean Reward: 705.3845\n"
     ]
    },
    {
     "name": "stderr",
     "output_type": "stream",
     "text": [
      "100%|██████████| 2000/2000 [25:10<00:00,  1.32it/s]\n"
     ]
    },
    {
     "name": "stdout",
     "output_type": "stream",
     "text": [
      "Epoch 390 Mean Reward: 685.9365\n",
      "Epoch 390 Model saved to ./checkpoints/take_cover.ckpt\n",
      "Epoch 390 test:\n",
      "Test Episode 1 Reward: 326.0\n",
      "Test Episode 2 Reward: 326.0\n",
      "Test Episode 3 Reward: 390.0\n",
      "Test Episode 4 Reward: 326.0\n",
      "Test Episode 5 Reward: 326.0\n",
      "Test Episode 6 Reward: 109.0\n",
      "Test Episode 7 Reward: 187.0\n",
      "Test Episode 8 Reward: 326.0\n",
      "Test Episode 9 Reward: 326.0\n",
      "Test Episode 10 Reward: 326.0\n",
      "Average Test Reward: 296.8\n"
     ]
    },
    {
     "name": "stderr",
     "output_type": "stream",
     "text": [
      "100%|██████████| 2000/2000 [25:06<00:00,  1.33it/s]\n"
     ]
    },
    {
     "name": "stdout",
     "output_type": "stream",
     "text": [
      "Epoch 391 Mean Reward: 684.1145\n"
     ]
    },
    {
     "name": "stderr",
     "output_type": "stream",
     "text": [
      "100%|██████████| 2000/2000 [25:32<00:00,  1.30it/s]\n"
     ]
    },
    {
     "name": "stdout",
     "output_type": "stream",
     "text": [
      "Epoch 392 Mean Reward: 696.954\n"
     ]
    },
    {
     "name": "stderr",
     "output_type": "stream",
     "text": [
      "100%|██████████| 2000/2000 [25:27<00:00,  1.31it/s]\n"
     ]
    },
    {
     "name": "stdout",
     "output_type": "stream",
     "text": [
      "Epoch 393 Mean Reward: 695.434\n"
     ]
    },
    {
     "name": "stderr",
     "output_type": "stream",
     "text": [
      "100%|██████████| 2000/2000 [25:13<00:00,  1.32it/s]\n"
     ]
    },
    {
     "name": "stdout",
     "output_type": "stream",
     "text": [
      "Epoch 394 Mean Reward: 690.475\n"
     ]
    },
    {
     "name": "stderr",
     "output_type": "stream",
     "text": [
      "100%|██████████| 2000/2000 [25:10<00:00,  1.32it/s]\n"
     ]
    },
    {
     "name": "stdout",
     "output_type": "stream",
     "text": [
      "Epoch 395 Mean Reward: 689.8165\n"
     ]
    },
    {
     "name": "stderr",
     "output_type": "stream",
     "text": [
      "100%|██████████| 2000/2000 [26:57<00:00,  1.24it/s]\n"
     ]
    },
    {
     "name": "stdout",
     "output_type": "stream",
     "text": [
      "Epoch 396 Mean Reward: 682.158\n"
     ]
    },
    {
     "name": "stderr",
     "output_type": "stream",
     "text": [
      "100%|██████████| 2000/2000 [37:29<00:00,  1.12s/it]\n"
     ]
    },
    {
     "name": "stdout",
     "output_type": "stream",
     "text": [
      "Epoch 397 Mean Reward: 682.8015\n"
     ]
    },
    {
     "name": "stderr",
     "output_type": "stream",
     "text": [
      "100%|██████████| 2000/2000 [34:02<00:00,  1.02s/it]\n"
     ]
    },
    {
     "name": "stdout",
     "output_type": "stream",
     "text": [
      "Epoch 398 Mean Reward: 664.0225\n"
     ]
    },
    {
     "name": "stderr",
     "output_type": "stream",
     "text": [
      "100%|██████████| 2000/2000 [25:52<00:00,  1.29it/s]\n"
     ]
    },
    {
     "name": "stdout",
     "output_type": "stream",
     "text": [
      "Epoch 399 Mean Reward: 682.174\n"
     ]
    },
    {
     "name": "stderr",
     "output_type": "stream",
     "text": [
      "100%|██████████| 2000/2000 [24:17<00:00,  1.37it/s]\n"
     ]
    },
    {
     "name": "stdout",
     "output_type": "stream",
     "text": [
      "Epoch 400 Mean Reward: 672.7395\n",
      "Epoch 400 Model saved to ./checkpoints/take_cover.ckpt\n",
      "Epoch 400 test:\n",
      "Test Episode 1 Reward: 466.0\n",
      "Test Episode 2 Reward: 657.0\n",
      "Test Episode 3 Reward: 466.0\n",
      "Test Episode 4 Reward: 237.0\n",
      "Test Episode 5 Reward: 466.0\n",
      "Test Episode 6 Reward: 599.0\n",
      "Test Episode 7 Reward: 466.0\n",
      "Test Episode 8 Reward: 466.0\n",
      "Test Episode 9 Reward: 466.0\n",
      "Test Episode 10 Reward: 466.0\n",
      "Average Test Reward: 475.5\n",
      "[(755.5, 270), (656.3, 260), (654.4, 150), (610.1, 280), (496.2, 60), (485.6, 160), (475.7, 350), (475.5, 400), (465.0, 130), (460.2, 340), (426.7, 360), (422.7, 140), (422.2, 210), (422.1, 240), (414.7, 190), (399.4, 230), (394.5, 250), (394.2, 330), (374.9, 220), (369.3, 300), (366.3, 180), (364.5, 200), (319.9, 380), (296.8, 390), (293.7, 310), (289.8, 320), (285.7, 100), (282.7, 80), (280.3, 110), (279.3, 370), (272.9, 290), (261.2, 120), (254.5, 50), (244.5, 70), (242.8, 170), (207.0, 40), (203.2, 90), (202.4, 20), (196.5, 10), (195.6, 30)]\n",
      "32854921 time steps experienced during training\n"
     ]
    }
   ],
   "source": [
    "#Accumulate experiences in the buffer using an epsilon-greedy strategy with three training phases\n",
    "\n",
    "for epoch in range(epochs):\n",
    "    epoch_rewards = list()\n",
    "    \n",
    "    for step in trange(steps_per_epoch, leave=True):\n",
    "        experience = list()\n",
    "        game.new_episode()\n",
    "        \n",
    "        while not game.is_episode_finished():\n",
    "            state = game.get_state()\n",
    "            \n",
    "#Substitute an array of zeros for the depth buffer if that setting is disabled\n",
    "\n",
    "            if game.is_depth_buffer_enabled() == False:\n",
    "                state1_buffer = np.moveaxis(state.screen_buffer, 0, 2)\n",
    "            else:\n",
    "                depth_buffer = state.depth_buffer\n",
    "                state1_buffer = np.stack((state.screen_buffer,\n",
    "                                          depth_buffer), axis=-1)\n",
    "                \n",
    "            state1 = preprocess(state1_buffer, down_sample_ratio)\n",
    "            \n",
    "#Explore the environment by choosing random actions with 100% probability for the first phase of training\n",
    "\n",
    "            if epoch < 0.2*epochs:\n",
    "                action = np.random.randint(num_actions)\n",
    "            \n",
    "#Increase the probability of greedily choosing an action by a constant amount at each epoch in the second phase\n",
    "            \n",
    "            elif epoch < 0.9*epochs:\n",
    "                epsilon = start_epsilon - (epoch + 1 - 0.2*epochs)*(start_epsilon-end_epsilon)/(0.7*epochs)\n",
    "            \n",
    "                if np.random.uniform(0, 1) <= epsilon:\n",
    "                    action = np.random.randint(num_actions)\n",
    "                else:\n",
    "                    action = DQN.choose_action(session, state1)[0]\n",
    "\n",
    "#Select a random action with 10% probability in the final phase of training\n",
    "                \n",
    "            else:\n",
    "                if np.random.uniform(0, 1) <= end_epsilon:\n",
    "                    action = np.random.randint(num_actions)\n",
    "                else:\n",
    "                    action = DQN.choose_action(session, state1)[0]\n",
    "\n",
    "            reward = game.make_action(actions[action], frame_delay)\n",
    "            done = game.is_episode_finished()\n",
    "            \n",
    "            if done == False:\n",
    "                state = game.get_state()\n",
    "                \n",
    "                if game.is_depth_buffer_enabled() == False:\n",
    "                    state2_buffer = np.moveaxis(state.screen_buffer, 0, 2)\n",
    "                else:\n",
    "                    depth_buffer = state.depth_buffer\n",
    "                    state2_buffer = np.stack((state.screen_buffer,\n",
    "                                              depth_buffer), axis=-1)\n",
    "                \n",
    "                state2 = preprocess(state2_buffer, down_sample_ratio)\n",
    "                \n",
    "            elif done == True:\n",
    "                state2 = state1\n",
    "        \n",
    "#Add the experience obtained from each time step to the buffer\n",
    "\n",
    "            t += 1\n",
    "            exp_buffer.add_experience((state1, action, reward, state2, done))\n",
    "        \n",
    "#Sample a minibatch from the buffer if there are enough experiences in the buffer\n",
    "\n",
    "        if exp_buffer.length > batch_size:\n",
    "            s1, a, r, s2, terminal = exp_buffer.sample_buffer(batch_size)\n",
    "            \n",
    "#Get the target values from the target Q-network\n",
    "            \n",
    "            target_Q = np.max(target_net.get_Q_values(session, s2), axis=1)\n",
    "            \n",
    "#Train the online Q-network by using a minibatch to update the action-value function\n",
    "            \n",
    "            Q2 = DQN.get_Q_values(session, s1)\n",
    "            Q2[np.arange(batch_size), a] = r + gamma*(1 - terminal)*target_Q\n",
    "            DQN.calculate_loss(session, s1, Q2)\n",
    "            \n",
    "        epoch_rewards.append(game.get_total_reward())\n",
    "        \n",
    "#Increase the discount factor at each epoch until it reaches 0.99\n",
    "    \n",
    "    if gamma < 0.99:\n",
    "        gamma = 1-.98*(1-gamma)\n",
    "    elif gamma >= 0.99:\n",
    "        gamma = 0.99\n",
    "        \n",
    "#Decrease the learning rate at each epoch\n",
    "\n",
    "    DQN.update_lr()\n",
    "    target_net.update_lr()\n",
    "    \n",
    "    print('Epoch {} Mean Reward: {}'.format(epoch + 1, np.mean(epoch_rewards)))\n",
    "    \n",
    "#Update the target network every 10 epochs\n",
    "    \n",
    "    if (epoch + 1) % 10 == 0 and epoch > 0:\n",
    "        update_target(update_ops, session)\n",
    "        \n",
    "#Save the model and test the agent for 10 episodes every 20 epochs\n",
    "    \n",
    "    if (epoch + 1) % 10 == 0 and epoch > 0:\n",
    "        if save_model == True:\n",
    "            checkpoint = model_dir + '-' + str(epoch + 1)\n",
    "            print('Epoch {} Model saved to {}'.format(epoch + 1, model_dir))\n",
    "            saver.save(session, model_dir, global_step=epoch + 1)\n",
    "            \n",
    "        update_target(update_ops, session)\n",
    "\n",
    "#Test the agent both with and without the depth buffer given\n",
    "        \n",
    "        print('Epoch {} test:'.format(epoch + 1))\n",
    "        test_reward = test_agent(DQN, num_episodes=10,\n",
    "                                 training=True,\n",
    "                                 load_model=False,\n",
    "                                 depth=False,\n",
    "                                 session=session,\n",
    "                                 model_dir=model_dir)\n",
    "        print('Average Test Reward:', test_reward)\n",
    "        \n",
    "        epoch_rank_depth.append((test_reward, epoch + 1))\n",
    "        epoch_rank.append((test_reward, epoch + 1))\n",
    "        \n",
    "#Return a sorted list of epoch checkpoints based on average test episode reward\n",
    "        \n",
    "print(sorted(epoch_rank, reverse=True))\n",
    "print('{} time steps experienced during training'.format(t))\n",
    "game.close()\n",
    "    "
   ]
  },
  {
   "cell_type": "code",
   "execution_count": 11,
   "metadata": {
    "ExecuteTime": {
     "end_time": "2018-02-27T05:02:21.181669Z",
     "start_time": "2018-02-27T02:31:54.779082Z"
    },
    "run_control": {
     "frozen": false,
     "read_only": false
    },
    "scrolled": true
   },
   "outputs": [
    {
     "name": "stdout",
     "output_type": "stream",
     "text": [
      "Loading model from checkpoints\\take_cover.ckpt-10\n",
      "INFO:tensorflow:Restoring parameters from checkpoints\\take_cover.ckpt-10\n",
      "Test Episode 1 Reward: 219.0\n",
      "Test Episode 2 Reward: 219.0\n",
      "Test Episode 3 Reward: 236.0\n",
      "Test Episode 4 Reward: 219.0\n",
      "Test Episode 5 Reward: 219.0\n",
      "Test Episode 6 Reward: 130.0\n",
      "Test Episode 7 Reward: 279.0\n",
      "Test Episode 8 Reward: 219.0\n",
      "Test Episode 9 Reward: 219.0\n",
      "Test Episode 10 Reward: 157.0\n",
      "Test Episode 11 Reward: 219.0\n",
      "Test Episode 12 Reward: 219.0\n",
      "Test Episode 13 Reward: 219.0\n",
      "Test Episode 14 Reward: 219.0\n",
      "Test Episode 15 Reward: 219.0\n",
      "Test Episode 16 Reward: 133.0\n",
      "Test Episode 17 Reward: 219.0\n",
      "Test Episode 18 Reward: 195.0\n",
      "Test Episode 19 Reward: 219.0\n",
      "Test Episode 20 Reward: 130.0\n",
      "Epoch checkpoints\\take_cover.ckpt-10 Average Test Reward: 205.35\n",
      "Loading model from checkpoints\\take_cover.ckpt-20\n",
      "INFO:tensorflow:Restoring parameters from checkpoints\\take_cover.ckpt-20\n",
      "Test Episode 1 Reward: 106.0\n",
      "Test Episode 2 Reward: 219.0\n",
      "Test Episode 3 Reward: 219.0\n",
      "Test Episode 4 Reward: 154.0\n",
      "Test Episode 5 Reward: 196.0\n",
      "Test Episode 6 Reward: 152.0\n",
      "Test Episode 7 Reward: 138.0\n",
      "Test Episode 8 Reward: 219.0\n",
      "Test Episode 9 Reward: 219.0\n",
      "Test Episode 10 Reward: 192.0\n",
      "Test Episode 11 Reward: 196.0\n",
      "Test Episode 12 Reward: 124.0\n",
      "Test Episode 13 Reward: 276.0\n",
      "Test Episode 14 Reward: 219.0\n",
      "Test Episode 15 Reward: 172.0\n",
      "Test Episode 16 Reward: 219.0\n",
      "Test Episode 17 Reward: 205.0\n",
      "Test Episode 18 Reward: 150.0\n",
      "Test Episode 19 Reward: 219.0\n",
      "Test Episode 20 Reward: 219.0\n",
      "Epoch checkpoints\\take_cover.ckpt-20 Average Test Reward: 190.65\n",
      "Loading model from checkpoints\\take_cover.ckpt-30\n",
      "INFO:tensorflow:Restoring parameters from checkpoints\\take_cover.ckpt-30\n",
      "Test Episode 1 Reward: 232.0\n",
      "Test Episode 2 Reward: 137.0\n",
      "Test Episode 3 Reward: 251.0\n",
      "Test Episode 4 Reward: 187.0\n",
      "Test Episode 5 Reward: 157.0\n",
      "Test Episode 6 Reward: 232.0\n",
      "Test Episode 7 Reward: 232.0\n",
      "Test Episode 8 Reward: 232.0\n",
      "Test Episode 9 Reward: 232.0\n",
      "Test Episode 10 Reward: 232.0\n",
      "Test Episode 11 Reward: 232.0\n",
      "Test Episode 12 Reward: 232.0\n",
      "Test Episode 13 Reward: 232.0\n",
      "Test Episode 14 Reward: 232.0\n",
      "Test Episode 15 Reward: 116.0\n",
      "Test Episode 16 Reward: 232.0\n",
      "Test Episode 17 Reward: 161.0\n",
      "Test Episode 18 Reward: 232.0\n",
      "Test Episode 19 Reward: 232.0\n",
      "Test Episode 20 Reward: 295.0\n",
      "Epoch checkpoints\\take_cover.ckpt-30 Average Test Reward: 216.0\n",
      "Loading model from checkpoints\\take_cover.ckpt-40\n",
      "INFO:tensorflow:Restoring parameters from checkpoints\\take_cover.ckpt-40\n",
      "Test Episode 1 Reward: 118.0\n",
      "Test Episode 2 Reward: 205.0\n",
      "Test Episode 3 Reward: 219.0\n",
      "Test Episode 4 Reward: 195.0\n",
      "Test Episode 5 Reward: 219.0\n",
      "Test Episode 6 Reward: 219.0\n",
      "Test Episode 7 Reward: 219.0\n",
      "Test Episode 8 Reward: 442.0\n",
      "Test Episode 9 Reward: 266.0\n",
      "Test Episode 10 Reward: 219.0\n",
      "Test Episode 11 Reward: 176.0\n",
      "Test Episode 12 Reward: 189.0\n",
      "Test Episode 13 Reward: 219.0\n",
      "Test Episode 14 Reward: 219.0\n",
      "Test Episode 15 Reward: 155.0\n",
      "Test Episode 16 Reward: 155.0\n",
      "Test Episode 17 Reward: 223.0\n",
      "Test Episode 18 Reward: 219.0\n",
      "Test Episode 19 Reward: 121.0\n",
      "Test Episode 20 Reward: 219.0\n",
      "Epoch checkpoints\\take_cover.ckpt-40 Average Test Reward: 210.8\n",
      "Loading model from checkpoints\\take_cover.ckpt-50\n",
      "INFO:tensorflow:Restoring parameters from checkpoints\\take_cover.ckpt-50\n",
      "Test Episode 1 Reward: 227.0\n",
      "Test Episode 2 Reward: 662.0\n",
      "Test Episode 3 Reward: 188.0\n",
      "Test Episode 4 Reward: 423.0\n",
      "Test Episode 5 Reward: 292.0\n",
      "Test Episode 6 Reward: 364.0\n",
      "Test Episode 7 Reward: 212.0\n",
      "Test Episode 8 Reward: 130.0\n",
      "Test Episode 9 Reward: 252.0\n",
      "Test Episode 10 Reward: 356.0\n",
      "Test Episode 11 Reward: 240.0\n",
      "Test Episode 12 Reward: 292.0\n",
      "Test Episode 13 Reward: 446.0\n",
      "Test Episode 14 Reward: 172.0\n",
      "Test Episode 15 Reward: 131.0\n",
      "Test Episode 16 Reward: 298.0\n",
      "Test Episode 17 Reward: 292.0\n",
      "Test Episode 18 Reward: 292.0\n",
      "Test Episode 19 Reward: 292.0\n",
      "Test Episode 20 Reward: 292.0\n",
      "Epoch checkpoints\\take_cover.ckpt-50 Average Test Reward: 292.65\n",
      "Loading model from checkpoints\\take_cover.ckpt-60\n",
      "INFO:tensorflow:Restoring parameters from checkpoints\\take_cover.ckpt-60\n",
      "Test Episode 1 Reward: 557.0\n",
      "Test Episode 2 Reward: 557.0\n",
      "Test Episode 3 Reward: 557.0\n",
      "Test Episode 4 Reward: 557.0\n",
      "Test Episode 5 Reward: 557.0\n",
      "Test Episode 6 Reward: 245.0\n",
      "Test Episode 7 Reward: 557.0\n",
      "Test Episode 8 Reward: 110.0\n",
      "Test Episode 9 Reward: 381.0\n",
      "Test Episode 10 Reward: 223.0\n",
      "Test Episode 11 Reward: 385.0\n",
      "Test Episode 12 Reward: 287.0\n",
      "Test Episode 13 Reward: 426.0\n",
      "Test Episode 14 Reward: 133.0\n",
      "Test Episode 15 Reward: 561.0\n",
      "Test Episode 16 Reward: 557.0\n",
      "Test Episode 17 Reward: 217.0\n",
      "Test Episode 18 Reward: 269.0\n",
      "Test Episode 19 Reward: 171.0\n",
      "Test Episode 20 Reward: 221.0\n",
      "Epoch checkpoints\\take_cover.ckpt-60 Average Test Reward: 376.4\n",
      "Loading model from checkpoints\\take_cover.ckpt-70\n",
      "INFO:tensorflow:Restoring parameters from checkpoints\\take_cover.ckpt-70\n",
      "Test Episode 1 Reward: 136.0\n",
      "Test Episode 2 Reward: 232.0\n",
      "Test Episode 3 Reward: 134.0\n",
      "Test Episode 4 Reward: 232.0\n",
      "Test Episode 5 Reward: 232.0\n",
      "Test Episode 6 Reward: 142.0\n",
      "Test Episode 7 Reward: 232.0\n",
      "Test Episode 8 Reward: 232.0\n",
      "Test Episode 9 Reward: 202.0\n",
      "Test Episode 10 Reward: 148.0\n",
      "Test Episode 11 Reward: 202.0\n",
      "Test Episode 12 Reward: 288.0\n",
      "Test Episode 13 Reward: 368.0\n",
      "Test Episode 14 Reward: 145.0\n",
      "Test Episode 15 Reward: 256.0\n",
      "Test Episode 16 Reward: 232.0\n",
      "Test Episode 17 Reward: 232.0\n",
      "Test Episode 18 Reward: 232.0\n",
      "Test Episode 19 Reward: 232.0\n",
      "Test Episode 20 Reward: 226.0\n",
      "Epoch checkpoints\\take_cover.ckpt-70 Average Test Reward: 216.75\n",
      "Loading model from checkpoints\\take_cover.ckpt-80\n",
      "INFO:tensorflow:Restoring parameters from checkpoints\\take_cover.ckpt-80\n",
      "Test Episode 1 Reward: 291.0\n",
      "Test Episode 2 Reward: 267.0\n",
      "Test Episode 3 Reward: 291.0\n",
      "Test Episode 4 Reward: 291.0\n",
      "Test Episode 5 Reward: 291.0\n",
      "Test Episode 6 Reward: 291.0\n",
      "Test Episode 7 Reward: 291.0\n",
      "Test Episode 8 Reward: 142.0\n",
      "Test Episode 9 Reward: 291.0\n",
      "Test Episode 10 Reward: 309.0\n",
      "Test Episode 11 Reward: 291.0\n",
      "Test Episode 12 Reward: 291.0\n",
      "Test Episode 13 Reward: 196.0\n",
      "Test Episode 14 Reward: 291.0\n",
      "Test Episode 15 Reward: 291.0\n",
      "Test Episode 16 Reward: 133.0\n",
      "Test Episode 17 Reward: 291.0\n",
      "Test Episode 18 Reward: 291.0\n",
      "Test Episode 19 Reward: 291.0\n",
      "Test Episode 20 Reward: 256.0\n",
      "Epoch checkpoints\\take_cover.ckpt-80 Average Test Reward: 268.85\n",
      "Loading model from checkpoints\\take_cover.ckpt-90\n",
      "INFO:tensorflow:Restoring parameters from checkpoints\\take_cover.ckpt-90\n",
      "Test Episode 1 Reward: 232.0\n",
      "Test Episode 2 Reward: 148.0\n",
      "Test Episode 3 Reward: 232.0\n",
      "Test Episode 4 Reward: 232.0\n",
      "Test Episode 5 Reward: 272.0\n",
      "Test Episode 6 Reward: 232.0\n",
      "Test Episode 7 Reward: 232.0\n",
      "Test Episode 8 Reward: 232.0\n",
      "Test Episode 9 Reward: 232.0\n",
      "Test Episode 10 Reward: 157.0\n",
      "Test Episode 11 Reward: 232.0\n",
      "Test Episode 12 Reward: 232.0\n",
      "Test Episode 13 Reward: 232.0\n",
      "Test Episode 14 Reward: 232.0\n",
      "Test Episode 15 Reward: 179.0\n",
      "Test Episode 16 Reward: 232.0\n",
      "Test Episode 17 Reward: 245.0\n",
      "Test Episode 18 Reward: 232.0\n",
      "Test Episode 19 Reward: 232.0\n",
      "Test Episode 20 Reward: 179.0\n",
      "Epoch checkpoints\\take_cover.ckpt-90 Average Test Reward: 221.4\n",
      "Loading model from checkpoints\\take_cover.ckpt-100\n",
      "INFO:tensorflow:Restoring parameters from checkpoints\\take_cover.ckpt-100\n",
      "Test Episode 1 Reward: 376.0\n",
      "Test Episode 2 Reward: 397.0\n",
      "Test Episode 3 Reward: 326.0\n",
      "Test Episode 4 Reward: 178.0\n",
      "Test Episode 5 Reward: 326.0\n",
      "Test Episode 6 Reward: 248.0\n",
      "Test Episode 7 Reward: 326.0\n",
      "Test Episode 8 Reward: 106.0\n",
      "Test Episode 9 Reward: 326.0\n",
      "Test Episode 10 Reward: 434.0\n",
      "Test Episode 11 Reward: 326.0\n",
      "Test Episode 12 Reward: 332.0\n",
      "Test Episode 13 Reward: 326.0\n",
      "Test Episode 14 Reward: 326.0\n",
      "Test Episode 15 Reward: 326.0\n",
      "Test Episode 16 Reward: 205.0\n",
      "Test Episode 17 Reward: 593.0\n",
      "Test Episode 18 Reward: 326.0\n",
      "Test Episode 19 Reward: 625.0\n",
      "Test Episode 20 Reward: 184.0\n",
      "Epoch checkpoints\\take_cover.ckpt-100 Average Test Reward: 330.6\n",
      "Loading model from checkpoints\\take_cover.ckpt-110\n",
      "INFO:tensorflow:Restoring parameters from checkpoints\\take_cover.ckpt-110\n",
      "Test Episode 1 Reward: 232.0\n",
      "Test Episode 2 Reward: 232.0\n",
      "Test Episode 3 Reward: 176.0\n",
      "Test Episode 4 Reward: 232.0\n",
      "Test Episode 5 Reward: 141.0\n",
      "Test Episode 6 Reward: 232.0\n",
      "Test Episode 7 Reward: 388.0\n",
      "Test Episode 8 Reward: 324.0\n",
      "Test Episode 9 Reward: 232.0\n"
     ]
    },
    {
     "name": "stdout",
     "output_type": "stream",
     "text": [
      "Test Episode 10 Reward: 232.0\n",
      "Test Episode 11 Reward: 229.0\n",
      "Test Episode 12 Reward: 466.0\n",
      "Test Episode 13 Reward: 232.0\n",
      "Test Episode 14 Reward: 232.0\n",
      "Test Episode 15 Reward: 319.0\n",
      "Test Episode 16 Reward: 232.0\n",
      "Test Episode 17 Reward: 158.0\n",
      "Test Episode 18 Reward: 232.0\n",
      "Test Episode 19 Reward: 411.0\n",
      "Test Episode 20 Reward: 232.0\n",
      "Epoch checkpoints\\take_cover.ckpt-110 Average Test Reward: 258.2\n",
      "Loading model from checkpoints\\take_cover.ckpt-120\n",
      "INFO:tensorflow:Restoring parameters from checkpoints\\take_cover.ckpt-120\n",
      "Test Episode 1 Reward: 500.0\n",
      "Test Episode 2 Reward: 296.0\n",
      "Test Episode 3 Reward: 157.0\n",
      "Test Episode 4 Reward: 158.0\n",
      "Test Episode 5 Reward: 296.0\n",
      "Test Episode 6 Reward: 296.0\n",
      "Test Episode 7 Reward: 296.0\n",
      "Test Episode 8 Reward: 183.0\n",
      "Test Episode 9 Reward: 247.0\n",
      "Test Episode 10 Reward: 296.0\n",
      "Test Episode 11 Reward: 296.0\n",
      "Test Episode 12 Reward: 296.0\n",
      "Test Episode 13 Reward: 296.0\n",
      "Test Episode 14 Reward: 248.0\n",
      "Test Episode 15 Reward: 397.0\n",
      "Test Episode 16 Reward: 296.0\n",
      "Test Episode 17 Reward: 296.0\n",
      "Test Episode 18 Reward: 296.0\n",
      "Test Episode 19 Reward: 297.0\n",
      "Test Episode 20 Reward: 312.0\n",
      "Epoch checkpoints\\take_cover.ckpt-120 Average Test Reward: 287.75\n",
      "Loading model from checkpoints\\take_cover.ckpt-130\n",
      "INFO:tensorflow:Restoring parameters from checkpoints\\take_cover.ckpt-130\n",
      "Test Episode 1 Reward: 699.0\n",
      "Test Episode 2 Reward: 699.0\n",
      "Test Episode 3 Reward: 134.0\n",
      "Test Episode 4 Reward: 699.0\n",
      "Test Episode 5 Reward: 331.0\n",
      "Test Episode 6 Reward: 699.0\n",
      "Test Episode 7 Reward: 699.0\n",
      "Test Episode 8 Reward: 699.0\n",
      "Test Episode 9 Reward: 699.0\n",
      "Test Episode 10 Reward: 236.0\n",
      "Test Episode 11 Reward: 699.0\n",
      "Test Episode 12 Reward: 329.0\n",
      "Test Episode 13 Reward: 699.0\n",
      "Test Episode 14 Reward: 203.0\n",
      "Test Episode 15 Reward: 699.0\n",
      "Test Episode 16 Reward: 120.0\n",
      "Test Episode 17 Reward: 440.0\n",
      "Test Episode 18 Reward: 469.0\n",
      "Test Episode 19 Reward: 699.0\n",
      "Test Episode 20 Reward: 699.0\n",
      "Epoch checkpoints\\take_cover.ckpt-130 Average Test Reward: 532.5\n",
      "Loading model from checkpoints\\take_cover.ckpt-140\n",
      "INFO:tensorflow:Restoring parameters from checkpoints\\take_cover.ckpt-140\n",
      "Test Episode 1 Reward: 525.0\n",
      "Test Episode 2 Reward: 151.0\n",
      "Test Episode 3 Reward: 115.0\n",
      "Test Episode 4 Reward: 489.0\n",
      "Test Episode 5 Reward: 496.0\n",
      "Test Episode 6 Reward: 292.0\n",
      "Test Episode 7 Reward: 524.0\n",
      "Test Episode 8 Reward: 525.0\n",
      "Test Episode 9 Reward: 525.0\n",
      "Test Episode 10 Reward: 351.0\n",
      "Test Episode 11 Reward: 525.0\n",
      "Test Episode 12 Reward: 112.0\n",
      "Test Episode 13 Reward: 525.0\n",
      "Test Episode 14 Reward: 525.0\n",
      "Test Episode 15 Reward: 525.0\n",
      "Test Episode 16 Reward: 525.0\n",
      "Test Episode 17 Reward: 525.0\n",
      "Test Episode 18 Reward: 458.0\n",
      "Test Episode 19 Reward: 525.0\n",
      "Test Episode 20 Reward: 305.0\n",
      "Epoch checkpoints\\take_cover.ckpt-140 Average Test Reward: 427.15\n",
      "Loading model from checkpoints\\take_cover.ckpt-150\n",
      "INFO:tensorflow:Restoring parameters from checkpoints\\take_cover.ckpt-150\n",
      "Test Episode 1 Reward: 1194.0\n",
      "Test Episode 2 Reward: 113.0\n",
      "Test Episode 3 Reward: 106.0\n",
      "Test Episode 4 Reward: 620.0\n",
      "Test Episode 5 Reward: 204.0\n",
      "Test Episode 6 Reward: 136.0\n",
      "Test Episode 7 Reward: 659.0\n",
      "Test Episode 8 Reward: 302.0\n",
      "Test Episode 9 Reward: 268.0\n",
      "Test Episode 10 Reward: 1194.0\n",
      "Test Episode 11 Reward: 1194.0\n",
      "Test Episode 12 Reward: 735.0\n",
      "Test Episode 13 Reward: 222.0\n",
      "Test Episode 14 Reward: 1194.0\n",
      "Test Episode 15 Reward: 259.0\n",
      "Test Episode 16 Reward: 1194.0\n",
      "Test Episode 17 Reward: 1194.0\n",
      "Test Episode 18 Reward: 450.0\n",
      "Test Episode 19 Reward: 1194.0\n",
      "Test Episode 20 Reward: 112.0\n",
      "Epoch checkpoints\\take_cover.ckpt-150 Average Test Reward: 627.2\n",
      "Loading model from checkpoints\\take_cover.ckpt-160\n",
      "INFO:tensorflow:Restoring parameters from checkpoints\\take_cover.ckpt-160\n",
      "Test Episode 1 Reward: 369.0\n",
      "Test Episode 2 Reward: 346.0\n",
      "Test Episode 3 Reward: 131.0\n",
      "Test Episode 4 Reward: 333.0\n",
      "Test Episode 5 Reward: 333.0\n",
      "Test Episode 6 Reward: 286.0\n",
      "Test Episode 7 Reward: 676.0\n",
      "Test Episode 8 Reward: 266.0\n",
      "Test Episode 9 Reward: 269.0\n",
      "Test Episode 10 Reward: 632.0\n",
      "Test Episode 11 Reward: 259.0\n",
      "Test Episode 12 Reward: 333.0\n",
      "Test Episode 13 Reward: 253.0\n",
      "Test Episode 14 Reward: 297.0\n",
      "Test Episode 15 Reward: 292.0\n",
      "Test Episode 16 Reward: 333.0\n",
      "Test Episode 17 Reward: 374.0\n",
      "Test Episode 18 Reward: 333.0\n",
      "Test Episode 19 Reward: 369.0\n",
      "Test Episode 20 Reward: 443.0\n",
      "Epoch checkpoints\\take_cover.ckpt-160 Average Test Reward: 346.35\n",
      "Loading model from checkpoints\\take_cover.ckpt-170\n",
      "INFO:tensorflow:Restoring parameters from checkpoints\\take_cover.ckpt-170\n",
      "Test Episode 1 Reward: 304.0\n",
      "Test Episode 2 Reward: 270.0\n",
      "Test Episode 3 Reward: 270.0\n",
      "Test Episode 4 Reward: 283.0\n",
      "Test Episode 5 Reward: 270.0\n",
      "Test Episode 6 Reward: 209.0\n",
      "Test Episode 7 Reward: 263.0\n",
      "Test Episode 8 Reward: 103.0\n",
      "Test Episode 9 Reward: 211.0\n",
      "Test Episode 10 Reward: 270.0\n",
      "Test Episode 11 Reward: 163.0\n",
      "Test Episode 12 Reward: 270.0\n",
      "Test Episode 13 Reward: 173.0\n",
      "Test Episode 14 Reward: 270.0\n",
      "Test Episode 15 Reward: 178.0\n",
      "Test Episode 16 Reward: 198.0\n",
      "Test Episode 17 Reward: 270.0\n",
      "Test Episode 18 Reward: 270.0\n",
      "Test Episode 19 Reward: 192.0\n",
      "Test Episode 20 Reward: 229.0\n",
      "Epoch checkpoints\\take_cover.ckpt-170 Average Test Reward: 233.3\n",
      "Loading model from checkpoints\\take_cover.ckpt-180\n",
      "INFO:tensorflow:Restoring parameters from checkpoints\\take_cover.ckpt-180\n",
      "Test Episode 1 Reward: 474.0\n",
      "Test Episode 2 Reward: 474.0\n",
      "Test Episode 3 Reward: 474.0\n",
      "Test Episode 4 Reward: 474.0\n",
      "Test Episode 5 Reward: 411.0\n",
      "Test Episode 6 Reward: 328.0\n",
      "Test Episode 7 Reward: 474.0\n",
      "Test Episode 8 Reward: 474.0\n",
      "Test Episode 9 Reward: 474.0\n",
      "Test Episode 10 Reward: 470.0\n",
      "Test Episode 11 Reward: 474.0\n",
      "Test Episode 12 Reward: 106.0\n",
      "Test Episode 13 Reward: 136.0\n",
      "Test Episode 14 Reward: 474.0\n",
      "Test Episode 15 Reward: 165.0\n",
      "Test Episode 16 Reward: 436.0\n",
      "Test Episode 17 Reward: 474.0\n",
      "Test Episode 18 Reward: 474.0\n",
      "Test Episode 19 Reward: 607.0\n",
      "Test Episode 20 Reward: 242.0\n",
      "Epoch checkpoints\\take_cover.ckpt-180 Average Test Reward: 405.75\n",
      "Loading model from checkpoints\\take_cover.ckpt-190\n",
      "INFO:tensorflow:Restoring parameters from checkpoints\\take_cover.ckpt-190\n",
      "Test Episode 1 Reward: 277.0\n",
      "Test Episode 2 Reward: 1128.0\n",
      "Test Episode 3 Reward: 1128.0\n",
      "Test Episode 4 Reward: 416.0\n",
      "Test Episode 5 Reward: 1128.0\n",
      "Test Episode 6 Reward: 1128.0\n",
      "Test Episode 7 Reward: 728.0\n",
      "Test Episode 8 Reward: 1128.0\n",
      "Test Episode 9 Reward: 1128.0\n",
      "Test Episode 10 Reward: 280.0\n",
      "Test Episode 11 Reward: 323.0\n",
      "Test Episode 12 Reward: 1128.0\n",
      "Test Episode 13 Reward: 406.0\n",
      "Test Episode 14 Reward: 1128.0\n",
      "Test Episode 15 Reward: 1128.0\n",
      "Test Episode 16 Reward: 466.0\n",
      "Test Episode 17 Reward: 324.0\n",
      "Test Episode 18 Reward: 560.0\n",
      "Test Episode 19 Reward: 1128.0\n",
      "Test Episode 20 Reward: 1128.0\n",
      "Epoch checkpoints\\take_cover.ckpt-190 Average Test Reward: 809.4\n",
      "Loading model from checkpoints\\take_cover.ckpt-200\n",
      "INFO:tensorflow:Restoring parameters from checkpoints\\take_cover.ckpt-200\n",
      "Test Episode 1 Reward: 713.0\n",
      "Test Episode 2 Reward: 331.0\n",
      "Test Episode 3 Reward: 331.0\n",
      "Test Episode 4 Reward: 331.0\n",
      "Test Episode 5 Reward: 336.0\n",
      "Test Episode 6 Reward: 319.0\n",
      "Test Episode 7 Reward: 331.0\n",
      "Test Episode 8 Reward: 345.0\n",
      "Test Episode 9 Reward: 507.0\n",
      "Test Episode 10 Reward: 271.0\n",
      "Test Episode 11 Reward: 300.0\n",
      "Test Episode 12 Reward: 337.0\n",
      "Test Episode 13 Reward: 331.0\n",
      "Test Episode 14 Reward: 155.0\n",
      "Test Episode 15 Reward: 331.0\n",
      "Test Episode 16 Reward: 422.0\n",
      "Test Episode 17 Reward: 293.0\n",
      "Test Episode 18 Reward: 331.0\n",
      "Test Episode 19 Reward: 331.0\n",
      "Test Episode 20 Reward: 114.0\n",
      "Epoch checkpoints\\take_cover.ckpt-200 Average Test Reward: 338.0\n",
      "Loading model from checkpoints\\take_cover.ckpt-210\n",
      "INFO:tensorflow:Restoring parameters from checkpoints\\take_cover.ckpt-210\n",
      "Test Episode 1 Reward: 180.0\n",
      "Test Episode 2 Reward: 501.0\n",
      "Test Episode 3 Reward: 501.0\n",
      "Test Episode 4 Reward: 501.0\n",
      "Test Episode 5 Reward: 160.0\n",
      "Test Episode 6 Reward: 581.0\n",
      "Test Episode 7 Reward: 468.0\n",
      "Test Episode 8 Reward: 501.0\n",
      "Test Episode 9 Reward: 501.0\n",
      "Test Episode 10 Reward: 501.0\n",
      "Test Episode 11 Reward: 260.0\n",
      "Test Episode 12 Reward: 246.0\n",
      "Test Episode 13 Reward: 501.0\n",
      "Test Episode 14 Reward: 232.0\n",
      "Test Episode 15 Reward: 245.0\n",
      "Test Episode 16 Reward: 501.0\n",
      "Test Episode 17 Reward: 501.0\n",
      "Test Episode 18 Reward: 211.0\n",
      "Test Episode 19 Reward: 195.0\n",
      "Test Episode 20 Reward: 294.0\n"
     ]
    },
    {
     "name": "stdout",
     "output_type": "stream",
     "text": [
      "Epoch checkpoints\\take_cover.ckpt-210 Average Test Reward: 379.05\n",
      "Loading model from checkpoints\\take_cover.ckpt-220\n",
      "INFO:tensorflow:Restoring parameters from checkpoints\\take_cover.ckpt-220\n",
      "Test Episode 1 Reward: 527.0\n",
      "Test Episode 2 Reward: 527.0\n",
      "Test Episode 3 Reward: 750.0\n",
      "Test Episode 4 Reward: 263.0\n",
      "Test Episode 5 Reward: 527.0\n",
      "Test Episode 6 Reward: 438.0\n",
      "Test Episode 7 Reward: 406.0\n",
      "Test Episode 8 Reward: 419.0\n",
      "Test Episode 9 Reward: 419.0\n",
      "Test Episode 10 Reward: 527.0\n",
      "Test Episode 11 Reward: 527.0\n",
      "Test Episode 12 Reward: 527.0\n",
      "Test Episode 13 Reward: 484.0\n",
      "Test Episode 14 Reward: 272.0\n",
      "Test Episode 15 Reward: 527.0\n",
      "Test Episode 16 Reward: 527.0\n",
      "Test Episode 17 Reward: 527.0\n",
      "Test Episode 18 Reward: 527.0\n",
      "Test Episode 19 Reward: 527.0\n",
      "Test Episode 20 Reward: 527.0\n",
      "Epoch checkpoints\\take_cover.ckpt-220 Average Test Reward: 488.75\n",
      "Loading model from checkpoints\\take_cover.ckpt-230\n",
      "INFO:tensorflow:Restoring parameters from checkpoints\\take_cover.ckpt-230\n",
      "Test Episode 1 Reward: 121.0\n",
      "Test Episode 2 Reward: 471.0\n",
      "Test Episode 3 Reward: 369.0\n",
      "Test Episode 4 Reward: 471.0\n",
      "Test Episode 5 Reward: 471.0\n",
      "Test Episode 6 Reward: 131.0\n",
      "Test Episode 7 Reward: 471.0\n",
      "Test Episode 8 Reward: 636.0\n",
      "Test Episode 9 Reward: 139.0\n",
      "Test Episode 10 Reward: 471.0\n",
      "Test Episode 11 Reward: 291.0\n",
      "Test Episode 12 Reward: 471.0\n",
      "Test Episode 13 Reward: 471.0\n",
      "Test Episode 14 Reward: 471.0\n",
      "Test Episode 15 Reward: 471.0\n",
      "Test Episode 16 Reward: 316.0\n",
      "Test Episode 17 Reward: 237.0\n",
      "Test Episode 18 Reward: 471.0\n",
      "Test Episode 19 Reward: 471.0\n",
      "Test Episode 20 Reward: 471.0\n",
      "Epoch checkpoints\\take_cover.ckpt-230 Average Test Reward: 394.6\n",
      "Loading model from checkpoints\\take_cover.ckpt-240\n",
      "INFO:tensorflow:Restoring parameters from checkpoints\\take_cover.ckpt-240\n",
      "Test Episode 1 Reward: 170.0\n",
      "Test Episode 2 Reward: 338.0\n",
      "Test Episode 3 Reward: 128.0\n",
      "Test Episode 4 Reward: 209.0\n",
      "Test Episode 5 Reward: 338.0\n",
      "Test Episode 6 Reward: 235.0\n",
      "Test Episode 7 Reward: 212.0\n",
      "Test Episode 8 Reward: 211.0\n",
      "Test Episode 9 Reward: 531.0\n",
      "Test Episode 10 Reward: 338.0\n",
      "Test Episode 11 Reward: 152.0\n",
      "Test Episode 12 Reward: 455.0\n",
      "Test Episode 13 Reward: 254.0\n",
      "Test Episode 14 Reward: 338.0\n",
      "Test Episode 15 Reward: 338.0\n",
      "Test Episode 16 Reward: 338.0\n",
      "Test Episode 17 Reward: 180.0\n",
      "Test Episode 18 Reward: 338.0\n",
      "Test Episode 19 Reward: 678.0\n",
      "Test Episode 20 Reward: 101.0\n",
      "Epoch checkpoints\\take_cover.ckpt-240 Average Test Reward: 294.1\n",
      "Loading model from checkpoints\\take_cover.ckpt-250\n",
      "INFO:tensorflow:Restoring parameters from checkpoints\\take_cover.ckpt-250\n",
      "Test Episode 1 Reward: 239.0\n",
      "Test Episode 2 Reward: 184.0\n",
      "Test Episode 3 Reward: 530.0\n",
      "Test Episode 4 Reward: 530.0\n",
      "Test Episode 5 Reward: 501.0\n",
      "Test Episode 6 Reward: 396.0\n",
      "Test Episode 7 Reward: 398.0\n",
      "Test Episode 8 Reward: 530.0\n",
      "Test Episode 9 Reward: 530.0\n",
      "Test Episode 10 Reward: 234.0\n",
      "Test Episode 11 Reward: 530.0\n",
      "Test Episode 12 Reward: 555.0\n",
      "Test Episode 13 Reward: 192.0\n",
      "Test Episode 14 Reward: 530.0\n",
      "Test Episode 15 Reward: 530.0\n",
      "Test Episode 16 Reward: 530.0\n",
      "Test Episode 17 Reward: 530.0\n",
      "Test Episode 18 Reward: 161.0\n",
      "Test Episode 19 Reward: 530.0\n",
      "Test Episode 20 Reward: 530.0\n",
      "Epoch checkpoints\\take_cover.ckpt-250 Average Test Reward: 434.5\n",
      "Loading model from checkpoints\\take_cover.ckpt-260\n",
      "INFO:tensorflow:Restoring parameters from checkpoints\\take_cover.ckpt-260\n",
      "Test Episode 1 Reward: 1101.0\n",
      "Test Episode 2 Reward: 1101.0\n",
      "Test Episode 3 Reward: 203.0\n",
      "Test Episode 4 Reward: 1101.0\n",
      "Test Episode 5 Reward: 124.0\n",
      "Test Episode 6 Reward: 1101.0\n",
      "Test Episode 7 Reward: 1101.0\n",
      "Test Episode 8 Reward: 1101.0\n",
      "Test Episode 9 Reward: 402.0\n",
      "Test Episode 10 Reward: 1101.0\n",
      "Test Episode 11 Reward: 228.0\n",
      "Test Episode 12 Reward: 1101.0\n",
      "Test Episode 13 Reward: 199.0\n",
      "Test Episode 14 Reward: 1101.0\n",
      "Test Episode 15 Reward: 248.0\n",
      "Test Episode 16 Reward: 1101.0\n",
      "Test Episode 17 Reward: 1101.0\n",
      "Test Episode 18 Reward: 1101.0\n",
      "Test Episode 19 Reward: 343.0\n",
      "Test Episode 20 Reward: 200.0\n",
      "Epoch checkpoints\\take_cover.ckpt-260 Average Test Reward: 757.95\n",
      "Loading model from checkpoints\\take_cover.ckpt-270\n",
      "INFO:tensorflow:Restoring parameters from checkpoints\\take_cover.ckpt-270\n",
      "Test Episode 1 Reward: 1037.0\n",
      "Test Episode 2 Reward: 175.0\n",
      "Test Episode 3 Reward: 1037.0\n",
      "Test Episode 4 Reward: 1037.0\n",
      "Test Episode 5 Reward: 313.0\n",
      "Test Episode 6 Reward: 1037.0\n",
      "Test Episode 7 Reward: 1037.0\n",
      "Test Episode 8 Reward: 160.0\n",
      "Test Episode 9 Reward: 1037.0\n",
      "Test Episode 10 Reward: 367.0\n",
      "Test Episode 11 Reward: 1037.0\n",
      "Test Episode 12 Reward: 1037.0\n",
      "Test Episode 13 Reward: 363.0\n",
      "Test Episode 14 Reward: 1037.0\n",
      "Test Episode 15 Reward: 1037.0\n",
      "Test Episode 16 Reward: 1037.0\n",
      "Test Episode 17 Reward: 1037.0\n",
      "Test Episode 18 Reward: 140.0\n",
      "Test Episode 19 Reward: 1037.0\n",
      "Test Episode 20 Reward: 1037.0\n",
      "Epoch checkpoints\\take_cover.ckpt-270 Average Test Reward: 801.8\n",
      "Loading model from checkpoints\\take_cover.ckpt-280\n",
      "INFO:tensorflow:Restoring parameters from checkpoints\\take_cover.ckpt-280\n",
      "Test Episode 1 Reward: 329.0\n",
      "Test Episode 2 Reward: 394.0\n",
      "Test Episode 3 Reward: 936.0\n",
      "Test Episode 4 Reward: 138.0\n",
      "Test Episode 5 Reward: 936.0\n",
      "Test Episode 6 Reward: 338.0\n",
      "Test Episode 7 Reward: 936.0\n",
      "Test Episode 8 Reward: 936.0\n",
      "Test Episode 9 Reward: 936.0\n",
      "Test Episode 10 Reward: 183.0\n",
      "Test Episode 11 Reward: 936.0\n",
      "Test Episode 12 Reward: 415.0\n",
      "Test Episode 13 Reward: 936.0\n",
      "Test Episode 14 Reward: 203.0\n",
      "Test Episode 15 Reward: 936.0\n",
      "Test Episode 16 Reward: 172.0\n",
      "Test Episode 17 Reward: 273.0\n",
      "Test Episode 18 Reward: 208.0\n",
      "Test Episode 19 Reward: 213.0\n",
      "Test Episode 20 Reward: 356.0\n",
      "Epoch checkpoints\\take_cover.ckpt-280 Average Test Reward: 535.5\n",
      "Loading model from checkpoints\\take_cover.ckpt-290\n",
      "INFO:tensorflow:Restoring parameters from checkpoints\\take_cover.ckpt-290\n",
      "Test Episode 1 Reward: 408.0\n",
      "Test Episode 2 Reward: 408.0\n",
      "Test Episode 3 Reward: 862.0\n",
      "Test Episode 4 Reward: 408.0\n",
      "Test Episode 5 Reward: 408.0\n",
      "Test Episode 6 Reward: 408.0\n",
      "Test Episode 7 Reward: 408.0\n",
      "Test Episode 8 Reward: 102.0\n",
      "Test Episode 9 Reward: 408.0\n",
      "Test Episode 10 Reward: 188.0\n",
      "Test Episode 11 Reward: 408.0\n",
      "Test Episode 12 Reward: 408.0\n",
      "Test Episode 13 Reward: 408.0\n",
      "Test Episode 14 Reward: 408.0\n",
      "Test Episode 15 Reward: 408.0\n",
      "Test Episode 16 Reward: 408.0\n",
      "Test Episode 17 Reward: 408.0\n",
      "Test Episode 18 Reward: 130.0\n",
      "Test Episode 19 Reward: 408.0\n",
      "Test Episode 20 Reward: 408.0\n",
      "Epoch checkpoints\\take_cover.ckpt-290 Average Test Reward: 390.5\n",
      "Loading model from checkpoints\\take_cover.ckpt-300\n",
      "INFO:tensorflow:Restoring parameters from checkpoints\\take_cover.ckpt-300\n",
      "Test Episode 1 Reward: 332.0\n",
      "Test Episode 2 Reward: 110.0\n",
      "Test Episode 3 Reward: 205.0\n",
      "Test Episode 4 Reward: 277.0\n",
      "Test Episode 5 Reward: 463.0\n",
      "Test Episode 6 Reward: 844.0\n",
      "Test Episode 7 Reward: 279.0\n",
      "Test Episode 8 Reward: 135.0\n",
      "Test Episode 9 Reward: 116.0\n",
      "Test Episode 10 Reward: 118.0\n",
      "Test Episode 11 Reward: 463.0\n",
      "Test Episode 12 Reward: 463.0\n",
      "Test Episode 13 Reward: 463.0\n",
      "Test Episode 14 Reward: 463.0\n",
      "Test Episode 15 Reward: 241.0\n",
      "Test Episode 16 Reward: 463.0\n",
      "Test Episode 17 Reward: 463.0\n",
      "Test Episode 18 Reward: 463.0\n",
      "Test Episode 19 Reward: 271.0\n",
      "Test Episode 20 Reward: 274.0\n",
      "Epoch checkpoints\\take_cover.ckpt-300 Average Test Reward: 345.3\n",
      "Loading model from checkpoints\\take_cover.ckpt-310\n",
      "INFO:tensorflow:Restoring parameters from checkpoints\\take_cover.ckpt-310\n",
      "Test Episode 1 Reward: 134.0\n",
      "Test Episode 2 Reward: 335.0\n",
      "Test Episode 3 Reward: 335.0\n",
      "Test Episode 4 Reward: 335.0\n",
      "Test Episode 5 Reward: 335.0\n",
      "Test Episode 6 Reward: 112.0\n",
      "Test Episode 7 Reward: 335.0\n",
      "Test Episode 8 Reward: 346.0\n",
      "Test Episode 9 Reward: 257.0\n",
      "Test Episode 10 Reward: 137.0\n",
      "Test Episode 11 Reward: 335.0\n",
      "Test Episode 12 Reward: 448.0\n",
      "Test Episode 13 Reward: 335.0\n",
      "Test Episode 14 Reward: 115.0\n",
      "Test Episode 15 Reward: 335.0\n",
      "Test Episode 16 Reward: 335.0\n",
      "Test Episode 17 Reward: 632.0\n",
      "Test Episode 18 Reward: 138.0\n",
      "Test Episode 19 Reward: 136.0\n",
      "Test Episode 20 Reward: 335.0\n",
      "Epoch checkpoints\\take_cover.ckpt-310 Average Test Reward: 290.25\n",
      "Loading model from checkpoints\\take_cover.ckpt-320\n",
      "INFO:tensorflow:Restoring parameters from checkpoints\\take_cover.ckpt-320\n",
      "Test Episode 1 Reward: 342.0\n",
      "Test Episode 2 Reward: 389.0\n",
      "Test Episode 3 Reward: 286.0\n",
      "Test Episode 4 Reward: 405.0\n",
      "Test Episode 5 Reward: 104.0\n"
     ]
    },
    {
     "name": "stdout",
     "output_type": "stream",
     "text": [
      "Test Episode 6 Reward: 342.0\n",
      "Test Episode 7 Reward: 342.0\n",
      "Test Episode 8 Reward: 342.0\n",
      "Test Episode 9 Reward: 161.0\n",
      "Test Episode 10 Reward: 881.0\n",
      "Test Episode 11 Reward: 342.0\n",
      "Test Episode 12 Reward: 104.0\n",
      "Test Episode 13 Reward: 342.0\n",
      "Test Episode 14 Reward: 97.0\n",
      "Test Episode 15 Reward: 342.0\n",
      "Test Episode 16 Reward: 103.0\n",
      "Test Episode 17 Reward: 342.0\n",
      "Test Episode 18 Reward: 308.0\n",
      "Test Episode 19 Reward: 140.0\n",
      "Test Episode 20 Reward: 342.0\n",
      "Epoch checkpoints\\take_cover.ckpt-320 Average Test Reward: 302.8\n",
      "Loading model from checkpoints\\take_cover.ckpt-330\n",
      "INFO:tensorflow:Restoring parameters from checkpoints\\take_cover.ckpt-330\n",
      "Test Episode 1 Reward: 333.0\n",
      "Test Episode 2 Reward: 909.0\n",
      "Test Episode 3 Reward: 333.0\n",
      "Test Episode 4 Reward: 267.0\n",
      "Test Episode 5 Reward: 333.0\n",
      "Test Episode 6 Reward: 333.0\n",
      "Test Episode 7 Reward: 333.0\n",
      "Test Episode 8 Reward: 333.0\n",
      "Test Episode 9 Reward: 156.0\n",
      "Test Episode 10 Reward: 333.0\n",
      "Test Episode 11 Reward: 333.0\n",
      "Test Episode 12 Reward: 333.0\n",
      "Test Episode 13 Reward: 402.0\n",
      "Test Episode 14 Reward: 385.0\n",
      "Test Episode 15 Reward: 147.0\n",
      "Test Episode 16 Reward: 118.0\n",
      "Test Episode 17 Reward: 140.0\n",
      "Test Episode 18 Reward: 185.0\n",
      "Test Episode 19 Reward: 326.0\n",
      "Test Episode 20 Reward: 333.0\n",
      "Epoch checkpoints\\take_cover.ckpt-330 Average Test Reward: 318.25\n",
      "Loading model from checkpoints\\take_cover.ckpt-340\n",
      "INFO:tensorflow:Restoring parameters from checkpoints\\take_cover.ckpt-340\n",
      "Test Episode 1 Reward: 515.0\n",
      "Test Episode 2 Reward: 347.0\n",
      "Test Episode 3 Reward: 515.0\n",
      "Test Episode 4 Reward: 609.0\n",
      "Test Episode 5 Reward: 515.0\n",
      "Test Episode 6 Reward: 515.0\n",
      "Test Episode 7 Reward: 515.0\n",
      "Test Episode 8 Reward: 122.0\n",
      "Test Episode 9 Reward: 572.0\n",
      "Test Episode 10 Reward: 515.0\n",
      "Test Episode 11 Reward: 515.0\n",
      "Test Episode 12 Reward: 114.0\n",
      "Test Episode 13 Reward: 370.0\n",
      "Test Episode 14 Reward: 515.0\n",
      "Test Episode 15 Reward: 515.0\n",
      "Test Episode 16 Reward: 203.0\n",
      "Test Episode 17 Reward: 105.0\n",
      "Test Episode 18 Reward: 515.0\n",
      "Test Episode 19 Reward: 252.0\n",
      "Test Episode 20 Reward: 515.0\n",
      "Epoch checkpoints\\take_cover.ckpt-340 Average Test Reward: 417.95\n",
      "Loading model from checkpoints\\take_cover.ckpt-350\n",
      "INFO:tensorflow:Restoring parameters from checkpoints\\take_cover.ckpt-350\n",
      "Test Episode 1 Reward: 466.0\n",
      "Test Episode 2 Reward: 389.0\n",
      "Test Episode 3 Reward: 466.0\n",
      "Test Episode 4 Reward: 466.0\n",
      "Test Episode 5 Reward: 466.0\n",
      "Test Episode 6 Reward: 466.0\n",
      "Test Episode 7 Reward: 351.0\n",
      "Test Episode 8 Reward: 197.0\n",
      "Test Episode 9 Reward: 199.0\n",
      "Test Episode 10 Reward: 260.0\n",
      "Test Episode 11 Reward: 557.0\n",
      "Test Episode 12 Reward: 266.0\n",
      "Test Episode 13 Reward: 378.0\n",
      "Test Episode 14 Reward: 240.0\n",
      "Test Episode 15 Reward: 466.0\n",
      "Test Episode 16 Reward: 466.0\n",
      "Test Episode 17 Reward: 466.0\n",
      "Test Episode 18 Reward: 466.0\n",
      "Test Episode 19 Reward: 466.0\n",
      "Test Episode 20 Reward: 466.0\n",
      "Epoch checkpoints\\take_cover.ckpt-350 Average Test Reward: 398.15\n",
      "Loading model from checkpoints\\take_cover.ckpt-360\n",
      "INFO:tensorflow:Restoring parameters from checkpoints\\take_cover.ckpt-360\n",
      "Test Episode 1 Reward: 522.0\n",
      "Test Episode 2 Reward: 107.0\n",
      "Test Episode 3 Reward: 144.0\n",
      "Test Episode 4 Reward: 522.0\n",
      "Test Episode 5 Reward: 302.0\n",
      "Test Episode 6 Reward: 522.0\n",
      "Test Episode 7 Reward: 522.0\n",
      "Test Episode 8 Reward: 404.0\n",
      "Test Episode 9 Reward: 341.0\n",
      "Test Episode 10 Reward: 488.0\n",
      "Test Episode 11 Reward: 522.0\n",
      "Test Episode 12 Reward: 290.0\n",
      "Test Episode 13 Reward: 522.0\n",
      "Test Episode 14 Reward: 178.0\n",
      "Test Episode 15 Reward: 522.0\n",
      "Test Episode 16 Reward: 424.0\n",
      "Test Episode 17 Reward: 522.0\n",
      "Test Episode 18 Reward: 484.0\n",
      "Test Episode 19 Reward: 522.0\n",
      "Test Episode 20 Reward: 120.0\n",
      "Epoch checkpoints\\take_cover.ckpt-360 Average Test Reward: 399.0\n",
      "Loading model from checkpoints\\take_cover.ckpt-370\n",
      "INFO:tensorflow:Restoring parameters from checkpoints\\take_cover.ckpt-370\n",
      "Test Episode 1 Reward: 339.0\n",
      "Test Episode 2 Reward: 341.0\n",
      "Test Episode 3 Reward: 339.0\n",
      "Test Episode 4 Reward: 211.0\n",
      "Test Episode 5 Reward: 339.0\n",
      "Test Episode 6 Reward: 540.0\n",
      "Test Episode 7 Reward: 352.0\n",
      "Test Episode 8 Reward: 339.0\n",
      "Test Episode 9 Reward: 311.0\n",
      "Test Episode 10 Reward: 295.0\n",
      "Test Episode 11 Reward: 130.0\n",
      "Test Episode 12 Reward: 339.0\n",
      "Test Episode 13 Reward: 339.0\n",
      "Test Episode 14 Reward: 263.0\n",
      "Test Episode 15 Reward: 389.0\n",
      "Test Episode 16 Reward: 217.0\n",
      "Test Episode 17 Reward: 365.0\n",
      "Test Episode 18 Reward: 339.0\n",
      "Test Episode 19 Reward: 199.0\n",
      "Test Episode 20 Reward: 339.0\n",
      "Epoch checkpoints\\take_cover.ckpt-370 Average Test Reward: 316.25\n",
      "Loading model from checkpoints\\take_cover.ckpt-380\n",
      "INFO:tensorflow:Restoring parameters from checkpoints\\take_cover.ckpt-380\n",
      "Test Episode 1 Reward: 441.0\n",
      "Test Episode 2 Reward: 109.0\n",
      "Test Episode 3 Reward: 328.0\n",
      "Test Episode 4 Reward: 252.0\n",
      "Test Episode 5 Reward: 328.0\n",
      "Test Episode 6 Reward: 273.0\n",
      "Test Episode 7 Reward: 328.0\n",
      "Test Episode 8 Reward: 328.0\n",
      "Test Episode 9 Reward: 384.0\n",
      "Test Episode 10 Reward: 343.0\n",
      "Test Episode 11 Reward: 108.0\n",
      "Test Episode 12 Reward: 228.0\n",
      "Test Episode 13 Reward: 176.0\n",
      "Test Episode 14 Reward: 333.0\n",
      "Test Episode 15 Reward: 137.0\n",
      "Test Episode 16 Reward: 328.0\n",
      "Test Episode 17 Reward: 328.0\n",
      "Test Episode 18 Reward: 480.0\n",
      "Test Episode 19 Reward: 328.0\n",
      "Test Episode 20 Reward: 328.0\n",
      "Epoch checkpoints\\take_cover.ckpt-380 Average Test Reward: 294.4\n",
      "Loading model from checkpoints\\take_cover.ckpt-390\n",
      "INFO:tensorflow:Restoring parameters from checkpoints\\take_cover.ckpt-390\n",
      "Test Episode 1 Reward: 326.0\n",
      "Test Episode 2 Reward: 326.0\n",
      "Test Episode 3 Reward: 326.0\n",
      "Test Episode 4 Reward: 326.0\n",
      "Test Episode 5 Reward: 326.0\n",
      "Test Episode 6 Reward: 326.0\n",
      "Test Episode 7 Reward: 326.0\n",
      "Test Episode 8 Reward: 326.0\n",
      "Test Episode 9 Reward: 693.0\n",
      "Test Episode 10 Reward: 201.0\n",
      "Test Episode 11 Reward: 722.0\n",
      "Test Episode 12 Reward: 326.0\n",
      "Test Episode 13 Reward: 326.0\n",
      "Test Episode 14 Reward: 135.0\n",
      "Test Episode 15 Reward: 326.0\n",
      "Test Episode 16 Reward: 326.0\n",
      "Test Episode 17 Reward: 431.0\n",
      "Test Episode 18 Reward: 326.0\n",
      "Test Episode 19 Reward: 112.0\n",
      "Test Episode 20 Reward: 326.0\n",
      "Epoch checkpoints\\take_cover.ckpt-390 Average Test Reward: 342.9\n",
      "Loading model from checkpoints\\take_cover.ckpt-400\n",
      "INFO:tensorflow:Restoring parameters from checkpoints\\take_cover.ckpt-400\n",
      "Test Episode 1 Reward: 466.0\n",
      "Test Episode 2 Reward: 466.0\n",
      "Test Episode 3 Reward: 466.0\n",
      "Test Episode 4 Reward: 352.0\n",
      "Test Episode 5 Reward: 466.0\n",
      "Test Episode 6 Reward: 939.0\n",
      "Test Episode 7 Reward: 466.0\n",
      "Test Episode 8 Reward: 116.0\n",
      "Test Episode 9 Reward: 466.0\n",
      "Test Episode 10 Reward: 543.0\n",
      "Test Episode 11 Reward: 665.0\n",
      "Test Episode 12 Reward: 466.0\n",
      "Test Episode 13 Reward: 560.0\n",
      "Test Episode 14 Reward: 381.0\n",
      "Test Episode 15 Reward: 186.0\n",
      "Test Episode 16 Reward: 737.0\n",
      "Test Episode 17 Reward: 153.0\n",
      "Test Episode 18 Reward: 126.0\n",
      "Test Episode 19 Reward: 466.0\n",
      "Test Episode 20 Reward: 392.0\n",
      "Epoch checkpoints\\take_cover.ckpt-400 Average Test Reward: 443.9\n"
     ]
    },
    {
     "ename": "NameError",
     "evalue": "name 'cpkt_rank' is not defined",
     "output_type": "error",
     "traceback": [
      "Traceback \u001b[1;36m(most recent call last)\u001b[0m:\n",
      "\u001b[1;36m  File \u001b[1;32m\"<ipython-input-11-53062a1b4f36>\"\u001b[1;36m, line \u001b[1;32m24\u001b[1;36m, in \u001b[1;35m<module>\u001b[1;36m\u001b[0m\n\u001b[1;33m    print(sorted(cpkt_rank), reverse=True)\u001b[0m\n",
      "\u001b[1;31mNameError\u001b[0m\u001b[1;31m:\u001b[0m name 'cpkt_rank' is not defined\n"
     ]
    }
   ],
   "source": [
    "\"\"\"\n",
    "Delete the \"checkpoint\" file in model directory and manually specify a checkpoint file path\n",
    "if a screen resolution that's different from the one that the agent was trained on is to be used.\n",
    "\"\"\"\n",
    "\n",
    "#Get a list of checkpoints saved during training\n",
    "\n",
    "ckpts = tf.train.get_checkpoint_state('checkpoints').all_model_checkpoint_paths\n",
    "\n",
    "#Test the trained model at each checkpoint by only choosing actions with a greedy strategy\n",
    "\n",
    "ckpt_rank = list()\n",
    "\n",
    "for checkpoint in ckpts:\n",
    "    test_reward = test_agent(DQN, num_episodes=20,\n",
    "                                 training=False,\n",
    "                                 load_model=True,\n",
    "                                 depth=False,\n",
    "                                 model_dir=checkpoint)\n",
    "    \n",
    "    print('Epoch {} Average Test Reward: {}'.format(checkpoint, test_reward))\n",
    "    ckpt_rank.append((test_reward, int(checkpoint.split('-')[-1])))\n",
    "    \n",
    "    print(sorted(ckpt_rank), reverse=True)\n"
   ]
  },
  {
   "cell_type": "code",
   "execution_count": 13,
   "metadata": {
    "ExecuteTime": {
     "end_time": "2018-02-27T05:03:02.285361Z",
     "start_time": "2018-02-27T05:03:02.160240Z"
    }
   },
   "outputs": [
    {
     "name": "stdout",
     "output_type": "stream",
     "text": [
      "[(809.4, 190), (801.8, 270), (757.95, 260), (627.2, 150), (535.5, 280), (532.5, 130), (488.75, 220), (443.9, 400), (434.5, 250), (427.15, 140), (417.95, 340), (405.75, 180), (399.0, 360), (398.15, 350), (394.6, 230), (390.5, 290), (379.05, 210), (376.4, 60), (346.35, 160), (345.3, 300), (342.9, 390), (338.0, 200), (330.6, 100), (318.25, 330), (316.25, 370), (302.8, 320), (294.4, 380), (294.1, 240), (292.65, 50), (290.25, 310), (287.75, 120), (268.85, 80), (258.2, 110), (233.3, 170), (221.4, 90), (216.75, 70), (216.0, 30), (210.8, 40), (205.35, 10), (190.65, 20)]\n"
     ]
    }
   ],
   "source": [
    "print(sorted(ckpt_rank, reverse=True))"
   ]
  }
 ],
 "metadata": {
  "kernelspec": {
   "display_name": "Python 3 (Spyder)",
   "language": "python3",
   "name": "python3"
  },
  "language_info": {
   "codemirror_mode": {
    "name": "ipython",
    "version": 3
   },
   "file_extension": ".py",
   "mimetype": "text/x-python",
   "name": "python",
   "nbconvert_exporter": "python",
   "pygments_lexer": "ipython3",
   "version": "3.6.3"
  },
  "notify_time": "30"
 },
 "nbformat": 4,
 "nbformat_minor": 2
}
