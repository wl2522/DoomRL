{
 "cells": [
  {
   "cell_type": "code",
   "execution_count": 64,
   "metadata": {
    "ExecuteTime": {
     "end_time": "2018-01-07T06:15:09.499619Z",
     "start_time": "2018-01-07T06:15:08.617766Z"
    },
    "collapsed": true,
    "run_control": {
     "frozen": false,
     "read_only": false
    }
   },
   "outputs": [],
   "source": [
    "%matplotlib inline\n",
    "\n",
    "import importlib.util\n",
    "import scipy.misc\n",
    "import time\n",
    "import tensorflow\n",
    "\n",
    "import numpy as np\n",
    "import matplotlib.pyplot as plt\n",
    "\n",
    "#Import the vizdoom package since it can't be installed normally on Windows\n",
    "\n",
    "vizdoom = importlib.util.spec_from_file_location('vizdoom',\n",
    "                                                 'C:/Anaconda3/envs/doom/Lib/site-packages/vizdoom/vizdoom.pyd')\n",
    "vd = importlib.util.module_from_spec(vizdoom)\n",
    "vizdoom.loader.exec_module(vd)\n"
   ]
  },
  {
   "cell_type": "code",
   "execution_count": 65,
   "metadata": {
    "ExecuteTime": {
     "end_time": "2018-01-07T06:16:11.688175Z",
     "start_time": "2018-01-07T06:16:11.684172Z"
    },
    "collapsed": true,
    "run_control": {
     "frozen": false,
     "read_only": false
    }
   },
   "outputs": [],
   "source": [
    "#Normalize and flatten an image array representing the game state at a given time stamp\n",
    "\n",
    "def preprocess(image):\n",
    "    image = image.astype(np.float32)\n",
    "    image /= 255.0\n",
    "    \n",
    "    return image\n",
    "    "
   ]
  },
  {
   "cell_type": "code",
   "execution_count": null,
   "metadata": {
    "collapsed": true
   },
   "outputs": [],
   "source": [
    "#Initialize a new game and specify the scenario and screen format/resolution\n",
    "\n",
    "game = vd.DoomGame()\n",
    "game.set_screen_format(vd.ScreenFormat.BGR24)\n",
    "game.set_screen_resolution(vd.ScreenResolution.RES_640X480)\n",
    "game.load_config('basic.cfg')\n",
    "game.init()\n",
    "\n",
    "#Specify the available actions in the scenario and the parameters\n",
    "\n",
    "shoot = [0, 0, 1]\n",
    "left = [1, 0, 0]\n",
    "right = [0, 1, 0]\n",
    "actions = [left, right, shoot]\n",
    "\n",
    "episodes = 1\n",
    "experience = list()\n",
    "t = 0\n",
    "pretrain_steps = 1000\n"
   ]
  },
  {
   "cell_type": "code",
   "execution_count": 91,
   "metadata": {
    "ExecuteTime": {
     "end_time": "2018-01-07T08:07:28.637841Z",
     "start_time": "2018-01-07T08:06:44.241281Z"
    },
    "run_control": {
     "frozen": false,
     "read_only": false
    },
    "scrolled": true
   },
   "outputs": [
    {
     "name": "stdout",
     "output_type": "stream",
     "text": [
      "Result: -94.0\n",
      "Current Time Step: 160\n",
      "Result: 23.0\n",
      "Current Time Step: 223\n",
      "Result: 95.0\n",
      "Current Time Step: 229\n",
      "Result: -375.0\n",
      "Current Time Step: 529\n",
      "Result: -380.0\n",
      "Current Time Step: 829\n",
      "Result: -390.0\n",
      "Current Time Step: 1129\n",
      "1129\n",
      "1129\n"
     ]
    }
   ],
   "source": [
    "#For each time step, collect the following data:\n",
    "#The current game state\n",
    "#The action that was taken taken\n",
    "#The reward obtained from the chosen action\n",
    "#The next game state (if the episode hasn't ended yet)\n",
    "#A variable indicating whether the episode is over yet\n",
    "\n",
    "#for i in range(episodes):\n",
    "while t < pretrain_steps:\n",
    "    game.new_episode()\n",
    "\n",
    "    while not game.is_episode_finished():\n",
    "        state = game.get_state()\n",
    "        state1 = preprocess(state.screen_buffer)\n",
    "        action = np.random.randint(3)\n",
    "        reward = game.make_action(actions[action])\n",
    "        done = game.is_episode_finished()\n",
    "\n",
    "        if done == False:\n",
    "            state = game.get_state()\n",
    "            state2 = preprocess(state.screen_buffer)\n",
    "        \n",
    "        elif done == True:\n",
    "            state2 = None\n",
    "        \n",
    "        experience.append((state1, action, reward, state2, done))\n",
    "        \n",
    "        #print(\"reward:\", reward)\n",
    "        t += 1\n",
    "        time.sleep(0.02)    \n",
    "    \n",
    "    print(\"Result:\", game.get_total_reward())\n",
    "    print(\"Current Time Step:\", t)\n",
    "    time.sleep(2)\n",
    "\n",
    "print(len(experience))\n",
    "print(t)\n",
    "game.close()\n"
   ]
  },
  {
   "cell_type": "code",
   "execution_count": 71,
   "metadata": {
    "ExecuteTime": {
     "end_time": "2018-01-07T06:17:33.328028Z",
     "start_time": "2018-01-07T06:17:33.325025Z"
    },
    "run_control": {
     "frozen": false,
     "read_only": false
    }
   },
   "outputs": [
    {
     "data": {
      "text/plain": [
       "(480, 640, 3)"
      ]
     },
     "execution_count": 71,
     "metadata": {},
     "output_type": "execute_result"
    }
   ],
   "source": [
    "experience[-2][0].shape"
   ]
  },
  {
   "cell_type": "code",
   "execution_count": 82,
   "metadata": {
    "ExecuteTime": {
     "end_time": "2018-01-07T06:31:33.734418Z",
     "start_time": "2018-01-07T06:31:33.635322Z"
    },
    "run_control": {
     "frozen": false,
     "read_only": false
    },
    "scrolled": true
   },
   "outputs": [
    {
     "data": {
      "text/plain": [
       "<matplotlib.image.AxesImage at 0x24f849ab898>"
      ]
     },
     "execution_count": 82,
     "metadata": {},
     "output_type": "execute_result"
    },
    {
     "data": {
      "image/png": "[encoded data removed]",
      "text/plain": [
       "<matplotlib.figure.Figure at 0x24f84970240>"
      ]
     },
     "metadata": {},
     "output_type": "display_data"
    }
   ],
   "source": [
    "plt.imshow(scipy.misc.imresize(experience[2][0], (60, 80)))"
   ]
  },
  {
   "cell_type": "code",
   "execution_count": 25,
   "metadata": {
    "ExecuteTime": {
     "end_time": "2018-01-07T06:00:27.132225Z",
     "start_time": "2018-01-07T06:00:27.129222Z"
    },
    "run_control": {
     "frozen": false,
     "read_only": false
    },
    "scrolled": true
   },
   "outputs": [
    {
     "data": {
      "text/plain": [
       "1"
      ]
     },
     "execution_count": 25,
     "metadata": {},
     "output_type": "execute_result"
    }
   ],
   "source": [
    "np.random.randint(3)"
   ]
  },
  {
   "cell_type": "code",
   "execution_count": null,
   "metadata": {
    "collapsed": true,
    "run_control": {
     "frozen": false,
     "read_only": false
    }
   },
   "outputs": [],
   "source": []
  }
 ],
 "metadata": {
  "kernelspec": {
   "display_name": "Python 3",
   "language": "python",
   "name": "python3"
  },
  "language_info": {
   "codemirror_mode": {
    "name": "ipython",
    "version": 3
   },
   "file_extension": ".py",
   "mimetype": "text/x-python",
   "name": "python",
   "nbconvert_exporter": "python",
   "pygments_lexer": "ipython3",
   "version": "3.6.3"
  }
 },
 "nbformat": 4,
 "nbformat_minor": 2
}
