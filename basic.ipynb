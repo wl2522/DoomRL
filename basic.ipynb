{
 "cells": [
  {
   "cell_type": "code",
   "execution_count": 1,
   "metadata": {
    "ExecuteTime": {
     "end_time": "2018-01-07T17:14:51.126908Z",
     "start_time": "2018-01-07T17:14:35.567864Z"
    },
    "collapsed": true,
    "run_control": {
     "frozen": false,
     "read_only": false
    }
   },
   "outputs": [],
   "source": [
    "%matplotlib inline\n",
    "\n",
    "import importlib.util\n",
    "import scipy.misc\n",
    "import time\n",
    "import tensorflow as tf\n",
    "\n",
    "import numpy as np\n",
    "import matplotlib.pyplot as plt\n",
    "\n",
    "#Import the vizdoom package since it can't be installed normally on Windows\n",
    "\n",
    "vizdoom = importlib.util.spec_from_file_location('vizdoom',\n",
    "                                                 'C:/Anaconda3/envs/doom/Lib/site-packages/vizdoom/vizdoom.pyd')\n",
    "vd = importlib.util.module_from_spec(vizdoom)\n",
    "vizdoom.loader.exec_module(vd)\n"
   ]
  },
  {
   "cell_type": "code",
   "execution_count": 35,
   "metadata": {
    "ExecuteTime": {
     "end_time": "2018-01-07T17:36:28.713823Z",
     "start_time": "2018-01-07T17:36:28.707817Z"
    },
    "collapsed": true,
    "run_control": {
     "frozen": false,
     "read_only": false
    }
   },
   "outputs": [],
   "source": [
    "#Downsample and normalize an image array representing the game state at a given time stamp\n",
    "\n",
    "def preprocess(image, down_sample_ratio=1):\n",
    "    if down_sample_ratio != 1:\n",
    "        image = scipy.misc.imresize(image, down_sample_ratio)\n",
    "    image = image.astype(np.float32)\n",
    "    image /= 255.0\n",
    "    \n",
    "    return image\n",
    "    "
   ]
  },
  {
   "cell_type": "code",
   "execution_count": 65,
   "metadata": {
    "ExecuteTime": {
     "end_time": "2018-01-07T18:06:34.285668Z",
     "start_time": "2018-01-07T18:06:34.274657Z"
    },
    "run_control": {
     "frozen": false,
     "read_only": false
    }
   },
   "outputs": [
    {
     "data": {
      "text/plain": [
       "True"
      ]
     },
     "execution_count": 65,
     "metadata": {},
     "output_type": "execute_result"
    }
   ],
   "source": [
    "#Specify the available actions in the scenario and the parameters\n",
    "\n",
    "shoot = [0, 0, 1]\n",
    "left = [1, 0, 0]\n",
    "right = [0, 1, 0]\n",
    "actions = [left, right, shoot]\n",
    "\n",
    "episodes = 1\n",
    "experience = list()\n",
    "t = 0\n",
    "pretrain_steps = 10000\n",
    "\n",
    "#Specify the scenario and screen format/resolution\n",
    "\n",
    "game = vd.DoomGame()\n",
    "game.set_screen_format(vd.ScreenFormat.BGR24)\n",
    "game.set_screen_resolution(vd.ScreenResolution.RES_160X120)\n",
    "game.load_config('basic.cfg')\n"
   ]
  },
  {
   "cell_type": "code",
   "execution_count": 71,
   "metadata": {
    "ExecuteTime": {
     "end_time": "2018-01-07T19:07:34.716767Z",
     "start_time": "2018-01-07T19:07:34.663715Z"
    }
   },
   "outputs": [],
   "source": [
    "width = game.get_screen_width()\n",
    "height = game.get_screen_height()\n",
    "channels = game.get_screen_channels()\n",
    "\n",
    "s_t = tf.placeholder(tf.float32, shape=[None, height, width, channels], name='state')\n",
    "a_t = tf.placeholder(tf.int32, shape=[None, len(actions)], name='action')\n",
    "\n",
    "input_layer = tf.reshape(s_t, [-1, height, width, channels], name='input_layer')\n",
    "conv1 = tf.layers.conv2d(inputs=input_layer,\n",
    "                         filters=32,\n",
    "                         kernel_size=[7, 7],\n",
    "                         padding='valid',\n",
    "                         activation=tf.nn.relu,\n",
    "                         name='conv1_layer')\n",
    "\n",
    "conv1_norm = tf.layers.batch_normalization(inputs=conv1,\n",
    "                                           name='conv1_batch_norm')\n",
    "conv2 = tf.layers.conv2d(inputs=conv1,\n",
    "                         filters=64,\n",
    "                         kernel_size=[4, 4],\n",
    "                         padding='valid',\n",
    "                         activation=tf.nn.relu,\n",
    "                         name='conv2_layer')\n",
    "conv2_norm = tf.layers.batch_normalization(inputs=conv2,\n",
    "                                           name='conv2_batch_norm')\n",
    "\n",
    "flatten = tf.reshape(conv2_norm, [-1, height*width*channels], name='flatten')\n",
    "dense1 = tf.layers.dense(inputs=flatten,\n",
    "                         units=512,\n",
    "                         activation=tf.nn.relu,\n",
    "                         name='dense1_layer')\n",
    "dense1_norm = tf.layers.batch_normalization(inputs=dense1,\n",
    "                                            name='dense1_batch_norm')\n"
   ]
  },
  {
   "cell_type": "code",
   "execution_count": 61,
   "metadata": {
    "ExecuteTime": {
     "end_time": "2018-01-07T18:05:10.770011Z",
     "start_time": "2018-01-07T18:05:05.353513Z"
    },
    "run_control": {
     "frozen": false,
     "read_only": false
    },
    "scrolled": true
   },
   "outputs": [
    {
     "name": "stdout",
     "output_type": "stream",
     "text": [
      "Result: -49.0\n",
      "Current Time Step: 120\n",
      "120\n",
      "120\n"
     ]
    }
   ],
   "source": [
    "#For each time step, collect the following data:\n",
    "#The current game state\n",
    "#The action that was taken taken\n",
    "#The reward obtained from the chosen action\n",
    "#The next game state (if the episode hasn't ended yet)\n",
    "#A variable indicating whether the episode is over yet\n",
    "\n",
    "game.init()\n",
    "\n",
    "for i in range(episodes):\n",
    "#while t < pretrain_steps:\n",
    "    game.new_episode()\n",
    "\n",
    "    while not game.is_episode_finished():\n",
    "        state = game.get_state()\n",
    "        state1 = preprocess(state.screen_buffer, 0.5)\n",
    "        action = np.random.randint(3)\n",
    "        reward = game.make_action(actions[action])\n",
    "        done = game.is_episode_finished()\n",
    "\n",
    "        if done == False:\n",
    "            state = game.get_state()\n",
    "            state2 = preprocess(state.screen_buffer, 0.5)\n",
    "        \n",
    "        elif done == True:\n",
    "            state2 = None\n",
    "        \n",
    "        experience.append((state1, action, reward, state2, done))\n",
    "        t += 1\n",
    "        time.sleep(0.02)    \n",
    "    \n",
    "    print(\"Result:\", game.get_total_reward())\n",
    "    print(\"Current Time Step:\", t)\n",
    "    time.sleep(2)\n",
    "\n",
    "print(len(experience))\n",
    "print(t)\n",
    "game.close()\n"
   ]
  },
  {
   "cell_type": "code",
   "execution_count": 64,
   "metadata": {
    "ExecuteTime": {
     "end_time": "2018-01-07T18:06:26.602845Z",
     "start_time": "2018-01-07T18:06:26.513331Z"
    },
    "run_control": {
     "frozen": false,
     "read_only": false
    }
   },
   "outputs": [
    {
     "data": {
      "text/plain": [
       "<matplotlib.image.AxesImage at 0x21902433710>"
      ]
     },
     "execution_count": 64,
     "metadata": {},
     "output_type": "execute_result"
    },
    {
     "data": {
      "image/png": "[encoded data removed]",
      "text/plain": [
       "<matplotlib.figure.Figure at 0x219023df358>"
      ]
     },
     "metadata": {},
     "output_type": "display_data"
    }
   ],
   "source": [
    "plt.imshow(experience[2][0])"
   ]
  },
  {
   "cell_type": "code",
   "execution_count": 21,
   "metadata": {
    "ExecuteTime": {
     "end_time": "2018-01-07T17:24:21.338315Z",
     "start_time": "2018-01-07T17:24:21.243223Z"
    },
    "run_control": {
     "frozen": false,
     "read_only": false
    },
    "scrolled": true
   },
   "outputs": [
    {
     "data": {
      "text/plain": [
       "<matplotlib.image.AxesImage at 0x21a82d5add8>"
      ]
     },
     "execution_count": 21,
     "metadata": {},
     "output_type": "execute_result"
    },
    {
     "data": {
      "image/png": "[encoded data removed]",
      "text/plain": [
       "<matplotlib.figure.Figure at 0x21a83218470>"
      ]
     },
     "metadata": {},
     "output_type": "display_data"
    }
   ],
   "source": [
    "plt.imshow(scipy.misc.imresize(experience[2][0], (game.get_screen_height()//8, game.get_screen_width()//8)))"
   ]
  },
  {
   "cell_type": "code",
   "execution_count": 46,
   "metadata": {
    "ExecuteTime": {
     "end_time": "2018-01-07T17:48:11.196920Z",
     "start_time": "2018-01-07T17:48:11.193917Z"
    },
    "run_control": {
     "frozen": false,
     "read_only": false
    },
    "scrolled": true
   },
   "outputs": [
    {
     "data": {
      "text/plain": [
       "(60, 80, 3)"
      ]
     },
     "execution_count": 46,
     "metadata": {},
     "output_type": "execute_result"
    }
   ],
   "source": [
    "state.screen_buffer[::2, ::2, :].shape"
   ]
  },
  {
   "cell_type": "code",
   "execution_count": 55,
   "metadata": {
    "ExecuteTime": {
     "end_time": "2018-01-07T17:49:12.837622Z",
     "start_time": "2018-01-07T17:49:12.753540Z"
    },
    "run_control": {
     "frozen": false,
     "read_only": false
    }
   },
   "outputs": [
    {
     "data": {
      "text/plain": [
       "<matplotlib.image.AxesImage at 0x21902370e80>"
      ]
     },
     "execution_count": 55,
     "metadata": {},
     "output_type": "execute_result"
    },
    {
     "data": {
      "image/png": "[encoded data removed]",
      "text/plain": [
       "<matplotlib.figure.Figure at 0x21902255198>"
      ]
     },
     "metadata": {},
     "output_type": "display_data"
    }
   ],
   "source": [
    "plt.imshow(state.screen_buffer[::2, ::2, :])"
   ]
  }
 ],
 "metadata": {
  "kernelspec": {
   "display_name": "Python 3",
   "language": "python",
   "name": "python3"
  },
  "language_info": {
   "codemirror_mode": {
    "name": "ipython",
    "version": 3
   },
   "file_extension": ".py",
   "mimetype": "text/x-python",
   "name": "python",
   "nbconvert_exporter": "python",
   "pygments_lexer": "ipython3",
   "version": "3.6.3"
  }
 },
 "nbformat": 4,
 "nbformat_minor": 2
}
