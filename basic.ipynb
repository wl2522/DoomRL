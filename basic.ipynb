{
 "cells": [
  {
   "cell_type": "code",
   "execution_count": 1,
   "metadata": {
    "ExecuteTime": {
     "end_time": "2018-01-07T17:14:51.126908Z",
     "start_time": "2018-01-07T17:14:35.567864Z"
    },
    "collapsed": true,
    "run_control": {
     "frozen": false,
     "read_only": false
    }
   },
   "outputs": [],
   "source": [
    "%matplotlib inline\n",
    "\n",
    "import importlib.util\n",
    "import scipy.misc\n",
    "import time\n",
    "import tensorflow as tf\n",
    "\n",
    "import numpy as np\n",
    "import matplotlib.pyplot as plt\n",
    "\n",
    "#Import the vizdoom package since it can't be installed normally on Windows\n",
    "\n",
    "vizdoom = importlib.util.spec_from_file_location('vizdoom',\n",
    "                                                 'C:/Anaconda3/envs/doom/Lib/site-packages/vizdoom/vizdoom.pyd')\n",
    "vd = importlib.util.module_from_spec(vizdoom)\n",
    "vizdoom.loader.exec_module(vd)\n"
   ]
  },
  {
   "cell_type": "code",
   "execution_count": 170,
   "metadata": {
    "ExecuteTime": {
     "end_time": "2018-01-09T02:50:20.723065Z",
     "start_time": "2018-01-09T02:50:20.697040Z"
    },
    "collapsed": true
   },
   "outputs": [],
   "source": [
    "class Buffer():\n",
    "    def __init__(self, size=1000):\n",
    "        self.buffer = list()\n",
    "        self.size = size\n",
    "        \n",
    "    def add_experience(self, experiences):\n",
    "        if len(self.buffer) + len(experiences) >= self.size:\n",
    "            self.buffer[0:(len(self.buffer) + len(experiences)) - self.size] = []\n",
    "        \n",
    "        self.buffer.append(experiences)\n",
    "            \n",
    "    def sample_buffer(self, sample_size):\n",
    "        sample_idx = np.random.randint(len(self.buffer), size=sample_size)\n",
    "        sample = [self.buffer[idx] for idx in sample_idx]\n",
    "        \n",
    "        return sample\n",
    "\n",
    "#Downsample and normalize an image array representing the game state at a given time stamp\n",
    "\n",
    "def preprocess(image, down_sample_ratio=1):\n",
    "    if down_sample_ratio != 1:\n",
    "        image = scipy.misc.imresize(image, down_sample_ratio)\n",
    "    image = image.astype(np.float32)\n",
    "    image /= 255.0\n",
    "    \n",
    "    return image\n",
    "    "
   ]
  },
  {
   "cell_type": "code",
   "execution_count": 171,
   "metadata": {
    "ExecuteTime": {
     "end_time": "2018-01-09T02:50:23.944140Z",
     "start_time": "2018-01-09T02:50:23.932129Z"
    },
    "run_control": {
     "frozen": false,
     "read_only": false
    }
   },
   "outputs": [
    {
     "data": {
      "text/plain": [
       "True"
      ]
     },
     "execution_count": 171,
     "metadata": {},
     "output_type": "execute_result"
    }
   ],
   "source": [
    "#Specify the available actions in the scenario and the parameters\n",
    "\n",
    "shoot = [0, 0, 1]\n",
    "left = [1, 0, 0]\n",
    "right = [0, 1, 0]\n",
    "actions = [left, right, shoot]\n",
    "\n",
    "episodes = 100\n",
    "experience = list()\n",
    "t = 0\n",
    "pretrain_steps = 200\n",
    "exp_buffer = Buffer(size=1000)\n",
    "\n",
    "#Specify the scenario and screen format/resolution\n",
    "\n",
    "game = vd.DoomGame()\n",
    "game.set_screen_format(vd.ScreenFormat.BGR24)\n",
    "game.set_screen_resolution(vd.ScreenResolution.RES_160X120)\n",
    "game.load_config('basic.cfg')\n"
   ]
  },
  {
   "cell_type": "code",
   "execution_count": 172,
   "metadata": {
    "ExecuteTime": {
     "end_time": "2018-01-09T02:50:25.936056Z",
     "start_time": "2018-01-09T02:50:25.819946Z"
    }
   },
   "outputs": [],
   "source": [
    "tf.reset_default_graph()\n",
    "\n",
    "width = game.get_screen_width()\n",
    "height = game.get_screen_height()\n",
    "channels = game.get_screen_channels()\n",
    "\n",
    "s_t = tf.placeholder(tf.float32, shape=[None, height, width, channels], name='state')\n",
    "a_t = tf.placeholder(tf.int32, shape=[None, len(actions)], name='action')\n",
    "\n",
    "input_layer = tf.reshape(s_t, [-1, height, width, channels], name='input_layer')\n",
    "conv1 = tf.layers.conv2d(inputs=input_layer,\n",
    "                         filters=32,\n",
    "                         kernel_size=[7, 7],\n",
    "                         padding='valid',\n",
    "                         activation=tf.nn.relu,\n",
    "                         name='conv1_layer')\n",
    "\n",
    "conv1_norm = tf.layers.batch_normalization(inputs=conv1,\n",
    "                                           name='conv1_batch_norm')\n",
    "conv2 = tf.layers.conv2d(inputs=conv1,\n",
    "                         filters=64,\n",
    "                         kernel_size=[4, 4],\n",
    "                         padding='valid',\n",
    "                         activation=tf.nn.relu,\n",
    "                         name='conv2_layer')\n",
    "conv2_norm = tf.layers.batch_normalization(inputs=conv2,\n",
    "                                           name='conv2_batch_norm')\n",
    "\n",
    "flatten = tf.reshape(conv2_norm, [-1, height*width*channels], name='flatten')\n",
    "dense1 = tf.layers.dense(inputs=flatten,\n",
    "                         units=512,\n",
    "                         activation=tf.nn.relu,\n",
    "                         name='dense1_layer')\n",
    "dense1_norm = tf.layers.batch_normalization(inputs=dense1,\n",
    "                                            name='dense1_batch_norm')\n"
   ]
  },
  {
   "cell_type": "code",
   "execution_count": 173,
   "metadata": {
    "ExecuteTime": {
     "end_time": "2018-01-09T02:50:40.260074Z",
     "start_time": "2018-01-09T02:50:28.564623Z"
    },
    "run_control": {
     "frozen": false,
     "read_only": false
    },
    "scrolled": true
   },
   "outputs": [
    {
     "name": "stdout",
     "output_type": "stream",
     "text": [
      "Result: 95.0\n",
      "Current Time Step: 6\n",
      "Result: -385.0\n",
      "Current Time Step: 306\n",
      "0\n",
      "306\n"
     ]
    }
   ],
   "source": [
    "#For each time step, collect the following data:\n",
    "#The current game state\n",
    "#The action that was taken taken\n",
    "#The reward obtained from the chosen action\n",
    "#The next game state (if the episode hasn't ended yet)\n",
    "#A variable indicating whether the episode is over yet\n",
    "\n",
    "game.init()\n",
    "\n",
    "#for i in range(episodes):\n",
    "while t < pretrain_steps:\n",
    "    game.new_episode()\n",
    "\n",
    "    while not game.is_episode_finished():\n",
    "        state = game.get_state()\n",
    "        state1 = preprocess(state.screen_buffer, 0.5)\n",
    "        action = np.random.randint(3)\n",
    "        reward = game.make_action(actions[action])\n",
    "        done = game.is_episode_finished()\n",
    "\n",
    "        if done == False:\n",
    "            state = game.get_state()\n",
    "            state2 = preprocess(state.screen_buffer, 0.5)\n",
    "        \n",
    "        elif done == True:\n",
    "            state2 = None\n",
    "        \n",
    "        exp_buffer.add_experience((state1, action, reward, state2, done))\n",
    "        t += 1\n",
    "        time.sleep(0.02)    \n",
    "    \n",
    "    print(\"Result:\", game.get_total_reward())\n",
    "    print(\"Current Time Step:\", t)\n",
    "    time.sleep(2)\n",
    "\n",
    "print(len(experience))\n",
    "print(t)\n",
    "\n",
    "game.close()\n"
   ]
  },
  {
   "cell_type": "code",
   "execution_count": 180,
   "metadata": {
    "ExecuteTime": {
     "end_time": "2018-01-09T02:51:26.829242Z",
     "start_time": "2018-01-09T02:51:26.822235Z"
    },
    "run_control": {
     "frozen": false,
     "read_only": false
    },
    "scrolled": true
   },
   "outputs": [
    {
     "data": {
      "text/plain": [
       "(array([[[ 0.24313726,  0.24313726,  0.24313726],\n",
       "         [ 0.2       ,  0.2       ,  0.2       ],\n",
       "         [ 0.18039216,  0.18039216,  0.18039216],\n",
       "         ..., \n",
       "         [ 0.23921569,  0.23921569,  0.23921569],\n",
       "         [ 0.19215687,  0.19215687,  0.19215687],\n",
       "         [ 0.17647059,  0.17647059,  0.17647059]],\n",
       " \n",
       "        [[ 0.20784314,  0.20784314,  0.20784314],\n",
       "         [ 0.24705882,  0.24705882,  0.24705882],\n",
       "         [ 0.19607843,  0.19607843,  0.19607843],\n",
       "         ..., \n",
       "         [ 0.16862746,  0.16862746,  0.16862746],\n",
       "         [ 0.14509805,  0.14509805,  0.14509805],\n",
       "         [ 0.17647059,  0.17647059,  0.17647059]],\n",
       " \n",
       "        [[ 0.22745098,  0.22745098,  0.22745098],\n",
       "         [ 0.25490198,  0.25490198,  0.25490198],\n",
       "         [ 0.28627452,  0.28627452,  0.28627452],\n",
       "         ..., \n",
       "         [ 0.25098041,  0.25098041,  0.25098041],\n",
       "         [ 0.25490198,  0.25490198,  0.25490198],\n",
       "         [ 0.26274511,  0.26274511,  0.26274511]],\n",
       " \n",
       "        ..., \n",
       "        [[ 0.43137255,  0.43137255,  0.43137255],\n",
       "         [ 0.34901962,  0.34901962,  0.34901962],\n",
       "         [ 0.41568628,  0.41568628,  0.41568628],\n",
       "         ..., \n",
       "         [ 0.98823529,  0.98823529,  0.44705883],\n",
       "         [ 0.63529414,  0.63529414,  0.36078432],\n",
       "         [ 0.25882354,  0.25882354,  0.25882354]],\n",
       " \n",
       "        [[ 0.41960785,  0.41960785,  0.41960785],\n",
       "         [ 0.36078432,  0.36078432,  0.36078432],\n",
       "         [ 0.34117648,  0.34117648,  0.34117648],\n",
       "         ..., \n",
       "         [ 0.90196079,  0.90196079,  0.42352942],\n",
       "         [ 0.58039218,  0.58039218,  0.34117648],\n",
       "         [ 0.25098041,  0.25098041,  0.25098041]],\n",
       " \n",
       "        [[ 0.36862746,  0.36862746,  0.36862746],\n",
       "         [ 0.27450982,  0.27450982,  0.27450982],\n",
       "         [ 0.22352941,  0.22352941,  0.22352941],\n",
       "         ..., \n",
       "         [ 0.28627452,  0.28627452,  0.20784314],\n",
       "         [ 0.23921569,  0.23921569,  0.2       ],\n",
       "         [ 0.20784314,  0.20784314,  0.20784314]]], dtype=float32),\n",
       " 0,\n",
       " -1.0,\n",
       " array([[[ 0.24705882,  0.24705882,  0.24705882],\n",
       "         [ 0.22745098,  0.22745098,  0.22745098],\n",
       "         [ 0.1882353 ,  0.1882353 ,  0.1882353 ],\n",
       "         ..., \n",
       "         [ 0.24705882,  0.24705882,  0.24705882],\n",
       "         [ 0.21568628,  0.21568628,  0.21568628],\n",
       "         [ 0.18039216,  0.18039216,  0.18039216]],\n",
       " \n",
       "        [[ 0.17647059,  0.17647059,  0.17647059],\n",
       "         [ 0.22745098,  0.22745098,  0.22745098],\n",
       "         [ 0.22352941,  0.22352941,  0.22352941],\n",
       "         ..., \n",
       "         [ 0.19607843,  0.19607843,  0.19607843],\n",
       "         [ 0.15294118,  0.15294118,  0.15294118],\n",
       "         [ 0.14901961,  0.14901961,  0.14901961]],\n",
       " \n",
       "        [[ 0.23529412,  0.23529412,  0.23529412],\n",
       "         [ 0.23529412,  0.23529412,  0.23529412],\n",
       "         [ 0.27843139,  0.27843139,  0.27843139],\n",
       "         ..., \n",
       "         [ 0.24313726,  0.24313726,  0.24313726],\n",
       "         [ 0.25490198,  0.25490198,  0.25490198],\n",
       "         [ 0.25098041,  0.25098041,  0.25098041]],\n",
       " \n",
       "        ..., \n",
       "        [[ 0.43137255,  0.43137255,  0.43137255],\n",
       "         [ 0.34901962,  0.34901962,  0.34901962],\n",
       "         [ 0.41568628,  0.41568628,  0.41568628],\n",
       "         ..., \n",
       "         [ 0.98823529,  0.98823529,  0.44705883],\n",
       "         [ 0.63529414,  0.63529414,  0.36078432],\n",
       "         [ 0.25882354,  0.25882354,  0.25882354]],\n",
       " \n",
       "        [[ 0.41960785,  0.41960785,  0.41960785],\n",
       "         [ 0.36078432,  0.36078432,  0.36078432],\n",
       "         [ 0.34117648,  0.34117648,  0.34117648],\n",
       "         ..., \n",
       "         [ 0.90196079,  0.90196079,  0.42352942],\n",
       "         [ 0.58039218,  0.58039218,  0.34117648],\n",
       "         [ 0.25098041,  0.25098041,  0.25098041]],\n",
       " \n",
       "        [[ 0.36862746,  0.36862746,  0.36862746],\n",
       "         [ 0.27450982,  0.27450982,  0.27450982],\n",
       "         [ 0.22352941,  0.22352941,  0.22352941],\n",
       "         ..., \n",
       "         [ 0.28627452,  0.28627452,  0.20784314],\n",
       "         [ 0.23921569,  0.23921569,  0.2       ],\n",
       "         [ 0.20784314,  0.20784314,  0.20784314]]], dtype=float32),\n",
       " False)"
      ]
     },
     "execution_count": 180,
     "metadata": {},
     "output_type": "execute_result"
    }
   ],
   "source": [
    "exp_buffer.sample_buffer(3)[0]"
   ]
  },
  {
   "cell_type": "code",
   "execution_count": 122,
   "metadata": {
    "ExecuteTime": {
     "end_time": "2018-01-09T02:28:28.860952Z",
     "start_time": "2018-01-09T02:28:28.773868Z"
    },
    "run_control": {
     "frozen": false,
     "read_only": false
    }
   },
   "outputs": [
    {
     "data": {
      "text/plain": [
       "<matplotlib.image.AxesImage at 0x2190ab2be48>"
      ]
     },
     "execution_count": 122,
     "metadata": {},
     "output_type": "execute_result"
    },
    {
     "data": {
      "image/png": "[encoded data removed]",
      "text/plain": [
       "<matplotlib.figure.Figure at 0x21a82d8a860>"
      ]
     },
     "metadata": {},
     "output_type": "display_data"
    }
   ],
   "source": [
    "plt.imshow(experience[2][0])"
   ]
  },
  {
   "cell_type": "code",
   "execution_count": 55,
   "metadata": {
    "ExecuteTime": {
     "end_time": "2018-01-07T17:49:12.837622Z",
     "start_time": "2018-01-07T17:49:12.753540Z"
    },
    "run_control": {
     "frozen": false,
     "read_only": false
    }
   },
   "outputs": [
    {
     "data": {
      "text/plain": [
       "<matplotlib.image.AxesImage at 0x21902370e80>"
      ]
     },
     "execution_count": 55,
     "metadata": {},
     "output_type": "execute_result"
    },
    {
     "data": {
      "image/png": "[encoded data removed]",
      "text/plain": [
       "<matplotlib.figure.Figure at 0x21902255198>"
      ]
     },
     "metadata": {},
     "output_type": "display_data"
    }
   ],
   "source": [
    "plt.imshow(state.screen_buffer[::2, ::2, :])"
   ]
  }
 ],
 "metadata": {
  "kernelspec": {
   "display_name": "Python 3",
   "language": "python",
   "name": "python3"
  },
  "language_info": {
   "codemirror_mode": {
    "name": "ipython",
    "version": 3
   },
   "file_extension": ".py",
   "mimetype": "text/x-python",
   "name": "python",
   "nbconvert_exporter": "python",
   "pygments_lexer": "ipython3",
   "version": "3.6.3"
  }
 },
 "nbformat": 4,
 "nbformat_minor": 2
}
